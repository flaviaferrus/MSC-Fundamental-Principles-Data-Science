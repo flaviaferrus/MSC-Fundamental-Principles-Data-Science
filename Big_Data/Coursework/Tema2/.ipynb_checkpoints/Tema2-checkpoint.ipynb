{
 "cells": [
  {
   "cell_type": "markdown",
   "id": "f776b19b-96bd-4088-849b-cb51171fd901",
   "metadata": {},
   "source": [
    "# Virtual machines \n",
    "\n",
    "In cloud they talk about VCP and not CPU. \n",
    "\n",
    "Virtual machine characteristics\n",
    "- They create an isolated environment from the host machine\n",
    "- Multiple virtual machines can run simultaneously on the same physical computer.\n",
    "- Ideal for testing software\n",
    "- Each virtual machine has its own virtual hardware (CPU,MEM,Disk...)\n",
    "- Reducing the need for physical hardware and associated maintenance\n",
    "- Reduces power and cooling demand\n",
    "- Hardware fail tolerance\n",
    "\n",
    "Because of Virtual Machines Cloud is possible, it would not be possible without them. \n",
    "\n",
    "# Computer Network\n",
    "\n",
    "A computer network is any set of computers or devices connected to each other with the ability to exchange data.\n",
    "\n",
    "By typing the `ping Google.com` we get the google.com public IP: which is the ??\n",
    "- 10. something is a private IP\n",
    "\n",
    "# Cloud computing\n",
    "\n",
    "Instead of computing on local we compute on the Cloud. Cloud is a virtual machine defined online. If we want to create a Cloud we need a network of centers. \n",
    "\n",
    "Cloud Computing solves some problems:\n",
    "- We used to have One big server with many virtual OS for different use cases before Cloud. Rack of servers put together to serve your organization needs.\n",
    "\n",
    "To create a Cloud, we create a platform over internet. \n",
    "\n",
    "Cloud computing promotes cloud based services\n",
    "- SaaS - Software as a service\n",
    "- PaaS – Platform as a service\n",
    "- IaaS – Infrastructure as a service\n",
    "\n",
    "## IAAS\n",
    "\n",
    "## PAAS\n",
    "\n",
    "Is a platform we can use to build something. Platform as a service (PaaS) is a complete  development and deployment environment in the cloud, with resources that enable you to deliver everything from simple cloud-based apps to sophisticated, cloud-enabled enterprise applications. You purchase the resources you need from a cloud service provider on a pay-as-you-go basis and access them over a secure Internet connection.\n",
    "\n",
    "## SAAS\n",
    "\n",
    "Like GoogleDocs. We can build something as a SaaS and people can use it. iCloud, Netflix are some examples of SaaS. "
   ]
  },
  {
   "cell_type": "markdown",
   "id": "500bece6-98c4-4c21-ad4f-5b780ade84cb",
   "metadata": {},
   "source": [
    "# Azure\n",
    "\n",
    "We can write commands on the command office. Not everything can be done to programming ABS. We can upload data by typing or by using an interface. It has some interfaces in different programming languages, such as Python. We may create a Virtual Machine. çç\n",
    "\n",
    "When the message pops up we should Download, and the pip file is downloaded. Then we need a program or software to download the document: `Download Putty` but from the terminal with Mac and Ubuntu is available and no additional software is needed. \n",
    "\n",
    "Always remember to Stop the VM, because otherwise they keep charging you!\n",
    "\n",
    "https://portal.azure.com/#view/Microsoft_Azure_CostManagement/Menu/~/costanalysis/openedBy/AzurePortal"
   ]
  },
  {
   "cell_type": "markdown",
   "id": "5595201e-06d2-4972-8dca-cf61f7597e7d",
   "metadata": {},
   "source": [
    "# Docker\n",
    "\n",
    "Docker is a tool that allows developers to easily deploy their applications in a Sandbox (container). \n",
    " \n",
    "- Virtual Machines are good isolation but a higher computational overhead (it requires more volume, it is heavy)\n",
    "- Conteiners: take a different approach: by leveraging the low-level mechanics of the host operating system, containers provide most of the isolation of virtual machines at a fractio of the computer power. It is a trained approach to give us isolated environments. \n",
    "    - Everything in a container is an app\n",
    "    - They are slim\n",
    "    - Docker enables developers to easily pack, ship, and run any application as a lightweight, ortable, self-sufficient container, which can run virtually anywhere. When we create a container we then define all the dependencies. We can create an isolated app, and send it to others to use it, with any dependency. \n",
    "    - It makes CI/CD very easy (CI/CD pipelines are ?)\n",
    "    - Using orchestration tools like Kubernetes they make scalability much easy and fast on cloud. \n",
    "    \n",
    "## Docker Engine\n",
    "\n",
    "- Server\n",
    "- REST API\n",
    "- A command line interface (CLI) client (the docker command) \n",
    "\n",
    "## Docker architecture\n",
    "\n",
    "Docker client $\\rightarrow$ Host $\\iff$ Docker Registry\n",
    "\n",
    "Docker image has like the java classes. We have to create an account in DockerHub to save our images. \n",
    "\n",
    "- Docker images\n",
    "- Docker containers \n",
    "\n",
    "When we run on the terminel `docker run busybox` it starts out and sets down a container. When running `docker run busybox echo \"Hello world\"` we create a message as an output from the terminal. \n",
    "- `docker run busybox pwd`\n",
    "- `docker run busybox ls`\n",
    "- `docker ps -a` we see all the containers running and exited (without the `-a` we have all the running containers, created by a `docker run`) "
   ]
  },
  {
   "cell_type": "markdown",
   "id": "ff45ae1e-4360-46e6-bd5a-b04726cb5b2e",
   "metadata": {},
   "source": [
    "# Tema 3: Docker \n",
    "\n",
    "- `docker rm $(docker ps -a -q -f status=exited)`: shows all the containers excited, and is giving all the ID's. `docker rm` removing containers.  \n",
    "- `docker system prune`: to stop all the exited containers (as well as the previous command, but easier way to do it)\n",
    "- `docker run -p 8888:8888`. "
   ]
  }
 ],
 "metadata": {
  "kernelspec": {
   "display_name": "Python 3 (ipykernel)",
   "language": "python",
   "name": "python3"
  },
  "language_info": {
   "codemirror_mode": {
    "name": "ipython",
    "version": 3
   },
   "file_extension": ".py",
   "mimetype": "text/x-python",
   "name": "python",
   "nbconvert_exporter": "python",
   "pygments_lexer": "ipython3",
   "version": "3.9.7"
  }
 },
 "nbformat": 4,
 "nbformat_minor": 5
}
