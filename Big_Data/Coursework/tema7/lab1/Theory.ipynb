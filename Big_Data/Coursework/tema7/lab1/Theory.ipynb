{
 "cells": [
  {
   "cell_type": "markdown",
   "id": "a17216a3-67a0-4f15-b3f3-a0537949e13c",
   "metadata": {},
   "source": [
    "## RDD Fault tolerance\n",
    "\n",
    "Assume we start with these 4 partitions, because spark remembers how the data is created it can recreate the partitions. Tt does not remember scates?\n",
    "\n",
    "There is an issue on this approach:\n",
    "- Since it does not remember data, it only remembers the steps, we would need to store the RDD 2 in memory, from the Example of RDD lieange, so we do not have to export the data and transform it again each time\n",
    "\n",
    "## External data source\n",
    "\n",
    "- Read from a textFile\n",
    "\n",
    "## RDD transformations\n",
    "\n",
    "Everything in RDD is either a transformation or an action. \n",
    "\n",
    "### Example\n",
    "\n",
    "We get an error file, which has the form seen on the slide. \n",
    "- Filter is a transformation, getting just the error lines\n",
    "- Coalesce is a transformation\n",
    "- Count() is an action on the data\n",
    "- Collect() action gives us the whole data. We usually do not collect. \n",
    "When an action happens, then all the transformation happen, not until that moment. \n",
    "\n",
    "### Simple RDD transformations\n",
    "\n",
    "- map functions apply to all of the rows of the data. \n",
    "    - mappartition applies the function to a partition from the dataset\n",
    "\n",
    "### Key Value pairRDD\n",
    "\n",
    "If we have a input file (server log file), and we read it, and then we split it by , thus we get a pairRDD with the keys and the values (like a dict). \n",
    "\n",
    "## RDD Actions\n",
    "\n",
    "There is an action we can do in python but we cannot do in RDD: there is no concept of index, we cannot do a full loop on the indexs of the rows or cols. No indexs are used, we would need to apply the map function. "
   ]
  },
  {
   "cell_type": "markdown",
   "id": "530545df-4cfc-435a-9114-6d6a37769797",
   "metadata": {},
   "source": [
    "docker pull jupyter/all-spark-notebook\n",
    "\n",
    "docker run -p 8888:8888 -v /Users/flaviaferrusmarimon/UB/FPDS/Big Data/tema7/lab1 jupyter/all-spark-notebook\n",
    "long command!!\n",
    "\n",
    "Then we open the notebook interface, then we upload the notebook on the interface. "
   ]
  }
 ],
 "metadata": {
  "kernelspec": {
   "display_name": "Python 3 (ipykernel)",
   "language": "python",
   "name": "python3"
  },
  "language_info": {
   "codemirror_mode": {
    "name": "ipython",
    "version": 3
   },
   "file_extension": ".py",
   "mimetype": "text/x-python",
   "name": "python",
   "nbconvert_exporter": "python",
   "pygments_lexer": "ipython3",
   "version": "3.9.7"
  }
 },
 "nbformat": 4,
 "nbformat_minor": 5
}
