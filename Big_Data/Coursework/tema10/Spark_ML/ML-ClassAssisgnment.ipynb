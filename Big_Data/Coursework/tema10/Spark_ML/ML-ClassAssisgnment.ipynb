{
 "cells": [
  {
   "cell_type": "markdown",
   "id": "ffef7f08-9b23-4bec-9d73-dc6ad0ce983a",
   "metadata": {},
   "source": [
    "### Create a model to predict the flight delay over 15 minutes (ARR_DEL15) \n"
   ]
  },
  {
   "cell_type": "code",
   "execution_count": 1,
   "id": "422a8fc4-0da1-46b8-a9ce-e53c48c70093",
   "metadata": {},
   "outputs": [],
   "source": [
    "from pyspark.sql import SparkSession\n",
    "\n",
    "spark = SparkSession \\\n",
    "    .builder \\\n",
    "    .appName(\"Python Spark ML Class Assisgnment\") \\\n",
    "    .getOrCreate()"
   ]
  },
  {
   "cell_type": "code",
   "execution_count": 2,
   "id": "1bf1de1d-7eeb-42de-8bb5-9921c413cd41",
   "metadata": {},
   "outputs": [],
   "source": [
    "# read the file\n",
    "from pyspark.sql.types import StructType, StructField, IntegerType, StringType, DoubleType, TimestampType\n",
    "df = (spark.read.format(\"csv\").\n",
    "  option(\"header\", \"true\").\n",
    "  option(\"nullValue\", \"NA\").\n",
    "  option(\"inferSchema\", True).\n",
    "  load(\"flight_weather_small.csv\"))"
   ]
  },
  {
   "cell_type": "markdown",
   "id": "e0e3875d-c794-4f48-98fd-c6b57c5deb55",
   "metadata": {},
   "source": [
    "In this dataset,\n",
    "\n",
    "ARR_DEL15 : 1 when the flight is delayed over 15 minutes, 0 otherwise.\n",
    "XXXOrigin : Weather conditions in departure airport.\n",
    "XXXDest : Weather conditions in destination airport."
   ]
  },
  {
   "cell_type": "code",
   "execution_count": 3,
   "id": "9bcfb8df-6f9a-4f64-bd8f-2d6433b8895d",
   "metadata": {},
   "outputs": [
    {
     "name": "stdout",
     "output_type": "stream",
     "text": [
      "+---+----+-----+------------+-----------+----------+--------------+--------+------+-----------------+------+----------------+---------------+----+--------------+------------+--------+---------+-------------+---------+---------------+--------+----------+---------+-------+------------+--------+---------+-------------+---------+---------------+---------+-----------------+--------+----------------+-------------------+--------+-------+--------+--------------+-------------+-------------+---------+--------------+-------------------+----+----------------+--------------------+---------------------+----------------------+----------------+----------------+--------------+------------------+-------------------+--------------------+----------------+----------------+\n",
      "|X.1|YEAR|MONTH|DAY_OF_MONTH|DAY_OF_WEEK|   FL_DATE|UNIQUE_CARRIER|TAIL_NUM|FL_NUM|ORIGIN_AIRPORT_ID|ORIGIN|ORIGIN_STATE_ABR|DEST_AIRPORT_ID|DEST|DEST_STATE_ABR|CRS_DEP_TIME|DEP_TIME|DEP_DELAY|DEP_DELAY_NEW|DEP_DEL15|DEP_DELAY_GROUP|TAXI_OUT|WHEELS_OFF|WHEELS_ON|TAXI_IN|CRS_ARR_TIME|ARR_TIME|ARR_DELAY|ARR_DELAY_NEW|ARR_DEL15|ARR_DELAY_GROUP|CANCELLED|CANCELLATION_CODE|DIVERTED|CRS_ELAPSED_TIME|ACTUAL_ELAPSED_TIME|AIR_TIME|FLIGHTS|DISTANCE|DISTANCE_GROUP|CARRIER_DELAY|WEATHER_DELAY|NAS_DELAY|SECURITY_DELAY|LATE_AIRCRAFT_DELAY|   X|VisibilityOrigin|DryBulbCelsiusOrigin|DewPointCelsiusOrigin|RelativeHumidityOrigin| WindSpeedOrigin| AltimeterOrigin|VisibilityDest|DryBulbCelsiusDest|DewPointCelsiusDest|RelativeHumidityDest|   WindSpeedDest|   AltimeterDest|\n",
      "+---+----+-----+------------+-----------+----------+--------------+--------+------+-----------------+------+----------------+---------------+----+--------------+------------+--------+---------+-------------+---------+---------------+--------+----------+---------+-------+------------+--------+---------+-------------+---------+---------------+---------+-----------------+--------+----------------+-------------------+--------+-------+--------+--------------+-------------+-------------+---------+--------------+-------------------+----+----------------+--------------------+---------------------+----------------------+----------------+----------------+--------------+------------------+-------------------+--------------------+----------------+----------------+\n",
      "|  1|2012|    1|           4|          3|2012-01-04|            AA|  N320AA|     1|            12478|   JFK|              NY|          12892| LAX|            CA|           9|     904|        4|            4|        0|              0|      18|       922|     1131|     20|          12|    1151|      -34|            0|        0|             -2|        0|                 |       0|             385|                347|     309|      1|    2475|            10|         null|         null|     null|          null|               null|null|            10.0|                -3.9|                -19.4|                  29.0|             7.0|            30.1|          10.0|              17.2|               10.6|                65.0|             3.0|           30.18|\n",
      "|  2|2012|    1|          20|          5|2012-01-20|            AA|  N327AA|     1|            12478|   JFK|              NY|          12892| LAX|            CA|           9|     858|       -2|            0|        0|             -1|      21|       919|     1212|     15|          12|    1227|        2|            2|        0|              0|        0|                 |       0|             385|                389|     353|      1|    2475|            10|         null|         null|     null|          null|               null|null|            10.0|                 0.0|                -16.7|                  28.0|            15.0|           30.21|          10.0|              13.9|               10.0|                78.0|             6.0|           30.09|\n",
      "|  3|2012|    1|           5|          4|2012-01-05|            AA|  N329AA|     2|            12892|   LAX|              CA|          12478| JFK|            NY|           9|     925|       -5|            0|        0|             -1|      18|       943|     1741|     13|          18|    1754|       -6|            0|        0|             -1|        0|                 |       0|             330|                329|     298|      1|    2475|            10|         null|         null|     null|          null|               null|null|            10.0|                18.3|                  7.2|                  49.0|             8.0|           30.02|          10.0|              -0.6|               -5.0|                72.0|             9.0|           29.99|\n",
      "|  4|2012|    1|          21|          6|2012-01-21|            AA|  N327AA|     2|            12892|   LAX|              CA|          12478| JFK|            NY|           9|    null|     null|         null|     null|           null|    null|      null|     null|   null|          18|    null|     null|         null|     null|           null|        1|                B|       0|             330|               null|    null|      1|    2475|            10|         null|         null|     null|          null|               null|null|            10.0|                15.6|                  6.7|                  56.0|            18.0|           29.99|          10.0|              -3.3|               -8.3|                69.0|            13.0|           30.28|\n",
      "|  5|2012|    1|           6|          5|2012-01-06|            AA|  N336AA|     3|            12478|   JFK|              NY|          12892| LAX|            CA|          12|    1151|       -9|            0|        0|             -1|      14|      1205|     1436|      7|          15|    1443|      -32|            0|        0|             -2|        0|                 |       0|             375|                352|     331|      1|    2475|            10|         null|         null|     null|          null|               null|null|            10.0|                 8.9|                  0.0|                  54.0|            13.0|           29.78|           6.0|              13.3|               11.7|                90.0|             0.0|           29.99|\n",
      "|  6|2012|    1|          22|          7|2012-01-22|            AA|  N323AA|     3|            12478|   JFK|              NY|          12892| LAX|            CA|          12|    1154|       -6|            0|        0|             -1|      23|      1217|     1455|     13|          15|    1508|       -7|            0|        0|             -1|        0|                 |       0|             375|                374|     338|      1|    2475|            10|         null|         null|     null|          null|               null|null|            10.0|                 0.0|                 -4.4|                  72.0|             6.0|            30.5|          10.0|              12.8|                9.4|                80.0|             3.0|           30.14|\n",
      "|  7|2012|    1|           7|          6|2012-01-07|            AA|  N336AA|     4|            12892|   LAX|              CA|          12478| JFK|            NY|          12|    1223|        8|            8|        0|              0|      15|      1238|     2018|      3|          20|    2021|      -24|            0|        0|             -2|        0|                 |       0|             330|                298|     280|      1|    2475|            10|         null|         null|     null|          null|               null|null|             6.0|                12.8|                 10.0|                  83.0|             0.0|           30.02|          10.0|               7.2|               -4.4|                44.0|            15.0|           30.01|\n",
      "|  8|2012|    1|          23|          1|2012-01-23|            AA|  N336AA|     4|            12892|   LAX|              CA|          12478| JFK|            NY|          12|    1207|       -8|            0|        0|             -1|      19|      1226|     2022|      9|          20|    2031|      -14|            0|        0|             -1|        0|                 |       0|             330|                324|     296|      1|    2475|            10|         null|         null|     null|          null|               null|null|            10.0|                12.2|                  9.4|                  83.0|             0.0|           29.98|           6.0|              8.15|                7.9|                98.0|             8.0|           29.91|\n",
      "|  9|2012|    1|           8|          7|2012-01-08|            AA|  N357AA|     5|            11298|   DFW|              TX|          12173| HNL|            HI|          13|    1413|       73|           73|        1|              4|      12|      1425|     1759|      2|          17|    1801|       26|           26|        1|              1|        0|                 |       0|             515|                468|     454|      1|    3784|            11|           26|            0|        0|             0|                  0|null|             9.0|                11.9|     8.96666666666667|                  81.0|8.33333333333333|30.0766666666667|          10.0|              20.0|               17.8|                87.0|             0.0|           30.09|\n",
      "| 10|2012|    1|          24|          2|2012-01-24|            AA|  N380AA|     5|            11298|   DFW|              TX|          12173| HNL|            HI|          13|    1256|       -4|            0|        0|             -1|      16|      1312|     1638|      3|          17|    1641|      -54|            0|        0|             -2|        0|                 |       0|             515|                465|     446|      1|    3784|            11|         null|         null|     null|          null|               null|null|             7.5|               12.35|                  9.5|                  83.5|             8.5|           29.94|          10.0|              21.7|               18.9|                84.0|             0.0|           30.01|\n",
      "| 11|2012|    1|           9|          1|2012-01-09|            AA|  N344AA|     6|            13830|   OGG|              HI|          11298| DFW|            TX|          18|    1823|       13|           13|        0|              0|      10|      1833|      539|      3|           5|     542|       27|           27|        1|              1|        0|                 |       0|             425|                439|     426|      1|    3711|            11|            0|            0|       14|             0|                 13|null|            10.0|                20.0|                 16.1|                  78.0|             5.0|           30.06|           7.0|               7.1|                5.3|                87.5|            11.0|          30.135|\n",
      "| 12|2012|    1|          25|          3|2012-01-25|            AA|  N393AA|     6|            13830|   OGG|              HI|          11298| DFW|            TX|          18|    1823|       13|           13|        0|              0|      11|      1834|      535|      4|           5|     539|       24|           24|        1|              1|        0|                 |       0|             425|                436|     421|      1|    3711|            11|           13|            0|       11|             0|                  0|null|            10.0|                15.6|                 12.2|                  81.0|             3.0|           29.95|          10.0|               9.2|                7.9|                91.0|            16.5|          29.835|\n",
      "| 13|2012|    1|          10|          2|2012-01-10|            AA|  N381AA|     7|            11298|   DFW|              TX|          13830| OGG|            HI|          12|    1205|        0|            0|        0|              0|      14|      1219|     1609|      6|          16|    1615|      -10|            0|        0|             -1|        0|                 |       0|             500|                490|     470|      1|    3711|            11|         null|         null|     null|          null|               null|null|            10.0|                 7.8|                  5.0|                  83.0|            14.0|           29.83|          10.0|              18.3|               14.4|                78.0|             0.0|           30.03|\n",
      "| 14|2012|    1|          26|          4|2012-01-26|            AA|  N393AA|     7|            11298|   DFW|              TX|          13830| OGG|            HI|          12|    1204|       -1|            0|        0|             -1|      17|      1221|     1609|      2|          16|    1611|      -14|            0|        0|             -1|        0|                 |       0|             500|                487|     468|      1|    3711|            11|         null|         null|     null|          null|               null|null|            10.0|                12.8|                  2.8|                  51.0|            11.0|           29.99|          10.0|              20.0|               15.6|                76.0|             6.0|           29.91|\n",
      "| 15|2012|    1|          11|          3|2012-01-11|            AA|  N353AA|     8|            12173|   HNL|              HI|          11298| DFW|            TX|          18|    1827|        7|            7|        0|              0|      14|      1841|      537|      4|           5|     541|        1|            1|        0|              0|        0|                 |       0|             440|                434|     416|      1|    3784|            11|         null|         null|     null|          null|               null|null|            10.0|                20.0|                 17.8|                  87.0|             5.0|           29.95|          10.0|              11.7|                5.0|                64.0|             5.0|           29.73|\n",
      "| 16|2012|    1|          27|          5|2012-01-27|            AA|  N389AA|     8|            12173|   HNL|              HI|          11298| DFW|            TX|          18|    1813|       -7|            0|        0|             -1|      14|      1827|      542|      3|           5|     545|        5|            5|        0|              0|        0|                 |       0|             440|                452|     435|      1|    3784|            11|         null|         null|     null|          null|               null|null|            10.0|                22.8|                 18.3|                  76.0|             9.0|           30.02|          10.0|              15.0|                4.4|                50.0|            21.0|           29.98|\n",
      "| 17|2012|    1|          12|          4|2012-01-12|            AA|  N335AA|    10|            12892|   LAX|              CA|          12478| JFK|            NY|          21|    2115|       -5|            0|        0|             -1|      15|      2130|      513|      7|           5|     520|      -10|            0|        0|             -1|        0|                 |       0|             310|                305|     283|      1|    2475|            10|         null|         null|     null|          null|               null|null|            10.0|                12.2|                -10.0|                  20.0|             6.0|           30.09|           9.0|  7.76666666666667|   6.03333333333333|    89.3333333333333|25.6666666666667|29.4333333333333|\n",
      "| 18|2012|    1|          28|          6|2012-01-28|            AA|  N327AA|    10|            12892|   LAX|              CA|          12478| JFK|            NY|          21|    2124|        4|            4|        0|              0|      15|      2139|      518|      6|           5|     524|       -6|            0|        0|             -1|        0|                 |       0|             310|                300|     279|      1|    2475|            10|         null|         null|     null|          null|               null|null|            10.0|                11.7|                 -9.4|                  22.0|             6.0|           30.18|          10.0|               6.7|               -4.4|                45.0|             0.0|           30.02|\n",
      "| 19|2012|    1|          13|          5|2012-01-13|            AA|  N365AA|    14|            13830|   OGG|              HI|          12892| LAX|            CA|          22|    2153|      -12|            0|        0|             -1|      13|      2206|      443|      9|           5|     452|      -18|            0|        0|             -2|        0|                 |       0|             305|                299|     277|      1|    2486|            10|         null|         null|     null|          null|               null|null|            10.0|                17.8|                 15.6|                  87.0|             0.0|           29.94|          10.0|              25.0|              -19.4|                 4.0|             6.0|           30.11|\n",
      "| 20|2012|    1|          29|          7|2012-01-29|            AA|  N390AA|    14|            13830|   OGG|              HI|          12892| LAX|            CA|          22|    2158|       -7|            0|        0|             -1|       7|      2205|      459|      4|           5|     503|       -7|            0|        0|             -1|        0|                 |       0|             305|                305|     294|      1|    2486|            10|         null|         null|     null|          null|               null|null|            10.0|                22.2|                 16.1|                  68.0|            15.0|           30.11|          10.0|              25.6|              -16.7|                 5.0|             6.0|           30.13|\n",
      "+---+----+-----+------------+-----------+----------+--------------+--------+------+-----------------+------+----------------+---------------+----+--------------+------------+--------+---------+-------------+---------+---------------+--------+----------+---------+-------+------------+--------+---------+-------------+---------+---------------+---------+-----------------+--------+----------------+-------------------+--------+-------+--------+--------------+-------------+-------------+---------+--------------+-------------------+----+----------------+--------------------+---------------------+----------------------+----------------+----------------+--------------+------------------+-------------------+--------------------+----------------+----------------+\n",
      "only showing top 20 rows\n",
      "\n"
     ]
    }
   ],
   "source": [
    "# check sample data from table\n",
    "\n",
    "df.<FILL_IN>"
   ]
  },
  {
   "cell_type": "code",
   "execution_count": 5,
   "id": "539a8ae7-46a7-4918-b4c5-e4f526a7b4c8",
   "metadata": {},
   "outputs": [],
   "source": [
    "# Mark as \"delayed over 15 minutes\" if it's canceled."
   ]
  },
  {
   "cell_type": "code",
   "execution_count": 6,
   "id": "b3a8facf-bdd3-4c30-b8e3-a224e373a291",
   "metadata": {},
   "outputs": [],
   "source": [
    "from pyspark.sql.functions import when\n",
    "df = df.withColumn(\"ARR_DEL15\", when(df[\"CANCELLED\"] == 1, 1).otherwise(df[\"ARR_DEL15\"]))"
   ]
  },
  {
   "cell_type": "code",
   "execution_count": 7,
   "id": "2b66924f-92da-44c3-ade8-fa4a7848c6b7",
   "metadata": {},
   "outputs": [],
   "source": [
    "#Remove flights if it's diverted.\n",
    "df = df.<FILL_IN>"
   ]
  },
  {
   "cell_type": "markdown",
   "id": "813de4fa-d67b-4c7d-832b-cff809d8a82f",
   "metadata": {},
   "source": [
    "#### Narrow to required columns.\n",
    "\n",
    "\"ARR_DEL15\",\n",
    "  \"MONTH\",\n",
    "  \"DAY_OF_WEEK\",\n",
    "  \"UNIQUE_CARRIER\",\n",
    "  \"ORIGIN\",\n",
    "  \"DEST\",\n",
    "  \"CRS_DEP_TIME\",\n",
    "  \"CRS_ARR_TIME\",\n",
    "  \"RelativeHumidityOrigin\",\n",
    "  \"AltimeterOrigin\",\n",
    "  \"DryBulbCelsiusOrigin\",\n",
    "  \"WindSpeedOrigin\",\n",
    "  \"VisibilityOrigin\",\n",
    "  \"DewPointCelsiusOrigin\",\n",
    "  \"RelativeHumidityDest\",\n",
    "  \"AltimeterDest\",\n",
    "  \"DryBulbCelsiusDest\",\n",
    "  \"WindSpeedDest\",\n",
    "  \"VisibilityDest\",\n",
    "  \"DewPointCelsiusDest\""
   ]
  },
  {
   "cell_type": "code",
   "execution_count": 8,
   "id": "2054a467-bd3e-4297-bd66-214066d17e65",
   "metadata": {},
   "outputs": [],
   "source": [
    "# Select required columns\n",
    "df = df.<FILL_IN>"
   ]
  },
  {
   "cell_type": "code",
   "execution_count": 9,
   "id": "1b11732f-98c2-47a7-8887-72b1c79aec73",
   "metadata": {},
   "outputs": [],
   "source": [
    "# Drop rows with null value\n",
    "df = df.<FILL_IN>"
   ]
  },
  {
   "cell_type": "code",
   "execution_count": 10,
   "id": "dcd5b0bd-165b-43e0-9ed8-809e2d56054e",
   "metadata": {},
   "outputs": [],
   "source": [
    "# Split data into training data and evaluation data (ratio is 80% : 20%).\n"
   ]
  },
  {
   "cell_type": "markdown",
   "id": "5c023aae-d7c5-4b64-a33a-7b460bc4b351",
   "metadata": {},
   "source": [
    "#### Convert categorical values to index values (0, 1, ...) for the following columns.\n",
    "\n",
    "Carrier code (UNIQUE_CARRIER)\n",
    "Airport code in departure (ORIGIN)\n",
    "Airport code in destination (DEST)\n",
    "Flag (0 or 1) for delay over 15 minutes (ARR_DEL15)\n",
    "\n",
    "hint: pyspark.ml.feature check StringIndexer transformer"
   ]
  },
  {
   "cell_type": "code",
   "execution_count": 11,
   "id": "758f8bed-e902-4e97-a942-1094123693ce",
   "metadata": {},
   "outputs": [],
   "source": [
    "from pyspark.ml.feature import StringIndexer\n",
    "uniqueCarrierIndexer = StringIndexer(inputCol=\"UNIQUE_CARRIER\", outputCol=\"Indexed_UNIQUE_CARRIER\").fit(df)\n",
    "originIndexer = <FILL_IN>\n",
    "destIndexer = <FILL_IN>\n",
    "arrDel15Indexer = <FILL_IN>"
   ]
  },
  {
   "cell_type": "markdown",
   "id": "b0827c54-6376-4303-87dd-2ec8d7b152ba",
   "metadata": {},
   "source": [
    "#### In Spark machine learning, the feature columns must be wrapped as a single vector value.\n",
    "\n",
    "So create new vector column named \"features\".\n",
    "\n",
    "Hint: pyspark.ml.feature check VectorAssembler"
   ]
  },
  {
   "cell_type": "code",
   "execution_count": 12,
   "id": "696a5ac3-84f2-47d9-a2a9-8f2c7c0780e2",
   "metadata": {},
   "outputs": [],
   "source": [
    "from pyspark.ml.feature import VectorAssembler\n",
    "assembler = VectorAssembler(\n",
    "  inputCols = [\n",
    "    \"MONTH\",\n",
    "    \"DAY_OF_WEEK\",\n",
    "    \"Indexed_UNIQUE_CARRIER\",\n",
    "    \"Indexed_ORIGIN\",\n",
    "    \"Indexed_DEST\",\n",
    "    \"CRS_DEP_TIME\",\n",
    "    \"CRS_ARR_TIME\",\n",
    "    \"RelativeHumidityOrigin\",\n",
    "    \"AltimeterOrigin\",\n",
    "    \"DryBulbCelsiusOrigin\",\n",
    "    \"WindSpeedOrigin\",\n",
    "    \"VisibilityOrigin\",\n",
    "    \"DewPointCelsiusOrigin\",\n",
    "    \"RelativeHumidityDest\",\n",
    "    \"AltimeterDest\",\n",
    "    \"DryBulbCelsiusDest\",\n",
    "    \"WindSpeedDest\",\n",
    "    \"VisibilityDest\",\n",
    "    \"DewPointCelsiusDest\"],\n",
    "  outputCol = \"features\")"
   ]
  },
  {
   "cell_type": "markdown",
   "id": "02cbd018-ba2e-4ee8-a5de-12c9b322524d",
   "metadata": {},
   "source": [
    "#### Generate classifier. Here we use Decision Tree classifier.\n",
    "\n",
    "Hint: From pyspark.ml.classification check DecisionTreeClassifier"
   ]
  },
  {
   "cell_type": "code",
   "execution_count": 13,
   "id": "d0e17648-9d0b-476f-b8e3-08ca13be9254",
   "metadata": {},
   "outputs": [],
   "source": [
    "from pyspark.ml.classification import DecisionTreeClassifier\n",
    "classifier = <FILL_IN>"
   ]
  },
  {
   "cell_type": "markdown",
   "id": "31605cbb-a735-49f2-bd85-aa4f5896497b",
   "metadata": {},
   "source": [
    "#### Generate SparkML pipeline and run training.\n",
    "Trained model (with coefficients) and pipeline are stored in the variable \"model\"."
   ]
  },
  {
   "cell_type": "code",
   "execution_count": 14,
   "id": "c67eda76-a927-4a80-945d-026b47fd2ee9",
   "metadata": {},
   "outputs": [],
   "source": [
    "from pyspark.ml import Pipeline\n",
    "pipeline = <FILL_IN>\n",
    "model = <FILL_IN>"
   ]
  },
  {
   "cell_type": "markdown",
   "id": "5fc81e59-0733-4b05-87cd-47ba1b091636",
   "metadata": {},
   "source": [
    "#### Predict with eveluation data."
   ]
  },
  {
   "cell_type": "code",
   "execution_count": 15,
   "id": "cf05b512-f539-4e6f-8101-ace5180c71c5",
   "metadata": {},
   "outputs": [],
   "source": [
    "# Predict with eveluation data\n",
    "pred = <FILL_IN>"
   ]
  },
  {
   "cell_type": "markdown",
   "id": "d1473f90-1fe0-46f6-9f75-61114a058b9e",
   "metadata": {},
   "source": [
    "#### Show eveluation result.\n",
    "\n",
    "Hint: pyspark.ml.evaluation check MulticlassClassificationEvaluator"
   ]
  },
  {
   "cell_type": "code",
   "execution_count": 16,
   "id": "a14aa4fe-3df2-4f5a-b7de-07683caf4a44",
   "metadata": {},
   "outputs": [
    {
     "name": "stdout",
     "output_type": "stream",
     "text": [
      "Accuracy = 0.754732\n"
     ]
    }
   ],
   "source": [
    "# Evaluate results\n"
   ]
  },
  {
   "cell_type": "code",
   "execution_count": 17,
   "id": "ddb5c1cf-b3c0-4647-b12d-3dbf5bcdef39",
   "metadata": {},
   "outputs": [],
   "source": [
    "# Save pipeline\n",
    "model.<FILL_IN>"
   ]
  },
  {
   "cell_type": "code",
   "execution_count": null,
   "id": "cf6aa513-1aaa-461c-ac60-f6ab0ff90c65",
   "metadata": {},
   "outputs": [],
   "source": []
  }
 ],
 "metadata": {
  "kernelspec": {
   "display_name": "Python 3 (ipykernel)",
   "language": "python",
   "name": "python3"
  },
  "language_info": {
   "codemirror_mode": {
    "name": "ipython",
    "version": 3
   },
   "file_extension": ".py",
   "mimetype": "text/x-python",
   "name": "python",
   "nbconvert_exporter": "python",
   "pygments_lexer": "ipython3",
   "version": "3.9.12"
  }
 },
 "nbformat": 4,
 "nbformat_minor": 5
}
