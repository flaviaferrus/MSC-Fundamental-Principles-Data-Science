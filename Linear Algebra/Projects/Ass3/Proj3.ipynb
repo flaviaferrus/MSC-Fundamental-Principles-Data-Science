{
 "cells": [
  {
   "cell_type": "code",
   "execution_count": 1,
   "id": "408e2af5-a63a-46d2-9eff-777d416dd127",
   "metadata": {},
   "outputs": [],
   "source": [
    "import numpy as np\n",
    "import scipy.sparse as spsp\n",
    "from scipy.sparse import csc_matrix, linalg as spspla\n",
    "\n",
    "\n",
    "rows,cols=np.loadtxt(\"./p2p-Gnutella30/p2p-Gnutella30.mtx\", unpack = True) #,skiprows=83,unpack=True)\n",
    "rows=rows-1; cols=cols-1;\n"
   ]
  },
  {
   "cell_type": "code",
   "execution_count": 2,
   "id": "bd46c0ab-600b-45e8-b5f9-424f841ba26c",
   "metadata": {},
   "outputs": [
    {
     "name": "stdout",
     "output_type": "stream",
     "text": [
      "88328\n",
      "[ 1311.  1629.  5352. ... 36617. 36617. 36641.]\n"
     ]
    }
   ],
   "source": [
    "print(len(rows))\n",
    "print(rows)"
   ]
  },
  {
   "cell_type": "code",
   "execution_count": 3,
   "id": "e79e2066-cb7c-48ae-839f-0e73b917b9ce",
   "metadata": {},
   "outputs": [
    {
     "name": "stdout",
     "output_type": "stream",
     "text": [
      "88328\n",
      "[1 1 1 ... 1 1 1]\n"
     ]
    }
   ],
   "source": [
    "data = np.repeat(1, len(rows))\n",
    "print(len(data))\n",
    "print(data)"
   ]
  },
  {
   "cell_type": "code",
   "execution_count": 4,
   "id": "3fcfec25-5354-4777-846c-2dbd662eec0c",
   "metadata": {},
   "outputs": [
    {
     "name": "stdout",
     "output_type": "stream",
     "text": [
      "(36682, 36682)\n"
     ]
    }
   ],
   "source": [
    "A=spsp.coo_matrix((data,(rows,cols)),shape=(36682,36682))\n",
    "print(A.shape)"
   ]
  },
  {
   "cell_type": "code",
   "execution_count": 5,
   "id": "9feb359d-a6e7-4bb9-b5b3-98a6614a328c",
   "metadata": {},
   "outputs": [
    {
     "name": "stdout",
     "output_type": "stream",
     "text": [
      "  (1311, 0)\t1\n",
      "  (1629, 0)\t1\n",
      "  (5352, 0)\t1\n",
      "  (9391, 0)\t1\n",
      "  (0, 1)\t1\n",
      "  (3050, 1)\t1\n",
      "  (16254, 1)\t1\n",
      "  (21629, 1)\t1\n",
      "  (26775, 1)\t1\n",
      "  (28911, 1)\t1\n",
      "  (0, 2)\t1\n",
      "  (0, 3)\t1\n",
      "  (1331, 3)\t1\n",
      "  (3675, 3)\t1\n",
      "  (5014, 3)\t1\n",
      "  (11048, 3)\t1\n",
      "  (15239, 3)\t1\n",
      "  (18724, 3)\t1\n",
      "  (30694, 3)\t1\n",
      "  (31271, 3)\t1\n",
      "  (31803, 3)\t1\n",
      "  (34383, 3)\t1\n",
      "  (0, 4)\t1\n",
      "  (1163, 4)\t1\n",
      "  (3500, 4)\t1\n",
      "  :\t:\n",
      "  (36649, 36657)\t1\n",
      "  (36649, 36658)\t1\n",
      "  (36619, 36659)\t1\n",
      "  (36619, 36660)\t1\n",
      "  (36619, 36661)\t1\n",
      "  (36650, 36662)\t1\n",
      "  (36650, 36663)\t1\n",
      "  (36650, 36664)\t1\n",
      "  (36658, 36665)\t1\n",
      "  (36658, 36666)\t1\n",
      "  (14860, 36667)\t1\n",
      "  (36088, 36668)\t1\n",
      "  (36088, 36669)\t1\n",
      "  (36628, 36670)\t1\n",
      "  (36628, 36671)\t1\n",
      "  (36655, 36672)\t1\n",
      "  (36655, 36673)\t1\n",
      "  (36655, 36674)\t1\n",
      "  (36674, 36675)\t1\n",
      "  (36674, 36676)\t1\n",
      "  (36674, 36677)\t1\n",
      "  (36617, 36678)\t1\n",
      "  (36617, 36679)\t1\n",
      "  (36617, 36680)\t1\n",
      "  (36641, 36681)\t1\n"
     ]
    }
   ],
   "source": [
    "print(A)"
   ]
  },
  {
   "cell_type": "code",
   "execution_count": 6,
   "id": "852bf8eb-22da-4a29-b4d4-f55f970350b2",
   "metadata": {},
   "outputs": [
    {
     "data": {
      "text/plain": [
       "<36682x36682 sparse matrix of type '<class 'numpy.int64'>'\n",
       "\twith 88328 stored elements in COOrdinate format>"
      ]
     },
     "execution_count": 6,
     "metadata": {},
     "output_type": "execute_result"
    }
   ],
   "source": [
    "A"
   ]
  },
  {
   "cell_type": "code",
   "execution_count": 7,
   "id": "13dee446-d325-48e3-8d00-1088e0ad811a",
   "metadata": {},
   "outputs": [],
   "source": [
    "cscA = spsp.csc_matrix(A)\n"
   ]
  },
  {
   "cell_type": "code",
   "execution_count": 8,
   "id": "42a7ee03-34a3-4d7c-a345-47597f2c7dc0",
   "metadata": {},
   "outputs": [
    {
     "data": {
      "text/plain": [
       "<36682x36682 sparse matrix of type '<class 'numpy.int64'>'\n",
       "\twith 88328 stored elements in Compressed Sparse Column format>"
      ]
     },
     "execution_count": 8,
     "metadata": {},
     "output_type": "execute_result"
    }
   ],
   "source": [
    "cscA"
   ]
  },
  {
   "cell_type": "code",
   "execution_count": 9,
   "id": "8eb9ce96-bf7c-4bcc-a059-551cd0fc3f09",
   "metadata": {},
   "outputs": [
    {
     "name": "stdout",
     "output_type": "stream",
     "text": [
      "  (1311, 0)\t1\n",
      "  (1629, 0)\t1\n",
      "  (5352, 0)\t1\n",
      "  (9391, 0)\t1\n",
      "  (0, 1)\t1\n",
      "  (3050, 1)\t1\n",
      "  (16254, 1)\t1\n",
      "  (21629, 1)\t1\n",
      "  (26775, 1)\t1\n",
      "  (28911, 1)\t1\n",
      "  (0, 2)\t1\n",
      "  (0, 3)\t1\n",
      "  (1331, 3)\t1\n",
      "  (3675, 3)\t1\n",
      "  (5014, 3)\t1\n",
      "  (11048, 3)\t1\n",
      "  (15239, 3)\t1\n",
      "  (18724, 3)\t1\n",
      "  (30694, 3)\t1\n",
      "  (31271, 3)\t1\n",
      "  (31803, 3)\t1\n",
      "  (34383, 3)\t1\n",
      "  (0, 4)\t1\n",
      "  (1163, 4)\t1\n",
      "  (3500, 4)\t1\n",
      "  :\t:\n",
      "  (36649, 36657)\t1\n",
      "  (36649, 36658)\t1\n",
      "  (36619, 36659)\t1\n",
      "  (36619, 36660)\t1\n",
      "  (36619, 36661)\t1\n",
      "  (36650, 36662)\t1\n",
      "  (36650, 36663)\t1\n",
      "  (36650, 36664)\t1\n",
      "  (36658, 36665)\t1\n",
      "  (36658, 36666)\t1\n",
      "  (14860, 36667)\t1\n",
      "  (36088, 36668)\t1\n",
      "  (36088, 36669)\t1\n",
      "  (36628, 36670)\t1\n",
      "  (36628, 36671)\t1\n",
      "  (36655, 36672)\t1\n",
      "  (36655, 36673)\t1\n",
      "  (36655, 36674)\t1\n",
      "  (36674, 36675)\t1\n",
      "  (36674, 36676)\t1\n",
      "  (36674, 36677)\t1\n",
      "  (36617, 36678)\t1\n",
      "  (36617, 36679)\t1\n",
      "  (36617, 36680)\t1\n",
      "  (36641, 36681)\t1\n"
     ]
    }
   ],
   "source": [
    "print(cscA)"
   ]
  },
  {
   "cell_type": "code",
   "execution_count": 10,
   "id": "4b6ae381-aa39-412f-9bbf-08af76407799",
   "metadata": {},
   "outputs": [
    {
     "name": "stdout",
     "output_type": "stream",
     "text": [
      "0\n",
      "1\n"
     ]
    }
   ],
   "source": [
    "print(cscA[0,0])\n",
    "print(cscA[1311, 0])"
   ]
  },
  {
   "cell_type": "markdown",
   "id": "fff10db6-4a82-46ef-9c42-c988d6603819",
   "metadata": {},
   "source": [
    "We already have uploaded the corresponding binary matrix: $A=$ `cscA` $ \\in \\mathbb{R}^{n\\times n}$ where in this case $n =36682$.\n",
    "\n",
    "Consider then the fixed point problem $Ax = x$. Remember that if the web network does not contain dangling nodes, then the matrix $A$ is column stochastic, i.e. $1 \\in Spec(A)$. If unique, the eigenvector of eigenvalue 1 is the so-called **PR vector**.\n",
    "\n",
    "However for disconnected networks the PR vector is not unique. On the other hand, if the network has dangling nodes then the matrix $A$ is column substochastic (and has no eigenvector of eigenvalue 1). In order to adress those two problems we may consider:\n",
    "$$\n",
    "M_m = (1-m) A + mS\n",
    "$$\n",
    "where $0 \\leq m \\leq 1$ is a damping factor, which we may consider to be fixed at $m = 0.15$, and $mS = e z^t$, where $e = ( 1 , \\dots, 1)^T$ and $z= (z_1, \\dots, z_n)^T$ is the vector given by $z_j = m/n$ if the column $j$ of the matrix $A$ contains non-zero elements (this is the node $j$ has a link to any other node) and $z_j = 1/n$ otherwise. \n",
    "\n",
    "Let $G=(g_{ij})$ be the link matrix, that is $g_{ij} =1$ when there is a link between the pages $i, j$ and $g_{ij}=0$ if there is no link. Then, $n_j = \\sum_i g_{ij}$ is the out-degree of the page j. Let now $D=diag(d_{11}, \\dots, d_{nn})$, with $d_{jj} = 1/n_j$ if $n_j \\neq 0$ and $d_{jj} = 0$ otherwise. Then $A = GD$\n",
    "\n",
    "Now, if we seek to compute the PR vector of $M_m$ using the power method, we may consider the algorithm given by the iteration of \n",
    "$$\n",
    "x_{k+1} = (1- m ) GD x_k + e z^t x_k\n",
    "$$\n",
    "until $\\| x_{k+1} - x_k \\| < tol$. "
   ]
  },
  {
   "cell_type": "code",
   "execution_count": 11,
   "id": "cfd4b798-9f42-4e37-aa03-47f5d71bceab",
   "metadata": {},
   "outputs": [
    {
     "name": "stdout",
     "output_type": "stream",
     "text": [
      "[[0.25      ]\n",
      " [0.16666667]\n",
      " [1.        ]\n",
      " ...\n",
      " [1.        ]\n",
      " [1.        ]\n",
      " [1.        ]]\n",
      "[[4.]\n",
      " [6.]\n",
      " [1.]\n",
      " ...\n",
      " [1.]\n",
      " [1.]\n",
      " [1.]]\n",
      "[[4.08919906e-06]\n",
      " [4.08919906e-06]\n",
      " [4.08919906e-06]\n",
      " ...\n",
      " [4.08919906e-06]\n",
      " [4.08919906e-06]\n",
      " [4.08919906e-06]]\n"
     ]
    }
   ],
   "source": [
    "m = 0.15\n",
    "n = cscA.shape[0]\n",
    "## we compute d_i in order to calculate D and z_j in order to compute z\n",
    "z = np.zeros((cscA.shape[0],1))\n",
    "d = np.zeros((cscA.shape[0],1))\n",
    "n_j = np.zeros((cscA.shape[0],1))\n",
    "\n",
    "for j in range(cscA.shape[1]):\n",
    "    n_j[j] = np.sum(cscA[:, j])\n",
    "    if n_j[j] > 0:\n",
    "        d[j] = 1/n_j[j]\n",
    "        z[j] = m/n\n",
    "    else:\n",
    "        d[j] = 0\n",
    "        z[j] = 1/n\n",
    "        \n",
    "print(d)\n",
    "print(n_j)\n",
    "print(z)"
   ]
  },
  {
   "cell_type": "markdown",
   "id": "0710e56a-8bf4-4285-b84b-86bc183f2afe",
   "metadata": {},
   "source": [
    "We treat the given matrix as the link matrix $G$, since it is a binary matrix, indicating whether there exists a link between nodes. Then we have the vectors $e, z, d$ as computed previously, and we can then define the matrix $D$, and the step of the algorithm:"
   ]
  },
  {
   "cell_type": "code",
   "execution_count": 12,
   "id": "dfaeb4bd-96db-4e70-85ef-6bea053ec642",
   "metadata": {},
   "outputs": [
    {
     "name": "stdout",
     "output_type": "stream",
     "text": [
      "(36682, 1)\n",
      "(36682, 36682)\n",
      "[[0.25       0.         0.         ... 0.         0.         0.        ]\n",
      " [0.         0.16666667 0.         ... 0.         0.         0.        ]\n",
      " [0.         0.         1.         ... 0.         0.         0.        ]\n",
      " ...\n",
      " [0.         0.         0.         ... 1.         0.         0.        ]\n",
      " [0.         0.         0.         ... 0.         1.         0.        ]\n",
      " [0.         0.         0.         ... 0.         0.         1.        ]]\n"
     ]
    }
   ],
   "source": [
    "print(d.shape)\n",
    "D = np.zeros((d.shape[0],d.shape[0]))\n",
    "np.fill_diagonal(D, d)\n",
    "print(D.shape)\n",
    "print(D)"
   ]
  },
  {
   "cell_type": "markdown",
   "id": "587d3b40-6f1a-4eab-9bf5-2b0751b5997b",
   "metadata": {},
   "source": [
    "In order to compute the multiplication of the sparse matrix and the vector $x_0$ we have to create a function that conducts the matrix product. Note that every nonzero coefficient will be a 1, therefore, the nonzero coefficients are indicatin us which coefficients of the vector $x_0$ we should be adding up. "
   ]
  },
  {
   "cell_type": "code",
   "execution_count": 13,
   "id": "22bb05ce-6ddb-42fd-99ec-f0c096ed1b34",
   "metadata": {},
   "outputs": [
    {
     "ename": "KeyboardInterrupt",
     "evalue": "",
     "output_type": "error",
     "traceback": [
      "\u001b[0;31m---------------------------------------------------------------------------\u001b[0m",
      "\u001b[0;31mKeyboardInterrupt\u001b[0m                         Traceback (most recent call last)",
      "\u001b[0;32m/var/folders/df/4599m83s2vj4j1_h__gx7kqw0000gn/T/ipykernel_808/999192922.py\u001b[0m in \u001b[0;36m<module>\u001b[0;34m\u001b[0m\n\u001b[1;32m      1\u001b[0m \u001b[0mx0\u001b[0m \u001b[0;34m=\u001b[0m \u001b[0mnp\u001b[0m\u001b[0;34m.\u001b[0m\u001b[0mones\u001b[0m\u001b[0;34m(\u001b[0m\u001b[0;34m(\u001b[0m\u001b[0mn\u001b[0m\u001b[0;34m,\u001b[0m \u001b[0;36m1\u001b[0m\u001b[0;34m)\u001b[0m\u001b[0;34m)\u001b[0m\u001b[0;34m\u001b[0m\u001b[0;34m\u001b[0m\u001b[0m\n\u001b[0;32m----> 2\u001b[0;31m \u001b[0mdx\u001b[0m \u001b[0;34m=\u001b[0m \u001b[0;34m(\u001b[0m\u001b[0md\u001b[0m\u001b[0;34m.\u001b[0m\u001b[0mT\u001b[0m\u001b[0;34m*\u001b[0m\u001b[0mx0\u001b[0m\u001b[0;34m)\u001b[0m\u001b[0;34m.\u001b[0m\u001b[0mT\u001b[0m\u001b[0;34m\u001b[0m\u001b[0;34m\u001b[0m\u001b[0m\n\u001b[0m\u001b[1;32m      3\u001b[0m \u001b[0mprint\u001b[0m\u001b[0;34m(\u001b[0m\u001b[0mdx\u001b[0m\u001b[0;34m.\u001b[0m\u001b[0mshape\u001b[0m\u001b[0;34m)\u001b[0m\u001b[0;34m\u001b[0m\u001b[0;34m\u001b[0m\u001b[0m\n",
      "\u001b[0;31mKeyboardInterrupt\u001b[0m: "
     ]
    }
   ],
   "source": [
    "x0 = np.ones((n, 1))\n",
    "dx = (d.T*x0).T\n",
    "print(dx.shape)        "
   ]
  },
  {
   "cell_type": "code",
   "execution_count": 14,
   "id": "007c9771-bce3-4e69-a439-286541163bcb",
   "metadata": {},
   "outputs": [],
   "source": [
    "dxx = d*x0"
   ]
  },
  {
   "cell_type": "code",
   "execution_count": 15,
   "id": "49a712d9-5009-4cad-8290-112104acb897",
   "metadata": {},
   "outputs": [
    {
     "name": "stdout",
     "output_type": "stream",
     "text": [
      "(36682, 1)\n",
      "[[0.25      ]\n",
      " [0.16666667]\n",
      " [1.        ]\n",
      " ...\n",
      " [1.        ]\n",
      " [1.        ]\n",
      " [1.        ]]\n"
     ]
    }
   ],
   "source": [
    "print(dxx.shape)\n",
    "print(dxx)"
   ]
  },
  {
   "cell_type": "code",
   "execution_count": 14,
   "id": "330bedb4-da90-4afd-a894-008b7d90ee81",
   "metadata": {
    "tags": []
   },
   "outputs": [
    {
     "name": "stdout",
     "output_type": "stream",
     "text": [
      "[ 1311.  1629.  5352. ... 36617. 36617. 36641.]\n",
      "[    0.     0.     0. ... 36679. 36680. 36681.]\n",
      "[1 1 1 ... 1 1 1]\n",
      "[10.  0. 10. ...  0.  0.  0.]\n"
     ]
    },
    {
     "data": {
      "text/plain": [
       "array([10.,  0., 10., ...,  0.,  0.,  0.])"
      ]
     },
     "execution_count": 14,
     "metadata": {},
     "output_type": "execute_result"
    }
   ],
   "source": [
    "print(rows)\n",
    "print(cols)\n",
    "print(data)\n",
    "x0 = np.repeat(1, d.shape[0])\n",
    "y = np.zeros((x0.shape))\n",
    "\n",
    "def multSparse(rows, cols, x0):\n",
    "    y = np.zeros((x0.shape))\n",
    "## We seek to compute A*x\n",
    "    for i in range(len(rows)):\n",
    "        row = int(rows[i])\n",
    "        col = int(cols[i])\n",
    "        #print(row, col)\n",
    "        y[row] +=  x0[col] \n",
    "        ## A[rows[i], cols[i]]= 1 always, then this is equivalent to y[row] + A[row, col] * x0[col]\n",
    "    print(y)\n",
    "    return y\n",
    "\n",
    "multSparse(rows, cols, x0)"
   ]
  },
  {
   "cell_type": "code",
   "execution_count": 3,
   "id": "f9828692-d73f-485d-94e4-a2848367b504",
   "metadata": {},
   "outputs": [
    {
     "name": "stdout",
     "output_type": "stream",
     "text": [
      "(30, 1)\n"
     ]
    }
   ],
   "source": [
    "import numpy as np\n",
    "x0 = np.ones((30,1))\n",
    "print(x0.shape)"
   ]
  },
  {
   "cell_type": "code",
   "execution_count": null,
   "id": "3c8fd622-fc3c-4084-84dc-5b764e4a8897",
   "metadata": {
    "tags": []
   },
   "outputs": [
    {
     "name": "stdout",
     "output_type": "stream",
     "text": [
      "---------------\n",
      "Iteration: 0\n"
     ]
    }
   ],
   "source": [
    "tol = 1e-16\n",
    "iter_max = 1e3\n",
    "#x0 = np.repeat(1, d.shape[0])\n",
    "x0 = np.ones((n, 1))\n",
    "xk = np.zeros((n, 1))\n",
    "for k in range(int(iter_max)):\n",
    "    print('---------------')\n",
    "    print('Iteration:', k)\n",
    "    \n",
    "    zx = np.matmul(z.T, x0)\n",
    "    ezx = np.repeat(zx, x0.shape[0])\n",
    "    dx = (d.T*x0).T\n",
    "    print(dx.shape)\n",
    "    print(cscA.shape)\n",
    "    \n",
    "    GDx = multSparse(rows,cols, dx)\n",
    "    \n",
    "    for i in range(GDx.shape[0]):\n",
    "        xk[i] = (1-m) * GDx[i] + zx[0]\n",
    "    #xk = (1- m) * multSparse(rows,cols, dx) + ezx\n",
    "    #xk = (1- m) * np.matmul(cscA, dx) + ezx\n",
    "    print(xk.shape)\n",
    "    \n",
    "    print(xk, x0)\n",
    "    print(np.linalg.norm(xk - x0))\n",
    "        \n",
    "    if np.linalg.norm(xk - x0) < tol:\n",
    "        break\n",
    "    else: \n",
    "        x0 = xk\n"
   ]
  },
  {
   "cell_type": "code",
   "execution_count": null,
   "id": "5ff6b3cf-4b22-4884-8a45-71cd54b31201",
   "metadata": {},
   "outputs": [],
   "source": [
    "## It takes a lot to compute the norm between xk and x0 ?? \n",
    "## we could create a function that computes it actually"
   ]
  },
  {
   "cell_type": "code",
   "execution_count": 33,
   "id": "b6a41cfb-09a1-4a7b-a386-93ded1fd1fd6",
   "metadata": {
    "tags": []
   },
   "outputs": [
    {
     "name": "stdout",
     "output_type": "stream",
     "text": [
      "(36682,)\n",
      "(36682,)\n",
      "[1 1 1 ... 1 1 1] [[4.08919906e-06]\n",
      " [4.08919906e-06]\n",
      " [4.08919906e-06]\n",
      " ...\n",
      " [4.08919906e-06]\n",
      " [4.08919906e-06]\n",
      " [4.08919906e-06]] [[0.25      ]\n",
      " [0.16666667]\n",
      " [1.        ]\n",
      " ...\n",
      " [1.        ]\n",
      " [1.        ]\n",
      " [1.        ]]\n",
      "4.089199062210348e-06\n",
      "2.7261327081402323e-05\n",
      "[2.72613271e-05]\n",
      "[[5.13852814]\n",
      " [0.        ]\n",
      " [4.74622132]\n",
      " ...\n",
      " [0.        ]\n",
      " [0.        ]\n",
      " [0.        ]]\n",
      "[0.15530642] [0.15530642 0.15530642 0.15530642 ... 0.15530642 0.15530642 0.15530642]\n",
      "dx: [[0.25      ]\n",
      " [0.16666667]\n",
      " [1.        ]\n",
      " ...\n",
      " [1.        ]\n",
      " [1.        ]\n",
      " [1.        ]]\n",
      "GDx: [[5.13852814]\n",
      " [0.        ]\n",
      " [4.74622132]\n",
      " ...\n",
      " [0.        ]\n",
      " [0.        ]\n",
      " [0.        ]]\n"
     ]
    }
   ],
   "source": [
    "## first iteration\n",
    "tol = 1e-16\n",
    "iter_max = 1e3\n",
    "x0 = np.repeat(1, d.shape[0])\n",
    "print(x0.shape)\n",
    "x0.reshape((n,1))\n",
    "print(x0.shape)\n",
    "print(x0, z, d)\n",
    "print(m/n)\n",
    "print(1/n)\n",
    "print(max(z))\n",
    "zx = np.matmul(z.T, x0)\n",
    "ezx = np.repeat(zx, x0.shape[0])\n",
    "dx = (d.T*x0).T\n",
    "GDx = multSparse(rows,cols, dx)\n",
    "print(zx, ezx)\n",
    "print('dx:', dx)\n",
    "print('GDx:', GDx)"
   ]
  },
  {
   "cell_type": "code",
   "execution_count": 34,
   "id": "8222874c-3955-4346-b56b-d947c9b7c438",
   "metadata": {},
   "outputs": [
    {
     "name": "stdout",
     "output_type": "stream",
     "text": [
      "9722\n",
      "[[5.29383456 5.29383456 5.29383456 ... 5.29383456 5.29383456 5.29383456]\n",
      " [0.15530642 0.15530642 0.15530642 ... 0.15530642 0.15530642 0.15530642]\n",
      " [4.90152774 4.90152774 4.90152774 ... 4.90152774 4.90152774 4.90152774]\n",
      " ...\n",
      " [0.15530642 0.15530642 0.15530642 ... 0.15530642 0.15530642 0.15530642]\n",
      " [0.15530642 0.15530642 0.15530642 ... 0.15530642 0.15530642 0.15530642]\n",
      " [0.15530642 0.15530642 0.15530642 ... 0.15530642 0.15530642 0.15530642]]\n"
     ]
    },
    {
     "ename": "KeyboardInterrupt",
     "evalue": "",
     "output_type": "error",
     "traceback": [
      "\u001b[0;31m---------------------------------------------------------------------------\u001b[0m",
      "\u001b[0;31mKeyboardInterrupt\u001b[0m                         Traceback (most recent call last)",
      "\u001b[0;32m/var/folders/df/4599m83s2vj4j1_h__gx7kqw0000gn/T/ipykernel_1413/2199452795.py\u001b[0m in \u001b[0;36m<module>\u001b[0;34m\u001b[0m\n\u001b[1;32m     12\u001b[0m \u001b[0mxk\u001b[0m \u001b[0;34m=\u001b[0m \u001b[0mGDx\u001b[0m \u001b[0;34m+\u001b[0m \u001b[0mezx\u001b[0m\u001b[0;34m\u001b[0m\u001b[0;34m\u001b[0m\u001b[0m\n\u001b[1;32m     13\u001b[0m \u001b[0mprint\u001b[0m\u001b[0;34m(\u001b[0m\u001b[0mxk\u001b[0m\u001b[0;34m)\u001b[0m\u001b[0;34m\u001b[0m\u001b[0;34m\u001b[0m\u001b[0m\n\u001b[0;32m---> 14\u001b[0;31m \u001b[0mprint\u001b[0m\u001b[0;34m(\u001b[0m\u001b[0mnp\u001b[0m\u001b[0;34m.\u001b[0m\u001b[0mlinalg\u001b[0m\u001b[0;34m.\u001b[0m\u001b[0mnorm\u001b[0m\u001b[0;34m(\u001b[0m\u001b[0mx0\u001b[0m \u001b[0;34m-\u001b[0m \u001b[0mxk\u001b[0m\u001b[0;34m)\u001b[0m\u001b[0;34m)\u001b[0m\u001b[0;34m\u001b[0m\u001b[0;34m\u001b[0m\u001b[0m\n\u001b[0m",
      "\u001b[0;31mKeyboardInterrupt\u001b[0m: "
     ]
    }
   ],
   "source": [
    "nonzro = []\n",
    "\n",
    "for i in range(GDx.shape[0]):\n",
    "    if GDx[i] > 0 :\n",
    "        nonzro.append(i)\n",
    "        \n",
    "#print(nonzro)\n",
    "print(len(nonzro))\n",
    "\n",
    "#norma = np.linalg.norm(x0 - GDx)\n",
    "#print(norma)\n",
    "xk = GDx + ezx\n",
    "print(xk) \n",
    "print(np.linalg.norm(x0 - xk))"
   ]
  },
  {
   "cell_type": "code",
   "execution_count": 21,
   "id": "01c358b0-f501-4744-a6db-13a3d90deb0c",
   "metadata": {},
   "outputs": [
    {
     "name": "stdout",
     "output_type": "stream",
     "text": [
      "(36682, 1) [[5.13852814]\n",
      " [0.        ]\n",
      " [4.74622132]\n",
      " ...\n",
      " [0.        ]\n",
      " [0.        ]\n",
      " [0.        ]]\n",
      "(36682,) [0.15530642 0.15530642 0.15530642 ... 0.15530642 0.15530642 0.15530642]\n"
     ]
    }
   ],
   "source": [
    "print(GDx.shape, GDx)\n",
    "print(ezx.shape, ezx)"
   ]
  },
  {
   "cell_type": "code",
   "execution_count": 30,
   "id": "f1f044c9-5e8a-4318-b633-5f7fba994f0d",
   "metadata": {},
   "outputs": [
    {
     "name": "stdout",
     "output_type": "stream",
     "text": [
      "(36682, 1) [[5.29383456]\n",
      " [0.15530642]\n",
      " [4.90152774]\n",
      " ...\n",
      " [0.15530642]\n",
      " [0.15530642]\n",
      " [0.15530642]]\n"
     ]
    }
   ],
   "source": [
    "xk = np.zeros((GDx.shape[0],1))\n",
    "for i in range(GDx.shape[0]):\n",
    "    xk[i] = GDx[i] + zx[0]\n",
    "    \n",
    "print(xk.shape, xk)"
   ]
  },
  {
   "cell_type": "code",
   "execution_count": 29,
   "id": "71e53c80-efb4-4565-8d60-462ba0650e7c",
   "metadata": {},
   "outputs": [
    {
     "name": "stdout",
     "output_type": "stream",
     "text": [
      "(1,) [0.15530642] 0.15530641731639283\n",
      "[5.29383456]\n",
      "[5.13852814]\n"
     ]
    }
   ],
   "source": [
    "print(zx.shape, zx, zx[0])\n",
    "print(GDx[0] + zx[0])\n",
    "print(GDx[0])"
   ]
  },
  {
   "cell_type": "code",
   "execution_count": null,
   "id": "72c0289e-82a3-481d-a96a-d9be0dbdd9e7",
   "metadata": {},
   "outputs": [],
   "source": [
    "m = 0.15\n",
    "n = cscA.shape[0]\n",
    "## we compute d_i in order to calculate D and z_j in order to compute z\n",
    "z = np.zeros((cscA.shape[0],1))\n",
    "d = np.zeros((cscA.shape[0],1))\n",
    "n_j = np.zeros((cscA.shape[0],1))\n",
    "\n",
    "for j in range(cscA.shape[1]):\n",
    "    suma = 0\n",
    "    for i in range(cscA.shape[0]):\n",
    "        if cscA[i,j] !=0:\n",
    "            suma += 1\n",
    "    n_j[j] = suma\n",
    "    if n_j[j] > 0:\n",
    "        d[j] = 1/n_j[j]\n",
    "        z[j] = m/n\n",
    "    else:\n",
    "        d[j] = 0\n",
    "        z[j] = 1/n\n",
    "        \n",
    "print(d)\n",
    "print(n_j)\n",
    "print(z)"
   ]
  },
  {
   "cell_type": "code",
   "execution_count": 16,
   "id": "03468a1c-f21e-4744-a05a-e1910015ef05",
   "metadata": {},
   "outputs": [
    {
     "name": "stdout",
     "output_type": "stream",
     "text": [
      "(1, 36682)\n"
     ]
    }
   ],
   "source": [
    "z = np.zeros(( cscA.shape[0], 1))\n",
    "print(z.shape)"
   ]
  },
  {
   "cell_type": "markdown",
   "id": "9f1d249e-78b7-4ab9-99d1-afc0680c13be",
   "metadata": {},
   "source": [
    "**EX2: Compute the PR vector of Mm using the power method without storing matrices.**"
   ]
  },
  {
   "cell_type": "markdown",
   "id": "1a53317b-22e7-41a5-87aa-692bb4cbc42c",
   "metadata": {},
   "source": [
    "1. From the vectors that store the link matrix G obtain, for each j = 1, ..., n, the set of indices Lj corresponding to pages having a link with page j."
   ]
  },
  {
   "cell_type": "code",
   "execution_count": 26,
   "id": "b65345eb-13c7-445d-8c67-22a6433c47a9",
   "metadata": {},
   "outputs": [
    {
     "name": "stdout",
     "output_type": "stream",
     "text": [
      "54.0\n",
      "[4.]\n",
      "[6.]\n",
      "  (1311, 0)\t1\n",
      "  (1629, 0)\t1\n",
      "  (5352, 0)\t1\n",
      "  (9391, 0)\t1\n",
      "[ 1311  1629  5352 ... 36617 36617 36641]\n",
      "88328\n",
      "[    0     4    10 ... 88326 88327 88328]\n"
     ]
    }
   ],
   "source": [
    "print(np.max(n_j))\n",
    "print(n_j[0])\n",
    "print(n_j[1])\n",
    "print(cscA[:,0])\n",
    "print(cscA.indices)\n",
    "print(len(cscA.indices))\n",
    "print(cscA.indptr)\n",
    "## the indices pointer array is an array in this case containing the sum of\n",
    "## the number of indices corresponding to the first column, second, ...\n",
    "\n",
    "## i.e. it indicates when we are skipping col, \n",
    "## "
   ]
  },
  {
   "cell_type": "markdown",
   "id": "c621808c-b642-456e-b1d8-c837c2c7ba6a",
   "metadata": {},
   "source": [
    "When expressing the sparse matrix in terms of the index array and pointer index array, the indices pointer array is an array in this case containing the sum of the number of indices corresponding to the first column, second column and so on. This is it indicates when we are skipping col. More formally, the pointer array has as coefficient j the number of elements until column j, i.e. $\\sum_{i=1}^j n_i$. \n",
    "\n",
    "We want the array with the $n_j$ indexes containing links, so for each column, this is for each k in the pointer index vector, we have $n_k$ indexes in the index vector that correspond to the pages which have links with page k:"
   ]
  },
  {
   "cell_type": "code",
   "execution_count": 31,
   "id": "c297e64a-9b23-45c3-9c8f-4752e7404f41",
   "metadata": {},
   "outputs": [
    {
     "name": "stdout",
     "output_type": "stream",
     "text": [
      "[1311. 1629. 5352. 9391.    0.    0.    0.    0.    0.    0.    0.    0.\n",
      "    0.    0.    0.    0.    0.    0.    0.    0.    0.    0.    0.    0.\n",
      "    0.    0.    0.    0.    0.    0.    0.    0.    0.    0.    0.    0.\n",
      "    0.    0.    0.    0.    0.    0.    0.    0.    0.    0.    0.    0.\n",
      "    0.    0.    0.    0.    0.    0.]\n"
     ]
    }
   ],
   "source": [
    "indexs = cscA.indices\n",
    "point_ind = cscA.indptr\n",
    "\n",
    "Lj = np.zeros((n, int(np.max(n_j))))\n",
    "for j in range(n):\n",
    "    for k in range(int(n_j[j])):\n",
    "        Lj[j, k] = indexs[k + point_ind[j]]\n",
    "    \n",
    "print(Lj[0])\n"
   ]
  },
  {
   "cell_type": "code",
   "execution_count": 40,
   "id": "72ede8d4-ac72-4e63-88b7-5a85a7db25a0",
   "metadata": {},
   "outputs": [
    {
     "name": "stdout",
     "output_type": "stream",
     "text": [
      "[1311. 1629. 5352. 9391.    0.    0.    0.    0.    0.    0.    0.    0.\n",
      "    0.    0.    0.    0.    0.    0.    0.    0.    0.    0.    0.    0.\n",
      "    0.    0.    0.    0.    0.    0.    0.    0.    0.    0.    0.    0.\n",
      "    0.    0.    0.    0.    0.    0.    0.    0.    0.    0.    0.    0.\n",
      "    0.    0.    0.    0.    0.    0.]\n",
      "[[4.]\n",
      " [6.]\n",
      " [1.]\n",
      " ...\n",
      " [1.]\n",
      " [1.]\n",
      " [1.]]\n"
     ]
    }
   ],
   "source": [
    "indexs = cscA.indices\n",
    "point_ind = cscA.indptr\n",
    "nj = np.zeros((n,1))\n",
    "Lj = np.zeros((n,54))\n",
    "for j in range(n):\n",
    "    nj[j] = point_ind[j+1] - point_ind[j]\n",
    "    for k in range(int(nj[j])):\n",
    "        Lj[j, k] = indexs[k + point_ind[j]]\n",
    "    \n",
    "print(Lj[0])\n",
    "print(nj)"
   ]
  },
  {
   "cell_type": "code",
   "execution_count": 49,
   "id": "4c4d5dd5-6b34-4139-b151-31834add1f4d",
   "metadata": {},
   "outputs": [
    {
     "name": "stdout",
     "output_type": "stream",
     "text": [
      "1311.0\n",
      "1629.0\n",
      "5352.0\n",
      "9391.0\n"
     ]
    }
   ],
   "source": [
    "for i in Lj[0,:int(nj[0])]:\n",
    "    print(i)"
   ]
  },
  {
   "cell_type": "code",
   "execution_count": 44,
   "id": "14610e06-75f1-4133-806b-4c5386664431",
   "metadata": {},
   "outputs": [
    {
     "name": "stdout",
     "output_type": "stream",
     "text": [
      "36683\n",
      "11\n",
      "[    0     4    10 ... 88326 88327 88328]\n"
     ]
    }
   ],
   "source": [
    "print(len(point_ind))\n",
    "print(point_ind[3])\n",
    "print(point_ind)"
   ]
  },
  {
   "cell_type": "markdown",
   "id": "b5bbd7d5-7a34-4c89-91ce-3c3763f867f8",
   "metadata": {},
   "source": [
    "2. Each row of $L_j$ has $n_j$ elements. So we can get the indexs we need for each $j$, this is, for each column of the link matrix. "
   ]
  },
  {
   "cell_type": "markdown",
   "id": "b268f51d-4ea2-41e8-a49a-bcc1b80c6edb",
   "metadata": {},
   "source": [
    "3. Iterate $x_{k+1} = M_mx_k$ until $\\|x_{k+1} − x_k\\|_{\\infty} < tol$.\n",
    "\n",
    "We do not want to compute explicitely the matrix $M_m$. Note that if $n_j = 0$, then we have $M_{ij} = 1/n$ for all $1 \\leq i \\leq n$. Then, recalling that $g_{ij} = 0$ iff $i \\notin L_j$, then the product $Mx$ can be implemented as follows:"
   ]
  },
  {
   "cell_type": "code",
   "execution_count": 33,
   "id": "d80a9bff-3941-47ac-9cf2-91f1b8747b17",
   "metadata": {},
   "outputs": [
    {
     "name": "stdout",
     "output_type": "stream",
     "text": [
      "[    0.  3050. 16254. 21629. 26775. 28911.     0.     0.     0.     0.\n",
      "     0.     0.     0.     0.     0.     0.     0.     0.     0.     0.\n",
      "     0.     0.     0.     0.     0.     0.     0.     0.     0.     0.\n",
      "     0.     0.     0.     0.     0.     0.     0.     0.     0.     0.\n",
      "     0.     0.     0.     0.     0.     0.     0.     0.     0.     0.\n",
      "     0.     0.     0.     0.]\n",
      "[0. 0. 0. 0. 0. 0. 0. 0. 0. 0. 0. 0. 0. 0. 0. 0. 0. 0. 0. 0. 0. 0. 0. 0.\n",
      " 0. 0. 0. 0. 0. 0. 0. 0. 0. 0. 0. 0. 0. 0. 0. 0. 0. 0. 0. 0. 0. 0. 0. 0.\n",
      " 0. 0. 0. 0. 0. 0.]\n"
     ]
    }
   ],
   "source": [
    "xc=x\n",
    "x=0\n",
    "for j in range (0,n):\n",
    "    if(n[j]==0):\n",
    "        x=x+xc[j]/n\n",
    "    else:\n",
    "        for i in L[j]:\n",
    "            x[i]=x[i]+xc[j]/n[j]\n",
    "x=(1-m)*x+m/n\n"
   ]
  },
  {
   "cell_type": "code",
   "execution_count": null,
   "id": "fa8fb016-da96-4dc9-b1a7-fea0388593d9",
   "metadata": {},
   "outputs": [],
   "source": []
  },
  {
   "cell_type": "code",
   "execution_count": null,
   "id": "fe97ee3a-0249-4f84-a8f5-8b62d7a08d52",
   "metadata": {},
   "outputs": [],
   "source": []
  }
 ],
 "metadata": {
  "kernelspec": {
   "display_name": "Python 3 (ipykernel)",
   "language": "python",
   "name": "python3"
  },
  "language_info": {
   "codemirror_mode": {
    "name": "ipython",
    "version": 3
   },
   "file_extension": ".py",
   "mimetype": "text/x-python",
   "name": "python",
   "nbconvert_exporter": "python",
   "pygments_lexer": "ipython3",
   "version": "3.9.7"
  }
 },
 "nbformat": 4,
 "nbformat_minor": 5
}
