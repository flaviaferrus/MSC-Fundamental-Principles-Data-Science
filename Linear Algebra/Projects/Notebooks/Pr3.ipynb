{
 "cells": [
  {
   "cell_type": "markdown",
   "id": "ccafd43e",
   "metadata": {},
   "source": [
    "## Algorithms for symmetric, banded and sparse matrices"
   ]
  },
  {
   "cell_type": "markdown",
   "id": "6a10cef2",
   "metadata": {},
   "source": [
    "We have a symmetric matrix. By definition a banded matrix is a matrix which has elements on the middle diagonals and zeros on the upper and lower part of the matrix. A sparse system consists of a matrix that has many zeros. \\\n",
    "\\\n",
    "For symmetric matrices the factorization consists of $A = LDL^T$, where $D$ is diagonal. When the matrix is in addition positive definite, then we can define $D^{1/2}$ and then find $G= L D^{1/2}$, such that $A= GG^T$, which is called the Cholesky factorization. \\\n",
    "\\\n",
    "Note that some pivoting strategies do not preserve the structure of the matrices, for instance some of them do not preserve the trace, which is a really important problem. "
   ]
  },
  {
   "cell_type": "markdown",
   "id": "183863f4",
   "metadata": {},
   "source": [
    "### Banded systems"
   ]
  },
  {
   "cell_type": "code",
   "execution_count": 1,
   "id": "98b8ceb4",
   "metadata": {},
   "outputs": [],
   "source": [
    "import numpy as np\n",
    "import scipy.linalg as spla"
   ]
  },
  {
   "cell_type": "markdown",
   "id": "ee2ce4cb",
   "metadata": {},
   "source": [
    "#### Problem 1:"
   ]
  },
  {
   "cell_type": "code",
   "execution_count": 2,
   "id": "3d9f7553",
   "metadata": {},
   "outputs": [],
   "source": [
    "def isBanded(A, p, q, tol, n):\n",
    "    ## p rows with zero elements bellow the diagonal (lower bandwidth)\n",
    "    ## q rows with zero elements above the diagonal  (upper bandwidth)\n",
    "    for i in range(0,n):\n",
    "        for j in range(0,max(-p+i, 0)):\n",
    "            if abs(A[i,j]) > tol:\n",
    "                return 0\n",
    "        for j in range(min(i+q+1, n), n):\n",
    "            if abs(A[i,j]) > tol:\n",
    "                return 0\n",
    "    return 1\n",
    "\n",
    "## if it is banded returns 1 !!"
   ]
  },
  {
   "cell_type": "code",
   "execution_count": 3,
   "id": "eeeebf72",
   "metadata": {},
   "outputs": [],
   "source": [
    "def checkBanded(A, tol, n):\n",
    "    #up, down= -1,-1\n",
    "    for p in range(0,n):\n",
    "        for q in range(0,n):\n",
    "            #print(p, q, isBanded(A, p, q, tol, n))\n",
    "            if isBanded(A, p, q, tol, n) == 1:\n",
    "                return np.array([p,q])\n",
    "            ## finish this program to check the boundaries"
   ]
  },
  {
   "cell_type": "markdown",
   "id": "6fffb613",
   "metadata": {},
   "source": [
    "If we have a huge matrix we need to work with smaller arrays. Note that for every kind of system there are speecific functions\n",
    "\n"
   ]
  },
  {
   "cell_type": "markdown",
   "id": "8841bc45",
   "metadata": {},
   "source": [
    "We denote a banded matrix in terms of the lower bandwidth, p, and the upper bandwidth, q, which represents the number of rows bellow the diagonal and columns above the diagonal, respectively, that are different to zero. In general, we don't include the diagonal itself (1st row/column)."
   ]
  },
  {
   "cell_type": "code",
   "execution_count": 4,
   "id": "48b9082d",
   "metadata": {},
   "outputs": [],
   "source": [
    "import random\n",
    "def randomMatrix(dim):\n",
    "    A = np.zeros((dim,dim))\n",
    "    for i in range(0, dim):\n",
    "        for j in range(0,dim):\n",
    "            A[i,j] = random.uniform(0,1)\n",
    "    return A"
   ]
  },
  {
   "cell_type": "code",
   "execution_count": 5,
   "id": "3badcbc6",
   "metadata": {},
   "outputs": [],
   "source": [
    "def bandedMatrix(dim, p, q):\n",
    "    A= np.zeros((dim,dim))\n",
    "    for i in range(0, dim):\n",
    "        for j in range(max(-p+i, 0), min(i+q+1, dim)):\n",
    "            A[i,j] = random.uniform(0,1)\n",
    "    return A"
   ]
  },
  {
   "cell_type": "code",
   "execution_count": 6,
   "id": "ece1eafa",
   "metadata": {},
   "outputs": [
    {
     "name": "stdout",
     "output_type": "stream",
     "text": [
      "[[0.35953753 0.78467279 0.         0.        ]\n",
      " [0.51755114 0.28343952 0.4797608  0.        ]\n",
      " [0.44973161 0.69786839 0.81546    0.40477566]\n",
      " [0.         0.41102438 0.92615855 0.25137618]]\n",
      "1\n",
      "1\n",
      "0\n",
      "[2 1]\n"
     ]
    }
   ],
   "source": [
    "A=bandedMatrix(4, 2, 1)\n",
    "print(A)\n",
    "isAbanded = isBanded(A, 2, 1, 0.001, 4)\n",
    "print(isAbanded)\n",
    "isAbanded2 = isBanded(A, 2, 2, 0.0001, 4)\n",
    "print(isAbanded2)\n",
    "isAbanded3 = isBanded(A, 1, 1, 0.0001, 4)\n",
    "print(isAbanded3)\n",
    "parameters = checkBanded(A, 0.0001,4)\n",
    "print(parameters)\n",
    "## The minimum p,q for which it is banded are the real banded parameters"
   ]
  },
  {
   "cell_type": "code",
   "execution_count": 7,
   "id": "83b66e54",
   "metadata": {},
   "outputs": [
    {
     "name": "stdout",
     "output_type": "stream",
     "text": [
      "[[0.95780447 0.44319061 0.12236616 0.23022172]\n",
      " [0.57300514 0.95965399 0.67478832 0.96486115]\n",
      " [0.57942318 0.72935912 0.87426255 0.05553082]\n",
      " [0.87809761 0.6763801  0.5330076  0.62364101]]\n"
     ]
    }
   ],
   "source": [
    "A=randomMatrix(4)\n",
    "print(A)"
   ]
  },
  {
   "cell_type": "markdown",
   "id": "8b75771e",
   "metadata": {},
   "source": [
    "We wish to compute now the LU and PLU factorization of banded matrices:"
   ]
  },
  {
   "cell_type": "code",
   "execution_count": 8,
   "id": "d0679304",
   "metadata": {},
   "outputs": [],
   "source": [
    "## LU factorization:\n",
    "def lunopiv(A, n, ptol):\n",
    "    for k in range(0,n-1):\n",
    "        pivot= A[k,k]\n",
    "        if abs(pivot) < ptol:    ## we need the pivot to be positive in order to diagonalize the matrix\n",
    "            print('zero pivot encountered')\n",
    "            break\n",
    "        for i in range(k+1, n):\n",
    "            A[i,k] = A[i,k]/pivot \n",
    "            for j in range(k+1, n):\n",
    "                A[i,j] = A[i,j] - A[i,k]*A[k,j]\n",
    "        L= np.eye(n)+np.tril(A,-1)\n",
    "        U= np.triu(A)\n",
    "        return L, U\n"
   ]
  },
  {
   "cell_type": "code",
   "execution_count": 9,
   "id": "3525f446",
   "metadata": {},
   "outputs": [],
   "source": [
    "from scipy.linalg import lu"
   ]
  },
  {
   "cell_type": "code",
   "execution_count": 10,
   "id": "d6a70138",
   "metadata": {},
   "outputs": [
    {
     "name": "stdout",
     "output_type": "stream",
     "text": [
      "[[0.92184639 0.41688692 0.         0.        ]\n",
      " [0.35613916 0.32694999 0.33856549 0.        ]\n",
      " [0.89242185 0.70557773 0.81664079 0.74745045]\n",
      " [0.         0.76667487 0.59463946 0.52141777]]\n",
      "[[0.74672253 0.19327604 0.         0.        ]\n",
      " [0.69427437 0.21813876 0.27365385 0.        ]\n",
      " [0.         0.31017291 0.10036968 0.04308792]\n",
      " [0.         0.         0.23248406 0.96050782]]\n",
      "[[0.74318699 0.32085708 0.16351161 0.        ]\n",
      " [0.07119707 0.79105432 0.08730218 0.95100875]\n",
      " [0.45076001 0.27800629 0.80318512 0.26334644]\n",
      " [0.         0.84094289 0.42543409 0.46022902]]\n"
     ]
    }
   ],
   "source": [
    "## LU factorization for different banded matrices\n",
    "A= bandedMatrix(4, 2, 1)\n",
    "B = bandedMatrix(4,1,1)\n",
    "C = bandedMatrix(4, 2, 2)\n",
    "\n",
    "print(A)\n",
    "print(B)\n",
    "print(C)"
   ]
  },
  {
   "cell_type": "code",
   "execution_count": 11,
   "id": "6f563658",
   "metadata": {},
   "outputs": [
    {
     "name": "stdout",
     "output_type": "stream",
     "text": [
      "LU factorization of banded matrices \n",
      "\n",
      "[[1.         0.         0.         0.        ]\n",
      " [0.38633244 1.         0.         0.        ]\n",
      " [0.96808086 0.30199748 1.         0.        ]\n",
      " [0.         0.76667487 0.59463946 1.        ]]\n",
      "[[0.92184639 0.41688692 0.         0.        ]\n",
      " [0.         0.16589305 0.33856549 0.        ]\n",
      " [0.         0.         0.81664079 0.74745045]\n",
      " [0.         0.         0.         0.52141777]]\n",
      "[[1.         0.         0.         0.        ]\n",
      " [0.92976217 1.         0.         0.        ]\n",
      " [0.         0.31017291 1.         0.        ]\n",
      " [0.         0.         0.23248406 1.        ]]\n",
      "[[0.74672253 0.19327604 0.         0.        ]\n",
      " [0.         0.03843801 0.27365385 0.        ]\n",
      " [0.         0.         0.10036968 0.04308792]\n",
      " [0.         0.         0.         0.96050782]]\n",
      "[[1.         0.         0.         0.        ]\n",
      " [0.09579967 1.         0.         0.        ]\n",
      " [0.60652301 0.08339909 1.         0.        ]\n",
      " [0.         0.84094289 0.42543409 1.        ]]\n",
      "[[0.74318699 0.32085708 0.16351161 0.        ]\n",
      " [0.         0.76031632 0.07163783 0.95100875]\n",
      " [0.         0.         0.70401157 0.26334644]\n",
      " [0.         0.         0.         0.46022902]]\n"
     ]
    }
   ],
   "source": [
    "La, Ua = lunopiv(A, 4, 1.e-16)\n",
    "Lb, Ub = lunopiv(B, 4, 1.e-16)\n",
    "Lc, Uc = lunopiv(C, 4, 1.e-16)\n",
    "\n",
    "print('LU factorization of banded matrices \\n')\n",
    "print(La)\n",
    "print(Ua)\n",
    "print(Lb)\n",
    "print(Ub)\n",
    "print(Lc)\n",
    "print(Uc)"
   ]
  },
  {
   "cell_type": "markdown",
   "id": "1b586830",
   "metadata": {},
   "source": [
    "The LU diagonalization of banded matrices gives us L matrices lower triangular and U upper triangular with diagonals different of zero given by the parameters p and q respectively"
   ]
  },
  {
   "cell_type": "code",
   "execution_count": 12,
   "id": "c63fb2e0",
   "metadata": {},
   "outputs": [
    {
     "name": "stdout",
     "output_type": "stream",
     "text": [
      "PLU factorization of banded matrices \n",
      "\n",
      "[[0. 0. 1. 0.]\n",
      " [0. 0. 0. 1.]\n",
      " [1. 0. 0. 0.]\n",
      " [0. 1. 0. 0.]]\n",
      "[[1.         0.         0.         0.        ]\n",
      " [0.         1.         0.         0.        ]\n",
      " [0.9522411  0.16866668 1.         0.        ]\n",
      " [0.39907042 0.05918388 0.02565653 1.        ]]\n",
      "[[ 0.96808086  0.30199748  0.81664079  0.74745045]\n",
      " [ 0.          0.76667487  0.59463946  0.52141777]\n",
      " [ 0.          0.         -0.87793479 -0.79969885]\n",
      " [ 0.          0.          0.         -0.30862739]]\n",
      "[[0. 0. 1. 0.]\n",
      " [1. 0. 0. 0.]\n",
      " [0. 1. 0. 0.]\n",
      " [0. 0. 0. 1.]]\n",
      "[[ 1.          0.          0.          0.        ]\n",
      " [ 0.          1.          0.          0.        ]\n",
      " [ 0.80313284  0.52359574  1.          0.        ]\n",
      " [ 0.          0.         -0.85367404  1.        ]]\n",
      "[[ 0.92976217  0.03843801  0.27365385  0.        ]\n",
      " [ 0.          0.31017291  0.10036968  0.04308792]\n",
      " [ 0.          0.         -0.27233353 -0.02256065]\n",
      " [ 0.          0.          0.          0.94124837]]\n",
      "[[1. 0. 0. 0.]\n",
      " [0. 0. 0. 1.]\n",
      " [0. 0. 1. 0.]\n",
      " [0. 1. 0. 0.]]\n",
      "[[ 1.          0.          0.          0.        ]\n",
      " [ 0.          1.          0.          0.        ]\n",
      " [ 0.81611091 -0.21220926  1.          0.        ]\n",
      " [ 0.12890386  0.85494105 -0.47387605  1.        ]]\n",
      "[[0.74318699 0.32085708 0.16351161 0.        ]\n",
      " [0.         0.84094289 0.42543409 0.46022902]\n",
      " [0.         0.         0.66084902 0.3610113 ]\n",
      " [0.         0.         0.         0.72861467]]\n"
     ]
    }
   ],
   "source": [
    "PA, LA, UA = lu(A)\n",
    "PB, LB, UB = lu(B)\n",
    "PC, LC, UC = lu(C)\n",
    "\n",
    "print('PLU factorization of banded matrices \\n')\n",
    "\n",
    "print(PA)\n",
    "print(LA)\n",
    "print(UA)\n",
    "print(PB)\n",
    "print(LB)\n",
    "print(UB)\n",
    "print(PC)\n",
    "print(LC)\n",
    "print(UC)"
   ]
  },
  {
   "cell_type": "code",
   "execution_count": 13,
   "id": "207e1a62",
   "metadata": {},
   "outputs": [
    {
     "name": "stdout",
     "output_type": "stream",
     "text": [
      "[[0.92184639 0.41688692 0.         0.        ]\n",
      " [0.38633244 0.16589305 0.33856549 0.        ]\n",
      " [0.96808086 0.30199748 0.81664079 0.74745045]\n",
      " [0.         0.76667487 0.59463946 0.52141777]]\n",
      "[[1.92184639 0.41688692 0.         0.        ]\n",
      " [0.38633244 1.16589305 0.33856549 0.        ]\n",
      " [0.96808086 0.30199748 1.81664079 0.74745045]\n",
      " [0.         0.76667487 0.59463946 1.52141777]]\n"
     ]
    }
   ],
   "source": [
    "print(A)\n",
    "print(La+Ua)"
   ]
  },
  {
   "cell_type": "code",
   "execution_count": 14,
   "id": "db3b5b1c",
   "metadata": {},
   "outputs": [
    {
     "name": "stdout",
     "output_type": "stream",
     "text": [
      "[[ 1.96808086  0.30199748  0.81664079  0.74745045]\n",
      " [ 0.          1.76667487  0.59463946  0.52141777]\n",
      " [ 0.9522411   0.16866668  0.12206521 -0.79969885]\n",
      " [ 0.39907042  0.05918388  0.02565653  0.69137261]]\n"
     ]
    }
   ],
   "source": [
    "print(LA + UA)"
   ]
  },
  {
   "cell_type": "code",
   "execution_count": null,
   "id": "a3301b90",
   "metadata": {},
   "outputs": [],
   "source": [
    "## Now the same with the scipy lpu factorization!!!"
   ]
  },
  {
   "cell_type": "code",
   "execution_count": null,
   "id": "02d5d008",
   "metadata": {},
   "outputs": [],
   "source": []
  },
  {
   "cell_type": "markdown",
   "id": "478b62b6",
   "metadata": {},
   "source": [
    "#### Problem 2: Multiplication of banded matrices"
   ]
  },
  {
   "cell_type": "markdown",
   "id": "796a9190",
   "metadata": {},
   "source": [
    "Let's consider now the multiplication of banded matrices in order to create a function that stores C= AB by diagonals"
   ]
  },
  {
   "cell_type": "code",
   "execution_count": 15,
   "id": "fd26d984",
   "metadata": {},
   "outputs": [],
   "source": [
    "def ijk_improved(A,B,C):\n",
    "    for i in range(0,n):\n",
    "        for j in range(0,n):\n",
    "            C[i,j]= np.dot(A[i,:], B[:,j])+C[i,j]\n",
    "    return C\n",
    "\n",
    "\n",
    "def ijk_improved2(A,B,C):\n",
    "    for i in range(0,n):\n",
    "        for k in range(0,n):\n",
    "            aux=A[i,k] ## only one memory access\n",
    "            for j in range(0,n):\n",
    "                C[i,j]= aux*B[k,j]+C[i,j]\n",
    "    return C\n",
    "        "
   ]
  },
  {
   "cell_type": "code",
   "execution_count": 16,
   "id": "24451b53",
   "metadata": {},
   "outputs": [
    {
     "name": "stdout",
     "output_type": "stream",
     "text": [
      "[[0.92184639 0.41688692 0.         0.        ]\n",
      " [0.38633244 0.16589305 0.33856549 0.        ]\n",
      " [0.96808086 0.30199748 0.81664079 0.74745045]\n",
      " [0.         0.76667487 0.59463946 0.52141777]]\n",
      "[[0.74672253 0.19327604 0.         0.        ]\n",
      " [0.92976217 0.03843801 0.27365385 0.        ]\n",
      " [0.         0.31017291 0.10036968 0.04308792]\n",
      " [0.         0.         0.23248406 0.96050782]]\n"
     ]
    }
   ],
   "source": [
    "print(A)\n",
    "print(B)"
   ]
  },
  {
   "cell_type": "code",
   "execution_count": 17,
   "id": "9df69356",
   "metadata": {},
   "outputs": [
    {
     "name": "stdout",
     "output_type": "stream",
     "text": [
      "[[1.07596916 0.19419512 0.11408271 0.        ]\n",
      " [0.44272422 0.18605924 0.07937898 0.01458808]\n",
      " [1.00367363 0.45201487 0.33837907 0.75311936]\n",
      " [0.7128253  0.21391051 0.39070863 0.52644762]]\n"
     ]
    }
   ],
   "source": [
    "n=4\n",
    "D=np.zeros((n,n))\n",
    "D=ijk_improved2(A,B,D)\n",
    "print(D)"
   ]
  },
  {
   "cell_type": "markdown",
   "id": "82f78c8a",
   "metadata": {},
   "source": [
    "Note that multiplying A(2,1) and B(1,1) we get a matrix D(3,2). So the bandwidth add each other. Let's study the transposed:"
   ]
  },
  {
   "cell_type": "code",
   "execution_count": 18,
   "id": "1faa8828",
   "metadata": {},
   "outputs": [
    {
     "name": "stdout",
     "output_type": "stream",
     "text": [
      "[[0.76303228 0.34336201 0.0654366  0.        ]\n",
      " [1.1368668  0.47662506 0.23649068 0.20454269]\n",
      " [0.21699583 0.11480135 0.2126016  0.09748818]\n",
      " [0.22506337 0.80660681 0.76101182 0.67459616]]\n"
     ]
    }
   ],
   "source": [
    "n=4\n",
    "D=np.zeros((n,n))\n",
    "D=ijk_improved2(B,A,D)\n",
    "print(D)"
   ]
  },
  {
   "cell_type": "code",
   "execution_count": 19,
   "id": "991431b8",
   "metadata": {},
   "outputs": [
    {
     "name": "stdout",
     "output_type": "stream",
     "text": [
      "[[0.57347026 0.38654214 0.13594368 0.18380721]\n",
      " [0.86064686 0.3503683  0.347436   0.10862065]\n",
      " [0.09059099 0.28043475 0.1112126  0.34123946]\n",
      " [0.14100693 0.82712118 0.57230424 0.50327742]]\n"
     ]
    }
   ],
   "source": [
    "n=4\n",
    "D=np.zeros((n,n))\n",
    "D=ijk_improved2(B,C,D)\n",
    "print(D)"
   ]
  },
  {
   "cell_type": "markdown",
   "id": "0943d118",
   "metadata": {},
   "source": [
    "Here we multiply B(1,1) and C(2,2) getting a matrix D(3,3) which is not banded at all, since we are in dimension 4. Similarly:"
   ]
  },
  {
   "cell_type": "code",
   "execution_count": 20,
   "id": "a2fbadd3",
   "metadata": {},
   "outputs": [
    {
     "name": "stdout",
     "output_type": "stream",
     "text": [
      "[[0.72504188 0.61274687 0.18059746 0.39646311]\n",
      " [0.5083575  0.27832474 0.31340808 0.24692576]\n",
      " [1.24370779 1.23689945 1.07284237 0.84626008]\n",
      " [0.43410972 1.07099037 0.69538488 1.12568229]]\n"
     ]
    }
   ],
   "source": [
    "n=4\n",
    "D=np.zeros((n,n))\n",
    "D=ijk_improved2(A,C,D)\n",
    "print(D)"
   ]
  },
  {
   "cell_type": "markdown",
   "id": "80a0e9da",
   "metadata": {},
   "source": [
    "So, let's consider the function that multiplies banded matrices and stores the product by diagonals. First, let's consider a function that transforms a banded matrix (p,q) into the set of diagonals we wish for.  "
   ]
  },
  {
   "cell_type": "code",
   "execution_count": 21,
   "id": "e3afb027",
   "metadata": {},
   "outputs": [],
   "source": [
    "def store_diagonals(A, tol, dim):\n",
    "    p, q = checkBanded(A, tol, dim)\n",
    "    C = np.zeros((dim, p+q+1))\n",
    "    if (p==dim-1) and (q== dim-1):\n",
    "        return A\n",
    "    else: # we may store the diagonal first, then upper and lower, then the next upper, next lower, ...\n",
    "        for i in range(0, dim):\n",
    "            C[i, 0] = A[i,i]\n",
    "        for i in range(0, dim-1):\n",
    "            ## lower bandwidth\n",
    "            for j in range(0, p):\n",
    "                C[i, j+1] = A[i+1, i]\n",
    "            ## upper bandwidths\n",
    "            for j in range(0, q):\n",
    "                C[i, j+p+1] = A[i, i+1]\n",
    "        return C\n",
    "                "
   ]
  },
  {
   "cell_type": "code",
   "execution_count": 22,
   "id": "3058d775",
   "metadata": {},
   "outputs": [
    {
     "name": "stdout",
     "output_type": "stream",
     "text": [
      "[[0.41151226 0.88608436 0.79985796 0.69285804]\n",
      " [0.43378327 0.07144454 0.40800957 0.96427849]\n",
      " [0.74419914 0.15307497 0.71961756 0.93175154]\n",
      " [0.16676694 0.83752934 0.99527658 0.82462233]]\n",
      "[3 3]\n"
     ]
    }
   ],
   "source": [
    "A = randomMatrix(4)\n",
    "print(A)\n",
    "print(checkBanded(A, 0.001, 4))"
   ]
  },
  {
   "cell_type": "code",
   "execution_count": 23,
   "id": "784217ff",
   "metadata": {},
   "outputs": [
    {
     "name": "stdout",
     "output_type": "stream",
     "text": [
      "[[0.74672253 0.19327604 0.         0.        ]\n",
      " [0.92976217 0.03843801 0.27365385 0.        ]\n",
      " [0.         0.31017291 0.10036968 0.04308792]\n",
      " [0.         0.         0.23248406 0.96050782]]\n",
      "[[0.74672253 0.92976217 0.19327604]\n",
      " [0.03843801 0.31017291 0.27365385]\n",
      " [0.10036968 0.23248406 0.04308792]\n",
      " [0.96050782 0.         0.        ]]\n"
     ]
    }
   ],
   "source": [
    "print(B)\n",
    "B_diag = store_diagonals(B, 0.001, 4)\n",
    "print(B_diag)\n",
    "\n",
    "#### IT WORKS!!"
   ]
  },
  {
   "cell_type": "code",
   "execution_count": 24,
   "id": "6d94df3d",
   "metadata": {},
   "outputs": [
    {
     "name": "stdout",
     "output_type": "stream",
     "text": [
      "[[0.89272785 0.61560634 0.         0.        ]\n",
      " [0.50272339 0.74294976 0.27127728 0.        ]\n",
      " [0.01144827 0.66839153 0.27747178 0.42564452]\n",
      " [0.         0.22843359 0.78926128 0.53650407]]\n",
      "[[0.89272785 0.50272339 0.50272339 0.61560634]\n",
      " [0.74294976 0.66839153 0.66839153 0.27127728]\n",
      " [0.27747178 0.78926128 0.78926128 0.42564452]\n",
      " [0.53650407 0.         0.         0.        ]]\n"
     ]
    }
   ],
   "source": [
    "A= bandedMatrix(4, 2, 1)\n",
    "print(A)\n",
    "A_diag = store_diagonals(A, 0.001, 4)\n",
    "print(A_diag)"
   ]
  },
  {
   "cell_type": "code",
   "execution_count": 25,
   "id": "52328f75",
   "metadata": {},
   "outputs": [
    {
     "name": "stdout",
     "output_type": "stream",
     "text": [
      "[[0.21299431 0.22840916 0.         0.         0.         0.        ]\n",
      " [0.37009261 0.39105908 0.55058164 0.         0.         0.        ]\n",
      " [0.61181174 0.73839459 0.62596713 0.16093252 0.         0.        ]\n",
      " [0.         0.04726385 0.65243259 0.70850026 0.89551585 0.        ]\n",
      " [0.         0.         0.41426653 0.13305974 0.90816501 0.86785176]\n",
      " [0.         0.         0.         0.68648426 0.49097453 0.83207562]]\n",
      "[[0.21299431 0.37009261 0.37009261 0.22840916]\n",
      " [0.39105908 0.73839459 0.73839459 0.55058164]\n",
      " [0.62596713 0.65243259 0.65243259 0.16093252]\n",
      " [0.70850026 0.         0.         0.        ]]\n"
     ]
    }
   ],
   "source": [
    "C= bandedMatrix(6, 2, 1)\n",
    "print(C)\n",
    "C_diag = store_diagonals(C, 0.001, 4)\n",
    "print(C_diag)"
   ]
  },
  {
   "cell_type": "markdown",
   "id": "b3068654",
   "metadata": {},
   "source": [
    "Now we can create the function that actually multiplies two banded matrices and then saves the results in diagonals. In order to minimize operations we can try to multiply just the bands"
   ]
  },
  {
   "cell_type": "code",
   "execution_count": 26,
   "id": "d4802f7e",
   "metadata": {},
   "outputs": [],
   "source": [
    "def ijk_improved(A,B,C):\n",
    "    for i in range(0,n):\n",
    "        for j in range(0,n):\n",
    "            C[i,j]= np.dot(A[i,:], B[:,j])+C[i,j]\n",
    "    return C\n",
    " \n",
    "## When a banded of dimension n is not banded we get parameters p,q = dim-1, dim-1"
   ]
  },
  {
   "cell_type": "markdown",
   "id": "9f6e1b13",
   "metadata": {},
   "source": [
    "## Class 07/10/2022\n"
   ]
  },
  {
   "cell_type": "markdown",
   "id": "f4d38dc9",
   "metadata": {},
   "source": [
    "### Sparse systems: recommenders\n",
    "\n",
    "#### Problem 3. \n",
    "\n",
    "**(a)**\n",
    "\n",
    "We may consider 3 vectors:\n",
    "- data = (10, -2, 3, 9, ...)\n",
    "    - set of numbers that are not 0, *val*\n",
    "- indices = (0, 4, 0, ,1 ...)\n",
    "    - columns where the numbers are, it has the same dimensions as data *col_ind*\n",
    "- indptr = (0,2,5,8,...)\n",
    "    - it is smaller, and tells us when to change rows\n",
    "    \n",
    "Now we can recover the matrix with quite smaller memory size usage. \n",
    "\n",
    "There is also the coordinate form, using a, i, j for the $a_{ij} \\neq 0$. We may use this form for the project. "
   ]
  },
  {
   "cell_type": "code",
   "execution_count": 27,
   "id": "4ea8cca0",
   "metadata": {},
   "outputs": [],
   "source": [
    "#A = scipy.sparse.csr matrix((data, col_ind, ))"
   ]
  },
  {
   "cell_type": "markdown",
   "id": "8f654de6",
   "metadata": {},
   "source": [
    "**(b)**\n",
    "\n",
    "\n"
   ]
  },
  {
   "cell_type": "code",
   "execution_count": 28,
   "id": "1bfc9206",
   "metadata": {},
   "outputs": [],
   "source": [
    "import numpy as np\n",
    "import scipy.sparse \n",
    "\n",
    "def smatvec(a, ja, ia, x, y, n):\n",
    "    for i in range(0,n):\n",
    "        for j in range(ia[i], ia[i+1]):\n",
    "            y[i] = y[i] + a[j]*x[ja[j]]\n",
    "        return y"
   ]
  },
  {
   "cell_type": "markdown",
   "id": "9af78ea9",
   "metadata": {},
   "source": [
    "**(c)**\n",
    "\n",
    "Collection of matrices, each matrix having the corresponding parameters. \n",
    "Matrix Market form for python. "
   ]
  },
  {
   "cell_type": "markdown",
   "id": "3a3f2a37",
   "metadata": {},
   "source": [
    "#### Problem 4. \n",
    "\n",
    "There are functions in scipy.sparse to solve the corresponding linear system, we may have to tell the function how the matrix is stored, there are other functions that work for specific matrix forms. "
   ]
  },
  {
   "cell_type": "code",
   "execution_count": 30,
   "id": "14b13936",
   "metadata": {},
   "outputs": [
    {
     "data": {
      "text/plain": [
       "'\\n    rows, cols, data =np.loadtxt(\"CurlCurl_0.mtx\", skiprows = 83, unpack = True)\\nrows = rows- 1\\nA = spsp.coo_matrix((data, rows, cols), shape=(11083, 11083))\\n\\n### per acabar\\n\\ncscA = spsp.csc_matrix(A)\\nlu= spspla.splu(cscA)\\n#print\\n'"
      ]
     },
     "execution_count": 30,
     "metadata": {},
     "output_type": "execute_result"
    }
   ],
   "source": [
    "import scipy.sparse as spsp\n",
    "from scipy.sparse import csr_matrix\n",
    "\n",
    "'''\n",
    "    rows, cols, data =np.loadtxt(\"CurlCurl_0.mtx\", skiprows = 83, unpack = True)\n",
    "rows = rows- 1\n",
    "A = spsp.coo_matrix((data, rows, cols), shape=(11083, 11083))\n",
    "\n",
    "### per acabar\n",
    "\n",
    "cscA = spsp.csc_matrix(A)\n",
    "lu= spspla.splu(cscA)\n",
    "#print\n",
    "'''\n"
   ]
  },
  {
   "cell_type": "markdown",
   "id": "9a3fa95f",
   "metadata": {},
   "source": [
    "# Class 21 october 2022 \n",
    "\n",
    "Given a banded matrix $A \\in B(b_l, b_u)$,\n",
    "$$\n",
    "A = \\begin{pmatrix}\n",
    "a_{11} & \\cdots & a_{1, b_u+1} & 0 & \\cdots & 0 \\\\\n",
    "\\vdots & \\cdots & \\cdots & \\cdots & \\cdots & 0 \\\\\n",
    "a_{b_l +1, 1} & \\cdots & \\cdots & \\cdots & \\cdots & 0 \\\\\n",
    "0 & \\cdots & \\cdots & \\cdots & \\cdots & 0 \\\\\n",
    "\\vdots & \\cdots & \\cdots & \\cdots & \\cdots & \\vdots \\\\\n",
    "0 & \\cdots & \\cdots & \\cdots & \\cdots & a_{nn} \n",
    "\\end{pmatrix}\n",
    "$$\n",
    "\n",
    "we want to know what happens with their factorization matrices $A= LU$, are they $L+ U \\in B(b_l, b_u)$. We have that $LU$ factorization mantains the banded structure. For instance:\n",
    "$$\n",
    "A = \\begin{pmatrix}\n",
    "2 & -1 & 0 & 0 \\\\\n",
    "4 & -1 & 3 & 0 \\\\\n",
    "0 & -1 & -2 & 1 \\\\\n",
    "0 & 0 & 3 & 4 \n",
    "\\end{pmatrix}= \\underbrace{\\begin{pmatrix}\n",
    "1 & 0 & 0 & 0 \\\\\n",
    "2 & 1 & 0 & 0 \\\\\n",
    "0 & -1 & 1 & 0 \\\\\n",
    "0 & 0 & 3 & 1 \n",
    "\\end{pmatrix}}_L \\underbrace{\\begin{pmatrix}\n",
    "2 & -1 & 0 & 0 \\\\\n",
    "0 & 1 & 3 & 0 \\\\\n",
    "0 & 0 & 1 & 1 \\\\\n",
    "0 & 0 & 0 & 1\n",
    "\\end{pmatrix}}_U\n",
    "$$\n",
    "\n",
    "Something similar happens with the PLU factorization:\n",
    "$$\n",
    "A=\\underbrace{\\begin{pmatrix}\n",
    "0 & 0 & 0 & 1 \\\\\n",
    "1 & 0 & 0 & 0 \\\\\n",
    "0 & 1 & 0 & 0 \\\\\n",
    "0 & 0 & 1 & 0 \n",
    "\\end{pmatrix}}_P \\underbrace{\\begin{pmatrix}\n",
    "1 & 0 & 0 & 0 \\\\\n",
    "0 & 1 & 0 & 0 \\\\\n",
    "0 & 0 & 1 & 0 \\\\\n",
    "1/2 & 1/2 & -1/2 & 1 \n",
    "\\end{pmatrix}}_L \\underbrace{\\begin{pmatrix}\n",
    "4 & 3 & 0 & 0 \\\\\n",
    "0 & -1 & 2 & 0 \\\\\n",
    "0 & 0 & 3 & 4 \\\\\n",
    "0 & 0 & 0 & 1/2\n",
    "\\end{pmatrix}}_U\n",
    "$$\n",
    "\n",
    "In the PLU factorization we have $L+U \\in B($ full but sparese with $b_l$ elements , $b_l + b_u$)"
   ]
  },
  {
   "cell_type": "code",
   "execution_count": null,
   "id": "01dad597",
   "metadata": {},
   "outputs": [],
   "source": []
  }
 ],
 "metadata": {
  "kernelspec": {
   "display_name": "Python 3 (ipykernel)",
   "language": "python",
   "name": "python3"
  },
  "language_info": {
   "codemirror_mode": {
    "name": "ipython",
    "version": 3
   },
   "file_extension": ".py",
   "mimetype": "text/x-python",
   "name": "python",
   "nbconvert_exporter": "python",
   "pygments_lexer": "ipython3",
   "version": "3.9.7"
  }
 },
 "nbformat": 4,
 "nbformat_minor": 5
}
