{
 "cells": [
  {
   "cell_type": "code",
   "execution_count": 1,
   "id": "bd8025f5",
   "metadata": {},
   "outputs": [],
   "source": [
    "import numpy as np"
   ]
  },
  {
   "cell_type": "code",
   "execution_count": 2,
   "id": "1a5e5876",
   "metadata": {},
   "outputs": [
    {
     "data": {
      "text/plain": [
       "array([[1., 0., 0., 0., 0., 0.],\n",
       "       [0., 1., 0., 0., 0., 0.],\n",
       "       [0., 0., 1., 0., 0., 0.],\n",
       "       [0., 0., 0., 1., 0., 0.],\n",
       "       [0., 0., 0., 0., 1., 0.],\n",
       "       [0., 0., 0., 0., 0., 1.]])"
      ]
     },
     "execution_count": 2,
     "metadata": {},
     "output_type": "execute_result"
    }
   ],
   "source": [
    "m= 6\n",
    "s_0 = np.full((m, 1), 1)\n",
    "S = np.zeros((m,m))\n",
    "np.fill_diagonal(S, s_0)\n",
    "S"
   ]
  },
  {
   "cell_type": "code",
   "execution_count": 5,
   "id": "b6fb8ee0",
   "metadata": {},
   "outputs": [
    {
     "name": "stdout",
     "output_type": "stream",
     "text": [
      "[[0.]\n",
      " [1.]\n",
      " [2.]\n",
      " [3.]\n",
      " [4.]\n",
      " [5.]] [[0.]\n",
      " [1.]\n",
      " [2.]\n",
      " [3.]\n",
      " [4.]\n",
      " [5.]]\n"
     ]
    }
   ],
   "source": [
    "lambda_0 = np.zeros((m, 1))\n",
    "for i in range(0, m):\n",
    "    lambda_0[i] = i\n",
    "#lambda_0 = np.full((m, 1), 3)\n",
    "rs = np.zeros((m, 1))\n",
    "for i in range(0, m):\n",
    "        rs[i] = s_0[i]*lambda_0[i]\n",
    "        \n",
    "rss = s_0 * lambda_0\n",
    "\n",
    "print(rs, rss)"
   ]
  },
  {
   "cell_type": "code",
   "execution_count": null,
   "id": "3256fa92",
   "metadata": {},
   "outputs": [],
   "source": []
  },
  {
   "cell_type": "code",
   "execution_count": 2,
   "id": "70e787a8",
   "metadata": {},
   "outputs": [
    {
     "name": "stdout",
     "output_type": "stream",
     "text": [
      "[[1. 0. 0. 1. 0. 0.]\n",
      " [0. 1. 0. 0. 1. 0.]\n",
      " [0. 0. 1. 0. 0. 1.]]\n",
      "[[ 0.33190277]\n",
      " [-0.09023093]\n",
      " [ 0.96876371]]\n"
     ]
    }
   ],
   "source": [
    "n=3\n",
    "\n",
    "A=np.zeros((n,n))\n",
    "m = 2*n\n",
    "G = np.identity(n)\n",
    "#C =np.zeros((1, 2), np.matrix)\n",
    "#C[0, 0] = np.identity(n)\n",
    "#C[0,1] = np.identity(n)\n",
    "C = np.block([\n",
    "    [np.identity(n), np.identity(n)]\n",
    "])\n",
    "\n",
    "d = np.full((1, m), -10)\n",
    "g = np.random.normal(0,1, size= (n, 1))\n",
    "x_0 = np.zeros((n,1))\n",
    "s_0 = np.full((m, 1), 1)\n",
    "lambda_0 = np.full((m,1), 1)\n",
    "\n",
    "print(C)\n",
    "print(g)"
   ]
  },
  {
   "cell_type": "code",
   "execution_count": 3,
   "id": "59104ebd",
   "metadata": {
    "scrolled": true
   },
   "outputs": [
    {
     "name": "stdout",
     "output_type": "stream",
     "text": [
      "[[ 1.  0.  0. -1. -0. -0. -1. -0. -0.  0.  0.  0.  0.  0.  0.]\n",
      " [ 0.  1.  0. -0. -1. -0. -0. -1. -0.  0.  0.  0.  0.  0.  0.]\n",
      " [ 0.  0.  1. -0. -0. -1. -0. -0. -1.  0.  0.  0.  0.  0.  0.]\n",
      " [-1. -0. -0.  0.  0.  0.  0.  0.  0.  1.  0.  0.  0.  0.  0.]\n",
      " [-0. -1. -0.  0.  0.  0.  0.  0.  0.  0.  1.  0.  0.  0.  0.]\n",
      " [-0. -0. -1.  0.  0.  0.  0.  0.  0.  0.  0.  1.  0.  0.  0.]\n",
      " [-1. -0. -0.  0.  0.  0.  0.  0.  0.  0.  0.  0.  1.  0.  0.]\n",
      " [-0. -1. -0.  0.  0.  0.  0.  0.  0.  0.  0.  0.  0.  1.  0.]\n",
      " [-0. -0. -1.  0.  0.  0.  0.  0.  0.  0.  0.  0.  0.  0.  1.]\n",
      " [ 0.  0.  0.  1.  0.  0.  0.  0.  0.  1.  0.  0.  0.  0.  0.]\n",
      " [ 0.  0.  0.  0.  1.  0.  0.  0.  0.  0.  1.  0.  0.  0.  0.]\n",
      " [ 0.  0.  0.  0.  0.  1.  0.  0.  0.  0.  0.  1.  0.  0.  0.]\n",
      " [ 0.  0.  0.  0.  0.  0.  1.  0.  0.  0.  0.  0.  1.  0.  0.]\n",
      " [ 0.  0.  0.  0.  0.  0.  0.  1.  0.  0.  0.  0.  0.  1.  0.]\n",
      " [ 0.  0.  0.  0.  0.  0.  0.  0.  1.  0.  0.  0.  0.  0.  1.]]\n",
      "[[1]\n",
      " [1]\n",
      " [1]\n",
      " [1]\n",
      " [1]\n",
      " [1]\n",
      " [1]\n",
      " [1]\n",
      " [1]\n",
      " [1]\n",
      " [1]\n",
      " [1]\n",
      " [1]\n",
      " [1]\n",
      " [1]]\n"
     ]
    }
   ],
   "source": [
    "rl = np.full((n, 1), 1)\n",
    "rc = np.full((m, 1), 1)\n",
    "rs = np.full((m, 1), 1)\n",
    "mu = 1\n",
    "\n",
    "m= 2*n\n",
    "S = np.zeros((m,m))\n",
    "np.fill_diagonal(S, s_0)\n",
    "Lam = np.zeros((m,m))\n",
    "np.fill_diagonal(Lam, lambda_0)\n",
    "\n",
    "MK= np.block([\n",
    "    [ G, -C, np.zeros((n,m)) ],\n",
    "    [-C.T , np.zeros((m,m)), np.identity(m)], \n",
    "    [np.zeros((m,n)), S, Lam]\n",
    "])\n",
    "\n",
    "print(MK)\n",
    "\n",
    "F_z0 = np.block([\n",
    "    [rl],\n",
    "    [rc],\n",
    "    [rs]\n",
    "])\n",
    "print(F_z0)"
   ]
  },
  {
   "cell_type": "code",
   "execution_count": null,
   "id": "cc899466",
   "metadata": {},
   "outputs": [],
   "source": []
  },
  {
   "cell_type": "code",
   "execution_count": 91,
   "id": "8d18f9fa",
   "metadata": {},
   "outputs": [
    {
     "name": "stdout",
     "output_type": "stream",
     "text": [
      "[[ 0.33333333]\n",
      " [ 0.33333333]\n",
      " [ 0.33333333]\n",
      " [-0.33333333]\n",
      " [-0.33333333]\n",
      " [-0.33333333]\n",
      " [-0.33333333]\n",
      " [-0.33333333]\n",
      " [-0.33333333]\n",
      " [ 1.33333333]\n",
      " [ 1.33333333]\n",
      " [ 1.33333333]\n",
      " [ 1.33333333]\n",
      " [ 1.33333333]\n",
      " [ 1.33333333]]\n"
     ]
    }
   ],
   "source": [
    "dz = np.linalg.solve(MK, F_z0)\n",
    "print(dz)"
   ]
  },
  {
   "cell_type": "code",
   "execution_count": 92,
   "id": "480c45a4",
   "metadata": {},
   "outputs": [
    {
     "name": "stdout",
     "output_type": "stream",
     "text": [
      "[[0.33333333]\n",
      " [0.33333333]\n",
      " [0.33333333]]\n",
      "[[-0.33333333]\n",
      " [-0.33333333]\n",
      " [-0.33333333]\n",
      " [-0.33333333]\n",
      " [-0.33333333]\n",
      " [-0.33333333]]\n",
      "[[1.33333333]\n",
      " [1.33333333]\n",
      " [1.33333333]\n",
      " [1.33333333]\n",
      " [1.33333333]\n",
      " [1.33333333]]\n"
     ]
    }
   ],
   "source": [
    "dx = dz[0:n]\n",
    "dlamb = dz[(n):(n+m)]\n",
    "ds = dz[(n + m):(n+m+m)]\n",
    "print(dx)\n",
    "print(dlamb)\n",
    "print(ds)"
   ]
  },
  {
   "cell_type": "code",
   "execution_count": 101,
   "id": "a3f63a76",
   "metadata": {},
   "outputs": [
    {
     "name": "stdout",
     "output_type": "stream",
     "text": [
      "1\n"
     ]
    }
   ],
   "source": [
    "def Newton_step(lamb0, dlamb, s0, ds):\n",
    "    '''\n",
    "    This function computes alpha so that the step-size\n",
    "    alpha*dz guarantees feasibility.\n",
    "    It is used on the step-size correction substeps \n",
    "    of the algorithm.\n",
    "    \n",
    "\n",
    "    Parameters\n",
    "    ----------\n",
    "    lamb0 : inequality constraints initial conditions\n",
    "    dlamb : lambda step\n",
    "    s0 : C^T x - d for x_0 initial point\n",
    "    ds : s step\n",
    "\n",
    "    Returns\n",
    "    -------\n",
    "    alp : Newton step size, alpha\n",
    "\n",
    "    '''\n",
    "    alp = 1\n",
    "    idx_lamb0 = np.array(np.where(dlamb< 0)[0])\n",
    "    if idx_lamb0.size >0 :\n",
    "        alp= min(alp, np.min(-lamb0[idx_lamb0] / dlamb[idx_lamb0]))\n",
    "        \n",
    "    idx_s0 = np.array(np.where(ds<0))\n",
    "    if idx_s0.size> 0:\n",
    "        alp= min(alp, np.min(-s0[idx_s0] / ds[idx_s0]))\n",
    "     \n",
    "    return alp\n",
    "\n",
    "alpha = Newton_step(lambda_0, dlamb, s_0, ds)\n",
    "print(alpha)"
   ]
  },
  {
   "cell_type": "code",
   "execution_count": 94,
   "id": "34592958",
   "metadata": {},
   "outputs": [
    {
     "name": "stdout",
     "output_type": "stream",
     "text": [
      "[[0 1 2 3 4 5]\n",
      " [0 0 0 0 0 0]]\n",
      "12\n"
     ]
    }
   ],
   "source": [
    "idx_lamb0 = np.array(np.where(dlamb< 0))\n",
    "print(idx_lamb0)\n",
    "print(idx_lamb0.size)"
   ]
  },
  {
   "cell_type": "code",
   "execution_count": 95,
   "id": "8e25aa73",
   "metadata": {},
   "outputs": [
    {
     "data": {
      "text/plain": [
       "(array([0, 1, 2, 3, 4, 5]), array([0, 0, 0, 0, 0, 0]))"
      ]
     },
     "execution_count": 95,
     "metadata": {},
     "output_type": "execute_result"
    }
   ],
   "source": [
    "np.where(dlamb< 0)\n",
    "# com que tots són negatius els canvia tots per 0"
   ]
  },
  {
   "cell_type": "code",
   "execution_count": 145,
   "id": "8839a952",
   "metadata": {},
   "outputs": [
    {
     "data": {
      "text/plain": [
       "array([[-0.33333333],\n",
       "       [-0.33333333],\n",
       "       [-0.33333333],\n",
       "       [-0.33333333],\n",
       "       [-0.33333333],\n",
       "       [-0.33333333]])"
      ]
     },
     "execution_count": 145,
     "metadata": {},
     "output_type": "execute_result"
    }
   ],
   "source": [
    "dlamb"
   ]
  },
  {
   "cell_type": "code",
   "execution_count": 144,
   "id": "95ca240c",
   "metadata": {},
   "outputs": [
    {
     "data": {
      "text/plain": [
       "True"
      ]
     },
     "execution_count": 144,
     "metadata": {},
     "output_type": "execute_result"
    }
   ],
   "source": [
    "dlamb.any()>0"
   ]
  },
  {
   "cell_type": "code",
   "execution_count": 146,
   "id": "0a1b2545",
   "metadata": {},
   "outputs": [
    {
     "data": {
      "text/plain": [
       "array([-0.33333333])"
      ]
     },
     "execution_count": 146,
     "metadata": {},
     "output_type": "execute_result"
    }
   ],
   "source": [
    "min(dlamb)"
   ]
  },
  {
   "cell_type": "code",
   "execution_count": 97,
   "id": "25443549",
   "metadata": {},
   "outputs": [
    {
     "data": {
      "text/plain": [
       "array([[1],\n",
       "       [1],\n",
       "       [1],\n",
       "       [1],\n",
       "       [1],\n",
       "       [1]])"
      ]
     },
     "execution_count": 97,
     "metadata": {},
     "output_type": "execute_result"
    }
   ],
   "source": [
    "lambda_0"
   ]
  },
  {
   "cell_type": "code",
   "execution_count": 68,
   "id": "6361b91a",
   "metadata": {},
   "outputs": [
    {
     "data": {
      "text/plain": [
       "2.9999999999999987"
      ]
     },
     "execution_count": 68,
     "metadata": {},
     "output_type": "execute_result"
    }
   ],
   "source": [
    "np.min(-lambda_0/dlamb)"
   ]
  },
  {
   "cell_type": "code",
   "execution_count": 98,
   "id": "c8567017",
   "metadata": {},
   "outputs": [
    {
     "data": {
      "text/plain": [
       "1"
      ]
     },
     "execution_count": 98,
     "metadata": {},
     "output_type": "execute_result"
    }
   ],
   "source": [
    "alp=1\n",
    "#idx_lamb0 = np.array(np.where(dlamb< 0)[0])\n",
    "min(alp, np.min(-lambda_0[idx_lamb0] / dlamb[idx_lamb0]))"
   ]
  },
  {
   "cell_type": "code",
   "execution_count": 99,
   "id": "b0808799",
   "metadata": {},
   "outputs": [
    {
     "name": "stdout",
     "output_type": "stream",
     "text": [
      "[[0 1 2 3 4 5]\n",
      " [0 0 0 0 0 0]]\n",
      "[[1]\n",
      " [1]\n",
      " [1]\n",
      " [1]\n",
      " [1]\n",
      " [1]]\n",
      "(2, 6)\n",
      "[0 1 2 3 4 5]\n",
      "[0 0 0 0 0 0]\n",
      "[1]\n",
      "[1]\n"
     ]
    }
   ],
   "source": [
    "print(idx_lamb0)\n",
    "print(lambda_0)\n",
    "#lambda_0[idx_lamb0]\n",
    "print(idx_lamb0.shape)\n",
    "\n",
    "for i in idx_lamb0:\n",
    "    print(i)\n",
    "    #print(lambda_0[i])\n",
    "#min(lambda_0[idx_lamb0])\n",
    "print(lambda_0[0])\n",
    "print(lambda_0[1])"
   ]
  },
  {
   "cell_type": "markdown",
   "id": "53b829a3",
   "metadata": {},
   "source": [
    " El que fa Newton_step és agafar els steps de dlambda que siguin negatius, i llavors agafa com a valor d'alpha el mínim entre el valor que ja teníem com alpha i el mínim entre els quocients de lambda entre el valor de dlamb en positiu."
   ]
  },
  {
   "cell_type": "code",
   "execution_count": 127,
   "id": "988fd2c2",
   "metadata": {},
   "outputs": [],
   "source": [
    "def compute_mus(s0, lamb0, n, dz, alp):\n",
    "    m=2*n\n",
    "    dx = dz[0:n]\n",
    "    dlamb = dz[(n):(n+m)]\n",
    "    ds = dz[(n + m):(n+m+m)]\n",
    "    \n",
    "    mu = np.dot(s0.T,lamb0) / m\n",
    "    mu2 = np.dot((s0 + alp*ds).T,(lamb0 + alp*dlamb))/m\n",
    "    sigma = (mu2/mu)**3\n",
    "    \n",
    "    return mu, mu2, sigma"
   ]
  },
  {
   "cell_type": "code",
   "execution_count": 128,
   "id": "b12f94be",
   "metadata": {},
   "outputs": [],
   "source": [
    "mu, mu2, sigma = compute_mus(s_0, lambda_0, n, dz, alp)"
   ]
  },
  {
   "cell_type": "code",
   "execution_count": 129,
   "id": "187da8dc",
   "metadata": {},
   "outputs": [
    {
     "data": {
      "text/plain": [
       "array([[6]])"
      ]
     },
     "execution_count": 129,
     "metadata": {},
     "output_type": "execute_result"
    }
   ],
   "source": [
    "np.dot(s_0.T, lambda_0)"
   ]
  },
  {
   "cell_type": "code",
   "execution_count": 130,
   "id": "262312f5",
   "metadata": {},
   "outputs": [
    {
     "name": "stdout",
     "output_type": "stream",
     "text": [
      "[[1.]]\n",
      "[[1.55555556]]\n",
      "[[3.76406036]]\n"
     ]
    }
   ],
   "source": [
    "print(mu)\n",
    "print(mu2)\n",
    "print(sigma)"
   ]
  },
  {
   "cell_type": "code",
   "execution_count": 131,
   "id": "7fc6f994",
   "metadata": {},
   "outputs": [],
   "source": [
    "def predictor_substep(n, G, C, x_0, lambda_0, s_0, rl, rc, rs):\n",
    "    '''\n",
    "    This function conducts the 1)Predictor substep: \n",
    "        it computes the standard Newton step dz=(dx, dlamb, ds)\n",
    "        by solving the KKT system\n",
    "    \n",
    "\n",
    "    Returns\n",
    "    -------\n",
    "    dz: array \n",
    "        The solution of the KKT system, which accounts for the \n",
    "        Newton's step size\n",
    "\n",
    "    '''\n",
    "    \n",
    "    m= 2*n\n",
    "    S = np.zeros((m,m))\n",
    "    np.fill_diagonal(S, s_0)\n",
    "    Lam = np.zeros((m,m))\n",
    "    np.fill_diagonal(Lam, lambda_0)\n",
    "    \n",
    "    MK= np.block([\n",
    "        [ G, -C, np.zeros((n,m)) ],\n",
    "        [-C.T , np.zeros((m,m)), np.identity(m)], \n",
    "        [np.zeros((m,n)), S, Lam]\n",
    "    ])\n",
    "    \n",
    "\n",
    "    F_z0 = np.block([\n",
    "        [rl],\n",
    "        [rc],\n",
    "        [rs]\n",
    "    ])\n",
    "    F_z0 = -F_z0\n",
    "    ## Verify this step \n",
    "    dz = np.linalg.solve(MK, F_z0)\n",
    "    \n",
    "    return dz"
   ]
  },
  {
   "cell_type": "code",
   "execution_count": 138,
   "id": "5cc6483f",
   "metadata": {},
   "outputs": [
    {
     "name": "stdout",
     "output_type": "stream",
     "text": [
      "[[2.47233653]\n",
      " [2.47233653]\n",
      " [2.47233653]\n",
      " [1.73616827]\n",
      " [1.73616827]\n",
      " [1.73616827]\n",
      " [1.73616827]\n",
      " [1.73616827]\n",
      " [1.73616827]\n",
      " [1.47233653]\n",
      " [1.47233653]\n",
      " [1.47233653]\n",
      " [1.47233653]\n",
      " [1.47233653]\n",
      " [1.47233653]]\n"
     ]
    }
   ],
   "source": [
    "e_vector=np.full((m, 1), 1)\n",
    "DsDl_e = np.full((m, 1), ds*dlamb)\n",
    "rs_new = - rs - DsDl_e + mu * sigma.T* e_vector\n",
    "dz1 = predictor_substep(n, G, C, x_0, lambda_0, s_0, rl, rc, -rs_new)\n",
    "print(dz1)"
   ]
  },
  {
   "cell_type": "code",
   "execution_count": 139,
   "id": "57d94b13",
   "metadata": {},
   "outputs": [
    {
     "ename": "ValueError",
     "evalue": "could not broadcast input array from shape (7,1) into shape (8,1)",
     "output_type": "error",
     "traceback": [
      "\u001b[0;31m---------------------------------------------------------------------------\u001b[0m",
      "\u001b[0;31mValueError\u001b[0m                                Traceback (most recent call last)",
      "\u001b[0;32m/var/folders/df/4599m83s2vj4j1_h__gx7kqw0000gn/T/ipykernel_3152/144178261.py\u001b[0m in \u001b[0;36m<module>\u001b[0;34m\u001b[0m\n\u001b[1;32m    197\u001b[0m \u001b[0;34m\u001b[0m\u001b[0m\n\u001b[1;32m    198\u001b[0m \u001b[0;34m\u001b[0m\u001b[0m\n\u001b[0;32m--> 199\u001b[0;31m \u001b[0mtestProblem\u001b[0m\u001b[0;34m(\u001b[0m\u001b[0;36m4\u001b[0m\u001b[0;34m)\u001b[0m\u001b[0;34m\u001b[0m\u001b[0;34m\u001b[0m\u001b[0m\n\u001b[0m\u001b[1;32m    200\u001b[0m \u001b[0;34m\u001b[0m\u001b[0m\n\u001b[1;32m    201\u001b[0m \u001b[0;34m\u001b[0m\u001b[0m\n",
      "\u001b[0;32m/var/folders/df/4599m83s2vj4j1_h__gx7kqw0000gn/T/ipykernel_3152/144178261.py\u001b[0m in \u001b[0;36mtestProblem\u001b[0;34m(n)\u001b[0m\n\u001b[1;32m    181\u001b[0m \u001b[0;34m\u001b[0m\u001b[0m\n\u001b[1;32m    182\u001b[0m     \u001b[0me_vector\u001b[0m\u001b[0;34m=\u001b[0m\u001b[0mnp\u001b[0m\u001b[0;34m.\u001b[0m\u001b[0mfull\u001b[0m\u001b[0;34m(\u001b[0m\u001b[0;34m(\u001b[0m\u001b[0mm\u001b[0m\u001b[0;34m,\u001b[0m \u001b[0;36m1\u001b[0m\u001b[0;34m)\u001b[0m\u001b[0;34m,\u001b[0m \u001b[0;36m1\u001b[0m\u001b[0;34m)\u001b[0m\u001b[0;34m\u001b[0m\u001b[0;34m\u001b[0m\u001b[0m\n\u001b[0;32m--> 183\u001b[0;31m     \u001b[0mDsDl_e\u001b[0m \u001b[0;34m=\u001b[0m \u001b[0mnp\u001b[0m\u001b[0;34m.\u001b[0m\u001b[0mfull\u001b[0m\u001b[0;34m(\u001b[0m\u001b[0;34m(\u001b[0m\u001b[0mm\u001b[0m\u001b[0;34m,\u001b[0m \u001b[0;36m1\u001b[0m\u001b[0;34m)\u001b[0m\u001b[0;34m,\u001b[0m \u001b[0mds\u001b[0m\u001b[0;34m*\u001b[0m\u001b[0mdlamb\u001b[0m\u001b[0;34m)\u001b[0m\u001b[0;34m\u001b[0m\u001b[0;34m\u001b[0m\u001b[0m\n\u001b[0m\u001b[1;32m    184\u001b[0m     \u001b[0mrs_new\u001b[0m \u001b[0;34m=\u001b[0m \u001b[0;34m-\u001b[0m \u001b[0mrs_0\u001b[0m \u001b[0;34m-\u001b[0m \u001b[0mDsDl_e\u001b[0m \u001b[0;34m+\u001b[0m \u001b[0mmu\u001b[0m \u001b[0;34m*\u001b[0m \u001b[0msigma\u001b[0m\u001b[0;34m*\u001b[0m \u001b[0me_vector\u001b[0m\u001b[0;34m\u001b[0m\u001b[0;34m\u001b[0m\u001b[0m\n\u001b[1;32m    185\u001b[0m     \u001b[0mdz1\u001b[0m \u001b[0;34m=\u001b[0m \u001b[0mpredictor_substep\u001b[0m\u001b[0;34m(\u001b[0m\u001b[0mn\u001b[0m\u001b[0;34m,\u001b[0m \u001b[0mG\u001b[0m\u001b[0;34m,\u001b[0m \u001b[0mC\u001b[0m\u001b[0;34m,\u001b[0m \u001b[0mx_0\u001b[0m\u001b[0;34m,\u001b[0m \u001b[0mlambda_0\u001b[0m\u001b[0;34m,\u001b[0m \u001b[0ms_0\u001b[0m\u001b[0;34m,\u001b[0m \u001b[0mrl_0\u001b[0m\u001b[0;34m,\u001b[0m \u001b[0mrc_0\u001b[0m\u001b[0;34m,\u001b[0m \u001b[0;34m-\u001b[0m\u001b[0mrs_new\u001b[0m\u001b[0;34m)\u001b[0m\u001b[0;34m\u001b[0m\u001b[0;34m\u001b[0m\u001b[0m\n",
      "\u001b[0;32m~/anaconda3/lib/python3.9/site-packages/numpy/core/numeric.py\u001b[0m in \u001b[0;36mfull\u001b[0;34m(shape, fill_value, dtype, order, like)\u001b[0m\n\u001b[1;32m    342\u001b[0m         \u001b[0mdtype\u001b[0m \u001b[0;34m=\u001b[0m \u001b[0mfill_value\u001b[0m\u001b[0;34m.\u001b[0m\u001b[0mdtype\u001b[0m\u001b[0;34m\u001b[0m\u001b[0;34m\u001b[0m\u001b[0m\n\u001b[1;32m    343\u001b[0m     \u001b[0ma\u001b[0m \u001b[0;34m=\u001b[0m \u001b[0mempty\u001b[0m\u001b[0;34m(\u001b[0m\u001b[0mshape\u001b[0m\u001b[0;34m,\u001b[0m \u001b[0mdtype\u001b[0m\u001b[0;34m,\u001b[0m \u001b[0morder\u001b[0m\u001b[0;34m)\u001b[0m\u001b[0;34m\u001b[0m\u001b[0;34m\u001b[0m\u001b[0m\n\u001b[0;32m--> 344\u001b[0;31m     \u001b[0mmultiarray\u001b[0m\u001b[0;34m.\u001b[0m\u001b[0mcopyto\u001b[0m\u001b[0;34m(\u001b[0m\u001b[0ma\u001b[0m\u001b[0;34m,\u001b[0m \u001b[0mfill_value\u001b[0m\u001b[0;34m,\u001b[0m \u001b[0mcasting\u001b[0m\u001b[0;34m=\u001b[0m\u001b[0;34m'unsafe'\u001b[0m\u001b[0;34m)\u001b[0m\u001b[0;34m\u001b[0m\u001b[0;34m\u001b[0m\u001b[0m\n\u001b[0m\u001b[1;32m    345\u001b[0m     \u001b[0;32mreturn\u001b[0m \u001b[0ma\u001b[0m\u001b[0;34m\u001b[0m\u001b[0;34m\u001b[0m\u001b[0m\n\u001b[1;32m    346\u001b[0m \u001b[0;34m\u001b[0m\u001b[0m\n",
      "\u001b[0;32m~/anaconda3/lib/python3.9/site-packages/numpy/core/overrides.py\u001b[0m in \u001b[0;36mcopyto\u001b[0;34m(*args, **kwargs)\u001b[0m\n",
      "\u001b[0;31mValueError\u001b[0m: could not broadcast input array from shape (7,1) into shape (8,1)"
     ]
    }
   ],
   "source": [
    "import numpy as np\n",
    "\n",
    "\n",
    "def predictor_substep(n, G, C, x_0, lambda_0, s_0, rl, rc, rs):\n",
    "    '''\n",
    "    This function conducts the 1)Predictor substep: \n",
    "        it computes the standard Newton step dz=(dx, dlamb, ds)\n",
    "        by solving the KKT system\n",
    "    \n",
    "\n",
    "    Returns\n",
    "    -------\n",
    "    dz: array \n",
    "        The solution of the KKT system, which accounts for the \n",
    "        Newton's step size\n",
    "\n",
    "    '''\n",
    "    \n",
    "    m= 2*n\n",
    "    S = np.zeros((m,m))\n",
    "    np.fill_diagonal(S, s_0)\n",
    "    Lam = np.zeros((m,m))\n",
    "    np.fill_diagonal(Lam, lambda_0)\n",
    "    \n",
    "    MK= np.block([\n",
    "        [ G, -C, np.zeros((n,m)) ],\n",
    "        [-C.T , np.zeros((m,m)), np.identity(m)], \n",
    "        [np.zeros((m,n)), S, Lam]\n",
    "    ])\n",
    "    \n",
    "\n",
    "    F_z0 = np.block([\n",
    "        [rl],\n",
    "        [rc],\n",
    "        [rs]\n",
    "    ])\n",
    "    F_z0 = -F_z0\n",
    "    ## Verify this step \n",
    "    dz = np.linalg.solve(MK, F_z0)\n",
    "    \n",
    "    return dz\n",
    "  \n",
    "  \n",
    "\n",
    "def Newton_step(lamb0, dlamb, s0, ds):\n",
    "    '''\n",
    "    This function computes alpha so that the step-size\n",
    "    alpha*dz guarantees feasibility.\n",
    "    It is used on the step-size correction substeps \n",
    "    of the algorithm.\n",
    "    \n",
    "\n",
    "    Parameters\n",
    "    ----------\n",
    "    lamb0 : inequality constraints initial conditions\n",
    "    dlamb : lambda step\n",
    "    s0 : C^T x - d for x_0 initial point\n",
    "    ds : s step\n",
    "\n",
    "    Returns\n",
    "    -------\n",
    "    alp : Newton step size, alpha\n",
    "\n",
    "    '''\n",
    "    alp = 1\n",
    "    idx_lamb0 = np.array(np.where(dlamb< 0))\n",
    "    if idx_lamb0.size >0 :\n",
    "        alp= min(alp, np.min(-lamb0[idx_lamb0] / dlamb[idx_lamb0]))\n",
    "        \n",
    "    idx_s0 = np.array(np.where(ds<0))\n",
    "    if idx_s0.size> 0:\n",
    "        alp= min(alp, np.min(-s0[idx_s0] / ds[idx_s0]))\n",
    "     \n",
    "    return alp\n",
    "\n",
    " \n",
    "   \n",
    "def compute_mus(s0, lamb0, n, dz, alp):\n",
    "    '''\n",
    "    This function computes the corresponding values\n",
    "    on step 3 of the algorithm\n",
    "    \n",
    "    '''\n",
    "    \n",
    "    m=2*n\n",
    "    dx = dz[0:n]\n",
    "    dlamb = dz[(n):(n+m)]\n",
    "    ds = dz[(n + m):(n+m+m)]\n",
    "    \n",
    "    mu = np.dot(s0.T,lamb0) / m\n",
    "    mu2 = np.dot((s0 + alp*ds).T,(lamb0 + alp*dlamb))/m\n",
    "    sigma = (mu2/mu)**3\n",
    "    \n",
    "    return mu, mu2, sigma\n",
    "\n",
    "\n",
    "\n",
    "def testProblem(n):\n",
    "    '''\n",
    "    Here we may define the test problem (like the main function) to test our \n",
    "    algorithm.\n",
    "    \n",
    "    Parameters\n",
    "    ----------\n",
    "    n : dimension of the matrices and vectors we are defining\n",
    "\n",
    "    Returns\n",
    "    -------\n",
    "    None.\n",
    "\n",
    "    '''\n",
    "    \n",
    "    ####################\n",
    "    ## INITIALIZATION ##\n",
    "    ####################\n",
    "    \n",
    "    ## We initialize the test problem:\n",
    "    A=np.zeros((n,n))\n",
    "    m = 2*n\n",
    "    G = np.identity(n)\n",
    "    C = np.block([\n",
    "        [np.identity(n), np.identity(n)]\n",
    "    ])\n",
    "\n",
    "    d = np.full((m, 1), -10)\n",
    "    g = np.random.normal(0,1, size= (n, 1))\n",
    "    x_0 = np.zeros((n, 1))\n",
    "    s_0 = np.full((m, 1), 1)\n",
    "    lambda_0 = np.full((m,1), 1)\n",
    "    z0 = np.block([\n",
    "        [x_0],\n",
    "        [lambda_0],\n",
    "        [s_0]\n",
    "    ])\n",
    "    \n",
    "    \n",
    "    ########################\n",
    "    ## STOPPING CRITERION ##\n",
    "    ########################\n",
    "    \n",
    "    epsilon = 1e-16\n",
    "    maxIterations = 100\n",
    "    rl_0 = np.full((n, 1), 1)\n",
    "    rc_0 = np.full((m, 1), 1)\n",
    "    rs_0 = np.full((m, 1), 1)\n",
    "    mu_0= 1\n",
    "\n",
    "    num_iteration = 0\n",
    "    \n",
    "    \n",
    "    #########################################\n",
    "    ## ITERATIVELLY APPLYING THE ALGORITHM ##\n",
    "    #########################################\n",
    "    \n",
    "    #while abs(rl_0) > epsilon and abs(rc_0) > epsilon and abs(mu_0) > epsilon and num_iteration < maxIterations:\n",
    "        \n",
    "        ## 1) First we compute the predictor substep\n",
    "    dz0 = predictor_substep(n, G, C, x_0, lambda_0, s_0, rl_0, rc_0, rs_0)\n",
    "    dx = dz0[0:n]\n",
    "    dlamb = dz0[(n+1):(n+m)]\n",
    "    ds = dz0[(n + m + 1):(n+m+m)]\n",
    "        ## 2) Step-size correction subestep:\n",
    "    alp = Newton_step(lambda_0, dlamb, s_0, ds)\n",
    "        ## 3) Computation of the mu's\n",
    "    mu, mu2, sigma = compute_mus(s_0, lambda_0, n, dz0, alp)\n",
    "        ## 4) Corrector substep \n",
    "    '''\n",
    "        D_s D_lambda e gives a vector that has per coefficients\n",
    "        the diagonal of D_s*D_lambda which correspond to ds*dlamb\n",
    "        \n",
    "        Therefore, there's no need to compute the whole matrix product,\n",
    "        to optimize operations:\n",
    "            \n",
    "            #DS = np.zeros((m,m))\n",
    "            #np.fill_diagonal(DS, ds)\n",
    "            #Dlam = np.zeros((m,m))\n",
    "            #np.fill_diagonal(Dlam, dlamb)\n",
    "            #DS_lambda = np.zeros((m,m))\n",
    "            #np.fill_diagonal(DS_lambda, ds*dlamb)\n",
    "    '''\n",
    "    \n",
    "    e_vector=np.full((m, 1), 1)\n",
    "    DsDl_e = np.full((m, 1), ds*dlamb)\n",
    "    rs_new = - rs_0 - DsDl_e + mu * sigma* e_vector\n",
    "    dz1 = predictor_substep(n, G, C, x_0, lambda_0, s_0, rl_0, rc_0, -rs_new)\n",
    "        ## 5) Step-size correction substep\n",
    "    dx1 = dz1[0:n]\n",
    "    dlamb1 = dz1[(n+1):(n+m)]\n",
    "    ds1 = dz1[(n + m + 1):(n+m+m)]\n",
    "    alp1 = Newton_step(lambda_0, dlamb1, s_0, ds1)\n",
    "        ## 6) Update substep:\n",
    "    z1 = z0 + 0.95 * alp1 * dz1\n",
    "    ## M_KKT gets updated by introducing the new values \n",
    "    # of s, lambda in the corresponding function\n",
    "    \n",
    "    print(z1)\n",
    "    \n",
    "    \n",
    "testProblem(4)\n",
    "    \n",
    "\n",
    "\n"
   ]
  },
  {
   "cell_type": "code",
   "execution_count": 134,
   "id": "beddb8be",
   "metadata": {},
   "outputs": [
    {
     "data": {
      "text/plain": [
       "(6, 1)"
      ]
     },
     "execution_count": 134,
     "metadata": {},
     "output_type": "execute_result"
    }
   ],
   "source": [
    "rs.shape"
   ]
  },
  {
   "cell_type": "code",
   "execution_count": 135,
   "id": "f611443e",
   "metadata": {},
   "outputs": [
    {
     "data": {
      "text/plain": [
       "(1, 1)"
      ]
     },
     "execution_count": 135,
     "metadata": {},
     "output_type": "execute_result"
    }
   ],
   "source": [
    "mu.shape"
   ]
  },
  {
   "cell_type": "markdown",
   "id": "83dd0257",
   "metadata": {},
   "source": [
    "## C4"
   ]
  },
  {
   "cell_type": "code",
   "execution_count": 7,
   "id": "ce8f8a21",
   "metadata": {},
   "outputs": [],
   "source": [
    "import random\n",
    "import numpy as np\n",
    "import scipy\n",
    "\n",
    "def randomMatrix(dim):\n",
    "    A = np.zeros((dim,dim))\n",
    "    for i in range(0, dim):\n",
    "        for j in range(0,dim):\n",
    "            A[i,j] = random.uniform(0,1)\n",
    "    return A"
   ]
  },
  {
   "cell_type": "code",
   "execution_count": 8,
   "id": "1120d12b",
   "metadata": {},
   "outputs": [
    {
     "name": "stdout",
     "output_type": "stream",
     "text": [
      "[[0.94450937 0.77791178 0.79801778 0.24891861 0.26439178]\n",
      " [0.77593072 0.61931269 0.27504412 0.94012468 0.98175059]\n",
      " [0.89173432 0.53835793 0.45918353 0.92142507 0.66047413]\n",
      " [0.76121949 0.83692238 0.91760196 0.49853494 0.06303305]\n",
      " [0.63742901 0.01463169 0.23643732 0.44962331 0.30209553]]\n"
     ]
    }
   ],
   "source": [
    "A=randomMatrix(5)\n",
    "print(A)"
   ]
  },
  {
   "cell_type": "code",
   "execution_count": 9,
   "id": "4e8a23e0",
   "metadata": {},
   "outputs": [
    {
     "name": "stdout",
     "output_type": "stream",
     "text": [
      "[-2.63115877e+00  3.63115877e+00 -6.60058707e-01  1.66005871e+00\n",
      "  1.00061312e+00  1.13590930e+00  1.07564028e+00 -1.35909302e-01\n",
      " -7.56402827e-02 -6.13124805e-04]\n"
     ]
    }
   ],
   "source": [
    "n=5\n",
    "p=5\n",
    "#A=np.zeros((n,p))\n",
    "#m = 2*n\n",
    "G = np.identity(n)\n",
    "MK= np.block([\n",
    "    [ G, -A ],\n",
    "    [-A.T , np.zeros((p,p))]\n",
    "])\n",
    "\n",
    "print(np.linalg.eig(MK)[0])"
   ]
  },
  {
   "cell_type": "code",
   "execution_count": 10,
   "id": "ae5f00ae",
   "metadata": {},
   "outputs": [
    {
     "name": "stdout",
     "output_type": "stream",
     "text": [
      "[[ 1.          0.          0.          0.          0.        ]\n",
      " [ 0.82151723  1.          0.          0.          0.        ]\n",
      " [ 0.94412437  0.62740092  0.3592024  -0.46618452  1.        ]\n",
      " [ 0.80594171  0.23261476 -0.42391492  1.          0.        ]\n",
      " [ 0.67487844  0.          1.          0.          0.        ]]\n",
      "[[ 0.94450937  0.          0.          0.          0.        ]\n",
      " [ 0.         -0.01812777 -0.50902723  0.          0.        ]\n",
      " [ 0.         -0.50902723 -0.12809157  0.          0.        ]\n",
      " [ 0.          0.          0.         -0.19135336  0.        ]\n",
      " [ 0.          0.          0.          0.         -0.08804253]]\n"
     ]
    }
   ],
   "source": [
    "from scipy.linalg import ldl\n",
    "\n",
    "lu, d, perm = ldl(A)\n",
    "print(lu)\n",
    "print(d)"
   ]
  },
  {
   "cell_type": "code",
   "execution_count": 11,
   "id": "0fc7ee9c",
   "metadata": {},
   "outputs": [
    {
     "name": "stdout",
     "output_type": "stream",
     "text": [
      "[0 1 4 3 2]\n"
     ]
    }
   ],
   "source": [
    "print(perm)"
   ]
  },
  {
   "cell_type": "code",
   "execution_count": 12,
   "id": "098f912f",
   "metadata": {},
   "outputs": [
    {
     "name": "stdout",
     "output_type": "stream",
     "text": [
      "[[ 1.          0.          0.          0.          0.        ]\n",
      " [ 0.82151723  1.          0.          0.          0.        ]\n",
      " [ 0.67487844  0.          1.          0.          0.        ]\n",
      " [ 0.80594171  0.23261476 -0.42391492  1.          0.        ]\n",
      " [ 0.94412437  0.62740092  0.3592024  -0.46618452  1.        ]]\n"
     ]
    }
   ],
   "source": [
    "print(lu[perm,:])"
   ]
  },
  {
   "cell_type": "code",
   "execution_count": 13,
   "id": "8a21e495",
   "metadata": {},
   "outputs": [
    {
     "data": {
      "text/plain": [
       "array([[ 0.94450937,  0.        ,  0.        ,  0.        ,  0.        ],\n",
       "       [ 0.        , -0.01812777, -0.50902723,  0.        ,  0.        ],\n",
       "       [ 0.        , -0.50902723, -0.12809157,  0.        ,  0.        ],\n",
       "       [ 0.        ,  0.        ,  0.        , -0.19135336,  0.        ],\n",
       "       [ 0.        ,  0.        ,  0.        ,  0.        , -0.08804253]])"
      ]
     },
     "execution_count": 13,
     "metadata": {},
     "output_type": "execute_result"
    }
   ],
   "source": [
    "d"
   ]
  },
  {
   "cell_type": "code",
   "execution_count": null,
   "id": "ef49989f",
   "metadata": {},
   "outputs": [],
   "source": [
    "## I want a function that recognizes when D is not diagonal"
   ]
  },
  {
   "cell_type": "code",
   "execution_count": 16,
   "id": "081a28ad",
   "metadata": {},
   "outputs": [],
   "source": [
    "def isDiagonal(A, thres= 1e-10):\n",
    "    for i in range(0, A.shape[0]):\n",
    "        for j in range(0, A.shape[1]):\n",
    "            if i != j:\n",
    "                if abs(A[i,j]) < thres:\n",
    "                    return False\n",
    "    return True"
   ]
  },
  {
   "cell_type": "code",
   "execution_count": 17,
   "id": "3cb6b718",
   "metadata": {},
   "outputs": [
    {
     "data": {
      "text/plain": [
       "False"
      ]
     },
     "execution_count": 17,
     "metadata": {},
     "output_type": "execute_result"
    }
   ],
   "source": [
    "isDiagonal(d)"
   ]
  },
  {
   "cell_type": "code",
   "execution_count": 19,
   "id": "ed204127",
   "metadata": {},
   "outputs": [],
   "source": [
    "## when this happens we have to go throught the matrix\n",
    "\n",
    "diagonal_dim1 = np.matrix([1])"
   ]
  },
  {
   "cell_type": "code",
   "execution_count": 20,
   "id": "6a227218",
   "metadata": {},
   "outputs": [
    {
     "data": {
      "text/plain": [
       "matrix([[1]])"
      ]
     },
     "execution_count": 20,
     "metadata": {},
     "output_type": "execute_result"
    }
   ],
   "source": [
    "diagonal_dim1"
   ]
  },
  {
   "cell_type": "code",
   "execution_count": 21,
   "id": "bfcf99e7",
   "metadata": {},
   "outputs": [
    {
     "data": {
      "text/plain": [
       "True"
      ]
     },
     "execution_count": 21,
     "metadata": {},
     "output_type": "execute_result"
    }
   ],
   "source": [
    "isDiagonal(diagonal_dim1)"
   ]
  },
  {
   "cell_type": "code",
   "execution_count": 35,
   "id": "4c0f9191",
   "metadata": {},
   "outputs": [
    {
     "data": {
      "text/plain": [
       "4"
      ]
     },
     "execution_count": 35,
     "metadata": {},
     "output_type": "execute_result"
    }
   ],
   "source": [
    "len(perm)"
   ]
  },
  {
   "cell_type": "code",
   "execution_count": 36,
   "id": "12f571e6",
   "metadata": {},
   "outputs": [],
   "source": [
    "P = np.identity(4)[perm,:]"
   ]
  },
  {
   "cell_type": "code",
   "execution_count": 37,
   "id": "4130917a",
   "metadata": {},
   "outputs": [
    {
     "data": {
      "text/plain": [
       "array([[0., 0., 0., 1.],\n",
       "       [0., 1., 0., 0.],\n",
       "       [0., 0., 1., 0.],\n",
       "       [1., 0., 0., 0.]])"
      ]
     },
     "execution_count": 37,
     "metadata": {},
     "output_type": "execute_result"
    }
   ],
   "source": [
    "P"
   ]
  },
  {
   "cell_type": "code",
   "execution_count": 38,
   "id": "8a13ecba",
   "metadata": {},
   "outputs": [
    {
     "data": {
      "text/plain": [
       "array([[0., 0., 0., 1.],\n",
       "       [0., 1., 0., 0.],\n",
       "       [0., 0., 1., 0.],\n",
       "       [1., 0., 0., 0.]])"
      ]
     },
     "execution_count": 38,
     "metadata": {},
     "output_type": "execute_result"
    }
   ],
   "source": [
    "P.T"
   ]
  },
  {
   "cell_type": "code",
   "execution_count": 39,
   "id": "f9b9ff68",
   "metadata": {},
   "outputs": [
    {
     "data": {
      "text/plain": [
       "array([[ 1.        ,  0.        ,  0.        ,  0.        ],\n",
       "       [ 1.51823682,  1.        ,  0.        ,  0.        ],\n",
       "       [ 0.4828429 , -0.20080262,  1.        ,  0.        ],\n",
       "       [ 0.76641498,  0.68492232, -0.12581875,  1.        ]])"
      ]
     },
     "execution_count": 39,
     "metadata": {},
     "output_type": "execute_result"
    }
   ],
   "source": [
    "np.matmul(P, lu)"
   ]
  },
  {
   "cell_type": "code",
   "execution_count": 40,
   "id": "ee33055a",
   "metadata": {},
   "outputs": [
    {
     "data": {
      "text/plain": [
       "array([[ 1.        ,  0.68492232, -0.12581875,  0.76641498],\n",
       "       [ 0.        ,  1.        ,  0.        ,  1.51823682],\n",
       "       [ 0.        , -0.20080262,  1.        ,  0.4828429 ],\n",
       "       [ 0.        ,  0.        ,  0.        ,  1.        ]])"
      ]
     },
     "execution_count": 40,
     "metadata": {},
     "output_type": "execute_result"
    }
   ],
   "source": [
    "np.matmul(lu, P.T)"
   ]
  },
  {
   "cell_type": "code",
   "execution_count": 30,
   "id": "a67d9771",
   "metadata": {},
   "outputs": [
    {
     "data": {
      "text/plain": [
       "array([[1., 0., 0., 0.],\n",
       "       [0., 1., 0., 0.],\n",
       "       [0., 0., 1., 0.],\n",
       "       [0., 0., 0., 1.]])"
      ]
     },
     "execution_count": 30,
     "metadata": {},
     "output_type": "execute_result"
    }
   ],
   "source": [
    "np.matmul(P,P.T)"
   ]
  },
  {
   "cell_type": "code",
   "execution_count": 23,
   "id": "ad5ec622",
   "metadata": {},
   "outputs": [
    {
     "data": {
      "text/plain": [
       "array([[ 1.        ,  0.        ,  0.        ,  0.        ],\n",
       "       [ 2.33890624,  1.        ,  0.        ,  0.        ],\n",
       "       [ 1.20803237, -0.00852457,  0.75226073,  1.        ],\n",
       "       [ 0.6884357 , -1.16279527,  1.        ,  0.        ]])"
      ]
     },
     "execution_count": 23,
     "metadata": {},
     "output_type": "execute_result"
    }
   ],
   "source": [
    "lu"
   ]
  },
  {
   "cell_type": "code",
   "execution_count": 10,
   "id": "827f8448",
   "metadata": {},
   "outputs": [
    {
     "name": "stdout",
     "output_type": "stream",
     "text": [
      "[1 2 3 4]\n"
     ]
    },
    {
     "data": {
      "text/plain": [
       "array([1., 2., 3., 4.])"
      ]
     },
     "execution_count": 10,
     "metadata": {},
     "output_type": "execute_result"
    }
   ],
   "source": [
    "y = np.array([1,2,3,4])\n",
    "print(y)\n",
    "np.matmul(P, y)"
   ]
  },
  {
   "cell_type": "code",
   "execution_count": 11,
   "id": "2983518a",
   "metadata": {},
   "outputs": [],
   "source": [
    "perm_check = [i for i in range(0, 4)]"
   ]
  },
  {
   "cell_type": "code",
   "execution_count": 12,
   "id": "72b9d6e4",
   "metadata": {},
   "outputs": [
    {
     "data": {
      "text/plain": [
       "[0, 1, 2, 3]"
      ]
     },
     "execution_count": 12,
     "metadata": {},
     "output_type": "execute_result"
    }
   ],
   "source": [
    "perm_check"
   ]
  },
  {
   "cell_type": "code",
   "execution_count": 13,
   "id": "eb7fc9aa",
   "metadata": {},
   "outputs": [
    {
     "data": {
      "text/plain": [
       "array([ True, False, False,  True])"
      ]
     },
     "execution_count": 13,
     "metadata": {},
     "output_type": "execute_result"
    }
   ],
   "source": [
    "perm_check == perm"
   ]
  },
  {
   "cell_type": "code",
   "execution_count": 14,
   "id": "506fc99d",
   "metadata": {},
   "outputs": [
    {
     "name": "stdout",
     "output_type": "stream",
     "text": [
      "True\n"
     ]
    }
   ],
   "source": [
    "indicador = False\n",
    "for i in range(0,4):\n",
    "    if perm_check[i] != perm[i]:\n",
    "        indicador = True\n",
    "        \n",
    "print(indicador)"
   ]
  },
  {
   "cell_type": "code",
   "execution_count": null,
   "id": "36f234e9",
   "metadata": {},
   "outputs": [],
   "source": []
  },
  {
   "cell_type": "code",
   "execution_count": 7,
   "id": "9d593a1e",
   "metadata": {},
   "outputs": [],
   "source": [
    "LD = np.matmul(lu, d)"
   ]
  },
  {
   "cell_type": "code",
   "execution_count": 8,
   "id": "daf8f470",
   "metadata": {},
   "outputs": [
    {
     "data": {
      "text/plain": [
       "array([[0.4127415 , 0.4036831 , 0.68216605, 0.39950753],\n",
       "       [0.4036831 , 0.18235022, 0.4478133 , 0.23697663],\n",
       "       [0.68216605, 0.4478133 , 0.3036944 , 0.13673111],\n",
       "       [0.39950753, 0.23697663, 0.13673111, 0.49735838]])"
      ]
     },
     "execution_count": 8,
     "metadata": {},
     "output_type": "execute_result"
    }
   ],
   "source": [
    "np.matmul(LD, lu.T)"
   ]
  },
  {
   "cell_type": "code",
   "execution_count": 37,
   "id": "5cf0a601",
   "metadata": {},
   "outputs": [
    {
     "data": {
      "text/plain": [
       "array([[0.77247334, 0.93848786, 0.54906715, 0.66708095],\n",
       "       [0.93848786, 0.37733788, 0.15684956, 0.74721752],\n",
       "       [0.54906715, 0.15684956, 0.96815027, 0.03799141],\n",
       "       [0.66708095, 0.74721752, 0.03799141, 0.5512904 ]])"
      ]
     },
     "execution_count": 37,
     "metadata": {},
     "output_type": "execute_result"
    }
   ],
   "source": [
    "LL = lu[perm,:]\n",
    "LLD = np.matmul(LL, d)\n",
    "np.matmul(LLD, LL.T)"
   ]
  },
  {
   "cell_type": "code",
   "execution_count": 40,
   "id": "11492fbe",
   "metadata": {},
   "outputs": [
    {
     "name": "stdout",
     "output_type": "stream",
     "text": [
      "(4,)\n"
     ]
    }
   ],
   "source": [
    "y = np.array([1,2,3,4])\n",
    "print(y.shape)"
   ]
  },
  {
   "cell_type": "code",
   "execution_count": 43,
   "id": "7b1b3992",
   "metadata": {},
   "outputs": [
    {
     "data": {
      "text/plain": [
       "(4,)"
      ]
     },
     "execution_count": 43,
     "metadata": {},
     "output_type": "execute_result"
    }
   ],
   "source": [
    "np.diag(d).shape"
   ]
  },
  {
   "cell_type": "code",
   "execution_count": 45,
   "id": "636a31de",
   "metadata": {},
   "outputs": [
    {
     "data": {
      "text/plain": [
       "array([  1.29454305,  -2.62177091,   3.26394642, -21.24007359])"
      ]
     },
     "execution_count": 45,
     "metadata": {},
     "output_type": "execute_result"
    }
   ],
   "source": [
    "y/np.diag(d)"
   ]
  },
  {
   "cell_type": "code",
   "execution_count": 47,
   "id": "2b45ecc3",
   "metadata": {},
   "outputs": [
    {
     "ename": "TypeError",
     "evalue": "'builtin_function_or_method' object is not subscriptable",
     "output_type": "error",
     "traceback": [
      "\u001b[0;31m---------------------------------------------------------------------------\u001b[0m",
      "\u001b[0;31mTypeError\u001b[0m                                 Traceback (most recent call last)",
      "\u001b[0;32m/var/folders/df/4599m83s2vj4j1_h__gx7kqw0000gn/T/ipykernel_2619/250810012.py\u001b[0m in \u001b[0;36m<module>\u001b[0;34m\u001b[0m\n\u001b[0;32m----> 1\u001b[0;31m \u001b[0mnp\u001b[0m\u001b[0;34m.\u001b[0m\u001b[0marray\u001b[0m\u001b[0;34m[\u001b[0m\u001b[0my\u001b[0m\u001b[0;34m]\u001b[0m\u001b[0;34m/\u001b[0m\u001b[0mnp\u001b[0m\u001b[0;34m.\u001b[0m\u001b[0marray\u001b[0m\u001b[0;34m[\u001b[0m\u001b[0;34m[\u001b[0m\u001b[0mnp\u001b[0m\u001b[0;34m.\u001b[0m\u001b[0mdiag\u001b[0m\u001b[0;34m(\u001b[0m\u001b[0md\u001b[0m\u001b[0;34m)\u001b[0m\u001b[0;34m]\u001b[0m\u001b[0;34m]\u001b[0m\u001b[0;34m\u001b[0m\u001b[0;34m\u001b[0m\u001b[0m\n\u001b[0m",
      "\u001b[0;31mTypeError\u001b[0m: 'builtin_function_or_method' object is not subscriptable"
     ]
    }
   ],
   "source": [
    "np.array[y]/np.array[[np.diag(d)]]"
   ]
  },
  {
   "cell_type": "code",
   "execution_count": 50,
   "id": "beeda1d6",
   "metadata": {},
   "outputs": [
    {
     "data": {
      "text/plain": [
       "[array([1, 2, 3, 4])]"
      ]
     },
     "execution_count": 50,
     "metadata": {},
     "output_type": "execute_result"
    }
   ],
   "source": [
    "[y]"
   ]
  },
  {
   "cell_type": "code",
   "execution_count": 44,
   "id": "995d9c63",
   "metadata": {},
   "outputs": [
    {
     "name": "stdout",
     "output_type": "stream",
     "text": [
      "[[ 0.77247334  0.          0.          0.        ]\n",
      " [ 0.         -0.76284316  0.          0.        ]\n",
      " [ 0.          0.          0.91913274  0.        ]\n",
      " [ 0.          0.          0.         -0.18832326]]\n",
      "[ 0.77247334 -0.76284316  0.91913274 -0.18832326]\n"
     ]
    }
   ],
   "source": [
    "print(d)\n",
    "print(np.diag(d))"
   ]
  },
  {
   "cell_type": "code",
   "execution_count": 20,
   "id": "1167f440",
   "metadata": {},
   "outputs": [
    {
     "name": "stdout",
     "output_type": "stream",
     "text": [
      "[ 0.91503693 -1.63863491  1.24807601 -0.62382978]\n",
      "(4,)\n"
     ]
    }
   ],
   "source": [
    "from scipy.linalg import solve_triangular\n",
    "\n",
    "SS = solve_triangular(LL, np.diag(d), lower=True, unit_diagonal=True)\n",
    "print(SS)\n",
    "print(SS.shape)"
   ]
  },
  {
   "cell_type": "code",
   "execution_count": 17,
   "id": "159d0621",
   "metadata": {},
   "outputs": [
    {
     "ename": "LinAlgError",
     "evalue": "Matrix is not positive definite",
     "output_type": "error",
     "traceback": [
      "\u001b[0;31m---------------------------------------------------------------------------\u001b[0m",
      "\u001b[0;31mLinAlgError\u001b[0m                               Traceback (most recent call last)",
      "\u001b[0;32m/var/folders/df/4599m83s2vj4j1_h__gx7kqw0000gn/T/ipykernel_2619/3490610026.py\u001b[0m in \u001b[0;36m<module>\u001b[0;34m\u001b[0m\n\u001b[0;32m----> 1\u001b[0;31m \u001b[0mA_chol\u001b[0m \u001b[0;34m=\u001b[0m \u001b[0mnp\u001b[0m\u001b[0;34m.\u001b[0m\u001b[0mlinalg\u001b[0m\u001b[0;34m.\u001b[0m\u001b[0mcholesky\u001b[0m\u001b[0;34m(\u001b[0m\u001b[0mA\u001b[0m\u001b[0;34m)\u001b[0m\u001b[0;34m\u001b[0m\u001b[0;34m\u001b[0m\u001b[0m\n\u001b[0m\u001b[1;32m      2\u001b[0m \u001b[0mprint\u001b[0m\u001b[0;34m(\u001b[0m\u001b[0mA_chol\u001b[0m\u001b[0;34m)\u001b[0m\u001b[0;34m\u001b[0m\u001b[0;34m\u001b[0m\u001b[0m\n",
      "\u001b[0;32m~/anaconda3/lib/python3.9/site-packages/numpy/core/overrides.py\u001b[0m in \u001b[0;36mcholesky\u001b[0;34m(*args, **kwargs)\u001b[0m\n",
      "\u001b[0;32m~/anaconda3/lib/python3.9/site-packages/numpy/linalg/linalg.py\u001b[0m in \u001b[0;36mcholesky\u001b[0;34m(a)\u001b[0m\n\u001b[1;32m    768\u001b[0m     \u001b[0mt\u001b[0m\u001b[0;34m,\u001b[0m \u001b[0mresult_t\u001b[0m \u001b[0;34m=\u001b[0m \u001b[0m_commonType\u001b[0m\u001b[0;34m(\u001b[0m\u001b[0ma\u001b[0m\u001b[0;34m)\u001b[0m\u001b[0;34m\u001b[0m\u001b[0;34m\u001b[0m\u001b[0m\n\u001b[1;32m    769\u001b[0m     \u001b[0msignature\u001b[0m \u001b[0;34m=\u001b[0m \u001b[0;34m'D->D'\u001b[0m \u001b[0;32mif\u001b[0m \u001b[0misComplexType\u001b[0m\u001b[0;34m(\u001b[0m\u001b[0mt\u001b[0m\u001b[0;34m)\u001b[0m \u001b[0;32melse\u001b[0m \u001b[0;34m'd->d'\u001b[0m\u001b[0;34m\u001b[0m\u001b[0;34m\u001b[0m\u001b[0m\n\u001b[0;32m--> 770\u001b[0;31m     \u001b[0mr\u001b[0m \u001b[0;34m=\u001b[0m \u001b[0mgufunc\u001b[0m\u001b[0;34m(\u001b[0m\u001b[0ma\u001b[0m\u001b[0;34m,\u001b[0m \u001b[0msignature\u001b[0m\u001b[0;34m=\u001b[0m\u001b[0msignature\u001b[0m\u001b[0;34m,\u001b[0m \u001b[0mextobj\u001b[0m\u001b[0;34m=\u001b[0m\u001b[0mextobj\u001b[0m\u001b[0;34m)\u001b[0m\u001b[0;34m\u001b[0m\u001b[0;34m\u001b[0m\u001b[0m\n\u001b[0m\u001b[1;32m    771\u001b[0m     \u001b[0;32mreturn\u001b[0m \u001b[0mwrap\u001b[0m\u001b[0;34m(\u001b[0m\u001b[0mr\u001b[0m\u001b[0;34m.\u001b[0m\u001b[0mastype\u001b[0m\u001b[0;34m(\u001b[0m\u001b[0mresult_t\u001b[0m\u001b[0;34m,\u001b[0m \u001b[0mcopy\u001b[0m\u001b[0;34m=\u001b[0m\u001b[0;32mFalse\u001b[0m\u001b[0;34m)\u001b[0m\u001b[0;34m)\u001b[0m\u001b[0;34m\u001b[0m\u001b[0;34m\u001b[0m\u001b[0m\n\u001b[1;32m    772\u001b[0m \u001b[0;34m\u001b[0m\u001b[0m\n",
      "\u001b[0;32m~/anaconda3/lib/python3.9/site-packages/numpy/linalg/linalg.py\u001b[0m in \u001b[0;36m_raise_linalgerror_nonposdef\u001b[0;34m(err, flag)\u001b[0m\n\u001b[1;32m     90\u001b[0m \u001b[0;34m\u001b[0m\u001b[0m\n\u001b[1;32m     91\u001b[0m \u001b[0;32mdef\u001b[0m \u001b[0m_raise_linalgerror_nonposdef\u001b[0m\u001b[0;34m(\u001b[0m\u001b[0merr\u001b[0m\u001b[0;34m,\u001b[0m \u001b[0mflag\u001b[0m\u001b[0;34m)\u001b[0m\u001b[0;34m:\u001b[0m\u001b[0;34m\u001b[0m\u001b[0;34m\u001b[0m\u001b[0m\n\u001b[0;32m---> 92\u001b[0;31m     \u001b[0;32mraise\u001b[0m \u001b[0mLinAlgError\u001b[0m\u001b[0;34m(\u001b[0m\u001b[0;34m\"Matrix is not positive definite\"\u001b[0m\u001b[0;34m)\u001b[0m\u001b[0;34m\u001b[0m\u001b[0;34m\u001b[0m\u001b[0m\n\u001b[0m\u001b[1;32m     93\u001b[0m \u001b[0;34m\u001b[0m\u001b[0m\n\u001b[1;32m     94\u001b[0m \u001b[0;32mdef\u001b[0m \u001b[0m_raise_linalgerror_eigenvalues_nonconvergence\u001b[0m\u001b[0;34m(\u001b[0m\u001b[0merr\u001b[0m\u001b[0;34m,\u001b[0m \u001b[0mflag\u001b[0m\u001b[0;34m)\u001b[0m\u001b[0;34m:\u001b[0m\u001b[0;34m\u001b[0m\u001b[0;34m\u001b[0m\u001b[0m\n",
      "\u001b[0;31mLinAlgError\u001b[0m: Matrix is not positive definite"
     ]
    }
   ],
   "source": [
    "A_chol = np.linalg.cholesky(A)\n",
    "print(A_chol)"
   ]
  },
  {
   "cell_type": "markdown",
   "id": "ec8c1f72",
   "metadata": {},
   "source": [
    "## C4 strategies\n",
    "\n",
    "Strategy 1"
   ]
  },
  {
   "cell_type": "code",
   "execution_count": 22,
   "id": "8dd34d87",
   "metadata": {},
   "outputs": [],
   "source": [
    "import numpy as np\n",
    "import time\n",
    "import matplotlib.pyplot as plt\n",
    "#import scipy\n",
    "from scipy.linalg import ldl\n",
    "from scipy.linalg import solve_triangular\n",
    "\n",
    "def strategy1(n, G, C, x_0, lambda_0, s_0, rl, rc, rs):\n",
    "     m= 2*n\n",
    "     S = np.zeros((m,m))\n",
    "     np.fill_diagonal(S, s_0)\n",
    "     Lam = np.zeros((m,m))\n",
    "     np.fill_diagonal(Lam, lambda_0)\n",
    "     \n",
    "     MK = np.block([\n",
    "         [G, -C],\n",
    "         [- C.T, - np.matmul(np.linalg.inv(Lam), S)]\n",
    "         ])\n",
    "     F_z0 = np.block([\n",
    "         [rl],\n",
    "         [rc - np.matmul(np.linalg.inv(Lam), rs)]\n",
    "         ])\n",
    "     F_z0 = -F_z0\n",
    "     \n",
    "     ## LDL^T factorization:\n",
    "     lu, d, perm = ldl(MK)\n",
    "     L_triag = lu[perm, :]\n",
    "     '''\n",
    "         This is equivalent to multiplicate the lu by the permutation matrix P\n",
    "         Note that the matrix lu[perm, :] = P.dot(lu) is the triangular matrix we are looking for \n",
    "         where P = I[perm,:]\n",
    "     '''\n",
    "     \n",
    "     ## We solve now two triangular systems and a diagonal direct system\n",
    "     dy1 = solve_triangular(L_triag, F_z0[perm], lower=True, unit_diagonal=True)\n",
    "     dy2 = dy1/np.diag(d)\n",
    "     dy3 = solve_triangular(L_triag.T, dy2[perm], lower=False, unit_diagonal=True)\n",
    "     \n",
    "     \n",
    "        \n",
    "     ## Now we compute dz1 as the function output\n",
    "     Lam1 = np.zeros((m,m))\n",
    "     np.fill_diagonal(Lam1, 1/lambda_0)\n",
    "     ds = np.matmul(Lam1, -rs- np.matmul(S, dy3[n: (n+m)]))\n",
    "     \n",
    "     dz = np.block([\n",
    "         [dy3],\n",
    "         [ds]\n",
    "     ])\n",
    "     \n",
    "     return dz"
   ]
  },
  {
   "cell_type": "code",
   "execution_count": 25,
   "id": "d4d5ad32",
   "metadata": {},
   "outputs": [],
   "source": [
    "## We initialize the test problem:\n",
    "n=2\n",
    "\n",
    "A=np.zeros((n,n))\n",
    "m = 2*n\n",
    "G = np.identity(n)\n",
    "C = np.block([\n",
    "    [np.identity(n), np.identity(n)]\n",
    "])\n",
    "\n",
    "d = np.full((m, 1), -10)\n",
    "g = np.random.normal(0,1, size= (n, 1))\n",
    "x_0 = np.zeros((n, 1))\n",
    "s_0 = np.full((m, 1), 1)\n",
    "lambda_0 = np.full((m,1), 1)\n",
    "z0 = np.block([\n",
    "    [x_0],\n",
    "    [lambda_0],\n",
    "    [s_0]\n",
    "])"
   ]
  },
  {
   "cell_type": "code",
   "execution_count": 27,
   "id": "7c481892",
   "metadata": {},
   "outputs": [
    {
     "name": "stdout",
     "output_type": "stream",
     "text": [
      "[[1. 0. 1. 0.]\n",
      " [0. 1. 0. 1.]]\n",
      "[[0.]\n",
      " [0.]\n",
      " [1.]\n",
      " [1.]\n",
      " [1.]\n",
      " [1.]\n",
      " [1.]\n",
      " [1.]\n",
      " [1.]\n",
      " [1.]]\n"
     ]
    }
   ],
   "source": [
    "print(C)\n",
    "print(z0)"
   ]
  },
  {
   "cell_type": "code",
   "execution_count": 28,
   "id": "d22dcfbe",
   "metadata": {},
   "outputs": [],
   "source": [
    "rl_0 = np.full((n, 1), 1)\n",
    "rc_0 = np.full((m, 1), 1)\n",
    "rs_0 = np.full((m, 1), 1)\n",
    "\n",
    "dz0 = strategy1(n, G, C, x_0, lambda_0, s_0, rl_0, rc_0, rs_0)"
   ]
  },
  {
   "cell_type": "code",
   "execution_count": 29,
   "id": "5c6ff2ef",
   "metadata": {},
   "outputs": [
    {
     "data": {
      "text/plain": [
       "(10, 6)"
      ]
     },
     "execution_count": 29,
     "metadata": {},
     "output_type": "execute_result"
    }
   ],
   "source": [
    "dz0.shape"
   ]
  },
  {
   "cell_type": "code",
   "execution_count": 30,
   "id": "050e13ee",
   "metadata": {},
   "outputs": [
    {
     "data": {
      "text/plain": [
       "array([[-2.25      , -2.25      ,  1.125     ,  1.125     ,  1.5       ,\n",
       "         1.5       ],\n",
       "       [-2.25      , -2.25      ,  1.125     ,  1.125     ,  1.5       ,\n",
       "         1.5       ],\n",
       "       [-0.75      , -0.75      ,  0.375     ,  0.375     ,  0.5       ,\n",
       "         0.5       ],\n",
       "       [-0.75      , -0.75      ,  0.375     ,  0.375     ,  0.5       ,\n",
       "         0.5       ],\n",
       "       [-0.5       , -0.5       ,  0.25      ,  0.25      ,  0.33333333,\n",
       "         0.33333333],\n",
       "       [-0.5       , -0.5       ,  0.25      ,  0.25      ,  0.33333333,\n",
       "         0.33333333],\n",
       "       [-0.25      , -0.25      , -1.375     , -1.375     , -1.5       ,\n",
       "        -1.5       ],\n",
       "       [-0.25      , -0.25      , -1.375     , -1.375     , -1.5       ,\n",
       "        -1.5       ],\n",
       "       [-0.5       , -0.5       , -1.25      , -1.25      , -1.33333333,\n",
       "        -1.33333333],\n",
       "       [-0.5       , -0.5       , -1.25      , -1.25      , -1.33333333,\n",
       "        -1.33333333]])"
      ]
     },
     "execution_count": 30,
     "metadata": {},
     "output_type": "execute_result"
    }
   ],
   "source": [
    "dz0"
   ]
  },
  {
   "cell_type": "code",
   "execution_count": 51,
   "id": "fd0ec62e",
   "metadata": {},
   "outputs": [
    {
     "data": {
      "text/plain": [
       "0.7071067811865475"
      ]
     },
     "execution_count": 51,
     "metadata": {},
     "output_type": "execute_result"
    }
   ],
   "source": [
    "1/np.sqrt(2)"
   ]
  },
  {
   "cell_type": "code",
   "execution_count": null,
   "id": "c70fd92b",
   "metadata": {},
   "outputs": [],
   "source": []
  }
 ],
 "metadata": {
  "kernelspec": {
   "display_name": "Python 3 (ipykernel)",
   "language": "python",
   "name": "python3"
  },
  "language_info": {
   "codemirror_mode": {
    "name": "ipython",
    "version": 3
   },
   "file_extension": ".py",
   "mimetype": "text/x-python",
   "name": "python",
   "nbconvert_exporter": "python",
   "pygments_lexer": "ipython3",
   "version": "3.9.7"
  }
 },
 "nbformat": 4,
 "nbformat_minor": 5
}
