{
 "cells": [
  {
   "cell_type": "markdown",
   "id": "30a41969-884f-4065-a2b8-b744d2940ea5",
   "metadata": {},
   "source": [
    "# Practice 7: Iterative methods\n",
    "\n",
    "We will focus on the simplest methods. It does not enter on the exam!!!\n",
    "\n",
    "We start with the linear model $A x=b, A \\in mathbb{R}^{n\\times n}, b \\in \\mathbb{R}^n$. Splitting of $A$: $ A = M -K$. Then we have \n",
    "$$\n",
    "Ax = b \\iff Mx - Kx =b \\iff x = M^{-1}( Kx - b)\n",
    "$$\n",
    "using the fixed point iteration we get $x^{(k+1)}= M^{-1}(K x^{(k)} - b) = R x^{(k)} + c$ iterative scheme. Here $R = M^{-1} K$ is the iterative matrix, and we have $c= M^{-1}b$. "
   ]
  },
  {
   "cell_type": "markdown",
   "id": "71e73187-f3df-4570-beb5-6de3b79cb28c",
   "metadata": {},
   "source": [
    "Consider a function $g(x) $ which has the property to contract $|g'(x) | < 1$, then the iterative method converges $x_k = g(x_{k-1})$. Then, given $x \\in \\mathbb{R}^n$, then $Ax= b \\iff x = Rx +c$ R needs to be contractive $g(R) < 1$ note that $g(R) = max(\\lambda)$ for $\\lambda \\in Spec(R)$.\n",
    "\n",
    "Consider now $A = D - L - U$. "
   ]
  },
  {
   "cell_type": "markdown",
   "id": "9ed50e13-6fb3-48d1-9f47-ef8e969b7c95",
   "metadata": {},
   "source": [
    "## Exercise 1. \n",
    "\n",
    "**Write functions that perform one step of Jacobi, Gauss-Seidel and SOR(ω) methods. Com- pute the solution of the linear system defined by A**\n",
    "\n"
   ]
  },
  {
   "cell_type": "code",
   "execution_count": 1,
   "id": "6becca7a-662d-4dda-89c6-cf9a73dacba7",
   "metadata": {},
   "outputs": [],
   "source": [
    "import numpy as np\n",
    "\n",
    "A = np.array([[4,-1, -1, 0], [-1,4, 0, -1],[-1, 0, 4, -1], [0, -1, -1, 4] ])\n",
    "b = np.array([[1,2,0,1]])\n",
    "tol = 1e-9\n"
   ]
  },
  {
   "cell_type": "code",
   "execution_count": 2,
   "id": "55fb245b-25d3-4f2d-a899-00163becf06f",
   "metadata": {},
   "outputs": [
    {
     "data": {
      "text/plain": [
       "array([[ 4, -1, -1,  0],\n",
       "       [-1,  4,  0, -1],\n",
       "       [-1,  0,  4, -1],\n",
       "       [ 0, -1, -1,  4]])"
      ]
     },
     "execution_count": 2,
     "metadata": {},
     "output_type": "execute_result"
    }
   ],
   "source": [
    "A"
   ]
  },
  {
   "cell_type": "code",
   "execution_count": 3,
   "id": "ea03ad57-f454-4b96-93e9-47e29749066c",
   "metadata": {},
   "outputs": [
    {
     "data": {
      "text/plain": [
       "array([[1, 2, 0, 1]])"
      ]
     },
     "execution_count": 3,
     "metadata": {},
     "output_type": "execute_result"
    }
   ],
   "source": [
    "b"
   ]
  },
  {
   "cell_type": "markdown",
   "id": "49a49a08-e87b-49f7-8db6-f89e20c4a3a9",
   "metadata": {},
   "source": [
    "Let's consider the Jacobi step:\n",
    "- We have $Ax = b$\n",
    "- We split $A = M-K$, leading to $x_{k+1} = R x_k +c$, where $R = M^{-1}K, c=M^{-1}b$. In order to do so we write $A = D - L -U$, where $D$ is the diagonal of $A$, and $-L, -U$ are the strictly lower and upper parts of $A$. Then, consdier now the Jacobi method to find $M, K$:\n",
    "    - **Jacobi**: $M=D$"
   ]
  },
  {
   "cell_type": "code",
   "execution_count": 4,
   "id": "50a9e1ef-4f22-484f-842b-86558cc3dad6",
   "metadata": {},
   "outputs": [],
   "source": [
    "D = np.diagflat(np.diag(A))\n",
    "L = D - np.tril(A)\n",
    "U = D - np.triu(A)"
   ]
  },
  {
   "cell_type": "code",
   "execution_count": 5,
   "id": "21a150ed-44e5-4752-b0d7-4a82ce53ae92",
   "metadata": {},
   "outputs": [
    {
     "data": {
      "text/plain": [
       "array([[4, 0, 0, 0],\n",
       "       [0, 4, 0, 0],\n",
       "       [0, 0, 4, 0],\n",
       "       [0, 0, 0, 4]])"
      ]
     },
     "execution_count": 5,
     "metadata": {},
     "output_type": "execute_result"
    }
   ],
   "source": [
    "D"
   ]
  },
  {
   "cell_type": "code",
   "execution_count": 6,
   "id": "9776be62-77bd-49ad-8f8f-e5057989f42a",
   "metadata": {},
   "outputs": [
    {
     "data": {
      "text/plain": [
       "array([[0, 0, 0, 0],\n",
       "       [1, 0, 0, 0],\n",
       "       [1, 0, 0, 0],\n",
       "       [0, 1, 1, 0]])"
      ]
     },
     "execution_count": 6,
     "metadata": {},
     "output_type": "execute_result"
    }
   ],
   "source": [
    "L"
   ]
  },
  {
   "cell_type": "code",
   "execution_count": 7,
   "id": "12777a8b-d836-430e-b1fd-3ab1b116749a",
   "metadata": {},
   "outputs": [
    {
     "data": {
      "text/plain": [
       "array([[0, 1, 1, 0],\n",
       "       [0, 0, 0, 1],\n",
       "       [0, 0, 0, 1],\n",
       "       [0, 0, 0, 0]])"
      ]
     },
     "execution_count": 7,
     "metadata": {},
     "output_type": "execute_result"
    }
   ],
   "source": [
    "U"
   ]
  },
  {
   "cell_type": "markdown",
   "id": "b69bd4fb-0fb1-4a36-ae8d-8d124d39ff4a",
   "metadata": {},
   "source": [
    "### Ex2\n",
    "\n",
    "We donnot need to create the matrix, we know which components of $x$ we have to sum, and we just have to multiply the diagonal element by 3, we do not compute the matrix!! Without creating the matrix we can compute it simply. \n",
    "\n",
    "The only method we know in order to operate with matrices of this dimension is iterative methods! \n",
    "\n"
   ]
  },
  {
   "cell_type": "code",
   "execution_count": null,
   "id": "cd67b367-e379-4c9b-8b96-13a1e32d362f",
   "metadata": {},
   "outputs": [],
   "source": []
  }
 ],
 "metadata": {
  "kernelspec": {
   "display_name": "Python 3 (ipykernel)",
   "language": "python",
   "name": "python3"
  },
  "language_info": {
   "codemirror_mode": {
    "name": "ipython",
    "version": 3
   },
   "file_extension": ".py",
   "mimetype": "text/x-python",
   "name": "python",
   "nbconvert_exporter": "python",
   "pygments_lexer": "ipython3",
   "version": "3.9.7"
  }
 },
 "nbformat": 4,
 "nbformat_minor": 5
}
