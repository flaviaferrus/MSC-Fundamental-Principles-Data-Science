{
 "cells": [
  {
   "cell_type": "code",
   "execution_count": 31,
   "id": "b3bac0ff",
   "metadata": {},
   "outputs": [],
   "source": [
    "import numpy as np"
   ]
  },
  {
   "cell_type": "markdown",
   "id": "eea16a05",
   "metadata": {},
   "source": [
    "## Exercise 1"
   ]
  },
  {
   "cell_type": "code",
   "execution_count": 21,
   "id": "cfed4b80",
   "metadata": {},
   "outputs": [],
   "source": [
    "## We want to perform the multiplication update of C=AB+C when given A,B,C matrices\n",
    "def ijk(C, A, B):\n",
    "    for i in range(0,n):\n",
    "        for j in range(0,n):\n",
    "            for k in range(0,n):\n",
    "                C[i,j] = A[i,k]*B[k,j]+ C[i,j]\n",
    "    return C\n",
    "\n",
    "## np.dot gives the inner product of two vectors, so we give the functions the corresponding rows/columns\n",
    "def ijk_improved(A,B,C):\n",
    "    for i in range(0,n):\n",
    "        for j in range(0,n):\n",
    "            C[i,j]= np.dot(A[i,:], B[:,j])+C[i,j]\n",
    "    return C\n",
    "\n",
    "\n",
    "def ijk_improved2(A,B,C):\n",
    "    for i in range(0,n):\n",
    "        for k in range(0,n):\n",
    "            aux=A[i,k] ## only one memory access\n",
    "            for j in range(0,n):\n",
    "                C[i,j]= aux*B[k,j]+C[i,j]\n",
    "    return C\n",
    "        "
   ]
  },
  {
   "cell_type": "code",
   "execution_count": 22,
   "id": "6944b908",
   "metadata": {},
   "outputs": [
    {
     "data": {
      "text/plain": [
       "array([[23,  8],\n",
       "       [19,  9]])"
      ]
     },
     "execution_count": 22,
     "metadata": {},
     "output_type": "execute_result"
    }
   ],
   "source": [
    "A = np.array([[1,2], [1,2]])\n",
    "B = np.array([[3,2], [6,2]])\n",
    "C = np.array([[8,2], [4,3]])\n",
    "n = 2\n",
    "ijk(C, A, B)"
   ]
  },
  {
   "cell_type": "code",
   "execution_count": 25,
   "id": "2e370171",
   "metadata": {},
   "outputs": [
    {
     "data": {
      "text/plain": [
       "array([[23,  8],\n",
       "       [19,  9]])"
      ]
     },
     "execution_count": 25,
     "metadata": {},
     "output_type": "execute_result"
    }
   ],
   "source": [
    "## We want to perform the multiplication update of C=AB+C when given A,B,C matrices\n",
    "def ijk(C, A, B):\n",
    "    C = np.matmul(A,B) + C\n",
    "    # C = A @ B + C\n",
    "    return C\n",
    "\n",
    "A = np.array([[1,2], [1,2]])\n",
    "B = np.array([[3,2], [6,2]])\n",
    "C = np.array([[8,2], [4,3]])\n",
    "ijk(C, A, B)"
   ]
  },
  {
   "cell_type": "code",
   "execution_count": 15,
   "id": "c02dcdf2",
   "metadata": {},
   "outputs": [
    {
     "data": {
      "text/plain": [
       "array([[1, 4],\n",
       "       [1, 4]])"
      ]
     },
     "execution_count": 15,
     "metadata": {},
     "output_type": "execute_result"
    }
   ],
   "source": [
    "A = np.array([[1,2], [1,2]])\n"
   ]
  },
  {
   "cell_type": "code",
   "execution_count": 3,
   "id": "4b9a085c",
   "metadata": {},
   "outputs": [],
   "source": [
    "A=np.matrix('1,2,3;1,0,2;1,1,0')\n",
    "B=np.matrix('1,2,0; 2,2,1; 1,1,0')\n",
    "C=np.zeros((3,3))"
   ]
  },
  {
   "cell_type": "code",
   "execution_count": 4,
   "id": "239b2327",
   "metadata": {},
   "outputs": [
    {
     "data": {
      "text/plain": [
       "matrix([[1, 2, 3],\n",
       "        [1, 0, 2],\n",
       "        [1, 1, 0]])"
      ]
     },
     "execution_count": 4,
     "metadata": {},
     "output_type": "execute_result"
    }
   ],
   "source": [
    "n=3\n",
    "C=np.zeros((3,3))\n",
    "ijk(A,B, C)"
   ]
  },
  {
   "cell_type": "code",
   "execution_count": 5,
   "id": "74041d9f",
   "metadata": {},
   "outputs": [
    {
     "data": {
      "text/plain": [
       "array([[8., 9., 2.],\n",
       "       [3., 4., 0.],\n",
       "       [3., 4., 1.]])"
      ]
     },
     "execution_count": 5,
     "metadata": {},
     "output_type": "execute_result"
    }
   ],
   "source": [
    "C=np.zeros((3,3))\n",
    "ijk_improved(A,B,C)"
   ]
  },
  {
   "cell_type": "code",
   "execution_count": 6,
   "id": "133d163b",
   "metadata": {},
   "outputs": [
    {
     "data": {
      "text/plain": [
       "array([[8., 9., 2.],\n",
       "       [3., 4., 0.],\n",
       "       [3., 4., 1.]])"
      ]
     },
     "execution_count": 6,
     "metadata": {},
     "output_type": "execute_result"
    }
   ],
   "source": [
    "C=np.zeros((3,3))\n",
    "ijk_improved2(A,B,C)"
   ]
  },
  {
   "cell_type": "code",
   "execution_count": 7,
   "id": "4fa18c34",
   "metadata": {},
   "outputs": [],
   "source": [
    "#D=np.random.matrix(n)"
   ]
  },
  {
   "cell_type": "markdown",
   "id": "5ce3dc3b",
   "metadata": {},
   "source": [
    "## Exercise 2"
   ]
  },
  {
   "cell_type": "code",
   "execution_count": 8,
   "id": "ed2f4556",
   "metadata": {},
   "outputs": [],
   "source": [
    "## Consider n=Nb the dimension of the matrices \n",
    "\n",
    "def blockmatprod(A,B):\n",
    "    C=np.zeros((n,n))\n",
    "    for i in range(0,N):\n",
    "        for j in range(0,N): #we load block C[i,j] into fast memory\n",
    "            for k in range(0,N):\n",
    "                for ii in range(i*b, (i+1)*b): ## we are moving inside the smaller blocks\n",
    "                    for jj in range(j*b, (j+1)*b):\n",
    "                        for kk in range(k*b, (k+1)*b):\n",
    "                            C[ii, jj] = A[ii, kk]*B[kk, jj] + C[ii,jj]\n",
    "    return C\n"
   ]
  },
  {
   "cell_type": "code",
   "execution_count": 9,
   "id": "87ad679f",
   "metadata": {},
   "outputs": [
    {
     "data": {
      "text/plain": [
       "array([[2.49898851, 2.33335071, 2.74979888, 1.86850881, 1.63943249,\n",
       "        2.7233057 , 1.86215575, 2.13911531, 1.84245012],\n",
       "       [2.66882736, 2.03932786, 2.20340207, 1.72957515, 1.78476291,\n",
       "        2.63362451, 2.15806848, 2.00019158, 1.53502047],\n",
       "       [2.59004929, 2.41162934, 2.62591867, 2.05284553, 2.4514991 ,\n",
       "        2.50582127, 2.27329996, 3.07980751, 2.45330893],\n",
       "       [2.63343076, 2.25025402, 2.62350681, 1.9741416 , 2.18957729,\n",
       "        2.0765548 , 1.65377711, 2.37977785, 2.36564665],\n",
       "       [2.69967483, 2.6763627 , 2.63251779, 1.58898207, 2.77782046,\n",
       "        2.27923551, 2.08943909, 2.33869051, 1.81332426],\n",
       "       [1.74122737, 1.37832085, 1.72536816, 1.45081452, 1.32266214,\n",
       "        1.82508475, 1.00919126, 2.25236281, 1.74684728],\n",
       "       [1.58464348, 1.26592622, 1.6854438 , 1.1357861 , 1.11218022,\n",
       "        1.56929102, 1.48920814, 1.27373567, 1.12947787],\n",
       "       [2.29162182, 2.30806796, 2.47130437, 1.40660384, 1.91435999,\n",
       "        2.32538051, 1.68751466, 1.86304553, 1.44531407],\n",
       "       [1.81044208, 1.59547826, 1.63903549, 1.2552379 , 1.59641748,\n",
       "        1.59345981, 1.51524843, 1.5983706 , 1.30052511]])"
      ]
     },
     "execution_count": 9,
     "metadata": {},
     "output_type": "execute_result"
    }
   ],
   "source": [
    "N=3\n",
    "n=N*N\n",
    "b=3\n",
    "A=np.random.rand(n,n)\n",
    "B=np.random.rand(n,n)\n",
    "blockmatprod(A,B)"
   ]
  },
  {
   "cell_type": "markdown",
   "id": "f39164c3",
   "metadata": {},
   "source": [
    "## Exercise 3"
   ]
  },
  {
   "cell_type": "markdown",
   "id": "c1f95461",
   "metadata": {},
   "source": [
    "Remember how to do the LU=A factorization. Given the matrix \\begin{pmatrix} 2 & 3 \\\\ 1 & 7 \\end{pmatrix} we need to diagonalize to get the upper matrix \\begin{pmatrix} 2 & 3 \\\\ 0 & 7-2/3 \\end{pmatrix} then \\begin{pmatrix} 1 & 0 \\\\ 1/2 & 1 \\end{pmatrix}\n",
    "We apply the LU factorization for each matrix block of the global matrix A =LU:\\begin{pmatrix} A_{11} & A_{12} \\\\ A_{21} & A_{22} \\end{pmatrix} Then we get the factorization given by the block matrices \n",
    "\\begin{equation*}\n",
    "A= LU= \\begin{pmatrix} I & 0 \\\\ L & I \\end{pmatrix}\\begin{pmatrix} U_{11} & U_{12} \\\\ 0 & U_{22} \\end{pmatrix}\n",
    "\\end{equation*}"
   ]
  },
  {
   "cell_type": "markdown",
   "id": "edf820af",
   "metadata": {},
   "source": [
    "We are seeking to write a block-partioned LU algorithm. The procedure should be based on:\n",
    "\\begin{equation*}\n",
    "A= LU= \\begin{pmatrix} L_{11} & 0 \\\\ L_{21} & I \\end{pmatrix} \\begin{pmatrix} I & 0 \\\\ 0 & S \\end{pmatrix} \\begin{pmatrix} U_{11} & U_{12} \\\\ 0 & I \\end{pmatrix}= \\begin{pmatrix} L_{11} U_{11} & L_{11} U_{12} \\\\ L_{21} U_{11} & L_{21} U_{12}+S \\end{pmatrix}\n",
    "\\end{equation*}\n",
    "where $S=A_{22}-L_{21}U_{12}$ is the Schur complement of $A_{11}$, therefore $A_{22}=L_{21} U_{12}+S$ is given in the las step of the algorithm using the multiplication update. "
   ]
  },
  {
   "cell_type": "code",
   "execution_count": 42,
   "id": "eb71fa3c",
   "metadata": {},
   "outputs": [],
   "source": [
    "## LU algorithm has already been implemented\n",
    "#from scipy.linalg import lu\n",
    "\n",
    "import scipy.linalg"
   ]
  },
  {
   "cell_type": "code",
   "execution_count": 34,
   "id": "581a6065",
   "metadata": {},
   "outputs": [],
   "source": [
    "## LU factorization:\n",
    "def lunopiv(A, n, ptol):\n",
    "    for k in range(0,n-1):\n",
    "        pivot= A[k,k]\n",
    "        if abs(pivot) < ptol:    ## we need the pivot to be positive in order to diagonalize the matrix\n",
    "            print('zero pivot encountered')\n",
    "            break\n",
    "        for i in range(k+1, n):\n",
    "            A[i,k] = A[i,k]/pivot \n",
    "            for j in range(k+1, n):\n",
    "                A[i,j] = A[i,j] - A[i,k]*A[k,j]\n",
    "        L= np.eye(n)+np.tril(A,-1)\n",
    "        U= np.triu(A)\n",
    "        return L, U"
   ]
  },
  {
   "cell_type": "code",
   "execution_count": 39,
   "id": "75b7155e",
   "metadata": {},
   "outputs": [
    {
     "data": {
      "text/plain": [
       "array([[1., 0.],\n",
       "       [1., 1.]])"
      ]
     },
     "execution_count": 39,
     "metadata": {},
     "output_type": "execute_result"
    }
   ],
   "source": [
    "A = np.array([[1,1], [1,2]])\n",
    "Lprova, Uprova = lunopiv(A, 2, 1.e-16)\n",
    "Lprova"
   ]
  },
  {
   "cell_type": "code",
   "execution_count": 40,
   "id": "35e8d01d",
   "metadata": {},
   "outputs": [
    {
     "data": {
      "text/plain": [
       "array([[1, 1],\n",
       "       [0, 1]])"
      ]
     },
     "execution_count": 40,
     "metadata": {},
     "output_type": "execute_result"
    }
   ],
   "source": [
    "Uprova"
   ]
  },
  {
   "cell_type": "markdown",
   "id": "a4ccb340",
   "metadata": {},
   "source": [
    "Note that we can directly import a function that already executes the diagonalization PLU. "
   ]
  },
  {
   "cell_type": "code",
   "execution_count": 46,
   "id": "56de3c76",
   "metadata": {},
   "outputs": [
    {
     "data": {
      "text/plain": [
       "array([[1., 0.],\n",
       "       [1., 1.]])"
      ]
     },
     "execution_count": 46,
     "metadata": {},
     "output_type": "execute_result"
    }
   ],
   "source": [
    "from scipy.linalg import lu\n",
    "\n",
    "P, Lprova2, Uprova2 = lu(A)\n",
    "Lprova2"
   ]
  },
  {
   "cell_type": "markdown",
   "id": "82f4cef2",
   "metadata": {},
   "source": [
    "We already have the first step of the algorithm, just applying the LU factorization to each block of the total matrix. \\\n",
    "For the second step, we need to solve many linear systems un order to find $U_{12}$. \\\n",
    "Now we have a new set of linear systems for the third step, however we have to modify the initial expression$L_{21} U_{11} = A_{21} \\iff (L_{21} U_{11})^T = A_{21}^T$. "
   ]
  },
  {
   "cell_type": "markdown",
   "id": "1cbde1dd",
   "metadata": {},
   "source": [
    "Solutions: http://www.maia.ub.es/~vieiro/docencia/NLA/pr1/"
   ]
  },
  {
   "cell_type": "code",
   "execution_count": 50,
   "id": "e2baf319",
   "metadata": {},
   "outputs": [
    {
     "name": "stdout",
     "output_type": "stream",
     "text": [
      "0   2.1535579681777730e+02\n",
      "\n",
      "LU factorization (r = 3) \n",
      "\n"
     ]
    },
    {
     "data": {
      "text/plain": [
       "array([[-2.25121934e+00, -5.51702407e+00,  6.48838847e-01,\n",
       "         3.58582524e+00, -1.06454678e+01,  1.07127723e+01],\n",
       "       [ 9.85758251e-02,  3.47964287e+00, -8.00779975e+00,\n",
       "        -1.48890108e+01, -1.65073987e+01,  3.40939700e+00],\n",
       "       [ 2.44546358e+00,  2.05346341e+01, -6.58141025e+00,\n",
       "         3.06808169e+02,  3.78549558e+02, -1.04921850e+02],\n",
       "       [-4.59965044e+00, -6.54446187e+00,  7.25017010e+00,\n",
       "        -2.30046485e+03, -2.90888024e+03,  8.25896537e+02],\n",
       "       [ 2.40721134e+00,  8.45768577e+00, -1.19241564e+01,\n",
       "        -1.63947490e+00, -8.48833716e+01,  5.41411352e+01],\n",
       "       [-6.63035606e+00, -1.61554303e+01,  1.83025389e+01,\n",
       "         2.54118584e+00,  1.36877093e+02, -6.59075313e+01]])"
      ]
     },
     "execution_count": 50,
     "metadata": {},
     "output_type": "execute_result"
    }
   ],
   "source": [
    "n =6\n",
    "A=np.zeros((n,n))\n",
    "for i in range(0,n):\n",
    "    for j in range(0,n):\n",
    "        A[i,j] = np.random.normal(0,10)\n",
    "        \n",
    "LU=np.zeros((n,n))\n",
    "r=3\n",
    "nblocks= int(n/r)\n",
    "Aij=np.zeros((nblocks, nblocks), np.matrix)\n",
    "S=np.copy(A)\n",
    "\n",
    "for i in range(0,nblocks-1):\n",
    "    Aij[0,0] = np.copy(S[0:r, 0:r])\n",
    "    Aij[0,1] = np.copy(S[0:r, r:n])\n",
    "    Aij[1,0] = np.copy(S[r:n, 0:r])\n",
    "    Aij[1,1] = np.copy(S[r:n, r:n])\n",
    "    L11, U11 = lunopiv(Aij[0,0], r, 1.e-16)\n",
    "    \n",
    "    print('%d %24.16e\\n' % (i, np.linalg.norm(np.dot(L11, U11) - S[0:r, 0:r], np.inf)))\n",
    "    \n",
    "    U12 = np.linalg.solve(L11, Aij[0,1])    ## step 2\n",
    "    L21t= np.linalg.solve(U11.T, Aij[1,0].T) ##step 3\n",
    "    \n",
    "    ## np.solve is equivalent to GEPP\n",
    "    \n",
    "    LU[i*r:(i+1)*r, i*r:(i+1)*r] = np.copy(np.tril(L11, -1) + U11)\n",
    "    LU[i*r: (i+1)*r, (i+1)*r:n] = np.copy(U12)\n",
    "    LU[(i+1)*r:n, i*r: (i+1)*r] = np.copy(L21t.T)\n",
    "    \n",
    "    S= Aij[1,1]-np.dot(L21t.T, U12)\n",
    "    \n",
    "Aij[0,0]=S[0:r, 0:r]\n",
    "L11, U11 = lunopiv(Aij[0,0] , r, 1.e-16)\n",
    "LU[n-r:n, n-r: n] = np.copy(np.tril(L11, -1) + U11)\n",
    "\n",
    "print('LU factorization (r = %d) \\n' %(r))\n",
    "#for i in range(0,n):\n",
    "#    for j in range(0,n):\n",
    " \n",
    "LU"
   ]
  },
  {
   "cell_type": "markdown",
   "id": "6426bbef",
   "metadata": {},
   "source": []
  },
  {
   "cell_type": "code",
   "execution_count": null,
   "id": "599415cd",
   "metadata": {},
   "outputs": [],
   "source": []
  }
 ],
 "metadata": {
  "kernelspec": {
   "display_name": "Python 3 (ipykernel)",
   "language": "python",
   "name": "python3"
  },
  "language_info": {
   "codemirror_mode": {
    "name": "ipython",
    "version": 3
   },
   "file_extension": ".py",
   "mimetype": "text/x-python",
   "name": "python",
   "nbconvert_exporter": "python",
   "pygments_lexer": "ipython3",
   "version": "3.9.7"
  }
 },
 "nbformat": 4,
 "nbformat_minor": 5
}
