{
 "cells": [
  {
   "cell_type": "markdown",
   "id": "f08e74a4",
   "metadata": {},
   "source": [
    "# Linear systems' stability: condition number of a matrix"
   ]
  },
  {
   "cell_type": "markdown",
   "id": "d4d9e3dc",
   "metadata": {},
   "source": [
    "*Arturo's solution from day 30 of setember*\n",
    "\n",
    "When solving linear systems, roundoff will play a role. We want to investigate the accuracy of the computed solution.\n",
    "\n",
    "A matrix $A \\in \\mathbb{R}^{n\\times n}$ is **ill-conditioned** if relatively small changes in A (if is rounded for example) can cause large changes in the solution of $Ax = b$ (for a fixed $b \\in \\mathbb{R}^n $). Otherwise it is well-conditioned. For a given matrix norm $|| \\cdot ||$, the **accuracy** of the solution depends on the **condition number** $k(A) = ||A || ||A^{-1}||$.\n",
    "\n",
    "In general, we have approximations of A and b, say A + δA and b + δB, and we obtain a solution xˆ = x + δx. Recall that (backward error analysis formula):\n",
    "$$\n",
    "\\frac{|| \\delta x ||}{|| \\hat{x} ||} \\leq k (A) \\Bigg( \\frac{|| \\delta A ||}{|| A ||} + \\frac{|| \\delta b ||}{||A|| \\cdot || \\hat{x} ||}  \\Bigg)\n",
    "$$\n",
    "\n"
   ]
  },
  {
   "cell_type": "markdown",
   "id": "317283bd",
   "metadata": {},
   "source": [
    "##  Exercise 1:\n",
    "\n",
    "There are ill-conditioned matrices of relatively small dimensions.\n",
    "\n",
    "*(a) Consider the Vandermonde matrix of order n*:\n"
   ]
  },
  {
   "cell_type": "code",
   "execution_count": 3,
   "id": "f6ab18c8",
   "metadata": {},
   "outputs": [],
   "source": [
    "import numpy as np\n",
    "import matplotlib.pyplot as plt"
   ]
  },
  {
   "cell_type": "code",
   "execution_count": 6,
   "id": "8cd7838d",
   "metadata": {},
   "outputs": [],
   "source": [
    "def vandermonde(n):\n",
    "    KV = np.zeros(n-2)\n",
    "    for i in range(2, n):\n",
    "        V_i= np.zeros((i,i))\n",
    "        for j in range(0, i):\n",
    "            for k in range(1, i+1):\n",
    "                V_i[j,k-1] = (1-2*(k-1)/(i-1))**j\n",
    "        KV[i-2] = np.linalg.norm(V_i,2)*np.linalg.norm(np.linalg.inv(V_i),2)\n",
    "    return KV\n"
   ]
  },
  {
   "cell_type": "code",
   "execution_count": 7,
   "id": "2e1b2273",
   "metadata": {},
   "outputs": [
    {
     "name": "stdout",
     "output_type": "stream",
     "text": [
      "[1.00000000e+00 3.22550493e+00 8.01156105e+00 2.35309087e+01\n",
      " 6.38272826e+01 1.89814113e+02 5.35353118e+02 1.60544370e+03\n",
      " 4.62644992e+03 1.39516269e+04 4.07548818e+04 1.23389738e+05\n",
      " 3.63830758e+05 1.10480853e+06 3.28003166e+06 9.98312389e+06\n",
      " 2.97935974e+07 9.08473095e+07 2.72240823e+08 8.31377053e+08\n",
      " 2.49966296e+09 7.64316679e+09 2.30433951e+10 7.05346196e+10\n",
      " 2.13143917e+11 6.53021415e+11 1.97717094e+12 6.06231538e+12\n",
      " 1.83862899e+13 5.64132217e+13 1.71231474e+14 5.29500883e+14\n",
      " 1.60587929e+15 4.90248874e+15 1.49449011e+16 4.86300442e+16\n",
      " 1.75530374e+17 3.95907184e+17 1.76059208e+18 1.42926370e+18\n",
      " 1.61202731e+18 1.89145698e+18 6.86866954e+18 7.55841797e+18\n",
      " 1.30222059e+18 3.06381040e+18 5.71286162e+18 5.64013072e+19]\n"
     ]
    }
   ],
   "source": [
    "A = vandermonde(50)\n",
    "print(A)"
   ]
  },
  {
   "cell_type": "code",
   "execution_count": 8,
   "id": "274cc041",
   "metadata": {},
   "outputs": [
    {
     "data": {
      "text/plain": [
       "[<matplotlib.lines.Line2D at 0x7fbec536c340>]"
      ]
     },
     "execution_count": 8,
     "metadata": {},
     "output_type": "execute_result"
    },
    {
     "data": {
      "image/png": "[encoded data removed]",
      "text/plain": [
       "<Figure size 432x288 with 1 Axes>"
      ]
     },
     "metadata": {
      "needs_background": "light"
     },
     "output_type": "display_data"
    }
   ],
   "source": [
    "plt.plot(np.log(A))"
   ]
  },
  {
   "cell_type": "markdown",
   "id": "831a35dc",
   "metadata": {},
   "source": [
    "We are creating the Vandermonde matrix of order i V_i and computing its condition number KV as specified. Note that the condition number grows exponentially with n. "
   ]
  },
  {
   "cell_type": "markdown",
   "id": "4c653301",
   "metadata": {},
   "source": [
    "*(b) Let's compute now the Hilbert's matrices and calculate the condition number:*"
   ]
  },
  {
   "cell_type": "code",
   "execution_count": 13,
   "id": "cd6528b5",
   "metadata": {},
   "outputs": [],
   "source": [
    "def hilbert(n):\n",
    "    Kh = np.zeros(n-2)\n",
    "    for i in range(2, n):\n",
    "        V_i= np.zeros((i,i))\n",
    "        for j in range(1, i):\n",
    "            for k in range(1, i):\n",
    "                V_i[j,k-1] = 1/(j+k-1) #(1-2*(k-1)/(i-1))**j\n",
    "        Kh[i-2] = np.linalg.norm(V_i,2)*np.linalg.norm(np.linalg.inv(V_i),2)\n",
    "    return Kh\n"
   ]
  },
  {
   "cell_type": "code",
   "execution_count": 15,
   "id": "0f243997",
   "metadata": {},
   "outputs": [],
   "source": [
    "def hilbert(n):\n",
    "    Kh = np.zeros(n-2)\n",
    "    for i in range(2, n):\n",
    "        V_i= np.zeros((i,i))\n",
    "        for j in range(0, i):\n",
    "            for k in range(0, i):\n",
    "                V_i[j,k-1] = 1/(j+k+1) #(1-2*(k-1)/(i-1))**j\n",
    "        Kh[i-2] = np.linalg.norm(V_i,2)*np.linalg.norm(np.linalg.inv(V_i),2)\n",
    "    return Kh\n"
   ]
  },
  {
   "cell_type": "code",
   "execution_count": 16,
   "id": "90980339",
   "metadata": {},
   "outputs": [
    {
     "name": "stdout",
     "output_type": "stream",
     "text": [
      "[1.92814701e+01 5.24056778e+02 1.55137387e+04 4.76607250e+05\n",
      " 1.49510586e+07 4.75367357e+08 1.52575755e+10 4.93155272e+11\n",
      " 1.60257675e+13 5.22061496e+14 1.67036004e+16 3.32202170e+17\n",
      " 1.31308869e+17 1.64628343e+17 7.94382162e+17 9.96204607e+17\n",
      " 6.93775853e+17 4.54719869e+18 5.21168586e+17 3.14090135e+18\n",
      " 2.89799872e+19 9.81702865e+17 1.72735557e+18 1.39088543e+20\n",
      " 7.90423323e+18 4.01238730e+18 1.40242372e+19 1.59425905e+18\n",
      " 5.23799073e+18 1.41070978e+18 1.14116551e+19 5.08273286e+18\n",
      " 9.58505635e+18 4.56290009e+19 2.96349907e+18 2.90306675e+19\n",
      " 8.00811709e+18 2.71282088e+19 2.29573281e+18 4.42951728e+18\n",
      " 3.52284363e+18 1.49112167e+19 3.34961848e+18 4.27950417e+18\n",
      " 2.66433017e+18 1.51227663e+19 1.16089067e+19 4.98643777e+18]\n"
     ]
    }
   ],
   "source": [
    "B = hilbert(50)\n",
    "print(B)"
   ]
  },
  {
   "cell_type": "code",
   "execution_count": 17,
   "id": "dd8882ff",
   "metadata": {},
   "outputs": [
    {
     "data": {
      "text/plain": [
       "[<matplotlib.lines.Line2D at 0x7fbec55111f0>]"
      ]
     },
     "execution_count": 17,
     "metadata": {},
     "output_type": "execute_result"
    },
    {
     "data": {
      "image/png": "[encoded data removed]",
      "text/plain": [
       "<Figure size 432x288 with 1 Axes>"
      ]
     },
     "metadata": {
      "needs_background": "light"
     },
     "output_type": "display_data"
    }
   ],
   "source": [
    "plt.plot(np.log(B))"
   ]
  },
  {
   "cell_type": "markdown",
   "id": "0c33eb7d",
   "metadata": {},
   "source": [
    "## Exercise 2:\n",
    "\n",
    "Investigate the relation between the condition number and the precision of the solution when solving a linear system.\n",
    "\n",
    "Consider the n-dimensional Frank matrix:"
   ]
  },
  {
   "cell_type": "code",
   "execution_count": 18,
   "id": "f4a05891",
   "metadata": {},
   "outputs": [],
   "source": [
    "import numpy as np\n",
    "\n",
    "def frank(n):\n",
    "    A = np.zeros((n,n))\n",
    "    \n",
    "    for i in range(0,n):\n",
    "        for j in range(0,n):\n",
    "            if (i<=j):\n",
    "                A[i,j] = float(n-j)\n",
    "            elif (j==i-1):\n",
    "                A[i,j] = float(n-j-1)\n",
    "                \n",
    "    return A"
   ]
  },
  {
   "cell_type": "code",
   "execution_count": 21,
   "id": "77fb03a2",
   "metadata": {},
   "outputs": [],
   "source": [
    "def frank2(n):\n",
    "    A=np.zeros((n,n))\n",
    "    for i in range(0,n):\n",
    "        for j in range(0,n):\n",
    "            if j<i-1:\n",
    "                A[i,j]=0\n",
    "            if j==i-1:\n",
    "                A[i,j]=n+1-i-1\n",
    "            if j>=i:\n",
    "                A[i,j]=n+1-j-1\n",
    "    return A"
   ]
  },
  {
   "cell_type": "code",
   "execution_count": 22,
   "id": "a3c11a46",
   "metadata": {},
   "outputs": [
    {
     "name": "stdout",
     "output_type": "stream",
     "text": [
      "[[4. 3. 2. 1.]\n",
      " [3. 3. 2. 1.]\n",
      " [0. 2. 2. 1.]\n",
      " [0. 0. 1. 1.]]\n",
      "[[4. 3. 2. 1.]\n",
      " [3. 3. 2. 1.]\n",
      " [0. 2. 2. 1.]\n",
      " [0. 0. 1. 1.]]\n"
     ]
    }
   ],
   "source": [
    "A = frank(4)\n",
    "print(A)\n",
    "B= frank(4)\n",
    "print(B)\n",
    "\n",
    "# both functions work the same way"
   ]
  },
  {
   "cell_type": "code",
   "execution_count": 23,
   "id": "69dafaa4",
   "metadata": {},
   "outputs": [
    {
     "name": "stdout",
     "output_type": "stream",
     "text": [
      "[[5. 4. 3. 2. 1.]\n",
      " [4. 4. 3. 2. 1.]\n",
      " [0. 3. 3. 2. 1.]\n",
      " [0. 0. 2. 2. 1.]\n",
      " [0. 0. 0. 1. 1.]]\n",
      "1.000000000000003\n",
      "647.4683032841723\n"
     ]
    }
   ],
   "source": [
    "##MAIN\n",
    "n=5\n",
    "f=frank(5)\n",
    "print(f)\n",
    "print(np.linalg.det(f))\n",
    "print(np.linalg.cond(f))\n",
    "## here we can see a particular condition number for a frank matrix of order 5"
   ]
  },
  {
   "cell_type": "markdown",
   "id": "b275f1df",
   "metadata": {},
   "source": [
    "Assume that $A_{i,j}$ are stored as float (double\n",
    "and $b = Ax_0$. Note that b contains roundoff errors of the order of the precision machine (εmachine ∼ 10−16). For n = 2, . . . , 24 compute $k_2(A)$ and compare the values of εmachinek2(A) with those of the relative error of the solution, that is\n",
    "$$\n",
    "\\varepsilon_{rel} = \\frac{|| x - x_0||_2}{|| x_0||_2}\n",
    "$$"
   ]
  },
  {
   "cell_type": "code",
   "execution_count": 28,
   "id": "e341dad2",
   "metadata": {},
   "outputs": [],
   "source": [
    "## Deeper study on the condition number:\n",
    "def KNfrank(k):\n",
    "    KF = np.zeros(k-2)\n",
    "    for n in range(2, k):\n",
    "        x_0 = np.zeros(n)\n",
    "        for i in range(0,n):\n",
    "            x_0[i]=1\n",
    "        A = frank(n)\n",
    "        KF[n-2] = np.linalg.norm(A,2)*np.linalg.norm(np.linalg.inv(A),2)\n",
    "        b=np.dot(A,x_0)\n",
    "        x=np.linalg.solve(A, b)\n",
    "        e_rel=np.linalg.norm(x-x_0,2)/np.linalg.norm(x_0,2)\n",
    "        print('e_rel=',e_rel)\n",
    "        print('epsilon*condnumber=',(1.e-16)*KF[n-2])\n",
    "    return KF, e_rel"
   ]
  },
  {
   "cell_type": "code",
   "execution_count": 29,
   "id": "0e64bb37",
   "metadata": {},
   "outputs": [
    {
     "name": "stdout",
     "output_type": "stream",
     "text": [
      "e_rel= 0.0\n",
      "epsilon*condnumber= 6.854101966249686e-16\n",
      "e_rel= 0.0\n",
      "epsilon*condnumber= 2.7579586629417513e-15\n",
      "e_rel= 0.0\n",
      "epsilon*condnumber= 1.2044883837224634e-14\n",
      "e_rel= 1.3527237254048918e-14\n",
      "epsilon*condnumber= 6.474683032841798e-14\n",
      "e_rel= 1.3795925728255897e-13\n",
      "epsilon*condnumber= 4.208256633444199e-13\n",
      "e_rel= 2.128771309698284e-13\n",
      "epsilon*condnumber= 3.191323031925279e-12\n",
      "e_rel= 2.7308989463238868e-12\n",
      "epsilon*condnumber= 2.756246160508992e-11\n",
      "e_rel= 6.716388447542974e-11\n",
      "epsilon*condnumber= 2.666577678334289e-10\n",
      "e_rel= 6.254426318542695e-10\n",
      "epsilon*condnumber= 2.8543218323493727e-09\n",
      "e_rel= 1.85607095593548e-09\n",
      "epsilon*condnumber= 3.3475208759889794e-08\n",
      "e_rel= 4.402857039475857e-08\n",
      "epsilon*condnumber= 4.267362221630895e-07\n",
      "e_rel= 9.845017750563485e-07\n",
      "epsilon*condnumber= 5.873954922042852e-06\n",
      "e_rel= 2.3922906824244706e-05\n",
      "epsilon*condnumber= 8.681442638295385e-05\n",
      "e_rel= 4.785784652958975e-05\n",
      "epsilon*condnumber= 0.0013709849536917523\n",
      "e_rel= 0.0019049598042509535\n",
      "epsilon*condnumber= 0.0230295956436911\n",
      "e_rel= 0.009140297351147018\n",
      "epsilon*condnumber= 0.4116089453416419\n",
      "e_rel= 0.8180721080394068\n",
      "epsilon*condnumber= 6.598788471194512\n",
      "e_rel= 17.074284723055207\n",
      "epsilon*condnumber= 102.09971802521142\n",
      "e_rel= 13.068327879435778\n",
      "epsilon*condnumber= 61.251861862736796\n",
      "e_rel= 22.776707704050434\n",
      "epsilon*condnumber= 147.56299426955246\n",
      "e_rel= 6.613544914642745\n",
      "epsilon*condnumber= 40.23660024981304\n",
      "e_rel= 4.849215731949824\n",
      "epsilon*condnumber= 54.657612499763694\n"
     ]
    }
   ],
   "source": [
    "Kfrank, e_frank = KNfrank(24)"
   ]
  },
  {
   "cell_type": "code",
   "execution_count": 30,
   "id": "97bcca17",
   "metadata": {},
   "outputs": [
    {
     "data": {
      "text/plain": [
       "[<matplotlib.lines.Line2D at 0x7fbec55ca2b0>]"
      ]
     },
     "execution_count": 30,
     "metadata": {},
     "output_type": "execute_result"
    },
    {
     "data": {
      "image/png": "[encoded data removed]",
      "text/plain": [
       "<Figure size 432x288 with 1 Axes>"
      ]
     },
     "metadata": {
      "needs_background": "light"
     },
     "output_type": "display_data"
    }
   ],
   "source": [
    "plt.plot(np.log(Kfrank))"
   ]
  },
  {
   "cell_type": "markdown",
   "id": "83297fc5",
   "metadata": {},
   "source": [
    "### Exercise 3. \n",
    "\n",
    "We may discuss the problem of computing the inverse. **The worse way to solve a linear system is to compute th inverse**, since it is a very extended problem and we have to compute too many operations. \n",
    "\n",
    "We may compare the methods:\n",
    "1. Matrix inverse method\n",
    "2. LU method using GEPP\n",
    "\n",
    "We seek to generate matrices with the condition numbers that we wish. "
   ]
  },
  {
   "cell_type": "code",
   "execution_count": 31,
   "id": "62ecd67f",
   "metadata": {},
   "outputs": [],
   "source": [
    "def compare_norms(k, n):\n",
    "    norm1=np.zeros(k)\n",
    "    norm2=np.zeros(k)\n",
    "    for p in range(0,k):\n",
    "    #Generate a matrix A with K(A)=sqrt(epsilon_machine)\n",
    "        A=np.zeros((n,n))\n",
    "        Q=np.zeros((n,n))\n",
    "        R=np.zeros((n,n))\n",
    "        D=np.zeros((n,n))\n",
    "        x=np.random.normal(0,1,n)\n",
    "        for i in range(0,n):\n",
    "            for j in range(0,n):\n",
    "                A[i,j]=np.random.normal(0,1)\n",
    "        Q,R=np.linalg.qr(A)\n",
    "        D=np.eye(n)\n",
    "        D[0,0]=9e7\n",
    "        A=np.dot(np.dot(Q.T,D),Q)\n",
    "        b=np.dot(A,x)\n",
    "    \n",
    "    #We find the solution with distinc methods\n",
    "    \n",
    "        A_inv=np.linalg.inv(A)\n",
    "        xsol_1=np.dot(A_inv,b)\n",
    "        xsol_2=np.linalg.solve(A,b)\n",
    "    \n",
    "    #We compute the infinit norms\n",
    "    #First method\n",
    "        r1=np.dot(A,xsol_1)-b\n",
    "        r1=np.linalg.norm(r1,np.inf)\n",
    "        valor1=np.linalg.norm(A,np.inf)*np.linalg.norm(xsol_1,np.inf) + np.linalg.norm(b,np.inf)\n",
    "        res1=r1/valor1\n",
    "    #Second method\n",
    "        r2=np.dot(A,xsol_2)-b\n",
    "        r2=np.linalg.norm(r2,np.inf)\n",
    "        valor2=np.linalg.norm(A,np.inf)*np.linalg.norm(xsol_2,np.inf) + np.linalg.norm(b,np.inf)\n",
    "        res2=r2/valor2\n",
    "    \n",
    "        norm1[p]=res1\n",
    "        norm2[p]=res2\n",
    "        \n",
    "    return norm1, norm2"
   ]
  },
  {
   "cell_type": "code",
   "execution_count": 32,
   "id": "f4ecea3a",
   "metadata": {},
   "outputs": [
    {
     "data": {
      "text/plain": [
       "[<matplotlib.lines.Line2D at 0x7fbec56a6730>]"
      ]
     },
     "execution_count": 32,
     "metadata": {},
     "output_type": "execute_result"
    },
    {
     "data": {
      "image/png": "[encoded data removed]",
      "text/plain": [
       "<Figure size 432x288 with 1 Axes>"
      ]
     },
     "metadata": {
      "needs_background": "light"
     },
     "output_type": "display_data"
    }
   ],
   "source": [
    "norm1, norm2 = compare_norms(1000, 25)\n",
    "\n",
    "plt.plot(norm1)"
   ]
  },
  {
   "cell_type": "code",
   "execution_count": 33,
   "id": "5693ce35",
   "metadata": {},
   "outputs": [
    {
     "data": {
      "text/plain": [
       "[<matplotlib.lines.Line2D at 0x7fbec5727c40>]"
      ]
     },
     "execution_count": 33,
     "metadata": {},
     "output_type": "execute_result"
    },
    {
     "data": {
      "image/png": "[encoded data removed]",
      "text/plain": [
       "<Figure size 432x288 with 1 Axes>"
      ]
     },
     "metadata": {
      "needs_background": "light"
     },
     "output_type": "display_data"
    }
   ],
   "source": [
    "plt.plot(norm2)"
   ]
  },
  {
   "cell_type": "markdown",
   "id": "70993344",
   "metadata": {},
   "source": [
    "### Exercise 4. A method to estimate the condition number \n",
    "\n",
    "#### Hager's 1-norm estimator\n",
    "\n",
    "Consider the square matrix $B \\in \\mathbb{R}^{n\\times n}$, $|| B ||_1= max_{0 \\neq x \\in \\mathbb{R}^n} \\frac{|| B x||_1}{|| x ||_1} = max_{1 \\leq j \\leq n} \\sum_{i=1}^n |B_{ij}|$, where $\\frac{|| B x||_1}{|| x ||_1}$ is called the induced norm from the norm $|| x||_1 = \\sum_{j=1}^n |x_j|$. Note that this maximum is achieved for $x \\in \\mathbb{R}^n$ such that $||x|| = 1$. Then this norm $|| B ||_1$ is the global maximum of the function $F: \\mathbb{R}^n \\rightarrow \\mathbb{R}$, $F(x) = || B x||_1$ over the set $S = \\{ x \\in \\mathbb{R}^n, ||x ||_1 \\leq 1 \\}$, which is in fact a convex set. Then we have an optimization problem. \n",
    "\n",
    "We have an optimization problem, over functions that are not differentiable, such as the absolute value. However, we may differentiate anyways. Let's study how. To do so, we may move from one point $x_1 \\in S$ to another point $x_2 \\in S$ with $F(x_2) \\geq F(x_1)$. Using the Taylor's expansion we have\n",
    "$$\n",
    "F(x + \\Delta x ) = F(x) + DF(x) \\Delta x + \\mathcal{O}(\\Delta^2 x),\n",
    "$$\n",
    "where the gradient vector is defined as follows:\n",
    "$$\n",
    "DF(x) = \\nabla F = \\Big( \\frac{\\partial F}{\\partial x_1}, \\dots, \\frac{\\partial F}{\\partial x_n} \\Big)\n",
    "$$\n",
    "Since $F$ is convex, we have:\n",
    "$$\n",
    "F(y) \\geq F(x) + DF(x) (y-x),\n",
    "$$\n",
    "i.e. the tangent line remains under the image of the function. \n",
    "\n",
    "Let's consider now how to compute the gradient vector. Assume that we have the original matrix $(Bx)_j \\neq 0, \\forall j$, then\n",
    "$$\n",
    "F(x) = \\sum_{i=1}^n\\Big|  \\underbrace{\\sum_{j=1}^n B_{ij} x_j}_{(Bx)_i} \\Big|\n",
    "$$\n",
    "Consider now $\\sigma_i = sign((Bx)_i)$, then we have\n",
    "$$\n",
    "F(x) = \\sum_{i=1}^n\\Big| \\sum_{j=1}^n \\sigma_i B_{ij} x_j \\Rightarrow \\frac{\\partial F}{\\partial x_k} = \\sum_{i=1}^n \\sigma_i B_{ik} = \\langle \\sigma^T, B_{col(k)} \\rangle \\Rightarrow DF = \\sigma^T B = ( B^T \\sigma)^T\n",
    "$$\n",
    "\n",
    "Let's consider now the **Hager algorithm**:\n",
    "- Given $x$, we compute $w = Bx, \\sigma = sign(w)$, then $\\nabla F = \\sigma^T B = z^T$"
   ]
  },
  {
   "cell_type": "code",
   "execution_count": 1,
   "id": "db189e52",
   "metadata": {},
   "outputs": [],
   "source": [
    "## code of the Hager's algorithm (a)"
   ]
  },
  {
   "cell_type": "code",
   "execution_count": 3,
   "id": "ae41b760",
   "metadata": {},
   "outputs": [],
   "source": [
    "## Arturo's code \n",
    "def hager(B,n):\n",
    "    x=np.zeros(n)\n",
    "    w=np.zeros(n)\n",
    "    psi= np.zeros(n)\n",
    "    x= np.ones(n)/n\n",
    "    while True:\n",
    "        w = np.dot(B,x)\n",
    "        for i in range(0,n):\n",
    "            if w[i]>= 0 :\n",
    "                psi[i]=1\n",
    "            else:\n",
    "                psi[i]=-1\n",
    "        z = np.dot(B.T, psi)\n",
    "        nz= np.linalg.norm(z, np.inf)\n",
    "        if nz <= np.dot(z,x):\n",
    "            return np.linalg.norm(w,1)\n",
    "        else: \n",
    "            x = np.zeros(n)\n",
    "            for i in range(0,n):\n",
    "                if nz == abs(z[i]):\n",
    "                    x[i] = 1\n",
    "                    break\n",
    "        "
   ]
  },
  {
   "cell_type": "markdown",
   "id": "a19e6bda",
   "metadata": {},
   "source": [
    "The main idea that instead of computing the inverse of the matrix so we have $w = B^{-1} x$, we can solve the linear system $B w = x$. We are seeking for an estimate of $|| B^{-1}||_1$ without computing the inverse. Then we could compute the condition number $ k(B) = || B^{-1}||_1 || B^{-1}||_1 $ without having to compute the inverse. \n",
    "\n",
    "In fact we are solving two linear systems with the same matrix (but transposed) instead of computing the inverse matrix. "
   ]
  },
  {
   "cell_type": "code",
   "execution_count": 5,
   "id": "8a94c317",
   "metadata": {},
   "outputs": [],
   "source": [
    "## Arturo's code \n",
    "import numpy as np\n",
    "from scipy.linalg import lu_factor\n",
    "from scipy.linalg import lu_solve\n",
    "\n",
    "def hager(B,n):\n",
    "    lu, piv = lu_factor(B)\n",
    "    x=np.zeros(n)\n",
    "    w=np.zeros(n)\n",
    "    psi= np.zeros(n)\n",
    "    x= np.ones(n)/n\n",
    "    while True:\n",
    "        #w = np.dot(B,x)\n",
    "        w = lu_solve((lu, piv), x, 0)\n",
    "        print('w', w)\n",
    "        for i in range(0,n):\n",
    "            if w[i]>= 0 :\n",
    "                psi[i]=1\n",
    "            else:\n",
    "                psi[i]=-1\n",
    "        #z = np.dot(B.T, psi)\n",
    "        z = lu_solve(( lu, piv), psi, 1)\n",
    "        nz= np.linalg.norm(z, np.inf)\n",
    "        if nz <= np.dot(z,x):\n",
    "            return np.linalg.norm(w,1)\n",
    "        else: \n",
    "            x = np.zeros(n)\n",
    "            for i in range(0,n):\n",
    "                if nz == abs(z[i]):\n",
    "                    x[i] = 1\n",
    "                    break\n",
    "                \n",
    "                \n"
   ]
  },
  {
   "cell_type": "code",
   "execution_count": null,
   "id": "acba7187",
   "metadata": {},
   "outputs": [],
   "source": [
    "## Per acabar"
   ]
  }
 ],
 "metadata": {
  "kernelspec": {
   "display_name": "Python 3 (ipykernel)",
   "language": "python",
   "name": "python3"
  },
  "language_info": {
   "codemirror_mode": {
    "name": "ipython",
    "version": 3
   },
   "file_extension": ".py",
   "mimetype": "text/x-python",
   "name": "python",
   "nbconvert_exporter": "python",
   "pygments_lexer": "ipython3",
   "version": "3.9.7"
  }
 },
 "nbformat": 4,
 "nbformat_minor": 5
}
