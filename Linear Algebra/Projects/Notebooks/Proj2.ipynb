{
 "cells": [
  {
   "cell_type": "code",
   "execution_count": 2,
   "id": "33b09226-e52c-4c8b-8cf4-c1b9af85ab22",
   "metadata": {},
   "outputs": [],
   "source": [
    "import numpy as np\n",
    "from numpy.linalg import svd\n",
    "import matplotlib.pyplot as plt\n",
    "from skimage.color import rgb2gray\n",
    "from skimage import img_as_ubyte,img_as_float\n",
    "import ipywidgets as widgets\n",
    "from ipywidgets import interact,interactive,interact_manual\n",
    "import time\n",
    "from imageio import imwrite\n",
    "from skimage import img_as_ubyte\n",
    "\n",
    "\n",
    "color_images = {\n",
    "    \"fez\": img_as_float(plt.imread(\"IMG_1.jpeg\")), #.astype(float)\n",
    "    \"marroc\": img_as_float(plt.imread(\"IMG_2.jpeg\")), #.astype(float)\n",
    "    \"noruega\": img_as_float(plt.imread(\"IMG_3.jpeg\")),\n",
    "    \"cova\": img_as_float(plt.imread(\"IMG_4.jpeg\")),\n",
    "    \"mallorca\": img_as_float(plt.imread(\"IMG_5.jpeg\")),\n",
    "    \"piano\": img_as_float(plt.imread(\"IMG_6.jpeg\")),\n",
    "    \"pompeia\": img_as_float(plt.imread(\"IMG_7.jpeg\")),\n",
    "    \"pirineus\": img_as_float(plt.imread(\"IMG_8.jpeg\")),\n",
    "    \"aurora\": img_as_float(plt.imread(\"IMG_9.jpeg\")),\n",
    "    \"bb\": img_as_float(plt.imread(\"IMG_10.jpeg\"))\n",
    "}"
   ]
  },
  {
   "cell_type": "code",
   "execution_count": 3,
   "id": "897b0064-8dc6-4a39-9980-3906f45a8a26",
   "metadata": {},
   "outputs": [],
   "source": [
    "def compress_svd(image,k):\n",
    "    \"\"\"\n",
    "    Perform svd decomposition and truncated (using k singular values/vectors) reconstruction\n",
    "    returns\n",
    "    --------\n",
    "      reconstructed matrix reconst_matrix, array of singular values s\n",
    "    \"\"\"\n",
    "    U,s,V = svd(image,full_matrices=False)\n",
    "    reconst_matrix = np.dot(U[:,:k],np.dot(np.diag(s[:k]),V[:k,:]))\n",
    "   \n",
    "    return reconst_matrix,s\n"
   ]
  },
  {
   "cell_type": "code",
   "execution_count": 4,
   "id": "e5afbd29-45f5-437e-8107-cd6b4fcdc0e0",
   "metadata": {},
   "outputs": [],
   "source": [
    "def compress_show_color_images_layer(img_name,k):\n",
    "    \"\"\"\n",
    "     compress and display the reconstructed color image using the layer method \n",
    "    \"\"\"\n",
    "    image = color_images[img_name]\n",
    "    original_shape = image.shape\n",
    "    image_reconst_layers = [compress_svd(image[:,:,i],k)[0] for i in range(3)]\n",
    "    image_reconst = np.zeros(image.shape)\n",
    "    for i in range(3):\n",
    "        image_reconst[:,:,i] = image_reconst_layers[i]\n",
    "    \n",
    "    compression_ratio =100.0*3* (k*(original_shape[0] + original_shape[1])+k)/(original_shape[0]*original_shape[1]*original_shape[2])\n",
    "    frob_percentage =  100*(np.linalg.norm(image) /np.linalg.norm(image_reconst))\n",
    "    \n",
    "    plt.title(\"compression ratio={:.2f}\".format(compression_ratio)+\"%\")\n",
    "    #plt.title(\"Frobenius ratio={:.2f}\".format(frob_percentage)+\"%\")\n",
    "    print(\"compression ratio={:.2f}\".format(compression_ratio)+\"%\")\n",
    "    \n",
    "    plt.imshow(image_reconst)\n",
    "    \n",
    "    return image_reconst, compression_ratio\n",
    "\n"
   ]
  },
  {
   "cell_type": "code",
   "execution_count": 5,
   "id": "e7d3b169-30e2-4d4a-8ce1-2cf4ff31380c",
   "metadata": {},
   "outputs": [],
   "source": [
    "def compute_k_max_color_images_layers(img_name):\n",
    "    image = color_images[img_name]\n",
    "    original_shape = image.shape\n",
    "    return (original_shape[0]*original_shape[1]*original_shape[2])// (3*(original_shape[0] + original_shape[1] + 1))\n",
    "\n",
    "widget = False\n",
    "## Turn on if running in notebook so we can visualize an slider that illustrates\n",
    "## the compression for different values of k gradually\n",
    "if widget:\n",
    "    list_widget = widgets.Dropdown(options=list(color_images.keys()))\n",
    "    int_slider_widget = widgets.IntSlider(min=1,max=compute_k_max_color_images_layers('cat'))\n",
    "    def update_k_max_color_layers(*args):\n",
    "        img_name=list_widget.value\n",
    "        int_slider_widget.max = compute_k_max_color_images_layers(img_name)\n",
    "    list_widget.observe(update_k_max_color_layers,'value')\n"
   ]
  },
  {
   "cell_type": "code",
   "execution_count": 12,
   "id": "3b9c795a-607a-49b6-a1fb-c4d1b8add37a",
   "metadata": {},
   "outputs": [],
   "source": [
    "def importImages(image_name):\n",
    "    k_max = int(compute_k_max_color_images_layers(image_name))\n",
    "    \n",
    "    print('Importing images:')\n",
    "    print('---- k = 5')\n",
    "    image, ratio = compress_show_color_images_layer(image_name, 5)\n",
    "    timestr = time.strftime(\"%Y%m%d-%H%M%S\")\n",
    "    name = (\"./output_\"+image_name+\"/frobPerc_{:.2f}\".format(ratio)+\"_\"+timestr+\".jpeg\")\n",
    "    imwrite(name, image)\n",
    "    \n",
    "    for k in range(1, 100):\n",
    "        if k %10 ==0:\n",
    "            print('---- k =', k)\n",
    "            image, ratio = compress_show_color_images_layer(image_name, k)\n",
    "            timestr = time.strftime(\"%Y%m%d-%H%M%S\")\n",
    "            name = (\"./output_\"+image_name+\"/frobPerc_{:.2f}\".format(ratio)+\"_\"+timestr+\".jpeg\")\n",
    "            #imwrite(name, img_as_ubyte(image))\n",
    "            imwrite(name, image)\n",
    "        \n",
    "    interval = k_max - 100\n",
    "    step = int(interval / 5)\n",
    "    #print(step)\n",
    "\n",
    "    for i in range(5):\n",
    "        print('---- k =', 100 + step*i)\n",
    "        image, ratio = compress_show_color_images_layer(image_name, 100 + step*i)\n",
    "        timestr = time.strftime(\"%Y%m%d-%H%M%S\")\n",
    "        name = (\"./output_\"+image_name+\"/frobPerc_{:.2f}\".format(ratio)+\"_\"+timestr+\".jpeg\")\n",
    "        #imwrite(name, img_as_ubyte(image))        \n",
    "        imwrite(name, image)\n"
   ]
  },
  {
   "cell_type": "code",
   "execution_count": 13,
   "id": "557bd906-cd7b-44f4-8ecc-d621a7e11997",
   "metadata": {},
   "outputs": [
    {
     "name": "stdout",
     "output_type": "stream",
     "text": [
      "Importing images:\n",
      "---- k = 5\n"
     ]
    },
    {
     "name": "stderr",
     "output_type": "stream",
     "text": [
      "Clipping input data to the valid range for imshow with RGB data ([0..1] for floats or [0..255] for integers).\n",
      "Lossy conversion from float64 to uint8. Range [-0.37809860398958917, 1.1345533045589722]. Convert image to uint8 prior to saving to suppress this warning.\n"
     ]
    },
    {
     "name": "stdout",
     "output_type": "stream",
     "text": [
      "compression ratio=0.78%\n",
      "---- k = 10\n"
     ]
    },
    {
     "name": "stderr",
     "output_type": "stream",
     "text": [
      "Clipping input data to the valid range for imshow with RGB data ([0..1] for floats or [0..255] for integers).\n",
      "Lossy conversion from float64 to uint8. Range [-0.23211892557477518, 1.195150381727052]. Convert image to uint8 prior to saving to suppress this warning.\n"
     ]
    },
    {
     "name": "stdout",
     "output_type": "stream",
     "text": [
      "compression ratio=1.56%\n",
      "---- k = 20\n"
     ]
    },
    {
     "name": "stderr",
     "output_type": "stream",
     "text": [
      "Clipping input data to the valid range for imshow with RGB data ([0..1] for floats or [0..255] for integers).\n",
      "Lossy conversion from float64 to uint8. Range [-0.23962670134728872, 1.2059669814864906]. Convert image to uint8 prior to saving to suppress this warning.\n"
     ]
    },
    {
     "name": "stdout",
     "output_type": "stream",
     "text": [
      "compression ratio=3.13%\n",
      "---- k = 30\n"
     ]
    },
    {
     "name": "stderr",
     "output_type": "stream",
     "text": [
      "Clipping input data to the valid range for imshow with RGB data ([0..1] for floats or [0..255] for integers).\n",
      "Lossy conversion from float64 to uint8. Range [-0.22305203694900844, 1.1706278016241272]. Convert image to uint8 prior to saving to suppress this warning.\n"
     ]
    },
    {
     "name": "stdout",
     "output_type": "stream",
     "text": [
      "compression ratio=4.69%\n",
      "---- k = 40\n"
     ]
    },
    {
     "name": "stderr",
     "output_type": "stream",
     "text": [
      "Clipping input data to the valid range for imshow with RGB data ([0..1] for floats or [0..255] for integers).\n",
      "Lossy conversion from float64 to uint8. Range [-0.1620282869557663, 1.215934040426738]. Convert image to uint8 prior to saving to suppress this warning.\n"
     ]
    },
    {
     "name": "stdout",
     "output_type": "stream",
     "text": [
      "compression ratio=6.25%\n",
      "---- k = 50\n"
     ]
    },
    {
     "name": "stderr",
     "output_type": "stream",
     "text": [
      "Clipping input data to the valid range for imshow with RGB data ([0..1] for floats or [0..255] for integers).\n",
      "Lossy conversion from float64 to uint8. Range [-0.14819828250363948, 1.1763724151355723]. Convert image to uint8 prior to saving to suppress this warning.\n"
     ]
    },
    {
     "name": "stdout",
     "output_type": "stream",
     "text": [
      "compression ratio=7.82%\n",
      "---- k = 60\n"
     ]
    },
    {
     "name": "stderr",
     "output_type": "stream",
     "text": [
      "Clipping input data to the valid range for imshow with RGB data ([0..1] for floats or [0..255] for integers).\n",
      "Lossy conversion from float64 to uint8. Range [-0.14814089841684155, 1.1571897620864133]. Convert image to uint8 prior to saving to suppress this warning.\n"
     ]
    },
    {
     "name": "stdout",
     "output_type": "stream",
     "text": [
      "compression ratio=9.38%\n",
      "---- k = 70\n"
     ]
    },
    {
     "name": "stderr",
     "output_type": "stream",
     "text": [
      "Clipping input data to the valid range for imshow with RGB data ([0..1] for floats or [0..255] for integers).\n",
      "Lossy conversion from float64 to uint8. Range [-0.1126259207837289, 1.1303433062115424]. Convert image to uint8 prior to saving to suppress this warning.\n"
     ]
    },
    {
     "name": "stdout",
     "output_type": "stream",
     "text": [
      "compression ratio=10.95%\n",
      "---- k = 80\n"
     ]
    },
    {
     "name": "stderr",
     "output_type": "stream",
     "text": [
      "Clipping input data to the valid range for imshow with RGB data ([0..1] for floats or [0..255] for integers).\n",
      "Lossy conversion from float64 to uint8. Range [-0.1289990885521462, 1.118682036359583]. Convert image to uint8 prior to saving to suppress this warning.\n"
     ]
    },
    {
     "name": "stdout",
     "output_type": "stream",
     "text": [
      "compression ratio=12.51%\n",
      "---- k = 90\n"
     ]
    },
    {
     "name": "stderr",
     "output_type": "stream",
     "text": [
      "Clipping input data to the valid range for imshow with RGB data ([0..1] for floats or [0..255] for integers).\n",
      "Lossy conversion from float64 to uint8. Range [-0.1033117267149286, 1.121116383748739]. Convert image to uint8 prior to saving to suppress this warning.\n"
     ]
    },
    {
     "name": "stdout",
     "output_type": "stream",
     "text": [
      "compression ratio=14.07%\n",
      "---- k = 100\n"
     ]
    },
    {
     "name": "stderr",
     "output_type": "stream",
     "text": [
      "Clipping input data to the valid range for imshow with RGB data ([0..1] for floats or [0..255] for integers).\n",
      "Lossy conversion from float64 to uint8. Range [-0.09217434298128918, 1.1046096730035073]. Convert image to uint8 prior to saving to suppress this warning.\n"
     ]
    },
    {
     "name": "stdout",
     "output_type": "stream",
     "text": [
      "compression ratio=15.64%\n",
      "---- k = 207\n"
     ]
    },
    {
     "name": "stderr",
     "output_type": "stream",
     "text": [
      "Clipping input data to the valid range for imshow with RGB data ([0..1] for floats or [0..255] for integers).\n",
      "Lossy conversion from float64 to uint8. Range [-0.03892566217787031, 1.0591376010676485]. Convert image to uint8 prior to saving to suppress this warning.\n"
     ]
    },
    {
     "name": "stdout",
     "output_type": "stream",
     "text": [
      "compression ratio=32.37%\n",
      "---- k = 314\n"
     ]
    },
    {
     "name": "stderr",
     "output_type": "stream",
     "text": [
      "Clipping input data to the valid range for imshow with RGB data ([0..1] for floats or [0..255] for integers).\n",
      "Lossy conversion from float64 to uint8. Range [-0.018229586598858476, 1.044868032730357]. Convert image to uint8 prior to saving to suppress this warning.\n"
     ]
    },
    {
     "name": "stdout",
     "output_type": "stream",
     "text": [
      "compression ratio=49.10%\n",
      "---- k = 421\n"
     ]
    },
    {
     "name": "stderr",
     "output_type": "stream",
     "text": [
      "Clipping input data to the valid range for imshow with RGB data ([0..1] for floats or [0..255] for integers).\n",
      "Lossy conversion from float64 to uint8. Range [-0.012126674046949368, 1.0290439763550632]. Convert image to uint8 prior to saving to suppress this warning.\n"
     ]
    },
    {
     "name": "stdout",
     "output_type": "stream",
     "text": [
      "compression ratio=65.83%\n",
      "---- k = 528\n"
     ]
    },
    {
     "name": "stderr",
     "output_type": "stream",
     "text": [
      "Clipping input data to the valid range for imshow with RGB data ([0..1] for floats or [0..255] for integers).\n",
      "Lossy conversion from float64 to uint8. Range [-0.012242570087106793, 1.0205842797644693]. Convert image to uint8 prior to saving to suppress this warning.\n"
     ]
    },
    {
     "name": "stdout",
     "output_type": "stream",
     "text": [
      "compression ratio=82.56%\n"
     ]
    },
    {
     "data": {
      "image/png": "[encoded data removed]",
      "text/plain": [
       "<Figure size 432x288 with 1 Axes>"
      ]
     },
     "metadata": {
      "needs_background": "light"
     },
     "output_type": "display_data"
    }
   ],
   "source": [
    "importImages('mallorca')     \n"
   ]
  },
  {
   "cell_type": "code",
   "execution_count": 9,
   "id": "82351a47-83cf-421d-af9f-1b876cd626b4",
   "metadata": {},
   "outputs": [
    {
     "name": "stdout",
     "output_type": "stream",
     "text": [
      "compression ratio=0.24%\n"
     ]
    },
    {
     "name": "stderr",
     "output_type": "stream",
     "text": [
      "Clipping input data to the valid range for imshow with RGB data ([0..1] for floats or [0..255] for integers).\n"
     ]
    },
    {
     "data": {
      "image/png": "[encoded data removed]",
      "text/plain": [
       "<Figure size 432x288 with 1 Axes>"
      ]
     },
     "metadata": {
      "needs_background": "light"
     },
     "output_type": "display_data"
    }
   ],
   "source": [
    "image_name = 'aurora'\n",
    "image, ratio = compress_show_color_images_layer(image_name, 5)\n",
    "timestr = time.strftime(\"%Y%m%d-%H%M%S\")\n",
    "name = (\"./output_\"+image_name+\"/frobPerc_{:.2f}\".format(ratio)+\"_\"+timestr+\".jpeg\")\n",
    "imwrite(name, img_as_ubyte(image))"
   ]
  },
  {
   "cell_type": "markdown",
   "id": "cf7e27dc-d3b4-4838-81ad-0f7a4ecf84e2",
   "metadata": {},
   "source": [
    "## 3 Principal component analysis (PCA)\n",
    "\n",
    "**Question 1: The file `example.dat` contains a dataset of 16 observations of 4 variables. Perform PCA analysis using both the covariance matrix and the correlation matrix. The code must write down the portion of the total variance accumulated in each of the principal components, the standard deviation of each of the principal components and the expression of the original dataset in the new PCA coordinates.**"
   ]
  },
  {
   "cell_type": "code",
   "execution_count": 1,
   "id": "3bdaec84-8651-486d-868a-7c04fa075afb",
   "metadata": {},
   "outputs": [],
   "source": [
    "import numpy as np\n",
    "import time\n",
    "import matplotlib.pyplot as plt\n",
    "#import scipy\n",
    "from scipy.linalg import ldl\n",
    "from scipy.linalg import solve_triangular\n",
    "import scipy.sparse as spsp\n",
    "from scipy.sparse import csc_matrix, linalg as spspla\n",
    "\n",
    "\n",
    "def load_matrix(file_name, n, m):\n",
    "    '''\n",
    "        This function uploads the matrix in the file file_name with n rows and m columns\n",
    "\n",
    "    Parameters\n",
    "    ----------\n",
    "    file_name : string\n",
    "    n : number of rows\n",
    "    m : number of cols\n",
    "\n",
    "    Returns\n",
    "    -------\n",
    "    Matrix\n",
    "\n",
    "    '''\n",
    "    \n",
    "    rows,cols,data=np.loadtxt(file_name,unpack=True)\n",
    "    rows=rows-1; cols=cols-1;\n",
    "    A=spsp.coo_matrix((data,(rows,cols)),shape=(n,m))\n",
    "    cscA = spsp.csc_matrix(A)\n",
    "    if n==m:\n",
    "        ## The symmetric matrices are stored just in one triangular side \n",
    "        diagonalG = np.zeros((n,n))\n",
    "        for i in range(0,n):\n",
    "            diagonalG[i,i] = cscA[i,i]\n",
    "            \n",
    "        cscG_lower = cscA.T - diagonalG\n",
    "        cscG_sym = cscA + cscG_lower\n",
    "        return cscG_sym \n",
    "        \n",
    "    return A.todense()\n"
   ]
  },
  {
   "cell_type": "code",
   "execution_count": 3,
   "id": "0a1de208-aaf6-4b66-ad07-fd019a372fe6",
   "metadata": {},
   "outputs": [],
   "source": [
    "n = 16 # Observations\n",
    "m = 4 # Variables\n",
    "#A = load_matrix('example.dat', n, m)\n",
    "\n",
    "#A = np.loadtxt('example.dat')"
   ]
  },
  {
   "cell_type": "code",
   "execution_count": 7,
   "id": "e9946e89-a970-494c-bd38-0750f799ed91",
   "metadata": {},
   "outputs": [
    {
     "name": "stdout",
     "output_type": "stream",
     "text": [
      "(16, 4)\n",
      "(4, 16)\n"
     ]
    }
   ],
   "source": [
    "A = np.loadtxt('./proj2/example.dat')\n",
    "print(A.shape)\n",
    "A = A.T\n",
    "print(A.shape)\n",
    "n = A.shape[1]\n",
    "m = A.shape[0]"
   ]
  },
  {
   "cell_type": "markdown",
   "id": "70b8074b-2a3d-41f8-900b-293812eabd02",
   "metadata": {},
   "source": [
    "### PCA study over the covariance matrix\n",
    "\n",
    "Considering $C_A= \\frac{1}{n-1} A A^T \\in \\mathbb{R}^{m\\times m}$. We seek to find the eigenvectors of the covariance matrix since they correspond to the principal components of $A$, determining the directions of maximum variance with respect to the data given. \n",
    "\n",
    "Since the computation of $C_A$ is highly numercally unstable, in order to avoid unstabilities we may compute the SVD decomposition in the following way:\n",
    "1. We consider $Y=\\frac{1}{\\sqrt{n-1}} A^T$. Then, note that $Y^TY = C_A$.\n",
    "2. The compute the reduced SVD decomposition of $Y=USV^T$, with $U\\in \\mathbb{R}^{n\\times r}, S\\in \\mathbb{R}^{r\\times r}, V\\in \\mathbb{R}^{r\\times m}$ where $r = $ rank $(Y)$.\n",
    "3. Then the singular values $s_i$ are such that $\\lambda_i = s_i^2$, where $\\lambda_i$ are the eigenvalues of $C_A$ indicating the amount of variance that the corresponding direction $v_i$ accumulates: $\\lambda_i / \\sum_{j=1}^r \\lambda_j$, where clearly $\\sum_{j=1}^r \\lambda_j$ accounts for the total variance. \n",
    "4. Similarly, $V$ contains the eigenvectors of $C_A$ as columns, hence the principal components as a function of the old variables (coefficients of the combination, also called the *loadings* in the PCA context). Then the new PCA coordinates are given by $V^T A$.  "
   ]
  },
  {
   "cell_type": "code",
   "execution_count": 10,
   "id": "2be897c7-4a81-4333-a3da-f7ad10679a3f",
   "metadata": {},
   "outputs": [],
   "source": [
    "\n",
    "import numpy as np\n",
    "from numpy.linalg import svd\n",
    "\n",
    "\n",
    "def computePCA(A):\n",
    "    n = A.shape[1]\n",
    "    m = A.shape[0]\n",
    "    r = np.linalg.matrix_rank(A)\n",
    "    \n",
    "    Y = 1/np.sqrt(n-1)* A.T\n",
    "    U,s,V = svd(Y,full_matrices=False)\n",
    "    #reconst_matrix = np.dot(U[:,:k],np.dot(np.diag(s[:k]),V[:k,:]))\n",
    "    print(U.shape, s.shape, V.shape)\n",
    "    eigvals = s**2\n",
    "    print(s, eigvals)\n",
    "    propV = np.zeros(s.shape)\n",
    "    totalV = np.sum(eigvals)\n",
    "    for i in range(s.shape[0]):\n",
    "        propV[i] = eigvals[i]/totalV\n",
    "    \n",
    "    PCA = np.matmul(V.T, A)\n",
    "    \n",
    "    for i in range(len(propV)):\n",
    "        print('The principal component with variance proprotion {:.3f}'.format(propV[i])+' is given by the direction:', V[:, i])  \n",
    "    \n",
    "    print('--------------')\n",
    "    print('The expression of the original variables in terms of the principal components is given as follows:')\n",
    "\n",
    "    for i in range(len(propV)):\n",
    "        print(PCA[:, i])\n",
    "        \n",
    "    return PCA, propV"
   ]
  },
  {
   "cell_type": "code",
   "execution_count": 11,
   "id": "b3b86c89-f5c8-4872-9c1c-c989dc560f0a",
   "metadata": {},
   "outputs": [
    {
     "name": "stdout",
     "output_type": "stream",
     "text": [
      "(16, 4) (4,) (4, 4)\n",
      "[9.67717926 2.98740437 1.38390184 0.7158438 ] [93.64779846  8.92458488  1.91518432  0.51243235]\n",
      "The principal component with variance proprotion 0.892 is given by the direction: [-0.4390472   0.72389617  0.52933835  0.05488905]\n",
      "The principal component with variance proprotion 0.085 is given by the direction: [-0.544242    0.25276353 -0.79957979  0.02415363]\n",
      "The principal component with variance proprotion 0.018 is given by the direction: [-0.49623305 -0.49926238  0.20052205  0.6813815 ]\n",
      "The principal component with variance proprotion 0.005 is given by the direction: [-0.51457844 -0.4035121   0.20065885 -0.72946764]\n",
      "--------------\n",
      "The expression of the original variables in terms of the principal components is given as follows:\n",
      "[ 2.79276889 -4.30375921 -2.146618   -7.42092513]\n",
      "[ 0.26681291 -4.60225573 -3.20761135 -5.87020293]\n",
      "[ 2.65310011 -5.33194891 -0.76545208 -7.54622182]\n",
      "[ 3.56604268 -1.67898419 -3.73133531 -7.38522095]\n"
     ]
    }
   ],
   "source": [
    "VV, lamb = computePCA(A)"
   ]
  },
  {
   "cell_type": "code",
   "execution_count": 12,
   "id": "918b148b-6e58-4715-89da-c20f1f9e6abc",
   "metadata": {},
   "outputs": [
    {
     "name": "stdout",
     "output_type": "stream",
     "text": [
      "[0.89188379 0.08499605 0.01823985 0.00488031]\n"
     ]
    }
   ],
   "source": [
    "print(lamb)"
   ]
  },
  {
   "cell_type": "code",
   "execution_count": 13,
   "id": "861c4c14-4995-4755-9221-1e66a45c48c5",
   "metadata": {},
   "outputs": [
    {
     "name": "stdout",
     "output_type": "stream",
     "text": [
      "[[ 2.79276889  0.26681291  2.65310011  3.56604268  4.91507977  1.48464532\n",
      "   3.98560294  3.32210723  5.86259266  5.71245497  7.02553603  6.90673991\n",
      "   4.9935163   5.75281457  6.82546679  5.38318587]\n",
      " [-4.30375921 -4.60225573 -5.33194891 -1.67898419 -5.91748011 -3.78109658\n",
      "  -2.52687124 -5.10333901 -4.99731171 -5.26224183 -4.20030619 -6.40400207\n",
      "  -3.93040708 -5.04561897 -2.90479165 -5.75817657]\n",
      " [-2.146618   -3.20761135 -0.76545208 -3.73133531 -2.5589502  -2.52925918\n",
      "  -4.89357626 -1.94609595  1.98779179  2.81654169  1.98476246 -0.4840585\n",
      "   2.10138366  0.62502879  0.91771046  3.68307164]\n",
      " [-7.42092513 -5.87020293 -7.54622182 -7.38522095 -9.0706777  -6.48860424\n",
      "  -5.72562681 -7.22026627 -7.46361619 -3.96784098 -7.35254985 -8.36967076\n",
      "  -6.01671687 -6.0046809  -5.57969498 -5.94135471]]\n"
     ]
    }
   ],
   "source": [
    "print(VV)"
   ]
  },
  {
   "cell_type": "code",
   "execution_count": 14,
   "id": "21caea35-6e4f-418d-861c-c5191db280db",
   "metadata": {},
   "outputs": [
    {
     "name": "stdout",
     "output_type": "stream",
     "text": [
      "The principal component with variance proprotion 0.892 is given by the direction: [ 2.79276889 -4.30375921 -2.146618   -7.42092513]\n",
      "The principal component with variance proprotion 0.085 is given by the direction: [ 0.26681291 -4.60225573 -3.20761135 -5.87020293]\n",
      "The principal component with variance proprotion 0.018 is given by the direction: [ 2.65310011 -5.33194891 -0.76545208 -7.54622182]\n",
      "The principal component with variance proprotion 0.005 is given by the direction: [ 3.56604268 -1.67898419 -3.73133531 -7.38522095]\n"
     ]
    }
   ],
   "source": [
    "for i in range(len(lamb)):\n",
    "    print('The principal component with variance proprotion {:.3f}'.format(lamb[i])+' is given by the direction:', VV[:, i])"
   ]
  },
  {
   "cell_type": "markdown",
   "id": "9e70f652-0ea0-453b-8c41-65eeb1f9070c",
   "metadata": {},
   "source": [
    "We seek to conduct now the same study but over the correlation matrix, which is given by the covariance matrix of the standarized initial data "
   ]
  },
  {
   "cell_type": "code",
   "execution_count": 34,
   "id": "a7d545a1-9a83-4632-ae9a-255951f1235c",
   "metadata": {},
   "outputs": [
    {
     "name": "stdout",
     "output_type": "stream",
     "text": [
      "[[23.26666667 23.2        17.4        18.73333333]\n",
      " [23.2        29.53333333 23.86666667 25.        ]\n",
      " [17.4        23.86666667 25.6        25.53333333]\n",
      " [18.73333333 25.         25.53333333 26.6       ]]\n"
     ]
    }
   ],
   "source": [
    "Y = 1/np.sqrt(n-1)* A.T\n",
    "CA=np.matmul(Y.T, Y)\n",
    "print(CA)"
   ]
  },
  {
   "cell_type": "code",
   "execution_count": 42,
   "id": "2ab3f121-cf01-4980-b96b-87d3ceade836",
   "metadata": {},
   "outputs": [
    {
     "name": "stdout",
     "output_type": "stream",
     "text": [
      "(16, 4)\n",
      "(4, 16)\n"
     ]
    }
   ],
   "source": [
    "A = np.loadtxt('./proj2/example.dat')\n",
    "print(A.shape)\n",
    "A = A.T\n",
    "print(A.shape)"
   ]
  },
  {
   "cell_type": "code",
   "execution_count": 44,
   "id": "09f8d129-b383-4d3f-a0bf-c4f0758cdf45",
   "metadata": {},
   "outputs": [
    {
     "data": {
      "text/plain": [
       "array([[ 1.        ,  0.1856123 , -0.63202219, -0.5802668 ],\n",
       "       [ 0.1856123 ,  1.        , -0.14621516, -0.11858645],\n",
       "       [-0.63202219, -0.14621516,  1.        ,  0.85285436],\n",
       "       [-0.5802668 , -0.11858645,  0.85285436,  1.        ]])"
      ]
     },
     "execution_count": 44,
     "metadata": {},
     "output_type": "execute_result"
    }
   ],
   "source": [
    "Corr = np.corrcoef(A)\n",
    "Corr\n",
    "#np.matmul(A, A.T)"
   ]
  },
  {
   "cell_type": "code",
   "execution_count": 54,
   "id": "75da154b-7ea6-477f-b023-2dcc6eef96fc",
   "metadata": {},
   "outputs": [
    {
     "name": "stdout",
     "output_type": "stream",
     "text": [
      "[7. 3. 2. 2.]\n",
      "3.5\n",
      "2.0615528128088303\n",
      "[3.5 3.5 3.5 3.5]\n",
      "[ 1.69774938 -0.24253563 -0.72760688 -0.72760688]\n",
      "5.551115123125783e-17\n"
     ]
    }
   ],
   "source": [
    "print(A[:, 1])\n",
    "print(np.mean(A[:, 1]))\n",
    "print(np.std(A[:,1]))\n",
    "print(np.repeat(np.mean(A[:, 1]), len(A[:, 1])))\n",
    "standarized = (A[:,1] - np.repeat(np.mean(A[:, 1]), len(A[:, 1])) ) /np.std(A[:,1])\n",
    "print(standarized)\n",
    "print(np.mean(standarized))"
   ]
  },
  {
   "cell_type": "code",
   "execution_count": 63,
   "id": "4db3a0c8-d253-4455-986f-a467d9a6e4de",
   "metadata": {},
   "outputs": [],
   "source": [
    "def computePCA_corr(A):\n",
    "    n = A.shape[1]\n",
    "    m = A.shape[0]\n",
    "    r = np.linalg.matrix_rank(A)\n",
    "    \n",
    "    A_stand = np.zeros(A.shape)\n",
    "    ## Compute the correlation matrix:\n",
    "    for i in range(n):\n",
    "        A_stand[:, i] = (A[:,i] - np.repeat(np.mean(A[:, i]), len(A[:, i])) ) /np.std(A[:,i])\n",
    "    #print(A_stand)\n",
    "    \n",
    "    ## now we compute the covariance matrix of the standarized matrix:\n",
    "    Y = 1/np.sqrt(n-1)* A_stand.T\n",
    "    \n",
    "    ## checking that the matrix corresponds to the correlation matrix:\n",
    "    print(np.corrcoef(A))\n",
    "    print(np.matmul(Y.T, Y))\n",
    "    print(np.linalg.norm(np.corrcoef(A) - np.matmul(Y.T, Y)))\n",
    "    \n",
    "    U,s,V = svd(Y,full_matrices=False)\n",
    "    #reconst_matrix = np.dot(U[:,:k],np.dot(np.diag(s[:k]),V[:k,:]))\n",
    "    print(U.shape, s.shape, V.shape)\n",
    "    eigvals = s**2\n",
    "    print(s, eigvals)\n",
    "    propV = np.zeros(s.shape)\n",
    "    totalV = np.sum(eigvals)\n",
    "    for i in range(s.shape[0]):\n",
    "        propV[i] = eigvals[i]/totalV\n",
    "    \n",
    "    PCA = np.matmul(V.T, A)\n",
    "    \n",
    "    for i in range(len(propV)):\n",
    "        print('The principal component with variance proprotion {:.3f}'.format(propV[i])+' is given by the direction:', V[:, i])  \n",
    "    \n",
    "    print('--------------')\n",
    "    print('The expression of the original variables in terms of the principal components is given as follows:')\n",
    "\n",
    "    for i in range(len(propV)):\n",
    "        print(PCA[:, i])\n",
    "        \n",
    "    return PCA, propV, A_stand"
   ]
  },
  {
   "cell_type": "code",
   "execution_count": 64,
   "id": "3c429949-d433-45c8-87d7-aadcdf39ab81",
   "metadata": {},
   "outputs": [
    {
     "name": "stdout",
     "output_type": "stream",
     "text": [
      "[[ 1.          0.1856123  -0.63202219 -0.5802668 ]\n",
      " [ 0.1856123   1.         -0.14621516 -0.11858645]\n",
      " [-0.63202219 -0.14621516  1.          0.85285436]\n",
      " [-0.5802668  -0.11858645  0.85285436  1.        ]]\n",
      "[[ 2.09891396 -0.00285852 -1.24070573 -0.85534971]\n",
      " [-0.00285852  0.57033315 -0.25458169 -0.31289295]\n",
      " [-1.24070573 -0.25458169  0.96223215  0.53305526]\n",
      " [-0.85534971 -0.31289295  0.53305526  0.6351874 ]]\n",
      "1.6714229603208404\n",
      "(16, 4) (4,) (4, 4)\n",
      "[1.81665968e+00 8.63159230e-01 4.70500188e-01 1.28744066e-16] [3.30025238e+00 7.45043856e-01 2.21370427e-01 1.65750346e-32]\n",
      "The principal component with variance proprotion 0.773 is given by the direction: [-0.77880162  0.35351733 -0.13599093 -0.5       ]\n",
      "The principal component with variance proprotion 0.175 is given by the direction: [-0.08770943 -0.85254114  0.12442134 -0.5       ]\n",
      "The principal component with variance proprotion 0.052 is given by the direction: [ 0.50520828  0.14068468 -0.68918242 -0.5       ]\n",
      "The principal component with variance proprotion 0.000 is given by the direction: [ 0.36130276  0.35833913  0.70075201 -0.5       ]\n",
      "--------------\n",
      "The expression of the original variables in terms of the principal components is given as follows:\n",
      "[-5.31319583 -6.41569821 -0.3328742   4.06176824]\n",
      "[-5.66304119 -3.92274671  1.58014716  4.00564074]\n",
      "[-6.30270409 -5.93873574 -1.6627413   3.90418113]\n",
      "[-3.05537769 -7.78191374  1.32165172  3.5156397 ]\n"
     ]
    }
   ],
   "source": [
    "PCA_corr, propV_corr, A_stand = computePCA_corr(A)"
   ]
  },
  {
   "cell_type": "code",
   "execution_count": 66,
   "id": "c58e5a52-39e0-4ff2-9bf8-634425d38ef3",
   "metadata": {},
   "outputs": [
    {
     "name": "stdout",
     "output_type": "stream",
     "text": [
      "[[6. 5. 3. 4.]\n",
      " [7. 3. 2. 2.]\n",
      " [6. 4. 4. 5.]\n",
      " [5. 7. 1. 3.]\n",
      " [7. 7. 5. 5.]\n",
      " [6. 4. 2. 3.]\n",
      " [5. 7. 2. 1.]\n",
      " [6. 5. 4. 4.]\n",
      " [3. 5. 6. 7.]\n",
      " [1. 3. 7. 5.]\n",
      " [2. 6. 6. 7.]\n",
      " [5. 7. 7. 6.]\n",
      " [2. 4. 5. 6.]\n",
      " [3. 5. 6. 5.]\n",
      " [1. 6. 5. 5.]\n",
      " [2. 3. 7. 7.]]\n",
      "[[ 0.59576605  0.10854723 -0.60530077 -0.51661522]\n",
      " [ 0.37861843  0.83426284  0.26751107  0.29848187]]\n",
      "[9.3240832  2.21170517]\n",
      "[[ 2.33616589  0.02763159]\n",
      " [ 4.35336868 -2.12675047]\n",
      " [ 1.10570266 -0.24063832]\n",
      " [ 3.68471106  0.48403484]\n",
      " [ 1.42180965  2.90827971]\n",
      " [ 3.34953464 -1.37262419]\n",
      " [ 4.11264074  0.15458217]\n",
      " [ 1.73086512  0.29514266]\n",
      " [-2.81688024  0.58975511]\n",
      " [-3.79757714 -2.1654601 ]\n",
      " [-3.30409906  1.04539952]\n",
      " [-1.49693922  2.98454685]\n",
      " [-2.39927754 -1.1891191 ]\n",
      " [-1.7836498  -0.00720863]\n",
      " [-2.2613339  -0.19769371]\n",
      " [-4.23504154 -1.18987794]]\n"
     ]
    }
   ],
   "source": [
    "from sklearn.decomposition import PCA\n",
    "# define a matrix\n",
    "#A = array([[1, 2], [3, 4], [5, 6]])\n",
    "print(A)\n",
    "# create the PCA instance\n",
    "pca = PCA(2)\n",
    "# fit on data\n",
    "pca.fit(A)\n",
    "# access values and vectors\n",
    "print(pca.components_)\n",
    "print(pca.explained_variance_)\n",
    "# transform data\n",
    "B = pca.transform(A)\n",
    "print(B)"
   ]
  },
  {
   "cell_type": "code",
   "execution_count": 60,
   "id": "f5354207-1fcf-4160-9281-f19fe25b0cbc",
   "metadata": {},
   "outputs": [
    {
     "data": {
      "text/plain": [
       "array([7., 3., 2., 2.])"
      ]
     },
     "execution_count": 60,
     "metadata": {},
     "output_type": "execute_result"
    }
   ],
   "source": [
    "A[:, 1]"
   ]
  },
  {
   "cell_type": "code",
   "execution_count": 61,
   "id": "083d766d-1ec0-4795-920d-679b942cf963",
   "metadata": {},
   "outputs": [
    {
     "name": "stdout",
     "output_type": "stream",
     "text": [
      "[[ 1.34164079  1.69774938  1.50755672  0.4472136   1.          1.52127766\n",
      "   0.52414242  1.50755672 -1.52127766 -1.34164079 -1.69245584 -1.50755672\n",
      "  -1.52127766 -1.60591014 -1.69245584 -1.20740686]\n",
      " [ 0.4472136  -0.24253563 -0.90453403  1.34164079  1.          0.16903085\n",
      "   1.36277029  0.30151134 -0.16903085 -0.4472136   0.39056673  0.90453403\n",
      "  -0.16903085  0.22941573  0.91132238 -0.76834982]\n",
      " [-1.34164079 -0.72760688 -0.90453403 -1.34164079 -1.         -1.18321596\n",
      "  -0.73379939 -0.90453403  0.50709255  1.34164079  0.39056673  0.90453403\n",
      "   0.50709255  1.14707867  0.39056673  0.98787834]\n",
      " [-0.4472136  -0.72760688  0.30151134 -0.4472136  -1.         -0.50709255\n",
      "  -1.15311332 -0.90453403  1.18321596  0.4472136   0.91132238 -0.30151134\n",
      "   1.18321596  0.22941573  0.39056673  0.98787834]]\n"
     ]
    }
   ],
   "source": [
    "from sklearn.preprocessing import StandardScaler\n",
    "\n",
    "scaler = StandardScaler()\n",
    "\n",
    "standardized_data = scaler.fit_transform(A)\n",
    "\n",
    "print(standardized_data)"
   ]
  },
  {
   "cell_type": "code",
   "execution_count": 66,
   "id": "089a021a-bb7e-4d2e-81b1-21d0ffa1847e",
   "metadata": {},
   "outputs": [
    {
     "name": "stdout",
     "output_type": "stream",
     "text": [
      "[[ 1.34164079  1.69774938  1.50755672  0.4472136   1.          1.52127766\n",
      "   0.52414242  1.50755672 -1.52127766 -1.34164079 -1.69245584 -1.50755672\n",
      "  -1.52127766 -1.60591014 -1.69245584 -1.20740686]\n",
      " [ 0.4472136  -0.24253563 -0.90453403  1.34164079  1.          0.16903085\n",
      "   1.36277029  0.30151134 -0.16903085 -0.4472136   0.39056673  0.90453403\n",
      "  -0.16903085  0.22941573  0.91132238 -0.76834982]\n",
      " [-1.34164079 -0.72760688 -0.90453403 -1.34164079 -1.         -1.18321596\n",
      "  -0.73379939 -0.90453403  0.50709255  1.34164079  0.39056673  0.90453403\n",
      "   0.50709255  1.14707867  0.39056673  0.98787834]\n",
      " [-0.4472136  -0.72760688  0.30151134 -0.4472136  -1.         -0.50709255\n",
      "  -1.15311332 -0.90453403  1.18321596  0.4472136   0.91132238 -0.30151134\n",
      "   1.18321596  0.22941573  0.39056673  0.98787834]]\n",
      "[[ 1.          0.1856123  -0.63202219 -0.5802668 ]\n",
      " [ 0.1856123   1.         -0.14621516 -0.11858645]\n",
      " [-0.63202219 -0.14621516  1.          0.85285436]\n",
      " [-0.5802668  -0.11858645  0.85285436  1.        ]]\n",
      "[[ 1.          0.04292757 -0.90093261 -0.74429447]\n",
      " [ 0.04292757  1.         -0.32120635 -0.5649375 ]\n",
      " [-0.90093261 -0.32120635  1.          0.68917146]\n",
      " [-0.74429447 -0.5649375   0.68917146  1.        ]]\n"
     ]
    }
   ],
   "source": [
    "print(A_stand)\n",
    "print(np.corrcoef(A))\n",
    "print(np.corrcoef(A_stand))"
   ]
  },
  {
   "cell_type": "code",
   "execution_count": 69,
   "id": "9befb461-90ed-4dce-be72-b8bc4eb858e2",
   "metadata": {},
   "outputs": [
    {
     "name": "stdout",
     "output_type": "stream",
     "text": [
      "[[ 2.09891396 -0.00285852 -1.24070573 -0.85534971]\n",
      " [-0.00285852  0.57033315 -0.25458169 -0.31289295]\n",
      " [-1.24070573 -0.25458169  0.96223215  0.53305526]\n",
      " [-0.85534971 -0.31289295  0.53305526  0.6351874 ]]\n"
     ]
    }
   ],
   "source": [
    "## The standarization is correct\n",
    "print(np.matmul(A_stand, A_stand.T)/(n-1))\n",
    "\n",
    "## but this is not the correlation matrix, this is a covariance matrix again..."
   ]
  },
  {
   "cell_type": "code",
   "execution_count": 20,
   "id": "2ff863d6-4b1b-4ebb-8248-8529159c6461",
   "metadata": {},
   "outputs": [
    {
     "name": "stdout",
     "output_type": "stream",
     "text": [
      "[[ 0.87637693  1.35989524  0.87637693  0.39285863  1.35989524  0.87637693\n",
      "   0.39285863  0.87637693 -0.57417799 -1.54121461 -1.0576963   0.39285863\n",
      "  -1.0576963  -0.57417799 -1.54121461 -1.0576963 ]\n",
      " [-0.04356068 -1.43750258 -0.74053163  1.35038121  1.35038121 -0.74053163\n",
      "   1.35038121 -0.04356068 -0.04356068 -1.43750258  0.65341026  1.35038121\n",
      "  -0.74053163 -0.04356068  0.65341026 -1.43750258]\n",
      " [-0.77459667 -1.29099445 -0.25819889 -1.80739223  0.25819889 -1.29099445\n",
      "  -1.29099445 -0.25819889  0.77459667  1.29099445  0.77459667  1.29099445\n",
      "   0.25819889  0.77459667  0.25819889  1.29099445]\n",
      " [-0.3992747  -1.56080112  0.1814885  -0.98003791  0.1814885  -0.98003791\n",
      "  -2.14156433 -0.3992747   1.34301492  0.1814885   1.34301492  0.76225171\n",
      "   0.76225171  0.1814885   0.1814885   1.34301492]]\n"
     ]
    }
   ],
   "source": [
    "A_stand = np.zeros(A.shape)\n",
    "    \n",
    "for i in range(m):\n",
    "    A_stand[i, :] = (A[i,:] - np.repeat(np.mean(A[i, :]), len(A[i, :])) ) /np.std(A[i,:])\n",
    "print(A_stand)\n",
    "    "
   ]
  },
  {
   "cell_type": "code",
   "execution_count": 22,
   "id": "7be3dc68-b7b4-4315-b1bf-8105116ce31a",
   "metadata": {},
   "outputs": [
    {
     "name": "stdout",
     "output_type": "stream",
     "text": [
      "[[ 1.          0.1856123  -0.63202219 -0.5802668 ]\n",
      " [ 0.1856123   1.         -0.14621516 -0.11858645]\n",
      " [-0.63202219 -0.14621516  1.          0.85285436]\n",
      " [-0.5802668  -0.11858645  0.85285436  1.        ]]\n"
     ]
    }
   ],
   "source": [
    "print(np.matmul(A_stand, A_stand.T)/n)\n"
   ]
  },
  {
   "cell_type": "code",
   "execution_count": 23,
   "id": "4f68a6ef-2e09-4fc7-acee-76805b3baae8",
   "metadata": {},
   "outputs": [
    {
     "name": "stdout",
     "output_type": "stream",
     "text": [
      "[[ 1.          0.1856123  -0.63202219 -0.5802668 ]\n",
      " [ 0.1856123   1.         -0.14621516 -0.11858645]\n",
      " [-0.63202219 -0.14621516  1.          0.85285436]\n",
      " [-0.5802668  -0.11858645  0.85285436  1.        ]]\n"
     ]
    }
   ],
   "source": [
    "print(np.corrcoef(A))\n"
   ]
  },
  {
   "cell_type": "code",
   "execution_count": 80,
   "id": "d5546c50-006f-4bc0-b54d-28870491ce44",
   "metadata": {},
   "outputs": [],
   "source": [
    "def computePCA_corr(A):\n",
    "    n = A.shape[1]\n",
    "    m = A.shape[0]\n",
    "    r = np.linalg.matrix_rank(A)\n",
    "    \n",
    "    A_stand = np.zeros(A.shape)\n",
    "    ## Compute the correlation matrix:\n",
    "    for i in range(m):\n",
    "        A_stand[i, :] = (A[i,:] - np.repeat(np.mean(A[i, :]), len(A[i, :])) ) /np.std(A[i,:])\n",
    "\n",
    "    #print(A_stand)\n",
    "    \n",
    "    ## now we compute the covariance matrix of the standarized matrix:\n",
    "    Y = 1/np.sqrt(n)* A_stand.T\n",
    "    \n",
    "    ## checking that the matrix corresponds to the correlation matrix:\n",
    "    #print(np.corrcoef(A))\n",
    "    #print(np.matmul(Y.T, Y))\n",
    "    print(np.linalg.norm(np.corrcoef(A) - np.matmul(Y.T, Y)))\n",
    "    \n",
    "    U,s,V = svd(Y,full_matrices=False)\n",
    "    #reconst_matrix = np.dot(U[:,:k],np.dot(np.diag(s[:k]),V[:k,:]))\n",
    "    print(U.shape, s.shape, V.shape)\n",
    "    eigvals = s**2\n",
    "    print(s, eigvals)\n",
    "    propV = np.zeros(s.shape)\n",
    "    totalV = np.sum(eigvals)\n",
    "    for i in range(s.shape[0]):\n",
    "        propV[i] = eigvals[i]/totalV\n",
    "    \n",
    "    print(V.shape, A.shape)\n",
    "    PCA = np.matmul(V, A)\n",
    "    print(PCA.shape)\n",
    "    \n",
    "    for i in range(len(propV)):\n",
    "        print('The principal component with variance proprotion {:.3f}'.format(propV[i])+' is given by the direction:', V[:, i])  \n",
    "    \n",
    "    print('--------------')\n",
    "    print('The expression of the original variables in terms of the principal components is given as follows:')\n",
    "\n",
    "    print(PCA.T)\n",
    "    #for i in range(PCA.shape[]):\n",
    "    #    print(PCA[:, i])\n",
    "        \n",
    "    return PCA, propV, A_stand\n",
    "\n"
   ]
  },
  {
   "cell_type": "code",
   "execution_count": 81,
   "id": "25e49f1a-1ced-4a93-b957-36dfa12883f8",
   "metadata": {},
   "outputs": [
    {
     "name": "stdout",
     "output_type": "stream",
     "text": [
      "4.554367738890935e-16\n",
      "(16, 4) (4,) (4, 4)\n",
      "[1.55893906 0.9804092  0.68166733 0.37925777] [2.43029099 0.96120221 0.46467035 0.14383645]\n",
      "(4, 4) (4, 16)\n",
      "(4, 16)\n",
      "The principal component with variance proprotion 0.608 is given by the direction: [-0.5229138   0.00807487 -0.84835246  0.08242604]\n",
      "The principal component with variance proprotion 0.240 is given by the direction: [-0.17713905  0.97675554  0.119866    0.01423081]\n",
      "The principal component with variance proprotion 0.116 is given by the direction: [ 0.59652595  0.13369503 -0.29507268  0.73431229]\n",
      "The principal component with variance proprotion 0.036 is given by the direction: [ 0.58252871  0.16735905 -0.42292122 -0.67363855]\n",
      "--------------\n",
      "The expression of the original variables in terms of the principal components is given as follows:\n",
      "[[ 9.65146619e-02  6.00274820e+00 -7.06768768e+00  7.40929808e-02]\n",
      " [-1.83370442e+00  3.58889887e+00 -7.01485703e+00  7.41022193e-01]\n",
      " [ 1.45270837e+00  5.32704674e+00 -7.90554757e+00  1.20535916e-01]\n",
      " [-1.51043025e+00  7.51343531e+00 -4.96653665e+00 -7.74857473e-01]\n",
      " [ 9.94903384e-01  8.39908326e+00 -8.68937471e+00  9.79966681e-01]\n",
      " [-9.05400956e-01  4.72493859e+00 -6.46955978e+00 -8.11578140e-04]\n",
      " [-2.07896172e+00  7.31241223e+00 -4.41576689e+00  1.30673191e+00]\n",
      " [ 6.93040615e-01  6.13644323e+00 -7.36276036e+00  8.08405273e-01]\n",
      " [ 5.20242006e+00  6.88168583e+00 -6.67661198e+00  8.83610920e-03]\n",
      " [ 6.03399429e+00  4.71100194e+00 -4.66886929e+00  1.89711179e+00]\n",
      " [ 5.54819482e+00  7.85036650e+00 -5.70839351e+00 -5.93591166e-02]\n",
      " [ 3.81631161e+00  8.81768263e+00 -8.00573636e+00  1.61010065e+00]\n",
      " [ 4.72341825e+00  5.59580134e+00 -5.23013162e+00 -1.48494487e-01]\n",
      " [ 4.03736264e+00  6.54696773e+00 -5.83076954e+00  1.35611320e+00]\n",
      " [ 4.30952524e+00  7.37387850e+00 -3.71912594e+00  4.71179644e-01]\n",
      " [ 6.67613791e+00  5.05379491e+00 -6.36306419e+00  6.32260740e-01]]\n"
     ]
    }
   ],
   "source": [
    "PCA_corr, propV_corr, A_stand = computePCA_corr(A)"
   ]
  },
  {
   "cell_type": "code",
   "execution_count": 70,
   "id": "03a11143-26c1-42b1-8a82-4963b82c9020",
   "metadata": {},
   "outputs": [
    {
     "name": "stdout",
     "output_type": "stream",
     "text": [
      "[[ 0.5229138   0.84835246 -0.08242604  0.00807487]\n",
      " [ 0.17713905 -0.119866   -0.01423081  0.97675554]\n",
      " [-0.59652595  0.29507268 -0.73431229  0.13369503]\n",
      " [-0.58252871  0.42292122  0.67363855  0.16735905]]\n",
      "[2.43029099 0.46467035 0.14383645 0.96120221]\n",
      "[[ 1.14520929  0.35127392  0.22821265 -0.20585347]\n",
      " [ 2.13579331  0.28494506 -0.19505665 -1.82692136]\n",
      " [ 0.3753926   0.832809    0.25015836 -0.72038791]\n",
      " [ 2.09369303 -0.7763731   0.61540022  0.91650704]\n",
      " [ 0.69056863  1.14474846 -0.19864877  1.39486696]\n",
      " [ 1.66810444  0.03682508  0.22610387 -1.0528595 ]\n",
      " [ 2.46227084 -1.11523239 -0.54624598  0.7911549 ]\n",
      " [ 0.83716461  0.50364879 -0.15098459 -0.13681365]\n",
      " [-1.55237366  0.31466795  0.38385788  0.28114087]\n",
      " [-1.93639418 -0.677493   -0.6782424  -1.21356043]\n",
      " [-1.68175129 -0.17906912  0.41379391  0.95800676]\n",
      " [-0.76950876  0.8747274  -0.48610976  1.62233387]\n",
      " [-1.28231691 -0.40997484  0.4216036  -0.5697695 ]\n",
      " [-0.87575117 -0.17656622 -0.39859108  0.08674892]\n",
      " [-0.94992252 -1.23287211  0.05039669  0.69067064]\n",
      " [-2.36017827  0.22393512  0.06435206 -1.01526413]]\n",
      "(4, 16)\n",
      "(4, 16)\n"
     ]
    }
   ],
   "source": [
    "# eigendecomposition of covariance matrix\n",
    "V = np.corrcoef(A)\n",
    "values, vectors = np.linalg.eig(V)\n",
    "print(vectors)\n",
    "print(values)\n",
    "C = A_stand\n",
    "# project data\n",
    "P = vectors.T.dot(C)\n",
    "print(P.T)\n",
    "print(P.shape)\n",
    "print(A.shape)"
   ]
  },
  {
   "cell_type": "markdown",
   "id": "1e2ac4d3-fd71-4c5b-9467-be9ab2068e74",
   "metadata": {},
   "source": [
    "**Question 2: The file RCsGoff.csv contains data from the experiment reported in [3]. Each observation consists in measuring the amount of a total number of 58581 genes. There are a total of 20 observations grouped by day of observation. The code must perform a PCA analysis on the covariance matrix. The output file must contain rows with the following format: `Sample,PC1,PC2,. . . ,PC20,Variance`, where Sample stands for day0 rep1,...,day18 rep3 (i.e. the different observations) and PCi stands for the coordinate of the principal component of the observation. Finally variance is the portion of the total variance accumulated in each of the principal components. To compare with, below there is the plot of the first two principal components.**\n",
    "\n"
   ]
  },
  {
   "cell_type": "code",
   "execution_count": 26,
   "id": "a6fd796d-8694-4996-8495-78e729dfad70",
   "metadata": {},
   "outputs": [],
   "source": [
    "m = 58581 ## genes or variables\n",
    "n = 20 ## observations"
   ]
  },
  {
   "cell_type": "code",
   "execution_count": 29,
   "id": "a50d9adf-6d80-427c-82f3-377355205400",
   "metadata": {},
   "outputs": [],
   "source": [
    "import pandas as pd\n",
    "\n",
    "#B = np.loadtxt('./proj2/RCsGoff.csv')\n",
    "B = pd.read_csv('./proj2/RCsGoff.csv')"
   ]
  },
  {
   "cell_type": "code",
   "execution_count": 30,
   "id": "c1196c0c-174e-4f0c-90fb-7d00f36e2a2a",
   "metadata": {},
   "outputs": [
    {
     "data": {
      "text/html": [
       "<div>\n",
       "<style scoped>\n",
       "    .dataframe tbody tr th:only-of-type {\n",
       "        vertical-align: middle;\n",
       "    }\n",
       "\n",
       "    .dataframe tbody tr th {\n",
       "        vertical-align: top;\n",
       "    }\n",
       "\n",
       "    .dataframe thead th {\n",
       "        text-align: right;\n",
       "    }\n",
       "</style>\n",
       "<table border=\"1\" class=\"dataframe\">\n",
       "  <thead>\n",
       "    <tr style=\"text-align: right;\">\n",
       "      <th></th>\n",
       "      <th>gene</th>\n",
       "      <th>day0_rep1</th>\n",
       "      <th>day0_rep2</th>\n",
       "      <th>day0_rep3</th>\n",
       "      <th>day1_rep1</th>\n",
       "      <th>day1_rep2</th>\n",
       "      <th>day1_rep3</th>\n",
       "      <th>day2_rep1</th>\n",
       "      <th>day2_rep2</th>\n",
       "      <th>day2_rep3</th>\n",
       "      <th>...</th>\n",
       "      <th>day4_rep2</th>\n",
       "      <th>day4_rep3</th>\n",
       "      <th>day5_rep1</th>\n",
       "      <th>day5_rep2</th>\n",
       "      <th>day11_rep1</th>\n",
       "      <th>day11_rep2</th>\n",
       "      <th>day11_rep3</th>\n",
       "      <th>day18_rep1</th>\n",
       "      <th>day18_rep2</th>\n",
       "      <th>day18_rep3</th>\n",
       "    </tr>\n",
       "  </thead>\n",
       "  <tbody>\n",
       "    <tr>\n",
       "      <th>0</th>\n",
       "      <td>DDX11L1</td>\n",
       "      <td>0</td>\n",
       "      <td>0</td>\n",
       "      <td>0</td>\n",
       "      <td>1</td>\n",
       "      <td>0</td>\n",
       "      <td>0</td>\n",
       "      <td>0</td>\n",
       "      <td>0</td>\n",
       "      <td>0</td>\n",
       "      <td>...</td>\n",
       "      <td>0</td>\n",
       "      <td>0</td>\n",
       "      <td>1</td>\n",
       "      <td>0</td>\n",
       "      <td>0</td>\n",
       "      <td>0</td>\n",
       "      <td>2</td>\n",
       "      <td>0</td>\n",
       "      <td>2</td>\n",
       "      <td>0</td>\n",
       "    </tr>\n",
       "    <tr>\n",
       "      <th>1</th>\n",
       "      <td>WASH7P</td>\n",
       "      <td>1113</td>\n",
       "      <td>897</td>\n",
       "      <td>1498</td>\n",
       "      <td>2130</td>\n",
       "      <td>2047</td>\n",
       "      <td>1876</td>\n",
       "      <td>1366</td>\n",
       "      <td>1359</td>\n",
       "      <td>1439</td>\n",
       "      <td>...</td>\n",
       "      <td>2635</td>\n",
       "      <td>2242</td>\n",
       "      <td>4500</td>\n",
       "      <td>2303</td>\n",
       "      <td>2714</td>\n",
       "      <td>3056</td>\n",
       "      <td>3332</td>\n",
       "      <td>3393</td>\n",
       "      <td>2846</td>\n",
       "      <td>2585</td>\n",
       "    </tr>\n",
       "    <tr>\n",
       "      <th>2</th>\n",
       "      <td>MIR6859-1</td>\n",
       "      <td>8</td>\n",
       "      <td>9</td>\n",
       "      <td>18</td>\n",
       "      <td>28</td>\n",
       "      <td>15</td>\n",
       "      <td>24</td>\n",
       "      <td>13</td>\n",
       "      <td>15</td>\n",
       "      <td>14</td>\n",
       "      <td>...</td>\n",
       "      <td>20</td>\n",
       "      <td>12</td>\n",
       "      <td>47</td>\n",
       "      <td>16</td>\n",
       "      <td>25</td>\n",
       "      <td>30</td>\n",
       "      <td>40</td>\n",
       "      <td>24</td>\n",
       "      <td>29</td>\n",
       "      <td>31</td>\n",
       "    </tr>\n",
       "    <tr>\n",
       "      <th>3</th>\n",
       "      <td>RP11-34P13.3</td>\n",
       "      <td>0</td>\n",
       "      <td>0</td>\n",
       "      <td>0</td>\n",
       "      <td>3</td>\n",
       "      <td>4</td>\n",
       "      <td>4</td>\n",
       "      <td>3</td>\n",
       "      <td>1</td>\n",
       "      <td>0</td>\n",
       "      <td>...</td>\n",
       "      <td>4</td>\n",
       "      <td>0</td>\n",
       "      <td>0</td>\n",
       "      <td>0</td>\n",
       "      <td>1</td>\n",
       "      <td>5</td>\n",
       "      <td>0</td>\n",
       "      <td>2</td>\n",
       "      <td>0</td>\n",
       "      <td>0</td>\n",
       "    </tr>\n",
       "    <tr>\n",
       "      <th>4</th>\n",
       "      <td>MIR1302-2</td>\n",
       "      <td>0</td>\n",
       "      <td>0</td>\n",
       "      <td>0</td>\n",
       "      <td>0</td>\n",
       "      <td>0</td>\n",
       "      <td>0</td>\n",
       "      <td>0</td>\n",
       "      <td>0</td>\n",
       "      <td>0</td>\n",
       "      <td>...</td>\n",
       "      <td>0</td>\n",
       "      <td>0</td>\n",
       "      <td>0</td>\n",
       "      <td>0</td>\n",
       "      <td>0</td>\n",
       "      <td>0</td>\n",
       "      <td>0</td>\n",
       "      <td>0</td>\n",
       "      <td>0</td>\n",
       "      <td>0</td>\n",
       "    </tr>\n",
       "    <tr>\n",
       "      <th>...</th>\n",
       "      <td>...</td>\n",
       "      <td>...</td>\n",
       "      <td>...</td>\n",
       "      <td>...</td>\n",
       "      <td>...</td>\n",
       "      <td>...</td>\n",
       "      <td>...</td>\n",
       "      <td>...</td>\n",
       "      <td>...</td>\n",
       "      <td>...</td>\n",
       "      <td>...</td>\n",
       "      <td>...</td>\n",
       "      <td>...</td>\n",
       "      <td>...</td>\n",
       "      <td>...</td>\n",
       "      <td>...</td>\n",
       "      <td>...</td>\n",
       "      <td>...</td>\n",
       "      <td>...</td>\n",
       "      <td>...</td>\n",
       "      <td>...</td>\n",
       "    </tr>\n",
       "    <tr>\n",
       "      <th>58576</th>\n",
       "      <td>MT-ND6</td>\n",
       "      <td>0</td>\n",
       "      <td>0</td>\n",
       "      <td>0</td>\n",
       "      <td>0</td>\n",
       "      <td>0</td>\n",
       "      <td>0</td>\n",
       "      <td>0</td>\n",
       "      <td>0</td>\n",
       "      <td>0</td>\n",
       "      <td>...</td>\n",
       "      <td>0</td>\n",
       "      <td>0</td>\n",
       "      <td>0</td>\n",
       "      <td>0</td>\n",
       "      <td>0</td>\n",
       "      <td>0</td>\n",
       "      <td>0</td>\n",
       "      <td>0</td>\n",
       "      <td>0</td>\n",
       "      <td>0</td>\n",
       "    </tr>\n",
       "    <tr>\n",
       "      <th>58577</th>\n",
       "      <td>MT-TE</td>\n",
       "      <td>0</td>\n",
       "      <td>0</td>\n",
       "      <td>0</td>\n",
       "      <td>0</td>\n",
       "      <td>0</td>\n",
       "      <td>0</td>\n",
       "      <td>0</td>\n",
       "      <td>0</td>\n",
       "      <td>0</td>\n",
       "      <td>...</td>\n",
       "      <td>0</td>\n",
       "      <td>0</td>\n",
       "      <td>0</td>\n",
       "      <td>0</td>\n",
       "      <td>0</td>\n",
       "      <td>0</td>\n",
       "      <td>0</td>\n",
       "      <td>0</td>\n",
       "      <td>0</td>\n",
       "      <td>0</td>\n",
       "    </tr>\n",
       "    <tr>\n",
       "      <th>58578</th>\n",
       "      <td>MT-CYB</td>\n",
       "      <td>0</td>\n",
       "      <td>0</td>\n",
       "      <td>0</td>\n",
       "      <td>0</td>\n",
       "      <td>0</td>\n",
       "      <td>0</td>\n",
       "      <td>0</td>\n",
       "      <td>0</td>\n",
       "      <td>0</td>\n",
       "      <td>...</td>\n",
       "      <td>0</td>\n",
       "      <td>0</td>\n",
       "      <td>0</td>\n",
       "      <td>0</td>\n",
       "      <td>0</td>\n",
       "      <td>0</td>\n",
       "      <td>0</td>\n",
       "      <td>0</td>\n",
       "      <td>0</td>\n",
       "      <td>0</td>\n",
       "    </tr>\n",
       "    <tr>\n",
       "      <th>58579</th>\n",
       "      <td>MT-TT</td>\n",
       "      <td>0</td>\n",
       "      <td>0</td>\n",
       "      <td>0</td>\n",
       "      <td>0</td>\n",
       "      <td>0</td>\n",
       "      <td>0</td>\n",
       "      <td>0</td>\n",
       "      <td>0</td>\n",
       "      <td>0</td>\n",
       "      <td>...</td>\n",
       "      <td>0</td>\n",
       "      <td>0</td>\n",
       "      <td>0</td>\n",
       "      <td>0</td>\n",
       "      <td>0</td>\n",
       "      <td>0</td>\n",
       "      <td>0</td>\n",
       "      <td>0</td>\n",
       "      <td>0</td>\n",
       "      <td>0</td>\n",
       "    </tr>\n",
       "    <tr>\n",
       "      <th>58580</th>\n",
       "      <td>MT-TP</td>\n",
       "      <td>0</td>\n",
       "      <td>0</td>\n",
       "      <td>0</td>\n",
       "      <td>0</td>\n",
       "      <td>0</td>\n",
       "      <td>0</td>\n",
       "      <td>0</td>\n",
       "      <td>0</td>\n",
       "      <td>0</td>\n",
       "      <td>...</td>\n",
       "      <td>0</td>\n",
       "      <td>0</td>\n",
       "      <td>0</td>\n",
       "      <td>0</td>\n",
       "      <td>0</td>\n",
       "      <td>0</td>\n",
       "      <td>0</td>\n",
       "      <td>0</td>\n",
       "      <td>0</td>\n",
       "      <td>0</td>\n",
       "    </tr>\n",
       "  </tbody>\n",
       "</table>\n",
       "<p>58581 rows × 21 columns</p>\n",
       "</div>"
      ],
      "text/plain": [
       "               gene  day0_rep1  day0_rep2  day0_rep3  day1_rep1  day1_rep2  \\\n",
       "0           DDX11L1          0          0          0          1          0   \n",
       "1            WASH7P       1113        897       1498       2130       2047   \n",
       "2         MIR6859-1          8          9         18         28         15   \n",
       "3      RP11-34P13.3          0          0          0          3          4   \n",
       "4         MIR1302-2          0          0          0          0          0   \n",
       "...             ...        ...        ...        ...        ...        ...   \n",
       "58576        MT-ND6          0          0          0          0          0   \n",
       "58577         MT-TE          0          0          0          0          0   \n",
       "58578        MT-CYB          0          0          0          0          0   \n",
       "58579         MT-TT          0          0          0          0          0   \n",
       "58580         MT-TP          0          0          0          0          0   \n",
       "\n",
       "       day1_rep3  day2_rep1  day2_rep2  day2_rep3  ...  day4_rep2  day4_rep3  \\\n",
       "0              0          0          0          0  ...          0          0   \n",
       "1           1876       1366       1359       1439  ...       2635       2242   \n",
       "2             24         13         15         14  ...         20         12   \n",
       "3              4          3          1          0  ...          4          0   \n",
       "4              0          0          0          0  ...          0          0   \n",
       "...          ...        ...        ...        ...  ...        ...        ...   \n",
       "58576          0          0          0          0  ...          0          0   \n",
       "58577          0          0          0          0  ...          0          0   \n",
       "58578          0          0          0          0  ...          0          0   \n",
       "58579          0          0          0          0  ...          0          0   \n",
       "58580          0          0          0          0  ...          0          0   \n",
       "\n",
       "       day5_rep1  day5_rep2  day11_rep1  day11_rep2  day11_rep3  day18_rep1  \\\n",
       "0              1          0           0           0           2           0   \n",
       "1           4500       2303        2714        3056        3332        3393   \n",
       "2             47         16          25          30          40          24   \n",
       "3              0          0           1           5           0           2   \n",
       "4              0          0           0           0           0           0   \n",
       "...          ...        ...         ...         ...         ...         ...   \n",
       "58576          0          0           0           0           0           0   \n",
       "58577          0          0           0           0           0           0   \n",
       "58578          0          0           0           0           0           0   \n",
       "58579          0          0           0           0           0           0   \n",
       "58580          0          0           0           0           0           0   \n",
       "\n",
       "       day18_rep2  day18_rep3  \n",
       "0               2           0  \n",
       "1            2846        2585  \n",
       "2              29          31  \n",
       "3               0           0  \n",
       "4               0           0  \n",
       "...           ...         ...  \n",
       "58576           0           0  \n",
       "58577           0           0  \n",
       "58578           0           0  \n",
       "58579           0           0  \n",
       "58580           0           0  \n",
       "\n",
       "[58581 rows x 21 columns]"
      ]
     },
     "execution_count": 30,
     "metadata": {},
     "output_type": "execute_result"
    }
   ],
   "source": [
    "B"
   ]
  },
  {
   "cell_type": "code",
   "execution_count": 35,
   "id": "4a7f1b76-3dfb-41db-8488-bf17be2d2c69",
   "metadata": {},
   "outputs": [
    {
     "name": "stdout",
     "output_type": "stream",
     "text": [
      "(58581, 21)\n"
     ]
    }
   ],
   "source": [
    "print(B.shape)"
   ]
  },
  {
   "cell_type": "code",
   "execution_count": 47,
   "id": "50c14261-7e82-4483-8ad4-0db7229b63c1",
   "metadata": {},
   "outputs": [
    {
     "data": {
      "text/plain": [
       "gene          object\n",
       "day0_rep1      int64\n",
       "day0_rep2      int64\n",
       "day0_rep3      int64\n",
       "day1_rep1      int64\n",
       "day1_rep2      int64\n",
       "day1_rep3      int64\n",
       "day2_rep1      int64\n",
       "day2_rep2      int64\n",
       "day2_rep3      int64\n",
       "day4_rep1      int64\n",
       "day4_rep2      int64\n",
       "day4_rep3      int64\n",
       "day5_rep1      int64\n",
       "day5_rep2      int64\n",
       "day11_rep1     int64\n",
       "day11_rep2     int64\n",
       "day11_rep3     int64\n",
       "day18_rep1     int64\n",
       "day18_rep2     int64\n",
       "day18_rep3     int64\n",
       "dtype: object"
      ]
     },
     "execution_count": 47,
     "metadata": {},
     "output_type": "execute_result"
    }
   ],
   "source": [
    "B.dtypes"
   ]
  },
  {
   "cell_type": "code",
   "execution_count": 37,
   "id": "0c3673b7-a6df-41a5-a3db-b23b0825a7b2",
   "metadata": {},
   "outputs": [
    {
     "data": {
      "text/plain": [
       "(58581, 21)"
      ]
     },
     "execution_count": 37,
     "metadata": {},
     "output_type": "execute_result"
    }
   ],
   "source": [
    "B1 = B.to_numpy()\n",
    "B1.shape\n",
    "#B1 = B[:, 1:]\n",
    "#B1.shape\n",
    "#BB = B[:, 1:].to_numpy()\n",
    "#BB.shape"
   ]
  },
  {
   "cell_type": "code",
   "execution_count": 38,
   "id": "0ae3382b-ebcd-4442-a45d-f8281412ee4e",
   "metadata": {},
   "outputs": [
    {
     "data": {
      "text/plain": [
       "(58581, 20)"
      ]
     },
     "execution_count": 38,
     "metadata": {},
     "output_type": "execute_result"
    }
   ],
   "source": [
    "B2 = B1[:, 1:]\n",
    "B2.shape"
   ]
  },
  {
   "cell_type": "code",
   "execution_count": 39,
   "id": "22e5afa9-3e3b-44eb-9749-a99d06351aa8",
   "metadata": {},
   "outputs": [
    {
     "data": {
      "text/plain": [
       "array([[0, 0, 0, ..., 0, 2, 0],\n",
       "       [1113, 897, 1498, ..., 3393, 2846, 2585],\n",
       "       [8, 9, 18, ..., 24, 29, 31],\n",
       "       ...,\n",
       "       [0, 0, 0, ..., 0, 0, 0],\n",
       "       [0, 0, 0, ..., 0, 0, 0],\n",
       "       [0, 0, 0, ..., 0, 0, 0]], dtype=object)"
      ]
     },
     "execution_count": 39,
     "metadata": {},
     "output_type": "execute_result"
    }
   ],
   "source": [
    "B2"
   ]
  },
  {
   "cell_type": "code",
   "execution_count": null,
   "id": "91888471-cfb0-450b-8c1b-1b26ee60ef2b",
   "metadata": {},
   "outputs": [],
   "source": []
  },
  {
   "cell_type": "code",
   "execution_count": 50,
   "id": "d93ae40f-30b5-4972-9c24-82295615d1f8",
   "metadata": {},
   "outputs": [
    {
     "name": "stdout",
     "output_type": "stream",
     "text": [
      "19383 9 1033436\n",
      "19383 12 1383106\n"
     ]
    }
   ],
   "source": [
    "max_value = 1e6\n",
    "\n",
    "for i in range(B2.shape[0]):\n",
    "    for j in range(B2.shape[1]):\n",
    "        if B2[i,j] > max_value:\n",
    "            print(i,j, B2[i,j])"
   ]
  },
  {
   "cell_type": "code",
   "execution_count": 48,
   "id": "f277aaf5-3fc2-4e83-a413-46d30ee7e28e",
   "metadata": {},
   "outputs": [
    {
     "data": {
      "text/plain": [
       "array([[0.000e+00, 0.000e+00, 0.000e+00, ..., 0.000e+00, 2.000e+00,\n",
       "        0.000e+00],\n",
       "       [1.113e+03, 8.970e+02, 1.498e+03, ..., 3.393e+03, 2.846e+03,\n",
       "        2.585e+03],\n",
       "       [8.000e+00, 9.000e+00, 1.800e+01, ..., 2.400e+01, 2.900e+01,\n",
       "        3.100e+01],\n",
       "       ...,\n",
       "       [0.000e+00, 0.000e+00, 0.000e+00, ..., 0.000e+00, 0.000e+00,\n",
       "        0.000e+00],\n",
       "       [0.000e+00, 0.000e+00, 0.000e+00, ..., 0.000e+00, 0.000e+00,\n",
       "        0.000e+00],\n",
       "       [0.000e+00, 0.000e+00, 0.000e+00, ..., 0.000e+00, 0.000e+00,\n",
       "        0.000e+00]])"
      ]
     },
     "execution_count": 48,
     "metadata": {},
     "output_type": "execute_result"
    }
   ],
   "source": [
    "B3 = np.array(B2,dtype='float64')\n",
    "B3"
   ]
  },
  {
   "cell_type": "code",
   "execution_count": 51,
   "id": "84ed0073-bce2-4932-9748-3ead8b618123",
   "metadata": {},
   "outputs": [
    {
     "name": "stdout",
     "output_type": "stream",
     "text": [
      "(58581, 20)\n",
      "20\n"
     ]
    }
   ],
   "source": [
    "print(B3.shape)\n",
    "r = np.linalg.matrix_rank(B3)\n",
    "print(r)\n"
   ]
  },
  {
   "cell_type": "code",
   "execution_count": 61,
   "id": "ebd00850-b31c-4585-9665-c0be8f369527",
   "metadata": {},
   "outputs": [],
   "source": [
    "def computePCA(A):\n",
    "    n = A.shape[1]\n",
    "    m = A.shape[0]\n",
    "    r = np.linalg.matrix_rank(A)\n",
    "    \n",
    "    Y = 1/np.sqrt(n-1)* A.T\n",
    "    U,s,Vt = svd(Y,full_matrices=False)\n",
    "    #reconst_matrix = np.dot(U[:,:k],np.dot(np.diag(s[:k]),V[:k,:]))\n",
    "    print(U.shape, s.shape, Vt.shape)\n",
    "    eigvals = s**2\n",
    "    #print(s, eigvals)\n",
    "    propV = np.zeros(s.shape)\n",
    "    totalV = np.sum(eigvals)\n",
    "    for i in range(s.shape[0]):\n",
    "        propV[i] = eigvals[i]/totalV\n",
    "    \n",
    "    PCA = np.matmul(Vt, A)\n",
    "    \n",
    "    for i in range(len(propV)):\n",
    "        print('The principal component with variance proprotion {:.5f}'.format(propV[i])+' is given by the direction:', Vt[i, :])  \n",
    "    \n",
    "    print('--------------')\n",
    "    print('The expression of the original variables in terms of the principal components is given as follows:')\n",
    "\n",
    "    for i in range(len(propV)):\n",
    "        print(PCA[:, i])\n",
    "        \n",
    "    return PCA, propV, Vt.T"
   ]
  },
  {
   "cell_type": "code",
   "execution_count": 82,
   "id": "a4c3b246-10e5-480b-aac3-63ce91d62ba2",
   "metadata": {
    "tags": []
   },
   "outputs": [
    {
     "name": "stdout",
     "output_type": "stream",
     "text": [
      "(58581, 20) (20,) (20, 20)\n",
      "The principal component with variance proprotion 0.95498 is given by the direction: [-0.10960142 -0.12904148 -0.14993001 -0.2122814  -0.20566561 -0.19509707\n",
      " -0.11722864 -0.11735357 -0.11971508 -0.25704625 -0.24754997 -0.19562963\n",
      " -0.40016103 -0.19719391 -0.25611303 -0.28997471 -0.30006448 -0.26405426\n",
      " -0.23861109 -0.22487615]\n",
      "The principal component with variance proprotion 0.02526 is given by the direction: [ 0.13348446  0.15019216  0.17963321 -0.18823559 -0.17915986 -0.17185346\n",
      "  0.10956603  0.1012721   0.11068994  0.16702697  0.15999064  0.13456104\n",
      "  0.16223321  0.05830046 -0.3954598  -0.399262   -0.44793611  0.25985462\n",
      "  0.24360076  0.22615756]\n",
      "The principal component with variance proprotion 0.01172 is given by the direction: [-0.36185195 -0.37989568 -0.50473537 -0.01282427 -0.01745654  0.00375061\n",
      "  0.05546947  0.0582714   0.05905339  0.37254464  0.35418892  0.27347292\n",
      "  0.17915499  0.0403721  -0.10679186 -0.00370742 -0.10781157 -0.1596982\n",
      " -0.14239734 -0.13403889]\n",
      "The principal component with variance proprotion 0.00423 is given by the direction: [-0.07947141 -0.19846312 -0.1127008  -0.25818915 -0.22258543 -0.24447739\n",
      "  0.13230443  0.12577771  0.16692481 -0.05244377 -0.06556945 -0.07569426\n",
      " -0.2505485  -0.08416949 -0.11508069  0.67878634 -0.05507394  0.22479543\n",
      "  0.23666608  0.1955043 ]\n",
      "The principal component with variance proprotion 0.00180 is given by the direction: [ 0.19017942  0.40725066  0.2389517  -0.15217131 -0.1794841  -0.12704711\n",
      " -0.05199004 -0.0847518  -0.09389154  0.150738    0.14871817  0.15372334\n",
      "  0.20626809 -0.00585379 -0.13745289  0.45411902 -0.14530724 -0.34179274\n",
      " -0.32042097 -0.27183369]\n",
      "The principal component with variance proprotion 0.00087 is given by the direction: [ 9.08906939e-02  4.98113443e-02  1.16412872e-01  3.35087762e-01\n",
      "  3.91942351e-01  3.43430632e-01 -1.95222111e-03  8.95928760e-02\n",
      "  6.76681606e-02  1.88861491e-01  1.66771433e-01  7.67123249e-02\n",
      " -5.28388359e-01 -2.23623320e-01 -2.99025089e-01  1.47348064e-01\n",
      " -2.57547727e-01 -2.38255887e-04  1.38590948e-02 -5.50513110e-02]\n",
      "The principal component with variance proprotion 0.00057 is given by the direction: [-0.06438497 -0.0987101  -0.11314241  0.20908211  0.2265015   0.21458928\n",
      "  0.00463802 -0.01911061  0.01466725 -0.31056588 -0.30561324 -0.22860296\n",
      "  0.47729991  0.2537711  -0.35399132  0.2237044  -0.34758351 -0.03334638\n",
      "  0.00516739  0.00310028]\n",
      "The principal component with variance proprotion 0.00028 is given by the direction: [ 0.31278877 -0.49092001  0.36584352 -0.16172069  0.11390643 -0.05282849\n",
      "  0.19660438  0.22342238  0.3960457   0.05429179 -0.03552888 -0.07824969\n",
      " -0.04003725  0.28883424 -0.03433491 -0.07430784  0.11521168 -0.28178618\n",
      " -0.0699752  -0.20085253]\n",
      "The principal component with variance proprotion 0.00015 is given by the direction: [-0.11981894  0.41931024 -0.21714395  0.06570314 -0.0838464   0.08627235\n",
      "  0.54518284  0.36479541  0.41186436 -0.1066955  -0.11432288 -0.08544146\n",
      "  0.03538675 -0.21613429  0.1046987  -0.09267135  0.00245192 -0.12537568\n",
      " -0.1690746  -0.01916501]\n",
      "The principal component with variance proprotion 0.00005 is given by the direction: [ 0.05881184  0.17275362 -0.20518305 -0.5317964   0.24518645  0.27893384\n",
      " -0.26894474 -0.02803913  0.19026802 -0.05496538 -0.01900118  0.07131991\n",
      "  0.0833973  -0.1838677  -0.21647611 -0.03483754  0.25699509 -0.30181331\n",
      "  0.3720523   0.04101897]\n",
      "The principal component with variance proprotion 0.00002 is given by the direction: [-0.17385888  0.3359079  -0.15966376 -0.27461767  0.33488328 -0.12973713\n",
      " -0.11033875  0.13509731  0.00944199  0.05753333  0.10694111 -0.19875921\n",
      " -0.27415406  0.63779062  0.07644709 -0.00098766 -0.06798232  0.15071856\n",
      " -0.16039885 -0.03792554]\n",
      "The principal component with variance proprotion 0.00002 is given by the direction: [ 0.00845919 -0.05864543  0.04233304 -0.25386521 -0.06636553  0.30025825\n",
      " -0.06712502  0.19919216 -0.04131141  0.0331032  -0.15630687  0.07572213\n",
      "  0.10123627 -0.13734366 -0.15379542 -0.00861223  0.15728283  0.62172898\n",
      " -0.25748    -0.47761771]\n",
      "The principal component with variance proprotion 0.00002 is given by the direction: [-0.0987041   0.12461267 -0.02796584  0.2564766  -0.05991254 -0.2493668\n",
      " -0.08285576  0.07374183  0.0777718   0.00770471  0.02561533 -0.08520784\n",
      "  0.01574398  0.0383922   0.06203086 -0.00983074 -0.03774058 -0.01149817\n",
      "  0.60113367 -0.66894074]\n",
      "The principal component with variance proprotion 0.00001 is given by the direction: [ 0.13340072 -0.0932974  -0.02801622 -0.24849544 -0.02141328  0.314921\n",
      " -0.04334691  0.01510922  0.02599789 -0.11039022 -0.0281958   0.1961304\n",
      " -0.0127615  -0.00736904  0.62370312  0.04696229 -0.59005192 -0.00989009\n",
      "  0.10556513 -0.07917473]\n",
      "The principal component with variance proprotion 0.00001 is given by the direction: [-0.02038814  0.07908914 -0.05122978  0.16497071 -0.55579504  0.3989753\n",
      " -0.06844684  0.0163666   0.06163219 -0.09997698 -0.12111189  0.32840232\n",
      " -0.25104572  0.47558439 -0.15851217 -0.00441824  0.13540227 -0.11178727\n",
      "  0.08820297  0.03430786]\n",
      "The principal component with variance proprotion 0.00001 is given by the direction: [ 1.57532990e-01 -1.36639790e-02 -9.23231236e-02  2.99562835e-02\n",
      " -2.83124559e-01  2.18178294e-01 -2.34615746e-01  3.69291657e-01\n",
      " -1.82534372e-01  4.71968395e-01 -5.20816517e-02 -5.87887265e-01\n",
      "  5.71207675e-02 -3.91651344e-02  6.17282790e-02  3.76449589e-04\n",
      " -4.62640120e-02 -1.27473522e-01  4.75995492e-02  1.12844450e-01]\n",
      "The principal component with variance proprotion 0.00001 is given by the direction: [ 0.01992446 -0.06273281  0.04510555  0.06137929 -0.0412229  -0.04775835\n",
      " -0.25005084  0.56837154 -0.14936684 -0.55541022  0.50039008  0.03896025\n",
      "  0.05108877 -0.06418455 -0.03182897  0.00188568  0.03132999 -0.05132834\n",
      " -0.05499824  0.05681054]\n",
      "The principal component with variance proprotion 0.00001 is given by the direction: [ 0.33740292  0.01855051 -0.2737122   0.11743707  0.19070035 -0.32555058\n",
      " -0.11992235  0.39117119 -0.18980338  0.12247716 -0.48668824  0.4390015\n",
      " -0.01389428  0.00929206  0.00146309 -0.00166361  0.00385292 -0.04694076\n",
      " -0.01696994  0.06288838]\n",
      "The principal component with variance proprotion 0.00000 is given by the direction: [-0.64132795 -0.01225957  0.47853893 -0.13995962  0.08914227  0.06048113\n",
      "  0.08819554  0.28405519 -0.29204804  0.1171905  -0.25139114  0.14525031\n",
      "  0.014071   -0.02513941  0.01497851  0.00554821 -0.01840277 -0.18887224\n",
      "  0.12410097  0.06380796]\n",
      "The principal component with variance proprotion 0.00000 is given by the direction: [ 0.24511551 -0.03097147 -0.15905176 -0.16610778  0.05308158  0.13189934\n",
      "  0.61065131 -0.02035952 -0.61359878 -0.07536083  0.14211752 -0.05528664\n",
      " -0.06485652  0.10436652 -0.09067061 -0.00183975  0.07948718 -0.06177901\n",
      "  0.1983754  -0.11957262]\n",
      "--------------\n",
      "The expression of the original variables in terms of the principal components is given as follows:\n",
      "[-1.68979357e+00 -4.34673084e-01 -3.34087105e-01 -1.45553381e-01\n",
      " -8.77359646e-01 -6.80677861e-01  1.54977541e-03 -1.11284977e-01\n",
      " -2.32155468e-01  8.09695675e-01 -1.00553407e+00 -3.53023270e-01\n",
      "  1.39900676e+00 -1.23023051e+00  3.61135454e-01  8.97481253e-02\n",
      "  6.51315546e-02  7.73087506e-02  8.55077780e-02  3.24760867e-01]\n",
      "[-1.10363617e+04  3.63835146e+02  2.77155577e+02  3.93731270e+02\n",
      " -4.63159372e+02 -3.49114431e+02 -4.58881108e+01  1.53121420e+02\n",
      " -2.12926681e+02 -1.23820107e+02 -5.15505957e+01  2.43946073e+02\n",
      "  2.84763444e+01 -6.36590730e+01  6.14889027e+00 -4.70645537e+01\n",
      " -1.07748622e+02  9.60411681e+01 -3.52172264e+01 -3.21472384e+01]\n",
      "[-104.11520155   -5.36161312   -7.32666645    2.47882512   -8.49132443\n",
      "   -6.76129939    7.0134447     0.49455291    4.49984157    1.77529531\n",
      "  -11.35124502   -3.34948105   -1.62252896   -6.895941      3.69119755\n",
      "    4.2739358     5.95587683   -4.61263389    3.25942464   -1.81155558]\n",
      "[-6.44732192 -2.43683398  1.84850284  1.24114884  0.42254468  5.51253886\n",
      "  1.24066612 -0.4305932   0.92706523 -1.51400725  0.71658961  0.65937265\n",
      " -0.53476143  0.81878382 -1.40992018  0.03980188  0.41211453 -1.95822074\n",
      " -0.37895198  2.24751578]\n",
      "[0. 0. 0. 0. 0. 0. 0. 0. 0. 0. 0. 0. 0. 0. 0. 0. 0. 0. 0. 0.]\n",
      "[-0.60012896 -0.89587223 -0.21562315 -0.11014789 -0.29061448 -0.51509545\n",
      " -0.69516703  0.23042336  0.00490384  0.51399019 -0.13596463  0.31456566\n",
      " -0.07548117 -1.18010384  0.27080453 -0.09252802  0.06265998  0.00770585\n",
      " -0.03680554  0.15897437]\n",
      "[0. 0. 0. 0. 0. 0. 0. 0. 0. 0. 0. 0. 0. 0. 0. 0. 0. 0. 0. 0.]\n",
      "[0. 0. 0. 0. 0. 0. 0. 0. 0. 0. 0. 0. 0. 0. 0. 0. 0. 0. 0. 0.]\n",
      "[0. 0. 0. 0. 0. 0. 0. 0. 0. 0. 0. 0. 0. 0. 0. 0. 0. 0. 0. 0.]\n",
      "[-62.28715228  -7.34179013  -1.4287326   10.63577739 -11.77593606\n",
      "  -1.958347    -2.24468253  -0.42832677  -3.09141152   5.76121251\n",
      "  -0.51506412   1.82860142  -1.19157108  -4.67467144  -3.34102411\n",
      "  -3.71535331   4.92950498  -4.25693072  -0.48077151   0.51875707]\n",
      "[0. 0. 0. 0. 0. 0. 0. 0. 0. 0. 0. 0. 0. 0. 0. 0. 0. 0. 0. 0.]\n",
      "[-987.63095863 -154.23007332   39.3495496    23.4546014   -74.93219217\n",
      "  -13.85808858  -38.20418452  -33.22796762  -14.83152016  -26.79487968\n",
      "  -26.47058958  -21.86523326   20.32395495  -15.20914037   27.77634782\n",
      "  -19.99035305    8.43946711   -2.74216268  -15.25516697    4.05289704]\n",
      "[-1.25006428e+02  1.19101489e+00  6.16871361e+00 -1.93344383e-02\n",
      " -1.63729306e+01  6.49986480e+00 -2.49786344e+00  1.03598205e+01\n",
      " -2.74377536e+00  1.11422632e+01  3.28377816e+00  7.91551512e+00\n",
      " -2.07818066e+00  5.34190512e+00  6.00921983e+00 -9.69053939e-01\n",
      "  1.53648232e+01 -5.04333615e+00 -2.38933409e+00 -3.12909814e+00]\n",
      "[-89.41423368   2.84073904   7.98929987   9.71491507  -9.57885786\n",
      "   3.43813116   1.40817804   2.61632075   0.64661029 -11.167023\n",
      "   5.29426352  -1.49868789   9.01510127   2.32050974   0.1865272\n",
      "   0.80941598   1.88884546  -0.12170686  -0.82173207  -4.62739787]\n",
      "[-5.54243067  2.40761761  0.59944263 -0.49115887 -0.81568493 -2.27342137\n",
      "  2.24502137 -0.15724775  0.73079134  0.33050869 -1.9684727  -0.07257368\n",
      " -0.05864688 -0.96941024 -2.05698777  0.03488714 -0.42557728 -0.22987623\n",
      " -0.87790629  0.53094547]\n",
      "[-646.46108728   -6.02801243   36.09016694  -52.10912246    3.94784122\n",
      "  -64.16715359   58.89017063  -13.36655416   -5.44867276  -39.93310192\n",
      "   20.57309487   -2.54522942    4.83847657   28.07200399    8.88514139\n",
      "   21.44089525  -12.15478654   -5.2156086     4.28528291    6.13650914]\n",
      "[0. 0. 0. 0. 0. 0. 0. 0. 0. 0. 0. 0. 0. 0. 0. 0. 0. 0. 0. 0.]\n",
      "[-5.24287531 -0.86233482 -0.85298273 -0.36500862 -1.68808462  2.47828094\n",
      "  0.03132909 -1.49117668  2.91152967  0.35641914 -1.12187812  1.46821335\n",
      " -1.93283252 -0.98398574  2.74326288  1.227054   -2.34843916 -1.89124297\n",
      "  0.46992384  2.76141504]\n",
      "[-2.45401395 -0.10574112 -0.15889632 -0.82898491 -1.34156588  0.5341221\n",
      "  0.6674416  -1.56392951  0.0475402  -2.75155215 -1.23142529 -0.22645761\n",
      "  0.32653634 -0.28586464  0.3894606  -0.49131568  0.25789108  0.86532544\n",
      " -0.69947518 -1.11837553]\n",
      "[-2152.71417018   -27.33696688   -22.30964049    38.51081337\n",
      "  -141.15796613   -18.40964431    54.95546456    27.65781768\n",
      "    -9.86951949    28.50701993   -71.59209833     4.04452296\n",
      "    46.74119084    29.31808947   -54.5547506     27.56128741\n",
      "   -36.41305783    30.56962261    30.43283991   -16.56789826]\n"
     ]
    }
   ],
   "source": [
    "VV, lamb, PCA = computePCA(B3.T)"
   ]
  },
  {
   "cell_type": "code",
   "execution_count": 83,
   "id": "5fefdda0-ca37-4480-b641-9e5faa9ec862",
   "metadata": {
    "tags": []
   },
   "outputs": [
    {
     "data": {
      "text/plain": [
       "(20, 20)"
      ]
     },
     "execution_count": 83,
     "metadata": {},
     "output_type": "execute_result"
    }
   ],
   "source": [
    "PCA.shape"
   ]
  },
  {
   "cell_type": "code",
   "execution_count": null,
   "id": "f9fb9f63-4d16-4561-85a9-a19960d46287",
   "metadata": {},
   "outputs": [],
   "source": [
    "## PCA=V has 20 columns, each column being a 20 array, which represents the 20 PCA vectors with their coefficients \n"
   ]
  },
  {
   "cell_type": "code",
   "execution_count": 18,
   "id": "8ead72c2-2dfa-4d22-b69c-c6795072dcf2",
   "metadata": {},
   "outputs": [],
   "source": [
    "def computePCA_corr(A, corr = False):\n",
    "    n = A.shape[1]\n",
    "    m = A.shape[0]\n",
    "    r = np.linalg.matrix_rank(A)\n",
    "    \n",
    "    if corr:\n",
    "        A_stand = np.zeros(A.shape)\n",
    "        ## Compute the correlation matrix:\n",
    "        for i in range(m):\n",
    "            A_stand[i, :] = (A[i,:] - np.repeat(np.mean(A[i, :]), len(A[i, :])) ) /np.std(A[i,:])\n",
    "\n",
    "        #print(A_stand)\n",
    "\n",
    "        ## now we compute the covariance matrix of the standarized matrix:\n",
    "        Y = 1/np.sqrt(n)* A_stand.T\n",
    "\n",
    "        ## checking that the matrix corresponds to the correlation matrix:\n",
    "        #print(np.corrcoef(A))\n",
    "        #print(np.matmul(Y.T, Y))\n",
    "        print(np.linalg.norm(np.corrcoef(A) - np.matmul(Y.T, Y)))\n",
    "    else: \n",
    "        Y = 1/np.sqrt(n-1)* A.T\n",
    "    \n",
    "    U,s,V = svd(Y,full_matrices=False)\n",
    "    #reconst_matrix = np.dot(U[:,:k],np.dot(np.diag(s[:k]),V[:k,:]))\n",
    "    print(U.shape, s.shape, V.shape)\n",
    "    eigvals = s**2\n",
    "    print(s, eigvals)\n",
    "    propV = np.zeros(s.shape)\n",
    "    totalV = np.sum(eigvals)\n",
    "    for i in range(s.shape[0]):\n",
    "        propV[i] = eigvals[i]/totalV\n",
    "    \n",
    "    print(V.shape, A.shape)\n",
    "    PCA = np.matmul(V, A)\n",
    "    print(PCA.shape)\n",
    "    \n",
    "    for i in range(len(propV)):\n",
    "        print('The principal component with variance proprotion {:.3f}'.format(propV[i])+' is given by the direction:', V[:, i])  \n",
    "    \n",
    "    print('--------------')\n",
    "    print('The expression of the original variables in terms of the principal components is given as follows:')\n",
    "\n",
    "    print(PCA.T)\n",
    "    #for i in range(PCA.shape[]):\n",
    "    #    print(PCA[:, i])\n",
    "        \n",
    "    return PCA, propV, V\n",
    "\n"
   ]
  },
  {
   "cell_type": "code",
   "execution_count": 86,
   "id": "66b0b6ac-9077-4d78-aef5-6dff574b4cc8",
   "metadata": {},
   "outputs": [
    {
     "name": "stdout",
     "output_type": "stream",
     "text": [
      "(58581, 20) (20,) (20, 20)\n",
      "[28396.65892314  4618.35155178  3145.8100998   1890.67504946\n",
      "  1231.41511972   855.14516358   693.93117112   481.9903416\n",
      "   361.44105815   200.542587     125.50929783   116.32612594\n",
      "   114.26898013   102.40105259    92.86247403    77.4243889\n",
      "    72.60552373    65.72236249    59.84648305    55.3080953 ] [8.06370238e+08 2.13291711e+07 9.89612118e+06 3.57465214e+06\n",
      " 1.51638320e+06 7.31273251e+05 4.81540470e+05 2.32314689e+05\n",
      " 1.30639639e+05 4.02173292e+04 1.57525838e+04 1.35317676e+04\n",
      " 1.30573998e+04 1.04859756e+04 8.62343908e+03 5.99453600e+03\n",
      " 5.27156208e+03 4.31942893e+03 3.58160153e+03 3.05898541e+03]\n",
      "(20, 20) (20, 58581)\n",
      "(20, 58581)\n",
      "The principal component with variance proprotion 0.955 is given by the direction: [-0.10960142  0.13348446 -0.36185195 -0.07947141  0.19017942  0.09089069\n",
      " -0.06438497  0.31278877 -0.11981894  0.05881184 -0.17385888  0.00845919\n",
      " -0.0987041   0.13340072 -0.02038814  0.15753299  0.01992446  0.33740292\n",
      " -0.64132795  0.24511551]\n",
      "The principal component with variance proprotion 0.025 is given by the direction: [-0.12904148  0.15019216 -0.37989568 -0.19846312  0.40725066  0.04981134\n",
      " -0.0987101  -0.49092001  0.41931024  0.17275362  0.3359079  -0.05864543\n",
      "  0.12461267 -0.0932974   0.07908914 -0.01366398 -0.06273281  0.01855051\n",
      " -0.01225957 -0.03097147]\n",
      "The principal component with variance proprotion 0.012 is given by the direction: [-0.14993001  0.17963321 -0.50473537 -0.1127008   0.2389517   0.11641287\n",
      " -0.11314241  0.36584352 -0.21714395 -0.20518305 -0.15966376  0.04233304\n",
      " -0.02796584 -0.02801622 -0.05122978 -0.09232312  0.04510555 -0.2737122\n",
      "  0.47853893 -0.15905176]\n",
      "The principal component with variance proprotion 0.004 is given by the direction: [-0.2122814  -0.18823559 -0.01282427 -0.25818915 -0.15217131  0.33508776\n",
      "  0.20908211 -0.16172069  0.06570314 -0.5317964  -0.27461767 -0.25386521\n",
      "  0.2564766  -0.24849544  0.16497071  0.02995628  0.06137929  0.11743707\n",
      " -0.13995962 -0.16610778]\n",
      "The principal component with variance proprotion 0.002 is given by the direction: [-0.20566561 -0.17915986 -0.01745654 -0.22258543 -0.1794841   0.39194235\n",
      "  0.2265015   0.11390643 -0.0838464   0.24518645  0.33488328 -0.06636553\n",
      " -0.05991254 -0.02141328 -0.55579504 -0.28312456 -0.0412229   0.19070035\n",
      "  0.08914227  0.05308158]\n",
      "The principal component with variance proprotion 0.001 is given by the direction: [-0.19509707 -0.17185346  0.00375061 -0.24447739 -0.12704711  0.34343063\n",
      "  0.21458928 -0.05282849  0.08627235  0.27893384 -0.12973713  0.30025825\n",
      " -0.2493668   0.314921    0.3989753   0.21817829 -0.04775835 -0.32555058\n",
      "  0.06048113  0.13189934]\n",
      "The principal component with variance proprotion 0.001 is given by the direction: [-0.11722864  0.10956603  0.05546947  0.13230443 -0.05199004 -0.00195222\n",
      "  0.00463802  0.19660438  0.54518284 -0.26894474 -0.11033875 -0.06712502\n",
      " -0.08285576 -0.04334691 -0.06844684 -0.23461575 -0.25005084 -0.11992235\n",
      "  0.08819554  0.61065131]\n",
      "The principal component with variance proprotion 0.000 is given by the direction: [-0.11735357  0.1012721   0.0582714   0.12577771 -0.0847518   0.08959288\n",
      " -0.01911061  0.22342238  0.36479541 -0.02803913  0.13509731  0.19919216\n",
      "  0.07374183  0.01510922  0.0163666   0.36929166  0.56837154  0.39117119\n",
      "  0.28405519 -0.02035952]\n",
      "The principal component with variance proprotion 0.000 is given by the direction: [-0.11971508  0.11068994  0.05905339  0.16692481 -0.09389154  0.06766816\n",
      "  0.01466725  0.3960457   0.41186436  0.19026802  0.00944199 -0.04131141\n",
      "  0.0777718   0.02599789  0.06163219 -0.18253437 -0.14936684 -0.18980338\n",
      " -0.29204804 -0.61359878]\n",
      "The principal component with variance proprotion 0.000 is given by the direction: [-0.25704625  0.16702697  0.37254464 -0.05244377  0.150738    0.18886149\n",
      " -0.31056588  0.05429179 -0.1066955  -0.05496538  0.05753333  0.0331032\n",
      "  0.00770471 -0.11039022 -0.09997698  0.47196839 -0.55541022  0.12247716\n",
      "  0.1171905  -0.07536083]\n",
      "The principal component with variance proprotion 0.000 is given by the direction: [-0.24754997  0.15999064  0.35418892 -0.06556945  0.14871817  0.16677143\n",
      " -0.30561324 -0.03552888 -0.11432288 -0.01900118  0.10694111 -0.15630687\n",
      "  0.02561533 -0.0281958  -0.12111189 -0.05208165  0.50039008 -0.48668824\n",
      " -0.25139114  0.14211752]\n",
      "The principal component with variance proprotion 0.000 is given by the direction: [-0.19562963  0.13456104  0.27347292 -0.07569426  0.15372334  0.07671232\n",
      " -0.22860296 -0.07824969 -0.08544146  0.07131991 -0.19875921  0.07572213\n",
      " -0.08520784  0.1961304   0.32840232 -0.58788727  0.03896025  0.4390015\n",
      "  0.14525031 -0.05528664]\n",
      "The principal component with variance proprotion 0.000 is given by the direction: [-0.40016103  0.16223321  0.17915499 -0.2505485   0.20626809 -0.52838836\n",
      "  0.47729991 -0.04003725  0.03538675  0.0833973  -0.27415406  0.10123627\n",
      "  0.01574398 -0.0127615  -0.25104572  0.05712077  0.05108877 -0.01389428\n",
      "  0.014071   -0.06485652]\n",
      "The principal component with variance proprotion 0.000 is given by the direction: [-0.19719391  0.05830046  0.0403721  -0.08416949 -0.00585379 -0.22362332\n",
      "  0.2537711   0.28883424 -0.21613429 -0.1838677   0.63779062 -0.13734366\n",
      "  0.0383922  -0.00736904  0.47558439 -0.03916513 -0.06418455  0.00929206\n",
      " -0.02513941  0.10436652]\n",
      "The principal component with variance proprotion 0.000 is given by the direction: [-0.25611303 -0.3954598  -0.10679186 -0.11508069 -0.13745289 -0.29902509\n",
      " -0.35399132 -0.03433491  0.1046987  -0.21647611  0.07644709 -0.15379542\n",
      "  0.06203086  0.62370312 -0.15851217  0.06172828 -0.03182897  0.00146309\n",
      "  0.01497851 -0.09067061]\n",
      "The principal component with variance proprotion 0.000 is given by the direction: [-2.89974711e-01 -3.99262001e-01 -3.70742309e-03  6.78786342e-01\n",
      "  4.54119015e-01  1.47348064e-01  2.23704399e-01 -7.43078400e-02\n",
      " -9.26713531e-02 -3.48375363e-02 -9.87662094e-04 -8.61222808e-03\n",
      " -9.83074249e-03  4.69622949e-02 -4.41824020e-03  3.76449589e-04\n",
      "  1.88568198e-03 -1.66361056e-03  5.54820702e-03 -1.83975067e-03]\n",
      "The principal component with variance proprotion 0.000 is given by the direction: [-0.30006448 -0.44793611 -0.10781157 -0.05507394 -0.14530724 -0.25754773\n",
      " -0.34758351  0.11521168  0.00245192  0.25699509 -0.06798232  0.15728283\n",
      " -0.03774058 -0.59005192  0.13540227 -0.04626401  0.03132999  0.00385292\n",
      " -0.01840277  0.07948718]\n",
      "The principal component with variance proprotion 0.000 is given by the direction: [-2.64054262e-01  2.59854621e-01 -1.59698195e-01  2.24795426e-01\n",
      " -3.41792741e-01 -2.38255887e-04 -3.33463798e-02 -2.81786182e-01\n",
      " -1.25375681e-01 -3.01813307e-01  1.50718556e-01  6.21728980e-01\n",
      " -1.14981733e-02 -9.89009380e-03 -1.11787267e-01 -1.27473522e-01\n",
      " -5.13283420e-02 -4.69407644e-02 -1.88872239e-01 -6.17790116e-02]\n",
      "The principal component with variance proprotion 0.000 is given by the direction: [-0.23861109  0.24360076 -0.14239734  0.23666608 -0.32042097  0.01385909\n",
      "  0.00516739 -0.0699752  -0.1690746   0.3720523  -0.16039885 -0.25748\n",
      "  0.60113367  0.10556513  0.08820297  0.04759955 -0.05499824 -0.01696994\n",
      "  0.12410097  0.1983754 ]\n",
      "The principal component with variance proprotion 0.000 is given by the direction: [-0.22487615  0.22615756 -0.13403889  0.1955043  -0.27183369 -0.05505131\n",
      "  0.00310028 -0.20085253 -0.01916501  0.04101897 -0.03792554 -0.47761771\n",
      " -0.66894074 -0.07917473  0.03430786  0.11284445  0.05681054  0.06288838\n",
      "  0.06380796 -0.11957262]\n",
      "--------------\n",
      "The expression of the original variables in terms of the principal components is given as follows:\n",
      "[[-1.68979357e+00 -4.34673084e-01 -3.34087105e-01 ...  7.73087506e-02\n",
      "   8.55077780e-02  3.24760867e-01]\n",
      " [-1.10363617e+04  3.63835146e+02  2.77155577e+02 ...  9.60411681e+01\n",
      "  -3.52172264e+01 -3.21472384e+01]\n",
      " [-1.04115202e+02 -5.36161312e+00 -7.32666645e+00 ... -4.61263389e+00\n",
      "   3.25942464e+00 -1.81155558e+00]\n",
      " ...\n",
      " [ 0.00000000e+00  0.00000000e+00  0.00000000e+00 ...  0.00000000e+00\n",
      "   0.00000000e+00  0.00000000e+00]\n",
      " [ 0.00000000e+00  0.00000000e+00  0.00000000e+00 ...  0.00000000e+00\n",
      "   0.00000000e+00  0.00000000e+00]\n",
      " [ 0.00000000e+00  0.00000000e+00  0.00000000e+00 ...  0.00000000e+00\n",
      "   0.00000000e+00  0.00000000e+00]]\n"
     ]
    }
   ],
   "source": [
    "VV, lamb, PCA = computePCA_corr(B3.T)"
   ]
  },
  {
   "cell_type": "code",
   "execution_count": 88,
   "id": "6f087f3b-fd0c-4a46-8f39-ae60f926375f",
   "metadata": {},
   "outputs": [
    {
     "name": "stdout",
     "output_type": "stream",
     "text": [
      "(20, 20)\n"
     ]
    }
   ],
   "source": [
    "print(PCA.shape)"
   ]
  },
  {
   "cell_type": "code",
   "execution_count": 95,
   "id": "21886df1-2227-44f2-823b-39fcbd40daf4",
   "metadata": {},
   "outputs": [
    {
     "name": "stdout",
     "output_type": "stream",
     "text": [
      "Index(['day0_rep1', 'day0_rep2', 'day0_rep3', 'day1_rep1', 'day1_rep2',\n",
      "       'day1_rep3', 'day2_rep1', 'day2_rep2', 'day2_rep3', 'day4_rep1',\n",
      "       'day4_rep2', 'day4_rep3', 'day5_rep1', 'day5_rep2', 'day11_rep1',\n",
      "       'day11_rep2', 'day11_rep3', 'day18_rep1', 'day18_rep2', 'day18_rep3'],\n",
      "      dtype='object')\n"
     ]
    }
   ],
   "source": [
    "array_sample = B.columns[1:]\n",
    "print(array_sample)"
   ]
  },
  {
   "cell_type": "code",
   "execution_count": 94,
   "id": "90781638-bcb9-4eb2-96b9-31f54346138a",
   "metadata": {},
   "outputs": [
    {
     "data": {
      "text/plain": [
       "'day0_rep2'"
      ]
     },
     "execution_count": 94,
     "metadata": {},
     "output_type": "execute_result"
    }
   ],
   "source": [
    "array_sample[1]"
   ]
  },
  {
   "cell_type": "code",
   "execution_count": 99,
   "id": "1bdc42fd-cd69-436e-890a-644ed68812e6",
   "metadata": {},
   "outputs": [
    {
     "name": "stdout",
     "output_type": "stream",
     "text": [
      "day0_rep1 [-0.10960142  0.13348446 -0.36185195 -0.07947141  0.19017942  0.09089069\n",
      " -0.06438497  0.31278877 -0.11981894  0.05881184 -0.17385888  0.00845919\n",
      " -0.0987041   0.13340072 -0.02038814  0.15753299  0.01992446  0.33740292\n",
      " -0.64132795  0.24511551] 0.9549779603617679\n",
      "day0_rep2 [-0.12904148  0.15019216 -0.37989568 -0.19846312  0.40725066  0.04981134\n",
      " -0.0987101  -0.49092001  0.41931024  0.17275362  0.3359079  -0.05864543\n",
      "  0.12461267 -0.0932974   0.07908914 -0.01366398 -0.06273281  0.01855051\n",
      " -0.01225957 -0.03097147] 0.025259970310517785\n",
      "day0_rep3 [-0.14993001  0.17963321 -0.50473537 -0.1127008   0.2389517   0.11641287\n",
      " -0.11314241  0.36584352 -0.21714395 -0.20518305 -0.15966376  0.04233304\n",
      " -0.02796584 -0.02801622 -0.05122978 -0.09232312  0.04510555 -0.2737122\n",
      "  0.47853893 -0.15905176] 0.011719898848538022\n",
      "day1_rep1 [-0.2122814  -0.18823559 -0.01282427 -0.25818915 -0.15217131  0.33508776\n",
      "  0.20908211 -0.16172069  0.06570314 -0.5317964  -0.27461767 -0.25386521\n",
      "  0.2564766  -0.24849544  0.16497071  0.02995628  0.06137929  0.11743707\n",
      " -0.13995962 -0.16610778] 0.004233432549135137\n",
      "day1_rep2 [-0.20566561 -0.17915986 -0.01745654 -0.22258543 -0.1794841   0.39194235\n",
      "  0.2265015   0.11390643 -0.0838464   0.24518645  0.33488328 -0.06636553\n",
      " -0.05991254 -0.02141328 -0.55579504 -0.28312456 -0.0412229   0.19070035\n",
      "  0.08914227  0.05308158] 0.0017958407496203592\n",
      "day1_rep3 [-0.19509707 -0.17185346  0.00375061 -0.24447739 -0.12704711  0.34343063\n",
      "  0.21458928 -0.05282849  0.08627235  0.27893384 -0.12973713  0.30025825\n",
      " -0.2493668   0.314921    0.3989753   0.21817829 -0.04775835 -0.32555058\n",
      "  0.06048113  0.13189934] 0.0008660411862998121\n",
      "day2_rep1 [-0.11722864  0.10956603  0.05546947  0.13230443 -0.05199004 -0.00195222\n",
      "  0.00463802  0.19660438  0.54518284 -0.26894474 -0.11033875 -0.06712502\n",
      " -0.08285576 -0.04334691 -0.06844684 -0.23461575 -0.25005084 -0.11992235\n",
      "  0.08819554  0.61065131] 0.0005702846092796896\n",
      "day2_rep2 [-0.11735357  0.1012721   0.0582714   0.12577771 -0.0847518   0.08959288\n",
      " -0.01911061  0.22342238  0.36479541 -0.02803913  0.13509731  0.19919216\n",
      "  0.07374183  0.01510922  0.0163666   0.36929166  0.56837154  0.39117119\n",
      "  0.28405519 -0.02035952] 0.00027512846802613496\n",
      "day2_rep3 [-0.11971508  0.11068994  0.05905339  0.16692481 -0.09389154  0.06766816\n",
      "  0.01466725  0.3960457   0.41186436  0.19026802  0.00944199 -0.04131141\n",
      "  0.0777718   0.02599789  0.06163219 -0.18253437 -0.14936684 -0.18980338\n",
      " -0.29204804 -0.61359878] 0.00015471550121460352\n",
      "day4_rep1 [-0.25704625  0.16702697  0.37254464 -0.05244377  0.150738    0.18886149\n",
      " -0.31056588  0.05429179 -0.1066955  -0.05496538  0.05753333  0.0331032\n",
      "  0.00770471 -0.11039022 -0.09997698  0.47196839 -0.55541022  0.12247716\n",
      "  0.1171905  -0.07536083] 4.762906813899954e-05\n",
      "day4_rep2 [-0.24754997  0.15999064  0.35418892 -0.06556945  0.14871817  0.16677143\n",
      " -0.30561324 -0.03552888 -0.11432288 -0.01900118  0.10694111 -0.15630687\n",
      "  0.02561533 -0.0281958  -0.12111189 -0.05208165  0.50039008 -0.48668824\n",
      " -0.25139114  0.14211752] 1.8655661727101395e-05\n",
      "day4_rep3 [-0.19562963  0.13456104  0.27347292 -0.07569426  0.15372334  0.07671232\n",
      " -0.22860296 -0.07824969 -0.08544146  0.07131991 -0.19875921  0.07572213\n",
      " -0.08520784  0.1961304   0.32840232 -0.58788727  0.03896025  0.4390015\n",
      "  0.14525031 -0.05528664] 1.6025566411006984e-05\n",
      "day5_rep1 [-0.40016103  0.16223321  0.17915499 -0.2505485   0.20626809 -0.52838836\n",
      "  0.47729991 -0.04003725  0.03538675  0.0833973  -0.27415406  0.10123627\n",
      "  0.01574398 -0.0127615  -0.25104572  0.05712077  0.05108877 -0.01389428\n",
      "  0.014071   -0.06485652] 1.5463776390745877e-05\n",
      "day5_rep2 [-0.19719391  0.05830046  0.0403721  -0.08416949 -0.00585379 -0.22362332\n",
      "  0.2537711   0.28883424 -0.21613429 -0.1838677   0.63779062 -0.13734366\n",
      "  0.0383922  -0.00736904  0.47558439 -0.03916513 -0.06418455  0.00929206\n",
      " -0.02513941  0.10436652] 1.241845878234801e-05\n",
      "day11_rep1 [-0.25611303 -0.3954598  -0.10679186 -0.11508069 -0.13745289 -0.29902509\n",
      " -0.35399132 -0.03433491  0.1046987  -0.21647611  0.07644709 -0.15379542\n",
      "  0.06203086  0.62370312 -0.15851217  0.06172828 -0.03182897  0.00146309\n",
      "  0.01497851 -0.09067061] 1.021267139926238e-05\n",
      "day11_rep2 [-2.89974711e-01 -3.99262001e-01 -3.70742309e-03  6.78786342e-01\n",
      "  4.54119015e-01  1.47348064e-01  2.23704399e-01 -7.43078400e-02\n",
      " -9.26713531e-02 -3.48375363e-02 -9.87662094e-04 -8.61222808e-03\n",
      " -9.83074249e-03  4.69622949e-02 -4.41824020e-03  3.76449589e-04\n",
      "  1.88568198e-03 -1.66361056e-03  5.54820702e-03 -1.83975067e-03] 7.099282053762085e-06\n",
      "day11_rep3 [-0.30006448 -0.44793611 -0.10781157 -0.05507394 -0.14530724 -0.25754773\n",
      " -0.34758351  0.11521168  0.00245192  0.25699509 -0.06798232  0.15728283\n",
      " -0.03774058 -0.59005192  0.13540227 -0.04626401  0.03132999  0.00385292\n",
      " -0.01840277  0.07948718] 6.243069699384252e-06\n",
      "day18_rep1 [-2.64054262e-01  2.59854621e-01 -1.59698195e-01  2.24795426e-01\n",
      " -3.41792741e-01 -2.38255887e-04 -3.33463798e-02 -2.81786182e-01\n",
      " -1.25375681e-01 -3.01813307e-01  1.50718556e-01  6.21728980e-01\n",
      " -1.14981733e-02 -9.89009380e-03 -1.11787267e-01 -1.27473522e-01\n",
      " -5.13283420e-02 -4.69407644e-02 -1.88872239e-01 -6.17790116e-02] 5.115465869911247e-06\n",
      "day18_rep2 [-0.23861109  0.24360076 -0.14239734  0.23666608 -0.32042097  0.01385909\n",
      "  0.00516739 -0.0699752  -0.1690746   0.3720523  -0.16039885 -0.25748\n",
      "  0.60113367  0.10556513  0.08820297  0.04759955 -0.05499824 -0.01696994\n",
      "  0.12410097  0.1983754 ] 4.241662658162762e-06\n",
      "day18_rep3 [-0.22487615  0.22615756 -0.13403889  0.1955043  -0.27183369 -0.05505131\n",
      "  0.00310028 -0.20085253 -0.01916501  0.04101897 -0.03792554 -0.47761771\n",
      " -0.66894074 -0.07917473  0.03430786  0.11284445  0.05681054  0.06288838\n",
      "  0.06380796 -0.11957262] 3.622732469958289e-06\n"
     ]
    }
   ],
   "source": [
    "for i in range(PCA.shape[0]):\n",
    "    print(array_sample[i], PCA[:, i], lamb[i])\n",
    "#V[:, i]\n",
    "#PCA"
   ]
  },
  {
   "cell_type": "code",
   "execution_count": null,
   "id": "b88e9392-0d6b-47b9-ac48-b5c90d825187",
   "metadata": {},
   "outputs": [],
   "source": [
    "VV2, lamb2, PCA2 = computePCA_corr(B3.T, corr = True)"
   ]
  },
  {
   "cell_type": "code",
   "execution_count": 2,
   "id": "4782cedd-51e4-47c3-8218-b5695706dbee",
   "metadata": {},
   "outputs": [
    {
     "name": "stdout",
     "output_type": "stream",
     "text": [
      "(16, 4)\n"
     ]
    }
   ],
   "source": [
    "import pandas as pd\n",
    "import numpy as np\n",
    "A = np.loadtxt('./proj2/example.dat')\n",
    "print(A.shape)"
   ]
  },
  {
   "cell_type": "code",
   "execution_count": 3,
   "id": "282232e5-b537-4179-bbbd-3f9426eeac28",
   "metadata": {},
   "outputs": [
    {
     "data": {
      "text/plain": [
       "array([[6., 5., 3., 4.],\n",
       "       [7., 3., 2., 2.],\n",
       "       [6., 4., 4., 5.],\n",
       "       [5., 7., 1., 3.],\n",
       "       [7., 7., 5., 5.],\n",
       "       [6., 4., 2., 3.],\n",
       "       [5., 7., 2., 1.],\n",
       "       [6., 5., 4., 4.],\n",
       "       [3., 5., 6., 7.],\n",
       "       [1., 3., 7., 5.],\n",
       "       [2., 6., 6., 7.],\n",
       "       [5., 7., 7., 6.],\n",
       "       [2., 4., 5., 6.],\n",
       "       [3., 5., 6., 5.],\n",
       "       [1., 6., 5., 5.],\n",
       "       [2., 3., 7., 7.]])"
      ]
     },
     "execution_count": 3,
     "metadata": {},
     "output_type": "execute_result"
    }
   ],
   "source": [
    "A"
   ]
  },
  {
   "cell_type": "code",
   "execution_count": 12,
   "id": "e239d169-e76f-48aa-b4a6-6d866318011c",
   "metadata": {},
   "outputs": [
    {
     "name": "stdout",
     "output_type": "stream",
     "text": [
      "RangeIndex(start=0, stop=4, step=1)\n"
     ]
    },
    {
     "data": {
      "text/html": [
       "<div>\n",
       "<style scoped>\n",
       "    .dataframe tbody tr th:only-of-type {\n",
       "        vertical-align: middle;\n",
       "    }\n",
       "\n",
       "    .dataframe tbody tr th {\n",
       "        vertical-align: top;\n",
       "    }\n",
       "\n",
       "    .dataframe thead th {\n",
       "        text-align: right;\n",
       "    }\n",
       "</style>\n",
       "<table border=\"1\" class=\"dataframe\">\n",
       "  <thead>\n",
       "    <tr style=\"text-align: right;\">\n",
       "      <th></th>\n",
       "      <th>0</th>\n",
       "      <th>1</th>\n",
       "      <th>2</th>\n",
       "      <th>3</th>\n",
       "    </tr>\n",
       "  </thead>\n",
       "  <tbody>\n",
       "    <tr>\n",
       "      <th>0</th>\n",
       "      <td>6.0</td>\n",
       "      <td>5.0</td>\n",
       "      <td>3.0</td>\n",
       "      <td>4.0</td>\n",
       "    </tr>\n",
       "    <tr>\n",
       "      <th>1</th>\n",
       "      <td>7.0</td>\n",
       "      <td>3.0</td>\n",
       "      <td>2.0</td>\n",
       "      <td>2.0</td>\n",
       "    </tr>\n",
       "    <tr>\n",
       "      <th>2</th>\n",
       "      <td>6.0</td>\n",
       "      <td>4.0</td>\n",
       "      <td>4.0</td>\n",
       "      <td>5.0</td>\n",
       "    </tr>\n",
       "    <tr>\n",
       "      <th>3</th>\n",
       "      <td>5.0</td>\n",
       "      <td>7.0</td>\n",
       "      <td>1.0</td>\n",
       "      <td>3.0</td>\n",
       "    </tr>\n",
       "    <tr>\n",
       "      <th>4</th>\n",
       "      <td>7.0</td>\n",
       "      <td>7.0</td>\n",
       "      <td>5.0</td>\n",
       "      <td>5.0</td>\n",
       "    </tr>\n",
       "    <tr>\n",
       "      <th>5</th>\n",
       "      <td>6.0</td>\n",
       "      <td>4.0</td>\n",
       "      <td>2.0</td>\n",
       "      <td>3.0</td>\n",
       "    </tr>\n",
       "    <tr>\n",
       "      <th>6</th>\n",
       "      <td>5.0</td>\n",
       "      <td>7.0</td>\n",
       "      <td>2.0</td>\n",
       "      <td>1.0</td>\n",
       "    </tr>\n",
       "    <tr>\n",
       "      <th>7</th>\n",
       "      <td>6.0</td>\n",
       "      <td>5.0</td>\n",
       "      <td>4.0</td>\n",
       "      <td>4.0</td>\n",
       "    </tr>\n",
       "    <tr>\n",
       "      <th>8</th>\n",
       "      <td>3.0</td>\n",
       "      <td>5.0</td>\n",
       "      <td>6.0</td>\n",
       "      <td>7.0</td>\n",
       "    </tr>\n",
       "    <tr>\n",
       "      <th>9</th>\n",
       "      <td>1.0</td>\n",
       "      <td>3.0</td>\n",
       "      <td>7.0</td>\n",
       "      <td>5.0</td>\n",
       "    </tr>\n",
       "    <tr>\n",
       "      <th>10</th>\n",
       "      <td>2.0</td>\n",
       "      <td>6.0</td>\n",
       "      <td>6.0</td>\n",
       "      <td>7.0</td>\n",
       "    </tr>\n",
       "    <tr>\n",
       "      <th>11</th>\n",
       "      <td>5.0</td>\n",
       "      <td>7.0</td>\n",
       "      <td>7.0</td>\n",
       "      <td>6.0</td>\n",
       "    </tr>\n",
       "    <tr>\n",
       "      <th>12</th>\n",
       "      <td>2.0</td>\n",
       "      <td>4.0</td>\n",
       "      <td>5.0</td>\n",
       "      <td>6.0</td>\n",
       "    </tr>\n",
       "    <tr>\n",
       "      <th>13</th>\n",
       "      <td>3.0</td>\n",
       "      <td>5.0</td>\n",
       "      <td>6.0</td>\n",
       "      <td>5.0</td>\n",
       "    </tr>\n",
       "    <tr>\n",
       "      <th>14</th>\n",
       "      <td>1.0</td>\n",
       "      <td>6.0</td>\n",
       "      <td>5.0</td>\n",
       "      <td>5.0</td>\n",
       "    </tr>\n",
       "    <tr>\n",
       "      <th>15</th>\n",
       "      <td>2.0</td>\n",
       "      <td>3.0</td>\n",
       "      <td>7.0</td>\n",
       "      <td>7.0</td>\n",
       "    </tr>\n",
       "  </tbody>\n",
       "</table>\n",
       "</div>"
      ],
      "text/plain": [
       "      0    1    2    3\n",
       "0   6.0  5.0  3.0  4.0\n",
       "1   7.0  3.0  2.0  2.0\n",
       "2   6.0  4.0  4.0  5.0\n",
       "3   5.0  7.0  1.0  3.0\n",
       "4   7.0  7.0  5.0  5.0\n",
       "5   6.0  4.0  2.0  3.0\n",
       "6   5.0  7.0  2.0  1.0\n",
       "7   6.0  5.0  4.0  4.0\n",
       "8   3.0  5.0  6.0  7.0\n",
       "9   1.0  3.0  7.0  5.0\n",
       "10  2.0  6.0  6.0  7.0\n",
       "11  5.0  7.0  7.0  6.0\n",
       "12  2.0  4.0  5.0  6.0\n",
       "13  3.0  5.0  6.0  5.0\n",
       "14  1.0  6.0  5.0  5.0\n",
       "15  2.0  3.0  7.0  7.0"
      ]
     },
     "execution_count": 12,
     "metadata": {},
     "output_type": "execute_result"
    }
   ],
   "source": [
    "A1 = pd.DataFrame(A)\n",
    "print(A1.columns)\n",
    "A1"
   ]
  },
  {
   "cell_type": "code",
   "execution_count": 8,
   "id": "be65c4f8-c257-4318-986a-459524356cd0",
   "metadata": {},
   "outputs": [
    {
     "name": "stdout",
     "output_type": "stream",
     "text": [
      "Dash is running on http://127.0.0.1:8050/\n",
      "\n",
      " * Serving Flask app \"__main__\" (lazy loading)\n",
      " * Environment: production\n",
      "\u001b[31m   WARNING: This is a development server. Do not use it in a production deployment.\u001b[0m\n",
      "\u001b[2m   Use a production WSGI server instead.\u001b[0m\n",
      " * Debug mode: on\n"
     ]
    },
    {
     "name": "stderr",
     "output_type": "stream",
     "text": [
      "Traceback (most recent call last):\n",
      "  File \"/Users/flaviaferrusmarimon/anaconda3/lib/python3.9/site-packages/ipykernel_launcher.py\", line 15, in <module>\n",
      "    from ipykernel import kernelapp as app\n",
      "  File \"/Users/flaviaferrusmarimon/anaconda3/lib/python3.9/site-packages/ipykernel/kernelapp.py\", line 22, in <module>\n",
      "    from IPython.core.application import (\n",
      "  File \"/Users/flaviaferrusmarimon/anaconda3/lib/python3.9/site-packages/IPython/__init__.py\", line 56, in <module>\n",
      "    from .terminal.embed import embed\n",
      "  File \"/Users/flaviaferrusmarimon/anaconda3/lib/python3.9/site-packages/IPython/terminal/embed.py\", line 17, in <module>\n",
      "    from IPython.terminal.ipapp import load_default_config\n",
      "  File \"/Users/flaviaferrusmarimon/anaconda3/lib/python3.9/site-packages/IPython/terminal/ipapp.py\", line 28, in <module>\n",
      "    from IPython.core.magics import (\n",
      "  File \"/Users/flaviaferrusmarimon/anaconda3/lib/python3.9/site-packages/IPython/core/magics/__init__.py\", line 21, in <module>\n",
      "    from .execution import ExecutionMagics\n",
      "  File \"/Users/flaviaferrusmarimon/anaconda3/lib/python3.9/site-packages/IPython/core/magics/execution.py\", line 25, in <module>\n",
      "    import pstats\n",
      "  File \"/Users/flaviaferrusmarimon/anaconda3/lib/python3.9/pstats.py\", line 58, in <module>\n",
      "    class FunctionProfile:\n",
      "  File \"/Users/flaviaferrusmarimon/anaconda3/lib/python3.9/site-packages/dataclasses.py\", line 950, in wrap\n",
      "    return _process_class(cls, init, repr, eq, order, unsafe_hash, frozen)\n",
      "  File \"/Users/flaviaferrusmarimon/anaconda3/lib/python3.9/site-packages/dataclasses.py\", line 800, in _process_class\n",
      "    cls_fields = [_get_field(cls, name, type)\n",
      "  File \"/Users/flaviaferrusmarimon/anaconda3/lib/python3.9/site-packages/dataclasses.py\", line 800, in <listcomp>\n",
      "    cls_fields = [_get_field(cls, name, type)\n",
      "  File \"/Users/flaviaferrusmarimon/anaconda3/lib/python3.9/site-packages/dataclasses.py\", line 659, in _get_field\n",
      "    if (_is_classvar(a_type, typing)\n",
      "  File \"/Users/flaviaferrusmarimon/anaconda3/lib/python3.9/site-packages/dataclasses.py\", line 550, in _is_classvar\n",
      "    return type(a_type) is typing._ClassVar\n",
      "AttributeError: module 'typing' has no attribute '_ClassVar'\n"
     ]
    },
    {
     "ename": "SystemExit",
     "evalue": "1",
     "output_type": "error",
     "traceback": [
      "An exception has occurred, use %tb to see the full traceback.\n",
      "\u001b[0;31mSystemExit\u001b[0m\u001b[0;31m:\u001b[0m 1\n"
     ]
    },
    {
     "name": "stderr",
     "output_type": "stream",
     "text": [
      "/Users/flaviaferrusmarimon/anaconda3/lib/python3.9/site-packages/IPython/core/interactiveshell.py:3452: UserWarning: To exit: use 'exit', 'quit', or Ctrl-D.\n",
      "  warn(\"To exit: use 'exit', 'quit', or Ctrl-D.\", stacklevel=1)\n"
     ]
    }
   ],
   "source": [
    "from dash import Dash, dcc, html, Input, Output\n",
    "from sklearn.datasets import load_boston\n",
    "from sklearn.decomposition import PCA\n",
    "import plotly.express as px\n",
    "import pandas as pd\n",
    "\n",
    "app = Dash(__name__)\n",
    "\n",
    "app.layout = html.Div([\n",
    "    html.H4(\"Visualization of PCA's explained variance\"),\n",
    "    dcc.Graph(id=\"graph\"),\n",
    "    html.P(\"Number of components:\"),\n",
    "    dcc.Slider(\n",
    "        id='slider',\n",
    "        min=2, max=5, value=3, step=1)\n",
    "])\n",
    "\n",
    "\n",
    "@app.callback(\n",
    "    Output(\"graph\", \"figure\"), \n",
    "    Input(\"slider\", \"value\"))\n",
    "def run_and_plot(n_components):\n",
    "    boston = load_boston() # replace with your own data source\n",
    "    df = pd.DataFrame(A)\n",
    "     #   boston.data, columns=boston.feature_names)\n",
    "    pca = PCA(n_components=n_components)\n",
    "    components = pca.fit_transform(df)\n",
    "\n",
    "    var = pca.explained_variance_ratio_.sum() * 100\n",
    "\n",
    "    labels = {str(i): f\"PC {i+1}\" \n",
    "              for i in range(n_components)}\n",
    "    labels['color'] = 'Median Price'\n",
    "\n",
    "    fig = px.scatter_matrix(\n",
    "        components,\n",
    "        color=boston.target,\n",
    "        dimensions=range(n_components),\n",
    "        labels=labels,\n",
    "        title=f'Total Explained Variance: {var:.2f}%')\n",
    "    fig.update_traces(diagonal_visible=False)\n",
    "    return fig\n",
    "\n",
    "\n",
    "app.run_server(debug=True)"
   ]
  },
  {
   "cell_type": "code",
   "execution_count": 9,
   "id": "e5fab085-77ea-4f65-be59-9631fba30af5",
   "metadata": {},
   "outputs": [],
   "source": [
    "#pip install dash"
   ]
  },
  {
   "cell_type": "code",
   "execution_count": 11,
   "id": "a5cc1156-ae95-47c5-a617-53d34a30fa73",
   "metadata": {
    "collapsed": true,
    "jupyter": {
     "outputs_hidden": true
    },
    "tags": []
   },
   "outputs": [
    {
     "ename": "ValueError",
     "evalue": "All arguments should have the same length. The length of argument `color` is 506, whereas the length of  previously-processed arguments ['0', '1', '2', '3'] is 16",
     "output_type": "error",
     "traceback": [
      "\u001b[0;31m---------------------------------------------------------------------------\u001b[0m",
      "\u001b[0;31mValueError\u001b[0m                                Traceback (most recent call last)",
      "\u001b[0;32m/var/folders/df/4599m83s2vj4j1_h__gx7kqw0000gn/T/ipykernel_5407/3591062869.py\u001b[0m in \u001b[0;36m<module>\u001b[0;34m\u001b[0m\n\u001b[1;32m     16\u001b[0m \u001b[0mlabels\u001b[0m\u001b[0;34m[\u001b[0m\u001b[0;34m'color'\u001b[0m\u001b[0;34m]\u001b[0m \u001b[0;34m=\u001b[0m \u001b[0;34m'Median Price'\u001b[0m\u001b[0;34m\u001b[0m\u001b[0;34m\u001b[0m\u001b[0m\n\u001b[1;32m     17\u001b[0m \u001b[0;34m\u001b[0m\u001b[0m\n\u001b[0;32m---> 18\u001b[0;31m fig = px.scatter_matrix(\n\u001b[0m\u001b[1;32m     19\u001b[0m     \u001b[0mcomponents\u001b[0m\u001b[0;34m,\u001b[0m\u001b[0;34m\u001b[0m\u001b[0;34m\u001b[0m\u001b[0m\n\u001b[1;32m     20\u001b[0m     \u001b[0mcolor\u001b[0m\u001b[0;34m=\u001b[0m\u001b[0mboston\u001b[0m\u001b[0;34m.\u001b[0m\u001b[0mtarget\u001b[0m\u001b[0;34m,\u001b[0m\u001b[0;34m\u001b[0m\u001b[0;34m\u001b[0m\u001b[0m\n",
      "\u001b[0;32m~/anaconda3/lib/python3.9/site-packages/plotly/express/_chart_types.py\u001b[0m in \u001b[0;36mscatter_matrix\u001b[0;34m(data_frame, dimensions, color, symbol, size, hover_name, hover_data, custom_data, category_orders, labels, color_discrete_sequence, color_discrete_map, color_continuous_scale, range_color, color_continuous_midpoint, symbol_sequence, symbol_map, opacity, size_max, title, template, width, height)\u001b[0m\n\u001b[1;32m   1390\u001b[0m     \u001b[0mother\u001b[0m\u001b[0;34m.\u001b[0m\u001b[0;34m\u001b[0m\u001b[0;34m\u001b[0m\u001b[0m\n\u001b[1;32m   1391\u001b[0m     \"\"\"\n\u001b[0;32m-> 1392\u001b[0;31m     return make_figure(\n\u001b[0m\u001b[1;32m   1393\u001b[0m         \u001b[0margs\u001b[0m\u001b[0;34m=\u001b[0m\u001b[0mlocals\u001b[0m\u001b[0;34m(\u001b[0m\u001b[0;34m)\u001b[0m\u001b[0;34m,\u001b[0m \u001b[0mconstructor\u001b[0m\u001b[0;34m=\u001b[0m\u001b[0mgo\u001b[0m\u001b[0;34m.\u001b[0m\u001b[0mSplom\u001b[0m\u001b[0;34m,\u001b[0m \u001b[0mlayout_patch\u001b[0m\u001b[0;34m=\u001b[0m\u001b[0mdict\u001b[0m\u001b[0;34m(\u001b[0m\u001b[0mdragmode\u001b[0m\u001b[0;34m=\u001b[0m\u001b[0;34m\"select\"\u001b[0m\u001b[0;34m)\u001b[0m\u001b[0;34m\u001b[0m\u001b[0;34m\u001b[0m\u001b[0m\n\u001b[1;32m   1394\u001b[0m     )\n",
      "\u001b[0;32m~/anaconda3/lib/python3.9/site-packages/plotly/express/_core.py\u001b[0m in \u001b[0;36mmake_figure\u001b[0;34m(args, constructor, trace_patch, layout_patch)\u001b[0m\n\u001b[1;32m   1988\u001b[0m     \u001b[0mapply_default_cascade\u001b[0m\u001b[0;34m(\u001b[0m\u001b[0margs\u001b[0m\u001b[0;34m)\u001b[0m\u001b[0;34m\u001b[0m\u001b[0;34m\u001b[0m\u001b[0m\n\u001b[1;32m   1989\u001b[0m \u001b[0;34m\u001b[0m\u001b[0m\n\u001b[0;32m-> 1990\u001b[0;31m     \u001b[0margs\u001b[0m \u001b[0;34m=\u001b[0m \u001b[0mbuild_dataframe\u001b[0m\u001b[0;34m(\u001b[0m\u001b[0margs\u001b[0m\u001b[0;34m,\u001b[0m \u001b[0mconstructor\u001b[0m\u001b[0;34m)\u001b[0m\u001b[0;34m\u001b[0m\u001b[0;34m\u001b[0m\u001b[0m\n\u001b[0m\u001b[1;32m   1991\u001b[0m     \u001b[0;32mif\u001b[0m \u001b[0mconstructor\u001b[0m \u001b[0;32min\u001b[0m \u001b[0;34m[\u001b[0m\u001b[0mgo\u001b[0m\u001b[0;34m.\u001b[0m\u001b[0mTreemap\u001b[0m\u001b[0;34m,\u001b[0m \u001b[0mgo\u001b[0m\u001b[0;34m.\u001b[0m\u001b[0mSunburst\u001b[0m\u001b[0;34m,\u001b[0m \u001b[0mgo\u001b[0m\u001b[0;34m.\u001b[0m\u001b[0mIcicle\u001b[0m\u001b[0;34m]\u001b[0m \u001b[0;32mand\u001b[0m \u001b[0margs\u001b[0m\u001b[0;34m[\u001b[0m\u001b[0;34m\"path\"\u001b[0m\u001b[0;34m]\u001b[0m \u001b[0;32mis\u001b[0m \u001b[0;32mnot\u001b[0m \u001b[0;32mNone\u001b[0m\u001b[0;34m:\u001b[0m\u001b[0;34m\u001b[0m\u001b[0;34m\u001b[0m\u001b[0m\n\u001b[1;32m   1992\u001b[0m         \u001b[0margs\u001b[0m \u001b[0;34m=\u001b[0m \u001b[0mprocess_dataframe_hierarchy\u001b[0m\u001b[0;34m(\u001b[0m\u001b[0margs\u001b[0m\u001b[0;34m)\u001b[0m\u001b[0;34m\u001b[0m\u001b[0;34m\u001b[0m\u001b[0m\n",
      "\u001b[0;32m~/anaconda3/lib/python3.9/site-packages/plotly/express/_core.py\u001b[0m in \u001b[0;36mbuild_dataframe\u001b[0;34m(args, constructor)\u001b[0m\n\u001b[1;32m   1403\u001b[0m     \u001b[0;31m# now that things have been prepped, we do the systematic rewriting of `args`\u001b[0m\u001b[0;34m\u001b[0m\u001b[0;34m\u001b[0m\u001b[0m\n\u001b[1;32m   1404\u001b[0m \u001b[0;34m\u001b[0m\u001b[0m\n\u001b[0;32m-> 1405\u001b[0;31m     df_output, wide_id_vars = process_args_into_dataframe(\n\u001b[0m\u001b[1;32m   1406\u001b[0m         \u001b[0margs\u001b[0m\u001b[0;34m,\u001b[0m \u001b[0mwide_mode\u001b[0m\u001b[0;34m,\u001b[0m \u001b[0mvar_name\u001b[0m\u001b[0;34m,\u001b[0m \u001b[0mvalue_name\u001b[0m\u001b[0;34m\u001b[0m\u001b[0;34m\u001b[0m\u001b[0m\n\u001b[1;32m   1407\u001b[0m     )\n",
      "\u001b[0;32m~/anaconda3/lib/python3.9/site-packages/plotly/express/_core.py\u001b[0m in \u001b[0;36mprocess_args_into_dataframe\u001b[0;34m(args, wide_mode, var_name, value_name)\u001b[0m\n\u001b[1;32m   1243\u001b[0m \u001b[0;34m\u001b[0m\u001b[0m\n\u001b[1;32m   1244\u001b[0m                 \u001b[0;32mif\u001b[0m \u001b[0mlength\u001b[0m \u001b[0;32mand\u001b[0m \u001b[0mlen\u001b[0m\u001b[0;34m(\u001b[0m\u001b[0margument\u001b[0m\u001b[0;34m)\u001b[0m \u001b[0;34m!=\u001b[0m \u001b[0mlength\u001b[0m\u001b[0;34m:\u001b[0m\u001b[0;34m\u001b[0m\u001b[0;34m\u001b[0m\u001b[0m\n\u001b[0;32m-> 1245\u001b[0;31m                     raise ValueError(\n\u001b[0m\u001b[1;32m   1246\u001b[0m                         \u001b[0;34m\"All arguments should have the same length. \"\u001b[0m\u001b[0;34m\u001b[0m\u001b[0;34m\u001b[0m\u001b[0m\n\u001b[1;32m   1247\u001b[0m                         \u001b[0;34m\"The length of argument `%s` is %d, whereas the \"\u001b[0m\u001b[0;34m\u001b[0m\u001b[0;34m\u001b[0m\u001b[0m\n",
      "\u001b[0;31mValueError\u001b[0m: All arguments should have the same length. The length of argument `color` is 506, whereas the length of  previously-processed arguments ['0', '1', '2', '3'] is 16"
     ]
    }
   ],
   "source": [
    "import pandas as pd\n",
    "import plotly.express as px\n",
    "from sklearn.decomposition import PCA\n",
    "from sklearn.datasets import load_boston\n",
    "\n",
    "#boston = load_boston()\n",
    "df = pd.DataFrame(A)\n",
    "n_components = 4\n",
    "\n",
    "pca = PCA(n_components=n_components)\n",
    "components = pca.fit_transform(df)\n",
    "\n",
    "total_var = pca.explained_variance_ratio_.sum() * 100\n",
    "\n",
    "labels = {str(i): f\"PC {i+1}\" for i in range(n_components)}\n",
    "labels['color'] = 'Median Price'\n",
    "\n",
    "fig = px.scatter_matrix(\n",
    "    components,\n",
    "    color=boston.target,\n",
    "    dimensions=range(n_components),\n",
    "    labels=labels,\n",
    "    title=f'Total Explained Variance: {total_var:.2f}%',\n",
    ")\n",
    "fig.update_traces(diagonal_visible=False)\n",
    "fig.show()"
   ]
  },
  {
   "cell_type": "code",
   "execution_count": 52,
   "id": "c5371ae3-5f47-4732-aca1-bd98658ed9df",
   "metadata": {},
   "outputs": [
    {
     "name": "stdout",
     "output_type": "stream",
     "text": [
      "[[ 2.33616589  0.02763159 -0.6113487  -0.42371803]\n",
      " [ 4.35336868 -2.12675047 -1.42283085  0.37065439]\n",
      " [ 1.10570266 -0.24063832 -1.79814637 -0.49789879]\n",
      " [ 3.68471106  0.48403484  2.14002302 -1.05860044]\n",
      " [ 1.42180965  2.90827971 -1.20204912  0.29523406]\n",
      " [ 3.34953464 -1.37262419 -0.50488667 -0.39157212]\n",
      " [ 4.11264074  0.15458217  2.47946554  1.08455516]\n",
      " [ 1.73086512  0.29514266 -0.92928776  0.25522494]\n",
      " [-2.81688024  0.58975511 -0.43183679 -0.73662089]\n",
      " [-3.79757714 -2.1654601   0.24020439  1.26222463]\n",
      " [-3.30409906  1.04539952  0.81479819 -0.76674108]\n",
      " [-1.49693922  2.98454685 -0.75368372  0.81873847]\n",
      " [-2.39927754 -1.1891191   0.3810924  -0.75561259]\n",
      " [-1.7836498  -0.00720863  0.22554479  0.72759173]\n",
      " [-2.2613339  -0.19769371  2.49658599 -0.03260905]\n",
      " [-4.23504154 -1.18987794 -1.12364434 -0.15085038]]\n"
     ]
    },
    {
     "name": "stderr",
     "output_type": "stream",
     "text": [
      "/Users/flaviaferrusmarimon/anaconda3/lib/python3.9/site-packages/plotly/express/_core.py:279: FutureWarning:\n",
      "\n",
      "iteritems is deprecated and will be removed in a future version. Use .items instead.\n",
      "\n"
     ]
    }
   ],
   "source": [
    "import plotly.express as px\n",
    "from sklearn.decomposition import PCA\n",
    "\n",
    "#df = px.data.iris()\n",
    "#features = [\"sepal_width\", \"sepal_length\", \"petal_width\", \"petal_length\"]\n",
    "\n",
    "df = pd.DataFrame(A)\n",
    "features = df.columns\n",
    "\n",
    "pca = PCA()\n",
    "components = pca.fit_transform(df[features])\n",
    "print(components)\n",
    "labels = {\n",
    "    str(i): f\"PC {i+1} ({var:.1f}%)\"\n",
    "    for i, var in enumerate(pca.explained_variance_ratio_ * 100)\n",
    "}\n",
    "\n",
    "\n",
    "fig = px.scatter_matrix(\n",
    "    components,\n",
    "    labels=labels\n",
    "    #dimensions=range(4)\n",
    "    #color=df[1]\n",
    ")\n",
    "#fig.update_traces(diagonal_visible=False)\n",
    "#fig.show()\n",
    "\n"
   ]
  },
  {
   "cell_type": "code",
   "execution_count": 60,
   "id": "6021d882-2fda-49f8-9a8b-86c96394a28a",
   "metadata": {},
   "outputs": [
    {
     "name": "stderr",
     "output_type": "stream",
     "text": [
      "/Users/flaviaferrusmarimon/anaconda3/lib/python3.9/site-packages/matplotlib/collections.py:1039: UserWarning:\n",
      "\n",
      "Collection without array used. Make sure to specify the values to be colormapped via the `c` argument.\n",
      "\n",
      "No handles with labels found to put in legend.\n"
     ]
    },
    {
     "data": {
      "image/png": "[encoded data removed]",
      "text/plain": [
       "<Figure size 432x288 with 1 Axes>"
      ]
     },
     "metadata": {
      "needs_background": "light"
     },
     "output_type": "display_data"
    }
   ],
   "source": [
    "import matplotlib.pyplot as plt\n",
    "from sklearn.decomposition import PCA\n",
    "pca = PCA()\n",
    "Xt = pca.fit_transform(pd.DataFrame(A))\n",
    "plot = plt.scatter(Xt[:,0], Xt[:,1])\n",
    "plt.legend(handles=plot.legend_elements()[0], labels=list(df.columns))\n",
    "plt.show()"
   ]
  },
  {
   "cell_type": "code",
   "execution_count": 63,
   "id": "59a9cc93-644b-46be-8ae5-b91e5f736851",
   "metadata": {},
   "outputs": [
    {
     "data": {
      "image/png": "[encoded data removed]",
      "text/plain": [
       "<Figure size 432x288 with 1 Axes>"
      ]
     },
     "metadata": {
      "needs_background": "light"
     },
     "output_type": "display_data"
    }
   ],
   "source": [
    "from sklearn.pipeline import Pipeline\n",
    "from sklearn.preprocessing import StandardScaler\n",
    "\n",
    "pca = PCA()\n",
    "pipe = Pipeline([('scaler', StandardScaler()), ('pca', pca)])\n",
    "Xt = pipe.fit_transform(pd.DataFrame(A))\n",
    "plot = plt.scatter(Xt[:,0], Xt[:,1])\n",
    "#plt.legend(handles=plot.legend_elements()[0], labels=list(winedata['target_names']))\n",
    "plt.show()"
   ]
  },
  {
   "cell_type": "code",
   "execution_count": 71,
   "id": "564c9260-412b-4208-afcf-1ec11f0cb2cf",
   "metadata": {},
   "outputs": [
    {
     "name": "stdout",
     "output_type": "stream",
     "text": [
      "Number of features: m=  4\n",
      "Number of samples: n= 16\n",
      "4.554367738890935e-16\n",
      "(16, 4) (4,) (4, 4)\n",
      "Singular values: [1.55893906 0.9804092  0.68166733 0.37925777]\n",
      "Eigenvalues of the covariance matrix: (variances) [2.43029099 0.96120221 0.46467035 0.14383645]\n",
      "(4, 4) (4, 16)\n",
      "(4, 16)\n",
      "The principal component with variance proprotion 0.608 is given by the direction: [-0.5229138  -0.17713905  0.59652595  0.58252871]\n",
      "The principal component with variance proprotion 0.240 is given by the direction: [0.00807487 0.97675554 0.13369503 0.16735905]\n",
      "The principal component with variance proprotion 0.116 is given by the direction: [-0.84835246  0.119866   -0.29507268 -0.42292122]\n",
      "The principal component with variance proprotion 0.036 is given by the direction: [ 0.08242604  0.01423081  0.73431229 -0.67363855]\n",
      "--------------\n",
      "The expression of the original variables in terms of the principal components is given as follows:\n",
      "[[-1.14520929 -0.20585347 -0.35127392 -0.22821265]\n",
      " [-2.13579331 -1.82692136 -0.28494506  0.19505665]\n",
      " [-0.3753926  -0.72038791 -0.832809   -0.25015836]\n",
      " [-2.09369303  0.91650704  0.7763731  -0.61540022]\n",
      " [-0.69056863  1.39486696 -1.14474846  0.19864877]\n",
      " [-1.66810444 -1.0528595  -0.03682508 -0.22610387]\n",
      " [-2.46227084  0.7911549   1.11523239  0.54624598]\n",
      " [-0.83716461 -0.13681365 -0.50364879  0.15098459]\n",
      " [ 1.55237366  0.28114087 -0.31466795 -0.38385788]\n",
      " [ 1.93639418 -1.21356043  0.677493    0.6782424 ]\n",
      " [ 1.68175129  0.95800676  0.17906912 -0.41379391]\n",
      " [ 0.76950876  1.62233387 -0.8747274   0.48610976]\n",
      " [ 1.28231691 -0.5697695   0.40997484 -0.4216036 ]\n",
      " [ 0.87575117  0.08674892  0.17656622  0.39859108]\n",
      " [ 0.94992252  0.69067064  1.23287211 -0.05039669]\n",
      " [ 2.36017827 -1.01526413 -0.22393512 -0.06435206]]\n",
      "1.0\n"
     ]
    }
   ],
   "source": [
    "VV, lamb, PCA = computePCA_corr(A.T, corr = True)\n",
    "print(sum(lamb))"
   ]
  },
  {
   "cell_type": "code",
   "execution_count": 41,
   "id": "c5865ae5-13dc-4f59-b402-e811b6e37fb1",
   "metadata": {
    "tags": []
   },
   "outputs": [
    {
     "name": "stdout",
     "output_type": "stream",
     "text": [
      "(16, 4)\n",
      "[[ 2.33616589  0.02763159 -0.6113487  -0.42371803]\n",
      " [ 4.35336868 -2.12675047 -1.42283085  0.37065439]\n",
      " [ 1.10570266 -0.24063832 -1.79814637 -0.49789879]\n",
      " [ 3.68471106  0.48403484  2.14002302 -1.05860044]\n",
      " [ 1.42180965  2.90827971 -1.20204912  0.29523406]\n",
      " [ 3.34953464 -1.37262419 -0.50488667 -0.39157212]\n",
      " [ 4.11264074  0.15458217  2.47946554  1.08455516]\n",
      " [ 1.73086512  0.29514266 -0.92928776  0.25522494]\n",
      " [-2.81688024  0.58975511 -0.43183679 -0.73662089]\n",
      " [-3.79757714 -2.1654601   0.24020439  1.26222463]\n",
      " [-3.30409906  1.04539952  0.81479819 -0.76674108]\n",
      " [-1.49693922  2.98454685 -0.75368372  0.81873847]\n",
      " [-2.39927754 -1.1891191   0.3810924  -0.75561259]\n",
      " [-1.7836498  -0.00720863  0.22554479  0.72759173]\n",
      " [-2.2613339  -0.19769371  2.49658599 -0.03260905]\n",
      " [-4.23504154 -1.18987794 -1.12364434 -0.15085038]]\n",
      "Variantes ratio: [0.66979347 0.15887735 0.13452316 0.03680602]\n",
      "[[ 0.59576605  0.10854723 -0.60530077 -0.51661522]\n",
      " [ 0.37861843  0.83426284  0.26751107  0.29848187]\n",
      " [-0.70646715  0.54016782 -0.31793906 -0.32869079]\n",
      " [ 0.05113761  0.02101742  0.67894297 -0.73210631]]\n",
      "Singular values: [11.82629477  5.75982443  5.30001113  2.77228363]\n",
      "Number of features: m=  4\n",
      "Number of samples: n= 16\n"
     ]
    }
   ],
   "source": [
    "from sklearn.decomposition import PCA\n",
    "\n",
    "df = pd.DataFrame(A)\n",
    "features = df.columns\n",
    "print(df.shape)\n",
    "#print(df)\n",
    "pca = PCA()\n",
    "components = pca.fit_transform(df[features])\n",
    "print(components)\n",
    "\n",
    "print('Variantes ratio:', pca.explained_variance_ratio_)\n",
    "\n",
    "print(pca.components_)\n",
    "print('Singular values:', pca.singular_values_)\n",
    "print('Number of features: m= ', pca.n_features_) \n",
    "print('Number of samples: n=', pca.n_samples_)"
   ]
  },
  {
   "cell_type": "code",
   "execution_count": 45,
   "id": "742d0808-3c20-43dd-bcbf-77a7c21fdf1e",
   "metadata": {},
   "outputs": [
    {
     "name": "stdout",
     "output_type": "stream",
     "text": [
      "(16, 4)\n",
      "[[ 1.96518285e+00  9.04235697e-02 -3.26561418e-01  2.03551389e-16]\n",
      " [ 1.96811579e+00  7.08516380e-01  4.95739029e-01 -7.28153287e-17]\n",
      " [ 1.47688082e+00  1.62409661e+00 -2.00826631e-01  6.45235694e-17]\n",
      " [ 1.35290507e+00 -9.61337555e-01 -6.71401191e-01 -1.38019985e-17]\n",
      " [ 1.77740665e+00 -7.01086381e-01  1.01030175e-01 -1.02436676e-16]\n",
      " [ 2.02035697e+00  3.68819700e-01 -8.61651351e-02 -1.50860634e-17]\n",
      " [ 1.36157122e+00 -1.21404739e+00  2.28705874e-01  1.72629482e-17]\n",
      " [ 2.02429136e+00  1.02220185e-01  3.40768009e-01  9.02790886e-17]\n",
      " [-1.84295269e+00  4.46765544e-01 -4.79201038e-01 -7.56836693e-18]\n",
      " [-1.88622341e+00  4.81077932e-01  6.80443554e-01  6.46187014e-17]\n",
      " [-1.76686665e+00 -2.02593371e-01 -5.29198299e-01  6.22739819e-17]\n",
      " [-1.39792138e+00 -1.05259511e+00  5.54708767e-01  7.81879371e-17]\n",
      " [-1.84295269e+00  4.46765544e-01 -4.79201038e-01 -7.56836693e-18]\n",
      " [-1.85163409e+00 -2.79785827e-01  4.99209495e-01  5.63157466e-17]\n",
      " [-1.53050148e+00 -8.59720998e-01 -2.95344357e-01  1.98677596e-18]\n",
      " [-1.82765832e+00  1.00248116e+00  1.67294202e-01 -5.12151388e-17]]\n",
      "Variantes ratio: [7.95875170e-01 1.57412125e-01 4.67127051e-02 1.45313703e-33]\n",
      "[[ 0.77675541  0.09220805 -0.50728267 -0.36168079]\n",
      " [ 0.34124306 -0.83466163  0.06620692  0.42721164]\n",
      " [ 0.17379357 -0.21174902  0.69877102 -0.66081557]\n",
      " [-0.5        -0.5        -0.5        -0.5       ]]\n",
      "Singular values: [7.03403933e+00 3.12824965e+00 1.70411863e+00 3.00563057e-16]\n",
      "Number of features: m=  4\n",
      "Number of samples: n= 16\n"
     ]
    }
   ],
   "source": [
    "from sklearn.decomposition import PCA\n",
    "\n",
    "\n",
    "A_stand = np.zeros(A.shape)\n",
    "## Compute the correlation matrix:\n",
    "for i in range(A.shape[0]):\n",
    "    A_stand[i, :] = (A[i,:] - np.repeat(np.mean(A[i, :]), len(A[i, :])) ) /np.std(A[i,:])\n",
    "df = pd.DataFrame(A_stand)\n",
    "features = df.columns\n",
    "print(df.shape)\n",
    "#print(df)\n",
    "pca = PCA()\n",
    "components = pca.fit_transform(df[features])\n",
    "print(components)\n",
    "\n",
    "print('Variantes ratio:', pca.explained_variance_ratio_)\n",
    "\n",
    "print(pca.components_)\n",
    "print('Singular values:', pca.singular_values_)\n",
    "print('Number of features: m= ', pca.n_features_) \n",
    "print('Number of samples: n=', pca.n_samples_)"
   ]
  },
  {
   "cell_type": "code",
   "execution_count": 46,
   "id": "d886cd05-396f-4a51-be60-b0287a0d8572",
   "metadata": {},
   "outputs": [
    {
     "name": "stdout",
     "output_type": "stream",
     "text": [
      "(4, 16)\n",
      "[[ 3.91343999e+00 -2.00515966e+00 -2.20886758e-02  2.66340790e-16]\n",
      " [ 2.05084324e+00  2.74777842e+00  4.73438264e-03  2.66340790e-16]\n",
      " [-3.04145596e+00 -3.47831972e-01 -1.07441829e+00  2.66340790e-16]\n",
      " [-2.92282727e+00 -3.94786786e-01  1.09177258e+00  2.66340790e-16]]\n",
      "Variantes ratio: [7.24423890e-01 2.30014116e-01 4.55619939e-02 5.50874046e-33]\n",
      "[[ 0.18392994  0.29110068  0.05804136  0.33950575  0.18157973  0.23320572\n",
      "   0.38839686  0.14183886 -0.23094737 -0.36008956 -0.24335122 -0.04951404\n",
      "  -0.23238184 -0.13996517 -0.1609882  -0.4003615 ]\n",
      " [-0.12237829 -0.47363351 -0.31853454  0.3324145   0.06940381 -0.24950949\n",
      "   0.35595775 -0.13753889  0.01958081 -0.11649894  0.26305675  0.18339514\n",
      "  -0.02571817  0.05828466  0.39875342 -0.23703501]\n",
      " [ 0.16053818 -0.15076185  0.19289403  0.3705526  -0.04385214  0.12537029\n",
      "  -0.40621118 -0.07587516  0.27547648 -0.49499755  0.2814334  -0.23740183\n",
      "   0.24485948 -0.26487395 -0.01795279  0.04080199]\n",
      " [ 0.41793801 -0.59728197  0.46705307  0.02957707  0.28881857 -0.10350865\n",
      "   0.0215065   0.18682943 -0.08801349  0.18257444 -0.22038892 -0.02053883\n",
      "  -0.0132227   0.14147584 -0.09506091  0.02776627]]\n",
      "Singular values: [6.10854681e+00 3.44206263e+00 1.53194398e+00 5.32681580e-16]\n",
      "Number of features: m=  16\n",
      "Number of samples: n= 4\n"
     ]
    }
   ],
   "source": [
    "from sklearn.decomposition import PCA\n",
    "\n",
    "\n",
    "A_stand2 = np.zeros(A.T.shape)\n",
    "## Compute the correlation matrix:\n",
    "for i in range(A.T.shape[0]):\n",
    "    A_stand2[i, :] = (A.T[i,:] - np.repeat(np.mean(A.T[i, :]), len(A.T[i, :])) ) /np.std(A.T[i,:])\n",
    "df = pd.DataFrame(A_stand2)\n",
    "features = df.columns\n",
    "print(df.shape)\n",
    "#print(df)\n",
    "pca = PCA()\n",
    "components = pca.fit_transform(df[features])\n",
    "print(components)\n",
    "\n",
    "print('Variances ratio:', pca.explained_variance_ratio_)\n",
    "\n",
    "print(pca.components_)\n",
    "print('Singular values:', pca.singular_values_)\n",
    "print('Number of features: m= ', pca.n_features_) \n",
    "print('Number of samples: n=', pca.n_samples_)"
   ]
  },
  {
   "cell_type": "code",
   "execution_count": 42,
   "id": "f051faf6-6c9a-413d-a6f0-0468ccc196ca",
   "metadata": {},
   "outputs": [
    {
     "name": "stdout",
     "output_type": "stream",
     "text": [
      "Number of features: m=  4\n",
      "Number of samples: n= 16\n",
      "4.554367738890935e-16\n",
      "(16, 4) (4,) (4, 4)\n",
      "Singular values: [1.55893906 0.9804092  0.68166733 0.37925777]\n",
      "Eigenvalues of the covariance matrix: (variances) [2.43029099 0.96120221 0.46467035 0.14383645]\n",
      "(4, 4) (4, 16)\n",
      "(4, 16)\n",
      "The principal component with variance proprotion 0.608 is given by the direction: [-0.5229138   0.00807487 -0.84835246  0.08242604]\n",
      "The principal component with variance proprotion 0.240 is given by the direction: [-0.17713905  0.97675554  0.119866    0.01423081]\n",
      "The principal component with variance proprotion 0.116 is given by the direction: [ 0.59652595  0.13369503 -0.29507268  0.73431229]\n",
      "The principal component with variance proprotion 0.036 is given by the direction: [ 0.58252871  0.16735905 -0.42292122 -0.67363855]\n",
      "--------------\n",
      "The expression of the original variables in terms of the principal components is given as follows:\n",
      "[[ 9.65146619e-02  6.00274820e+00 -7.06768768e+00  7.40929808e-02]\n",
      " [-1.83370442e+00  3.58889887e+00 -7.01485703e+00  7.41022193e-01]\n",
      " [ 1.45270837e+00  5.32704674e+00 -7.90554757e+00  1.20535916e-01]\n",
      " [-1.51043025e+00  7.51343531e+00 -4.96653665e+00 -7.74857473e-01]\n",
      " [ 9.94903384e-01  8.39908326e+00 -8.68937471e+00  9.79966681e-01]\n",
      " [-9.05400956e-01  4.72493859e+00 -6.46955978e+00 -8.11578140e-04]\n",
      " [-2.07896172e+00  7.31241223e+00 -4.41576689e+00  1.30673191e+00]\n",
      " [ 6.93040615e-01  6.13644323e+00 -7.36276036e+00  8.08405273e-01]\n",
      " [ 5.20242006e+00  6.88168583e+00 -6.67661198e+00  8.83610920e-03]\n",
      " [ 6.03399429e+00  4.71100194e+00 -4.66886929e+00  1.89711179e+00]\n",
      " [ 5.54819482e+00  7.85036650e+00 -5.70839351e+00 -5.93591166e-02]\n",
      " [ 3.81631161e+00  8.81768263e+00 -8.00573636e+00  1.61010065e+00]\n",
      " [ 4.72341825e+00  5.59580134e+00 -5.23013162e+00 -1.48494487e-01]\n",
      " [ 4.03736264e+00  6.54696773e+00 -5.83076954e+00  1.35611320e+00]\n",
      " [ 4.30952524e+00  7.37387850e+00 -3.71912594e+00  4.71179644e-01]\n",
      " [ 6.67613791e+00  5.05379491e+00 -6.36306419e+00  6.32260740e-01]]\n"
     ]
    }
   ],
   "source": [
    "VV, lamb, PCA = computePCA_corr(A.T, corr = True)"
   ]
  },
  {
   "cell_type": "code",
   "execution_count": 69,
   "id": "0450fa73-3c48-4593-991b-33cc28beaaea",
   "metadata": {},
   "outputs": [],
   "source": [
    "def computePCA_corr(A, corr = False):\n",
    "    n = A.shape[1]\n",
    "    m = A.shape[0]\n",
    "    r = np.linalg.matrix_rank(A)\n",
    "    \n",
    "    print('Number of features: m= ', m) \n",
    "    print('Number of samples: n=', n)\n",
    "    \n",
    "    if corr:\n",
    "        A_stand = np.zeros(A.shape)\n",
    "        ## Compute the correlation matrix:\n",
    "        for i in range(m):\n",
    "            A_stand[i, :] = (A[i,:] - np.repeat(np.mean(A[i, :]), len(A[i, :])) ) /np.std(A[i,:])\n",
    "\n",
    "        #print(A_stand)\n",
    "\n",
    "        ## now we compute the covariance matrix of the standarized matrix:\n",
    "        Y = 1/np.sqrt(n)* A_stand.T\n",
    "\n",
    "        ## checking that the matrix corresponds to the correlation matrix:\n",
    "        #print(np.corrcoef(A))\n",
    "        #print(np.matmul(Y.T, Y))\n",
    "        print(np.linalg.norm(np.corrcoef(A) - np.matmul(Y.T, Y)))\n",
    "    else: \n",
    "        Y = 1/np.sqrt(n-1)* A.T\n",
    "    \n",
    "    U,s,V = svd(Y,full_matrices=False)\n",
    "    #reconst_matrix = np.dot(U[:,:k],np.dot(np.diag(s[:k]),V[:k,:]))\n",
    "    print(U.shape, s.shape, V.shape)\n",
    "    \n",
    "    ## here V = V^t, is the output of the svd function\n",
    "    \n",
    "    eigvals = s**2\n",
    "    print('Singular values:', s)\n",
    "    print('Eigenvalues of the covariance matrix: (variances)', eigvals)\n",
    "    propV = np.zeros(s.shape)\n",
    "    totalV = np.sum(eigvals)\n",
    "    for i in range(s.shape[0]):\n",
    "        propV[i] = eigvals[i]/totalV\n",
    "    \n",
    "    print(V.shape, A.shape)\n",
    "    \n",
    "    if corr:\n",
    "        PCA = np.matmul(V, A_stand)\n",
    "    else:\n",
    "        PCA = np.matmul(V, A)\n",
    "    print(PCA.shape)\n",
    "    \n",
    "    #PCA = np.matmul(V, A)\n",
    "    #print(PCA.shape)\n",
    "    \n",
    "    ## Each column of V.T = V, or each row of V=V^t\n",
    "    for i in range(len(propV)):\n",
    "        print('The principal component with variance proprotion {:.3f}'.format(propV[i])+' is given by the direction:', V.T[:, i])  \n",
    "    \n",
    "    print('--------------')\n",
    "    print('The expression of the original variables in terms of the principal components is given as follows:')\n",
    "\n",
    "    print(PCA.T)\n",
    "    #for i in range(PCA.shape[]):\n",
    "    #    print(PCA[:, i])\n",
    "        \n",
    "    return PCA, propV, V\n"
   ]
  },
  {
   "cell_type": "code",
   "execution_count": 70,
   "id": "581deee9-256c-4333-8234-900914b57921",
   "metadata": {},
   "outputs": [
    {
     "name": "stdout",
     "output_type": "stream",
     "text": [
      "[[6. 5. 3. 4.]\n",
      " [7. 3. 2. 2.]\n",
      " [6. 4. 4. 5.]\n",
      " [5. 7. 1. 3.]\n",
      " [7. 7. 5. 5.]\n",
      " [6. 4. 2. 3.]\n",
      " [5. 7. 2. 1.]\n",
      " [6. 5. 4. 4.]\n",
      " [3. 5. 6. 7.]\n",
      " [1. 3. 7. 5.]\n",
      " [2. 6. 6. 7.]\n",
      " [5. 7. 7. 6.]\n",
      " [2. 4. 5. 6.]\n",
      " [3. 5. 6. 5.]\n",
      " [1. 6. 5. 5.]\n",
      " [2. 3. 7. 7.]]\n",
      "(16, 4)\n",
      "Number of features: m=  4\n",
      "Number of samples: n= 16\n",
      "4.554367738890935e-16\n",
      "(16, 4) (4,) (4, 4)\n",
      "Singular values: [1.55893906 0.9804092  0.68166733 0.37925777]\n",
      "Eigenvalues of the covariance matrix: (variances) [2.43029099 0.96120221 0.46467035 0.14383645]\n",
      "(4, 4) (4, 16)\n",
      "(4, 16)\n",
      "The principal component with variance proprotion 0.608 is given by the direction: [-0.5229138  -0.17713905  0.59652595  0.58252871]\n",
      "The principal component with variance proprotion 0.240 is given by the direction: [0.00807487 0.97675554 0.13369503 0.16735905]\n",
      "The principal component with variance proprotion 0.116 is given by the direction: [-0.84835246  0.119866   -0.29507268 -0.42292122]\n",
      "The principal component with variance proprotion 0.036 is given by the direction: [ 0.08242604  0.01423081  0.73431229 -0.67363855]\n",
      "--------------\n",
      "The expression of the original variables in terms of the principal components is given as follows:\n",
      "[[-1.14520929 -0.20585347 -0.35127392 -0.22821265]\n",
      " [-2.13579331 -1.82692136 -0.28494506  0.19505665]\n",
      " [-0.3753926  -0.72038791 -0.832809   -0.25015836]\n",
      " [-2.09369303  0.91650704  0.7763731  -0.61540022]\n",
      " [-0.69056863  1.39486696 -1.14474846  0.19864877]\n",
      " [-1.66810444 -1.0528595  -0.03682508 -0.22610387]\n",
      " [-2.46227084  0.7911549   1.11523239  0.54624598]\n",
      " [-0.83716461 -0.13681365 -0.50364879  0.15098459]\n",
      " [ 1.55237366  0.28114087 -0.31466795 -0.38385788]\n",
      " [ 1.93639418 -1.21356043  0.677493    0.6782424 ]\n",
      " [ 1.68175129  0.95800676  0.17906912 -0.41379391]\n",
      " [ 0.76950876  1.62233387 -0.8747274   0.48610976]\n",
      " [ 1.28231691 -0.5697695   0.40997484 -0.4216036 ]\n",
      " [ 0.87575117  0.08674892  0.17656622  0.39859108]\n",
      " [ 0.94992252  0.69067064  1.23287211 -0.05039669]\n",
      " [ 2.36017827 -1.01526413 -0.22393512 -0.06435206]]\n"
     ]
    }
   ],
   "source": [
    "print(A)\n",
    "print(A.shape)\n",
    "VV, lamb, PCA = computePCA_corr(A.T, corr = True)"
   ]
  },
  {
   "cell_type": "code",
   "execution_count": 40,
   "id": "c9ca74aa-f85f-4b2c-8117-7b212d16be1d",
   "metadata": {},
   "outputs": [
    {
     "name": "stdout",
     "output_type": "stream",
     "text": [
      "[[6. 5. 3. 4.]\n",
      " [7. 3. 2. 2.]\n",
      " [6. 4. 4. 5.]\n",
      " [5. 7. 1. 3.]\n",
      " [7. 7. 5. 5.]\n",
      " [6. 4. 2. 3.]\n",
      " [5. 7. 2. 1.]\n",
      " [6. 5. 4. 4.]\n",
      " [3. 5. 6. 7.]\n",
      " [1. 3. 7. 5.]\n",
      " [2. 6. 6. 7.]\n",
      " [5. 7. 7. 6.]\n",
      " [2. 4. 5. 6.]\n",
      " [3. 5. 6. 5.]\n",
      " [1. 6. 5. 5.]\n",
      " [2. 3. 7. 7.]]\n",
      "(16, 4)\n",
      "Number of features: m=  4\n",
      "Number of samples: n= 16\n",
      "(16, 4) (4,) (4, 4)\n",
      "Singular values: [9.67717926 2.98740437 1.38390184 0.7158438 ]\n",
      "Eigenvalues of the covariance matrix: (variances) [93.64779846  8.92458488  1.91518432  0.51243235]\n",
      "(4, 4) (4, 16)\n",
      "(4, 16)\n",
      "The principal component with variance proprotion 0.892 is given by the direction: [-0.4390472   0.72389617  0.52933835  0.05488905]\n",
      "The principal component with variance proprotion 0.085 is given by the direction: [-0.544242    0.25276353 -0.79957979  0.02415363]\n",
      "The principal component with variance proprotion 0.018 is given by the direction: [-0.49623305 -0.49926238  0.20052205  0.6813815 ]\n",
      "The principal component with variance proprotion 0.005 is given by the direction: [-0.51457844 -0.4035121   0.20065885 -0.72946764]\n",
      "--------------\n",
      "The expression of the original variables in terms of the principal components is given as follows:\n",
      "[[ -8.90250607   2.49535915   0.58233267  -0.42362365]\n",
      " [ -6.72767935   4.02001483   2.10899085   0.36051193]\n",
      " [ -9.36907556   1.33982115   1.78309337  -0.49586342]\n",
      " [ -8.04489834   3.67902689  -2.14786822  -1.0635008 ]\n",
      " [-11.9370818    2.32274553   0.11421438   0.31286801]\n",
      " [ -7.34745259   3.14537009   0.98073156  -0.39969113]\n",
      " [ -7.51197452   3.98678871  -2.34866387   1.07681599]\n",
      " [ -9.39873912   1.99609677   0.78285472   0.25775785]\n",
      " [-10.61779893  -2.38465278   0.19786034  -0.73254922]\n",
      " [ -8.11829671  -4.03021036   0.53754758   1.24968222]\n",
      " [-10.72299373  -2.85578542  -1.1310578   -0.76328464]\n",
      " [-12.56603193  -0.52708366  -0.34275935   0.83638528]\n",
      " [ -8.62369825  -2.45853801   0.06692089  -0.76350575]\n",
      " [ -9.58864205  -1.57762858  -0.20345736   0.72638607]\n",
      " [ -8.75855661  -2.27339502  -2.2622359   -0.0406199 ]\n",
      " [ -9.58650078  -4.11333839   1.46820364  -0.15436402]]\n"
     ]
    }
   ],
   "source": [
    "print(A)\n",
    "print(A.shape)\n",
    "VV, lamb, PCA = computePCA_corr(A.T, corr = False)"
   ]
  },
  {
   "cell_type": "code",
   "execution_count": 23,
   "id": "709ed331-aa34-4eca-b237-329891648d86",
   "metadata": {},
   "outputs": [
    {
     "name": "stdout",
     "output_type": "stream",
     "text": [
      "(16, 4) (4,) (4, 4)\n",
      "[9.67717926 2.98740437 1.38390184 0.7158438 ] [93.64779846  8.92458488  1.91518432  0.51243235]\n",
      "(4, 4) (4, 16)\n",
      "(4, 16)\n",
      "The principal component with variance proprotion 0.892 is given by the direction: [-0.4390472   0.72389617  0.52933835  0.05488905]\n",
      "The principal component with variance proprotion 0.085 is given by the direction: [-0.544242    0.25276353 -0.79957979  0.02415363]\n",
      "The principal component with variance proprotion 0.018 is given by the direction: [-0.49623305 -0.49926238  0.20052205  0.6813815 ]\n",
      "The principal component with variance proprotion 0.005 is given by the direction: [-0.51457844 -0.4035121   0.20065885 -0.72946764]\n",
      "--------------\n",
      "The expression of the original variables in terms of the principal components is given as follows:\n",
      "[[ -8.90250607   2.49535915   0.58233267  -0.42362365]\n",
      " [ -6.72767935   4.02001483   2.10899085   0.36051193]\n",
      " [ -9.36907556   1.33982115   1.78309337  -0.49586342]\n",
      " [ -8.04489834   3.67902689  -2.14786822  -1.0635008 ]\n",
      " [-11.9370818    2.32274553   0.11421438   0.31286801]\n",
      " [ -7.34745259   3.14537009   0.98073156  -0.39969113]\n",
      " [ -7.51197452   3.98678871  -2.34866387   1.07681599]\n",
      " [ -9.39873912   1.99609677   0.78285472   0.25775785]\n",
      " [-10.61779893  -2.38465278   0.19786034  -0.73254922]\n",
      " [ -8.11829671  -4.03021036   0.53754758   1.24968222]\n",
      " [-10.72299373  -2.85578542  -1.1310578   -0.76328464]\n",
      " [-12.56603193  -0.52708366  -0.34275935   0.83638528]\n",
      " [ -8.62369825  -2.45853801   0.06692089  -0.76350575]\n",
      " [ -9.58864205  -1.57762858  -0.20345736   0.72638607]\n",
      " [ -8.75855661  -2.27339502  -2.2622359   -0.0406199 ]\n",
      " [ -9.58650078  -4.11333839   1.46820364  -0.15436402]]\n"
     ]
    }
   ],
   "source": [
    "import numpy as np\n",
    "from numpy.linalg import svd\n",
    "\n",
    "\n",
    "VV, lamb, PCA = computePCA_corr(A.T)"
   ]
  },
  {
   "cell_type": "code",
   "execution_count": 76,
   "id": "f22988c8-6642-4916-b657-f050e15f622e",
   "metadata": {},
   "outputs": [
    {
     "name": "stdout",
     "output_type": "stream",
     "text": [
      "Number of features: m=  4\n",
      "Number of samples: n= 16\n",
      "4.554367738890935e-16\n",
      "(16, 4) (4,) (4, 4)\n",
      "Singular values: [1.55893906 0.9804092  0.68166733 0.37925777]\n",
      "Eigenvalues of the covariance matrix: (variances) [2.43029099 0.96120221 0.46467035 0.14383645]\n",
      "(4, 4) (4, 16)\n",
      "(4, 16)\n",
      "The principal component with variance proprotion 0.608 is given by the direction: [-0.5229138  -0.17713905  0.59652595  0.58252871]\n",
      "The principal component with variance proprotion 0.240 is given by the direction: [0.00807487 0.97675554 0.13369503 0.16735905]\n",
      "The principal component with variance proprotion 0.116 is given by the direction: [-0.84835246  0.119866   -0.29507268 -0.42292122]\n",
      "The principal component with variance proprotion 0.036 is given by the direction: [ 0.08242604  0.01423081  0.73431229 -0.67363855]\n",
      "--------------\n",
      "The expression of the original variables in terms of the principal components is given as follows:\n",
      "[[-1.14520929 -0.20585347 -0.35127392 -0.22821265]\n",
      " [-2.13579331 -1.82692136 -0.28494506  0.19505665]\n",
      " [-0.3753926  -0.72038791 -0.832809   -0.25015836]\n",
      " [-2.09369303  0.91650704  0.7763731  -0.61540022]\n",
      " [-0.69056863  1.39486696 -1.14474846  0.19864877]\n",
      " [-1.66810444 -1.0528595  -0.03682508 -0.22610387]\n",
      " [-2.46227084  0.7911549   1.11523239  0.54624598]\n",
      " [-0.83716461 -0.13681365 -0.50364879  0.15098459]\n",
      " [ 1.55237366  0.28114087 -0.31466795 -0.38385788]\n",
      " [ 1.93639418 -1.21356043  0.677493    0.6782424 ]\n",
      " [ 1.68175129  0.95800676  0.17906912 -0.41379391]\n",
      " [ 0.76950876  1.62233387 -0.8747274   0.48610976]\n",
      " [ 1.28231691 -0.5697695   0.40997484 -0.4216036 ]\n",
      " [ 0.87575117  0.08674892  0.17656622  0.39859108]\n",
      " [ 0.94992252  0.69067064  1.23287211 -0.05039669]\n",
      " [ 2.36017827 -1.01526413 -0.22393512 -0.06435206]]\n"
     ]
    }
   ],
   "source": [
    "\n",
    "VV, lamb, PCA = computePCA_corr(A.T, corr = True)"
   ]
  },
  {
   "cell_type": "code",
   "execution_count": 74,
   "id": "ebcea5de-2a36-4b35-8ed5-462661695563",
   "metadata": {},
   "outputs": [
    {
     "data": {
      "text/plain": [
       "(4, 16)"
      ]
     },
     "execution_count": 74,
     "metadata": {},
     "output_type": "execute_result"
    }
   ],
   "source": [
    "PCA.shape"
   ]
  },
  {
   "cell_type": "code",
   "execution_count": null,
   "id": "f702cd80-10e5-4fe8-93df-cb97569e07ae",
   "metadata": {},
   "outputs": [],
   "source": []
  }
 ],
 "metadata": {
  "kernelspec": {
   "display_name": "Python 3 (ipykernel)",
   "language": "python",
   "name": "python3"
  },
  "language_info": {
   "codemirror_mode": {
    "name": "ipython",
    "version": 3
   },
   "file_extension": ".py",
   "mimetype": "text/x-python",
   "name": "python",
   "nbconvert_exporter": "python",
   "pygments_lexer": "ipython3",
   "version": "3.9.7"
  }
 },
 "nbformat": 4,
 "nbformat_minor": 5
}
