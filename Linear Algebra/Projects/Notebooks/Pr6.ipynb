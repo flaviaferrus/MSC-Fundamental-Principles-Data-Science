{
 "cells": [
  {
   "cell_type": "markdown",
   "id": "c80dc5ce-4e96-45ab-9d64-326932c8d1a1",
   "metadata": {},
   "source": [
    "## Pràctica 6: QR iteration \n",
    "\n",
    "### Ex4: Convergence \n",
    "\n",
    "When we do have convex eigenvalues it does not converges to a upper triangular matrix. There are cases in which it does work but there are many examples in which it does not. It converges iff the theorem holds: \n",
    "\n",
    "*The QR-iteration applied to H upper Hessenberg (unreduced) matrix converges if, and only if, among each set of eigenvalues of H with equal modulus there are at most two of even multiplicity and at most two of odd multiplicity*\n",
    "\n",
    "### Ex5: \n",
    "Now we have eigvals: 1, -i, i, 0. So we have 3 eigenvalues with the same abs value, and let's check if it converges. If we apply the method to this matrix, we have a quite fast convergence around the eigval 0. However we have a 3 $\\times$ 3 block in which the method does not converge around the aigenvalues with same modulus and highier multiplicity. \n",
    "\n",
    "### Ex6: \n",
    "\n",
    "There are tricks to study the shift strategies. Francis focused on the rate of convergence. \n",
    "\n",
    "Consider the QR iteration with no shift:\n",
    "\\begin{align*}\n",
    "H_1 &= Q_1 R_1 \\\\\n",
    "H_2 &:= R_1 Q_1 = Q_2 R_2\\\\\n",
    "& \\vdots\n",
    "\\end{align*}"
   ]
  },
  {
   "cell_type": "markdown",
   "id": "a754a4d8-94f6-4821-9580-e4c707e40c64",
   "metadata": {},
   "source": [
    "We have $H_1 \\sim H_2$. We have $H_k \\rightarrow $ Schur NF under conditions.\n",
    "\n",
    "Consider now the **single shift**: \n",
    "\\begin{align*}\n",
    "H_k - \\mu I &= Q_k R_k \\\\\n",
    "H_{k+1} &:= R_k Q_k  + \\mu I = Q_2 R_2\n",
    "\\end{align*}\n",
    "$(H_k)_k \\rightarrow $ Schur NF (normal form) (Sometimes), when $k \\rightarrow \\infty$. Then we have $H_k \\sim H_{k+1}$, similar matrices. More explicitly, we have:\n",
    "$$\n",
    "H_{k+1} = R_k Q_k  + \\mu I = \\underbrace{Q_k^T(H_k - \\mu I)}_{R_k}Q_k + \\mu I  = Q_k^TH_k Q_k - \\mu I + \\mu I\n",
    "$$\n",
    "therefore, they are similar matrices, since $Q_k$ are orthonormal matrices. \n",
    "\n",
    "Let's apply now this theory to the exercise 7\n",
    "\n",
    "### Exercise 7\n",
    "\n",
    "If we shift exactly by $\\mu=$ and eigenvalue, then the method converges exactly in one step. If not, it is extremely fast when we use an eigenvalue. We can use this algorithm by hand or theoretically since it does not need a lot of computations and it is quite fast. \n",
    "\n",
    "The smallest eigenvalue is real, then we use an approximation of this eigenvalue to shift the model of the QR iteration. Consider the case in which we have again complex eigenvalues. Then we have a 2 block with no covnergence, then the approximation of the eigenvalue is not correct and this is why the algorithm does not converge. \n",
    "\n",
    "Now Francis what tried is to apply a **double shift**:\n",
    "\\begin{align*}\n",
    "H_k - a_1 I &= Q_k R_k \\\\\n",
    "H_{k+1} &:= R_k Q_k  + a_1 I \\\\\n",
    "H_{k+1} - a_2 I &= Q_{k+1} R_{k+1} \\\\\n",
    "H_{k+2} &:= R_{k+1} Q_{k+1}  + a_2 I\n",
    "\\end{align*}"
   ]
  },
  {
   "cell_type": "markdown",
   "id": "c9d0ee38-d6b3-4b9d-ac23-bbe00c430dc9",
   "metadata": {},
   "source": [
    "This method converges to the Schur Normal Form. For every matrix there is a way to take a shift that this converges. **Always forsuitable $a_1, a_2$!!**.\n",
    "\n",
    "We give the algorithm a matrix, we iterate, after a certain amount of iterations we check whether the first block converges, it goes to the first eigval and the next coefficient on the left goes to cero, then we apply the shift. If it is not 0 we keep iterting until it does. Then we move to the 2$\\times$2 block matrix and try, and keep checking. \n",
    "\n",
    "It may take some time, because we are trying different numbers and conducting different iterations, but it will converge. "
   ]
  },
  {
   "cell_type": "code",
   "execution_count": null,
   "id": "630066bd-b87e-4b59-9053-ccd3c5fe4b5f",
   "metadata": {},
   "outputs": [],
   "source": []
  }
 ],
 "metadata": {
  "kernelspec": {
   "display_name": "Python 3 (ipykernel)",
   "language": "python",
   "name": "python3"
  },
  "language_info": {
   "codemirror_mode": {
    "name": "ipython",
    "version": 3
   },
   "file_extension": ".py",
   "mimetype": "text/x-python",
   "name": "python",
   "nbconvert_exporter": "python",
   "pygments_lexer": "ipython3",
   "version": "3.9.7"
  }
 },
 "nbformat": 4,
 "nbformat_minor": 5
}
