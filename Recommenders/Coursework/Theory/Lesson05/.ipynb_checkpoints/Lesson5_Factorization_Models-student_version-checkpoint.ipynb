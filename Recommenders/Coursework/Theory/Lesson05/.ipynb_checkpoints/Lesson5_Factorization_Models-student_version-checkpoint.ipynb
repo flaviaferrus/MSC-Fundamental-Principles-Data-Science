{
 "cells": [
  {
   "cell_type": "markdown",
   "metadata": {},
   "source": [
    "<small><i>Updated February 2023 - This notebook was created by [Santi Seguí](https://ssegui.github.io/). </i></small>"
   ]
  },
  {
   "cell_type": "code",
   "execution_count": 1,
   "metadata": {},
   "outputs": [
    {
     "data": {
      "text/html": [
       "<style>.container { width:100% !important; }</style>"
      ],
      "text/plain": [
       "<IPython.core.display.HTML object>"
      ]
     },
     "metadata": {},
     "output_type": "display_data"
    }
   ],
   "source": [
    "from IPython.core.display import display, HTML\n",
    "display(HTML(\"<style>.container { width:100% !important; }</style>\"))"
   ]
  },
  {
   "cell_type": "markdown",
   "metadata": {},
   "source": [
    "\n",
    "## Lesson 5: Collaborative-based recommender systems: Factorization MODELS"
   ]
  },
  {
   "cell_type": "markdown",
   "metadata": {},
   "source": [
    "> when $k=2$ we get a 2d plot, in whinch similar movies are plotted together. "
   ]
  },
  {
   "cell_type": "markdown",
   "metadata": {},
   "source": [
    "Matrix factorization is a simple embedding model, which decomposes the user-item intraction matrix, $R \\in R^{m\\times n}$ matrix, where $m$ is the number of users and $n$ the number of items, into the product of two lower dimensionality rectangular matrice. The the goal of the factorization models is to learn:\n",
    "* A user embedding (or user latent factor) $P \\in R^{m\\times k}$, where row $i$ is the embedding of user $i$.\n",
    "* A item embedding (or item latent factor) $Q \\in R^{n\\times k}$, where row $j$ is the embedding of user $j$.\n",
    "\n",
    "![alt factorization models](https://miro.medium.com/max/988/1*nIVWl2ROaxOY23hHajkTTg.png)\n",
    "\n",
    "These methods became really popular due to the shown efficiency in the Netflix Prize Challenge. \n",
    "\n",
    "There are several variants of these methods:\n",
    "* SVD \n",
    "* Vanilla Factorization Matrix (also knwon as Funk SVD)\n",
    "* Vanilla Factorization Matrix with biases \n",
    "* SVD++\n",
    "* ...\n",
    "\n",
    "In these notewook we will the application of these method to the MovieLens dataset."
   ]
  },
  {
   "cell_type": "code",
   "execution_count": 2,
   "metadata": {},
   "outputs": [],
   "source": [
    "from tqdm import tqdm"
   ]
  },
  {
   "cell_type": "code",
   "execution_count": 3,
   "metadata": {},
   "outputs": [],
   "source": [
    "def evaluate(predict_f,data_train,data_test):\n",
    "    \"\"\" RMSE-based predictive performance evaluation with pandas. \"\"\"\n",
    "    ids_to_estimate = zip(data_test.user_id, data_test.movie_id)\n",
    "    list_users = set(data_train.user_id)\n",
    "    estimated = np.array([predict_f(u,i) if u in list_users else 3 for (u,i) in ids_to_estimate ])\n",
    "    real = data_test.rating.values\n",
    "    return compute_rmse(estimated, real)\n",
    "\n",
    "def compute_rmse(y_pred, y_true):\n",
    "    \"\"\" Compute Root Mean Squared Error. \"\"\"\n",
    "    return np.sqrt(np.mean(np.power(y_pred - y_true, 2)))\n",
    "\n",
    "def precision(recommended_items, relevant_items):\n",
    "    is_relevant = np.in1d(recommended_items, relevant_items, assume_unique=True)\n",
    "    precision_score = np.sum(is_relevant, dtype=np.float32) / len(is_relevant)\n",
    "    \n",
    "    return precision_score\n",
    "\n",
    "def recall(recommended_items, relevant_items):  \n",
    "    is_relevant = np.in1d(recommended_items, relevant_items, assume_unique=True)\n",
    "    recall_score = np.sum(is_relevant, dtype=np.float32) / relevant_items.shape[0]\n",
    "    \n",
    "    return recall_score\n",
    "\n",
    "def AP(recommended_items, relevant_items):\n",
    "   \n",
    "    is_relevant = np.in1d(recommended_items, relevant_items, assume_unique=True)\n",
    "    # Cumulative sum: precision at 1, at 2, at 3 ...\n",
    "    p_at_k = is_relevant * np.cumsum(is_relevant, dtype=np.float32) / (1 + np.arange(is_relevant.shape[0]))\n",
    "    ap_score = np.sum(p_at_k) / np.min([relevant_items.shape[0], is_relevant.shape[0]])\n",
    "\n",
    "    return ap_score\n",
    "\n",
    "## Divide the data in two sets: training and test\n",
    "def assign_to_set(df):\n",
    "    sampled_ids = np.random.choice(df.index,\n",
    "                                   size=np.int64(np.ceil(df.index.size * 0.2)),\n",
    "                                   replace=False)\n",
    "    df.loc[sampled_ids, 'for_testing'] = True\n",
    "    return df\n",
    "\n",
    "def evaluate_algorithm_top(test, recommender_object, at=25, thr_relevant = 0.85):\n",
    "    \n",
    "    cumulative_precision = 0.0\n",
    "    cumulative_recall = 0.0\n",
    "    cumulative_AP = 0.0\n",
    "    \n",
    "    num_eval = 0\n",
    "\n",
    "\n",
    "    for user_id in tqdm(test.user_id.unique()):\n",
    "        \n",
    "        relevant_items = test[test.user_id==user_id]\n",
    "        thr = np.quantile(relevant_items.rating,thr_relevant)\n",
    "        relevant_items = np.array(relevant_items[relevant_items.rating >=thr].movie_id.values)\n",
    "        if len(relevant_items)>0:\n",
    "            \n",
    "            recommended_items = recommender_object.predict_top(user_id, at=at)\n",
    "            num_eval+=1\n",
    "\n",
    "            cumulative_precision += precision(recommended_items, relevant_items)\n",
    "            cumulative_recall += recall(recommended_items, relevant_items)\n",
    "            cumulative_AP += AP(recommended_items, relevant_items)\n",
    "            \n",
    "    cumulative_precision /= num_eval\n",
    "    cumulative_recall /= num_eval\n",
    "    MAP = cumulative_AP / num_eval\n",
    "    \n",
    "    print(\"Recommender results are: Precision = {:.4f}, Recall = {:.4f}, MAP = {:.4f}\".format(\n",
    "        cumulative_precision, cumulative_recall, MAP)) \n",
    "    \n",
    "    "
   ]
  },
  {
   "cell_type": "code",
   "execution_count": 4,
   "metadata": {},
   "outputs": [
    {
     "data": {
      "application/javascript": [
       "IPython.notebook.set_autosave_interval(150000)"
      ]
     },
     "metadata": {},
     "output_type": "display_data"
    },
    {
     "name": "stdout",
     "output_type": "stream",
     "text": [
      "Autosaving every 150 seconds\n",
      "Full DB has 1000209 ratings\n",
      "Full DB has  6040  users\n",
      "Full DB has  3706  movies\n",
      "Training data_set has 797758 ratings\n",
      "Test data set has 202451 ratings\n"
     ]
    }
   ],
   "source": [
    "%autosave 150\n",
    "%matplotlib inline\n",
    "import pandas as pd\n",
    "import numpy as np\n",
    "import math\n",
    "import matplotlib.pylab as plt\n",
    "\n",
    "# Load Data set\n",
    "u_cols = ['user_id', 'age', 'sex', 'occupation', 'zip_code']\n",
    "users = pd.read_csv('data/ml-1m/users.dat', sep='::', names=u_cols, engine='python')\n",
    "\n",
    "r_cols = ['user_id', 'movie_id', 'rating', 'unix_timestamp']\n",
    "ratings = pd.read_csv('data/ml-1m/ratings.dat', sep='::', names=r_cols, engine='python')\n",
    "\n",
    "# the movies file contains columns indicating the movie's genres\n",
    "# let's only load the first three columns of the file with usecols\n",
    "m_cols = ['movie_id', 'title', 'release_date']\n",
    "movies = pd.read_csv('data/ml-1m/movies.dat', sep='::', names=m_cols, usecols=range(3), encoding='latin-1', engine='python')\n",
    "\n",
    "# Construcció del DataFrame\n",
    "data = pd.merge(pd.merge(ratings, users), movies)\n",
    "data = data[['user_id','title', 'movie_id','rating','release_date','sex','age']]\n",
    "\n",
    "\n",
    "print(\"Full DB has \"+ str(data.shape[0]) +\" ratings\")\n",
    "print(\"Full DB has \", data.user_id.nunique(),\" users\")\n",
    "print(\"Full DB has \", data.movie_id.nunique(), \" movies\")\n",
    "data.head()\n",
    "\n",
    "\n",
    "## DIVIDE THE DATA INTO TRAINING AND TEST SET\n",
    "data['for_testing'] = False\n",
    "grouped = data.groupby('user_id', group_keys=False).apply(assign_to_set)\n",
    "data_train = data[grouped.for_testing == False]\n",
    "data_test = data[grouped.for_testing == True]\n",
    "\n",
    "\n",
    "print(\"Training data_set has \"+ str(data_train.shape[0]) +\" ratings\")\n",
    "print(\"Test data set has \"+ str(data_test.shape[0]) +\" ratings\")"
   ]
  },
  {
   "cell_type": "code",
   "execution_count": 5,
   "metadata": {},
   "outputs": [
    {
     "data": {
      "image/png": "[encoded data removed]",
      "text/plain": [
       "<Figure size 432x288 with 1 Axes>"
      ]
     },
     "metadata": {
      "needs_background": "light"
     },
     "output_type": "display_data"
    }
   ],
   "source": [
    "plt.hist(data.rating,bins=5)\n",
    "plt.show()"
   ]
  },
  {
   "cell_type": "code",
   "execution_count": 6,
   "metadata": {},
   "outputs": [
    {
     "data": {
      "text/html": [
       "<div>\n",
       "<style scoped>\n",
       "    .dataframe tbody tr th:only-of-type {\n",
       "        vertical-align: middle;\n",
       "    }\n",
       "\n",
       "    .dataframe tbody tr th {\n",
       "        vertical-align: top;\n",
       "    }\n",
       "\n",
       "    .dataframe thead th {\n",
       "        text-align: right;\n",
       "    }\n",
       "</style>\n",
       "<table border=\"1\" class=\"dataframe\">\n",
       "  <thead>\n",
       "    <tr style=\"text-align: right;\">\n",
       "      <th></th>\n",
       "      <th>user_id</th>\n",
       "      <th>title</th>\n",
       "      <th>movie_id</th>\n",
       "      <th>release_date</th>\n",
       "      <th>sex</th>\n",
       "      <th>age</th>\n",
       "      <th>for_testing</th>\n",
       "    </tr>\n",
       "    <tr>\n",
       "      <th>rating</th>\n",
       "      <th></th>\n",
       "      <th></th>\n",
       "      <th></th>\n",
       "      <th></th>\n",
       "      <th></th>\n",
       "      <th></th>\n",
       "      <th></th>\n",
       "    </tr>\n",
       "  </thead>\n",
       "  <tbody>\n",
       "    <tr>\n",
       "      <th>1</th>\n",
       "      <td>56174</td>\n",
       "      <td>56174</td>\n",
       "      <td>56174</td>\n",
       "      <td>56174</td>\n",
       "      <td>56174</td>\n",
       "      <td>56174</td>\n",
       "      <td>56174</td>\n",
       "    </tr>\n",
       "    <tr>\n",
       "      <th>2</th>\n",
       "      <td>107557</td>\n",
       "      <td>107557</td>\n",
       "      <td>107557</td>\n",
       "      <td>107557</td>\n",
       "      <td>107557</td>\n",
       "      <td>107557</td>\n",
       "      <td>107557</td>\n",
       "    </tr>\n",
       "    <tr>\n",
       "      <th>3</th>\n",
       "      <td>261197</td>\n",
       "      <td>261197</td>\n",
       "      <td>261197</td>\n",
       "      <td>261197</td>\n",
       "      <td>261197</td>\n",
       "      <td>261197</td>\n",
       "      <td>261197</td>\n",
       "    </tr>\n",
       "    <tr>\n",
       "      <th>4</th>\n",
       "      <td>348971</td>\n",
       "      <td>348971</td>\n",
       "      <td>348971</td>\n",
       "      <td>348971</td>\n",
       "      <td>348971</td>\n",
       "      <td>348971</td>\n",
       "      <td>348971</td>\n",
       "    </tr>\n",
       "    <tr>\n",
       "      <th>5</th>\n",
       "      <td>226310</td>\n",
       "      <td>226310</td>\n",
       "      <td>226310</td>\n",
       "      <td>226310</td>\n",
       "      <td>226310</td>\n",
       "      <td>226310</td>\n",
       "      <td>226310</td>\n",
       "    </tr>\n",
       "  </tbody>\n",
       "</table>\n",
       "</div>"
      ],
      "text/plain": [
       "        user_id   title  movie_id  release_date     sex     age  for_testing\n",
       "rating                                                                      \n",
       "1         56174   56174     56174         56174   56174   56174        56174\n",
       "2        107557  107557    107557        107557  107557  107557       107557\n",
       "3        261197  261197    261197        261197  261197  261197       261197\n",
       "4        348971  348971    348971        348971  348971  348971       348971\n",
       "5        226310  226310    226310        226310  226310  226310       226310"
      ]
     },
     "execution_count": 6,
     "metadata": {},
     "output_type": "execute_result"
    }
   ],
   "source": [
    "data.groupby(by='rating').count()"
   ]
  },
  {
   "cell_type": "markdown",
   "metadata": {},
   "source": [
    "### SVD Decomposition\n",
    "\n",
    "Singular Value Decomposition (SVD) is a well established technique for identifying latent semantic factors. Done by factorizing the user-item rating matrix.\n",
    "\n",
    "The singular value decomposition is a methods that decomposes a matrix into three other matrices as given below:\n",
    "$$ R = USV^T$$\n",
    "\n",
    "Where\n",
    "* $R$ is a $m\\times n$ rating matrix;\n",
    "* $U$ is a $m\\times k$ orthogonal left singular matrix, which represents the relationship between users and latent factors and it is known user latent matrix;\n",
    "* $S$ is a $r\\times r$ diagonal matrix, whcih describes the strengh of each latent factor, and;\n",
    "* $V$ is a $n \\times k$ orthogonal right singular matrix, which represents the relationship between items and latent factors and it is known item latent matrix.\n",
    "\n",
    "\n",
    "\n",
    "Columns of U and V are constrained to be mutually orthogonal. \n",
    "\n",
    "Mutual orthogonality has the advantage that the concepts can be completely independent of one another. Can be interpre\n",
    "ted in scatterplots\n",
    "\n",
    "**Problem**: $R$ matrix needs to be complete in order to be decomposed\n",
    "* Solution: fill missing values with the mean rating of the user"
   ]
  },
  {
   "cell_type": "code",
   "execution_count": 7,
   "metadata": {},
   "outputs": [],
   "source": [
    "from scipy import sparse\n",
    "from scipy.linalg import sqrtm\n",
    "\n",
    "class RecSys_mf():\n",
    "    \"\"\" Collaborative filtering using SVD. \"\"\"\n",
    "    \n",
    "    def __init__(self, num_components=10):\n",
    "        \"\"\" Constructor \"\"\"\n",
    "        self.num_components=num_components\n",
    "        \n",
    "        \n",
    "        \n",
    "    def fit(self,df_train):\n",
    "        \"\"\" We decompose the R matrix into to submatrices using the training data \"\"\"\n",
    "        \n",
    "        self.train = df_train\n",
    "        self.urm = pd.pivot_table(df_train[['user_id','movie_id','rating']],columns='movie_id',index='user_id',values='rating')\n",
    "        \n",
    "        # We create a dictionary where we will store the user_id and movie_id which correspond \n",
    "        # to each index in the Rating matrix\n",
    "        \n",
    "        user_index = np.arange(len(self.urm.index))\n",
    "        self.users = dict(zip(user_index,self.urm.index ))\n",
    "        self.users_id2index = dict(zip(self.urm.index,user_index)) \n",
    "        \n",
    "        movie_index = np.arange(len(self.urm.columns))\n",
    "        self.movies = dict(zip(movie_index,self.urm.columns )) \n",
    "        self.movies_id2index= dict(zip(self.urm.columns, movie_index))\n",
    "        self.movies_index2id= dict(zip(movie_index,self.urm.columns))\n",
    "        self.movie_id2title = dict(df_train.groupby(by=['movie_id','title']).count().index)\n",
    "        \n",
    "        self.pop_items = reco.train.groupby('movie_id').count()[['rating']]\n",
    "\n",
    "        train_matrix = np.array(self.urm)\n",
    "        # we mask those nan value to fill with the mean \n",
    "        mask = np.isnan(train_matrix)\n",
    "        masked_arr = np.ma.masked_array(train_matrix, mask)\n",
    "        item_means = np.mean(masked_arr, axis=0)\n",
    "\n",
    "        # nan entries will replaced by the average rating for each item\n",
    "        train_matrix = masked_arr.filled(item_means)\n",
    "        x = np.tile(item_means, (train_matrix.shape[0],1))         \n",
    "\n",
    "        # we remove the per item average from all entries.\n",
    "        # the above mentioned nan entries will be essentially zero now\n",
    "        train_matrix = train_matrix - x\n",
    "        U, s, V = np.linalg.svd(train_matrix, full_matrices=False)\n",
    "\n",
    "        # reconstruct rating matix\n",
    "        S = np.diag(s[0:self.num_components])\n",
    "        U = U[:,0:self.num_components]\n",
    "        V = V[0:self.num_components,:]\n",
    "        S_root = sqrtm(S)\n",
    "\n",
    "        USk=np.dot(U,S_root)\n",
    "        SkV=np.dot(S_root,V)\n",
    "        Y_hat = np.dot(USk, SkV)\n",
    "        self.Y_hat = Y_hat + x\n",
    "        \n",
    "    def predict_score(self, user_id, movie_id):\n",
    "        \n",
    "        if movie_id in self.movies_id2index:\n",
    "            return self.Y_hat[self.users_id2index[user_id],self.movies_id2index[movie_id]]\n",
    "        else: # in case it is a new movie \n",
    "            return 3\n",
    "\n",
    "        \n",
    "    def predict_top(self, user_id, at=5, filter_pop = 100, remove_seen=True):\n",
    "        '''Given a user_id predict its top AT items'''\n",
    "        seen_items = self.train[self.train.user_id==user_id].movie_id.values\n",
    "        unseen_items = set(self.train.movie_id.values) - set(seen_items)\n",
    "        # filter the non popular items\n",
    "        #unseen_items = [item for item  in set(self.pop_items[self.pop_items.rating>filter_pop].index) if item in unseen_items]\n",
    "        predictions = [(item_id,self.predict_score(user_id,item_id)) for item_id in unseen_items]\n",
    "\n",
    "        sorted_predictions = sorted(predictions, key=lambda x: x[1],reverse = True)[:at]\n",
    "        return [i[0] for i in sorted_predictions]"
   ]
  },
  {
   "cell_type": "code",
   "execution_count": 8,
   "metadata": {},
   "outputs": [
    {
     "name": "stderr",
     "output_type": "stream",
     "text": [
      "  0%|          | 2/6040 [00:00<05:38, 17.83it/s]"
     ]
    },
    {
     "name": "stdout",
     "output_type": "stream",
     "text": [
      "RMSE for Collaborative Recomender: 0.9233848502563307\n"
     ]
    },
    {
     "name": "stderr",
     "output_type": "stream",
     "text": [
      "100%|██████████| 6040/6040 [05:11<00:00, 19.41it/s]"
     ]
    },
    {
     "name": "stdout",
     "output_type": "stream",
     "text": [
      "Recommender results are: Precision = 0.0302, Recall = 0.0612, MAP = 0.0080\n"
     ]
    },
    {
     "name": "stderr",
     "output_type": "stream",
     "text": [
      "\n"
     ]
    }
   ],
   "source": [
    "reco = RecSys_mf(num_components=30)\n",
    "reco.fit(data_train)\n",
    "print('RMSE for Collaborative Recomender: %s' % evaluate(reco.predict_score,data_train,data_test))\n",
    "evaluate_algorithm_top(data_test, reco, at = 25)"
   ]
  },
  {
   "cell_type": "markdown",
   "metadata": {},
   "source": [
    "### The Vanilla Matrix Factorization Model \n",
    "* Also know as **Funk SVD**\n",
    "* * Despite its name, in Funk SVD, no singular value decomposition is applied.\n",
    "* * https://sifter.org/simon/journal/20061211.html\n",
    "\n",
    "A straightforward matrix factorization model maps both users and items to a joint latent factor space of dimensionality D. User-item interaction are modeled as inner products in that space\n",
    "$$R = UV$$\n",
    "\n",
    "Each item j is associated with a vector $v_j$ from $V$, and each user $i$ is associated with a vecor $u_i$ from $U$.\n",
    "The resulting dot product $u_i\\cdot v_j$ captures the interaction between the user $i$ and item $j$:\n",
    "$$ \\hat{r} = u_i\\cdot v_j$$\n",
    "\n",
    "The goal of the matrix factorization consist on finding the mapping of each item and user to factors $u_i$ and $v_j$. To do so, the minimization the of squarred error function is performed:\n",
    "$$ \\sum(R_{ui} - u_i\\cdot v_j)^2$$\n",
    "\n",
    "This factorization can be learnt using **only those known ratings**. We do not need to infer missing values."
   ]
  },
  {
   "cell_type": "markdown",
   "metadata": {},
   "source": [
    "![alt Amazon](https://miro.medium.com/max/4800/1*b4M7o7W8bfRRxdMxtFoVBQ.png)"
   ]
  },
  {
   "cell_type": "code",
   "execution_count": 9,
   "metadata": {},
   "outputs": [],
   "source": [
    "from scipy import sparse\n",
    "\n",
    "class RecSys_vanilla_mf(RecSys_mf):\n",
    "    \"\"\" Collaborative filtering using a custom sim(u,u'). \"\"\"\n",
    "\n",
    "    def __sdg__(self):\n",
    "        for idx in self.training_indices:\n",
    "            u = self.sample_row[idx]\n",
    "            i = self.sample_col[idx]\n",
    "            user_id = self.users[u]\n",
    "            item_id = self.movies[i]\n",
    "            \n",
    "            prediction = self.predict_score(user_id, item_id)\n",
    "            error = (self.ratings[u,i] - prediction) # error\n",
    "            \n",
    "            #Update latent factors\n",
    "            self.user_vecs[u, :] += self.learning_rate * \\\n",
    "                                    (error * self.item_vecs[i, :] - \\\n",
    "                                     self.lmbda * self.user_vecs[u,:])\n",
    "            self.item_vecs[i, :] += self.learning_rate * \\\n",
    "                                    (error * self.user_vecs[u, :] - \\\n",
    "                                     self.lmbda * self.item_vecs[i,:])\n",
    "                \n",
    "                \n",
    "    def fit(self,df_train,df_val, n_epochs = 10,learning_rate =0.001,lmbda=0.1,verbose =True):\n",
    "        \"\"\" We decompose the R matrix into to submatrices using the training data \"\"\"\n",
    "        self.train = df_train\n",
    "        self.val = df_val\n",
    "        self.urm = pd.pivot_table(df_train[['user_id','movie_id','rating']],columns='movie_id',index='user_id',values='rating')\n",
    "        \n",
    "        # We create a dictionary where we will store the user_id and movie_id which correspond \n",
    "        # to each index in the Rating matrix\n",
    "        \n",
    "        user_index = np.arange(len(self.urm.index))\n",
    "        self.users = dict(zip(user_index,self.urm.index ))\n",
    "        self.users_id2index = dict(zip(self.urm.index,user_index)) \n",
    "        \n",
    "        movie_index = np.arange(len(self.urm.columns))\n",
    "        self.movies = dict(zip(movie_index,self.urm.columns )) \n",
    "        self.movies_id2index= dict(zip(self.urm.columns, movie_index))\n",
    "        self.movies_index2id= dict(zip(movie_index,self.urm.columns))\n",
    "        self.movie_id2title = dict(df_train.groupby(by=['movie_id','title']).count().index)\n",
    "        \n",
    "        \n",
    "        self.verbose = verbose\n",
    "        self.learning_rate = learning_rate\n",
    "        self.lmbda = lmbda\n",
    "        \n",
    "        self.mean_rating = self.train.rating.mean()\n",
    "        \n",
    "        self.ratings = np.float32(self.urm.fillna(0).values)\n",
    "        self.n_users, self.n_items = self.urm.shape\n",
    "        self.sample_row, self.sample_col = self.ratings.nonzero()\n",
    "        self.n_samples = len(self.sample_row)\n",
    "        \n",
    "        self.train_rmse =[]\n",
    "        self.test_rmse = []\n",
    "        iter_diff = 0\n",
    "        \n",
    "        # initialize latent vectors\n",
    "        self.user_vecs = self.mean_rating*np.random.normal(scale=1./self.num_components,\\\n",
    "                                          size=(self.n_users, self.num_components))\n",
    "        self.item_vecs = self.mean_rating*np.random.normal(scale=1./self.num_components,\n",
    "                                          size=(self.n_items, self.num_components))\n",
    "\n",
    "        for epoch in range(n_epochs):\n",
    "            print('Epoch: {}'.format(epoch))\n",
    "            \n",
    "            self.training_indices = np.arange(self.n_samples)\n",
    "            \n",
    "            #shuffle training samples\n",
    "            np.random.shuffle(self.training_indices)\n",
    "            self.__sdg__()\n",
    "            \n",
    "            self.train_rmse.append(evaluate(self.predict_score,self.train,self.train))\n",
    "            self.test_rmse.append(evaluate(self.predict_score,self.train,self.val))\n",
    "            \n",
    "            \n",
    "            print('\\tTrain rmse: %s' % self.train_rmse[-1])\n",
    "            print('\\tTest rmse: %s' % self.test_rmse[-1])\n",
    "            \n",
    "        \n",
    "        if(self.verbose):\n",
    "            self.__plot_learning_curves__()\n",
    "    \n",
    "    def __plot_learning_curves__(self):\n",
    "        plt.plot(self.train_rmse,'--o',label=\"train_error\")\n",
    "        plt.plot(self.test_rmse,'--o',label=\"test_error\")\n",
    "        plt.legend()\n",
    "        plt.show()\n",
    "        \n",
    "    def predict_score(self, user_id, movie_id):\n",
    "        \"\"\" Single user and item prediction.\"\"\"\n",
    "        user_index = self.users_id2index[user_id]\n",
    "        if movie_id in self.movies_id2index:\n",
    "            item_index = self.movies_id2index[movie_id]\n",
    "            prediction =  self.user_vecs[user_index, :].dot(self.item_vecs[item_index, :].T)\n",
    "        else:\n",
    "            prediction = self.mean_rating # this is a new movie\n",
    "        \n",
    "        return prediction\n",
    "    "
   ]
  },
  {
   "cell_type": "code",
   "execution_count": 10,
   "metadata": {},
   "outputs": [
    {
     "name": "stdout",
     "output_type": "stream",
     "text": [
      "Epoch: 0\n",
      "\tTrain rmse: 1.2705914636881799\n",
      "\tTest rmse: 1.2924388767467634\n",
      "Epoch: 1\n",
      "\tTrain rmse: 1.0835231878612377\n",
      "\tTest rmse: 1.096642721080011\n",
      "Epoch: 2\n",
      "\tTrain rmse: 1.0579571694303793\n",
      "\tTest rmse: 1.0687449077520752\n",
      "Epoch: 3\n",
      "\tTrain rmse: 1.045568410074648\n",
      "\tTest rmse: 1.0552523058708803\n",
      "Epoch: 4\n",
      "\tTrain rmse: 1.0431735226048149\n",
      "\tTest rmse: 1.0516475390298072\n"
     ]
    },
    {
     "data": {
      "image/png": "[encoded data removed]",
      "text/plain": [
       "<Figure size 432x288 with 1 Axes>"
      ]
     },
     "metadata": {
      "needs_background": "light"
     },
     "output_type": "display_data"
    },
    {
     "name": "stdout",
     "output_type": "stream",
     "text": [
      "RMSE for Collaborative Recomender: 1.0516475390298072\n"
     ]
    }
   ],
   "source": [
    "reco = RecSys_vanilla_mf(num_components=5)\n",
    "reco.fit(data_train,data_test, n_epochs = 5,learning_rate=0.01,lmbda=0.5)\n",
    "print('RMSE for Collaborative Recomender: %s' % evaluate(reco.predict_score,data_train,data_test))"
   ]
  },
  {
   "cell_type": "code",
   "execution_count": 11,
   "metadata": {},
   "outputs": [
    {
     "name": "stdout",
     "output_type": "stream",
     "text": [
      "Epoch: 0\n",
      "\tTrain rmse: 1.1037236914539819\n",
      "\tTest rmse: 1.1341861303492382\n",
      "Epoch: 1\n",
      "\tTrain rmse: 0.9532337285822157\n",
      "\tTest rmse: 0.9769395538605345\n",
      "Epoch: 2\n",
      "\tTrain rmse: 0.9283767332401271\n",
      "\tTest rmse: 0.949732001299945\n",
      "Epoch: 3\n",
      "\tTrain rmse: 0.9170152229800993\n",
      "\tTest rmse: 0.9377333973201599\n",
      "Epoch: 4\n",
      "\tTrain rmse: 0.912699375618024\n",
      "\tTest rmse: 0.9327862266930087\n"
     ]
    },
    {
     "data": {
      "image/png": "[encoded data removed]",
      "text/plain": [
       "<Figure size 432x288 with 1 Axes>"
      ]
     },
     "metadata": {
      "needs_background": "light"
     },
     "output_type": "display_data"
    },
    {
     "name": "stdout",
     "output_type": "stream",
     "text": [
      "RMSE for Collaborative Recomender: 0.9327862266930087\n"
     ]
    }
   ],
   "source": [
    "reco = RecSys_vanilla_mf(num_components=5)\n",
    "reco.fit(data_train,data_test, n_epochs = 5,learning_rate=0.01)\n",
    "print('RMSE for Collaborative Recomender: %s' % evaluate(reco.predict_score,data_train,data_test))"
   ]
  },
  {
   "cell_type": "code",
   "execution_count": 12,
   "metadata": {},
   "outputs": [
    {
     "name": "stdout",
     "output_type": "stream",
     "text": [
      "Epoch: 0\n",
      "\tTrain rmse: 0.9730117916553724\n",
      "\tTest rmse: 0.9977863644761921\n",
      "Epoch: 1\n",
      "\tTrain rmse: 0.9345021494455094\n",
      "\tTest rmse: 0.9552737672037537\n",
      "Epoch: 2\n",
      "\tTrain rmse: 0.9263553698971161\n",
      "\tTest rmse: 0.9471129806491111\n",
      "Epoch: 3\n",
      "\tTrain rmse: 0.9146147367959566\n",
      "\tTest rmse: 0.935785600506747\n",
      "Epoch: 4\n",
      "\tTrain rmse: 0.9062275184735744\n",
      "\tTest rmse: 0.9276123667075551\n",
      "Epoch: 5\n",
      "\tTrain rmse: 0.8985979149115411\n",
      "\tTest rmse: 0.9216098260678902\n",
      "Epoch: 6\n",
      "\tTrain rmse: 0.8953199070119043\n",
      "\tTest rmse: 0.9192348528485443\n",
      "Epoch: 7\n",
      "\tTrain rmse: 0.8909944817019577\n",
      "\tTest rmse: 0.9143616555124171\n",
      "Epoch: 8\n",
      "\tTrain rmse: 0.8878548448634757\n",
      "\tTest rmse: 0.9128101500389475\n",
      "Epoch: 9\n",
      "\tTrain rmse: 0.8859901017948679\n",
      "\tTest rmse: 0.9120988917785461\n",
      "Epoch: 10\n",
      "\tTrain rmse: 0.8826114481764689\n",
      "\tTest rmse: 0.9086170946112192\n",
      "Epoch: 11\n",
      "\tTrain rmse: 0.8796126729108631\n",
      "\tTest rmse: 0.905620034145671\n",
      "Epoch: 12\n",
      "\tTrain rmse: 0.8775172135817648\n",
      "\tTest rmse: 0.9050280846154932\n",
      "Epoch: 13\n",
      "\tTrain rmse: 0.8750625846745127\n",
      "\tTest rmse: 0.9023833944448644\n",
      "Epoch: 14\n",
      "\tTrain rmse: 0.8741664239767218\n",
      "\tTest rmse: 0.9027867627915932\n"
     ]
    },
    {
     "data": {
      "image/png": "[encoded data removed]",
      "text/plain": [
       "<Figure size 432x288 with 1 Axes>"
      ]
     },
     "metadata": {
      "needs_background": "light"
     },
     "output_type": "display_data"
    },
    {
     "name": "stdout",
     "output_type": "stream",
     "text": [
      "RMSE for Collaborative Recomender: 0.9027867627915932\n"
     ]
    }
   ],
   "source": [
    "reco = RecSys_vanilla_mf(num_components=5)\n",
    "reco.fit(data_train,data_test, n_epochs = 15,learning_rate=0.02)\n",
    "print('RMSE for Collaborative Recomender: %s' % evaluate(reco.predict_score,data_train,data_test))"
   ]
  },
  {
   "cell_type": "code",
   "execution_count": 13,
   "metadata": {},
   "outputs": [
    {
     "data": {
      "text/plain": [
       "[('Lion King, The (1994)', 353),\n",
       " ('Field of Dreams (1989)', 1198),\n",
       " ('Apollo 13 (1995)', 144),\n",
       " ('Crimson Tide (1995)', 155),\n",
       " ('Mulan (1998)', 1711),\n",
       " ('Dances with Wolves (1990)', 572)]"
      ]
     },
     "execution_count": 13,
     "metadata": {},
     "output_type": "execute_result"
    }
   ],
   "source": [
    "from sklearn.metrics.pairwise import euclidean_distances\n",
    "movie_id = 1 #'Toy Story (1995)'\n",
    "movie_id = 364 #'Lion King, The (1994)'\n",
    "\n",
    "pairwise_distances = euclidean_distances(reco.item_vecs, reco.item_vecs)\n",
    "[(reco.movie_id2title[reco.movies_index2id[item]],\n",
    "  item) for item in np.argsort(pairwise_distances[reco.movies_id2index[movie_id]])[0:6]]"
   ]
  },
  {
   "cell_type": "code",
   "execution_count": 14,
   "metadata": {},
   "outputs": [
    {
     "name": "stderr",
     "output_type": "stream",
     "text": [
      "100%|██████████| 6040/6040 [1:25:35<00:00,  1.18it/s]     "
     ]
    },
    {
     "name": "stdout",
     "output_type": "stream",
     "text": [
      "Recommender results are: Precision = 0.0249, Recall = 0.0613, MAP = 0.0071\n"
     ]
    },
    {
     "name": "stderr",
     "output_type": "stream",
     "text": [
      "\n"
     ]
    }
   ],
   "source": [
    "evaluate_algorithm_top(data_test, reco, at = 25)"
   ]
  },
  {
   "cell_type": "markdown",
   "metadata": {},
   "source": [
    "### The Vanilla Matrix Factorization Model with biases \n",
    "\n",
    "* Despite its name, in SVD, no singular value decomposition is applied.\n",
    "\n",
    "\n",
    "Now the model is defined as:\n",
    "$\\hat{r}_{ui} = \\bar{r} + b_{u_u} + b_{i_i}  \\sum_{k = 1}^KP_{uk} Q_{ik}^T  $\n",
    "\n",
    "To learn the model we can use the SGD as before. Now the latent factors and biases are updated as follows:\n",
    "* $error = r -\\hat{r}$\n",
    "* $b_{u_u} = b_{u_u} + \\alpha*(error -  \\lambda*b_{u_u})$\n",
    "* $b_{i_i} = b_{i_i} + \\alpha*(error -  \\lambda*b_{i_i})$\n",
    "* $P_{uk} = P_{uk} + \\alpha*(error*Q_{ik} -  \\lambda*P_{uk})$\n",
    "* $Q_{ik} = Q_{ik} + \\alpha*(error*P_{uk} -  \\lambda*Q_{ik})$\n",
    "\n",
    "where $\\alpha$ is the learning rate and $\\lambda$ is the regularization term."
   ]
  },
  {
   "cell_type": "code",
   "execution_count": 15,
   "metadata": {},
   "outputs": [],
   "source": [
    "from sklearn.decomposition import TruncatedSVD\n",
    "from scipy import sparse\n",
    "\n",
    "class RecSys_vanilla_mf_biases(RecSys_vanilla_mf):\n",
    "                  \n",
    "    def __sdg__(self):\n",
    "        for idx in self.training_indices:\n",
    "            u = self.sample_row[idx]\n",
    "            i = self.sample_col[idx]\n",
    "            user_id = self.users[u]\n",
    "            item_id = self.movies[i]\n",
    "            \n",
    "            prediction = self.predict_score(user_id, item_id)\n",
    "            error = (self.ratings[u,i] - prediction) # error\n",
    "            #Update latent factors\n",
    "            self.user_vecs[u, :] += self.learning_rate * \\\n",
    "                                    (error * self.item_vecs[i, :] - self.lmbda * self.user_vecs[u,:])\n",
    "            self.item_vecs[i, :] += self.learning_rate * \\\n",
    "                                    (error * self.user_vecs[u, :] - self.lmbda * self.item_vecs[i,:])\n",
    "            \n",
    "            self.bias_item[i] += self.learning_rate * (error - self.lmbda * self.bias_item[i]) \n",
    "            self.bias_user[u] += self.learning_rate * (error - self.lmbda * self.bias_user[u]) \n",
    "            \n",
    "                \n",
    "    def fit(self,df_train,df_val, n_epochs = 10,learning_rate =0.001,lmbda=0.1,verbose =True):\n",
    "        \"\"\" Train the model. \"\"\"\n",
    "        self.verbose = verbose\n",
    "        self.learning_rate = learning_rate\n",
    "        self.lmbda = lmbda\n",
    "        \n",
    "        self.train = df_train\n",
    "        self.val = df_val\n",
    "        \n",
    "        self.urm = pd.pivot_table(df_train[['user_id','movie_id','rating']],columns='movie_id',index='user_id',values='rating')\n",
    "        \n",
    "        # We create a dictionary where we will store the user_id and movie_id which correspond \n",
    "        # to each index in the Rating matrix\n",
    "        \n",
    "        user_index = np.arange(len(self.urm.index))\n",
    "        self.users = dict(zip(user_index,self.urm.index ))\n",
    "        self.users_id2index = dict(zip(self.urm.index,user_index)) \n",
    "        \n",
    "        movie_index = np.arange(len(self.urm.columns))\n",
    "        self.movies = dict(zip(movie_index,self.urm.columns )) \n",
    "        self.movies_id2index= dict(zip(self.urm.columns, movie_index))\n",
    "        self.movies_index2id= dict(zip(movie_index,self.urm.columns))\n",
    "        self.movie_id2title = dict(df_train.groupby(by=['movie_id','title']).count().index)\n",
    "        \n",
    "        \n",
    "        \n",
    "        self.mean_rating = self.train.rating.mean()\n",
    "        \n",
    "        self.ratings = np.float32(self.urm.fillna(0).values)\n",
    "        self.n_users, self.n_items = self.urm.shape\n",
    "        self.sample_row, self.sample_col = self.ratings.nonzero()\n",
    "        self.n_samples = len(self.sample_row)\n",
    "        print(self.n_samples)\n",
    "        self.train_rmse =[]\n",
    "        self.test_rmse = []\n",
    "        iter_diff = 0\n",
    "        \n",
    "        # initialize latent vectors\n",
    "        self.user_vecs = self.mean_rating*np.random.normal(scale=1./self.num_components,\\\n",
    "                                          size=(self.n_users, self.num_components))\n",
    "        self.item_vecs = self.mean_rating*np.random.normal(scale=1./self.num_components,\n",
    "                                          size=(self.n_items, self.num_components))\n",
    "        self.bias_item = np.random.normal(scale=1/self.n_items,size=(self.n_items))\n",
    "        self.bias_user = np.random.normal(scale=1/self.n_users,size=(self.n_users))\n",
    "        \n",
    "        \n",
    "        for epoch in range(n_epochs):\n",
    "    \n",
    "            print('Epoch: {}'.format(epoch))\n",
    "            \n",
    "            self.training_indices = np.arange(self.n_samples)\n",
    "            \n",
    "            #shuffle training samples\n",
    "            np.random.shuffle(self.training_indices)\n",
    "            self.__sdg__()\n",
    "            \n",
    "            self.train_rmse.append(evaluate(reco.predict_score,self.train,self.train))\n",
    "            self.test_rmse.append(evaluate(reco.predict_score,self.train,self.val))\n",
    "            \n",
    "            print('\\tTrain rmse: %s' % self.train_rmse[-1])\n",
    "            print('\\tTest rmse: %s' % self.test_rmse[-1])\n",
    "        \n",
    "        if(self.verbose):\n",
    "            self.__plot_learning_curves__()\n",
    "    \n",
    "    def predict_score(self, user_id, movie_id):\n",
    "        \"\"\" Single user and item prediction.\"\"\"\n",
    "        user_index = self.users_id2index[user_id]\n",
    "        if movie_id in self.movies_id2index:\n",
    "            item_index = self.movies_id2index[movie_id]\n",
    "            prediction =  self.mean_rating + self.user_vecs[user_index, :].dot(self.item_vecs[item_index, :].T) + self.bias_item[item_index] + self.bias_user[user_index]\n",
    "        else:\n",
    "            prediction = self.mean_rating # this is a new movie\n",
    "\n",
    "        return prediction\n",
    "    "
   ]
  },
  {
   "cell_type": "code",
   "execution_count": 16,
   "metadata": {},
   "outputs": [
    {
     "name": "stdout",
     "output_type": "stream",
     "text": [
      "797758\n",
      "Epoch: 0\n",
      "\tTrain rmse: 0.9144639053763975\n",
      "\tTest rmse: 0.9339769604666694\n",
      "Epoch: 1\n",
      "\tTrain rmse: 0.9025920333507375\n",
      "\tTest rmse: 0.9218454625532583\n",
      "Epoch: 2\n",
      "\tTrain rmse: 0.8987823953650002\n",
      "\tTest rmse: 0.9180009088269306\n",
      "Epoch: 3\n",
      "\tTrain rmse: 0.8969449131716392\n",
      "\tTest rmse: 0.9162113749325116\n",
      "Epoch: 4\n",
      "\tTrain rmse: 0.8931514541602886\n",
      "\tTest rmse: 0.9128054817674823\n"
     ]
    },
    {
     "data": {
      "image/png": "[encoded data removed]",
      "text/plain": [
       "<Figure size 432x288 with 1 Axes>"
      ]
     },
     "metadata": {
      "needs_background": "light"
     },
     "output_type": "display_data"
    },
    {
     "name": "stdout",
     "output_type": "stream",
     "text": [
      "RMSE for Collaborative Recomender: 0.9128054817674823\n"
     ]
    }
   ],
   "source": [
    "reco = RecSys_vanilla_mf_biases(num_components=5)\n",
    "reco.fit(data_train,data_test, n_epochs = 5,learning_rate=0.02)\n",
    "print('RMSE for Collaborative Recomender: %s' % evaluate(reco.predict_score,data_train,data_test))"
   ]
  },
  {
   "cell_type": "code",
   "execution_count": 17,
   "metadata": {},
   "outputs": [
    {
     "name": "stderr",
     "output_type": "stream",
     "text": [
      "100%|██████████| 6040/6040 [05:20<00:00, 18.84it/s]"
     ]
    },
    {
     "name": "stdout",
     "output_type": "stream",
     "text": [
      "Recommender results are: Precision = 0.0253, Recall = 0.0393, MAP = 0.0093\n"
     ]
    },
    {
     "name": "stderr",
     "output_type": "stream",
     "text": [
      "\n"
     ]
    }
   ],
   "source": [
    "evaluate_algorithm_top(data_test, reco, at = 25)"
   ]
  },
  {
   "cell_type": "code",
   "execution_count": 18,
   "metadata": {},
   "outputs": [
    {
     "data": {
      "text/plain": [
       "[('Toy Story (1995)', 0),\n",
       " ('Dark City (1998)', 1579),\n",
       " ('Grifters, The (1990)', 1079),\n",
       " ('When Harry Met Sally... (1989)', 1203),\n",
       " ('Girl, Interrupted (1999)', 2947),\n",
       " ('City Lights (1931)', 3057)]"
      ]
     },
     "execution_count": 18,
     "metadata": {},
     "output_type": "execute_result"
    }
   ],
   "source": [
    "from sklearn.metrics.pairwise import euclidean_distances\n",
    "movie_id = 1 #'Toy Story (1995)'\n",
    "#movie_id = 364 #'Lion King, The (1994)'\n",
    "\n",
    "pairwise_distances = euclidean_distances(reco.item_vecs, reco.item_vecs)\n",
    "[(reco.movie_id2title[reco.movies_index2id[item]],\n",
    "  item) for item in np.argsort(pairwise_distances[reco.movies_id2index[movie_id]])[0:6]]"
   ]
  },
  {
   "cell_type": "code",
   "execution_count": 20,
   "metadata": {},
   "outputs": [
    {
     "name": "stdout",
     "output_type": "stream",
     "text": [
      "797758\n",
      "Epoch: 0\n",
      "\tTrain rmse: 0.9111897994654218\n",
      "\tTest rmse: 0.9212322427829258\n",
      "Epoch: 1\n",
      "\tTrain rmse: 0.9052347633848096\n",
      "\tTest rmse: 0.9161261520184155\n",
      "Epoch: 2\n",
      "\tTrain rmse: 0.9033236383975388\n",
      "\tTest rmse: 0.9148230652245541\n",
      "Epoch: 3\n",
      "\tTrain rmse: 0.8988414411554909\n",
      "\tTest rmse: 0.9113604804902453\n",
      "Epoch: 4\n",
      "\tTrain rmse: 0.8912189337435436\n",
      "\tTest rmse: 0.9050773801878592\n",
      "Epoch: 5\n",
      "\tTrain rmse: 0.8835525785198576\n",
      "\tTest rmse: 0.8997996944951628\n",
      "Epoch: 6\n",
      "\tTrain rmse: 0.8771360298257694\n",
      "\tTest rmse: 0.8944057971653975\n",
      "Epoch: 7\n",
      "\tTrain rmse: 0.8719057336543224\n",
      "\tTest rmse: 0.8913931247771651\n",
      "Epoch: 8\n",
      "\tTrain rmse: 0.8667058341744734\n",
      "\tTest rmse: 0.8873005236011792\n",
      "Epoch: 9\n",
      "\tTrain rmse: 0.8620694517050523\n",
      "\tTest rmse: 0.8854031709711965\n",
      "Epoch: 10\n",
      "\tTrain rmse: 0.8576198144318117\n",
      "\tTest rmse: 0.8824765763681707\n",
      "Epoch: 11\n",
      "\tTrain rmse: 0.8531020650138935\n",
      "\tTest rmse: 0.8806419922266305\n",
      "Epoch: 12\n",
      "\tTrain rmse: 0.8496408871325644\n",
      "\tTest rmse: 0.8783693796903709\n",
      "Epoch: 13\n",
      "\tTrain rmse: 0.8462617269945828\n",
      "\tTest rmse: 0.8764781056439559\n",
      "Epoch: 14\n",
      "\tTrain rmse: 0.8422735692679912\n",
      "\tTest rmse: 0.874468272655906\n",
      "Epoch: 15\n",
      "\tTrain rmse: 0.8401976891480754\n",
      "\tTest rmse: 0.8740138307713936\n",
      "Epoch: 16\n",
      "\tTrain rmse: 0.8366335424650955\n",
      "\tTest rmse: 0.8720494265357952\n",
      "Epoch: 17\n",
      "\tTrain rmse: 0.8343807057749644\n",
      "\tTest rmse: 0.871691222349942\n",
      "Epoch: 18\n",
      "\tTrain rmse: 0.8317493004938284\n",
      "\tTest rmse: 0.8705522519346756\n",
      "Epoch: 19\n",
      "\tTrain rmse: 0.8290143634009538\n",
      "\tTest rmse: 0.8698789306327598\n",
      "Epoch: 20\n",
      "\tTrain rmse: 0.827661547081405\n",
      "\tTest rmse: 0.8702397646475173\n",
      "Epoch: 21\n",
      "\tTrain rmse: 0.8245294217206782\n",
      "\tTest rmse: 0.8686193325486228\n",
      "Epoch: 22\n",
      "\tTrain rmse: 0.8227439620499538\n",
      "\tTest rmse: 0.8680716584623241\n",
      "Epoch: 23\n",
      "\tTrain rmse: 0.8206781450644517\n",
      "\tTest rmse: 0.8676806167593919\n",
      "Epoch: 24\n",
      "\tTrain rmse: 0.8187121975755094\n",
      "\tTest rmse: 0.8674278752879496\n",
      "Epoch: 25\n",
      "\tTrain rmse: 0.8169415757589197\n",
      "\tTest rmse: 0.8664318978877671\n",
      "Epoch: 26\n",
      "\tTrain rmse: 0.8150094048155423\n",
      "\tTest rmse: 0.8661742725608848\n",
      "Epoch: 27\n",
      "\tTrain rmse: 0.8133688233959548\n",
      "\tTest rmse: 0.8654779610062655\n",
      "Epoch: 28\n",
      "\tTrain rmse: 0.8118413981337771\n",
      "\tTest rmse: 0.8659349937478658\n",
      "Epoch: 29\n",
      "\tTrain rmse: 0.8098272793151235\n",
      "\tTest rmse: 0.865208965939818\n",
      "Epoch: 30\n",
      "\tTrain rmse: 0.808537458553858\n",
      "\tTest rmse: 0.8651118448510402\n",
      "Epoch: 31\n",
      "\tTrain rmse: 0.8074112152874393\n",
      "\tTest rmse: 0.8657760838384962\n",
      "Epoch: 32\n",
      "\tTrain rmse: 0.806011523399015\n",
      "\tTest rmse: 0.8653192693341987\n",
      "Epoch: 33\n",
      "\tTrain rmse: 0.8045923853187391\n",
      "\tTest rmse: 0.8647816412110794\n",
      "Epoch: 34\n",
      "\tTrain rmse: 0.803130363796234\n",
      "\tTest rmse: 0.8637915903637643\n",
      "Epoch: 35\n",
      "\tTrain rmse: 0.8018336632081198\n",
      "\tTest rmse: 0.8640098750521541\n",
      "Epoch: 36\n",
      "\tTrain rmse: 0.8005372523970894\n",
      "\tTest rmse: 0.8640362819926544\n",
      "Epoch: 37\n",
      "\tTrain rmse: 0.7993089654444359\n",
      "\tTest rmse: 0.8636798638024952\n",
      "Epoch: 38\n",
      "\tTrain rmse: 0.798057967861055\n",
      "\tTest rmse: 0.8636950830510151\n",
      "Epoch: 39\n",
      "\tTrain rmse: 0.7974749826766244\n",
      "\tTest rmse: 0.8637534618812512\n",
      "Epoch: 40\n",
      "\tTrain rmse: 0.7962282157014986\n",
      "\tTest rmse: 0.8637536684898135\n",
      "Epoch: 41\n",
      "\tTrain rmse: 0.7951514123791115\n",
      "\tTest rmse: 0.8633573190909485\n",
      "Epoch: 42\n",
      "\tTrain rmse: 0.7937702304311367\n",
      "\tTest rmse: 0.8635508803411406\n",
      "Epoch: 43\n",
      "\tTrain rmse: 0.7935141292051505\n",
      "\tTest rmse: 0.8636594556692198\n",
      "Epoch: 44\n",
      "\tTrain rmse: 0.7919820075449657\n",
      "\tTest rmse: 0.8630864814441226\n",
      "Epoch: 45\n",
      "\tTrain rmse: 0.7917887634021904\n",
      "\tTest rmse: 0.863661058177743\n",
      "Epoch: 46\n",
      "\tTrain rmse: 0.7908163368928519\n",
      "\tTest rmse: 0.8631069769160392\n",
      "Epoch: 47\n",
      "\tTrain rmse: 0.7899088761613702\n",
      "\tTest rmse: 0.8630940726506355\n",
      "Epoch: 48\n",
      "\tTrain rmse: 0.7895864250159368\n",
      "\tTest rmse: 0.8632374000214453\n",
      "Epoch: 49\n",
      "\tTrain rmse: 0.7883763193012739\n",
      "\tTest rmse: 0.8630402072916835\n"
     ]
    },
    {
     "data": {
      "image/png": "[encoded data removed]",
      "text/plain": [
       "<Figure size 432x288 with 1 Axes>"
      ]
     },
     "metadata": {
      "needs_background": "light"
     },
     "output_type": "display_data"
    }
   ],
   "source": [
    "reco = RecSys_vanilla_mf_biases(num_components=100)\n",
    "reco.fit(data_train,data_test, n_epochs = 50,learning_rate=0.02,lmbda=0.1)"
   ]
  },
  {
   "cell_type": "code",
   "execution_count": 21,
   "metadata": {},
   "outputs": [
    {
     "data": {
      "text/plain": [
       "[('Toy Story (1995)', 0),\n",
       " (\"Bug's Life, A (1998)\", 2143),\n",
       " ('Toy Story 2 (1999)', 2876),\n",
       " ('Aladdin (1992)', 570),\n",
       " ('Right Stuff, The (1983)', 1128),\n",
       " ('To Kill a Mockingbird (1962)', 1105)]"
      ]
     },
     "execution_count": 21,
     "metadata": {},
     "output_type": "execute_result"
    }
   ],
   "source": [
    "from sklearn.metrics.pairwise import euclidean_distances\n",
    "movie_id = 1 #'Toy Story (1995)'\n",
    "#movie_id = 364 #'Lion King, The (1994)'\n",
    "\n",
    "pairwise_distances = euclidean_distances(reco.item_vecs, reco.item_vecs)\n",
    "[(reco.movie_id2title[reco.movies_index2id[item]],\n",
    "  item) for item in np.argsort(pairwise_distances[reco.movies_id2index[movie_id]])[0:6]]"
   ]
  },
  {
   "cell_type": "code",
   "execution_count": 22,
   "metadata": {},
   "outputs": [
    {
     "name": "stderr",
     "output_type": "stream",
     "text": [
      "100%|██████████| 6040/6040 [05:17<00:00, 19.02it/s]"
     ]
    },
    {
     "name": "stdout",
     "output_type": "stream",
     "text": [
      "Recommender results are: Precision = 0.0327, Recall = 0.0901, MAP = 0.0180\n"
     ]
    },
    {
     "name": "stderr",
     "output_type": "stream",
     "text": [
      "\n"
     ]
    }
   ],
   "source": [
    "evaluate_algorithm_top(data_test, reco, at = 25)"
   ]
  },
  {
   "cell_type": "markdown",
   "metadata": {},
   "source": [
    "<div class  = \"alert alert-success\"><b>Factorization Model with implicit information</b><p>\n",
    "Create a FM model with implicit information\n",
    "</div>\n",
    "\n"
   ]
  },
  {
   "cell_type": "code",
   "execution_count": null,
   "metadata": {},
   "outputs": [],
   "source": []
  }
 ],
 "metadata": {
  "kernelspec": {
   "display_name": "Python 3 (ipykernel)",
   "language": "python",
   "name": "python3"
  },
  "language_info": {
   "codemirror_mode": {
    "name": "ipython",
    "version": 3
   },
   "file_extension": ".py",
   "mimetype": "text/x-python",
   "name": "python",
   "nbconvert_exporter": "python",
   "pygments_lexer": "ipython3",
   "version": "3.9.7"
  }
 },
 "nbformat": 4,
 "nbformat_minor": 4
}
