{
 "cells": [
  {
   "cell_type": "markdown",
   "metadata": {},
   "source": [
    "<p style=\"font-size:30px;font-weight:bold;text-align:center;color:black;\">Recommender Systems</p>\n",
    "\n",
    "<p style=\"font-size:20px;text-align:center;color:blue;\">Master of foundation of Data Science</p>\n",
    "\n",
    "\n",
    "<br>\n",
    "<p style=\"font-size:20px;font-weight:bold;text-align:center;color:black;\">Content Based Recommenders</p>\n",
    "\n",
    "\n",
    "\n",
    "# Introduction\n",
    "\n",
    "[Jester](http://eigentaste.berkeley.edu/about.html) is a joke recommender system developed at UC Berkeley to study social information filtering. Their [dataset](http://eigentaste.berkeley.edu/dataset/) contains over 5 million anonymous joke ratings from 150k users. In this case, we will use the **Dataset 1** which contains over 4.1 million \n",
    "continuous ratings (-10.00 to +10.00) of 100 jokes from 73,421 users, collected between April 1999 - May 2003.\n",
    "\n",
    "http://eigentaste.berkeley.edu/about.html\n",
    "\n",
    "An example of a joke in this dataset could be the next one (These jokes have been screened but if you are sensitive or under 18, please don't enter.): \n",
    "\n",
    "\n",
    "## Goal\n",
    "\n",
    "The aim of this project is to learn how to apply different techniques in Recommender Systems. In particular, we will use:\n",
    "<ul>\n",
    "  <li>Content based</li>\n",
    "</ul>\n",
    "\n",
    "# Get the data  \n"
   ]
  },
  {
   "cell_type": "code",
   "execution_count": 1,
   "metadata": {
    "jupyter": {
     "outputs_hidden": true
    }
   },
   "outputs": [],
   "source": [
    "import numpy as np\n",
    "import pandas as pd\n",
    "import random"
   ]
  },
  {
   "cell_type": "code",
   "execution_count": 2,
   "metadata": {
    "jupyter": {
     "outputs_hidden": false
    }
   },
   "outputs": [],
   "source": [
    "df1 = pd.read_excel('data/jester-data-1.xls',header=None)\n",
    "df2 = pd.read_excel('data/jester-data-2.xls',header=None)\n",
    "df3 = pd.read_excel('data/jester-data-3.xls',header=None)\n",
    "\n",
    "df_original = pd.concat([df1,df2,df3])\n",
    "# create an Id for each user\n",
    "df_original.index = range(len(df_original))"
   ]
  },
  {
   "cell_type": "code",
   "execution_count": 3,
   "metadata": {
    "jupyter": {
     "outputs_hidden": false
    }
   },
   "outputs": [
    {
     "data": {
      "text/html": [
       "<div>\n",
       "<style scoped>\n",
       "    .dataframe tbody tr th:only-of-type {\n",
       "        vertical-align: middle;\n",
       "    }\n",
       "\n",
       "    .dataframe tbody tr th {\n",
       "        vertical-align: top;\n",
       "    }\n",
       "\n",
       "    .dataframe thead th {\n",
       "        text-align: right;\n",
       "    }\n",
       "</style>\n",
       "<table border=\"1\" class=\"dataframe\">\n",
       "  <thead>\n",
       "    <tr style=\"text-align: right;\">\n",
       "      <th></th>\n",
       "      <th>1</th>\n",
       "      <th>2</th>\n",
       "      <th>3</th>\n",
       "      <th>4</th>\n",
       "      <th>5</th>\n",
       "      <th>6</th>\n",
       "      <th>7</th>\n",
       "      <th>8</th>\n",
       "      <th>9</th>\n",
       "      <th>10</th>\n",
       "      <th>...</th>\n",
       "      <th>91</th>\n",
       "      <th>92</th>\n",
       "      <th>93</th>\n",
       "      <th>94</th>\n",
       "      <th>95</th>\n",
       "      <th>96</th>\n",
       "      <th>97</th>\n",
       "      <th>98</th>\n",
       "      <th>99</th>\n",
       "      <th>100</th>\n",
       "    </tr>\n",
       "  </thead>\n",
       "  <tbody>\n",
       "    <tr>\n",
       "      <th>0</th>\n",
       "      <td>-7.82</td>\n",
       "      <td>8.79</td>\n",
       "      <td>-9.66</td>\n",
       "      <td>-8.16</td>\n",
       "      <td>-7.52</td>\n",
       "      <td>-8.50</td>\n",
       "      <td>-9.85</td>\n",
       "      <td>4.17</td>\n",
       "      <td>-8.98</td>\n",
       "      <td>-4.76</td>\n",
       "      <td>...</td>\n",
       "      <td>2.82</td>\n",
       "      <td>99.00</td>\n",
       "      <td>99.00</td>\n",
       "      <td>99.00</td>\n",
       "      <td>99.00</td>\n",
       "      <td>99.00</td>\n",
       "      <td>-5.63</td>\n",
       "      <td>99.00</td>\n",
       "      <td>99.00</td>\n",
       "      <td>99.00</td>\n",
       "    </tr>\n",
       "    <tr>\n",
       "      <th>1</th>\n",
       "      <td>4.08</td>\n",
       "      <td>-0.29</td>\n",
       "      <td>6.36</td>\n",
       "      <td>4.37</td>\n",
       "      <td>-2.38</td>\n",
       "      <td>-9.66</td>\n",
       "      <td>-0.73</td>\n",
       "      <td>-5.34</td>\n",
       "      <td>8.88</td>\n",
       "      <td>9.22</td>\n",
       "      <td>...</td>\n",
       "      <td>2.82</td>\n",
       "      <td>-4.95</td>\n",
       "      <td>-0.29</td>\n",
       "      <td>7.86</td>\n",
       "      <td>-0.19</td>\n",
       "      <td>-2.14</td>\n",
       "      <td>3.06</td>\n",
       "      <td>0.34</td>\n",
       "      <td>-4.32</td>\n",
       "      <td>1.07</td>\n",
       "    </tr>\n",
       "    <tr>\n",
       "      <th>2</th>\n",
       "      <td>99.00</td>\n",
       "      <td>99.00</td>\n",
       "      <td>99.00</td>\n",
       "      <td>99.00</td>\n",
       "      <td>9.03</td>\n",
       "      <td>9.27</td>\n",
       "      <td>9.03</td>\n",
       "      <td>9.27</td>\n",
       "      <td>99.00</td>\n",
       "      <td>99.00</td>\n",
       "      <td>...</td>\n",
       "      <td>99.00</td>\n",
       "      <td>99.00</td>\n",
       "      <td>99.00</td>\n",
       "      <td>9.08</td>\n",
       "      <td>99.00</td>\n",
       "      <td>99.00</td>\n",
       "      <td>99.00</td>\n",
       "      <td>99.00</td>\n",
       "      <td>99.00</td>\n",
       "      <td>99.00</td>\n",
       "    </tr>\n",
       "    <tr>\n",
       "      <th>3</th>\n",
       "      <td>99.00</td>\n",
       "      <td>8.35</td>\n",
       "      <td>99.00</td>\n",
       "      <td>99.00</td>\n",
       "      <td>1.80</td>\n",
       "      <td>8.16</td>\n",
       "      <td>-2.82</td>\n",
       "      <td>6.21</td>\n",
       "      <td>99.00</td>\n",
       "      <td>1.84</td>\n",
       "      <td>...</td>\n",
       "      <td>99.00</td>\n",
       "      <td>99.00</td>\n",
       "      <td>99.00</td>\n",
       "      <td>0.53</td>\n",
       "      <td>99.00</td>\n",
       "      <td>99.00</td>\n",
       "      <td>99.00</td>\n",
       "      <td>99.00</td>\n",
       "      <td>99.00</td>\n",
       "      <td>99.00</td>\n",
       "    </tr>\n",
       "    <tr>\n",
       "      <th>4</th>\n",
       "      <td>8.50</td>\n",
       "      <td>4.61</td>\n",
       "      <td>-4.17</td>\n",
       "      <td>-5.39</td>\n",
       "      <td>1.36</td>\n",
       "      <td>1.60</td>\n",
       "      <td>7.04</td>\n",
       "      <td>4.61</td>\n",
       "      <td>-0.44</td>\n",
       "      <td>5.73</td>\n",
       "      <td>...</td>\n",
       "      <td>5.19</td>\n",
       "      <td>5.58</td>\n",
       "      <td>4.27</td>\n",
       "      <td>5.19</td>\n",
       "      <td>5.73</td>\n",
       "      <td>1.55</td>\n",
       "      <td>3.11</td>\n",
       "      <td>6.55</td>\n",
       "      <td>1.80</td>\n",
       "      <td>1.60</td>\n",
       "    </tr>\n",
       "  </tbody>\n",
       "</table>\n",
       "<p>5 rows × 100 columns</p>\n",
       "</div>"
      ],
      "text/plain": [
       "     1      2      3      4     5     6     7     8      9      10   ...  \\\n",
       "0  -7.82   8.79  -9.66  -8.16 -7.52 -8.50 -9.85  4.17  -8.98  -4.76  ...   \n",
       "1   4.08  -0.29   6.36   4.37 -2.38 -9.66 -0.73 -5.34   8.88   9.22  ...   \n",
       "2  99.00  99.00  99.00  99.00  9.03  9.27  9.03  9.27  99.00  99.00  ...   \n",
       "3  99.00   8.35  99.00  99.00  1.80  8.16 -2.82  6.21  99.00   1.84  ...   \n",
       "4   8.50   4.61  -4.17  -5.39  1.36  1.60  7.04  4.61  -0.44   5.73  ...   \n",
       "\n",
       "     91     92     93     94     95     96     97     98     99     100  \n",
       "0   2.82  99.00  99.00  99.00  99.00  99.00  -5.63  99.00  99.00  99.00  \n",
       "1   2.82  -4.95  -0.29   7.86  -0.19  -2.14   3.06   0.34  -4.32   1.07  \n",
       "2  99.00  99.00  99.00   9.08  99.00  99.00  99.00  99.00  99.00  99.00  \n",
       "3  99.00  99.00  99.00   0.53  99.00  99.00  99.00  99.00  99.00  99.00  \n",
       "4   5.19   5.58   4.27   5.19   5.73   1.55   3.11   6.55   1.80   1.60  \n",
       "\n",
       "[5 rows x 100 columns]"
      ]
     },
     "execution_count": 3,
     "metadata": {},
     "output_type": "execute_result"
    }
   ],
   "source": [
    "# delete the first row, which only contained the number og items rated by user\n",
    "df_original.drop(df_original.columns[[0]], axis=1, inplace=True)\n",
    "\n",
    "#now df contains the ratings of each user to all movies (99 means not seen)\n",
    "df_original.head()"
   ]
  },
  {
   "cell_type": "markdown",
   "metadata": {},
   "source": [
    "## We create two splits:\n",
    "* Train set\n",
    "* Test set"
   ]
  },
  {
   "cell_type": "code",
   "execution_count": 22,
   "metadata": {
    "jupyter": {
     "outputs_hidden": false
    }
   },
   "outputs": [],
   "source": [
    "train_proportion = 0.75\n",
    "MISSING_RATING = 99\n",
    "NUM_SAMPLES = 1000  # fix to small value to speet up test\n",
    "random.seed(1)\n",
    "\n",
    "# Get a subsample datset of NUM_SAMPLES samples\n",
    "df = df_original.sample(NUM_SAMPLES,random_state = 7)\n",
    "\n",
    "# Divide the data into training and test set\n",
    "train_df = pd.DataFrame(columns=df_original.columns.tolist())\n",
    "\n",
    "# df.index are the NUM_SAMPLES id's of the users\n",
    "train_set = pd.DataFrame(index=df.index,columns=['items','#items','ratings'])\n",
    "test_set = pd.DataFrame(index=df.index,columns=['items','#items','ratings'])\n",
    "\n",
    "# equivalence from users index (in dataframe) to positions (in matrix)\n",
    "d = {}\n",
    "\n",
    "i = 1 \n",
    "for index,row in df.iterrows():\n",
    "    # equivalence\n",
    "    d[index] = i\n",
    "    i += 1\n",
    "   \n",
    "    # delete items that where not rated by the user\n",
    "    l = row[row!=99]   \n",
    "    # get 75% of the index for training and 25% for testing\n",
    "    training_indexes = random.sample(list(l.index), int(train_proportion*(len(l))) )\n",
    "    test_indexes = list(set(l.index) - set(training_indexes))\n",
    "    \n",
    "    # change the test indexes to unknown and append to the training df\n",
    "    row[test_indexes] = MISSING_RATING\n",
    "    train_df = train_df.append(row)\n",
    "    \n",
    "    # Assign the items to the datasets\n",
    "    test_set['items'].loc[index] = test_indexes\n",
    "    test_set['#items'].loc[index] = len(test_indexes)\n",
    "    test_set['ratings'].loc[index] = l.loc[test_indexes].values\n",
    "    train_set['items'].loc[index] = training_indexes\n",
    "    train_set['#items'].loc[index] = len(training_indexes)\n",
    "    train_set['ratings'].loc[index] = l.loc[training_indexes].values"
   ]
  },
  {
   "cell_type": "markdown",
   "metadata": {},
   "source": [
    "## Content Based Model\n",
    "\n",
    "This model is based on item-item similarity. First, we read the text for each joke. Second, we 'clean' this text, and third, we describe each joke in a space of frequency of words in a BoW, representing each joke with a vector. Finally, we compute the similarity of the jokes in this space with again the cosinus distance, in order to have a new content-based similarity matrix. After that, we apply the prediction functions used above and we discuss the results.\n",
    "\n",
    "## Get the jokes content\n",
    "Read the data from html to dataframe preserving the same index for each joke than in previous experiments:"
   ]
  },
  {
   "cell_type": "code",
   "execution_count": 23,
   "metadata": {
    "jupyter": {
     "outputs_hidden": false
    }
   },
   "outputs": [
    {
     "name": "stdout",
     "output_type": "stream",
     "text": [
      "Requirement already satisfied: html2text in /Users/santi/opt/anaconda3/lib/python3.8/site-packages (2020.1.16)\r\n"
     ]
    }
   ],
   "source": [
    "!pip install html2text"
   ]
  },
  {
   "cell_type": "code",
   "execution_count": 24,
   "metadata": {
    "jupyter": {
     "outputs_hidden": false
    }
   },
   "outputs": [],
   "source": [
    "# from:\n",
    "# http://blog.untrod.com/2016/06/simple-similar-products-recommendation-engine-in-python.html\n",
    "\n",
    "import html2text\n",
    "from sklearn.feature_extraction.text import TfidfVectorizer\n",
    "from sklearn.metrics.pairwise import linear_kernel\n",
    "\n",
    "def get_jokes_test():\n",
    "    jokes = pd.DataFrame({'joke' : [],'id' : []})\n",
    "\n",
    "    jokes = jokes.append({'joke' : '', 'id': 0}, ignore_index=True)\n",
    "    for i in range(1, 101):\n",
    "        with open(\"data/jokes/init\"+str(i)+\".html\") as f:\n",
    "            jokes = jokes.append({'joke' : html2text.html2text(f.read()), 'id': i},\n",
    "                                 ignore_index=True)\n",
    "    jokes.drop(0, axis=0, inplace=True)\n",
    "    return jokes\n",
    "\n",
    "jokes = get_jokes_test()"
   ]
  },
  {
   "cell_type": "markdown",
   "metadata": {},
   "source": [
    "An overview and a specific example:"
   ]
  },
  {
   "cell_type": "code",
   "execution_count": 25,
   "metadata": {
    "jupyter": {
     "outputs_hidden": false
    }
   },
   "outputs": [
    {
     "data": {
      "text/html": [
       "<div>\n",
       "<style scoped>\n",
       "    .dataframe tbody tr th:only-of-type {\n",
       "        vertical-align: middle;\n",
       "    }\n",
       "\n",
       "    .dataframe tbody tr th {\n",
       "        vertical-align: top;\n",
       "    }\n",
       "\n",
       "    .dataframe thead th {\n",
       "        text-align: right;\n",
       "    }\n",
       "</style>\n",
       "<table border=\"1\" class=\"dataframe\">\n",
       "  <thead>\n",
       "    <tr style=\"text-align: right;\">\n",
       "      <th></th>\n",
       "      <th>joke</th>\n",
       "      <th>id</th>\n",
       "    </tr>\n",
       "  </thead>\n",
       "  <tbody>\n",
       "    <tr>\n",
       "      <th>1</th>\n",
       "      <td>\\nA man visits the doctor. The doctor says \"...</td>\n",
       "      <td>1.0</td>\n",
       "    </tr>\n",
       "    <tr>\n",
       "      <th>2</th>\n",
       "      <td>|  \\n\\n  \\nThis couple had an excellent relati...</td>\n",
       "      <td>2.0</td>\n",
       "    </tr>\n",
       "    <tr>\n",
       "      <th>3</th>\n",
       "      <td>|  \\n\\n  \\nQ. What's 200 feet long and has 4 t...</td>\n",
       "      <td>3.0</td>\n",
       "    </tr>\n",
       "    <tr>\n",
       "      <th>4</th>\n",
       "      <td>|  \\n\\n  \\nQ. What's the difference between a ...</td>\n",
       "      <td>4.0</td>\n",
       "    </tr>\n",
       "    <tr>\n",
       "      <th>5</th>\n",
       "      <td>|  \\n\\n  \\nQ. What's O. J. Simpson's Internet ...</td>\n",
       "      <td>5.0</td>\n",
       "    </tr>\n",
       "  </tbody>\n",
       "</table>\n",
       "</div>"
      ],
      "text/plain": [
       "                                                joke   id\n",
       "1    \\nA man visits the doctor. The doctor says \"...  1.0\n",
       "2  |  \\n\\n  \\nThis couple had an excellent relati...  2.0\n",
       "3  |  \\n\\n  \\nQ. What's 200 feet long and has 4 t...  3.0\n",
       "4  |  \\n\\n  \\nQ. What's the difference between a ...  4.0\n",
       "5  |  \\n\\n  \\nQ. What's O. J. Simpson's Internet ...  5.0"
      ]
     },
     "execution_count": 25,
     "metadata": {},
     "output_type": "execute_result"
    }
   ],
   "source": [
    "# overview\n",
    "jokes.head()"
   ]
  },
  {
   "cell_type": "code",
   "execution_count": 26,
   "metadata": {
    "jupyter": {
     "outputs_hidden": false
    }
   },
   "outputs": [
    {
     "name": "stdout",
     "output_type": "stream",
     "text": [
      "  \n",
      "A man visits the doctor. The doctor says \"I have bad news for you.You have\n",
      "cancer and Alzheimer's disease\".\n",
      "\n",
      "The man replies \"Well,thank God I don't have cancer!\"\n",
      "\n",
      "\n"
     ]
    }
   ],
   "source": [
    "# Specific example\n",
    "print(jokes.loc[1]['joke'])"
   ]
  },
  {
   "cell_type": "markdown",
   "metadata": {},
   "source": [
    "## Features extraction, engineering, and similarity matrix"
   ]
  },
  {
   "cell_type": "code",
   "execution_count": 27,
   "metadata": {
    "jupyter": {
     "outputs_hidden": false
    }
   },
   "outputs": [],
   "source": [
    "def similarity_matrix_content_base(jokes_df, min_df = 0.05, ngram_range=(1, 3)):\n",
    "    \"\"\" This function takes a set of sentence and computes the similarity between them \"\"\"\n",
    "    tf = TfidfVectorizer(analyzer='word', ngram_range = ngram_range, min_df = min_df, stop_words='english')\n",
    "    \n",
    "    # get the representation of our data in the new space from raw text\n",
    "    tfidf_matrix = tf.fit_transform(jokes_df['joke'])\n",
    "    \n",
    "    # compute the similaities between the senteces\n",
    "    sim = linear_kernel(tfidf_matrix, tfidf_matrix)\n",
    "    return sim\n",
    "\n",
    "#compute simiarlity between jokes\n",
    "S_CB = similarity_matrix_content_base(jokes)"
   ]
  },
  {
   "cell_type": "code",
   "execution_count": 28,
   "metadata": {
    "jupyter": {
     "outputs_hidden": false
    }
   },
   "outputs": [
    {
     "data": {
      "image/png": "[encoded data removed]",
      "text/plain": [
       "<Figure size 432x288 with 1 Axes>"
      ]
     },
     "metadata": {
      "needs_background": "light"
     },
     "output_type": "display_data"
    }
   ],
   "source": [
    "import matplotlib.pylab as plt\n",
    "plt.imshow(S_CB)\n",
    "plt.show()"
   ]
  },
  {
   "cell_type": "code",
   "execution_count": 29,
   "metadata": {
    "jupyter": {
     "outputs_hidden": false
    }
   },
   "outputs": [
    {
     "name": "stdout",
     "output_type": "stream",
     "text": [
      "******************    TARGET JOKE     *******************\n",
      "|  \n",
      "\n",
      "  \n",
      "This couple had an excellent relationship going until one day he came home\n",
      "from work to find his girlfriend packing. He asked her why she was leaving him\n",
      "and she told him that she had heard awful things about him.\n",
      "\n",
      "\"What could they possibly have said to make you move out?\"\n",
      "\n",
      "\"They told me that you were a pedophile.\"\n",
      "\n",
      "He replied, \"That's an awfully big word for a ten year old.\"  \n",
      "---|---\n",
      "\n",
      "\n",
      "****************** MOST SIMILAR JOKE  *******************\n",
      "  \n",
      "|\n",
      "\n",
      "  \n",
      "Two kindergarten girls were talking outside: one said, \"You won't believe what\n",
      "I saw on the patio yesterday--a condom!\"\n",
      "\n",
      "The second girl asked, \"What's a patio?\"  \n",
      "---|---\n",
      "\n",
      "\n"
     ]
    }
   ],
   "source": [
    "#most similar joke to target_joke\n",
    "target_joke = 1\n",
    "print('******************    TARGET JOKE     *******************')\n",
    "print(jokes.iloc[target_joke]['joke'])\n",
    "print('****************** MOST SIMILAR JOKE  *******************')\n",
    "print(jokes.iloc[np.argsort(-S_CB[target_joke,:])[1]]['joke'])"
   ]
  },
  {
   "cell_type": "markdown",
   "metadata": {},
   "source": [
    "## Content-Based Model"
   ]
  },
  {
   "cell_type": "markdown",
   "metadata": {},
   "source": [
    "### Exercice: Implement the methods  fit and predict from the class ContentBased recommender."
   ]
  },
  {
   "cell_type": "code",
   "execution_count": 30,
   "metadata": {
    "jupyter": {
     "outputs_hidden": false
    }
   },
   "outputs": [
    {
     "data": {
      "text/plain": [
       "0"
      ]
     },
     "execution_count": 30,
     "metadata": {},
     "output_type": "execute_result"
    }
   ],
   "source": [
    "from sklearn.metrics import mean_absolute_error\n",
    "MAX_RATING = 10.\n",
    "MIN_RATING = -10.\n",
    "class CB():\n",
    "    def __init__(self, X , sim_function):\n",
    "        self.Xtrain = X\n",
    "        self.sim_item2item = [] # Similarity Matrix between items\n",
    "        self.sim_function = sim_function # Function to compute item similarities\n",
    "        \n",
    "    def fit(self,items):\n",
    "        '''Learn Similarities between items'''\n",
    "        ### YOUR CODE HERE!!\n",
    "        return 0\n",
    "        \n",
    "    def predict_score(self, user_id, item_id):\n",
    "        '''Given a user_id and item_id predict it score'''\n",
    "        ### YOUR CODE HERE!!\n",
    "        return 0\n",
    "    \n",
    "    def predict_top(self, user_id, at = 5):\n",
    "        '''Given a user_id predict its top 5 items'''\n",
    "        ### YOUR CODE HERE!!\n",
    "        return []\n",
    "    \n",
    "    \n",
    "    \n",
    "cb_model = CB(train_set, sim_function = similarity_matrix_content_base)\n",
    "cb_model.fit(jokes)"
   ]
  },
  {
   "cell_type": "markdown",
   "metadata": {},
   "source": [
    "### Exercice:  MODEL EVALUATION"
   ]
  },
  {
   "cell_type": "code",
   "execution_count": 31,
   "metadata": {},
   "outputs": [],
   "source": [
    "def evaluate(test, recommender_object, df_original):\n",
    "        '''Evaluate System using MAE and RMSE'''\n",
    "        y_true = []\n",
    "        y_pred = []\n",
    "        for user_id,_ in test.iterrows():\n",
    "            y_true.append(list(df_original.loc[user_id][test.loc[user_id]['items']].values))\n",
    "            y_pred.append([recommender_object.predict_score(user_id,item_id) for item_id in test.loc[user_id]['items']])\n",
    "            \n",
    "        y_pred = np.array(sum(y_pred, []))\n",
    "        y_true = np.array(sum(y_true, []))\n",
    "        MAE = np.mean(np.abs(y_true-y_pred))\n",
    "        RMSE = np.sqrt(np.mean(np.abs(y_true-y_pred)))\n",
    "        print('MAE = ',MAE)\n",
    "        print('RMSE = ', RMSE)\n",
    "    \n",
    "def precision(recommended_items, relevant_items):\n",
    "    \n",
    "    is_relevant = np.in1d(recommended_items, relevant_items, assume_unique=True)\n",
    "    precision_score = np.sum(is_relevant, dtype=np.float32) / len(is_relevant)\n",
    "    return precision_score\n",
    "\n",
    "def recall(recommended_items, relevant_items):\n",
    "    \n",
    "    is_relevant = np.in1d(recommended_items, relevant_items, assume_unique=True)\n",
    "    recall_score = np.sum(is_relevant, dtype=np.float32) / relevant_items.shape[0]\n",
    "    return recall_score\n",
    "\n",
    "def AP(recommended_items, relevant_items):\n",
    "   \n",
    "    is_relevant = np.in1d(recommended_items, relevant_items, assume_unique=True)\n",
    "    # Cumulative sum: precision at 1, at 2, at 3 ...\n",
    "    p_at_k = is_relevant * np.cumsum(is_relevant, dtype=np.float32) / (1 + np.arange(is_relevant.shape[0]))\n",
    "    ap_score = np.sum(p_at_k) / np.min([relevant_items.shape[0], is_relevant.shape[0]])\n",
    "    return ap_score\n",
    "\n",
    "# We pass as paramether the recommender class\n",
    "\n",
    "def evaluate_algorithm(test, recommender_object, at=5):\n",
    "    \n",
    "    cumulative_precision = 0.0\n",
    "    cumulative_recall = 0.0\n",
    "    cumulative_AP = 0.0\n",
    "    num_eval = 0\n",
    "\n",
    "    for user_id,row in test.iterrows():\n",
    "\n",
    "        relevant_items = np.array(row['items'])[row['ratings']>0]\n",
    "    \n",
    "        if len(relevant_items)>0:\n",
    "            \n",
    "            recommended_items = recommender_object.predict_top(user_id, at=at)\n",
    "            num_eval+=1\n",
    "\n",
    "            cumulative_precision += precision(recommended_items, relevant_items)\n",
    "            cumulative_recall += recall(recommended_items, relevant_items)\n",
    "            cumulative_AP += AP(recommended_items, relevant_items)\n",
    "            \n",
    "    cumulative_precision /= num_eval\n",
    "    cumulative_recall /= num_eval\n",
    "    MAP = cumulative_AP / num_eval\n",
    "    \n",
    "    print(\"Recommender results are: Precision = {:.4f}, Recall = {:.4f}, MAP = {:.4f}\".format(\n",
    "        cumulative_precision, cumulative_recall, MAP)) "
   ]
  },
  {
   "cell_type": "code",
   "execution_count": 32,
   "metadata": {},
   "outputs": [
    {
     "name": "stdout",
     "output_type": "stream",
     "text": [
      "MAE =  4.529284468930888\n",
      "RMSE =  2.1282115658296026\n",
      "Recommender results are: Precision = nan, Recall = 0.0000, MAP = nan"
     ]
    },
    {
     "name": "stderr",
     "output_type": "stream",
     "text": [
      "<ipython-input-31-b1fa828f5cf0>:19: RuntimeWarning: invalid value encountered in true_divide\n",
      "  precision_score = np.sum(is_relevant, dtype=np.float32) / len(is_relevant)\n",
      "<ipython-input-31-b1fa828f5cf0>:33: RuntimeWarning: invalid value encountered in double_scalars\n",
      "  ap_score = np.sum(p_at_k) / np.min([relevant_items.shape[0], is_relevant.shape[0]])\n"
     ]
    },
    {
     "name": "stdout",
     "output_type": "stream",
     "text": [
      "\n"
     ]
    }
   ],
   "source": [
    "## MAE and RMSE error\n",
    "evaluate(test_set, cb_model, df_original)\n",
    "evaluate_algorithm(test_set, cb_model, at=5)"
   ]
  },
  {
   "cell_type": "code",
   "execution_count": 33,
   "metadata": {},
   "outputs": [
    {
     "data": {
      "text/plain": [
       "(1000, 3)"
      ]
     },
     "execution_count": 33,
     "metadata": {},
     "output_type": "execute_result"
    }
   ],
   "source": [
    "train_set.shape"
   ]
  },
  {
   "cell_type": "code",
   "execution_count": null,
   "metadata": {},
   "outputs": [],
   "source": []
  }
 ],
 "metadata": {
  "kernelspec": {
   "display_name": "Python 3",
   "language": "python",
   "name": "python3"
  },
  "language_info": {
   "codemirror_mode": {
    "name": "ipython",
    "version": 3
   },
   "file_extension": ".py",
   "mimetype": "text/x-python",
   "name": "python",
   "nbconvert_exporter": "python",
   "pygments_lexer": "ipython3",
   "version": "3.8.8"
  }
 },
 "nbformat": 4,
 "nbformat_minor": 4
}
