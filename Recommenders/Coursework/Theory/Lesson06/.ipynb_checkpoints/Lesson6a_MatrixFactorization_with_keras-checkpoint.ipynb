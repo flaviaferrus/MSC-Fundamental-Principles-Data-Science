{
 "cells": [
  {
   "cell_type": "markdown",
   "id": "097cf83b-a6c9-451f-bd15-a2ccb0e38e26",
   "metadata": {
    "tags": []
   },
   "source": [
    "# Lesson 6a:  Matrix Factorization with Keras"
   ]
  },
  {
   "cell_type": "code",
   "execution_count": 1,
   "id": "a9c7db2e",
   "metadata": {},
   "outputs": [
    {
     "data": {
      "text/html": [
       "<style>.container { width:100% !important; }</style>"
      ],
      "text/plain": [
       "<IPython.core.display.HTML object>"
      ]
     },
     "metadata": {},
     "output_type": "display_data"
    }
   ],
   "source": [
    "from IPython.core.display import display, HTML\n",
    "display(HTML(\"<style>.container { width:100% !important; }</style>\"))"
   ]
  },
  {
   "cell_type": "markdown",
   "id": "894bac21-eabf-4c25-b0b2-84ee86a86d63",
   "metadata": {},
   "source": [
    "The steps in the model are as follows:ç\n",
    "\n",
    "+ Map user ID to a \"user vector\" via an embedding matrix\n",
    "+ Map movie ID to a \"movie vector\" via an embedding matrix\n",
    "+ Compute the dot product between the user vector and movie vector, to obtain the a match score between the user and the movie (predicted rating).\n",
    "+ Train the embeddings via gradient descent using all known user-movie pairs."
   ]
  },
  {
   "cell_type": "code",
   "execution_count": 2,
   "id": "8eaa0db3-1d32-4067-bc69-bd1378ad3e40",
   "metadata": {},
   "outputs": [
    {
     "name": "stdout",
     "output_type": "stream",
     "text": [
      "mkdir: model: File exists\r\n"
     ]
    }
   ],
   "source": [
    "import pandas as pd\n",
    "import numpy as np\n",
    "from zipfile import ZipFile\n",
    "import tensorflow as tf\n",
    "from tensorflow import keras\n",
    "from tensorflow.keras import layers\n",
    "from pathlib import Path\n",
    "import matplotlib.pyplot as plt\n",
    "from tqdm import tqdm\n",
    "\n",
    "!mkdir model"
   ]
  },
  {
   "cell_type": "markdown",
   "id": "89caa100-326e-426d-9972-45e9a91e1c56",
   "metadata": {},
   "source": [
    "## Load Data and apply preprocessing"
   ]
  },
  {
   "cell_type": "code",
   "execution_count": 3,
   "id": "a983b549-3f06-4701-b76c-785530063345",
   "metadata": {},
   "outputs": [],
   "source": [
    "# Download the actual data from http://files.grouplens.org/datasets/movielens/ml-latest-small.zip\"\n",
    "# Use the ratings.csv file\n",
    "movielens_data_file_url = (\n",
    "    \"http://files.grouplens.org/datasets/movielens/ml-1m.zip\"\n",
    ")\n",
    "movielens_zipped_file = keras.utils.get_file(\n",
    "    \"ml-1m.zip\", movielens_data_file_url, extract=False\n",
    ")\n",
    "keras_datasets_path = Path(movielens_zipped_file).parents[0]\n",
    "movielens_dir = keras_datasets_path / \"ml-1m\"\n",
    "\n",
    "# Only extract the data the first time the script is run.\n",
    "if not movielens_dir.exists():\n",
    "    with ZipFile(movielens_zipped_file, \"r\") as zip:\n",
    "        # Extract files\n",
    "        print(\"Extracting all the files now...\")\n",
    "        zip.extractall(path=keras_datasets_path)\n",
    "        print(\"Done!\")\n",
    "\n",
    "\n",
    "def load_movies(movielens_dir):\n",
    "    COL_NAME = ['mid','movie_name','movie_genre']\n",
    "    df = pd.read_csv(movielens_dir / 'movies.dat',sep='::', header=None, engine='python', names=COL_NAME, encoding='latin-1')\n",
    "    df.columns= ['movie_id','title','movie_genre']\n",
    "    return df\n",
    "\n",
    "\n",
    "def load_ratings(movielens_dir):\n",
    "    COL_NAME = ['uid','mid','rating','timestamp']\n",
    "    df = pd.read_csv(movielens_dir / 'ratings.dat',sep='::', header=None, engine='python', names=COL_NAME)\n",
    "    df.columns=['user_id','movie_id','rating','timestamp']\n",
    "    return df\n",
    "\n",
    "df = load_ratings(movielens_dir)"
   ]
  },
  {
   "cell_type": "markdown",
   "id": "05d189a3-101e-49aa-a296-01d135e15887",
   "metadata": {},
   "source": [
    "First, need to perform some preprocessing to encode users and movies as integer indices."
   ]
  },
  {
   "cell_type": "code",
   "execution_count": 4,
   "id": "325fd55f-b28c-4392-b2f8-6072098931b5",
   "metadata": {},
   "outputs": [
    {
     "name": "stdout",
     "output_type": "stream",
     "text": [
      "Number of users: 6040, Number of Movies: 3706, Min rating: 1.0, Max rating: 5.0\n"
     ]
    }
   ],
   "source": [
    "user_ids = df[\"user_id\"].unique().tolist()\n",
    "user2user_encoded = {x: i for i, x in enumerate(user_ids)}\n",
    "userencoded2user = {i: x for i, x in enumerate(user_ids)}\n",
    "movie_ids = df[\"movie_id\"].unique().tolist()\n",
    "movie2movie_encoded = {x: i for i, x in enumerate(movie_ids)}\n",
    "movie_encoded2movie = {i: x for i, x in enumerate(movie_ids)}\n",
    "df[\"user\"] = df[\"user_id\"].map(user2user_encoded)\n",
    "df[\"movie\"] = df[\"movie_id\"].map(movie2movie_encoded)\n",
    "\n",
    "num_users = len(user2user_encoded)\n",
    "num_movies = len(movie_encoded2movie)\n",
    "df[\"rating\"] = df[\"rating\"].values.astype(np.float32)\n",
    "# min and max ratings will be used to normalize the ratings later\n",
    "min_rating = min(df[\"rating\"])\n",
    "max_rating = max(df[\"rating\"])\n",
    "\n",
    "print(\n",
    "    \"Number of users: {}, Number of Movies: {}, Min rating: {}, Max rating: {}\".format(\n",
    "        num_users, num_movies, min_rating, max_rating\n",
    "    )\n",
    ")"
   ]
  },
  {
   "cell_type": "code",
   "execution_count": 5,
   "id": "d4a03d2c-992d-4995-abc3-1d0e46cce1d6",
   "metadata": {},
   "outputs": [
    {
     "data": {
      "text/html": [
       "<div>\n",
       "<style scoped>\n",
       "    .dataframe tbody tr th:only-of-type {\n",
       "        vertical-align: middle;\n",
       "    }\n",
       "\n",
       "    .dataframe tbody tr th {\n",
       "        vertical-align: top;\n",
       "    }\n",
       "\n",
       "    .dataframe thead th {\n",
       "        text-align: right;\n",
       "    }\n",
       "</style>\n",
       "<table border=\"1\" class=\"dataframe\">\n",
       "  <thead>\n",
       "    <tr style=\"text-align: right;\">\n",
       "      <th></th>\n",
       "      <th>user_id</th>\n",
       "      <th>movie_id</th>\n",
       "      <th>rating</th>\n",
       "      <th>timestamp</th>\n",
       "      <th>user</th>\n",
       "      <th>movie</th>\n",
       "    </tr>\n",
       "  </thead>\n",
       "  <tbody>\n",
       "    <tr>\n",
       "      <th>0</th>\n",
       "      <td>1</td>\n",
       "      <td>1193</td>\n",
       "      <td>5.0</td>\n",
       "      <td>978300760</td>\n",
       "      <td>0</td>\n",
       "      <td>0</td>\n",
       "    </tr>\n",
       "    <tr>\n",
       "      <th>1</th>\n",
       "      <td>1</td>\n",
       "      <td>661</td>\n",
       "      <td>3.0</td>\n",
       "      <td>978302109</td>\n",
       "      <td>0</td>\n",
       "      <td>1</td>\n",
       "    </tr>\n",
       "    <tr>\n",
       "      <th>2</th>\n",
       "      <td>1</td>\n",
       "      <td>914</td>\n",
       "      <td>3.0</td>\n",
       "      <td>978301968</td>\n",
       "      <td>0</td>\n",
       "      <td>2</td>\n",
       "    </tr>\n",
       "    <tr>\n",
       "      <th>3</th>\n",
       "      <td>1</td>\n",
       "      <td>3408</td>\n",
       "      <td>4.0</td>\n",
       "      <td>978300275</td>\n",
       "      <td>0</td>\n",
       "      <td>3</td>\n",
       "    </tr>\n",
       "    <tr>\n",
       "      <th>4</th>\n",
       "      <td>1</td>\n",
       "      <td>2355</td>\n",
       "      <td>5.0</td>\n",
       "      <td>978824291</td>\n",
       "      <td>0</td>\n",
       "      <td>4</td>\n",
       "    </tr>\n",
       "    <tr>\n",
       "      <th>...</th>\n",
       "      <td>...</td>\n",
       "      <td>...</td>\n",
       "      <td>...</td>\n",
       "      <td>...</td>\n",
       "      <td>...</td>\n",
       "      <td>...</td>\n",
       "    </tr>\n",
       "    <tr>\n",
       "      <th>1000204</th>\n",
       "      <td>6040</td>\n",
       "      <td>1091</td>\n",
       "      <td>1.0</td>\n",
       "      <td>956716541</td>\n",
       "      <td>6039</td>\n",
       "      <td>772</td>\n",
       "    </tr>\n",
       "    <tr>\n",
       "      <th>1000205</th>\n",
       "      <td>6040</td>\n",
       "      <td>1094</td>\n",
       "      <td>5.0</td>\n",
       "      <td>956704887</td>\n",
       "      <td>6039</td>\n",
       "      <td>1106</td>\n",
       "    </tr>\n",
       "    <tr>\n",
       "      <th>1000206</th>\n",
       "      <td>6040</td>\n",
       "      <td>562</td>\n",
       "      <td>5.0</td>\n",
       "      <td>956704746</td>\n",
       "      <td>6039</td>\n",
       "      <td>365</td>\n",
       "    </tr>\n",
       "    <tr>\n",
       "      <th>1000207</th>\n",
       "      <td>6040</td>\n",
       "      <td>1096</td>\n",
       "      <td>4.0</td>\n",
       "      <td>956715648</td>\n",
       "      <td>6039</td>\n",
       "      <td>152</td>\n",
       "    </tr>\n",
       "    <tr>\n",
       "      <th>1000208</th>\n",
       "      <td>6040</td>\n",
       "      <td>1097</td>\n",
       "      <td>4.0</td>\n",
       "      <td>956715569</td>\n",
       "      <td>6039</td>\n",
       "      <td>26</td>\n",
       "    </tr>\n",
       "  </tbody>\n",
       "</table>\n",
       "<p>1000209 rows × 6 columns</p>\n",
       "</div>"
      ],
      "text/plain": [
       "         user_id  movie_id  rating  timestamp  user  movie\n",
       "0              1      1193     5.0  978300760     0      0\n",
       "1              1       661     3.0  978302109     0      1\n",
       "2              1       914     3.0  978301968     0      2\n",
       "3              1      3408     4.0  978300275     0      3\n",
       "4              1      2355     5.0  978824291     0      4\n",
       "...          ...       ...     ...        ...   ...    ...\n",
       "1000204     6040      1091     1.0  956716541  6039    772\n",
       "1000205     6040      1094     5.0  956704887  6039   1106\n",
       "1000206     6040       562     5.0  956704746  6039    365\n",
       "1000207     6040      1096     4.0  956715648  6039    152\n",
       "1000208     6040      1097     4.0  956715569  6039     26\n",
       "\n",
       "[1000209 rows x 6 columns]"
      ]
     },
     "execution_count": 5,
     "metadata": {},
     "output_type": "execute_result"
    }
   ],
   "source": [
    "df"
   ]
  },
  {
   "cell_type": "markdown",
   "id": "d11ad4ca-f70a-416b-bd9c-e1b7bd59fbb1",
   "metadata": {},
   "source": [
    "### Prepare training and validation data"
   ]
  },
  {
   "cell_type": "code",
   "execution_count": 6,
   "id": "c8c2d2d9-3bc6-402f-a3e5-38cb48093a9c",
   "metadata": {},
   "outputs": [],
   "source": [
    "from sklearn.model_selection import train_test_split\n",
    "\n",
    "train, val = train_test_split(df, test_size=0.2, random_state=7)"
   ]
  },
  {
   "cell_type": "code",
   "execution_count": 7,
   "id": "063ee7e6-bd65-4af4-a6c7-a98cc2b46b96",
   "metadata": {},
   "outputs": [],
   "source": [
    "x_train = train[[\"user\", \"movie\"]].values\n",
    "y_train = train[\"rating\"].values\n",
    "\n",
    "x_val = val[[\"user\", \"movie\"]].values\n",
    "y_val = val[\"rating\"].values"
   ]
  },
  {
   "cell_type": "markdown",
   "id": "dd578f6c-673e-4fa1-a694-3b48d37343f0",
   "metadata": {},
   "source": [
    "## Evaluation function"
   ]
  },
  {
   "cell_type": "markdown",
   "id": "16dd31ce-7d6a-4741-bb59-26a9184cba56",
   "metadata": {},
   "source": [
    "We make a function in order to plot the metrics/losses graphics once the model has been trained."
   ]
  },
  {
   "cell_type": "code",
   "execution_count": 8,
   "id": "813f275d-3fa8-49ec-b149-bdb1c51d01af",
   "metadata": {},
   "outputs": [],
   "source": [
    "def plot_train_val_losses(history):\n",
    "    plt.plot(history.history[\"loss\"])\n",
    "    plt.plot(history.history[\"val_loss\"])\n",
    "    plt.title(\"model loss\")\n",
    "    plt.ylabel(\"loss\")\n",
    "    plt.xlabel(\"epoch\")\n",
    "    plt.legend([\"train\", \"test\"], loc=\"upper left\")\n",
    "    plt.axis([0,len(history.history[\"loss\"]),np.min(history.history[\"loss\"]),np.max(history.history[\"val_loss\"])])\n",
    "    plt.show()"
   ]
  },
  {
   "cell_type": "markdown",
   "id": "e298bb94-5171-4066-83e5-6ca6e6a8ed56",
   "metadata": {},
   "source": [
    "## Create MF model\n",
    "\n",
    "We embed both users and movies in to 10-dimensional vectors.\n",
    "\n",
    "The model computes a match score between user and movie embeddings via a dot product, and adds a per-movie and per-user bias."
   ]
  },
  {
   "cell_type": "code",
   "execution_count": 9,
   "id": "8b7dd07e-f175-451d-817d-711057f97cb3",
   "metadata": {},
   "outputs": [
    {
     "name": "stderr",
     "output_type": "stream",
     "text": [
      "2023-03-08 18:15:27.553677: I tensorflow/core/platform/cpu_feature_guard.cc:142] This TensorFlow binary is optimized with oneAPI Deep Neural Network Library (oneDNN) to use the following CPU instructions in performance-critical operations:  AVX2 FMA\n",
      "To enable them in other operations, rebuild TensorFlow with the appropriate compiler flags.\n"
     ]
    }
   ],
   "source": [
    "EMBEDDING_SIZE = 10\n",
    "\n",
    "class RecommenderNetV(keras.Model):\n",
    "    def __init__(self, num_users, num_movies, embedding_size, **kwargs):\n",
    "        super(RecommenderNetV, self).__init__(**kwargs)\n",
    "        self.num_users = num_users\n",
    "        self.num_movies = num_movies\n",
    "        self.embedding_size = embedding_size\n",
    "        self.user_movie_embedding = layers.Embedding(\n",
    "            num_users+num_movies,\n",
    "            embedding_size,\n",
    "            embeddings_initializer=\"he_normal\",\n",
    "            embeddings_regularizer=keras.regularizers.l2(1e-6),\n",
    "        )\n",
    "        self.user_bias = layers.Embedding(num_users, 1)\n",
    "        self.movie_bias = layers.Embedding(num_movies, 1)\n",
    "\n",
    "    def call(self, inputs):\n",
    "        user_vector = self.user_movie_embedding(inputs[:, 0])\n",
    "        movie_vector = self.user_movie_embedding(inputs[:, 1]+num_users)\n",
    "        user_bias = self.user_bias(inputs[:, 0])\n",
    "        movie_bias = self.movie_bias(inputs[:, 1])\n",
    "        dot_user_movie = tf.tensordot(user_vector, movie_vector, 2)\n",
    "        # Add all the components (including bias)\n",
    "        x = dot_user_movie + user_bias + movie_bias\n",
    "        return x\n",
    "\n",
    "\n",
    "mf_model = RecommenderNetV(num_users, num_movies, EMBEDDING_SIZE)\n",
    "mf_model.compile(\n",
    "    loss=tf.keras.losses.MeanSquaredError(), \n",
    "    optimizer=keras.optimizers.Adam(learning_rate=0.0005)\n",
    ")"
   ]
  },
  {
   "cell_type": "markdown",
   "id": "5b0b5630-6425-4989-a63e-46da74146e59",
   "metadata": {},
   "source": [
    "## Train and evaluate MF model"
   ]
  },
  {
   "cell_type": "code",
   "execution_count": 10,
   "id": "fe8a7ab6-b894-4a97-b474-09d2b963e5b2",
   "metadata": {},
   "outputs": [
    {
     "name": "stderr",
     "output_type": "stream",
     "text": [
      "2023-03-08 18:15:28.924464: I tensorflow/compiler/mlir/mlir_graph_optimization_pass.cc:176] None of the MLIR Optimization Passes are enabled (registered 2)\n"
     ]
    },
    {
     "name": "stdout",
     "output_type": "stream",
     "text": [
      "Epoch 1/5\n",
      "6252/6252 [==============================] - 4s 650us/step - loss: 2.6116 - val_loss: 1.0112\n",
      "Epoch 2/5\n",
      "6252/6252 [==============================] - 4s 638us/step - loss: 0.9482 - val_loss: 0.9086\n",
      "Epoch 3/5\n",
      "6252/6252 [==============================] - 4s 638us/step - loss: 0.8844 - val_loss: 0.8752\n",
      "Epoch 4/5\n",
      "6252/6252 [==============================] - 4s 639us/step - loss: 0.8596 - val_loss: 0.8609\n",
      "Epoch 5/5\n",
      "6252/6252 [==============================] - 4s 633us/step - loss: 0.8491 - val_loss: 0.8567\n"
     ]
    }
   ],
   "source": [
    "mf_history = mf_model.fit(\n",
    "    x=x_train,\n",
    "    y=y_train,\n",
    "    batch_size=128,\n",
    "    epochs=5,\n",
    "    verbose=1,\n",
    "    validation_data=(x_val, y_val),\n",
    ")"
   ]
  },
  {
   "cell_type": "markdown",
   "id": "26e42447-bc79-4e42-8d09-c4b4cb872f2d",
   "metadata": {},
   "source": [
    "## UI Demonstration"
   ]
  },
  {
   "cell_type": "markdown",
   "id": "15156ab4-54a8-4348-8f43-427346bbe283",
   "metadata": {},
   "source": [
    "Show top 10 movie recommendations to a user"
   ]
  },
  {
   "cell_type": "code",
   "execution_count": 11,
   "id": "e8b87b46-3c20-456d-a2f2-1fceffb5f461",
   "metadata": {},
   "outputs": [
    {
     "name": "stdout",
     "output_type": "stream",
     "text": [
      "Showing recommendations for user: 4506\n",
      "====================================\n",
      "Movies with high ratings from user\n",
      "--------------------------------\n",
      "Monty Python and the Holy Grail (1974) : Comedy\n",
      "Thin Blue Line, The (1988) : Documentary\n",
      "To Kill a Mockingbird (1962) : Drama\n",
      "Birds, The (1963) : Horror\n",
      "Deliverance (1972) : Adventure|Thriller\n",
      "--------------------------------\n",
      "Top 10 movie recommendations\n",
      "--------------------------------\n",
      "Usual Suspects, The (1995) : Crime|Thriller\n",
      "Sunset Blvd. (a.k.a. Sunset Boulevard) (1950) : Film-Noir\n",
      "All About Eve (1950) : Drama\n",
      "Wrong Trousers, The (1993) : Animation|Comedy\n",
      "Third Man, The (1949) : Mystery|Thriller\n",
      "Seven Samurai (The Magnificent Seven) (Shichinin no samurai) (1954) : Action|Drama\n",
      "Strangers on a Train (1951) : Film-Noir|Thriller\n",
      "Sixth Sense, The (1999) : Thriller\n",
      "General, The (1927) : Comedy\n",
      "Yojimbo (1961) : Comedy|Drama|Western\n"
     ]
    }
   ],
   "source": [
    "movie_df = load_movies(movielens_dir)\n",
    "# Let us get a user and see the top recommendations.\n",
    "user_id = df.user_id.sample(1).iloc[0]\n",
    "movies_watched_by_user = df[df.user_id == user_id]\n",
    "movies_not_watched = movie_df[~movie_df[\"movie_id\"].isin(movies_watched_by_user.movie_id.values)][\"movie_id\"]\n",
    "movies_not_watched = list(set(movies_not_watched).intersection(set(movie2movie_encoded.keys())))\n",
    "movies_not_watched = [[movie2movie_encoded.get(x)] for x in movies_not_watched]\n",
    "\n",
    "user_encoder = user2user_encoded.get(user_id)\n",
    "user_movie_array = np.hstack(([[user_encoder]] * len(movies_not_watched), movies_not_watched))\n",
    "\n",
    "ratings = mf_model.predict(user_movie_array).flatten()\n",
    "top_ratings_indices = ratings.argsort()[-10:][::-1]\n",
    "recommended_movie_ids = [movie_encoded2movie.get(movies_not_watched[x][0]) for x in top_ratings_indices]\n",
    "\n",
    "print(\"Showing recommendations for user: {}\".format(user_id))\n",
    "print(\"====\" * 9)\n",
    "print(\"Movies with high ratings from user\")\n",
    "print(\"----\" * 8)\n",
    "top_movies_user = (movies_watched_by_user.sort_values(by=\"rating\", ascending=False).head(5).movie_id.values)\n",
    "\n",
    "movie_df_rows = movie_df[movie_df[\"movie_id\"].isin(top_movies_user)]\n",
    "for row in movie_df_rows.itertuples():\n",
    "    print(row.title, \":\", row.movie_genre)\n",
    "\n",
    "print(\"----\" * 8)\n",
    "print(\"Top 10 movie recommendations\")\n",
    "print(\"----\" * 8)\n",
    "recommended_movies = movie_df[movie_df[\"movie_id\"].isin(recommended_movie_ids)]\n",
    "for row in recommended_movies.itertuples():\n",
    "    print(row.title, \":\", row.movie_genre)"
   ]
  },
  {
   "cell_type": "code",
   "execution_count": 12,
   "id": "c1d7b7f9",
   "metadata": {},
   "outputs": [
    {
     "name": "stdout",
     "output_type": "stream",
     "text": [
      "[318, 2019, 527, 1148, 745, 858, 50, 922, 904, 1212]\n"
     ]
    }
   ],
   "source": [
    "def top_recomendations(model_object, user_id, train, movie_df,at = 5):\n",
    "    movies_watched_by_user = train[train.user_id == user_id]\n",
    "\n",
    "    movies_not_watched = movie_df[~movie_df[\"movie_id\"].isin(movies_watched_by_user.movie_id.values)][\"movie_id\"]\n",
    "    movies_not_watched = list(set(movies_not_watched).intersection(set(movie2movie_encoded.keys())))\n",
    "    movies_not_watched = [[movie2movie_encoded.get(x)] for x in movies_not_watched]\n",
    "\n",
    "    \n",
    "    user_encoder = user2user_encoded.get(user_id)\n",
    "    user_movie_array = np.hstack(([[user_encoder]] * len(movies_not_watched), movies_not_watched))\n",
    "\n",
    "    ratings = model_object.predict(user_movie_array,verbose=0).flatten()\n",
    "    top_ratings_indices = ratings.argsort()[-at:][::-1]\n",
    "    recommended_movie_ids = [movie_encoded2movie.get(movies_not_watched[x][0]) for x in top_ratings_indices]\n",
    "    return recommended_movie_ids\n",
    "r = top_recomendations(mf_model, 4,train,movie_df,10)\n",
    "print(r) "
   ]
  },
  {
   "cell_type": "code",
   "execution_count": 13,
   "id": "9de60a99",
   "metadata": {},
   "outputs": [],
   "source": [
    "def precision(recommended_items, relevant_items):\n",
    "    is_relevant = np.in1d(recommended_items, relevant_items, assume_unique=True)\n",
    "    precision_score = np.sum(is_relevant, dtype=np.float32) / len(is_relevant)\n",
    "    \n",
    "    return precision_score\n",
    "\n",
    "def recall(recommended_items, relevant_items):  \n",
    "    is_relevant = np.in1d(recommended_items, relevant_items, assume_unique=True)\n",
    "    recall_score = np.sum(is_relevant, dtype=np.float32) / relevant_items.shape[0]\n",
    "    \n",
    "    return recall_score\n",
    "\n",
    "def AP(recommended_items, relevant_items):\n",
    "   \n",
    "    is_relevant = np.in1d(recommended_items, relevant_items, assume_unique=True)\n",
    "    # Cumulative sum: precision at 1, at 2, at 3 ...\n",
    "    p_at_k = is_relevant * np.cumsum(is_relevant, dtype=np.float32) / (1 + np.arange(is_relevant.shape[0]))\n",
    "    ap_score = np.sum(p_at_k) / np.min([relevant_items.shape[0], is_relevant.shape[0]])\n",
    "\n",
    "    return ap_score\n",
    "\n",
    "def evaluate_algorithm_top(train, test, recommender_object, movie_df, at=25, thr_relevant = 0.85):\n",
    "    \n",
    "    cumulative_precision = 0.0\n",
    "    cumulative_recall = 0.0\n",
    "    cumulative_AP = 0.0\n",
    "    \n",
    "    num_eval = 0\n",
    "\n",
    "\n",
    "    for user_id in tqdm(test.user_id.unique()):\n",
    "        \n",
    "        relevant_items = test[test.user_id==user_id]\n",
    "        thr = np.quantile(relevant_items.rating,thr_relevant)\n",
    "        relevant_items = np.array(relevant_items[relevant_items.rating >=thr].movie_id.values)\n",
    "        if len(relevant_items)>0:\n",
    "            \n",
    "            recommended_items = top_recomendations(recommender_object,user_id, train, movie_df, at=at)\n",
    "            num_eval+=1\n",
    "\n",
    "            cumulative_precision += precision(recommended_items, relevant_items)\n",
    "            cumulative_recall += recall(recommended_items, relevant_items)\n",
    "            cumulative_AP += AP(recommended_items, relevant_items)\n",
    "            \n",
    "    cumulative_precision /= num_eval\n",
    "    cumulative_recall /= num_eval\n",
    "    MAP = cumulative_AP / num_eval\n",
    "    \n",
    "    print(\"Recommender results are: Precision = {:.4f}, Recall = {:.4f}, MAP = {:.4f}\".format(\n",
    "        cumulative_precision, cumulative_recall, MAP)) "
   ]
  },
  {
   "cell_type": "code",
   "execution_count": 14,
   "id": "f703eef6",
   "metadata": {},
   "outputs": [
    {
     "name": "stderr",
     "output_type": "stream",
     "text": [
      "100%|███████████████████████████████████████| 6037/6037 [05:14<00:00, 19.19it/s]"
     ]
    },
    {
     "name": "stdout",
     "output_type": "stream",
     "text": [
      "Recommender results are: Precision = 0.0362, Recall = 0.0927, MAP = 0.0205\n"
     ]
    },
    {
     "name": "stderr",
     "output_type": "stream",
     "text": [
      "\n"
     ]
    }
   ],
   "source": [
    "evaluate_algorithm_top(train, val, mf_model, movie_df, at = 25)"
   ]
  }
 ],
 "metadata": {
  "kernelspec": {
   "display_name": "Python 3 (ipykernel)",
   "language": "python",
   "name": "python3"
  },
  "language_info": {
   "codemirror_mode": {
    "name": "ipython",
    "version": 3
   },
   "file_extension": ".py",
   "mimetype": "text/x-python",
   "name": "python",
   "nbconvert_exporter": "python",
   "pygments_lexer": "ipython3",
   "version": "3.7.11"
  }
 },
 "nbformat": 4,
 "nbformat_minor": 5
}
