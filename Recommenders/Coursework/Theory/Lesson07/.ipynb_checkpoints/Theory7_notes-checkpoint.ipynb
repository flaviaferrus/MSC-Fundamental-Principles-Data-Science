{
 "cells": [
  {
   "cell_type": "markdown",
   "id": "5c3f0dcf-f46f-4fcf-b54e-19c846d3eafb",
   "metadata": {},
   "source": [
    "## The problem\n",
    "\n",
    "We are considering the problem of how to rank the items that we have. \n",
    "\n",
    "### Learning to rank\n",
    "\n",
    "We are considering optimization techniques. We are considering 3 different approaches:\n",
    "- Pointwise: basically predicting out the rank for eahc singular item\n",
    "- Pairwise: the input of the model are two elements: item i, item j. And our model will predict $\\pm 1$ depending on if the order of the input meets the importance order. \n",
    "    - PROS: General criteria: it encodes the order of importance. \n",
    "    - CONS: Sometimes this order is really noisy. We would be more focused on the difference between 5 and 4 than between 4 and 1, so why would we spend time optimizing this? Or even 2 and 1. \n",
    "    - Several methods: \n",
    "        - RANK SVM, \n",
    "        - RankNet: explicit data, like scores. Works with a sigmoid between each two scores i,j. Computes the cross-entropy between y and p. The input is two items, so we have two outputs. Problem: same pair-level error but different list-level error (it does not depend on the order of the pair on the total distribution, or on the value of the pair, it just compares the difference). \n",
    "        - LambdaRank: instead of taking intoa account the gradients of the cross-entropy, it considers a modified function of the gradients NDCG (normalized discounted cumulative gain). \n",
    "        - Bayesian Personalized Ranking: most popular to work with implicit data. \n",
    "- Listwise\n",
    "\n"
   ]
  }
 ],
 "metadata": {
  "kernelspec": {
   "display_name": "Python 3 (ipykernel)",
   "language": "python",
   "name": "python3"
  },
  "language_info": {
   "codemirror_mode": {
    "name": "ipython",
    "version": 3
   },
   "file_extension": ".py",
   "mimetype": "text/x-python",
   "name": "python",
   "nbconvert_exporter": "python",
   "pygments_lexer": "ipython3",
   "version": "3.9.7"
  }
 },
 "nbformat": 4,
 "nbformat_minor": 5
}
