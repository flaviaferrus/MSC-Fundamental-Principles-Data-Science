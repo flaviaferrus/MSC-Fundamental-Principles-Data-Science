{
 "cells": [
  {
   "cell_type": "markdown",
   "id": "311a01dc-25bd-4ed8-b1a7-6a59421752a4",
   "metadata": {},
   "source": [
    "# Introduction"
   ]
  },
  {
   "cell_type": "markdown",
   "id": "fd6de5c6-74c9-4680-894c-33d7f843e300",
   "metadata": {},
   "source": [
    "The basic models for recommender systems work with two kinds of data, which are \n",
    "- (i) the user-item interactions, such as ratings or buying behavior: **collaborative filtering methods**, and \n",
    "- (ii) the attribute information about the users and items such as textual profiles or relevant keywords: **content-based recommender methods** \n",
    "- In **knowledge-based recommender** systems, the recommendations are based on explicitly specified user requirements. Instead of using historical rating or buying data, external knowledge bases and constraints are used to create the recommendation.\n",
    "- **Hybrid systems** can combine the strengths of various types of recommender systems to create techniques that can perform more robustly in a wide variety of settings."
   ]
  },
  {
   "cell_type": "markdown",
   "id": "3575f2ab-42d6-4242-9c4c-f225b39fdc1f",
   "metadata": {},
   "source": [
    "# Content based Recommender System"
   ]
  },
  {
   "cell_type": "markdown",
   "id": "9fc705b8-513d-4427-9ee4-a8aeb6402689",
   "metadata": {},
   "source": [
    "In content-based recommender systems, the descriptive attributes of items are used to make recommendations. The item descriptions, which are labeled with ratings, are used as training data to create a user-specific classification or regression modeling problem. For each user, the training documents correspond to the descriptions of the items she has bought or rated\n",
    "\n",
    "ADVANTAGES:\n",
    "- making recommendations for new items, when sufficient rating data are not available for that item.\n",
    "- Transparency\n",
    "- User independence: no need for user data\n",
    "\n",
    "Popular for: **cold-start problems**:\n",
    "- One of the major problems in recommender systems is that the **number of initially available ratings is relatively small**. In such cases, it becomes more difficult to apply traditional collaborative filtering models. Content-based models are more robust than collaborative models in presence of colrd starts. \n",
    "\n",
    "DISADVANTAGES: \n",
    "- Limited to content: content-based methods provide obvious recommendations because of the use of keywords or content.\n",
    "- Over-specified: the constructed model is specific to the user at hand, and the community knowledge from similar users is not leveraged. This phenomenon tends to reduce the diversity of the recommended items, which is undesirable.\n",
    "- not effective at providing recommendations for new users. The training model for the target user needs to use the history of her ratings. In fact, it is usually important to have a large number of ratings available for the target user in order to make robust predictions without overfitting."
   ]
  },
  {
   "cell_type": "markdown",
   "id": "d0143e47-a591-4830-bfef-efbac9fbfe3c",
   "metadata": {
    "tags": []
   },
   "source": [
    "# Collaborative filtering"
   ]
  },
  {
   "cell_type": "markdown",
   "id": "d3662438-2c2d-41d3-add3-a01d7d15d5df",
   "metadata": {},
   "source": [
    "Collaborative filtering models use the collaborative power of the ratings provided by multiple users to make recommendations. \n",
    "\n",
    "The basic idea of collaborative filtering methods is that these unspecified ratings can be imputed because the observed ratings are often highly correlated across various users and items. This similarity can be used to make inferences about incompletely specified values. Most of the models for collaborative filtering focus on leveraging either inter-item correlations or inter-user correlations for the prediction process. Some models use both types of correlations. Furthermore, some models use carefully designed optimization techniques to create a training model in much the same way a classifier creates a training model from the labeled data. This model is then used to impute the missing values in the matrix, in the same way that a classifier imputes the missing test labels. There are two types of methods that are commonly used in collaborative filtering:\n",
    "- **Memory-based methods** or *neighborhood- based collaborative filtering algorithms*: ratings of user-item combinations are predicted on the basis of their neighborhoods. These neighbours can be defined in two ways:\n",
    "    - **User-based collaborative filtering:** the ratings provided by like-minded users of a target user A are used in order to make the recommendations for A. Thus, the basic idea is to determine users, who are similar to the target user A (**user similarity**), and recommend ratings for the unobserved ratings of A by computing weighted averages of the ratings of this peer group. \n",
    "        - Similarity functions are computed between the rows of the ratings matrix to discover **similar users**.\n",
    "        - the ratings are predicted using the ratings of neighboring users\n",
    "    - **Item-based collaborative filtering:** In order to make the rating predictions for target item B by user A, the first step is to determine a set S of items that are most similar to target item B. The ratings in item set S, which are specified by A, are used to predict whether the user A will like item B. \n",
    "        - Similarity functions are computed between the *columns of the ratings matrix* to discover **similar items**.\n",
    "        - the ratings are predicted using the user's own ratings on neighboring items (closely related)\n",
    "    - *PROS* of memory-based techniques are that they are simple to implement and the resulting recommendations are often easy to explain.\n",
    "    - *CONS* memory-based algorithms do not work very well with sparse ratings matrices\n",
    "- **Model-based methods:** machine learning and data mining methods are used in the context of predictive models.\n",
    "    - Ex: decision trees, rule-based models, Bayesian methods and latent factor models\n",
    "        - Latent factors: Latent factor models are considered to be state-of-the-art in recommender systems. These models leverage well-known dimensionality reduction methods to fill in the missing entries. \n",
    "    \n",
    "PROBLEMS:\n",
    "- The main challenge in designing collaborative filtering methods is that the underlying ratings matrices are sparse.\n",
    "- Cold-Start: there needs to be enough other users to find a mathc\n",
    "- First rater: cannot recommend items that have not been previously rated\n",
    "- Popularity bias\n",
    "\n",
    "PROS:\n",
    "- Collaborative filtering models are closely related to missing value analysis\n"
   ]
  },
  {
   "cell_type": "markdown",
   "id": "d7922ecb-25a9-4c5b-8ff2-1918d48d84ac",
   "metadata": {},
   "source": [
    "## Latent Factor Models: Matrix Factorization"
   ]
  },
  {
   "cell_type": "markdown",
   "id": "360d294b-2334-491a-ad21-d6eb792085a2",
   "metadata": {},
   "source": [
    "Factorization is, in fact, a more general way of approximating a matrix when it is prone to dimensionality reduction because of correlations between columns (or rows). Most dimensionality reduction methods can also be expressed as matrix factorizations. The m × n ratings matrix R is approximately factorized into an m × k matrix U and an n × k matrix V: $R \\approx U V^T$. Each column of U (or V ) is referred to as a latent vector or latent component, whereas each row of U (or V) is referred to as a latent factor. \n",
    "- The ith row ui of U is referred to as a user factor, and it contains k entries corresponding to the affinity of user i towards the k concepts in the ratings matrix.\n",
    "- Similarly, each row vi of V is referred to as an item factor, and it represents the affinity of the ith item towards these k concepts.\n",
    "Therefore, each rating $r_{ij}$ in R can be approximately expressed as a dot product of the ith user factor and jth item factor: $r_{ij} \\approx u_i \\cdot \\overline{v_j}$"
   ]
  },
  {
   "cell_type": "markdown",
   "id": "6e3dd932-a504-418c-bbc9-1cd42564eec3",
   "metadata": {
    "tags": []
   },
   "source": [
    "\n",
    "## Formulation of the RecSys problem"
   ]
  },
  {
   "cell_type": "markdown",
   "id": "0a1d7e88-93e9-4d1f-accd-0cfb32807402",
   "metadata": {},
   "source": [
    "we assume that the user-item ratings matrix is an incomplete m × n matrix $R = [r_{uj} ]$ containing m users and n items.\n",
    "1. Predicting the rating value of a user-item combination: This is the simplest and most primitive formulation of a recommender system. In this case, the missing rating ruj of the user u for item j is predicted.\n",
    "2. Determining the top-k items or top-k users. Learn the top-k most relevant items for a particular user, or the top-k most relevant users for a particular item"
   ]
  },
  {
   "cell_type": "code",
   "execution_count": null,
   "id": "7d25eb29-2cdf-4d09-aa5c-145a3c84fb8f",
   "metadata": {},
   "outputs": [],
   "source": []
  }
 ],
 "metadata": {
  "kernelspec": {
   "display_name": "Python 3 (ipykernel)",
   "language": "python",
   "name": "python3"
  },
  "language_info": {
   "codemirror_mode": {
    "name": "ipython",
    "version": 3
   },
   "file_extension": ".py",
   "mimetype": "text/x-python",
   "name": "python",
   "nbconvert_exporter": "python",
   "pygments_lexer": "ipython3",
   "version": "3.9.7"
  }
 },
 "nbformat": 4,
 "nbformat_minor": 5
}
