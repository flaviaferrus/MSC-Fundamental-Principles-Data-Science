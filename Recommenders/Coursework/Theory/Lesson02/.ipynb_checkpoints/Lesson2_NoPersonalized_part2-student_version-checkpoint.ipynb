{
 "cells": [
  {
   "cell_type": "markdown",
   "metadata": {},
   "source": [
    "<small><i>Updated February 2023 - This notebook was created by [Santi Seguí](https://ssegui.github.io/). </i></small>"
   ]
  },
  {
   "cell_type": "code",
   "execution_count": 1,
   "metadata": {},
   "outputs": [
    {
     "data": {
      "text/html": [
       "<style>.container { width:100% !important; }</style>"
      ],
      "text/plain": [
       "<IPython.core.display.HTML object>"
      ]
     },
     "metadata": {},
     "output_type": "display_data"
    }
   ],
   "source": [
    "from IPython.core.display import display, HTML\n",
    "display(HTML(\"<style>.container { width:100% !important; }</style>\"))"
   ]
  },
  {
   "cell_type": "markdown",
   "metadata": {},
   "source": [
    "## Item association recommendation\n",
    "### Example:\n",
    "<img src=\"images/np3.png\" width=70%>\n"
   ]
  },
  {
   "cell_type": "code",
   "execution_count": 1,
   "metadata": {},
   "outputs": [
    {
     "name": "stdout",
     "output_type": "stream",
     "text": [
      "Number of different items 171\n",
      "Number of rows  9835\n",
      "An example: ['pip fruit', 'yogurt', 'cream cheese ', 'meat spreads']\n"
     ]
    }
   ],
   "source": [
    "#Let's read a dataset which contains several market baskets lists\n",
    "\n",
    "# read data/grocieries.csv\n",
    "def union(a, b):\n",
    "    \"\"\" return the union of two lists \"\"\"\n",
    "    return list(set(a) | set(b))\n",
    "\n",
    "market_data = []\n",
    "cont = 0\n",
    "items = []\n",
    "with open(\"./groceries.csv\") as f:\n",
    "    for l in f:\n",
    "        market_data.append(l.rstrip().split(','))\n",
    "        items = union(items,l.rstrip().split(','))\n",
    "\n",
    "print(\"Number of different items\", len(items))\n",
    "print(\"Number of rows \", len(market_data))\n",
    "\n",
    "\n",
    "print(\"An example:\", market_data[3])"
   ]
  },
  {
   "cell_type": "markdown",
   "metadata": {},
   "source": [
    "One of the most simple ways to found association between product could be obtained as follows: $$score(Y|X) = \\frac{X \\ and \\ Y}{X}$$"
   ]
  },
  {
   "cell_type": "code",
   "execution_count": 2,
   "metadata": {},
   "outputs": [],
   "source": [
    "# Which is the top associated product with \"yogurt\"?"
   ]
  },
  {
   "cell_type": "code",
   "execution_count": 3,
   "metadata": {},
   "outputs": [],
   "source": [
    "from collections import defaultdict\n",
    "\n",
    "# Which is the top associated product with \"yogurt\"?\n",
    "def top_associated_products(dataset, product,N = 5):\n",
    "    d = defaultdict(lambda: 0) # dictionary for the items \n",
    "    product_times = 0\n",
    "    for basket in dataset: # for each basket case \n",
    "        if product in basket:  # for those who contains the product\n",
    "            product_times += 1\n",
    "            for i in basket:   # x and y together\n",
    "                if i != product: \n",
    "                    d[i] += 1  \n",
    "    for k in d:\n",
    "        d[k] =   float(d[k] / product_times) # (X and Y) / X\n",
    "    sorted_list=sorted(d.items(), key=lambda x: x[1],reverse=True)\n",
    "    return sorted_list[:N]"
   ]
  },
  {
   "cell_type": "code",
   "execution_count": 4,
   "metadata": {},
   "outputs": [
    {
     "name": "stdout",
     "output_type": "stream",
     "text": [
      "[('whole milk', 0.40160349854227406), ('other vegetables', 0.3112244897959184), ('rolls/buns', 0.24635568513119532)]\n"
     ]
    }
   ],
   "source": [
    "s = top_associated_products(market_data, 'yogurt',N = 3)\n",
    "print(s)"
   ]
  },
  {
   "cell_type": "code",
   "execution_count": 5,
   "metadata": {},
   "outputs": [
    {
     "name": "stdout",
     "output_type": "stream",
     "text": [
      "[('whole milk', 0.6133333333333333), ('other vegetables', 0.52), ('root vegetables', 0.41333333333333333)]\n"
     ]
    }
   ],
   "source": [
    "# what about with \"rice\"? and with \"rum\"?\n",
    "s1 = top_associated_products(market_data, 'rice',N = 3)\n",
    "print(s1)"
   ]
  },
  {
   "cell_type": "code",
   "execution_count": 6,
   "metadata": {},
   "outputs": [
    {
     "name": "stdout",
     "output_type": "stream",
     "text": [
      "[('whole milk', 0.38636363636363635), ('other vegetables', 0.3409090909090909), ('tropical fruit', 0.20454545454545456)]\n"
     ]
    }
   ],
   "source": [
    "s2 = top_associated_products(market_data, 'rum',N = 3)\n",
    "print(s2)"
   ]
  },
  {
   "cell_type": "code",
   "execution_count": 7,
   "metadata": {},
   "outputs": [
    {
     "name": "stdout",
     "output_type": "stream",
     "text": [
      "[('other vegetables', 0.29287703939514526), ('rolls/buns', 0.2216474333465977), ('yogurt', 0.2192598487863112)]\n"
     ]
    }
   ],
   "source": [
    "s3 = top_associated_products(market_data, 'whole milk',N = 3)\n",
    "print(s3)"
   ]
  },
  {
   "cell_type": "markdown",
   "metadata": {},
   "source": [
    "### What happens? \n",
    "Is it a good measure? It has a problem with popular items...\n",
    "<br>\n",
    "Let's check this other formula:\n",
    "$$score(Y|X) = \\frac{ \\frac{X \\ and \\ Y}{X}} {  \\frac{!X \\ and \\ Y}{!X} }  $$"
   ]
  },
  {
   "cell_type": "code",
   "execution_count": 8,
   "metadata": {},
   "outputs": [
    {
     "name": "stdout",
     "output_type": "stream",
     "text": [
      "['citrus fruit', 'semi-finished bread', 'margarine', 'ready soups']\n"
     ]
    },
    {
     "data": {
      "text/plain": [
       "True"
      ]
     },
     "execution_count": 8,
     "metadata": {},
     "output_type": "execute_result"
    }
   ],
   "source": [
    "#market_data\n",
    "#items\n",
    "print(market_data[0])\n",
    "'rum' not in market_data[0]"
   ]
  },
  {
   "cell_type": "code",
   "execution_count": 9,
   "metadata": {},
   "outputs": [],
   "source": [
    "def top_associated_products2(dataset, product,N = 5):\n",
    "    d = defaultdict(lambda: 0) # dictionary for the items \n",
    "    product_times = 0\n",
    "    nd = defaultdict(lambda: 0)\n",
    "    for basket in dataset: # for each basket case \n",
    "        if product in basket:  # for those who contains the product\n",
    "            product_times += 1\n",
    "            for i in basket:   # x and y together\n",
    "                if i != product: \n",
    "                    d[i] += 1\n",
    "        else: ## If product not in basket, +1 on the other counter for every product on basket\n",
    "            for i in basket: ## !x and y\n",
    "                nd[i] += 1\n",
    "            \n",
    "    ##print('Checking where product is not included:')            \n",
    "##    for cosa in d.items():\n",
    "        #print('Starting with:', cosa[0])\n",
    "##        for basket in dataset:\n",
    "##            if cosa[0] in basket:\n",
    "                #print(basket)\n",
    "                #for i in basket:\n",
    "##                if product not in basket:\n",
    "                    #print('Product not in basket:', basket)\n",
    "##                    nd[cosa] +=1\n",
    "##    print(d.items())    \n",
    "##    print(nd.items())\n",
    "    ## Now we count the number of times that the product is not on the list with Y (for any Y) \n",
    "    # over the times the product is not on the list at all\n",
    "    \n",
    "    product_no_times = len(dataset) - product_times ## !X\n",
    "    \n",
    "       \n",
    "    for k in d:\n",
    "        if nd[k]==0:\n",
    "            d[k] = 0\n",
    "        else:\n",
    "            d[k] =   float((d[k]/product_times) / ( nd[k] / product_no_times)) \n",
    "        # [(X and Y) / X] / [(!X and Y)/!X]\n",
    "    sorted_list=sorted(d.items(), key=lambda x: x[1],reverse=True)\n",
    "    return sorted_list[:N]\n",
    "    \n",
    "    \n",
    "    ##pass"
   ]
  },
  {
   "cell_type": "code",
   "execution_count": 10,
   "metadata": {},
   "outputs": [
    {
     "name": "stdout",
     "output_type": "stream",
     "text": [
      "[('kitchen utensil', 6.168367346938775), ('preservation products', 6.168367346938775), ('meat spreads', 4.626275510204082)]\n"
     ]
    }
   ],
   "source": [
    "s = top_associated_products2(market_data, 'yogurt',N = 3)\n",
    "print(s)\n"
   ]
  },
  {
   "cell_type": "code",
   "execution_count": 11,
   "metadata": {},
   "outputs": [
    {
     "name": "stdout",
     "output_type": "stream",
     "text": [
      "[('decalcifier', 20.020512820512824), ('canned fruit', 18.590476190476192), ('organic products', 18.590476190476192)]\n"
     ]
    }
   ],
   "source": [
    "s = top_associated_products2(market_data, 'rice',N = 3)\n",
    "print(s)\n"
   ]
  },
  {
   "cell_type": "code",
   "execution_count": 12,
   "metadata": {},
   "outputs": [
    {
     "name": "stdout",
     "output_type": "stream",
     "text": [
      "[('artif. sweetener', 14.834848484848484), ('specialty vegetables', 13.907670454545455), ('cooking chocolate', 9.271780303030305)]\n"
     ]
    }
   ],
   "source": [
    "s = top_associated_products2(market_data, 'rum',N = 3)\n",
    "print(s)"
   ]
  },
  {
   "cell_type": "code",
   "execution_count": 13,
   "metadata": {},
   "outputs": [
    {
     "name": "stdout",
     "output_type": "stream",
     "text": [
      "[('kitchen utensil', 6.168367346938775), ('preservation products', 6.168367346938775), ('meat spreads', 4.626275510204082)]\n",
      "[('decalcifier', 20.020512820512824), ('canned fruit', 18.590476190476192), ('organic products', 18.590476190476192)]\n",
      "[('artif. sweetener', 14.834848484848484), ('specialty vegetables', 13.907670454545455), ('cooking chocolate', 9.271780303030305)]\n"
     ]
    }
   ],
   "source": [
    "s = top_associated_products2(market_data, 'yogurt',N = 3)\n",
    "print(s)\n",
    "\n",
    "s = top_associated_products2(market_data, 'rice',N = 3)\n",
    "print(s)\n",
    "\n",
    "# Which is the top associated prouct with \"rum\"?\n",
    "s = top_associated_products2(market_data, 'rum',N = 3)\n",
    "print(s)"
   ]
  },
  {
   "cell_type": "markdown",
   "metadata": {},
   "source": [
    "#### Let's check this last formula:\n",
    "$$ score(Y|X) = \\frac{P(X \\ and \\ Y)}{P(X)P(Y) }   $$"
   ]
  },
  {
   "cell_type": "code",
   "execution_count": 14,
   "metadata": {},
   "outputs": [],
   "source": [
    "def top_associated_products3(dataset, product,N = 5):\n",
    "    d = defaultdict(lambda: 0) # dictionary for the items \n",
    "    times = defaultdict(lambda: 0)\n",
    "    product_times = 0\n",
    "    for basket in dataset: # for each basket case \n",
    "        if product in basket:  # for those who contains the product\n",
    "            product_times += 1\n",
    "            for i in basket:   # x and y together\n",
    "                if i != product: \n",
    "                    d[i] += 1 \n",
    "    for basket in dataset:\n",
    "        for i in basket:\n",
    "            times[i] += 1 ## count the frequency each product is on the dataset\n",
    "                    \n",
    "    \n",
    "    for k in d:\n",
    "        d[k] =   float( (d[k]/len(dataset)) / ( product_times/len(dataset) * times[i]/len(dataset)) )\n",
    "        # P(X and Y) / P(X)P(Y)\n",
    "    sorted_list=sorted(d.items(), key=lambda x: x[1],reverse=True)\n",
    "    return sorted_list[:N]\n",
    "    "
   ]
  },
  {
   "cell_type": "code",
   "execution_count": 15,
   "metadata": {},
   "outputs": [],
   "source": [
    "def probab_calc(dataset, N=10):\n",
    "    times = defaultdict(lambda: 0)\n",
    "    for basket in dataset:\n",
    "            for i in basket:\n",
    "                times[i] += 1 ## count the frequency each product is on the dataset\n",
    "    for k in times:\n",
    "        times[k]= float(times[k] / len(dataset))\n",
    "    sorted_list=sorted(times.items(), key=lambda x: x[1],reverse=True)\n",
    "    return sorted_list[:N], times   "
   ]
  },
  {
   "cell_type": "code",
   "execution_count": 16,
   "metadata": {},
   "outputs": [
    {
     "name": "stdout",
     "output_type": "stream",
     "text": [
      "[('whole milk', 0.25551601423487547), ('other vegetables', 0.1934926283680732), ('rolls/buns', 0.18393492628368074), ('soda', 0.17437722419928825), ('yogurt', 0.13950177935943062), ('bottled water', 0.11052364006100661), ('root vegetables', 0.10899847483477376), ('tropical fruit', 0.10493136756481952), ('shopping bags', 0.09852567361464158), ('sausage', 0.09395017793594305)]\n",
      "0.25551601423487547\n",
      "171\n"
     ]
    }
   ],
   "source": [
    "probabs, times = probab_calc(market_data)\n",
    "print(probabs)\n",
    "print(times['whole milk'])\n",
    "print(len(times))"
   ]
  },
  {
   "cell_type": "code",
   "execution_count": 17,
   "metadata": {},
   "outputs": [
    {
     "name": "stdout",
     "output_type": "stream",
     "text": [
      "[('whole milk', 0.40160349854227406), ('other vegetables', 0.3112244897959184), ('rolls/buns', 0.24635568513119532)]\n"
     ]
    }
   ],
   "source": [
    "print(top_associated_products(market_data,'yogurt',N = 3))"
   ]
  },
  {
   "cell_type": "code",
   "execution_count": 18,
   "metadata": {},
   "outputs": [
    {
     "data": {
      "text/plain": [
       "1.5717351405345266"
      ]
     },
     "execution_count": 18,
     "metadata": {},
     "output_type": "execute_result"
    }
   ],
   "source": [
    "0.40160349854227406/(0.25551601423487547)"
   ]
  },
  {
   "cell_type": "code",
   "execution_count": 19,
   "metadata": {},
   "outputs": [
    {
     "name": "stdout",
     "output_type": "stream",
     "text": [
      "[('whole milk', 4.076130452180872), ('other vegetables', 3.158816158042164), ('rolls/buns', 2.5004212211200265)]\n",
      "[('whole milk', 6.2251117991056075), ('other vegetables', 5.277812177502581), ('root vegetables', 4.195184038527692)]\n",
      "[('whole milk', 3.9214513556618824), ('other vegetables', 3.46010413734872), ('tropical fruit', 2.076062482409232)]\n"
     ]
    }
   ],
   "source": [
    "print(top_associated_products3(market_data,'yogurt',N = 3))\n",
    "print(top_associated_products3(market_data,'rice',N = 3))\n",
    "print(top_associated_products3(market_data,'rum',N = 3))"
   ]
  },
  {
   "cell_type": "code",
   "execution_count": 20,
   "metadata": {},
   "outputs": [],
   "source": [
    "def top_associated_products4(dataset, product,N = 5):\n",
    "    d = defaultdict(lambda: 0) # dictionary for the items \n",
    "    product_times = 0\n",
    "    for basket in dataset: # for each basket case \n",
    "        if product in basket:  # for those who contains the product\n",
    "            product_times += 1\n",
    "            for i in basket:   # x and y together\n",
    "                if i != product: \n",
    "                    d[i] += 1  \n",
    "    probabs, times = probab_calc(dataset)\n",
    "    for k in d:\n",
    "        d[k] =   float((d[k] / product_times)/times[k]) # (X and Y) / X\n",
    "    sorted_list=sorted(d.items(), key=lambda x: x[1],reverse=True)\n",
    "    return sorted_list[:N]"
   ]
  },
  {
   "cell_type": "code",
   "execution_count": 21,
   "metadata": {},
   "outputs": [
    {
     "name": "stdout",
     "output_type": "stream",
     "text": [
      "[('baby food', 7.168367346938775), ('kitchen utensil', 3.5841836734693877), ('preservation products', 3.5841836734693877), ('meat spreads', 3.072157434402332), ('cereals', 2.6881377551020407), ('soft cheese', 2.517462342079689), ('artif. sweetener', 2.4641262755102042), ('specialty cheese', 2.389455782312925), ('frozen chicken', 2.389455782312925), ('sliced cheese', 2.3497967651791005)]\n"
     ]
    }
   ],
   "source": [
    "print(top_associated_products4(market_data,'yogurt',N = 10))"
   ]
  },
  {
   "cell_type": "code",
   "execution_count": 22,
   "metadata": {},
   "outputs": [
    {
     "name": "stdout",
     "output_type": "stream",
     "text": [
      "[('decalcifier', 17.484444444444446), ('canned fruit', 16.39166666666667), ('organic products', 16.39166666666667)]\n",
      "[('artif. sweetener', 13.970170454545455), ('specialty vegetables', 13.148395721925134), ('cooking chocolate', 8.940909090909091)]\n"
     ]
    }
   ],
   "source": [
    "print(top_associated_products4(market_data,'rice',N = 3))\n",
    "print(top_associated_products4(market_data,'rum',N = 3))"
   ]
  },
  {
   "cell_type": "markdown",
   "metadata": {},
   "source": [
    "### Exercice: Let's apply Association Rules on MovieLens Dataset"
   ]
  },
  {
   "cell_type": "code",
   "execution_count": null,
   "metadata": {
    "tags": []
   },
   "outputs": [
    {
     "data": {
      "application/javascript": [
       "IPython.notebook.set_autosave_interval(150000)"
      ]
     },
     "metadata": {},
     "output_type": "display_data"
    },
    {
     "name": "stdout",
     "output_type": "stream",
     "text": [
      "Autosaving every 150 seconds\n"
     ]
    },
    {
     "name": "stderr",
     "output_type": "stream",
     "text": [
      "/var/folders/df/4599m83s2vj4j1_h__gx7kqw0000gn/T/ipykernel_9455/3023940413.py:11: ParserWarning: Falling back to the 'python' engine because the 'c' engine does not support regex separators (separators > 1 char and different from '\\s+' are interpreted as regex); you can avoid this warning by specifying engine='python'.\n",
      "  users = pd.read_csv('./data/ml-1m/users.dat', sep='::', names=u_cols)\n",
      "/var/folders/df/4599m83s2vj4j1_h__gx7kqw0000gn/T/ipykernel_9455/3023940413.py:14: ParserWarning: Falling back to the 'python' engine because the 'c' engine does not support regex separators (separators > 1 char and different from '\\s+' are interpreted as regex); you can avoid this warning by specifying engine='python'.\n",
      "  ratings = pd.read_csv('./data/ml-1m/ratings.dat', sep='::', names=r_cols)\n"
     ]
    }
   ],
   "source": [
    "#NETFLIX REAL 50.000.000 usuaris and 100.000 items\n",
    "%autosave 150\n",
    "%matplotlib inline\n",
    "import pandas as pd\n",
    "import numpy as np\n",
    "import math\n",
    "import matplotlib.pylab as plt\n",
    "\n",
    "# Load Data set\n",
    "u_cols = ['user_id', 'age', 'sex', 'occupation', 'zip_code']\n",
    "users = pd.read_csv('./data/ml-1m/users.dat', sep='::', names=u_cols)\n",
    "\n",
    "r_cols = ['user_id', 'movie_id', 'rating', 'unix_timestamp']\n",
    "ratings = pd.read_csv('./data/ml-1m/ratings.dat', sep='::', names=r_cols)\n",
    "\n",
    "# the movies file contains columns indicating the movie's genres\n",
    "# let's only load the first three columns of the file with usecols\n",
    "m_cols = ['movie_id', 'title', 'release_date',]\n",
    "movies = pd.read_csv('./data/ml-1m/movies.dat', sep='::', names=m_cols, usecols=range(3), encoding='latin-1')\n",
    "\n",
    "# Construcció del DataFrame\n",
    "data = pd.merge(pd.merge(ratings, users), movies)\n",
    "data = data[['user_id','title', 'movie_id','rating','release_date','sex','age']]\n",
    "\n",
    "\n",
    "n_users = data.user_id.nunique()\n",
    "n_items = data.movie_id.nunique()\n",
    "print(\"La BD has \"+ str(data.shape[0]) +\" ratings\")\n",
    "print(\"La BD has \", n_users,\" users\")\n",
    "print(\"La BD has \", n_items, \" movies\")\n",
    "data.head()\n"
   ]
  },
  {
   "cell_type": "code",
   "execution_count": null,
   "metadata": {},
   "outputs": [],
   "source": [
    "# Step 1: convert dataset\n",
    "\n",
    "# Step 2: Apply previous methods"
   ]
  },
  {
   "cell_type": "markdown",
   "metadata": {},
   "source": [
    "> !!! Still to do "
   ]
  },
  {
   "cell_type": "code",
   "execution_count": null,
   "metadata": {},
   "outputs": [],
   "source": []
  },
  {
   "cell_type": "markdown",
   "metadata": {},
   "source": [
    "## APRIORI Algorithm\n",
    "Typically, association rules are considered interesting if they satisfy both a minimum support threshold and a minimum confidence threshold\n",
    "\n",
    "![alt apriori](images/apriori.png)\n",
    "\n",
    "<b>Apriori principle</b>: Any subset of a frequent itemset must be frequent\n",
    "\n",
    "> Step 1: Find the frequent itemsset: the set of items that have minimum support.\n",
    "> -  A subset of a frequent itemset must also be a frequent itemset  i.e. if {1,2} is a frequent itemset, both {1} and {2} should be a frequent itemset\n",
    "> - Iteratively find frequent itemsets with cardinality from 1 to k (k-itemset)\n",
    "\n",
    "> Step 2: Use the frequent itemsets to generate association rules\n",
    "\n",
    "![alt apriori2](images/apriori2.png)\n",
    "\n",
    "Reference : \n",
    "[Fast algorithms for mining association rules](http://www-cgi.cs.cmu.edu/afs/cs.cmu.edu/Web/People/ngm/15-721/summaries/12.pdf)\n"
   ]
  },
  {
   "cell_type": "code",
   "execution_count": 72,
   "metadata": {},
   "outputs": [],
   "source": [
    "from itertools import chain, combinations\n",
    "\n",
    "def dataFromFile(fname):\n",
    "    \"\"\"Function which reads from the file and yields a generator\"\"\"\n",
    "    file_iter = open(fname, 'r')\n",
    "    for line in file_iter:\n",
    "        line = line.strip().rstrip(',')                         # Remove trailing comma\n",
    "        record = frozenset(line.split(','))\n",
    "        yield record\n",
    "                \n",
    "def getItemSetTransactionList(data_iterator):\n",
    "    \"\"\"Generate 1-itemSets\"\"\"\n",
    "    transactionList = list()\n",
    "    itemSet = set()\n",
    "    for record in data_iterator:\n",
    "        transaction = frozenset(record)\n",
    "        transactionList.append(transaction)\n",
    "        for item in transaction:\n",
    "            itemSet.add(frozenset([item]))              # Generate 1-itemSets\n",
    "    return itemSet, transactionList\n",
    "                \n",
    "def apriori(data_iterator, min_support, min_confidence, method = 'confidence'):\n",
    "    \"\"\"A-priori method\"\"\"\n",
    "    def returnItemsWithMinSupport(itemSet, transactionList, min_support, freqSet):\n",
    "        \"\"\"calculates the support for items in the itemSet and returns a subset\n",
    "       of the itemSet each of whose elements satisfies the minimum support\"\"\"\n",
    "        _itemSet = set()\n",
    "        localSet = defaultdict(int)\n",
    "\n",
    "        for item in itemSet:\n",
    "                for transaction in transactionList:\n",
    "                        if item.issubset(transaction):\n",
    "                                freqSet[item] += 1\n",
    "                                localSet[item] += 1\n",
    "\n",
    "        for item, count in localSet.items():\n",
    "                support = float(count)/len(transactionList)\n",
    "\n",
    "                if support >= min_support:\n",
    "                        _itemSet.add(item)\n",
    "\n",
    "        return _itemSet\n",
    "    \n",
    "    def joinSet(itemSet, length):\n",
    "        \"\"\"Join a set with itself and returns the n-element itemsets\"\"\"\n",
    "        return set([i.union(j) for i in itemSet for j in itemSet if len(i.union(j)) == length])\n",
    "    \n",
    "    def getSupport(item):\n",
    "        \"\"\"local function which Returns the support of an item\"\"\"\n",
    "        return float(freqSet[item])/len(transactionList)\n",
    "    \n",
    "    def subsets(arr):\n",
    "        \"\"\" Returns non empty subsets of arr\"\"\"\n",
    "        return chain(*[combinations(arr, i + 1) for i, a in enumerate(arr)])\n",
    "\n",
    "    \n",
    "    itemSet, transactionList = getItemSetTransactionList(data_iterator)\n",
    "    freqSet = defaultdict(int)\n",
    "    largeSet = dict()\n",
    "    # Global dictionary which stores (key=n-itemSets,value=support)\n",
    "    # which satisfy min_support\n",
    "    \n",
    "    assocRules = dict()\n",
    "    \n",
    "    # Step 1: Find the frequent itemsset: the set of items that have minimum support.\n",
    "    oneCSet = returnItemsWithMinSupport(itemSet,transactionList,min_support,freqSet)\n",
    "    currentLSet = oneCSet\n",
    "    \n",
    "    k = 2\n",
    "    while(currentLSet != set([])): # while there is pontential new associations\n",
    "        largeSet[k-1] = currentLSet\n",
    "        currentLSet = joinSet(currentLSet, k)\n",
    "        currentCSet = returnItemsWithMinSupport(currentLSet,transactionList,min_support, freqSet)\n",
    "        currentLSet = currentCSet\n",
    "        k = k + 1\n",
    "    \n",
    "    toRetItems = []\n",
    "    for key, value in list(largeSet.items()):\n",
    "        toRetItems.extend([(tuple(item), getSupport(item))\n",
    "                           for item in value])\n",
    "\n",
    "\n",
    "    ## Step 2: Use the frequent itemsets to generate association rules\n",
    "    toRetRules = defaultdict(lambda: [])\n",
    "    for key in list(largeSet.keys()):\n",
    "        if key!=1: #for itemsets with two or more elements\n",
    "            for item in largeSet[key]:\n",
    "                for element in item:\n",
    "                    remain = item-frozenset([element])\n",
    "                    if method == 'confidence':\n",
    "                        confidence = getSupport(item)/getSupport(remain)\n",
    "                    elif method == 'lift':\n",
    "                        confidence = getSupport(item)/(getSupport(remain)*getSupport(frozenset([element]))) ## lift\n",
    "                        #print(\"NOT IMPLEMENTED\")\n",
    "                        #return [],[] \n",
    "                    else:\n",
    "                        print(\"Not Valid Method\")\n",
    "                        return [],[] \n",
    "                    \n",
    "                    if confidence >= min_confidence:\n",
    "                        toRetRules[tuple(remain)].append((tuple([element]),confidence))\n",
    "    \n",
    "    return toRetItems, toRetRules\n",
    "\n",
    "def printResults(items, rules, only_rules = True):\n",
    "    \"\"\"prints the generated itemsets sorted by support and the confidence rules sorted by confidence\"\"\"\n",
    "    if(len(items)>0):\n",
    "        if(only_rules ==False):\n",
    "            for item, support in sorted(items, key = lambda x: float(x[1])):\n",
    "                print(\"item: %s , %.3f\" % (str(item), support))\n",
    "        print(\"\\n------------------------ RULES:\")\n",
    "        for pre, post in sorted([(key, v) for key,values in rules.items() for v in values ],\n",
    "                                       key=lambda x: float(x[1][1])):\n",
    "            print(\"Rule: %s ==> %s , %.3f\" % (str(pre), str(post[0]), post[1]))\n",
    "        \n",
    "                \n"
   ]
  },
  {
   "cell_type": "code",
   "execution_count": 74,
   "metadata": {},
   "outputs": [
    {
     "name": "stdout",
     "output_type": "stream",
     "text": [
      "\n",
      "------------------------ RULES:\n",
      "Rule: ('rolls/buns',) ==> ('whole milk',) , 0.308\n",
      "Rule: ('berries',) ==> ('other vegetables',) , 0.309\n",
      "Rule: ('other vegetables', 'whole milk') ==> ('root vegetables',) , 0.310\n",
      "Rule: ('bottled water',) ==> ('whole milk',) , 0.311\n",
      "Rule: ('yogurt',) ==> ('other vegetables',) , 0.311\n",
      "Rule: ('dessert',) ==> ('other vegetables',) , 0.312\n",
      "Rule: ('whole milk', 'bottled water') ==> ('other vegetables',) , 0.314\n",
      "Rule: ('rolls/buns', 'whole milk') ==> ('other vegetables',) , 0.316\n",
      "Rule: ('berries',) ==> ('yogurt',) , 0.318\n",
      "Rule: ('pastry', 'whole milk') ==> ('other vegetables',) , 0.318\n",
      "Rule: ('sausage',) ==> ('whole milk',) , 0.318\n",
      "Rule: ('sugar',) ==> ('other vegetables',) , 0.318\n",
      "Rule: ('coffee',) ==> ('whole milk',) , 0.322\n",
      "Rule: ('curd',) ==> ('other vegetables',) , 0.323\n",
      "Rule: ('curd',) ==> ('yogurt',) , 0.324\n",
      "Rule: ('cream cheese ',) ==> ('yogurt',) , 0.325\n",
      "Rule: ('sausage',) ==> ('rolls/buns',) , 0.326\n",
      "Rule: ('frankfurter',) ==> ('rolls/buns',) , 0.326\n",
      "Rule: ('white bread',) ==> ('other vegetables',) , 0.326\n",
      "Rule: ('waffles',) ==> ('whole milk',) , 0.331\n",
      "Rule: ('beef',) ==> ('root vegetables',) , 0.331\n",
      "Rule: ('rolls/buns', 'yogurt') ==> ('other vegetables',) , 0.334\n",
      "Rule: ('chocolate',) ==> ('whole milk',) , 0.336\n",
      "Rule: ('citrus fruit', 'whole milk') ==> ('yogurt',) , 0.337\n",
      "Rule: ('margarine',) ==> ('other vegetables',) , 0.337\n",
      "Rule: ('whipped/sour cream', 'whole milk') ==> ('yogurt',) , 0.338\n",
      "Rule: ('sausage', 'whole milk') ==> ('other vegetables',) , 0.340\n",
      "Rule: ('tropical fruit',) ==> ('other vegetables',) , 0.342\n",
      "Rule: ('newspapers',) ==> ('whole milk',) , 0.343\n",
      "Rule: ('tropical fruit', 'other vegetables') ==> ('root vegetables',) , 0.343\n",
      "Rule: ('tropical fruit', 'other vegetables') ==> ('yogurt',) , 0.343\n",
      "Rule: ('pip fruit',) ==> ('other vegetables',) , 0.345\n",
      "Rule: ('whole milk', 'soda') ==> ('other vegetables',) , 0.348\n",
      "Rule: ('frankfurter',) ==> ('whole milk',) , 0.348\n",
      "Rule: ('citrus fruit',) ==> ('other vegetables',) , 0.349\n",
      "Rule: ('domestic eggs',) ==> ('other vegetables',) , 0.351\n",
      "Rule: ('other vegetables', 'whipped/sour cream') ==> ('yogurt',) , 0.352\n",
      "Rule: ('cream cheese ',) ==> ('other vegetables',) , 0.352\n",
      "Rule: ('berries',) ==> ('whole milk',) , 0.355\n",
      "Rule: ('tropical fruit', 'whole milk') ==> ('yogurt',) , 0.358\n",
      "Rule: ('other vegetables', 'citrus fruit') ==> ('root vegetables',) , 0.359\n",
      "Rule: ('long life bakery product',) ==> ('whole milk',) , 0.361\n",
      "Rule: ('butter',) ==> ('other vegetables',) , 0.361\n",
      "Rule: ('fruit/vegetable juice',) ==> ('whole milk',) , 0.368\n",
      "Rule: ('citrus fruit',) ==> ('whole milk',) , 0.369\n",
      "Rule: ('dessert',) ==> ('whole milk',) , 0.370\n",
      "Rule: ('frozen vegetables',) ==> ('other vegetables',) , 0.370\n",
      "Rule: ('butter milk',) ==> ('other vegetables',) , 0.371\n",
      "Rule: ('pastry',) ==> ('whole milk',) , 0.374\n",
      "Rule: ('pork',) ==> ('other vegetables',) , 0.376\n",
      "Rule: ('beef',) ==> ('other vegetables',) , 0.376\n",
      "Rule: ('napkins',) ==> ('whole milk',) , 0.377\n",
      "Rule: ('other vegetables', 'sausage') ==> ('whole milk',) , 0.377\n",
      "Rule: ('yogurt', 'soda') ==> ('whole milk',) , 0.383\n",
      "Rule: ('pork',) ==> ('whole milk',) , 0.384\n",
      "Rule: ('curd', 'whole milk') ==> ('yogurt',) , 0.385\n",
      "Rule: ('other vegetables',) ==> ('whole milk',) , 0.387\n",
      "Rule: ('brown bread',) ==> ('whole milk',) , 0.389\n",
      "Rule: ('hygiene articles',) ==> ('whole milk',) , 0.389\n",
      "Rule: ('onions',) ==> ('whole milk',) , 0.390\n",
      "Rule: ('fruit/vegetable juice', 'whole milk') ==> ('other vegetables',) , 0.393\n",
      "Rule: ('yogurt', 'whole milk') ==> ('other vegetables',) , 0.397\n",
      "Rule: ('pip fruit',) ==> ('whole milk',) , 0.398\n",
      "Rule: ('yogurt',) ==> ('whole milk',) , 0.402\n",
      "Rule: ('oil',) ==> ('whole milk',) , 0.402\n",
      "Rule: ('whipped/sour cream',) ==> ('other vegetables',) , 0.403\n",
      "Rule: ('tropical fruit',) ==> ('whole milk',) , 0.403\n",
      "Rule: ('tropical fruit', 'whole milk') ==> ('other vegetables',) , 0.404\n",
      "Rule: ('beef',) ==> ('whole milk',) , 0.405\n",
      "Rule: ('white bread',) ==> ('whole milk',) , 0.406\n",
      "Rule: ('chicken',) ==> ('whole milk',) , 0.410\n",
      "Rule: ('domestic eggs', 'whole milk') ==> ('other vegetables',) , 0.410\n",
      "Rule: ('hard cheese',) ==> ('whole milk',) , 0.411\n",
      "Rule: ('margarine',) ==> ('whole milk',) , 0.413\n",
      "Rule: ('butter milk',) ==> ('whole milk',) , 0.415\n",
      "Rule: ('hamburger meat',) ==> ('other vegetables',) , 0.416\n",
      "Rule: ('butter', 'whole milk') ==> ('other vegetables',) , 0.417\n",
      "Rule: ('chicken',) ==> ('other vegetables',) , 0.417\n",
      "Rule: ('rolls/buns', 'other vegetables') ==> ('whole milk',) , 0.420\n",
      "Rule: ('tropical fruit', 'yogurt') ==> ('other vegetables',) , 0.420\n",
      "Rule: ('frozen vegetables',) ==> ('whole milk',) , 0.425\n",
      "Rule: ('other vegetables', 'soda') ==> ('whole milk',) , 0.425\n",
      "Rule: ('cream cheese ',) ==> ('whole milk',) , 0.426\n",
      "Rule: ('citrus fruit', 'whole milk') ==> ('other vegetables',) , 0.427\n",
      "Rule: ('other vegetables', 'bottled water') ==> ('whole milk',) , 0.434\n",
      "Rule: ('root vegetables',) ==> ('other vegetables',) , 0.435\n",
      "Rule: ('sliced cheese',) ==> ('whole milk',) , 0.440\n",
      "Rule: ('ham',) ==> ('whole milk',) , 0.441\n",
      "Rule: ('hamburger meat',) ==> ('whole milk',) , 0.443\n",
      "Rule: ('sugar',) ==> ('whole milk',) , 0.444\n",
      "Rule: ('rolls/buns', 'tropical fruit') ==> ('whole milk',) , 0.446\n",
      "Rule: ('root vegetables',) ==> ('whole milk',) , 0.449\n",
      "Rule: ('pip fruit', 'whole milk') ==> ('other vegetables',) , 0.449\n",
      "Rule: ('whipped/sour cream',) ==> ('whole milk',) , 0.450\n",
      "Rule: ('other vegetables', 'citrus fruit') ==> ('whole milk',) , 0.451\n",
      "Rule: ('rolls/buns', 'yogurt') ==> ('whole milk',) , 0.453\n",
      "Rule: ('whipped/sour cream', 'whole milk') ==> ('other vegetables',) , 0.454\n",
      "Rule: ('pork', 'whole milk') ==> ('other vegetables',) , 0.459\n",
      "Rule: ('onions',) ==> ('other vegetables',) , 0.459\n",
      "Rule: ('pastry', 'other vegetables') ==> ('whole milk',) , 0.468\n",
      "Rule: ('other vegetables', 'pork') ==> ('whole milk',) , 0.469\n",
      "Rule: ('domestic eggs',) ==> ('whole milk',) , 0.473\n",
      "Rule: ('root vegetables', 'whole milk') ==> ('other vegetables',) , 0.474\n",
      "Rule: ('yogurt', 'citrus fruit') ==> ('whole milk',) , 0.474\n",
      "Rule: ('tropical fruit', 'other vegetables') ==> ('whole milk',) , 0.476\n",
      "Rule: ('root vegetables', 'other vegetables') ==> ('whole milk',) , 0.489\n",
      "Rule: ('whipped/sour cream', 'yogurt') ==> ('other vegetables',) , 0.490\n",
      "Rule: ('curd',) ==> ('whole milk',) , 0.490\n",
      "Rule: ('butter',) ==> ('whole milk',) , 0.497\n",
      "Rule: ('other vegetables', 'fruit/vegetable juice') ==> ('whole milk',) , 0.498\n",
      "Rule: ('root vegetables', 'yogurt') ==> ('other vegetables',) , 0.500\n",
      "Rule: ('root vegetables', 'rolls/buns') ==> ('other vegetables',) , 0.502\n",
      "Rule: ('whipped/sour cream', 'other vegetables') ==> ('whole milk',) , 0.507\n",
      "Rule: ('other vegetables', 'yogurt') ==> ('whole milk',) , 0.513\n",
      "Rule: ('tropical fruit', 'yogurt') ==> ('whole milk',) , 0.517\n",
      "Rule: ('pip fruit', 'other vegetables') ==> ('whole milk',) , 0.518\n",
      "Rule: ('root vegetables', 'rolls/buns') ==> ('whole milk',) , 0.523\n",
      "Rule: ('whipped/sour cream', 'yogurt') ==> ('whole milk',) , 0.525\n",
      "Rule: ('other vegetables', 'domestic eggs') ==> ('whole milk',) , 0.553\n",
      "Rule: ('root vegetables', 'yogurt') ==> ('whole milk',) , 0.563\n",
      "Rule: ('root vegetables', 'tropical fruit') ==> ('whole milk',) , 0.570\n",
      "Rule: ('other vegetables', 'butter') ==> ('whole milk',) , 0.574\n",
      "Rule: ('curd', 'yogurt') ==> ('whole milk',) , 0.582\n",
      "Rule: ('root vegetables', 'tropical fruit') ==> ('other vegetables',) , 0.585\n",
      "Rule: ('root vegetables', 'citrus fruit') ==> ('other vegetables',) , 0.586\n"
     ]
    }
   ],
   "source": [
    "inFile = dataFromFile('./groceries.csv')\n",
    "min_support = 0.01\n",
    "min_confidence = 0.3\n",
    "items, rules =  apriori(inFile, min_support, min_confidence)\n",
    "printResults(items, rules)"
   ]
  },
  {
   "cell_type": "code",
   "execution_count": 75,
   "metadata": {},
   "outputs": [
    {
     "name": "stdout",
     "output_type": "stream",
     "text": [
      "yogurt -> [(('other vegetables',), 0.3112244897959184), (('whole milk',), 0.40160349854227406)]\n",
      "chicken -> [(('whole milk',), 0.4099526066350711), (('other vegetables',), 0.4170616113744075)]\n",
      "napkins -> [(('whole milk',), 0.37669902912621356)]\n"
     ]
    }
   ],
   "source": [
    "print('yogurt ->', rules[tuple(frozenset(['yogurt']))])\n",
    "print('chicken ->', rules[tuple(frozenset(['chicken']))])\n",
    "print('napkins ->', rules[tuple(frozenset(['napkins']))])"
   ]
  },
  {
   "cell_type": "code",
   "execution_count": 76,
   "metadata": {},
   "outputs": [],
   "source": [
    "# Let's check it with LIFT \n",
    "inFile = dataFromFile('./groceries.csv')\n",
    "min_support = 0.01\n",
    "min_confidence = 1.8\n",
    "items, rules =  apriori(inFile, min_support, min_confidence, method = 'lift')\n",
    "#printResults(items, rules)"
   ]
  },
  {
   "cell_type": "code",
   "execution_count": 77,
   "metadata": {},
   "outputs": [
    {
     "name": "stdout",
     "output_type": "stream",
     "text": [
      "yogurt -> [(('citrus fruit',), 1.8757521436092863), (('tropical fruit',), 2.0004746084480303), (('cream cheese ',), 2.3306986729117876), (('berries',), 2.279847718904075), (('butter',), 1.894027335704924), (('frozen vegetables',), 1.8489235017474217), (('curd',), 2.325615360648076), (('whipped/sour cream',), 2.0742509769865394), (('fruit/vegetable juice',), 1.8551049111627773)]\n",
      "chicken -> [(('root vegetables',), 2.32622064440829), (('other vegetables',), 2.1554392789633727)]\n",
      "napkins -> [(('tropical fruit',), 1.831988033416121)]\n"
     ]
    }
   ],
   "source": [
    "print('yogurt ->', rules[tuple(frozenset(['yogurt']))])\n",
    "print('chicken ->', rules[tuple(frozenset(['chicken']))])\n",
    "print('napkins ->', rules[tuple(frozenset(['napkins']))])"
   ]
  },
  {
   "cell_type": "markdown",
   "metadata": {},
   "source": [
    "<div class  = \"alert alert-success\"><b>Exercice: Create and Product Association Recommender with MovieLens Dataset</b><p>\n",
    "Explain the obtained results and conclusions.\n",
    "</div>\n",
    "\n"
   ]
  },
  {
   "cell_type": "code",
   "execution_count": null,
   "metadata": {},
   "outputs": [],
   "source": []
  },
  {
   "cell_type": "code",
   "execution_count": null,
   "metadata": {},
   "outputs": [],
   "source": []
  }
 ],
 "metadata": {
  "kernelspec": {
   "display_name": "Python 3 (ipykernel)",
   "language": "python",
   "name": "python3"
  },
  "language_info": {
   "codemirror_mode": {
    "name": "ipython",
    "version": 3
   },
   "file_extension": ".py",
   "mimetype": "text/x-python",
   "name": "python",
   "nbconvert_exporter": "python",
   "pygments_lexer": "ipython3",
   "version": "3.9.7"
  }
 },
 "nbformat": 4,
 "nbformat_minor": 4
}
