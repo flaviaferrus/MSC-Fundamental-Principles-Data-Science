{
 "cells": [
  {
   "cell_type": "code",
   "execution_count": 12,
   "metadata": {
    "execution": {
     "iopub.execute_input": "2023-03-30T17:26:41.641299Z",
     "iopub.status.busy": "2023-03-30T17:26:41.640862Z",
     "iopub.status.idle": "2023-03-30T17:26:41.651078Z",
     "shell.execute_reply": "2023-03-30T17:26:41.649257Z",
     "shell.execute_reply.started": "2023-03-30T17:26:41.641262Z"
    }
   },
   "outputs": [
    {
     "data": {
      "text/html": [
       "<style>.container { width:100% !important; }</style>"
      ],
      "text/plain": [
       "<IPython.core.display.HTML object>"
      ]
     },
     "metadata": {},
     "output_type": "display_data"
    }
   ],
   "source": [
    "from IPython.core.display import display, HTML\n",
    "display(HTML(\"<style>.container { width:100% !important; }</style>\"))"
   ]
  },
  {
   "cell_type": "markdown",
   "metadata": {},
   "source": [
    "# MovieLens RecSys Kaggle competition\n",
    "\n",
    "Flàvia Ferrús, Jordi Segura, Pol Riba"
   ]
  },
  {
   "cell_type": "markdown",
   "metadata": {},
   "source": [
    "Upload and prepare the needed packages:"
   ]
  },
  {
   "cell_type": "code",
   "execution_count": 13,
   "metadata": {
    "execution": {
     "iopub.execute_input": "2023-03-30T17:26:46.580871Z",
     "iopub.status.busy": "2023-03-30T17:26:46.580385Z",
     "iopub.status.idle": "2023-03-30T17:26:47.723356Z",
     "shell.execute_reply": "2023-03-30T17:26:47.721720Z",
     "shell.execute_reply.started": "2023-03-30T17:26:46.580828Z"
    }
   },
   "outputs": [
    {
     "name": "stdout",
     "output_type": "stream",
     "text": [
      "mkdir: cannot create directory ‘models’: File exists\n"
     ]
    }
   ],
   "source": [
    "import pandas as pd\n",
    "import numpy as np\n",
    "import tensorflow as tf\n",
    "from tensorflow import keras\n",
    "from tensorflow.keras.preprocessing.text import Tokenizer\n",
    "from tensorflow.keras.preprocessing.sequence import pad_sequences\n",
    "from pathlib import Path\n",
    "from zipfile import ZipFile\n",
    "import re\n",
    "from sklearn.model_selection import train_test_split\n",
    "\n",
    "!mkdir models"
   ]
  },
  {
   "cell_type": "markdown",
   "metadata": {},
   "source": [
    "In order to prepare an optimal Recommender System to recommend the top 25 movies for each user we may consider a combination of Factorization Machines for the users we have a lot of data from, this is, usual users that have relativelly a lot of ratings, and a top ranked recommender for the new users, i.e. the users we have less information from. This way, we can focus on recommending popular or top movies to the users from whom we do not have enough information to create a fair user profile. \n",
    "\n",
    "Meanwhile, we may implement a Factorization Machine to take advantage of the information we have from usual users with several modifications according to our intuition and the observations and conclusions we obtain from each implementation. "
   ]
  },
  {
   "cell_type": "markdown",
   "metadata": {},
   "source": [
    "# Experiment setting\n"
   ]
  },
  {
   "cell_type": "markdown",
   "metadata": {},
   "source": [
    "On the following notebook different experiments are conducted. A brief introduction is presented in order to get a general view on the structure of the implementations:\n",
    "- EXPERIMENT 0: \n",
    "    - MODEL: \n",
    "        - Factorization Machines with interactions until 2nd order, \n",
    "        - RMSE\n",
    "    - FEATURE ENGINEERING:\n",
    "        1. user ID, user age, user sex, user occupation frequency, movie ID and movie genre:\n",
    "            - We have considered an additional feature encoding, by computing the ocuppation frequency for each category of occupations in order to create an encoding with a more intuitive distance between the different types \n",
    "- EXPERIMENT 1: \n",
    "    - MODEL: \n",
    "        - Factorization Machines with interactions until 2nd order working as a Classifier: we consider the targe feature to be a binary feature: `loved`, defined as `0` if it is rated under `THRESH = 3.8` and `1` otherwise. \n",
    "        - Binary Cross Entropy\n",
    "    - FEATURE ENGINEERING:\n",
    "        1. user ID, user age, user sex, movie ID and movie genre \n",
    "        2. user ID, user age, user sex, user occupation frequency, movie ID and movie genre \n",
    "        3. user ID, user age, user sex, user occupation frequency, last N movies seen, movie ID, movie genre \n",
    "            - We are considering the additional feature `last N movies seen` by the user at the specific time `timestamp` at which the user is require to rate a determined movie. Thus, we take into account the tendency that the specific user follows at that time, and we are also giving an additional importance to the most popular movies. \n",
    "- EXPERIMENT 2: \n",
    "    - MODEL: \n",
    "        - Factorization Machines  / Deep Factorization Machines \n",
    "        - NDCGL\n",
    "    - FEATURE ENGINEERING: \n",
    "        1. Normalized ratings by users and by gender: \n",
    "            - Classifier: personalized TRHES \n",
    "            - Regression: use the normalized ratings\n",
    "        2. Normalized ratings by users:\n",
    "            - Classifier: personalized TRHES \n",
    "            - Regression: use the normalized ratings\n",
    "            \n",
    "            \n",
    "User grouping for all the experiment in order to identify the new users and the users that have a lot of ratings, and therefore a lo of information gathered. We have considered the mean over the frequency of ratings for all the users, and the ones above. "
   ]
  },
  {
   "cell_type": "markdown",
   "metadata": {},
   "source": [
    "# Loading data and defining functions"
   ]
  },
  {
   "cell_type": "code",
   "execution_count": 14,
   "metadata": {
    "execution": {
     "iopub.execute_input": "2023-03-30T17:26:59.169959Z",
     "iopub.status.busy": "2023-03-30T17:26:59.169366Z",
     "iopub.status.idle": "2023-03-30T17:27:05.312259Z",
     "shell.execute_reply": "2023-03-30T17:27:05.310716Z",
     "shell.execute_reply.started": "2023-03-30T17:26:59.169903Z"
    }
   },
   "outputs": [
    {
     "name": "stdout",
     "output_type": "stream",
     "text": [
      "====== rating.dat ======\n",
      "   uid   mid  rating  timestamp\n",
      "0    1  1193       5  978300760\n",
      "1    1   661       3  978302109\n",
      "2    1   914       3  978301968\n",
      "3    1  3408       4  978300275\n",
      "4    1  2355       5  978824291\n",
      "===== movies.dat ======\n",
      "   mid                          movie_name                   movie_genre\n",
      "0    1                    Toy Story (1995)   Animation|Children's|Comedy\n",
      "1    2                      Jumanji (1995)  Adventure|Children's|Fantasy\n",
      "2    3             Grumpier Old Men (1995)                Comedy|Romance\n",
      "3    4            Waiting to Exhale (1995)                  Comedy|Drama\n",
      "4    5  Father of the Bride Part II (1995)                        Comedy\n",
      "====== users.dat ======\n",
      "   uid user_sex  user_age  user_occup user_zip\n",
      "0    1        F         1          10    48067\n",
      "1    2        M        56          16    70072\n",
      "2    3        M        25          15    55117\n",
      "3    4        M        45           7    02460\n",
      "4    5        M        25          20    55455\n"
     ]
    }
   ],
   "source": [
    "## FACTORIZATION MODELS\n",
    "\n",
    "# Download the actual data from http://files.grouplens.org/datasets/movielens/ml-latest-small.zip\"\n",
    "# Use the ratings.csv file\n",
    "movielens_data_file_url = (\n",
    "    \"http://files.grouplens.org/datasets/movielens/ml-1m.zip\"\n",
    ")\n",
    "movielens_zipped_file = keras.utils.get_file(\n",
    "    \"ml-1m.zip\", movielens_data_file_url, extract=False\n",
    ")\n",
    "keras_datasets_path = Path(movielens_zipped_file).parents[0]\n",
    "movielens_dir = keras_datasets_path / \"ml-1m\"\n",
    "\n",
    "# Only extract the data the first time the script is run.\n",
    "if not movielens_dir.exists():\n",
    "    with ZipFile(movielens_zipped_file, \"r\") as zip:\n",
    "        # Extract files\n",
    "        print(\"Extracting all the files now...\")\n",
    "        zip.extractall(path=keras_datasets_path)\n",
    "        print(\"Done!\")\n",
    "\n",
    "\n",
    "def load_ratings(movielens_dir):\n",
    "    \"\"\"\n",
    "    Loads the ratings data from the Movielens dataset.\n",
    "\n",
    "    Parameters:\n",
    "    movielens_dir (str): The directory where the Movielens dataset is stored.\n",
    "\n",
    "    Returns:\n",
    "    pandas.DataFrame: A DataFrame containing the ratings data.\n",
    "    \"\"\"\n",
    "    COL_NAME = ['uid','mid','rating','timestamp']\n",
    "    df = pd.read_csv(movielens_dir / 'ratings.dat',sep='::', header=None, engine='python', names=COL_NAME)\n",
    "    return df\n",
    "\n",
    "\n",
    "def load_movies(movielens_dir):\n",
    "    \"\"\"\n",
    "    Loads the movies data from the Movielens dataset.\n",
    "\n",
    "    Parameters:\n",
    "    movielens_dir (str): The directory where the Movielens dataset is stored.\n",
    "\n",
    "    Returns:\n",
    "    pandas.DataFrame: A DataFrame containing the movies data.\n",
    "    \"\"\"\n",
    "    COL_NAME = ['mid','movie_name','movie_genre']\n",
    "    df = pd.read_csv(movielens_dir / 'movies.dat',sep='::', header=None, engine='python', names=COL_NAME, encoding='latin-1')\n",
    "    return df\n",
    "\n",
    "\n",
    "def load_users(movielens_dir):\n",
    "    \"\"\"\n",
    "    Loads the users data from the Movielens dataset.\n",
    "\n",
    "    Parameters:\n",
    "    movielens_dir (str): The directory where the Movielens dataset is stored.\n",
    "\n",
    "    Returns:\n",
    "    pandas.DataFrame: A DataFrame containing the users data.\n",
    "    \"\"\"\n",
    "    # fea1 => Sex\n",
    "    # fea2 => Age\n",
    "    # fea3 => Occupation\n",
    "    # fea4 => Zip-Code\n",
    "    COL_NAME = ['uid','user_sex','user_age','user_occup','user_zip']\n",
    "    df = pd.read_csv(movielens_dir / 'users.dat',sep='::', header=None, engine='python', names=COL_NAME)\n",
    "    return df\n",
    "\n",
    "\n",
    "def text2seq(text, n_genre):\n",
    "    \"\"\"\n",
    "    Encodes a multi-level categorical feature using tokenizer.\n",
    "\n",
    "    Parameters:\n",
    "    text (str): The text to be encoded.\n",
    "    n_genre (int): The number of genres to use for encoding.\n",
    "\n",
    "    Returns:\n",
    "    numpy.ndarray: The encoded sequence.\n",
    "    \"\"\"\n",
    "    tokenizer = Tokenizer(lower=True, split='|',filters='', num_words=n_genre)\n",
    "    tokenizer.fit_on_texts(text)\n",
    "    seq = tokenizer.texts_to_sequences(text)\n",
    "    seq = pad_sequences(seq, maxlen=3,padding='post')\n",
    "    return seq\n",
    "\n",
    "\n",
    "def last_n(df_ratings, n=3, column_name1 = \"movie_name\", column_name2 = \"mid\", column_name3 = \"movie_year\"):\n",
    "    \"\"\"\n",
    "    Generates a new dataframe with columns that contain the last n ratings for each user.\n",
    "\n",
    "    Parameters:\n",
    "    df_ratings (pandas.DataFrame): The original ratings dataframe.\n",
    "    n (int, optional): The number of last ratings to retrieve. Defaults to 3.\n",
    "    column_name1 (str, optional): The name of the column for movie names. Defaults to \"movie_name\".\n",
    "    column_name2 (str, optional): The name of the column for movie IDs. Defaults to \"mid\".\n",
    "    column_name3 (str, optional): The name of the column for movie release years. Defaults to \"movie_year\".\n",
    "\n",
    "    Returns:\n",
    "    pandas.DataFrame: The new dataframe with columns containing the last n ratings for each user.\n",
    "    \"\"\"\n",
    "\n",
    "    temp_list = [f'temp1_{i}' for i in range(n)]\n",
    "    temp_list2 = [f'temp2_{i}' for i in range(n)]\n",
    "    temp_list3 = [f'temp3_{i}' for i in range(n)]\n",
    "    \n",
    "    list_cols1 = []\n",
    "    list_cols2 = []\n",
    "    list_cols3 = []\n",
    "    \n",
    "    for movie_lag in range(n):\n",
    "        movie_lag_shift = (movie_lag+1)*-1\n",
    "        \n",
    "        df_ratings[temp_list[movie_lag]] = df_ratings.groupby('uid',as_index= False)[column_name1].transform(lambda x : x.shift(movie_lag_shift))\n",
    "        df_ratings[temp_list2[movie_lag]] = df_ratings.groupby('uid',as_index= False)[column_name2].transform(lambda x : x.shift(movie_lag_shift))\n",
    "        df_ratings[temp_list3[movie_lag]] = df_ratings.groupby('uid',as_index= False)[column_name3].transform(lambda x : x.shift(movie_lag_shift))\n",
    "                          \n",
    "        if pd.isna(df_ratings[temp_list[movie_lag]].iloc[1]):\n",
    "            pass\n",
    "       \n",
    "        else:\n",
    "            list_cols1.append(temp_list[movie_lag])\n",
    "            list_cols2.append(temp_list2[movie_lag])\n",
    "            list_cols3.append(temp_list3[movie_lag])\n",
    "    \n",
    "    output_col_name1 = \"last_x_\"+column_name1\n",
    "    output_col_name2 = \"last_x_\"+column_name2\n",
    "    output_col_name3 = \"last_x_\"+column_name3\n",
    "    \n",
    "    df_ratings[output_col_name1] = df_ratings[list_cols1].values.tolist()\n",
    "    df_ratings[output_col_name2] = df_ratings[list_cols2].values.tolist()\n",
    "    df_ratings[output_col_name3] = df_ratings[list_cols3].values.tolist()\n",
    "    \n",
    "    return df_ratings\n",
    "\n",
    "\n",
    "# Define a function to remove 'nan' values from a list\n",
    "def remove_nan(input_list):\n",
    "    \"\"\"\n",
    "    Removes NaN values from a list.\n",
    "\n",
    "    Parameters:\n",
    "    input_list (list): The input list.\n",
    "\n",
    "    Returns:\n",
    "    list: The input list with NaN values removed.\n",
    "    \"\"\"\n",
    "    return [x for x in input_list if not pd.isnull(x)]\n",
    "\n",
    "\n",
    "def complete_list(x, n):\n",
    "    \"\"\"\n",
    "    Completes a list with zeros until it reaches a given length.\n",
    "\n",
    "    Parameters:\n",
    "    x (list): The input list.\n",
    "    n (int): The desired length of the output list.\n",
    "\n",
    "    Returns:\n",
    "    numpy.ndarray: The completed list with zeros.\n",
    "    \"\"\"\n",
    "\n",
    "    try:\n",
    "        if len(x) < n:\n",
    "            return np.concatenate([x, [0 for _ in range(n-len(x))]], axis=0)\n",
    "        else:\n",
    "            return x\n",
    "    except:\n",
    "            return np.zeros(n)\n",
    "\n",
    "n_genre = 15\n",
    "\n",
    "\n",
    "ratings = load_ratings(movielens_dir)\n",
    "movies = load_movies(movielens_dir)\n",
    "users = load_users(movielens_dir)\n",
    "\n",
    "\n",
    "print(\"====== rating.dat ======\")\n",
    "print(ratings.head())\n",
    "print(\"===== movies.dat ======\")\n",
    "print(movies.head())\n",
    "print(\"====== users.dat ======\")\n",
    "print(users.head())\n"
   ]
  },
  {
   "cell_type": "markdown",
   "metadata": {},
   "source": [
    "# Preprocessing"
   ]
  },
  {
   "cell_type": "markdown",
   "metadata": {},
   "source": [
    "## Feature Engineering:"
   ]
  },
  {
   "cell_type": "markdown",
   "metadata": {},
   "source": [
    "### Remarkable considerations:\n",
    "\n",
    "- movie year: it can give to the model properties or implicit information about the movie and maybe some patterns in users can be found.\n",
    "- timestamp: we rebuild the timestamp feature. Conversion to days and centered at 0. Can give some useful temporal information. \n",
    "    - After some computations, we have seen that it makes more sense to use this feature in order to define a new variable: last N movies seen, at this given time, by the user, in order to get a more informative new feature. \n",
    "- user occupation: we recompute the user_occupation in order to avoid the numerical order that was implicit there, and used a frequency value which made more sense, although it still has this order.\n",
    "- the last N movies, in our case 3, watched by a user at a specific time, given by the variable `timestamp`. So basically, we can use the implicit information this feature can give us as well as give an extra weight to the top popular movies, this is, the movies that are more frequently seen by the users, and therefore, may be more repeated on this new feature\n"
   ]
  },
  {
   "cell_type": "markdown",
   "metadata": {},
   "source": [
    "Note additionally, that the ratings seem to follow a slitghly asymetrical normal distribution, with mean 3.6 and median 4. Note that taking out the low ranked outliers, which may represent the movies some users have hardly dislikes, it is intuitive to consider a 3.8 to be an acceptable threshold in order to distinguish the movies that have actually liked the users. Therefore, in order to define the feature target `loved` in the cases that binary targets are used we may consider this `THRES = 3.8` as a coherent threshold. "
   ]
  },
  {
   "cell_type": "code",
   "execution_count": 15,
   "metadata": {
    "execution": {
     "iopub.execute_input": "2023-03-30T17:27:31.051761Z",
     "iopub.status.busy": "2023-03-30T17:27:31.051201Z",
     "iopub.status.idle": "2023-03-30T17:28:41.300263Z",
     "shell.execute_reply": "2023-03-30T17:28:41.298847Z",
     "shell.execute_reply.started": "2023-03-30T17:27:31.051678Z"
    }
   },
   "outputs": [
    {
     "name": "stdout",
     "output_type": "stream",
     "text": [
      "====== PREPROCESSED DATA =======\n"
     ]
    },
    {
     "data": {
      "text/html": [
       "<div>\n",
       "<style scoped>\n",
       "    .dataframe tbody tr th:only-of-type {\n",
       "        vertical-align: middle;\n",
       "    }\n",
       "\n",
       "    .dataframe tbody tr th {\n",
       "        vertical-align: top;\n",
       "    }\n",
       "\n",
       "    .dataframe thead th {\n",
       "        text-align: right;\n",
       "    }\n",
       "</style>\n",
       "<table border=\"1\" class=\"dataframe\">\n",
       "  <thead>\n",
       "    <tr style=\"text-align: right;\">\n",
       "      <th></th>\n",
       "      <th>uid</th>\n",
       "      <th>mid</th>\n",
       "      <th>rating</th>\n",
       "      <th>timestamp</th>\n",
       "      <th>movie_name</th>\n",
       "      <th>movie_genre</th>\n",
       "      <th>user_sex</th>\n",
       "      <th>user_age</th>\n",
       "      <th>user_occup</th>\n",
       "      <th>user_zip</th>\n",
       "      <th>movie_year</th>\n",
       "      <th>user_ocupp_freq</th>\n",
       "      <th>ts_day</th>\n",
       "      <th>user_sex_encoded</th>\n",
       "      <th>last_x_movie_name</th>\n",
       "      <th>last_x_mid</th>\n",
       "      <th>last_x_movie_year</th>\n",
       "      <th>loved</th>\n",
       "    </tr>\n",
       "  </thead>\n",
       "  <tbody>\n",
       "    <tr>\n",
       "      <th>1000042</th>\n",
       "      <td>6040</td>\n",
       "      <td>1221</td>\n",
       "      <td>4</td>\n",
       "      <td>998315055</td>\n",
       "      <td>Godfather: Part II, The</td>\n",
       "      <td>[3, 10, 1]</td>\n",
       "      <td>M</td>\n",
       "      <td>25</td>\n",
       "      <td>6</td>\n",
       "      <td>11106</td>\n",
       "      <td>1974</td>\n",
       "      <td>0.037197</td>\n",
       "      <td>482.0</td>\n",
       "      <td>1</td>\n",
       "      <td>[Crimson Tide , Pi , As Good As It Gets ]</td>\n",
       "      <td>[161.0, 1921.0, 1784.0]</td>\n",
       "      <td>[1995.0, 1998.0, 1997.0]</td>\n",
       "      <td>1</td>\n",
       "    </tr>\n",
       "    <tr>\n",
       "      <th>1000167</th>\n",
       "      <td>6040</td>\n",
       "      <td>161</td>\n",
       "      <td>3</td>\n",
       "      <td>997454486</td>\n",
       "      <td>Crimson Tide</td>\n",
       "      <td>[1, 4, 11]</td>\n",
       "      <td>M</td>\n",
       "      <td>25</td>\n",
       "      <td>6</td>\n",
       "      <td>11106</td>\n",
       "      <td>1995</td>\n",
       "      <td>0.037197</td>\n",
       "      <td>472.0</td>\n",
       "      <td>1</td>\n",
       "      <td>[Pi , As Good As It Gets , Body Heat ]</td>\n",
       "      <td>[1921.0, 1784.0, 2917.0]</td>\n",
       "      <td>[1998.0, 1997.0, 1981.0]</td>\n",
       "      <td>0</td>\n",
       "    </tr>\n",
       "    <tr>\n",
       "      <th>999988</th>\n",
       "      <td>6040</td>\n",
       "      <td>1921</td>\n",
       "      <td>4</td>\n",
       "      <td>997454464</td>\n",
       "      <td>Pi</td>\n",
       "      <td>[8, 4, 0]</td>\n",
       "      <td>M</td>\n",
       "      <td>25</td>\n",
       "      <td>6</td>\n",
       "      <td>11106</td>\n",
       "      <td>1998</td>\n",
       "      <td>0.037197</td>\n",
       "      <td>472.0</td>\n",
       "      <td>1</td>\n",
       "      <td>[As Good As It Gets , Body Heat , Eat Drink Ma...</td>\n",
       "      <td>[1784.0, 2917.0, 232.0]</td>\n",
       "      <td>[1997.0, 1981.0, 1994.0]</td>\n",
       "      <td>1</td>\n",
       "    </tr>\n",
       "    <tr>\n",
       "      <th>1000172</th>\n",
       "      <td>6040</td>\n",
       "      <td>1784</td>\n",
       "      <td>3</td>\n",
       "      <td>997454464</td>\n",
       "      <td>As Good As It Gets</td>\n",
       "      <td>[2, 1, 0]</td>\n",
       "      <td>M</td>\n",
       "      <td>25</td>\n",
       "      <td>6</td>\n",
       "      <td>11106</td>\n",
       "      <td>1997</td>\n",
       "      <td>0.037197</td>\n",
       "      <td>472.0</td>\n",
       "      <td>1</td>\n",
       "      <td>[Body Heat , Eat Drink Man Woman , Blazing Sad...</td>\n",
       "      <td>[2917.0, 232.0, 3671.0]</td>\n",
       "      <td>[1981.0, 1994.0, 1974.0]</td>\n",
       "      <td>0</td>\n",
       "    </tr>\n",
       "    <tr>\n",
       "      <th>1000019</th>\n",
       "      <td>6040</td>\n",
       "      <td>2917</td>\n",
       "      <td>4</td>\n",
       "      <td>997454429</td>\n",
       "      <td>Body Heat</td>\n",
       "      <td>[10, 4, 0]</td>\n",
       "      <td>M</td>\n",
       "      <td>25</td>\n",
       "      <td>6</td>\n",
       "      <td>11106</td>\n",
       "      <td>1981</td>\n",
       "      <td>0.037197</td>\n",
       "      <td>472.0</td>\n",
       "      <td>1</td>\n",
       "      <td>[Eat Drink Man Woman , Blazing Saddles , Fugit...</td>\n",
       "      <td>[232.0, 3671.0, 457.0]</td>\n",
       "      <td>[1994.0, 1974.0, 1993.0]</td>\n",
       "      <td>1</td>\n",
       "    </tr>\n",
       "  </tbody>\n",
       "</table>\n",
       "</div>"
      ],
      "text/plain": [
       "          uid   mid  rating  timestamp                movie_name movie_genre  \\\n",
       "1000042  6040  1221       4  998315055  Godfather: Part II, The   [3, 10, 1]   \n",
       "1000167  6040   161       3  997454486             Crimson Tide   [1, 4, 11]   \n",
       "999988   6040  1921       4  997454464                       Pi    [8, 4, 0]   \n",
       "1000172  6040  1784       3  997454464       As Good As It Gets    [2, 1, 0]   \n",
       "1000019  6040  2917       4  997454429                Body Heat   [10, 4, 0]   \n",
       "\n",
       "        user_sex  user_age  user_occup user_zip  movie_year  user_ocupp_freq  \\\n",
       "1000042        M        25           6    11106        1974         0.037197   \n",
       "1000167        M        25           6    11106        1995         0.037197   \n",
       "999988         M        25           6    11106        1998         0.037197   \n",
       "1000172        M        25           6    11106        1997         0.037197   \n",
       "1000019        M        25           6    11106        1981         0.037197   \n",
       "\n",
       "         ts_day  user_sex_encoded  \\\n",
       "1000042   482.0                 1   \n",
       "1000167   472.0                 1   \n",
       "999988    472.0                 1   \n",
       "1000172   472.0                 1   \n",
       "1000019   472.0                 1   \n",
       "\n",
       "                                         last_x_movie_name  \\\n",
       "1000042          [Crimson Tide , Pi , As Good As It Gets ]   \n",
       "1000167             [Pi , As Good As It Gets , Body Heat ]   \n",
       "999988   [As Good As It Gets , Body Heat , Eat Drink Ma...   \n",
       "1000172  [Body Heat , Eat Drink Man Woman , Blazing Sad...   \n",
       "1000019  [Eat Drink Man Woman , Blazing Saddles , Fugit...   \n",
       "\n",
       "                       last_x_mid         last_x_movie_year  loved  \n",
       "1000042   [161.0, 1921.0, 1784.0]  [1995.0, 1998.0, 1997.0]      1  \n",
       "1000167  [1921.0, 1784.0, 2917.0]  [1998.0, 1997.0, 1981.0]      0  \n",
       "999988    [1784.0, 2917.0, 232.0]  [1997.0, 1981.0, 1994.0]      1  \n",
       "1000172   [2917.0, 232.0, 3671.0]  [1981.0, 1994.0, 1974.0]      0  \n",
       "1000019    [232.0, 3671.0, 457.0]  [1994.0, 1974.0, 1993.0]      1  "
      ]
     },
     "execution_count": 15,
     "metadata": {},
     "output_type": "execute_result"
    }
   ],
   "source": [
    "# Definition of variables\n",
    "LAST_N_MOVIES = 3\n",
    "LIKE_THRESH = 3.8\n",
    "\n",
    "### Preprocessing and feature engineering!\n",
    "\n",
    "# Break movie_genre, convert it into numbers\n",
    "movies['movie_genre'] = text2seq(movies.movie_genre.values, n_genre=n_genre).tolist()\n",
    "\n",
    "# JOIN all dataframes in one\n",
    "ratings = ratings.join(movies.set_index('mid'), on = 'mid', how = 'left')\n",
    "ratings = ratings.join(users.set_index('uid'), on = 'uid', how = 'left')\n",
    "\n",
    "# Break year of movies into a new column. Clean name of movies\n",
    "ratings['movie_year'] = ratings.movie_name.apply(lambda x: re.compile(r\"\\((\\d{4})\\)\").search(x).group(1)).astype(int) # Get the year inside brackets (1998) => 1998\n",
    "ratings['movie_name'] = ratings.movie_name.apply(lambda x: re.split(re.compile(r\"\\((\\d{4})\\)\"), x)[0]) # Get the name cleaned\n",
    "\n",
    "# Map the frequency of user_ocuppation, breaking the order.\n",
    "ratings['user_ocupp_freq'] = ratings.user_occup.map(ratings.user_occup.value_counts())/ratings.shape[0]\n",
    "\n",
    "# Timestamp is in seconds, convert\n",
    "ratings['ts_day'] = round((ratings.timestamp - ratings.timestamp.min())/60/60/24)\n",
    "\n",
    "# Sex binary encoded \n",
    "ratings['user_sex_encoded'] = ratings.user_sex.replace({'F': 0, 'M': 1})\n",
    "\n",
    "# Create last_n_movies.\n",
    "ratings = ratings.sort_values(by=['uid', 'timestamp'], ascending=False)\n",
    "ratings = last_n(ratings, LAST_N_MOVIES, \"movie_name\", \"mid\", \"movie_year\")\n",
    "ratings = ratings.drop([f'temp{i}_{j}' for i in range(1,LAST_N_MOVIES+1) for j in range(LAST_N_MOVIES)], axis=1)\n",
    "# Apply the function to each row of the 'Values' column\n",
    "ratings['last_x_movie_name'] = ratings['last_x_movie_name'].apply(remove_nan)\n",
    "ratings['last_x_mid'] = ratings['last_x_mid'].apply(remove_nan)\n",
    "ratings['last_x_movie_year'] = ratings['last_x_movie_year'].apply(remove_nan)\n",
    "ratings['last_x_mid'] = ratings['last_x_mid'].apply(lambda x: complete_list(x,LAST_N_MOVIES)) # For users which do not have at least n movies.\n",
    "\n",
    "# BINARY SCORE\n",
    "ratings['loved'] = ratings.rating.apply(lambda x: 1 if x>LIKE_THRESH else 0)\n",
    "\n",
    "print(\"====== PREPROCESSED DATA =======\")\n",
    "(ratings.head())"
   ]
  },
  {
   "cell_type": "markdown",
   "metadata": {},
   "source": [
    "# Users grouping"
   ]
  },
  {
   "cell_type": "markdown",
   "metadata": {},
   "source": [
    "We may consider the different user groups, in terms of the rating frequency, so we can split the dataset between new users and usual users, in order to determine which kind of recommender system is more suitable to use in each case:\n",
    "\n",
    "In order to implement our Recommender System, we may create a function that, for each given user from the test set, i.e. for each `uid` of the test set: it generates a subset from the initial dataset `ratings` with all the movies that the user has not seen matched with the specific user profile, and therefore it applies the FM recommender system to predict the ratings of the aforementioned movies for the given fixed user. Thus it sorts the dataset in terms of the predicted rating, to obtain the final ranking list of the top 25 movies to recommend to the given user. "
   ]
  },
  {
   "cell_type": "code",
   "execution_count": 16,
   "metadata": {
    "execution": {
     "iopub.execute_input": "2023-03-30T17:29:10.835155Z",
     "iopub.status.busy": "2023-03-30T17:29:10.833551Z",
     "iopub.status.idle": "2023-03-30T17:29:23.228692Z",
     "shell.execute_reply": "2023-03-30T17:29:23.226993Z",
     "shell.execute_reply.started": "2023-03-30T17:29:10.835091Z"
    }
   },
   "outputs": [
    {
     "name": "stdout",
     "output_type": "stream",
     "text": [
      "The mean frequency by user is:  165.5975165562914\n",
      "The number of users identified as new users is:  4148\n",
      "The number of users identified as frequent users is:  1892\n"
     ]
    }
   ],
   "source": [
    "users = pd.unique(ratings['uid'])\n",
    "users_freq = []\n",
    "for user in users:\n",
    "    users_freq.append(len(ratings[ratings['uid'] == user]))\n",
    "mean_users_freq = np.sum(users_freq)/len(users_freq)\n",
    "print('The mean frequency by user is: ', mean_users_freq)\n",
    "\n",
    "df_freqs = pd.DataFrame({\n",
    "    'user_id': users, \n",
    "    'users_freq': users_freq\n",
    "})\n",
    "df_freqs = df_freqs.sort_values(by = 'users_freq', ascending=False)\n",
    "# df_freqs\n",
    "\n",
    "df_popu = df_freqs[df_freqs['users_freq'] >= mean_users_freq]\n",
    "df_new = df_freqs[df_freqs['users_freq'] < mean_users_freq]\n",
    "print('The number of users identified as new users is: ', len(df_new))\n",
    "print('The number of users identified as frequent users is: ', len(df_popu))"
   ]
  },
  {
   "cell_type": "code",
   "execution_count": 17,
   "metadata": {
    "execution": {
     "iopub.execute_input": "2023-03-30T17:29:26.761935Z",
     "iopub.status.busy": "2023-03-30T17:29:26.761434Z",
     "iopub.status.idle": "2023-03-30T17:29:27.177160Z",
     "shell.execute_reply": "2023-03-30T17:29:27.175639Z",
     "shell.execute_reply.started": "2023-03-30T17:29:26.761890Z"
    }
   },
   "outputs": [
    {
     "name": "stdout",
     "output_type": "stream",
     "text": [
      "0.6867549668874172\n"
     ]
    },
    {
     "data": {
      "text/plain": [
       "<AxesSubplot:>"
      ]
     },
     "execution_count": 17,
     "metadata": {},
     "output_type": "execute_result"
    },
    {
     "data": {
      "image/png": "[encoded data removed]",
      "text/plain": [
       "<Figure size 640x480 with 1 Axes>"
      ]
     },
     "metadata": {},
     "output_type": "display_data"
    }
   ],
   "source": [
    "print(len(df_new)/(len(df_popu) + len(df_new)))\n",
    "df_freqs.users_freq.hist(bins = 100)"
   ]
  },
  {
   "cell_type": "markdown",
   "metadata": {},
   "source": [
    "Since we have a dataset with more than two thirds of users rating less than the mean frequency, we are considering this mean as the threshold for identifying a new and a frequent user on the experiments. "
   ]
  },
  {
   "cell_type": "markdown",
   "metadata": {},
   "source": [
    "Now, we may start by preprocessing the data and study all the explicit and implicit information we are given. \n"
   ]
  },
  {
   "cell_type": "code",
   "execution_count": 18,
   "metadata": {
    "execution": {
     "iopub.execute_input": "2023-03-30T17:29:31.158850Z",
     "iopub.status.busy": "2023-03-30T17:29:31.157451Z",
     "iopub.status.idle": "2023-03-30T17:29:31.521233Z",
     "shell.execute_reply": "2023-03-30T17:29:31.519454Z",
     "shell.execute_reply.started": "2023-03-30T17:29:31.158801Z"
    }
   },
   "outputs": [
    {
     "name": "stdout",
     "output_type": "stream",
     "text": [
      "3.581564453029317\n",
      "4.0\n"
     ]
    },
    {
     "data": {
      "text/plain": [
       "<AxesSubplot:>"
      ]
     },
     "execution_count": 18,
     "metadata": {},
     "output_type": "execute_result"
    },
    {
     "data": {
      "image/png": "[encoded data removed]",
      "text/plain": [
       "<Figure size 640x480 with 1 Axes>"
      ]
     },
     "metadata": {},
     "output_type": "display_data"
    }
   ],
   "source": [
    "print(ratings.rating.mean())\n",
    "print(ratings.rating.median())\n",
    "ratings.groupby('uid').rating.mean().hist(bins = 35)"
   ]
  },
  {
   "cell_type": "markdown",
   "metadata": {},
   "source": [
    "## Advanced engineering"
   ]
  },
  {
   "cell_type": "markdown",
   "metadata": {},
   "source": [
    "On the latest experiments, we have included a new study in order to create a normalize target of ratings. Here we are considering the normalization of the ratings by user (so we can reduce or neglict the bias given by the way each user rates, we can hate users that tend to rate high by "
   ]
  },
  {
   "cell_type": "code",
   "execution_count": 21,
   "metadata": {
    "execution": {
     "iopub.execute_input": "2023-03-30T17:33:11.151777Z",
     "iopub.status.busy": "2023-03-30T17:33:11.151328Z",
     "iopub.status.idle": "2023-03-30T17:34:34.891524Z",
     "shell.execute_reply": "2023-03-30T17:34:34.890009Z",
     "shell.execute_reply.started": "2023-03-30T17:33:11.151724Z"
    }
   },
   "outputs": [],
   "source": [
    "# Normalize rating\n",
    "def normalize(uid, genre, rating):\n",
    "    try:\n",
    "        return (rating - ratings_min[(uid, genre)])/(ratings_max[(uid, genre)]-ratings_min[(uid, genre)])*5\n",
    "    except:\n",
    "        return 0\n",
    "# Assign norm\n",
    "def assign_norm(uid, mid):\n",
    "    return renorm_rating[(uid, mid)]\n",
    "# Assign user thresh\n",
    "def norm_thresh(uid, mid):\n",
    "    return ratings_mean[(uid, mid)]\n",
    "# Assign personalized loved thresh\n",
    "def assign_loved_thresh(rating, uid_thresh):\n",
    "    return int(rating > uid_thresh)\n",
    "\n",
    "# Copy of the DF\n",
    "ratings__ = ratings\n",
    "# Explode the movie_genre list into N new rows.\n",
    "ratings__ = ratings__.explode('movie_genre').reset_index()\n",
    "# Get the necessary data into dicts to faster lookup\n",
    "ratings_mean = ratings__.groupby(by=['uid', 'movie_genre']).rating.mean().to_dict()\n",
    "ratings_min = ratings__.groupby(by=['uid', 'movie_genre']).rating.min().to_dict()\n",
    "ratings_max = ratings__.groupby(by=['uid', 'movie_genre']).rating.max().to_dict()\n",
    "# Assign a normalized rating for each user and genre\n",
    "ratings['norm_rating'] = ratings__[['uid', 'movie_genre', 'rating']].apply(lambda x: normalize(*x), axis=1)\n",
    "# Get the mean rating for that user.\n",
    "renorm_rating = ratings.groupby(by=['uid', 'mid']).norm_rating.mean().to_dict()\n",
    "# Assign the threshold for each user and genre\n",
    "ratings__['norm_thresh'] = ratings__[['uid', 'movie_genre']].apply(lambda x: norm_thresh(*x), axis=1)\n",
    "# Put the user personalized threshold\n",
    "ratings['uid_thresh'] = ratings.uid.map(ratings__.groupby('uid').norm_thresh.mean().to_dict())\n",
    "# Put the user personalized loved feature\n",
    "ratings['loved_thresh'] = ratings[['rating', 'uid_thresh']].apply(lambda x: assign_loved_thresh(*x), axis=1)"
   ]
  },
  {
   "cell_type": "code",
   "execution_count": 22,
   "metadata": {
    "execution": {
     "iopub.execute_input": "2023-03-30T17:34:34.894430Z",
     "iopub.status.busy": "2023-03-30T17:34:34.894024Z",
     "iopub.status.idle": "2023-03-30T17:34:34.935250Z",
     "shell.execute_reply": "2023-03-30T17:34:34.933581Z",
     "shell.execute_reply.started": "2023-03-30T17:34:34.894391Z"
    }
   },
   "outputs": [
    {
     "data": {
      "text/html": [
       "<div>\n",
       "<style scoped>\n",
       "    .dataframe tbody tr th:only-of-type {\n",
       "        vertical-align: middle;\n",
       "    }\n",
       "\n",
       "    .dataframe tbody tr th {\n",
       "        vertical-align: top;\n",
       "    }\n",
       "\n",
       "    .dataframe thead th {\n",
       "        text-align: right;\n",
       "    }\n",
       "</style>\n",
       "<table border=\"1\" class=\"dataframe\">\n",
       "  <thead>\n",
       "    <tr style=\"text-align: right;\">\n",
       "      <th></th>\n",
       "      <th>uid</th>\n",
       "      <th>mid</th>\n",
       "      <th>rating</th>\n",
       "      <th>timestamp</th>\n",
       "      <th>movie_name</th>\n",
       "      <th>movie_genre</th>\n",
       "      <th>user_sex</th>\n",
       "      <th>user_age</th>\n",
       "      <th>user_occup</th>\n",
       "      <th>user_zip</th>\n",
       "      <th>...</th>\n",
       "      <th>user_ocupp_freq</th>\n",
       "      <th>ts_day</th>\n",
       "      <th>user_sex_encoded</th>\n",
       "      <th>last_x_movie_name</th>\n",
       "      <th>last_x_mid</th>\n",
       "      <th>last_x_movie_year</th>\n",
       "      <th>loved</th>\n",
       "      <th>norm_rating</th>\n",
       "      <th>uid_thresh</th>\n",
       "      <th>loved_thresh</th>\n",
       "    </tr>\n",
       "  </thead>\n",
       "  <tbody>\n",
       "    <tr>\n",
       "      <th>1000042</th>\n",
       "      <td>6040</td>\n",
       "      <td>1221</td>\n",
       "      <td>4</td>\n",
       "      <td>998315055</td>\n",
       "      <td>Godfather: Part II, The</td>\n",
       "      <td>[3, 10, 1]</td>\n",
       "      <td>M</td>\n",
       "      <td>25</td>\n",
       "      <td>6</td>\n",
       "      <td>11106</td>\n",
       "      <td>...</td>\n",
       "      <td>0.037197</td>\n",
       "      <td>482.0</td>\n",
       "      <td>1</td>\n",
       "      <td>[Crimson Tide , Pi , As Good As It Gets ]</td>\n",
       "      <td>[161.0, 1921.0, 1784.0]</td>\n",
       "      <td>[1995.0, 1998.0, 1997.0]</td>\n",
       "      <td>1</td>\n",
       "      <td>3.75</td>\n",
       "      <td>3.577713</td>\n",
       "      <td>1</td>\n",
       "    </tr>\n",
       "    <tr>\n",
       "      <th>1000167</th>\n",
       "      <td>6040</td>\n",
       "      <td>161</td>\n",
       "      <td>3</td>\n",
       "      <td>997454486</td>\n",
       "      <td>Crimson Tide</td>\n",
       "      <td>[1, 4, 11]</td>\n",
       "      <td>M</td>\n",
       "      <td>25</td>\n",
       "      <td>6</td>\n",
       "      <td>11106</td>\n",
       "      <td>...</td>\n",
       "      <td>0.037197</td>\n",
       "      <td>472.0</td>\n",
       "      <td>1</td>\n",
       "      <td>[Pi , As Good As It Gets , Body Heat ]</td>\n",
       "      <td>[1921.0, 1784.0, 2917.0]</td>\n",
       "      <td>[1998.0, 1997.0, 1981.0]</td>\n",
       "      <td>0</td>\n",
       "      <td>5.00</td>\n",
       "      <td>3.577713</td>\n",
       "      <td>0</td>\n",
       "    </tr>\n",
       "    <tr>\n",
       "      <th>999988</th>\n",
       "      <td>6040</td>\n",
       "      <td>1921</td>\n",
       "      <td>4</td>\n",
       "      <td>997454464</td>\n",
       "      <td>Pi</td>\n",
       "      <td>[8, 4, 0]</td>\n",
       "      <td>M</td>\n",
       "      <td>25</td>\n",
       "      <td>6</td>\n",
       "      <td>11106</td>\n",
       "      <td>...</td>\n",
       "      <td>0.037197</td>\n",
       "      <td>472.0</td>\n",
       "      <td>1</td>\n",
       "      <td>[As Good As It Gets , Body Heat , Eat Drink Ma...</td>\n",
       "      <td>[1784.0, 2917.0, 232.0]</td>\n",
       "      <td>[1997.0, 1981.0, 1994.0]</td>\n",
       "      <td>1</td>\n",
       "      <td>3.75</td>\n",
       "      <td>3.577713</td>\n",
       "      <td>1</td>\n",
       "    </tr>\n",
       "    <tr>\n",
       "      <th>1000172</th>\n",
       "      <td>6040</td>\n",
       "      <td>1784</td>\n",
       "      <td>3</td>\n",
       "      <td>997454464</td>\n",
       "      <td>As Good As It Gets</td>\n",
       "      <td>[2, 1, 0]</td>\n",
       "      <td>M</td>\n",
       "      <td>25</td>\n",
       "      <td>6</td>\n",
       "      <td>11106</td>\n",
       "      <td>...</td>\n",
       "      <td>0.037197</td>\n",
       "      <td>472.0</td>\n",
       "      <td>1</td>\n",
       "      <td>[Body Heat , Eat Drink Man Woman , Blazing Sad...</td>\n",
       "      <td>[2917.0, 232.0, 3671.0]</td>\n",
       "      <td>[1981.0, 1994.0, 1974.0]</td>\n",
       "      <td>0</td>\n",
       "      <td>2.50</td>\n",
       "      <td>3.577713</td>\n",
       "      <td>0</td>\n",
       "    </tr>\n",
       "    <tr>\n",
       "      <th>1000019</th>\n",
       "      <td>6040</td>\n",
       "      <td>2917</td>\n",
       "      <td>4</td>\n",
       "      <td>997454429</td>\n",
       "      <td>Body Heat</td>\n",
       "      <td>[10, 4, 0]</td>\n",
       "      <td>M</td>\n",
       "      <td>25</td>\n",
       "      <td>6</td>\n",
       "      <td>11106</td>\n",
       "      <td>...</td>\n",
       "      <td>0.037197</td>\n",
       "      <td>472.0</td>\n",
       "      <td>1</td>\n",
       "      <td>[Eat Drink Man Woman , Blazing Saddles , Fugit...</td>\n",
       "      <td>[232.0, 3671.0, 457.0]</td>\n",
       "      <td>[1994.0, 1974.0, 1993.0]</td>\n",
       "      <td>1</td>\n",
       "      <td>3.75</td>\n",
       "      <td>3.577713</td>\n",
       "      <td>1</td>\n",
       "    </tr>\n",
       "  </tbody>\n",
       "</table>\n",
       "<p>5 rows × 21 columns</p>\n",
       "</div>"
      ],
      "text/plain": [
       "          uid   mid  rating  timestamp                movie_name movie_genre  \\\n",
       "1000042  6040  1221       4  998315055  Godfather: Part II, The   [3, 10, 1]   \n",
       "1000167  6040   161       3  997454486             Crimson Tide   [1, 4, 11]   \n",
       "999988   6040  1921       4  997454464                       Pi    [8, 4, 0]   \n",
       "1000172  6040  1784       3  997454464       As Good As It Gets    [2, 1, 0]   \n",
       "1000019  6040  2917       4  997454429                Body Heat   [10, 4, 0]   \n",
       "\n",
       "        user_sex  user_age  user_occup user_zip  ...  user_ocupp_freq  ts_day  \\\n",
       "1000042        M        25           6    11106  ...         0.037197   482.0   \n",
       "1000167        M        25           6    11106  ...         0.037197   472.0   \n",
       "999988         M        25           6    11106  ...         0.037197   472.0   \n",
       "1000172        M        25           6    11106  ...         0.037197   472.0   \n",
       "1000019        M        25           6    11106  ...         0.037197   472.0   \n",
       "\n",
       "         user_sex_encoded                                  last_x_movie_name  \\\n",
       "1000042                 1          [Crimson Tide , Pi , As Good As It Gets ]   \n",
       "1000167                 1             [Pi , As Good As It Gets , Body Heat ]   \n",
       "999988                  1  [As Good As It Gets , Body Heat , Eat Drink Ma...   \n",
       "1000172                 1  [Body Heat , Eat Drink Man Woman , Blazing Sad...   \n",
       "1000019                 1  [Eat Drink Man Woman , Blazing Saddles , Fugit...   \n",
       "\n",
       "                       last_x_mid         last_x_movie_year loved  \\\n",
       "1000042   [161.0, 1921.0, 1784.0]  [1995.0, 1998.0, 1997.0]     1   \n",
       "1000167  [1921.0, 1784.0, 2917.0]  [1998.0, 1997.0, 1981.0]     0   \n",
       "999988    [1784.0, 2917.0, 232.0]  [1997.0, 1981.0, 1994.0]     1   \n",
       "1000172   [2917.0, 232.0, 3671.0]  [1981.0, 1994.0, 1974.0]     0   \n",
       "1000019    [232.0, 3671.0, 457.0]  [1994.0, 1974.0, 1993.0]     1   \n",
       "\n",
       "         norm_rating  uid_thresh  loved_thresh  \n",
       "1000042         3.75    3.577713             1  \n",
       "1000167         5.00    3.577713             0  \n",
       "999988          3.75    3.577713             1  \n",
       "1000172         2.50    3.577713             0  \n",
       "1000019         3.75    3.577713             1  \n",
       "\n",
       "[5 rows x 21 columns]"
      ]
     },
     "execution_count": 22,
     "metadata": {},
     "output_type": "execute_result"
    }
   ],
   "source": [
    "ratings.head()"
   ]
  },
  {
   "cell_type": "markdown",
   "metadata": {},
   "source": [
    "# Factorization Machine Model definition"
   ]
  },
  {
   "cell_type": "markdown",
   "metadata": {},
   "source": [
    "## Define input layers\n",
    "The dataset contains a **numeric** and **categerical** features, they need to be treated differently.\n",
    "\n",
    "* **numeric features** can be concatenated to inputs, with shape (None, num_of_numeric)\n",
    "* **categorical features** can be encoded individually to inputs, with shape (None, 1) each.\n"
   ]
  },
  {
   "cell_type": "code",
   "execution_count": 24,
   "metadata": {
    "execution": {
     "iopub.execute_input": "2023-03-30T17:39:43.993891Z",
     "iopub.status.busy": "2023-03-30T17:39:43.993414Z",
     "iopub.status.idle": "2023-03-30T17:39:44.005597Z",
     "shell.execute_reply": "2023-03-30T17:39:44.003595Z",
     "shell.execute_reply.started": "2023-03-30T17:39:43.993851Z"
    }
   },
   "outputs": [],
   "source": [
    "import tensorflow.keras.backend as K\n",
    "from tensorflow.keras.models import Model\n",
    "from tensorflow.keras.layers import *\n",
    "\n",
    "def define_input_layers():\n",
    "    \"\"\"\n",
    "    Defines the input layers for a neural network model.\n",
    "\n",
    "    Returns:\n",
    "    list: A list of input layers for the model.\n",
    "    \"\"\"\n",
    "    \n",
    "    # numerical features\n",
    "    user_ocupp_freq_input = Input((1,), name = 'user_ocupp_freq')\n",
    "    user_age_input = Input((1,), name = 'user_age')\n",
    "    \n",
    "    ## num_inputs = [user_ocupp_freq_input, ts_day_input, movie_year_input, user_age_input]\n",
    "    num_inputs = [user_ocupp_freq_input, user_age_input]\n",
    "    \n",
    "    # single level categorical features\n",
    "    uid_input = Input((1,), name = 'input_uid') #user_id\n",
    "    mid_input = Input((1,), name= 'input_mid')  #movie_id\n",
    "    user_sex_input = Input((1,), name= 'user_sex')  #movie_id\n",
    "    \n",
    "    cat_sl_inputs = [uid_input, mid_input, user_sex_input]\n",
    "\n",
    "    # multi level categorical features (with 3 genres at most)\n",
    "    genre_input = Input((3,), name = 'input_genre')\n",
    "    last_x_mid = Input((3,), name = 'last_x_mid')\n",
    "    cat_ml_inputs = [genre_input, last_x_mid]\n",
    "\n",
    "    inputs = num_inputs + cat_sl_inputs + cat_ml_inputs\n",
    "    \n",
    "    return inputs\n",
    "\n",
    "\n",
    "\n"
   ]
  },
  {
   "cell_type": "markdown",
   "metadata": {},
   "source": [
    "## 1st order factorization machines\n",
    "1st order will require features to map to a scalar. so for:\n",
    "\n",
    "* numeric feature: a dense layer will convert tensor to shape (None,1)\n",
    "* categorical feature: an embedding layer will convert tensor to shape (None,1,1) and then reshape layer to reshape to (None,1)"
   ]
  },
  {
   "cell_type": "code",
   "execution_count": 42,
   "metadata": {
    "execution": {
     "iopub.execute_input": "2023-03-30T17:53:30.571242Z",
     "iopub.status.busy": "2023-03-30T17:53:30.570807Z",
     "iopub.status.idle": "2023-03-30T17:53:30.586384Z",
     "shell.execute_reply": "2023-03-30T17:53:30.584765Z",
     "shell.execute_reply.started": "2023-03-30T17:53:30.571207Z"
    }
   },
   "outputs": [],
   "source": [
    "def Tensor_Mean_Pooling(name = 'mean_pooling', keepdims = False):\n",
    "    \"\"\"\n",
    "    Creates a mean pooling layer for a TensorFlow Keras model.\n",
    "\n",
    "    Parameters:\n",
    "    name (str): The name for the layer.\n",
    "    keepdims (bool): Whether to keep the dimensions of the layer.\n",
    "\n",
    "    Returns:\n",
    "    tensorflow.keras.layers.Lambda: A mean pooling layer for the model.\n",
    "    \"\"\"\n",
    "    return Lambda(lambda x: K.mean(x, axis = 1, keepdims=keepdims), name = name)\n",
    "\n",
    "def fm_1d(inputs, n_uid, n_mid, n_sex, n_genre):\n",
    "    \"\"\"\n",
    "    Creates a 1D factorization machine layer for a TensorFlow Keras model.\n",
    "\n",
    "    Parameters:\n",
    "    inputs (list): A list of input layers for the model.\n",
    "    n_uid (int): The number of user IDs to use.\n",
    "    n_mid (int): The number of movie IDs to use.\n",
    "    n_sex (int): The number of sex categories to use.\n",
    "    n_genre (int): The number of genres to use.\n",
    "\n",
    "    Returns:\n",
    "    tensorflow.keras.layers.Add: A 1D factorization machine layer for the model.\n",
    "    \"\"\"\n",
    "    \n",
    "    # user feat3 + user embedding + movie embedding + genre embedding\n",
    "    #fea3_input, uid_input, mid_input, genre_input = inputs\n",
    "    user_ocupp_freq_input, user_age_input, uid_input, mid_input, user_sex_input, genre_input, last_x_mid = inputs\n",
    "    \n",
    "    # all tensors are reshape to (None, 1)\n",
    "    num_dense_1d = [Dense(1, name = 'num_dense_1d_user_ocupp_freq')(user_ocupp_freq_input),\n",
    "                   Dense(1, name = 'num_dense_1d_user_age')(user_age_input)]\n",
    "    cat_sl_embed_1d = [Embedding(n_uid + 1, 1, name = 'cat_embed_1d_uid')(uid_input),\n",
    "                        Embedding(n_mid + 1, 1, name = 'cat_embed_1d_mid')(mid_input), \n",
    "                        Embedding(n_sex + 1, 1, name = 'cat_embed_1d_sex')(user_sex_input)]\n",
    "\n",
    "    cat_ml_embed_1d = [Embedding(n_genre + 1, 1, mask_zero=True, name = 'cat_embed_1d_genre')(genre_input),\n",
    "                      Embedding(n_genre + 1, 1, mask_zero=True, name = 'cat_embed_1d_last_x_mid')(last_x_mid)]\n",
    "\n",
    "    cat_sl_embed_1d = [Reshape((1,))(i) for i in cat_sl_embed_1d]\n",
    "    cat_ml_embed_1d = [Tensor_Mean_Pooling(name = f'embed_1d_mean_{idx}')(i) for idx,i in enumerate(cat_ml_embed_1d)]\n",
    "    \n",
    "    # add all tensors\n",
    "    y_fm_1d = Add(name = 'fm_1d_output')(num_dense_1d + cat_sl_embed_1d + cat_ml_embed_1d)\n",
    "    \n",
    "    return y_fm_1d\n",
    "\n"
   ]
  },
  {
   "cell_type": "markdown",
   "metadata": {},
   "source": [
    "## 2nd order factorization machines\n",
    "\n",
    "In 2nd order FM, each feature is map to shape (None, 1, k) and then stack to concat_embed_2d layer with shape (None, p, k).\n",
    "k - matrix factorization latent dimension, p is feature dimension.\n",
    "\n",
    "the calculation of interaction terms can be simplified, using\n",
    "\\begin{equation*} \n",
    "\\sum{x_ix_j} = \\frac{1}{2} \\left((\\sum{x})^2 - \\sum({x}^2)\\right) \n",
    "\\end{equation*}\n",
    "\n",
    "Hence, the sum of 2nd order interactions = square of sum of concat_embed_2d - sum of squared concat_embed_2d in p dimension, the resulting tensor will have a shape (None, k)\n",
    "\n",
    "> We are considering all the interactions between features here:"
   ]
  },
  {
   "cell_type": "code",
   "execution_count": 43,
   "metadata": {
    "execution": {
     "iopub.execute_input": "2023-03-30T17:53:31.672635Z",
     "iopub.status.busy": "2023-03-30T17:53:31.672194Z",
     "iopub.status.idle": "2023-03-30T17:53:31.686890Z",
     "shell.execute_reply": "2023-03-30T17:53:31.685325Z",
     "shell.execute_reply.started": "2023-03-30T17:53:31.672599Z"
    }
   },
   "outputs": [],
   "source": [
    "\n",
    "def fm_2d(inputs, n_uid, n_mid, n_sex, n_genre, k):\n",
    "    \"\"\"\n",
    "    Creates a 2D factorization machine layer for a TensorFlow Keras model.\n",
    "\n",
    "    Parameters:\n",
    "    inputs (list): A list of input layers for the model.\n",
    "    n_uid (int): The number of user IDs to use.\n",
    "    n_mid (int): The number of movie IDs to use.\n",
    "    n_sex (int): The number of sex categories to use.\n",
    "    n_genre (int): The number of genres to use.\n",
    "    k (int): The dimensionality of the embedding vectors.\n",
    "\n",
    "    Returns:\n",
    "    tuple: A tuple of two tensors, where the first tensor represents the second-order factorization machine interactions between the features, and the second tensor represents the embeddings of the features.\n",
    "    \"\"\"\n",
    "\n",
    "    user_ocupp_freq_input, user_age_input, uid_input, mid_input, user_sex_input, genre_input, last_x_mid= inputs\n",
    "    \n",
    "    ### First we get all the representations: for each kind of variables\n",
    "    \n",
    "    num_dense_2d = [Dense(k, name = 'num_dense_2d_user_ocupp_freq')(user_ocupp_freq_input),\n",
    "                   Dense(k, name = 'num_dense_2d_user_age')(user_age_input)]\n",
    "    \n",
    "    ## We need the numerical feature to also be a vector so it has shape k and it can interact with the rest of the matrices:\n",
    "    \n",
    "    num_dense_2d = [Reshape((1,k))(i) for i in num_dense_2d] # shape (None, 1, k)\n",
    "\n",
    "    cat_sl_embed_2d = [Embedding(n_uid + 1, k, name = 'cat_embed_2d_uid')(uid_input), \n",
    "                       Embedding(n_mid + 1, k, name = 'cat_embed_2d_mid')(mid_input),\n",
    "                       Embedding(n_sex + 1, k, name = 'cat_embed_2d_sex')(user_sex_input)] # shape (None, 1, k)\n",
    "    \n",
    "    cat_ml_embed_2d = [Embedding(n_genre + 1, k, name = 'cat_embed_2d_genre')(genre_input), \n",
    "                      Embedding(n_genre + 1, k, name = 'cat_embed_2d_last_x_mid')(last_x_mid)] # shape (None, 3, k)\n",
    "    cat_ml_embed_2d = [Tensor_Mean_Pooling(name = f'cat_embed_2d_genre_mean_{idx}', keepdims=True)(i) for idx,i in enumerate(cat_ml_embed_2d)] # shape (None, 1, k)\n",
    "\n",
    "    # concatenate all 2d embed layers => (None, ?, k)\n",
    "    embed_2d = Concatenate(axis=1, name = 'concat_embed_2d')(num_dense_2d + cat_sl_embed_2d + cat_ml_embed_2d)\n",
    "\n",
    "    # calcuate the interactions by simplication\n",
    "    # sum of (x1*x2) = sum of (0.5*[(xi)^2 - (xi^2)])\n",
    "    tensor_sum = Lambda(lambda x: K.sum(x, axis = 1), name = 'sum_of_tensors')\n",
    "    tensor_square = Lambda(lambda x: K.square(x), name = 'square_of_tensors')\n",
    "\n",
    "    sum_of_embed = tensor_sum(embed_2d)\n",
    "    square_of_embed = tensor_square(embed_2d)\n",
    "\n",
    "    square_of_sum = Multiply()([sum_of_embed, sum_of_embed])\n",
    "    sum_of_square = tensor_sum(square_of_embed)\n",
    "\n",
    "    sub = Subtract()([square_of_sum, sum_of_square])\n",
    "    sub = Lambda(lambda x: x*0.5)(sub)\n",
    "    y_fm_2d = Reshape((1,), name = 'fm_2d_output')(tensor_sum(sub))\n",
    "    \n",
    "    return y_fm_2d, embed_2d\n"
   ]
  },
  {
   "cell_type": "code",
   "execution_count": 44,
   "metadata": {
    "execution": {
     "iopub.execute_input": "2023-03-30T17:53:32.202983Z",
     "iopub.status.busy": "2023-03-30T17:53:32.201792Z",
     "iopub.status.idle": "2023-03-30T17:53:32.213136Z",
     "shell.execute_reply": "2023-03-30T17:53:32.211378Z",
     "shell.execute_reply.started": "2023-03-30T17:53:32.202872Z"
    }
   },
   "outputs": [],
   "source": [
    "\n",
    "def fm_model(n_uid, n_mid, n_sex, n_genre, k):\n",
    "    \"\"\"\n",
    "    Creates a Factorization Machine model with 1D and 2D interaction terms for a TensorFlow Keras model.\n",
    "    Parameters:\n",
    "        n_uid (int): The number of user IDs to use.\n",
    "        n_mid (int): The number of movie IDs to use.\n",
    "        n_sex (int): The number of sex categories to use.\n",
    "        n_genre (int): The number of genres to use.\n",
    "        k (int): The dimensionality of the embedding vectors.\n",
    "\n",
    "    Returns:\n",
    "        tensorflow.keras.models.Model: A Factorization Machine model with 1D and 2D interaction terms for the model.\n",
    "\"\"\"\n",
    "    inputs = define_input_layers()\n",
    "#     print(inputs)\n",
    "    y_fm_1d = fm_1d(inputs, n_uid, n_mid, n_sex, n_genre)\n",
    "    y_fm_2d, embed_2d = fm_2d(inputs, n_uid, n_mid, n_sex, n_genre, k)\n",
    "#     print('model created')\n",
    "    \n",
    "    # combinded deep and fm parts\n",
    "    y = Concatenate()([y_fm_1d, y_fm_2d])\n",
    "    y = Dense(32, name='pre_out', activation='relu')(y)\n",
    "    y = Dense(1, name = 'fm_output', activation='sigmoid')(y)\n",
    "    \n",
    "    fm_model = Model(inputs, y)\n",
    "    return fm_model\n",
    "\n"
   ]
  },
  {
   "cell_type": "code",
   "execution_count": 45,
   "metadata": {
    "execution": {
     "iopub.execute_input": "2023-03-30T17:53:33.141633Z",
     "iopub.status.busy": "2023-03-30T17:53:33.141102Z",
     "iopub.status.idle": "2023-03-30T17:53:33.150597Z",
     "shell.execute_reply": "2023-03-30T17:53:33.149057Z",
     "shell.execute_reply.started": "2023-03-30T17:53:33.141587Z"
    }
   },
   "outputs": [],
   "source": [
    "def df2xy(ratings):\n",
    "    \"\"\"\n",
    "    Converts a pandas dataframe of ratings into feature and target numpy arrays for training a machine learning model.\n",
    "\n",
    "    Parameters:\n",
    "    ratings (pandas.DataFrame): The dataframe of ratings with columns 'user_ocupp_freq', 'user_age', 'uid', 'mid', 'user_sex_encoded', and 'movie_genre'.\n",
    "\n",
    "    Returns:\n",
    "    tuple: A tuple of numpy arrays (x, y) where x contains the feature data and y contains the target data.\n",
    "    \"\"\"\n",
    "    x = [ratings.user_ocupp_freq.values,\n",
    "         ratings.user_age.values,\n",
    "         ratings.uid.values, \n",
    "         ratings.mid.values, \n",
    "         ratings.user_sex_encoded.values,\n",
    "         np.concatenate(ratings.movie_genre.values).reshape(-1,3),\n",
    "        np.concatenate(ratings.last_x_mid.values).reshape(-1,3),\n",
    "        ]\n",
    "    y = ratings.loved_thresh.values\n",
    "    return x,y\n",
    "\n"
   ]
  },
  {
   "cell_type": "code",
   "execution_count": 46,
   "metadata": {
    "execution": {
     "iopub.execute_input": "2023-03-30T17:53:33.639446Z",
     "iopub.status.busy": "2023-03-30T17:53:33.638979Z",
     "iopub.status.idle": "2023-03-30T17:53:33.649422Z",
     "shell.execute_reply": "2023-03-30T17:53:33.647457Z",
     "shell.execute_reply.started": "2023-03-30T17:53:33.639406Z"
    }
   },
   "outputs": [
    {
     "data": {
      "text/plain": [
       "Index(['uid', 'mid', 'rating', 'timestamp', 'movie_name', 'movie_genre',\n",
       "       'user_sex', 'user_age', 'user_occup', 'user_zip', 'movie_year',\n",
       "       'user_ocupp_freq', 'ts_day', 'user_sex_encoded', 'last_x_movie_name',\n",
       "       'last_x_mid', 'last_x_movie_year', 'loved', 'norm_rating', 'uid_thresh',\n",
       "       'loved_thresh'],\n",
       "      dtype='object')"
      ]
     },
     "execution_count": 46,
     "metadata": {},
     "output_type": "execute_result"
    }
   ],
   "source": [
    "ratings.columns"
   ]
  },
  {
   "cell_type": "markdown",
   "metadata": {},
   "source": [
    "## Top recommender definition"
   ]
  },
  {
   "cell_type": "code",
   "execution_count": 47,
   "metadata": {
    "execution": {
     "iopub.execute_input": "2023-03-30T17:53:34.422682Z",
     "iopub.status.busy": "2023-03-30T17:53:34.421936Z",
     "iopub.status.idle": "2023-03-30T17:53:34.432732Z",
     "shell.execute_reply": "2023-03-30T17:53:34.430845Z",
     "shell.execute_reply.started": "2023-03-30T17:53:34.422638Z"
    }
   },
   "outputs": [],
   "source": [
    "class TopPopRecommender():\n",
    "    \"\"\"\n",
    "    A Top-Popularity Recommender that recommends the most popular items in the training set.\n",
    "\n",
    "    Attributes:\n",
    "    train (pandas.DataFrame): The training dataset.\n",
    "    popular_items (numpy.ndarray): The array of item IDs sorted by popularity.\n",
    "\n",
    "    Methods:\n",
    "    fit(train):\n",
    "        Fits the model to the training dataset.\n",
    "\n",
    "        Parameters:\n",
    "        train (pandas.DataFrame): The training dataset.\n",
    "\n",
    "    recommend(user_id, at=5, remove_seen=True):\n",
    "        Recommends items to the user based on popularity.\n",
    "\n",
    "        Parameters:\n",
    "        user_id (int): The user ID.\n",
    "        at (int): The number of items to recommend.\n",
    "        remove_seen (bool): Whether to remove seen items from the recommended list.\n",
    "\n",
    "        Returns:\n",
    "        numpy.ndarray: An array of the recommended item IDs.\n",
    "    \"\"\"\n",
    "\n",
    "    def fit(self, train):\n",
    "\n",
    "        item_popularity = train[['mid','norm_rating']].groupby(by='mid').count()\n",
    "\n",
    "        self.train = train\n",
    "        # We are not interested in sorting the popularity value,\n",
    "        # but to order the items according to it\n",
    "        self.popular_items = item_popularity.sort_values(by='norm_rating',ascending=False).index\n",
    "    \n",
    "    \n",
    "    def recommend(self, user_id, at=5, remove_seen=True):\n",
    "\n",
    "        if remove_seen:\n",
    "            seen_items = self.train[self.train.uid==user_id].mid.values\n",
    "            unseen_items_mask = np.in1d(self.popular_items, seen_items, assume_unique=True, invert = True)\n",
    "            unseen_items = self.popular_items[unseen_items_mask]\n",
    "            recommended_items = unseen_items[0:at]\n",
    "\n",
    "        else:\n",
    "            recommended_items = self.popular_items[0:at]\n",
    "    \n",
    "        return recommended_items"
   ]
  },
  {
   "cell_type": "code",
   "execution_count": 48,
   "metadata": {
    "execution": {
     "iopub.execute_input": "2023-03-30T17:53:34.803380Z",
     "iopub.status.busy": "2023-03-30T17:53:34.802194Z",
     "iopub.status.idle": "2023-03-30T17:53:34.817733Z",
     "shell.execute_reply": "2023-03-30T17:53:34.816103Z",
     "shell.execute_reply.started": "2023-03-30T17:53:34.803327Z"
    }
   },
   "outputs": [],
   "source": [
    "\n",
    "def top_recomendations_v2(model_object, user_id, train, at = 5):\n",
    "    \"\"\"\n",
    "    Recommends the top items for a user based on a trained model.\n",
    "    \n",
    "    Parameters:\n",
    "        model_object (object): The trained machine learning model object.\n",
    "        user_id (int): The user ID to generate recommendations for.\n",
    "        train (pandas.DataFrame): The training dataset containing user and movie ratings.\n",
    "        at (int): The number of top recommendations to generate.\n",
    "\n",
    "    Returns:\n",
    "        list: A list of recommended movie IDs for the specified user.\n",
    "    \"\"\"\n",
    "\n",
    "    movies_watched_by_user = train[train.uid == user_id]\n",
    "    movies_not_watched = train[~train[\"mid\"].isin(movies_watched_by_user.mid.values)]\n",
    "    \n",
    "    movie_information = movies_not_watched\n",
    "    movie_information.loc[:]['uid'] = random_user\n",
    "    movie_information.loc[:]['user_sex_encoded'] = movies_watched_by_user.iloc[0]['user_sex_encoded']\n",
    "    movie_information.loc[:]['user_age'] = movies_watched_by_user.iloc[0]['user_age']\n",
    "    movie_information.loc[:]['user_ocupp_freq'] = movies_watched_by_user.iloc[0]['user_ocupp_freq']\n",
    "    \n",
    "    movie_information = movie_information.sort_values(by=['uid', 'timestamp'], ascending=False)\n",
    "    movie_information = last_n(movie_information, n, \"movie_name\", \"mid\", \"movie_year\")\n",
    "    movie_information = movie_information.drop([f'temp{i}_{j}' for i in range(1,LAST_N_MOVIES+1) for j in range(LAST_N_MOVIES)], axis=1)\n",
    "\n",
    "    movie_information['last_x_movie_name'] = movie_information['last_x_movie_name'].apply(remove_nan)\n",
    "    movie_information['last_x_mid'] = movie_information['last_x_mid'].apply(remove_nan)\n",
    "    movie_information['last_x_movie_year'] = movie_information['last_x_movie_year'].apply(remove_nan)\n",
    "    movie_information['last_x_mid'] = movie_information['last_x_mid'].apply(lambda x: complete_list(x,LAST_N_MOVIES)) # For users which do not have at least n movies.\n",
    "\n",
    "    ## We drop duplicates from the generated dataset\n",
    "    movie_information = movie_information.drop_duplicates(subset = 'mid')\n",
    "    \n",
    "    random_user_x, random_user_y = df2xy(movie_information)\n",
    "    random_user_prediction = model_object.predict(random_user_x).flatten()\n",
    "    \n",
    "    ## This gets the indices of the top predicted ratings \n",
    "    top_ratings_indices = random_user_prediction.argsort()[-at:][::-1]\n",
    "    \n",
    "    ## We get the movie indices located on the corresponding indexs: \n",
    "    recommended_movie_ids = [movie_information.iloc[index]['mid'] for index in top_ratings_indices]\n",
    "        \n",
    "    return recommended_movie_ids"
   ]
  },
  {
   "cell_type": "markdown",
   "metadata": {},
   "source": [
    "## Train/Test splitting"
   ]
  },
  {
   "cell_type": "code",
   "execution_count": 49,
   "metadata": {
    "execution": {
     "iopub.execute_input": "2023-03-30T17:53:35.823002Z",
     "iopub.status.busy": "2023-03-30T17:53:35.822113Z",
     "iopub.status.idle": "2023-03-30T17:53:40.710534Z",
     "shell.execute_reply": "2023-03-30T17:53:40.709007Z",
     "shell.execute_reply.started": "2023-03-30T17:53:35.822950Z"
    }
   },
   "outputs": [],
   "source": [
    "train, val = train_test_split(ratings, test_size=0.2, random_state=7)\n",
    "\n",
    "train_x, train_y = df2xy(train)\n",
    "valid_x, valid_y = df2xy(val)\n"
   ]
  },
  {
   "cell_type": "markdown",
   "metadata": {},
   "source": [
    "## Model training"
   ]
  },
  {
   "cell_type": "markdown",
   "metadata": {},
   "source": [
    "### Top popular recommender system:"
   ]
  },
  {
   "cell_type": "code",
   "execution_count": 50,
   "metadata": {
    "execution": {
     "iopub.execute_input": "2023-03-30T17:53:40.713715Z",
     "iopub.status.busy": "2023-03-30T17:53:40.713225Z",
     "iopub.status.idle": "2023-03-30T17:53:40.819675Z",
     "shell.execute_reply": "2023-03-30T17:53:40.818269Z",
     "shell.execute_reply.started": "2023-03-30T17:53:40.713676Z"
    }
   },
   "outputs": [],
   "source": [
    "topPopular = TopPopRecommender()\n",
    "topPopular.fit(train)"
   ]
  },
  {
   "cell_type": "markdown",
   "metadata": {},
   "source": [
    "### Factorization Machines Recommender system"
   ]
  },
  {
   "cell_type": "markdown",
   "metadata": {},
   "source": [
    "On the first tries, the Factorization Machine RecSys has been trained as a Linear Regression estimator, optimizing a Mean Square error loss. Therefore, the results obtained were far from accurate, given the character of our dataset and the problem we seek to solve. \n",
    "\n",
    "---"
   ]
  },
  {
   "cell_type": "code",
   "execution_count": 51,
   "metadata": {
    "execution": {
     "iopub.execute_input": "2023-03-30T17:53:40.821502Z",
     "iopub.status.busy": "2023-03-30T17:53:40.821135Z",
     "iopub.status.idle": "2023-03-30T17:53:41.160783Z",
     "shell.execute_reply": "2023-03-30T17:53:41.159484Z",
     "shell.execute_reply.started": "2023-03-30T17:53:40.821466Z"
    }
   },
   "outputs": [],
   "source": [
    "params = {\n",
    "    'n_uid': ratings.uid.max(),\n",
    "    'n_mid': ratings.mid.max(),\n",
    "    'n_sex': ratings.user_sex_encoded.max(),\n",
    "    'n_genre': 14,\n",
    "    'k':20\n",
    "    #'dnn_dr': 0.5\n",
    "}\n",
    "\n",
    "fm_model = fm_model(**params)\n"
   ]
  },
  {
   "cell_type": "code",
   "execution_count": null,
   "metadata": {},
   "outputs": [],
   "source": []
  },
  {
   "cell_type": "code",
   "execution_count": 52,
   "metadata": {
    "execution": {
     "iopub.execute_input": "2023-03-30T17:53:41.165253Z",
     "iopub.status.busy": "2023-03-30T17:53:41.163555Z",
     "iopub.status.idle": "2023-03-30T17:53:44.882479Z",
     "shell.execute_reply": "2023-03-30T17:53:44.880619Z",
     "shell.execute_reply.started": "2023-03-30T17:53:41.165196Z"
    }
   },
   "outputs": [
    {
     "name": "stdout",
     "output_type": "stream",
     "text": [
      "Epoch 1/30\n"
     ]
    },
    {
     "ename": "InvalidArgumentError",
     "evalue": "Graph execution error:\n\nDetected at node 'model/cat_embed_2d_last_x_mid/embedding_lookup' defined at (most recent call last):\n    File \"/opt/conda/lib/python3.7/runpy.py\", line 193, in _run_module_as_main\n      \"__main__\", mod_spec)\n    File \"/opt/conda/lib/python3.7/runpy.py\", line 85, in _run_code\n      exec(code, run_globals)\n    File \"/opt/conda/lib/python3.7/site-packages/ipykernel_launcher.py\", line 17, in <module>\n      app.launch_new_instance()\n    File \"/opt/conda/lib/python3.7/site-packages/traitlets/config/application.py\", line 1041, in launch_instance\n      app.start()\n    File \"/opt/conda/lib/python3.7/site-packages/ipykernel/kernelapp.py\", line 712, in start\n      self.io_loop.start()\n    File \"/opt/conda/lib/python3.7/site-packages/tornado/platform/asyncio.py\", line 215, in start\n      self.asyncio_loop.run_forever()\n    File \"/opt/conda/lib/python3.7/asyncio/base_events.py\", line 541, in run_forever\n      self._run_once()\n    File \"/opt/conda/lib/python3.7/asyncio/base_events.py\", line 1786, in _run_once\n      handle._run()\n    File \"/opt/conda/lib/python3.7/asyncio/events.py\", line 88, in _run\n      self._context.run(self._callback, *self._args)\n    File \"/opt/conda/lib/python3.7/site-packages/ipykernel/kernelbase.py\", line 510, in dispatch_queue\n      await self.process_one()\n    File \"/opt/conda/lib/python3.7/site-packages/ipykernel/kernelbase.py\", line 499, in process_one\n      await dispatch(*args)\n    File \"/opt/conda/lib/python3.7/site-packages/ipykernel/kernelbase.py\", line 406, in dispatch_shell\n      await result\n    File \"/opt/conda/lib/python3.7/site-packages/ipykernel/kernelbase.py\", line 730, in execute_request\n      reply_content = await reply_content\n    File \"/opt/conda/lib/python3.7/site-packages/ipykernel/ipkernel.py\", line 387, in do_execute\n      cell_id=cell_id,\n    File \"/opt/conda/lib/python3.7/site-packages/ipykernel/zmqshell.py\", line 528, in run_cell\n      return super().run_cell(*args, **kwargs)\n    File \"/opt/conda/lib/python3.7/site-packages/IPython/core/interactiveshell.py\", line 2976, in run_cell\n      raw_cell, store_history, silent, shell_futures, cell_id\n    File \"/opt/conda/lib/python3.7/site-packages/IPython/core/interactiveshell.py\", line 3030, in _run_cell\n      return runner(coro)\n    File \"/opt/conda/lib/python3.7/site-packages/IPython/core/async_helpers.py\", line 78, in _pseudo_sync_runner\n      coro.send(None)\n    File \"/opt/conda/lib/python3.7/site-packages/IPython/core/interactiveshell.py\", line 3258, in run_cell_async\n      interactivity=interactivity, compiler=compiler, result=result)\n    File \"/opt/conda/lib/python3.7/site-packages/IPython/core/interactiveshell.py\", line 3473, in run_ast_nodes\n      if (await self.run_code(code, result,  async_=asy)):\n    File \"/opt/conda/lib/python3.7/site-packages/IPython/core/interactiveshell.py\", line 3553, in run_code\n      exec(code_obj, self.user_global_ns, self.user_ns)\n    File \"/tmp/ipykernel_597/4055212193.py\", line 16, in <module>\n      callbacks = callbacks)\n    File \"/opt/conda/lib/python3.7/site-packages/keras/utils/traceback_utils.py\", line 65, in error_handler\n      return fn(*args, **kwargs)\n    File \"/opt/conda/lib/python3.7/site-packages/keras/engine/training.py\", line 1650, in fit\n      tmp_logs = self.train_function(iterator)\n    File \"/opt/conda/lib/python3.7/site-packages/keras/engine/training.py\", line 1249, in train_function\n      return step_function(self, iterator)\n    File \"/opt/conda/lib/python3.7/site-packages/keras/engine/training.py\", line 1233, in step_function\n      outputs = model.distribute_strategy.run(run_step, args=(data,))\n    File \"/opt/conda/lib/python3.7/site-packages/keras/engine/training.py\", line 1222, in run_step\n      outputs = model.train_step(data)\n    File \"/opt/conda/lib/python3.7/site-packages/keras/engine/training.py\", line 1023, in train_step\n      y_pred = self(x, training=True)\n    File \"/opt/conda/lib/python3.7/site-packages/keras/utils/traceback_utils.py\", line 65, in error_handler\n      return fn(*args, **kwargs)\n    File \"/opt/conda/lib/python3.7/site-packages/keras/engine/training.py\", line 561, in __call__\n      return super().__call__(*args, **kwargs)\n    File \"/opt/conda/lib/python3.7/site-packages/keras/utils/traceback_utils.py\", line 65, in error_handler\n      return fn(*args, **kwargs)\n    File \"/opt/conda/lib/python3.7/site-packages/keras/engine/base_layer.py\", line 1132, in __call__\n      outputs = call_fn(inputs, *args, **kwargs)\n    File \"/opt/conda/lib/python3.7/site-packages/keras/utils/traceback_utils.py\", line 96, in error_handler\n      return fn(*args, **kwargs)\n    File \"/opt/conda/lib/python3.7/site-packages/keras/engine/functional.py\", line 511, in call\n      return self._run_internal_graph(inputs, training=training, mask=mask)\n    File \"/opt/conda/lib/python3.7/site-packages/keras/engine/functional.py\", line 668, in _run_internal_graph\n      outputs = node.layer(*args, **kwargs)\n    File \"/opt/conda/lib/python3.7/site-packages/keras/utils/traceback_utils.py\", line 65, in error_handler\n      return fn(*args, **kwargs)\n    File \"/opt/conda/lib/python3.7/site-packages/keras/engine/base_layer.py\", line 1132, in __call__\n      outputs = call_fn(inputs, *args, **kwargs)\n    File \"/opt/conda/lib/python3.7/site-packages/keras/utils/traceback_utils.py\", line 96, in error_handler\n      return fn(*args, **kwargs)\n    File \"/opt/conda/lib/python3.7/site-packages/keras/layers/core/embedding.py\", line 208, in call\n      out = tf.nn.embedding_lookup(self.embeddings, inputs)\nNode: 'model/cat_embed_2d_last_x_mid/embedding_lookup'\nindices[1877,1] = 1461 is not in [0, 15)\n\t [[{{node model/cat_embed_2d_last_x_mid/embedding_lookup}}]] [Op:__inference_train_function_4170]",
     "output_type": "error",
     "traceback": [
      "\u001b[0;31m---------------------------------------------------------------------------\u001b[0m",
      "\u001b[0;31mInvalidArgumentError\u001b[0m                      Traceback (most recent call last)",
      "\u001b[0;32m/tmp/ipykernel_597/4055212193.py\u001b[0m in \u001b[0;36m<module>\u001b[0;34m\u001b[0m\n\u001b[1;32m     14\u001b[0m                                   \u001b[0mepochs\u001b[0m\u001b[0;34m=\u001b[0m\u001b[0;36m30\u001b[0m\u001b[0;34m,\u001b[0m \u001b[0mbatch_size\u001b[0m\u001b[0;34m=\u001b[0m\u001b[0;36m2048\u001b[0m\u001b[0;34m,\u001b[0m\u001b[0;34m\u001b[0m\u001b[0;34m\u001b[0m\u001b[0m\n\u001b[1;32m     15\u001b[0m                                   \u001b[0mvalidation_data\u001b[0m\u001b[0;34m=\u001b[0m\u001b[0;34m(\u001b[0m\u001b[0mvalid_x\u001b[0m\u001b[0;34m,\u001b[0m \u001b[0mvalid_y\u001b[0m\u001b[0;34m)\u001b[0m\u001b[0;34m,\u001b[0m\u001b[0;34m\u001b[0m\u001b[0;34m\u001b[0m\u001b[0m\n\u001b[0;32m---> 16\u001b[0;31m                                   callbacks = callbacks)\n\u001b[0m",
      "\u001b[0;32m/opt/conda/lib/python3.7/site-packages/keras/utils/traceback_utils.py\u001b[0m in \u001b[0;36merror_handler\u001b[0;34m(*args, **kwargs)\u001b[0m\n\u001b[1;32m     68\u001b[0m             \u001b[0;31m# To get the full stack trace, call:\u001b[0m\u001b[0;34m\u001b[0m\u001b[0;34m\u001b[0m\u001b[0;34m\u001b[0m\u001b[0m\n\u001b[1;32m     69\u001b[0m             \u001b[0;31m# `tf.debugging.disable_traceback_filtering()`\u001b[0m\u001b[0;34m\u001b[0m\u001b[0;34m\u001b[0m\u001b[0;34m\u001b[0m\u001b[0m\n\u001b[0;32m---> 70\u001b[0;31m             \u001b[0;32mraise\u001b[0m \u001b[0me\u001b[0m\u001b[0;34m.\u001b[0m\u001b[0mwith_traceback\u001b[0m\u001b[0;34m(\u001b[0m\u001b[0mfiltered_tb\u001b[0m\u001b[0;34m)\u001b[0m \u001b[0;32mfrom\u001b[0m \u001b[0;32mNone\u001b[0m\u001b[0;34m\u001b[0m\u001b[0;34m\u001b[0m\u001b[0m\n\u001b[0m\u001b[1;32m     71\u001b[0m         \u001b[0;32mfinally\u001b[0m\u001b[0;34m:\u001b[0m\u001b[0;34m\u001b[0m\u001b[0;34m\u001b[0m\u001b[0m\n\u001b[1;32m     72\u001b[0m             \u001b[0;32mdel\u001b[0m \u001b[0mfiltered_tb\u001b[0m\u001b[0;34m\u001b[0m\u001b[0;34m\u001b[0m\u001b[0m\n",
      "\u001b[0;32m/opt/conda/lib/python3.7/site-packages/tensorflow/python/eager/execute.py\u001b[0m in \u001b[0;36mquick_execute\u001b[0;34m(op_name, num_outputs, inputs, attrs, ctx, name)\u001b[0m\n\u001b[1;32m     51\u001b[0m     \u001b[0mctx\u001b[0m\u001b[0;34m.\u001b[0m\u001b[0mensure_initialized\u001b[0m\u001b[0;34m(\u001b[0m\u001b[0;34m)\u001b[0m\u001b[0;34m\u001b[0m\u001b[0;34m\u001b[0m\u001b[0m\n\u001b[1;32m     52\u001b[0m     tensors = pywrap_tfe.TFE_Py_Execute(ctx._handle, device_name, op_name,\n\u001b[0;32m---> 53\u001b[0;31m                                         inputs, attrs, num_outputs)\n\u001b[0m\u001b[1;32m     54\u001b[0m   \u001b[0;32mexcept\u001b[0m \u001b[0mcore\u001b[0m\u001b[0;34m.\u001b[0m\u001b[0m_NotOkStatusException\u001b[0m \u001b[0;32mas\u001b[0m \u001b[0me\u001b[0m\u001b[0;34m:\u001b[0m\u001b[0;34m\u001b[0m\u001b[0;34m\u001b[0m\u001b[0m\n\u001b[1;32m     55\u001b[0m     \u001b[0;32mif\u001b[0m \u001b[0mname\u001b[0m \u001b[0;32mis\u001b[0m \u001b[0;32mnot\u001b[0m \u001b[0;32mNone\u001b[0m\u001b[0;34m:\u001b[0m\u001b[0;34m\u001b[0m\u001b[0;34m\u001b[0m\u001b[0m\n",
      "\u001b[0;31mInvalidArgumentError\u001b[0m: Graph execution error:\n\nDetected at node 'model/cat_embed_2d_last_x_mid/embedding_lookup' defined at (most recent call last):\n    File \"/opt/conda/lib/python3.7/runpy.py\", line 193, in _run_module_as_main\n      \"__main__\", mod_spec)\n    File \"/opt/conda/lib/python3.7/runpy.py\", line 85, in _run_code\n      exec(code, run_globals)\n    File \"/opt/conda/lib/python3.7/site-packages/ipykernel_launcher.py\", line 17, in <module>\n      app.launch_new_instance()\n    File \"/opt/conda/lib/python3.7/site-packages/traitlets/config/application.py\", line 1041, in launch_instance\n      app.start()\n    File \"/opt/conda/lib/python3.7/site-packages/ipykernel/kernelapp.py\", line 712, in start\n      self.io_loop.start()\n    File \"/opt/conda/lib/python3.7/site-packages/tornado/platform/asyncio.py\", line 215, in start\n      self.asyncio_loop.run_forever()\n    File \"/opt/conda/lib/python3.7/asyncio/base_events.py\", line 541, in run_forever\n      self._run_once()\n    File \"/opt/conda/lib/python3.7/asyncio/base_events.py\", line 1786, in _run_once\n      handle._run()\n    File \"/opt/conda/lib/python3.7/asyncio/events.py\", line 88, in _run\n      self._context.run(self._callback, *self._args)\n    File \"/opt/conda/lib/python3.7/site-packages/ipykernel/kernelbase.py\", line 510, in dispatch_queue\n      await self.process_one()\n    File \"/opt/conda/lib/python3.7/site-packages/ipykernel/kernelbase.py\", line 499, in process_one\n      await dispatch(*args)\n    File \"/opt/conda/lib/python3.7/site-packages/ipykernel/kernelbase.py\", line 406, in dispatch_shell\n      await result\n    File \"/opt/conda/lib/python3.7/site-packages/ipykernel/kernelbase.py\", line 730, in execute_request\n      reply_content = await reply_content\n    File \"/opt/conda/lib/python3.7/site-packages/ipykernel/ipkernel.py\", line 387, in do_execute\n      cell_id=cell_id,\n    File \"/opt/conda/lib/python3.7/site-packages/ipykernel/zmqshell.py\", line 528, in run_cell\n      return super().run_cell(*args, **kwargs)\n    File \"/opt/conda/lib/python3.7/site-packages/IPython/core/interactiveshell.py\", line 2976, in run_cell\n      raw_cell, store_history, silent, shell_futures, cell_id\n    File \"/opt/conda/lib/python3.7/site-packages/IPython/core/interactiveshell.py\", line 3030, in _run_cell\n      return runner(coro)\n    File \"/opt/conda/lib/python3.7/site-packages/IPython/core/async_helpers.py\", line 78, in _pseudo_sync_runner\n      coro.send(None)\n    File \"/opt/conda/lib/python3.7/site-packages/IPython/core/interactiveshell.py\", line 3258, in run_cell_async\n      interactivity=interactivity, compiler=compiler, result=result)\n    File \"/opt/conda/lib/python3.7/site-packages/IPython/core/interactiveshell.py\", line 3473, in run_ast_nodes\n      if (await self.run_code(code, result,  async_=asy)):\n    File \"/opt/conda/lib/python3.7/site-packages/IPython/core/interactiveshell.py\", line 3553, in run_code\n      exec(code_obj, self.user_global_ns, self.user_ns)\n    File \"/tmp/ipykernel_597/4055212193.py\", line 16, in <module>\n      callbacks = callbacks)\n    File \"/opt/conda/lib/python3.7/site-packages/keras/utils/traceback_utils.py\", line 65, in error_handler\n      return fn(*args, **kwargs)\n    File \"/opt/conda/lib/python3.7/site-packages/keras/engine/training.py\", line 1650, in fit\n      tmp_logs = self.train_function(iterator)\n    File \"/opt/conda/lib/python3.7/site-packages/keras/engine/training.py\", line 1249, in train_function\n      return step_function(self, iterator)\n    File \"/opt/conda/lib/python3.7/site-packages/keras/engine/training.py\", line 1233, in step_function\n      outputs = model.distribute_strategy.run(run_step, args=(data,))\n    File \"/opt/conda/lib/python3.7/site-packages/keras/engine/training.py\", line 1222, in run_step\n      outputs = model.train_step(data)\n    File \"/opt/conda/lib/python3.7/site-packages/keras/engine/training.py\", line 1023, in train_step\n      y_pred = self(x, training=True)\n    File \"/opt/conda/lib/python3.7/site-packages/keras/utils/traceback_utils.py\", line 65, in error_handler\n      return fn(*args, **kwargs)\n    File \"/opt/conda/lib/python3.7/site-packages/keras/engine/training.py\", line 561, in __call__\n      return super().__call__(*args, **kwargs)\n    File \"/opt/conda/lib/python3.7/site-packages/keras/utils/traceback_utils.py\", line 65, in error_handler\n      return fn(*args, **kwargs)\n    File \"/opt/conda/lib/python3.7/site-packages/keras/engine/base_layer.py\", line 1132, in __call__\n      outputs = call_fn(inputs, *args, **kwargs)\n    File \"/opt/conda/lib/python3.7/site-packages/keras/utils/traceback_utils.py\", line 96, in error_handler\n      return fn(*args, **kwargs)\n    File \"/opt/conda/lib/python3.7/site-packages/keras/engine/functional.py\", line 511, in call\n      return self._run_internal_graph(inputs, training=training, mask=mask)\n    File \"/opt/conda/lib/python3.7/site-packages/keras/engine/functional.py\", line 668, in _run_internal_graph\n      outputs = node.layer(*args, **kwargs)\n    File \"/opt/conda/lib/python3.7/site-packages/keras/utils/traceback_utils.py\", line 65, in error_handler\n      return fn(*args, **kwargs)\n    File \"/opt/conda/lib/python3.7/site-packages/keras/engine/base_layer.py\", line 1132, in __call__\n      outputs = call_fn(inputs, *args, **kwargs)\n    File \"/opt/conda/lib/python3.7/site-packages/keras/utils/traceback_utils.py\", line 96, in error_handler\n      return fn(*args, **kwargs)\n    File \"/opt/conda/lib/python3.7/site-packages/keras/layers/core/embedding.py\", line 208, in call\n      out = tf.nn.embedding_lookup(self.embeddings, inputs)\nNode: 'model/cat_embed_2d_last_x_mid/embedding_lookup'\nindices[1877,1] = 1461 is not in [0, 15)\n\t [[{{node model/cat_embed_2d_last_x_mid/embedding_lookup}}]] [Op:__inference_train_function_4170]"
     ]
    }
   ],
   "source": [
    "from tensorflow.keras.callbacks import  EarlyStopping, ModelCheckpoint\n",
    "# train  model\n",
    "fm_model.compile(\n",
    "    loss=tf.keras.losses.MeanSquaredError(), optimizer=keras.optimizers.Adam(learning_rate=0.001)\n",
    ")\n",
    "\n",
    "early_stop = EarlyStopping(monitor='val_loss', patience=3)\n",
    "model_ckp = ModelCheckpoint(filepath='./models/deepfm_weights.h5', \n",
    "                            monitor='val_loss',\n",
    "                            save_weights_only=True, \n",
    "                            save_best_only=True)\n",
    "callbacks = [model_ckp,early_stop]\n",
    "train_history = fm_model.fit(train_x, train_y, \n",
    "                                  epochs=30, batch_size=2048, \n",
    "                                  validation_data=(valid_x, valid_y),\n",
    "                                  callbacks = callbacks)"
   ]
  },
  {
   "cell_type": "markdown",
   "metadata": {},
   "source": [
    "## Predictions:"
   ]
  },
  {
   "cell_type": "markdown",
   "metadata": {},
   "source": [
    "We predict the ratings obtained by used our FM model in order to validate the accuracy of our model."
   ]
  },
  {
   "cell_type": "code",
   "execution_count": null,
   "metadata": {},
   "outputs": [],
   "source": [
    "ratings_predictions = fm_model.predict(valid_x).flatten()"
   ]
  },
  {
   "cell_type": "code",
   "execution_count": null,
   "metadata": {},
   "outputs": [],
   "source": [
    "val['ratings_prediction']= ratings_predictions\n",
    "val"
   ]
  },
  {
   "cell_type": "code",
   "execution_count": null,
   "metadata": {},
   "outputs": [],
   "source": [
    "print(min(ratings_predictions))\n",
    "print(max(ratings_predictions))"
   ]
  },
  {
   "cell_type": "markdown",
   "metadata": {},
   "source": [
    "## Submission"
   ]
  },
  {
   "cell_type": "markdown",
   "metadata": {},
   "source": [
    "We load the corresponding dataset, and we create the `solutio` file. In order to do so:\n",
    "- We get each `uid` from the test set and check whether they are a new or a usual user\n",
    "    - If it is new: we recommend him the top popular movies using the *Top Popular RecSys*\n",
    "    - If it is usual: we use the *FM RecSys* to recommend him a sorted list for this specific user, as specified before. "
   ]
  },
  {
   "cell_type": "code",
   "execution_count": null,
   "metadata": {},
   "outputs": [],
   "source": [
    "test = pd.read_csv('/kaggle/input/recsysmasterfds/kaggle_baseline.csv')"
   ]
  },
  {
   "cell_type": "code",
   "execution_count": null,
   "metadata": {},
   "outputs": [],
   "source": [
    "import csv\n",
    "from tqdm import tqdm \n",
    "\n",
    "# open the file in the write mode\n",
    "with open('solution.csv', 'w',encoding='UTF8') as f:\n",
    "    # create the csv writer\n",
    "    writer = csv.writer(f)\n",
    "    # write a row to the csv file\n",
    "    writer.writerow(['user_id', 'prediction'])\n",
    "    for user_id in tqdm(test.user_id.unique()):\n",
    "        if user_id in pd.unique(df_popu['user_id']):\n",
    "            relevant_items = top_recomendations_v2(fm_model, user_id, ratings, 25)\n",
    "        else: \n",
    "            relevant_items = topPopular.recommend(user_id, at=25)\n",
    "        list_relevants = ' '.join([str(elem) for elem in relevant_items])\n",
    "        writer.writerow([str(user_id),list_relevants])"
   ]
  },
  {
   "cell_type": "markdown",
   "metadata": {},
   "source": [
    "# EXPERIMENT 2\n"
   ]
  },
  {
   "cell_type": "markdown",
   "metadata": {},
   "source": [
    "In this 2nd experiment, we will basically use the TOP LAST N movies feature, which it should contain very rich information for the model. We will also try another approach in terms of the model, we will try to classify instead of doing regression on ratings. We will create a new feature called *loved* that is if a user liked that movie or not, with a THRESHOLD of 3.5, declared above. Therefore the task of the model will be to determine if the user liked an specific movie or not.\n",
    "\n",
    "Doing it this way, we must change the loss for a Cross Entropy and we will use a SoftMax in order to get continuos values to better sort the movies."
   ]
  },
  {
   "cell_type": "code",
   "execution_count": null,
   "metadata": {},
   "outputs": [],
   "source": [
    "params = {\n",
    "    'n_uid': ratings.uid.max(),\n",
    "    'n_mid': ratings.mid.max(),\n",
    "    'n_sex': ratings.user_sex_encoded.max(),\n",
    "    'n_genre': 14,\n",
    "    'k':20\n",
    "    #'dnn_dr': 0.5\n",
    "}\n",
    "\n",
    "fm_model = fm_model(**params)"
   ]
  },
  {
   "cell_type": "markdown",
   "metadata": {},
   "source": [
    "## Train/Test splitting"
   ]
  },
  {
   "cell_type": "code",
   "execution_count": null,
   "metadata": {},
   "outputs": [],
   "source": [
    "train, val = train_test_split(ratings, test_size=0.2, random_state=7)\n",
    "train_x, train_y = df2xy(train)\n",
    "valid_x, valid_y = df2xy(val)"
   ]
  },
  {
   "cell_type": "markdown",
   "metadata": {},
   "source": [
    "### User grouping - Two model approach\n"
   ]
  },
  {
   "cell_type": "markdown",
   "metadata": {},
   "source": [
    "We may consider the different user groups, in terms of the rating frequency, so we can split the dataset between new users and usual users, in order to determine which kind of recommender system is more suitable to use in each case:"
   ]
  },
  {
   "cell_type": "code",
   "execution_count": null,
   "metadata": {},
   "outputs": [],
   "source": [
    "users = pd.unique(ratings['uid'])\n",
    "users_freq = []\n",
    "for user in users:\n",
    "    users_freq.append(len(ratings[ratings['uid'] == user]))\n",
    "mean_users_freq = np.sum(users_freq)/len(users_freq)\n",
    "print(mean_users_freq)"
   ]
  },
  {
   "cell_type": "code",
   "execution_count": null,
   "metadata": {},
   "outputs": [],
   "source": [
    "df_freqs = pd.DataFrame({\n",
    "    'user_id': users, \n",
    "    'users_freq': users_freq\n",
    "})\n",
    "df_freqs = df_freqs.sort_values(by = 'users_freq', ascending=False)\n",
    "df_freqs"
   ]
  },
  {
   "cell_type": "code",
   "execution_count": null,
   "metadata": {},
   "outputs": [],
   "source": [
    "df_popu = df_freqs[df_freqs['users_freq'] >= mean_users_freq]\n",
    "df_new = df_freqs[df_freqs['users_freq'] < mean_users_freq]\n",
    "print(len(df_new))\n",
    "print(len(df_popu))"
   ]
  },
  {
   "cell_type": "code",
   "execution_count": null,
   "metadata": {},
   "outputs": [],
   "source": [
    "ratings2 = pd.DataFrame(columns = ratings.columns)\n",
    "for user in df_popu.user_id: \n",
    "    ratings2 = pd.concat([ratings2, ratings[ratings['uid'] == user]])\n",
    "    \n",
    "ratings2"
   ]
  },
  {
   "cell_type": "markdown",
   "metadata": {},
   "source": [
    "## Model training"
   ]
  },
  {
   "cell_type": "markdown",
   "metadata": {},
   "source": [
    "### Top popular recommender system:"
   ]
  },
  {
   "cell_type": "code",
   "execution_count": null,
   "metadata": {},
   "outputs": [],
   "source": [
    "topPopular = TopPopRecommender()\n",
    "topPopular.fit(train)"
   ]
  },
  {
   "cell_type": "markdown",
   "metadata": {},
   "source": [
    "### Factorization Machines Recommender system"
   ]
  },
  {
   "cell_type": "markdown",
   "metadata": {},
   "source": [
    "On the first tries, the Factorization Machine RecSys has been trained as a Linear Regression estimator, optimizing a Mean Square error loss. Therefore, the results obtained were far from accurate, given the character of our dataset and the problem we seek to solve. \n",
    "\n",
    "--- \n",
    "\n",
    "Therefore, on the subsequent steps, we have added an additional layer to the Factorization Machine model in order to create a Classifier, that can predict whether a movie is relevant for a specific user or not, insetead of using a Linear Regression. Thus, we may use a `sigmoid` activation function, and a `cross-entropy loss` in order to adjust the training of the Factorization Machine model to a more suitable model for our problem. \n",
    "\n",
    "Moreover, we could consider the actual rating as weight in the `fit` function, in order to ensure that the model actually considers the top rated movies for each user, since those are the ones we want to focus on in order to improve our model.\n",
    "\n",
    "---"
   ]
  },
  {
   "cell_type": "code",
   "execution_count": null,
   "metadata": {},
   "outputs": [],
   "source": [
    "from tensorflow.keras.callbacks import  EarlyStopping, ModelCheckpoint\n",
    "# train  model\n",
    "fm_model.compile(\n",
    "    loss=tf.keras.losses.BinaryCrossentropy(), optimizer=keras.optimizers.Adam(learning_rate=0.001)\n",
    ")\n",
    "\n",
    "early_stop = EarlyStopping(monitor='val_loss', patience=5)\n",
    "model_ckp = ModelCheckpoint(filepath='./models/deepfm_weights.h5', \n",
    "                            monitor='val_loss',\n",
    "                            save_weights_only=True, \n",
    "                            save_best_only=True)\n",
    "callbacks = [model_ckp,early_stop]\n",
    "train_history = fm_model.fit(train_x, train_y, \n",
    "                                  epochs=100, batch_size=2048, \n",
    "                                  validation_data=(valid_x, valid_y),\n",
    "                                  callbacks = callbacks)"
   ]
  },
  {
   "cell_type": "markdown",
   "metadata": {},
   "source": [
    "## Predictions:"
   ]
  },
  {
   "cell_type": "markdown",
   "metadata": {},
   "source": [
    "We predict the ratings obtained by used our FM model in order to validate the accuracy of our model."
   ]
  },
  {
   "cell_type": "code",
   "execution_count": null,
   "metadata": {},
   "outputs": [],
   "source": [
    "ratings_predictions = fm_model.predict(valid_x).flatten()"
   ]
  },
  {
   "cell_type": "code",
   "execution_count": null,
   "metadata": {},
   "outputs": [],
   "source": [
    "val['ratings_prediction']= ratings_predictions\n",
    "val"
   ]
  },
  {
   "cell_type": "code",
   "execution_count": null,
   "metadata": {},
   "outputs": [],
   "source": [
    "print(min(ratings_predictions))\n",
    "print(max(ratings_predictions))"
   ]
  },
  {
   "cell_type": "markdown",
   "metadata": {},
   "source": [
    "## Submission"
   ]
  },
  {
   "cell_type": "markdown",
   "metadata": {},
   "source": [
    "We load the corresponding dataset, and we create the `solutio` file. In order to do so:\n",
    "- We get each `uid` from the test set and check whether they are a new or a usual user\n",
    "    - If it is new: we recommend him the top popular movies using the *Top Popular RecSys*\n",
    "    - If it is usual: we use the *FM RecSys* to recommend him a sorted list for this specific user, as specified before. "
   ]
  },
  {
   "cell_type": "code",
   "execution_count": null,
   "metadata": {},
   "outputs": [],
   "source": [
    "test = pd.read_csv('/kaggle/input/recsysmasterfds/kaggle_baseline.csv')"
   ]
  },
  {
   "cell_type": "code",
   "execution_count": null,
   "metadata": {},
   "outputs": [],
   "source": [
    "import csv\n",
    "from tqdm import tqdm \n",
    "\n",
    "# open the file in the write mode\n",
    "with open('solution.csv', 'w',encoding='UTF8') as f:\n",
    "    # create the csv writer\n",
    "    writer = csv.writer(f)\n",
    "    # write a row to the csv file\n",
    "    writer.writerow(['user_id', 'prediction'])\n",
    "    for user_id in tqdm(test.user_id.unique()):\n",
    "        if user_id in pd.unique(df_popu['user_id']):\n",
    "            relevant_items = top_recomendations_v2(fm_model, user_id, ratings, 25)\n",
    "        else: \n",
    "            relevant_items = topPopular.recommend(user_id, at=25)\n",
    "        list_relevants = ' '.join([str(elem) for elem in relevant_items])\n",
    "        writer.writerow([str(user_id),list_relevants])"
   ]
  }
 ],
 "metadata": {
  "kernelspec": {
   "display_name": "Python 3 (ipykernel)",
   "language": "python",
   "name": "python3"
  },
  "language_info": {
   "codemirror_mode": {
    "name": "ipython",
    "version": 3
   },
   "file_extension": ".py",
   "mimetype": "text/x-python",
   "name": "python",
   "nbconvert_exporter": "python",
   "pygments_lexer": "ipython3",
   "version": "3.9.7"
  }
 },
 "nbformat": 4,
 "nbformat_minor": 4
}
