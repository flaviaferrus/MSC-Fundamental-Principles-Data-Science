{
 "cells": [
  {
   "cell_type": "markdown",
   "metadata": {},
   "source": [
    "# Assignment: Risk predicition of criminal re-offense\n"
   ]
  },
  {
   "cell_type": "markdown",
   "metadata": {},
   "source": [
    "\n",
    "**This notebook** presents an exploration of a sub-set of data from **[SAVRY](https://www.parinc.com/Products/Pkey/390)** (Structured Assessment of Violence Risk in Youth) applied to young offenders in Catalonia. \n",
    "\n",
    "SAVRY is a risk assessment tool, that supports structured professional judgement. SAVRY contains 24 risk factors, in which each item (variables `V65*` to `V88*`) can have one of three values (low=0, moderate=1, high=2), for a total score between 0 and 48 points. \n",
    "\n",
    "+ Human score: There is also a score by a professional (variable `V56_@R1_resum_risc_global_reverse`) that can be low, moderate, or high. \n",
    "+ Recividism: In this dataset, there is information about whether people committed a new crime after the evaluation.  The variable `V115_reincidencia_2015` represents Recidivism (year 2015).\n",
    "+ The variable `V60_SAVRY_total_score` contains a sum of scores in the risk items of SAVRY. This score can be seen as a baseline automatic method.\n",
    "\n",
    "Features values can be found in ``reincidenciaJusticiaMenors.xlsx``. The description of features can be found in ``recidivismJuvenileJustice_variables_EN.pdf``. The data file we use is a subset of data obtained by the Centre d'Estudis Jurídics i Formació Especialitzada of the Catalan government and released in 2017.\n",
    "\n",
    "The objectives of this assignment are: \n",
    "+ To compare the performance of SAVRY and ML-based methods, in terms of both performace and fairness metrics. \n",
    "+ To analyze the causes of unfairness.\n",
    "+ To explore a mitigation strategy."
   ]
  },
  {
   "cell_type": "code",
   "execution_count": 1,
   "metadata": {},
   "outputs": [],
   "source": [
    "import numpy as np\n",
    "import pandas as pd\n",
    "import matplotlib.pyplot as plt\n",
    "\n",
    "from sklearn.feature_selection import SelectKBest\n",
    "from sklearn.feature_selection import chi2\n",
    "\n",
    "from sklearn.linear_model import LogisticRegression\n",
    "from sklearn.model_selection import train_test_split\n",
    "from sklearn.metrics import roc_auc_score, roc_curve, auc"
   ]
  },
  {
   "cell_type": "markdown",
   "metadata": {},
   "source": [
    "### Data Exploration"
   ]
  },
  {
   "cell_type": "code",
   "execution_count": 2,
   "metadata": {},
   "outputs": [
    {
     "data": {
      "text/html": [
       "<div>\n",
       "<style scoped>\n",
       "    .dataframe tbody tr th:only-of-type {\n",
       "        vertical-align: middle;\n",
       "    }\n",
       "\n",
       "    .dataframe tbody tr th {\n",
       "        vertical-align: top;\n",
       "    }\n",
       "\n",
       "    .dataframe thead th {\n",
       "        text-align: right;\n",
       "    }\n",
       "</style>\n",
       "<table border=\"1\" class=\"dataframe\">\n",
       "  <thead>\n",
       "    <tr style=\"text-align: right;\">\n",
       "      <th></th>\n",
       "      <th>id</th>\n",
       "      <th>V1_sexe</th>\n",
       "      <th>V2_estranger</th>\n",
       "      <th>V3_nacionalitat</th>\n",
       "      <th>V4_nacionalitat_agrupat</th>\n",
       "      <th>V5_edat_fet_agrupat</th>\n",
       "      <th>V6_provincia</th>\n",
       "      <th>V7_comarca</th>\n",
       "      <th>V8_edat_fet</th>\n",
       "      <th>V9_edat_final_programa</th>\n",
       "      <th>...</th>\n",
       "      <th>V123_rein_fet_agrupat_2013</th>\n",
       "      <th>V124_rein_fet_violencia_2013</th>\n",
       "      <th>V125_rein_fet_tipus_2013</th>\n",
       "      <th>V126_primera_reincidencia_2013</th>\n",
       "      <th>V127_rein_programa_2013</th>\n",
       "      <th>V128_rein_programa_agrupat_2013</th>\n",
       "      <th>V129_on_reincidencia_2013</th>\n",
       "      <th>V130_nombre_rein_agrupat_2013</th>\n",
       "      <th>V131_severitat_puntuacio_2013</th>\n",
       "      <th>V132_REINCIDENCIA_2013</th>\n",
       "    </tr>\n",
       "  </thead>\n",
       "  <tbody>\n",
       "    <tr>\n",
       "      <th>0</th>\n",
       "      <td>691</td>\n",
       "      <td>Home</td>\n",
       "      <td>Espanyol</td>\n",
       "      <td>Espanya</td>\n",
       "      <td>NaN</td>\n",
       "      <td>14 i 15 anys</td>\n",
       "      <td>Lleida</td>\n",
       "      <td>Segrià</td>\n",
       "      <td>15.0</td>\n",
       "      <td>17</td>\n",
       "      <td>...</td>\n",
       "      <td>Contra la propietat no violent</td>\n",
       "      <td>No violent</td>\n",
       "      <td>Delicte</td>\n",
       "      <td>Presó</td>\n",
       "      <td>SIPC - Preventiva</td>\n",
       "      <td>Presó</td>\n",
       "      <td>Només Presó</td>\n",
       "      <td>2 o 3 reincidències</td>\n",
       "      <td>2.0</td>\n",
       "      <td>Sí</td>\n",
       "    </tr>\n",
       "    <tr>\n",
       "      <th>1</th>\n",
       "      <td>956</td>\n",
       "      <td>Dona</td>\n",
       "      <td>Espanyol</td>\n",
       "      <td>Espanya</td>\n",
       "      <td>NaN</td>\n",
       "      <td>14 i 15 anys</td>\n",
       "      <td>Barcelona</td>\n",
       "      <td>Barcelonès</td>\n",
       "      <td>14.0</td>\n",
       "      <td>15</td>\n",
       "      <td>...</td>\n",
       "      <td>Contra la propietat no violent</td>\n",
       "      <td>No violent</td>\n",
       "      <td>Delicte</td>\n",
       "      <td>Justícia juvenil</td>\n",
       "      <td>Assessorament tècnic menors</td>\n",
       "      <td>ATM</td>\n",
       "      <td>Només JJ</td>\n",
       "      <td>2 o 3 reincidències</td>\n",
       "      <td>1.0</td>\n",
       "      <td>Sí</td>\n",
       "    </tr>\n",
       "    <tr>\n",
       "      <th>2</th>\n",
       "      <td>2560</td>\n",
       "      <td>Home</td>\n",
       "      <td>Estranger</td>\n",
       "      <td>Marroc</td>\n",
       "      <td>Magrib</td>\n",
       "      <td>14 i 15 anys</td>\n",
       "      <td>Barcelona</td>\n",
       "      <td>Anoia</td>\n",
       "      <td>15.0</td>\n",
       "      <td>16</td>\n",
       "      <td>...</td>\n",
       "      <td>Altres</td>\n",
       "      <td>No violent</td>\n",
       "      <td>Delicte</td>\n",
       "      <td>Justícia juvenil</td>\n",
       "      <td>Realització de tasques socioeducatives</td>\n",
       "      <td>Altres MO</td>\n",
       "      <td>Justícia juvenil i presó</td>\n",
       "      <td>Més de 3 reincidències</td>\n",
       "      <td>2.0</td>\n",
       "      <td>Sí</td>\n",
       "    </tr>\n",
       "    <tr>\n",
       "      <th>3</th>\n",
       "      <td>2018</td>\n",
       "      <td>Home</td>\n",
       "      <td>Estranger</td>\n",
       "      <td>Marroc</td>\n",
       "      <td>Magrib</td>\n",
       "      <td>14 i 15 anys</td>\n",
       "      <td>Girona</td>\n",
       "      <td>Gironès</td>\n",
       "      <td>14.0</td>\n",
       "      <td>15</td>\n",
       "      <td>...</td>\n",
       "      <td>Altres</td>\n",
       "      <td>No violent</td>\n",
       "      <td>Delicte</td>\n",
       "      <td>Justícia juvenil</td>\n",
       "      <td>Permanència de cap de setmana en centre</td>\n",
       "      <td>Internament</td>\n",
       "      <td>Només JJ</td>\n",
       "      <td>Més de 3 reincidències</td>\n",
       "      <td>3.0</td>\n",
       "      <td>Sí</td>\n",
       "    </tr>\n",
       "    <tr>\n",
       "      <th>4</th>\n",
       "      <td>1650</td>\n",
       "      <td>Home</td>\n",
       "      <td>Espanyol</td>\n",
       "      <td>Espanya</td>\n",
       "      <td>NaN</td>\n",
       "      <td>16 i 17 anys</td>\n",
       "      <td>Tarragona</td>\n",
       "      <td>Tarragonès</td>\n",
       "      <td>17.0</td>\n",
       "      <td>20</td>\n",
       "      <td>...</td>\n",
       "      <td>Altres</td>\n",
       "      <td>No violent</td>\n",
       "      <td>Delicte</td>\n",
       "      <td>MPA</td>\n",
       "      <td>MPA - Treballs en benefici de la comunitat</td>\n",
       "      <td>TBC</td>\n",
       "      <td>Només MPA</td>\n",
       "      <td>1 reincidència</td>\n",
       "      <td>1.0</td>\n",
       "      <td>Sí</td>\n",
       "    </tr>\n",
       "  </tbody>\n",
       "</table>\n",
       "<p>5 rows × 142 columns</p>\n",
       "</div>"
      ],
      "text/plain": [
       "     id V1_sexe V2_estranger V3_nacionalitat V4_nacionalitat_agrupat  \\\n",
       "0   691    Home     Espanyol         Espanya                     NaN   \n",
       "1   956    Dona     Espanyol         Espanya                     NaN   \n",
       "2  2560    Home    Estranger          Marroc                  Magrib   \n",
       "3  2018    Home    Estranger          Marroc                  Magrib   \n",
       "4  1650    Home     Espanyol         Espanya                     NaN   \n",
       "\n",
       "  V5_edat_fet_agrupat V6_provincia  V7_comarca  V8_edat_fet  \\\n",
       "0        14 i 15 anys       Lleida      Segrià         15.0   \n",
       "1        14 i 15 anys    Barcelona  Barcelonès         14.0   \n",
       "2        14 i 15 anys    Barcelona       Anoia         15.0   \n",
       "3        14 i 15 anys       Girona     Gironès         14.0   \n",
       "4        16 i 17 anys    Tarragona  Tarragonès         17.0   \n",
       "\n",
       "   V9_edat_final_programa  ...      V123_rein_fet_agrupat_2013  \\\n",
       "0                      17  ...  Contra la propietat no violent   \n",
       "1                      15  ...  Contra la propietat no violent   \n",
       "2                      16  ...                          Altres   \n",
       "3                      15  ...                          Altres   \n",
       "4                      20  ...                          Altres   \n",
       "\n",
       "   V124_rein_fet_violencia_2013 V125_rein_fet_tipus_2013  \\\n",
       "0                    No violent                  Delicte   \n",
       "1                    No violent                  Delicte   \n",
       "2                    No violent                  Delicte   \n",
       "3                    No violent                  Delicte   \n",
       "4                    No violent                  Delicte   \n",
       "\n",
       "  V126_primera_reincidencia_2013                     V127_rein_programa_2013  \\\n",
       "0                          Presó                           SIPC - Preventiva   \n",
       "1               Justícia juvenil                 Assessorament tècnic menors   \n",
       "2               Justícia juvenil      Realització de tasques socioeducatives   \n",
       "3               Justícia juvenil     Permanència de cap de setmana en centre   \n",
       "4                            MPA  MPA - Treballs en benefici de la comunitat   \n",
       "\n",
       "  V128_rein_programa_agrupat_2013 V129_on_reincidencia_2013  \\\n",
       "0                           Presó               Només Presó   \n",
       "1                             ATM                  Només JJ   \n",
       "2                       Altres MO  Justícia juvenil i presó   \n",
       "3                     Internament                  Només JJ   \n",
       "4                             TBC                 Només MPA   \n",
       "\n",
       "  V130_nombre_rein_agrupat_2013 V131_severitat_puntuacio_2013  \\\n",
       "0           2 o 3 reincidències                           2.0   \n",
       "1           2 o 3 reincidències                           1.0   \n",
       "2        Més de 3 reincidències                           2.0   \n",
       "3        Més de 3 reincidències                           3.0   \n",
       "4                1 reincidència                           1.0   \n",
       "\n",
       "  V132_REINCIDENCIA_2013  \n",
       "0                     Sí  \n",
       "1                     Sí  \n",
       "2                     Sí  \n",
       "3                     Sí  \n",
       "4                     Sí  \n",
       "\n",
       "[5 rows x 142 columns]"
      ]
     },
     "execution_count": 2,
     "metadata": {},
     "output_type": "execute_result"
    }
   ],
   "source": [
    "FILENAME_DATASET = 'reincidenciaJusticiaMenors.xlsx'\n",
    "\n",
    "df = pd.read_excel(FILENAME_DATASET)\n",
    "df.head()"
   ]
  },
  {
   "cell_type": "code",
   "execution_count": 3,
   "metadata": {},
   "outputs": [
    {
     "name": "stdout",
     "output_type": "stream",
     "text": [
      "0 id\n",
      "1 V1_sexe\n",
      "2 V2_estranger\n",
      "3 V3_nacionalitat\n",
      "4 V4_nacionalitat_agrupat\n",
      "5 V5_edat_fet_agrupat\n",
      "6 V6_provincia\n",
      "7 V7_comarca\n",
      "8 V8_edat_fet\n",
      "9 V9_edat_final_programa\n",
      "10 V10_data_naixement\n",
      "11 xxxxxxxx_FETS\n",
      "12 V11_antecedents\n",
      "13 V12_nombre_ante_agrupat\n",
      "14 V13_nombre_fets_agrupat\n",
      "15 V14_fet\n",
      "16 V15_fet_agrupat\n",
      "17 V16_fet_violencia\n",
      "18 V17_fet_tipus\n",
      "19 V19_fets_desagrupats\n",
      "20 V20_nombre_antecedents\n",
      "21 V21_fet_nombre\n",
      "22 V22_data_fet\n",
      "23 xxxxxxxx_PROGRAMA\n",
      "24 V23_territori\n",
      "25 V24_programa\n",
      "26 V25_programa_mesura\n",
      "27 V26_mesures\n",
      "28 V27_durada_programa_agrupat\n",
      "29 V28_temps_inici\n",
      "30 V29_durada_programa\n",
      "31 V30_data_inici_programa\n",
      "32 V31_data_fi_programa\n",
      "33 xxxxxxxxxxxxxx_MRM\n",
      "34 V32_MRM_resultat\n",
      "35 V33_MRM_participacio_victima\n",
      "36 V34_MRM_tipus\n",
      "37 V35_MRM_forma\n",
      "38 V36_MRM_negatiu\n",
      "39 V37_MRM_conciliacio_victimaexlus\n",
      "40 V38_MRM_reparacio_economica\n",
      "41 V39_MRM_reparacio_noeconomica\n",
      "42 V40_MRM_reparacio_comunitaria\n",
      "43 V41_MRM_participacio_trobada\n",
      "44 V42_MRM_participacio_notrobada\n",
      "45 V43_MRM_iniciativa_parts\n",
      "46 V44_MRM_norepa_actitudmen\n",
      "47 V45_MRM_noreparacio_decisio_med\n",
      "48 V46_MRM_fet_sensevictima\n",
      "49 V47_MRM_victima_nolocalitzabl\n",
      "50 V48_MRM_victima_rebutja_parti\n",
      "51 V49_MRM_victima_vol\n",
      "52 V50_MRM_escrit_reflexio\n",
      "53 V51_MRM_reparacio_social\n",
      "54 V52_MRM_reparacio_activitateducativa\n",
      "55 xxxxxxxx_ATM\n",
      "56 V53_ATM_tipus\n",
      "57 xxxxxxxx_SAVRY\n",
      "58 V54_SAVRYprograma\n",
      "59 V55_SAVRYdata\n",
      "60 V56_@R1_resum_risc_global_reverse\n",
      "61 V57_@R2_resum_risc_delictes_violents\n",
      "62 V58_@R3_resum_risc_violencia_centre\n",
      "63 V59_@R4_resum_risc_sortides_permisos\n",
      "64 V60_SAVRY_total_score\n",
      "65 V61_SAVRY_historics_total_score\n",
      "66 V62_SAVRY_socials_total_score\n",
      "67 V63_SAVRY_individuals_total_score\n",
      "68 V64_SAVRY_proteccio_total_score\n",
      "69 xxxxxxxx_SAVRY_FACTORS_RISC\n",
      "70 V65_@1_violencia_previa\n",
      "71 V66_@2_historia_delictes_no_violents\n",
      "72 V67_@3_inici_precoç_violencia\n",
      "73 V68_@4_fracas_intervencions_anteriors\n",
      "74 V69_@5_intents_autolesio_suicidi_anteriors\n",
      "75 V70_@6_exposicio_violencia_llar\n",
      "76 V71_@7_historia_maltracte_infantil\n",
      "77 V72_@8_delinquencia_pares\n",
      "78 V73_@9_separacio_precoç_pares\n",
      "79 V74_@10_baix_rendiment_escola\n",
      "80 V75_@11_delinquencia_grup_iguals\n",
      "81 V76_@12_rebuig_grup_iguals\n",
      "82 V77_@13_estrés_incapacitat_enfrontar_dificultats\n",
      "83 V78_@14_escassa_habilitat_pares_educar\n",
      "84 V79_@15_manca_suport_personal_social\n",
      "85 V80_@16_entorn_marginal\n",
      "86 V81_@17_actitud_negatives\n",
      "87 V82_@18_assumpcio_riscos_impulsivitat\n",
      "88 V83_@19_problemes_consum_toxics\n",
      "89 V84_@20_problemes_maneig_enuig\n",
      "90 V85_@21_baix_nivell_empatia_remordiment\n",
      "91 V86_@22_problemes_concentracio_hiperactivitat\n",
      "92 V87_@23_baixa_colaboracio_intervencions\n",
      "93 V88_@24_baix_compromis_escolar_laboral\n",
      "94 xxxxxxxx_SAVRY_FACTORS_PROTECCIÓ\n",
      "95 V89_@P1_impicacio_prosocial\n",
      "96 V90_@P2_suport_social_fort\n",
      "97 V91_@P3_forta_vinculacio_adult_prosocial\n",
      "98 V92_@P4_actitud_positiva_intervencions_autoritat\n",
      "99 V93_@P5_fort_compromis_escola_treball\n",
      "100 V94_@P6_perseverança_tret_personalitat\n",
      "101 xxxxxxxx_SAVRY_MODEL\n",
      "102 V95_FACT1mean_ANTISOCIAL\n",
      "103 V96_FACT2mean_DINAMICAFAM\n",
      "104 V97_FACT3mean_PERSONALITAT\n",
      "105 V98_FACT4mean_SUPORTSOCIAL\n",
      "106 V99_FACT5mean_SUSCEPTIBILITAT\n",
      "107 xxxxxxxx_REINCIDENCIA_2015\n",
      "108 V100_rein_nombre_fets_2015\n",
      "109 V101_rein_data_fet_2015\n",
      "110 V102_edat_reincidencia_2015\n",
      "111 V103_temps_reincidencia_2015\n",
      "112 V104_nombre_reincidencies_2015\n",
      "113 V105_temps_rein_agrupat_2015\n",
      "114 V106_rein_fet_2015\n",
      "115 V107_rein_fet_agrupat_2015\n",
      "116 V108_rein_fet_violencia_2015\n",
      "117 V109_rein_fet_tipus_2015\n",
      "118 V110_primera_reincidencia_2015\n",
      "119 V111_rein_programa_2015\n",
      "120 V112_rein_programa_agrupat_2015\n",
      "121 V113_on_reincidencia_2015\n",
      "122 V114_nombre_rein_agrupat_2015\n",
      "123 V115_reincidencia_2015\n",
      "124 xxxxxxxx_REINCIDENCIA_2013\n",
      "125 V116_rein_nombre_fets_2013\n",
      "126 V117_rein_data_fet_2013\n",
      "127 V118_edat_reincidencia_2013\n",
      "128 V119_temps_reincidencia_2013\n",
      "129 V120_nombre_reincidencies_2013\n",
      "130 V121_temps_rein_agrupat_2013\n",
      "131 V122_rein_fet_2013\n",
      "132 V123_rein_fet_agrupat_2013\n",
      "133 V124_rein_fet_violencia_2013\n",
      "134 V125_rein_fet_tipus_2013\n",
      "135 V126_primera_reincidencia_2013\n",
      "136 V127_rein_programa_2013\n",
      "137 V128_rein_programa_agrupat_2013\n",
      "138 V129_on_reincidencia_2013\n",
      "139 V130_nombre_rein_agrupat_2013\n",
      "140 V131_severitat_puntuacio_2013\n",
      "141 V132_REINCIDENCIA_2013\n"
     ]
    }
   ],
   "source": [
    "for k,i in enumerate(list(df.columns)):\n",
    "    print(k,i)"
   ]
  },
  {
   "cell_type": "code",
   "execution_count": 4,
   "metadata": {},
   "outputs": [],
   "source": [
    "# data cleaning\n",
    "\n",
    "df = df.dropna(subset=[\"V60_SAVRY_total_score\", \n",
    "                       \"V8_edat_fet\", \n",
    "                       \"V20_nombre_antecedents\", \n",
    "                       \"V89_@P1_impicacio_prosocial\", \n",
    "                       \"V90_@P2_suport_social_fort\",\n",
    "                       \"V91_@P3_forta_vinculacio_adult_prosocial\", \n",
    "                       \"V92_@P4_actitud_positiva_intervencions_autoritat\",\n",
    "                       \"V93_@P5_fort_compromis_escola_treball\", \n",
    "                       \"V94_@P6_perseverança_tret_personalitat\"])\n",
    "df = df.drop(df[df[\"V60_SAVRY_total_score\"]>48].index)"
   ]
  },
  {
   "cell_type": "code",
   "execution_count": 5,
   "metadata": {},
   "outputs": [
    {
     "data": {
      "image/png": "[encoded data removed]",
      "text/plain": [
       "<Figure size 432x288 with 1 Axes>"
      ]
     },
     "metadata": {
      "needs_background": "light"
     },
     "output_type": "display_data"
    }
   ],
   "source": [
    "# data distribution by gender\n",
    "\n",
    "_ = df['V1_sexe'].value_counts(ascending=True).plot(kind='barh', title='Gender')"
   ]
  },
  {
   "cell_type": "code",
   "execution_count": 6,
   "metadata": {},
   "outputs": [
    {
     "data": {
      "image/png": "[encoded data removed]",
      "text/plain": [
       "<Figure size 432x288 with 1 Axes>"
      ]
     },
     "metadata": {
      "needs_background": "light"
     },
     "output_type": "display_data"
    }
   ],
   "source": [
    "# data distribution by nationality\n",
    "\n",
    "_ = df['V2_estranger'].value_counts(ascending=True).plot(kind='barh', title='Nationality')"
   ]
  },
  {
   "cell_type": "code",
   "execution_count": 7,
   "metadata": {},
   "outputs": [
    {
     "data": {
      "image/png": "[encoded data removed]",
      "text/plain": [
       "<Figure size 432x288 with 1 Axes>"
      ]
     },
     "metadata": {
      "needs_background": "light"
     },
     "output_type": "display_data"
    }
   ],
   "source": [
    "# data distribution by age\n",
    "\n",
    "_ = df['V8_edat_fet'].value_counts(ascending=True).plot(kind='barh', title='Age of main crime')"
   ]
  },
  {
   "cell_type": "code",
   "execution_count": 8,
   "metadata": {},
   "outputs": [
    {
     "data": {
      "image/png": "[encoded data removed]",
      "text/plain": [
       "<Figure size 432x288 with 1 Axes>"
      ]
     },
     "metadata": {
      "needs_background": "light"
     },
     "output_type": "display_data"
    }
   ],
   "source": [
    "# data distribution by type of index crime\n",
    "\n",
    "_ = df['V15_fet_agrupat'].value_counts(ascending=True).plot(kind='barh', title='Type of index crime')"
   ]
  },
  {
   "cell_type": "markdown",
   "metadata": {},
   "source": [
    "## SAVRY model (human assessment)\n",
    "\n",
    "The column `V56_@R1_resum_risc_global_reverse` is an evaluation done by a professional expert (that can be low, moderate, or high), based on the results of SAVRY but **applying his/her own judgment independently of the obtained score**.\n",
    "\n",
    "The expert rates each defendant as \"low\", \"medium\", or \"high\" risk. Ideally, defendants considered low risk should recidivate at a lower rate than defendants considered high risk."
   ]
  },
  {
   "cell_type": "code",
   "execution_count": 9,
   "metadata": {},
   "outputs": [
    {
     "data": {
      "image/png": "[encoded data removed]",
      "text/plain": [
       "<Figure size 432x288 with 1 Axes>"
      ]
     },
     "metadata": {
      "needs_background": "light"
     },
     "output_type": "display_data"
    }
   ],
   "source": [
    "# human score distribution\n",
    "\n",
    "hist = df['V56_@R1_resum_risc_global_reverse'].hist(bins=3)"
   ]
  },
  {
   "cell_type": "code",
   "execution_count": 10,
   "metadata": {},
   "outputs": [
    {
     "data": {
      "image/png": "[encoded data removed]",
      "text/plain": [
       "<Figure size 432x288 with 1 Axes>"
      ]
     },
     "metadata": {
      "needs_background": "light"
     },
     "output_type": "display_data"
    }
   ],
   "source": [
    "# human score distribution | recividism\n",
    "\n",
    "human_ctable = pd.crosstab(df['V56_@R1_resum_risc_global_reverse'], df['V115_reincidencia_2015'])\n",
    "human_ctable = human_ctable.reindex(index=[\"Baixa\", \"Moderada\", \"Alta\"])\n",
    "_ = human_ctable.plot(kind='barh')"
   ]
  },
  {
   "cell_type": "code",
   "execution_count": 11,
   "metadata": {},
   "outputs": [
    {
     "data": {
      "text/html": [
       "<div>\n",
       "<style scoped>\n",
       "    .dataframe tbody tr th:only-of-type {\n",
       "        vertical-align: middle;\n",
       "    }\n",
       "\n",
       "    .dataframe tbody tr th {\n",
       "        vertical-align: top;\n",
       "    }\n",
       "\n",
       "    .dataframe thead th {\n",
       "        text-align: right;\n",
       "    }\n",
       "</style>\n",
       "<table border=\"1\" class=\"dataframe\">\n",
       "  <thead>\n",
       "    <tr style=\"text-align: right;\">\n",
       "      <th>V115_reincidencia_2015</th>\n",
       "      <th>No</th>\n",
       "      <th>Sí</th>\n",
       "      <th>recidivism_rate</th>\n",
       "    </tr>\n",
       "    <tr>\n",
       "      <th>V56_@R1_resum_risc_global_reverse</th>\n",
       "      <th></th>\n",
       "      <th></th>\n",
       "      <th></th>\n",
       "    </tr>\n",
       "  </thead>\n",
       "  <tbody>\n",
       "    <tr>\n",
       "      <th>Baixa</th>\n",
       "      <td>157</td>\n",
       "      <td>54</td>\n",
       "      <td>0.255924</td>\n",
       "    </tr>\n",
       "    <tr>\n",
       "      <th>Moderada</th>\n",
       "      <td>174</td>\n",
       "      <td>131</td>\n",
       "      <td>0.429508</td>\n",
       "    </tr>\n",
       "    <tr>\n",
       "      <th>Alta</th>\n",
       "      <td>43</td>\n",
       "      <td>91</td>\n",
       "      <td>0.679104</td>\n",
       "    </tr>\n",
       "  </tbody>\n",
       "</table>\n",
       "</div>"
      ],
      "text/plain": [
       "V115_reincidencia_2015              No   Sí  recidivism_rate\n",
       "V56_@R1_resum_risc_global_reverse                           \n",
       "Baixa                              157   54         0.255924\n",
       "Moderada                           174  131         0.429508\n",
       "Alta                                43   91         0.679104"
      ]
     },
     "execution_count": 11,
     "metadata": {},
     "output_type": "execute_result"
    }
   ],
   "source": [
    "# recividism rate per score\n",
    "\n",
    "human_ctable[\"recidivism_rate\"] = pd.Series(index=human_ctable.index, dtype='float')\n",
    "for index, row in human_ctable.iterrows():\n",
    "    recidivism_rate =row[\"Sí\"] / (row[\"Sí\"] + row[\"No\"])\n",
    "    human_ctable.at[index, \"recidivism_rate\"] = recidivism_rate\n",
    "    \n",
    "human_ctable"
   ]
  },
  {
   "cell_type": "markdown",
   "metadata": {},
   "source": [
    "### Baseline model\n",
    "\n",
    "Our baseline prediction can be based on the column `V60_SAVRY_total_score`, which contains a sum of scores in the risk items of SAVRY. The max value of this sum is 40."
   ]
  },
  {
   "cell_type": "code",
   "execution_count": 12,
   "metadata": {},
   "outputs": [],
   "source": [
    "scores_recidivists = df[df[\"V115_reincidencia_2015\"]=='Sí'][\"V60_SAVRY_total_score\"].values\n",
    "scores_non_recidivists = df[df[\"V115_reincidencia_2015\"]=='No'][\"V60_SAVRY_total_score\"].values"
   ]
  },
  {
   "cell_type": "code",
   "execution_count": 13,
   "metadata": {},
   "outputs": [],
   "source": [
    "def compare_histograms(scores1, scores2, title, label1='Recidivists', label2='Non recidivists'):\n",
    "    plt.figure(figsize=(10,6))\n",
    "    plt.hist(scores1, histtype='step', label=label1, density=True, color='red')\n",
    "    plt.hist(scores2, histtype='step', label=label2, density=True, color='blue')\n",
    "    plt.legend(loc='upper right', fontsize='x-large')\n",
    "    plt.ylabel('Probability')\n",
    "    plt.xlabel(title)\n",
    "    plt.show()"
   ]
  },
  {
   "cell_type": "code",
   "execution_count": 14,
   "metadata": {},
   "outputs": [
    {
     "data": {
      "image/png": "[encoded data removed]",
      "text/plain": [
       "<Figure size 720x432 with 1 Axes>"
      ]
     },
     "metadata": {
      "needs_background": "light"
     },
     "output_type": "display_data"
    }
   ],
   "source": [
    "## baselin score distribution\n",
    "\n",
    "compare_histograms(scores_recidivists, scores_non_recidivists, 'Sum of all risk items')"
   ]
  },
  {
   "cell_type": "code",
   "execution_count": 15,
   "metadata": {},
   "outputs": [],
   "source": [
    "def draw_roc_curve( ground_truth, predictions, pos_label=\"Sí\"):\n",
    "    fpr, tpr, thresholds = roc_curve(ground_truth, predictions, pos_label=pos_label)\n",
    "    roc_auc = auc(fpr, tpr)\n",
    "\n",
    "    plt.figure(figsize=(10,6))\n",
    "    lw = 2\n",
    "    plt.plot(fpr, tpr, color='darkorange',\n",
    "             lw=lw, label='ROC curve (AUC = %0.2f)' % roc_auc)\n",
    "    plt.plot([0, 1], [0, 1], color='navy', lw=lw, linestyle='--')\n",
    "    plt.xlim([0.0, 1.0])\n",
    "    plt.ylim([0.0, 1.05])\n",
    "    plt.xlabel('False Positive Rate')\n",
    "    plt.ylabel('True Positive Rate')\n",
    "    plt.title('Receiver Operating Characteristic')\n",
    "    plt.legend(loc=\"lower right\", fontsize='x-large')\n",
    "    plt.show()\n",
    "    return roc_auc"
   ]
  },
  {
   "cell_type": "code",
   "execution_count": 16,
   "metadata": {},
   "outputs": [
    {
     "data": {
      "image/png": "[encoded data removed]",
      "text/plain": [
       "<Figure size 720x432 with 1 Axes>"
      ]
     },
     "metadata": {
      "needs_background": "light"
     },
     "output_type": "display_data"
    }
   ],
   "source": [
    "# Evaluation (ROC curve) of the baseline prediction\n",
    "\n",
    "_ = draw_roc_curve(df[\"V115_reincidencia_2015\"].values, df[\"V60_SAVRY_total_score\"].values)"
   ]
  },
  {
   "cell_type": "markdown",
   "metadata": {},
   "source": [
    "## Modeling recidivism using logistic regression\n",
    "\n",
    "Logistic regression is a simple yet effective classification model for this problem.\n",
    "\n",
    "In all cases above we will use the same training/testing split, which is done randomly, keeping 1/3 of the data for testing. You can repeat the following cells a couple of times to see how a different train/test split changes the AUC."
   ]
  },
  {
   "cell_type": "code",
   "execution_count": 17,
   "metadata": {},
   "outputs": [],
   "source": [
    "train, test = train_test_split(df, test_size=0.33)"
   ]
  },
  {
   "cell_type": "markdown",
   "metadata": {},
   "source": [
    "### Modeling recidivism (24 risk factors)\n",
    "\n",
    "Now we model recidivism by using the 24 risk factors in SAVRY.\n",
    "\n",
    "Note that the performance depends on the training/testing split which is done randomly, keeping 1/3 of the data for testing. Repeat the following cells a couple of times to see how a different train/test split changes the AUC."
   ]
  },
  {
   "cell_type": "code",
   "execution_count": 18,
   "metadata": {},
   "outputs": [],
   "source": [
    "risk_factor_columns = list(df.columns)[70:94]\n",
    "\n",
    "train_X = pd.get_dummies(train[risk_factor_columns])\n",
    "train_y = train[\"V115_reincidencia_2015\"]\n",
    "\n",
    "test_X = pd.get_dummies(test[risk_factor_columns])\n",
    "test_y = test[\"V115_reincidencia_2015\"]"
   ]
  },
  {
   "cell_type": "code",
   "execution_count": 19,
   "metadata": {},
   "outputs": [
    {
     "data": {
      "text/html": [
       "<style>#sk-container-id-1 {color: black;background-color: white;}#sk-container-id-1 pre{padding: 0;}#sk-container-id-1 div.sk-toggleable {background-color: white;}#sk-container-id-1 label.sk-toggleable__label {cursor: pointer;display: block;width: 100%;margin-bottom: 0;padding: 0.3em;box-sizing: border-box;text-align: center;}#sk-container-id-1 label.sk-toggleable__label-arrow:before {content: \"▸\";float: left;margin-right: 0.25em;color: #696969;}#sk-container-id-1 label.sk-toggleable__label-arrow:hover:before {color: black;}#sk-container-id-1 div.sk-estimator:hover label.sk-toggleable__label-arrow:before {color: black;}#sk-container-id-1 div.sk-toggleable__content {max-height: 0;max-width: 0;overflow: hidden;text-align: left;background-color: #f0f8ff;}#sk-container-id-1 div.sk-toggleable__content pre {margin: 0.2em;color: black;border-radius: 0.25em;background-color: #f0f8ff;}#sk-container-id-1 input.sk-toggleable__control:checked~div.sk-toggleable__content {max-height: 200px;max-width: 100%;overflow: auto;}#sk-container-id-1 input.sk-toggleable__control:checked~label.sk-toggleable__label-arrow:before {content: \"▾\";}#sk-container-id-1 div.sk-estimator input.sk-toggleable__control:checked~label.sk-toggleable__label {background-color: #d4ebff;}#sk-container-id-1 div.sk-label input.sk-toggleable__control:checked~label.sk-toggleable__label {background-color: #d4ebff;}#sk-container-id-1 input.sk-hidden--visually {border: 0;clip: rect(1px 1px 1px 1px);clip: rect(1px, 1px, 1px, 1px);height: 1px;margin: -1px;overflow: hidden;padding: 0;position: absolute;width: 1px;}#sk-container-id-1 div.sk-estimator {font-family: monospace;background-color: #f0f8ff;border: 1px dotted black;border-radius: 0.25em;box-sizing: border-box;margin-bottom: 0.5em;}#sk-container-id-1 div.sk-estimator:hover {background-color: #d4ebff;}#sk-container-id-1 div.sk-parallel-item::after {content: \"\";width: 100%;border-bottom: 1px solid gray;flex-grow: 1;}#sk-container-id-1 div.sk-label:hover label.sk-toggleable__label {background-color: #d4ebff;}#sk-container-id-1 div.sk-serial::before {content: \"\";position: absolute;border-left: 1px solid gray;box-sizing: border-box;top: 0;bottom: 0;left: 50%;z-index: 0;}#sk-container-id-1 div.sk-serial {display: flex;flex-direction: column;align-items: center;background-color: white;padding-right: 0.2em;padding-left: 0.2em;position: relative;}#sk-container-id-1 div.sk-item {position: relative;z-index: 1;}#sk-container-id-1 div.sk-parallel {display: flex;align-items: stretch;justify-content: center;background-color: white;position: relative;}#sk-container-id-1 div.sk-item::before, #sk-container-id-1 div.sk-parallel-item::before {content: \"\";position: absolute;border-left: 1px solid gray;box-sizing: border-box;top: 0;bottom: 0;left: 50%;z-index: -1;}#sk-container-id-1 div.sk-parallel-item {display: flex;flex-direction: column;z-index: 1;position: relative;background-color: white;}#sk-container-id-1 div.sk-parallel-item:first-child::after {align-self: flex-end;width: 50%;}#sk-container-id-1 div.sk-parallel-item:last-child::after {align-self: flex-start;width: 50%;}#sk-container-id-1 div.sk-parallel-item:only-child::after {width: 0;}#sk-container-id-1 div.sk-dashed-wrapped {border: 1px dashed gray;margin: 0 0.4em 0.5em 0.4em;box-sizing: border-box;padding-bottom: 0.4em;background-color: white;}#sk-container-id-1 div.sk-label label {font-family: monospace;font-weight: bold;display: inline-block;line-height: 1.2em;}#sk-container-id-1 div.sk-label-container {text-align: center;}#sk-container-id-1 div.sk-container {/* jupyter's `normalize.less` sets `[hidden] { display: none; }` but bootstrap.min.css set `[hidden] { display: none !important; }` so we also need the `!important` here to be able to override the default hidden behavior on the sphinx rendered scikit-learn.org. See: https://github.com/scikit-learn/scikit-learn/issues/21755 */display: inline-block !important;position: relative;}#sk-container-id-1 div.sk-text-repr-fallback {display: none;}</style><div id=\"sk-container-id-1\" class=\"sk-top-container\"><div class=\"sk-text-repr-fallback\"><pre>LogisticRegression(solver=&#x27;liblinear&#x27;)</pre><b>In a Jupyter environment, please rerun this cell to show the HTML representation or trust the notebook. <br />On GitHub, the HTML representation is unable to render, please try loading this page with nbviewer.org.</b></div><div class=\"sk-container\" hidden><div class=\"sk-item\"><div class=\"sk-estimator sk-toggleable\"><input class=\"sk-toggleable__control sk-hidden--visually\" id=\"sk-estimator-id-1\" type=\"checkbox\" checked><label for=\"sk-estimator-id-1\" class=\"sk-toggleable__label sk-toggleable__label-arrow\">LogisticRegression</label><div class=\"sk-toggleable__content\"><pre>LogisticRegression(solver=&#x27;liblinear&#x27;)</pre></div></div></div></div></div>"
      ],
      "text/plain": [
       "LogisticRegression(solver='liblinear')"
      ]
     },
     "execution_count": 19,
     "metadata": {},
     "output_type": "execute_result"
    }
   ],
   "source": [
    "model = LogisticRegression(solver='liblinear')\n",
    "model.fit(train_X, train_y)"
   ]
  },
  {
   "cell_type": "code",
   "execution_count": 20,
   "metadata": {},
   "outputs": [],
   "source": [
    "pred24_y = model.predict_proba(test_X)[:,1]\n",
    "pred24_recidivists = pred24_y[test_y == 'Sí']\n",
    "pred24_non_recidivists = pred24_y[test_y == 'No']"
   ]
  },
  {
   "cell_type": "code",
   "execution_count": 21,
   "metadata": {},
   "outputs": [
    {
     "data": {
      "image/png": "[encoded data removed]",
      "text/plain": [
       "<Figure size 720x432 with 1 Axes>"
      ]
     },
     "metadata": {
      "needs_background": "light"
     },
     "output_type": "display_data"
    }
   ],
   "source": [
    "compare_histograms(pred24_recidivists, pred24_non_recidivists, 'Prediction')"
   ]
  },
  {
   "cell_type": "code",
   "execution_count": 22,
   "metadata": {},
   "outputs": [
    {
     "data": {
      "image/png": "[encoded data removed]",
      "text/plain": [
       "<Figure size 720x432 with 1 Axes>"
      ]
     },
     "metadata": {
      "needs_background": "light"
     },
     "output_type": "display_data"
    }
   ],
   "source": [
    "_ = draw_roc_curve(test_y, pred24_y)"
   ]
  },
  {
   "cell_type": "markdown",
   "metadata": {},
   "source": [
    "### Modeling recidivism (personal history factors)\n",
    "\n",
    "Next we use demographic factors: gender and nationality, as well as criminal history factors such as the age of commission of the index crime and its type, as well as whether the juvenile defendant has criminal records."
   ]
  },
  {
   "cell_type": "code",
   "execution_count": 23,
   "metadata": {},
   "outputs": [],
   "source": [
    "demographic_columns = [\"V1_sexe\", \n",
    "                       \"V2_estranger\", \n",
    "                       \"V8_edat_fet\", \n",
    "                       \"V20_nombre_antecedents\",\n",
    "                       \"V15_fet_agrupat\", \n",
    "                       \"V16_fet_violencia\"]\n",
    "                       \n",
    "train_X = pd.get_dummies(train[demographic_columns])\n",
    "train_y = train[\"V115_reincidencia_2015\"]\n",
    "\n",
    "test_X =  pd.get_dummies(test[demographic_columns])\n",
    "test_y = test[\"V115_reincidencia_2015\"]"
   ]
  },
  {
   "cell_type": "code",
   "execution_count": 24,
   "metadata": {},
   "outputs": [
    {
     "data": {
      "text/html": [
       "<style>#sk-container-id-2 {color: black;background-color: white;}#sk-container-id-2 pre{padding: 0;}#sk-container-id-2 div.sk-toggleable {background-color: white;}#sk-container-id-2 label.sk-toggleable__label {cursor: pointer;display: block;width: 100%;margin-bottom: 0;padding: 0.3em;box-sizing: border-box;text-align: center;}#sk-container-id-2 label.sk-toggleable__label-arrow:before {content: \"▸\";float: left;margin-right: 0.25em;color: #696969;}#sk-container-id-2 label.sk-toggleable__label-arrow:hover:before {color: black;}#sk-container-id-2 div.sk-estimator:hover label.sk-toggleable__label-arrow:before {color: black;}#sk-container-id-2 div.sk-toggleable__content {max-height: 0;max-width: 0;overflow: hidden;text-align: left;background-color: #f0f8ff;}#sk-container-id-2 div.sk-toggleable__content pre {margin: 0.2em;color: black;border-radius: 0.25em;background-color: #f0f8ff;}#sk-container-id-2 input.sk-toggleable__control:checked~div.sk-toggleable__content {max-height: 200px;max-width: 100%;overflow: auto;}#sk-container-id-2 input.sk-toggleable__control:checked~label.sk-toggleable__label-arrow:before {content: \"▾\";}#sk-container-id-2 div.sk-estimator input.sk-toggleable__control:checked~label.sk-toggleable__label {background-color: #d4ebff;}#sk-container-id-2 div.sk-label input.sk-toggleable__control:checked~label.sk-toggleable__label {background-color: #d4ebff;}#sk-container-id-2 input.sk-hidden--visually {border: 0;clip: rect(1px 1px 1px 1px);clip: rect(1px, 1px, 1px, 1px);height: 1px;margin: -1px;overflow: hidden;padding: 0;position: absolute;width: 1px;}#sk-container-id-2 div.sk-estimator {font-family: monospace;background-color: #f0f8ff;border: 1px dotted black;border-radius: 0.25em;box-sizing: border-box;margin-bottom: 0.5em;}#sk-container-id-2 div.sk-estimator:hover {background-color: #d4ebff;}#sk-container-id-2 div.sk-parallel-item::after {content: \"\";width: 100%;border-bottom: 1px solid gray;flex-grow: 1;}#sk-container-id-2 div.sk-label:hover label.sk-toggleable__label {background-color: #d4ebff;}#sk-container-id-2 div.sk-serial::before {content: \"\";position: absolute;border-left: 1px solid gray;box-sizing: border-box;top: 0;bottom: 0;left: 50%;z-index: 0;}#sk-container-id-2 div.sk-serial {display: flex;flex-direction: column;align-items: center;background-color: white;padding-right: 0.2em;padding-left: 0.2em;position: relative;}#sk-container-id-2 div.sk-item {position: relative;z-index: 1;}#sk-container-id-2 div.sk-parallel {display: flex;align-items: stretch;justify-content: center;background-color: white;position: relative;}#sk-container-id-2 div.sk-item::before, #sk-container-id-2 div.sk-parallel-item::before {content: \"\";position: absolute;border-left: 1px solid gray;box-sizing: border-box;top: 0;bottom: 0;left: 50%;z-index: -1;}#sk-container-id-2 div.sk-parallel-item {display: flex;flex-direction: column;z-index: 1;position: relative;background-color: white;}#sk-container-id-2 div.sk-parallel-item:first-child::after {align-self: flex-end;width: 50%;}#sk-container-id-2 div.sk-parallel-item:last-child::after {align-self: flex-start;width: 50%;}#sk-container-id-2 div.sk-parallel-item:only-child::after {width: 0;}#sk-container-id-2 div.sk-dashed-wrapped {border: 1px dashed gray;margin: 0 0.4em 0.5em 0.4em;box-sizing: border-box;padding-bottom: 0.4em;background-color: white;}#sk-container-id-2 div.sk-label label {font-family: monospace;font-weight: bold;display: inline-block;line-height: 1.2em;}#sk-container-id-2 div.sk-label-container {text-align: center;}#sk-container-id-2 div.sk-container {/* jupyter's `normalize.less` sets `[hidden] { display: none; }` but bootstrap.min.css set `[hidden] { display: none !important; }` so we also need the `!important` here to be able to override the default hidden behavior on the sphinx rendered scikit-learn.org. See: https://github.com/scikit-learn/scikit-learn/issues/21755 */display: inline-block !important;position: relative;}#sk-container-id-2 div.sk-text-repr-fallback {display: none;}</style><div id=\"sk-container-id-2\" class=\"sk-top-container\"><div class=\"sk-text-repr-fallback\"><pre>LogisticRegression(solver=&#x27;liblinear&#x27;)</pre><b>In a Jupyter environment, please rerun this cell to show the HTML representation or trust the notebook. <br />On GitHub, the HTML representation is unable to render, please try loading this page with nbviewer.org.</b></div><div class=\"sk-container\" hidden><div class=\"sk-item\"><div class=\"sk-estimator sk-toggleable\"><input class=\"sk-toggleable__control sk-hidden--visually\" id=\"sk-estimator-id-2\" type=\"checkbox\" checked><label for=\"sk-estimator-id-2\" class=\"sk-toggleable__label sk-toggleable__label-arrow\">LogisticRegression</label><div class=\"sk-toggleable__content\"><pre>LogisticRegression(solver=&#x27;liblinear&#x27;)</pre></div></div></div></div></div>"
      ],
      "text/plain": [
       "LogisticRegression(solver='liblinear')"
      ]
     },
     "execution_count": 24,
     "metadata": {},
     "output_type": "execute_result"
    }
   ],
   "source": [
    "model = LogisticRegression(solver='liblinear')\n",
    "model.fit(train_X, train_y)"
   ]
  },
  {
   "cell_type": "code",
   "execution_count": 25,
   "metadata": {},
   "outputs": [],
   "source": [
    "predPH_y = model.predict_proba(test_X)[:,1]\n",
    "predPH_recidivists = predPH_y[test_y == 'Sí']\n",
    "predPH_non_recidivists = predPH_y[test_y == 'No']"
   ]
  },
  {
   "cell_type": "code",
   "execution_count": 26,
   "metadata": {},
   "outputs": [
    {
     "data": {
      "image/png": "[encoded data removed]",
      "text/plain": [
       "<Figure size 720x432 with 1 Axes>"
      ]
     },
     "metadata": {
      "needs_background": "light"
     },
     "output_type": "display_data"
    }
   ],
   "source": [
    "compare_histograms(predPH_recidivists, predPH_non_recidivists, 'Prediction')"
   ]
  },
  {
   "cell_type": "code",
   "execution_count": 27,
   "metadata": {},
   "outputs": [
    {
     "data": {
      "image/png": "[encoded data removed]",
      "text/plain": [
       "<Figure size 720x432 with 1 Axes>"
      ]
     },
     "metadata": {
      "needs_background": "light"
     },
     "output_type": "display_data"
    }
   ],
   "source": [
    "_ = draw_roc_curve(test_y, predPH_y)"
   ]
  },
  {
   "cell_type": "markdown",
   "metadata": {},
   "source": [
    "### Modeling recidivism (personal history + 24 risk factors + 6 protective factors)\n",
    "\n",
    "We now add to the above 6 \"protective\" or positive factors that are associated with a low risk."
   ]
  },
  {
   "cell_type": "code",
   "execution_count": 28,
   "metadata": {},
   "outputs": [],
   "source": [
    "protective_factor_columns = [\"V89_@P1_impicacio_prosocial\", \n",
    "                             \"V90_@P2_suport_social_fort\",\n",
    "                             \"V91_@P3_forta_vinculacio_adult_prosocial\", \n",
    "                             \"V92_@P4_actitud_positiva_intervencions_autoritat\",\n",
    "                             \"V93_@P5_fort_compromis_escola_treball\", \n",
    "                             \"V94_@P6_perseverança_tret_personalitat\"]\n",
    "\n",
    "factors = demographic_columns + risk_factor_columns + protective_factor_columns\n",
    "\n",
    "train_X = pd.get_dummies(train[factors])\n",
    "train_y = train[\"V115_reincidencia_2015\"]\n",
    "\n",
    "test_X = pd.get_dummies(test[factors])\n",
    "test_y = test[\"V115_reincidencia_2015\"]"
   ]
  },
  {
   "cell_type": "code",
   "execution_count": 29,
   "metadata": {},
   "outputs": [
    {
     "data": {
      "text/html": [
       "<style>#sk-container-id-3 {color: black;background-color: white;}#sk-container-id-3 pre{padding: 0;}#sk-container-id-3 div.sk-toggleable {background-color: white;}#sk-container-id-3 label.sk-toggleable__label {cursor: pointer;display: block;width: 100%;margin-bottom: 0;padding: 0.3em;box-sizing: border-box;text-align: center;}#sk-container-id-3 label.sk-toggleable__label-arrow:before {content: \"▸\";float: left;margin-right: 0.25em;color: #696969;}#sk-container-id-3 label.sk-toggleable__label-arrow:hover:before {color: black;}#sk-container-id-3 div.sk-estimator:hover label.sk-toggleable__label-arrow:before {color: black;}#sk-container-id-3 div.sk-toggleable__content {max-height: 0;max-width: 0;overflow: hidden;text-align: left;background-color: #f0f8ff;}#sk-container-id-3 div.sk-toggleable__content pre {margin: 0.2em;color: black;border-radius: 0.25em;background-color: #f0f8ff;}#sk-container-id-3 input.sk-toggleable__control:checked~div.sk-toggleable__content {max-height: 200px;max-width: 100%;overflow: auto;}#sk-container-id-3 input.sk-toggleable__control:checked~label.sk-toggleable__label-arrow:before {content: \"▾\";}#sk-container-id-3 div.sk-estimator input.sk-toggleable__control:checked~label.sk-toggleable__label {background-color: #d4ebff;}#sk-container-id-3 div.sk-label input.sk-toggleable__control:checked~label.sk-toggleable__label {background-color: #d4ebff;}#sk-container-id-3 input.sk-hidden--visually {border: 0;clip: rect(1px 1px 1px 1px);clip: rect(1px, 1px, 1px, 1px);height: 1px;margin: -1px;overflow: hidden;padding: 0;position: absolute;width: 1px;}#sk-container-id-3 div.sk-estimator {font-family: monospace;background-color: #f0f8ff;border: 1px dotted black;border-radius: 0.25em;box-sizing: border-box;margin-bottom: 0.5em;}#sk-container-id-3 div.sk-estimator:hover {background-color: #d4ebff;}#sk-container-id-3 div.sk-parallel-item::after {content: \"\";width: 100%;border-bottom: 1px solid gray;flex-grow: 1;}#sk-container-id-3 div.sk-label:hover label.sk-toggleable__label {background-color: #d4ebff;}#sk-container-id-3 div.sk-serial::before {content: \"\";position: absolute;border-left: 1px solid gray;box-sizing: border-box;top: 0;bottom: 0;left: 50%;z-index: 0;}#sk-container-id-3 div.sk-serial {display: flex;flex-direction: column;align-items: center;background-color: white;padding-right: 0.2em;padding-left: 0.2em;position: relative;}#sk-container-id-3 div.sk-item {position: relative;z-index: 1;}#sk-container-id-3 div.sk-parallel {display: flex;align-items: stretch;justify-content: center;background-color: white;position: relative;}#sk-container-id-3 div.sk-item::before, #sk-container-id-3 div.sk-parallel-item::before {content: \"\";position: absolute;border-left: 1px solid gray;box-sizing: border-box;top: 0;bottom: 0;left: 50%;z-index: -1;}#sk-container-id-3 div.sk-parallel-item {display: flex;flex-direction: column;z-index: 1;position: relative;background-color: white;}#sk-container-id-3 div.sk-parallel-item:first-child::after {align-self: flex-end;width: 50%;}#sk-container-id-3 div.sk-parallel-item:last-child::after {align-self: flex-start;width: 50%;}#sk-container-id-3 div.sk-parallel-item:only-child::after {width: 0;}#sk-container-id-3 div.sk-dashed-wrapped {border: 1px dashed gray;margin: 0 0.4em 0.5em 0.4em;box-sizing: border-box;padding-bottom: 0.4em;background-color: white;}#sk-container-id-3 div.sk-label label {font-family: monospace;font-weight: bold;display: inline-block;line-height: 1.2em;}#sk-container-id-3 div.sk-label-container {text-align: center;}#sk-container-id-3 div.sk-container {/* jupyter's `normalize.less` sets `[hidden] { display: none; }` but bootstrap.min.css set `[hidden] { display: none !important; }` so we also need the `!important` here to be able to override the default hidden behavior on the sphinx rendered scikit-learn.org. See: https://github.com/scikit-learn/scikit-learn/issues/21755 */display: inline-block !important;position: relative;}#sk-container-id-3 div.sk-text-repr-fallback {display: none;}</style><div id=\"sk-container-id-3\" class=\"sk-top-container\"><div class=\"sk-text-repr-fallback\"><pre>LogisticRegression(solver=&#x27;liblinear&#x27;)</pre><b>In a Jupyter environment, please rerun this cell to show the HTML representation or trust the notebook. <br />On GitHub, the HTML representation is unable to render, please try loading this page with nbviewer.org.</b></div><div class=\"sk-container\" hidden><div class=\"sk-item\"><div class=\"sk-estimator sk-toggleable\"><input class=\"sk-toggleable__control sk-hidden--visually\" id=\"sk-estimator-id-3\" type=\"checkbox\" checked><label for=\"sk-estimator-id-3\" class=\"sk-toggleable__label sk-toggleable__label-arrow\">LogisticRegression</label><div class=\"sk-toggleable__content\"><pre>LogisticRegression(solver=&#x27;liblinear&#x27;)</pre></div></div></div></div></div>"
      ],
      "text/plain": [
       "LogisticRegression(solver='liblinear')"
      ]
     },
     "execution_count": 29,
     "metadata": {},
     "output_type": "execute_result"
    }
   ],
   "source": [
    "model = LogisticRegression(solver='liblinear')\n",
    "model.fit(train_X, train_y)"
   ]
  },
  {
   "cell_type": "code",
   "execution_count": 30,
   "metadata": {},
   "outputs": [],
   "source": [
    "predALL_y = model.predict_proba(test_X)[:,1]\n",
    "predALL_recidivists = predALL_y[test_y == 'Sí']\n",
    "predALL_non_recidivists = predALL_y[test_y == 'No']"
   ]
  },
  {
   "cell_type": "code",
   "execution_count": 31,
   "metadata": {},
   "outputs": [
    {
     "data": {
      "image/png": "[encoded data removed]",
      "text/plain": [
       "<Figure size 720x432 with 1 Axes>"
      ]
     },
     "metadata": {
      "needs_background": "light"
     },
     "output_type": "display_data"
    }
   ],
   "source": [
    "compare_histograms(predALL_recidivists, predALL_non_recidivists, 'Prediction')"
   ]
  },
  {
   "cell_type": "code",
   "execution_count": 32,
   "metadata": {},
   "outputs": [
    {
     "data": {
      "image/png": "[encoded data removed]",
      "text/plain": [
       "<Figure size 720x432 with 1 Axes>"
      ]
     },
     "metadata": {
      "needs_background": "light"
     },
     "output_type": "display_data"
    }
   ],
   "source": [
    "_ = draw_roc_curve(test_y, predALL_y)"
   ]
  },
  {
   "cell_type": "markdown",
   "metadata": {},
   "source": [
    "# Recidivism and fairness\n",
    "We remark that fairness is not necessarily that people in different groups obtain the same outcomes. For instance, in this dataset, women recidivate at about half the rate as men, and foreigners at a higher rate than nationals."
   ]
  },
  {
   "cell_type": "code",
   "execution_count": 33,
   "metadata": {},
   "outputs": [
    {
     "data": {
      "text/html": [
       "<div>\n",
       "<style scoped>\n",
       "    .dataframe tbody tr th:only-of-type {\n",
       "        vertical-align: middle;\n",
       "    }\n",
       "\n",
       "    .dataframe tbody tr th {\n",
       "        vertical-align: top;\n",
       "    }\n",
       "\n",
       "    .dataframe thead th {\n",
       "        text-align: right;\n",
       "    }\n",
       "</style>\n",
       "<table border=\"1\" class=\"dataframe\">\n",
       "  <thead>\n",
       "    <tr style=\"text-align: right;\">\n",
       "      <th>V1_sexe</th>\n",
       "      <th>Dona</th>\n",
       "      <th>Home</th>\n",
       "    </tr>\n",
       "    <tr>\n",
       "      <th>V115_reincidencia_2015</th>\n",
       "      <th></th>\n",
       "      <th></th>\n",
       "    </tr>\n",
       "  </thead>\n",
       "  <tbody>\n",
       "    <tr>\n",
       "      <th>No</th>\n",
       "      <td>0.759494</td>\n",
       "      <td>0.549912</td>\n",
       "    </tr>\n",
       "    <tr>\n",
       "      <th>Sí</th>\n",
       "      <td>0.240506</td>\n",
       "      <td>0.450088</td>\n",
       "    </tr>\n",
       "  </tbody>\n",
       "</table>\n",
       "</div>"
      ],
      "text/plain": [
       "V1_sexe                     Dona      Home\n",
       "V115_reincidencia_2015                    \n",
       "No                      0.759494  0.549912\n",
       "Sí                      0.240506  0.450088"
      ]
     },
     "execution_count": 33,
     "metadata": {},
     "output_type": "execute_result"
    }
   ],
   "source": [
    "recidivism_by_gender = pd.crosstab(df[\"V115_reincidencia_2015\"], df[\"V1_sexe\"])\n",
    "recidivism_by_gender['Dona'] = recidivism_by_gender['Dona'] / recidivism_by_gender['Dona'].sum()\n",
    "recidivism_by_gender['Home'] = recidivism_by_gender['Home'] / recidivism_by_gender['Home'].sum()\n",
    "recidivism_by_gender"
   ]
  },
  {
   "cell_type": "code",
   "execution_count": 34,
   "metadata": {},
   "outputs": [
    {
     "data": {
      "text/html": [
       "<div>\n",
       "<style scoped>\n",
       "    .dataframe tbody tr th:only-of-type {\n",
       "        vertical-align: middle;\n",
       "    }\n",
       "\n",
       "    .dataframe tbody tr th {\n",
       "        vertical-align: top;\n",
       "    }\n",
       "\n",
       "    .dataframe thead th {\n",
       "        text-align: right;\n",
       "    }\n",
       "</style>\n",
       "<table border=\"1\" class=\"dataframe\">\n",
       "  <thead>\n",
       "    <tr style=\"text-align: right;\">\n",
       "      <th>V2_estranger</th>\n",
       "      <th>Espanyol</th>\n",
       "      <th>Estranger</th>\n",
       "    </tr>\n",
       "    <tr>\n",
       "      <th>V115_reincidencia_2015</th>\n",
       "      <th></th>\n",
       "      <th></th>\n",
       "    </tr>\n",
       "  </thead>\n",
       "  <tbody>\n",
       "    <tr>\n",
       "      <th>No</th>\n",
       "      <td>0.632812</td>\n",
       "      <td>0.492481</td>\n",
       "    </tr>\n",
       "    <tr>\n",
       "      <th>Sí</th>\n",
       "      <td>0.367188</td>\n",
       "      <td>0.507519</td>\n",
       "    </tr>\n",
       "  </tbody>\n",
       "</table>\n",
       "</div>"
      ],
      "text/plain": [
       "V2_estranger            Espanyol  Estranger\n",
       "V115_reincidencia_2015                     \n",
       "No                      0.632812   0.492481\n",
       "Sí                      0.367188   0.507519"
      ]
     },
     "execution_count": 34,
     "metadata": {},
     "output_type": "execute_result"
    }
   ],
   "source": [
    "recidivism_by_nationality = pd.crosstab(df[\"V115_reincidencia_2015\"], df[\"V2_estranger\"])\n",
    "recidivism_by_nationality['Espanyol'] = recidivism_by_nationality['Espanyol'] / recidivism_by_nationality['Espanyol'].sum()\n",
    "recidivism_by_nationality['Estranger'] = recidivism_by_nationality['Estranger'] / recidivism_by_nationality['Estranger'].sum()\n",
    "recidivism_by_nationality"
   ]
  },
  {
   "cell_type": "markdown",
   "metadata": {},
   "source": [
    "# Fairness as **equality of error rates**\n",
    "\n",
    "We can look at fairness as **equality of error rates**."
   ]
  },
  {
   "cell_type": "markdown",
   "metadata": {},
   "source": [
    "## Professional (human expert) recidivism prediction and fairness\n",
    "\n",
    "We consider people who did not recidivate, in particular, look at those who were given a \"high\" risk by the expert."
   ]
  },
  {
   "cell_type": "code",
   "execution_count": 35,
   "metadata": {},
   "outputs": [
    {
     "data": {
      "text/html": [
       "<div>\n",
       "<style scoped>\n",
       "    .dataframe tbody tr th:only-of-type {\n",
       "        vertical-align: middle;\n",
       "    }\n",
       "\n",
       "    .dataframe tbody tr th {\n",
       "        vertical-align: top;\n",
       "    }\n",
       "\n",
       "    .dataframe thead th {\n",
       "        text-align: right;\n",
       "    }\n",
       "</style>\n",
       "<table border=\"1\" class=\"dataframe\">\n",
       "  <thead>\n",
       "    <tr style=\"text-align: right;\">\n",
       "      <th>V1_sexe</th>\n",
       "      <th>Dona</th>\n",
       "      <th>Home</th>\n",
       "    </tr>\n",
       "    <tr>\n",
       "      <th>V56_@R1_resum_risc_global_reverse</th>\n",
       "      <th></th>\n",
       "      <th></th>\n",
       "    </tr>\n",
       "  </thead>\n",
       "  <tbody>\n",
       "    <tr>\n",
       "      <th>Alta</th>\n",
       "      <td>0.116667</td>\n",
       "      <td>0.114650</td>\n",
       "    </tr>\n",
       "    <tr>\n",
       "      <th>Baixa</th>\n",
       "      <td>0.433333</td>\n",
       "      <td>0.417197</td>\n",
       "    </tr>\n",
       "    <tr>\n",
       "      <th>Moderada</th>\n",
       "      <td>0.450000</td>\n",
       "      <td>0.468153</td>\n",
       "    </tr>\n",
       "  </tbody>\n",
       "</table>\n",
       "</div>"
      ],
      "text/plain": [
       "V1_sexe                                Dona      Home\n",
       "V56_@R1_resum_risc_global_reverse                    \n",
       "Alta                               0.116667  0.114650\n",
       "Baixa                              0.433333  0.417197\n",
       "Moderada                           0.450000  0.468153"
      ]
     },
     "execution_count": 35,
     "metadata": {},
     "output_type": "execute_result"
    }
   ],
   "source": [
    "non_recidivists = df[df[\"V115_reincidencia_2015\"] == 'No']\n",
    "non_recidivists_expert_by_gender = pd.crosstab(non_recidivists[\"V56_@R1_resum_risc_global_reverse\"], non_recidivists[\"V1_sexe\"])\n",
    "non_recidivists_expert_by_gender.reindex(index=[\"Baix\", \"Moderat\", \"Alt\"])\n",
    "non_recidivists_expert_by_gender[\"Home\"] = non_recidivists_expert_by_gender[\"Home\"] / non_recidivists_expert_by_gender[\"Home\"].sum()\n",
    "non_recidivists_expert_by_gender[\"Dona\"] = non_recidivists_expert_by_gender[\"Dona\"] / non_recidivists_expert_by_gender[\"Dona\"].sum()\n",
    "non_recidivists_expert_by_gender"
   ]
  },
  {
   "cell_type": "code",
   "execution_count": 36,
   "metadata": {},
   "outputs": [
    {
     "data": {
      "text/html": [
       "<div>\n",
       "<style scoped>\n",
       "    .dataframe tbody tr th:only-of-type {\n",
       "        vertical-align: middle;\n",
       "    }\n",
       "\n",
       "    .dataframe tbody tr th {\n",
       "        vertical-align: top;\n",
       "    }\n",
       "\n",
       "    .dataframe thead th {\n",
       "        text-align: right;\n",
       "    }\n",
       "</style>\n",
       "<table border=\"1\" class=\"dataframe\">\n",
       "  <thead>\n",
       "    <tr style=\"text-align: right;\">\n",
       "      <th>V2_estranger</th>\n",
       "      <th>Espanyol</th>\n",
       "      <th>Estranger</th>\n",
       "    </tr>\n",
       "    <tr>\n",
       "      <th>V56_@R1_resum_risc_global_reverse</th>\n",
       "      <th></th>\n",
       "      <th></th>\n",
       "    </tr>\n",
       "  </thead>\n",
       "  <tbody>\n",
       "    <tr>\n",
       "      <th>Alta</th>\n",
       "      <td>0.106996</td>\n",
       "      <td>0.129771</td>\n",
       "    </tr>\n",
       "    <tr>\n",
       "      <th>Baixa</th>\n",
       "      <td>0.423868</td>\n",
       "      <td>0.412214</td>\n",
       "    </tr>\n",
       "    <tr>\n",
       "      <th>Moderada</th>\n",
       "      <td>0.469136</td>\n",
       "      <td>0.458015</td>\n",
       "    </tr>\n",
       "  </tbody>\n",
       "</table>\n",
       "</div>"
      ],
      "text/plain": [
       "V2_estranger                       Espanyol  Estranger\n",
       "V56_@R1_resum_risc_global_reverse                     \n",
       "Alta                               0.106996   0.129771\n",
       "Baixa                              0.423868   0.412214\n",
       "Moderada                           0.469136   0.458015"
      ]
     },
     "execution_count": 36,
     "metadata": {},
     "output_type": "execute_result"
    }
   ],
   "source": [
    "non_recidivists_expert_by_nationality = pd.crosstab(non_recidivists[\"V56_@R1_resum_risc_global_reverse\"], non_recidivists[\"V2_estranger\"])\n",
    "non_recidivists_expert_by_nationality.reindex(index=[\"Baix\", \"Moderat\", \"Alt\"])\n",
    "non_recidivists_expert_by_nationality[\"Espanyol\"] = non_recidivists_expert_by_nationality[\"Espanyol\"] / non_recidivists_expert_by_nationality[\"Espanyol\"].sum()\n",
    "non_recidivists_expert_by_nationality[\"Estranger\"] = non_recidivists_expert_by_nationality[\"Estranger\"] / non_recidivists_expert_by_nationality[\"Estranger\"].sum()\n",
    "non_recidivists_expert_by_nationality"
   ]
  },
  {
   "cell_type": "markdown",
   "metadata": {},
   "source": [
    "## Overall SAVRY score and fairness"
   ]
  },
  {
   "cell_type": "code",
   "execution_count": 37,
   "metadata": {},
   "outputs": [
    {
     "name": "stdout",
     "output_type": "stream",
     "text": [
      "Average SAVRY score of men non-recidivist: 15.38\n",
      "Average SAVRY score of women non-recidivist: 15.67\n"
     ]
    }
   ],
   "source": [
    "scores_men_non_recidivists = df[(df[\"V115_reincidencia_2015\"]=='No') &\n",
    "                                      (df[\"V1_sexe\"]=='Home')][\"V60_SAVRY_total_score\"].values\n",
    "scores_women_non_recidivists = df[(df[\"V115_reincidencia_2015\"]=='No') &\n",
    "                                       (df[\"V1_sexe\"]=='Dona')][\"V60_SAVRY_total_score\"].values\n",
    "\n",
    "print(\"Average SAVRY score of men non-recidivist: %.2f\" %\n",
    "      (scores_men_non_recidivists.sum() / len(scores_men_non_recidivists)))\n",
    "       \n",
    "print(\"Average SAVRY score of women non-recidivist: %.2f\" % \n",
    "      (scores_women_non_recidivists.sum() / len(scores_women_non_recidivists)))"
   ]
  },
  {
   "cell_type": "code",
   "execution_count": 38,
   "metadata": {},
   "outputs": [
    {
     "data": {
      "image/png": "[encoded data removed]",
      "text/plain": [
       "<Figure size 720x432 with 1 Axes>"
      ]
     },
     "metadata": {
      "needs_background": "light"
     },
     "output_type": "display_data"
    }
   ],
   "source": [
    "compare_histograms(scores_men_non_recidivists, scores_women_non_recidivists,\n",
    "                   \"Non-recidivists overall score\",\n",
    "                   label1=\"men\", label2=\"women\")"
   ]
  },
  {
   "cell_type": "code",
   "execution_count": 39,
   "metadata": {},
   "outputs": [
    {
     "name": "stdout",
     "output_type": "stream",
     "text": [
      "Average SAVRY score of national non-recidivist: 14.84\n",
      "Average SAVRY score of foreigner non-recidivist: 16.51\n"
     ]
    }
   ],
   "source": [
    "scores_nationals_non_recidivists = df[(df[\"V115_reincidencia_2015\"]=='No') &\n",
    "                                      (df[\"V2_estranger\"]=='Espanyol')][\"V60_SAVRY_total_score\"].values\n",
    "scores_foreigners_non_recidivists = df[(df[\"V115_reincidencia_2015\"]=='No') &\n",
    "                                       (df[\"V2_estranger\"]=='Estranger')][\"V60_SAVRY_total_score\"].values\n",
    "\n",
    "print(\"Average SAVRY score of national non-recidivist: %.2f\" %\n",
    "      (scores_nationals_non_recidivists.sum() / len(scores_nationals_non_recidivists)))\n",
    "       \n",
    "print(\"Average SAVRY score of foreigner non-recidivist: %.2f\" % \n",
    "      (scores_foreigners_non_recidivists.sum() / len(scores_foreigners_non_recidivists)))"
   ]
  },
  {
   "cell_type": "code",
   "execution_count": 40,
   "metadata": {},
   "outputs": [
    {
     "data": {
      "image/png": "[encoded data removed]",
      "text/plain": [
       "<Figure size 720x432 with 1 Axes>"
      ]
     },
     "metadata": {
      "needs_background": "light"
     },
     "output_type": "display_data"
    }
   ],
   "source": [
    "compare_histograms(scores_nationals_non_recidivists, scores_foreigners_non_recidivists,\n",
    "                   \"Non-recidivists overall score\",\n",
    "                   label1=\"national\", label2=\"foreigner\")"
   ]
  },
  {
   "cell_type": "markdown",
   "metadata": {},
   "source": [
    "## Fairness using ML score"
   ]
  },
  {
   "cell_type": "code",
   "execution_count": 41,
   "metadata": {},
   "outputs": [
    {
     "name": "stdout",
     "output_type": "stream",
     "text": [
      "Average predicted probability of men non-recidivist: 0.41\n",
      "Average predicted probability of women non-recidivist: 0.23\n"
     ]
    }
   ],
   "source": [
    "predPH_men_non_recidivists = predPH_y[(test_y=='No') & (test_X[\"V1_sexe_Home\"]==1)]\n",
    "predPH_women_non_recidivists = predPH_y[(test_y=='No') & (test_X[\"V1_sexe_Dona\"]==1)]\n",
    "\n",
    "print(\"Average predicted probability of men non-recidivist: %.2f\" %\n",
    "      (predPH_men_non_recidivists.sum() / len(predPH_men_non_recidivists)))\n",
    "       \n",
    "print(\"Average predicted probability of women non-recidivist: %.2f\" % \n",
    "      (predPH_women_non_recidivists.sum() / len(predPH_women_non_recidivists)))"
   ]
  },
  {
   "cell_type": "code",
   "execution_count": 42,
   "metadata": {},
   "outputs": [
    {
     "data": {
      "image/png": "[encoded data removed]",
      "text/plain": [
       "<Figure size 720x432 with 1 Axes>"
      ]
     },
     "metadata": {
      "needs_background": "light"
     },
     "output_type": "display_data"
    }
   ],
   "source": [
    "compare_histograms(predPH_men_non_recidivists, predPH_women_non_recidivists,\n",
    "                   \"Non-recidivists overall prediction\",\n",
    "                   label1=\"Men\", label2=\"Women\")"
   ]
  },
  {
   "cell_type": "code",
   "execution_count": 43,
   "metadata": {},
   "outputs": [
    {
     "name": "stdout",
     "output_type": "stream",
     "text": [
      "Average predicted probability of national non-recidivist: 0.35\n",
      "Average predicted probability of foreigner non-recidivist: 0.45\n"
     ]
    }
   ],
   "source": [
    "predPH_nationals_non_recidivists = predPH_y[(test_y=='No') & (test_X[\"V2_estranger_Espanyol\"]==1)]\n",
    "predPH_foreigners_non_recidivists = predPH_y[(test_y=='No') & (test_X[\"V2_estranger_Estranger\"]==1)]\n",
    "\n",
    "print(\"Average predicted probability of national non-recidivist: %.2f\" %\n",
    "      (predPH_nationals_non_recidivists.sum() / len(predPH_nationals_non_recidivists)))\n",
    "       \n",
    "print(\"Average predicted probability of foreigner non-recidivist: %.2f\" % \n",
    "      (predPH_foreigners_non_recidivists.sum() / len(predPH_foreigners_non_recidivists)))"
   ]
  },
  {
   "cell_type": "code",
   "execution_count": 44,
   "metadata": {},
   "outputs": [
    {
     "data": {
      "image/png": "[encoded data removed]",
      "text/plain": [
       "<Figure size 720x432 with 1 Axes>"
      ]
     },
     "metadata": {
      "needs_background": "light"
     },
     "output_type": "display_data"
    }
   ],
   "source": [
    "compare_histograms(predPH_nationals_non_recidivists, predPH_foreigners_non_recidivists,\n",
    "                   \"Non-recidivists overall prediction\",\n",
    "                   label1=\"Nationals\", label2=\"Foreigners\")"
   ]
  },
  {
   "cell_type": "markdown",
   "metadata": {},
   "source": [
    "# Exercise 1\n",
    "\n",
    "1. Use different machine learning models (SVM, Random Forests, etc.) to check if you can increase the performance of the logistic regression model. \n",
    "2. Check if they satisfy the proposed fairness criteria. \n",
    "3. Compare several fairness criteria, such as Demographic Parity, Equal Opportunity, Equalized Odds, and Conditional Demographic Parity. \n",
    "\n",
    "### Questions (justify your answers)\n",
    "\n",
    "1. Is there a method that can achieve better predictive power than human experts? \n",
    "\n",
    "\n",
    "2. Is this method better than human experts in terms of fairness?\n",
    "\n",
    "\n",
    "3. Which is the most suited fairness criterium for this problem? Why?\n",
    "\n",
    "\n",
    "4. What are your conclusion about the use of a ML model to predict recividism?\n",
    "\n"
   ]
  },
  {
   "cell_type": "markdown",
   "metadata": {},
   "source": [
    "#### Solution"
   ]
  },
  {
   "cell_type": "markdown",
   "metadata": {},
   "source": [
    "**1. Use different machine learning models (SVM, Random Forests, etc.) to check if you can increase the performance of the logistic regression model.**"
   ]
  },
  {
   "cell_type": "code",
   "execution_count": 45,
   "metadata": {},
   "outputs": [],
   "source": [
    "from sklearn.svm import SVC\n",
    "from sklearn.neighbors import KNeighborsClassifier\n",
    "from sklearn.tree import DecisionTreeClassifier\n",
    "from sklearn.ensemble import RandomForestClassifier\n",
    "from sklearn.gaussian_process import GaussianProcessClassifier\n",
    "from sklearn.gaussian_process.kernels import Matern\n",
    "from sklearn.ensemble import AdaBoostClassifier\n",
    "from sklearn.naive_bayes import GaussianNB\n",
    "from sklearn.linear_model import SGDClassifier\n",
    "\n",
    "import random\n",
    "\n",
    "random.seed(43)\n"
   ]
  },
  {
   "cell_type": "code",
   "execution_count": 46,
   "metadata": {},
   "outputs": [],
   "source": [
    "train, test = train_test_split(df, test_size=0.33)"
   ]
  },
  {
   "cell_type": "code",
   "execution_count": 47,
   "metadata": {},
   "outputs": [],
   "source": [
    "train_X = pd.get_dummies(train[factors])\n",
    "train_y = train[\"V115_reincidencia_2015\"]\n",
    "\n",
    "test_X = pd.get_dummies(test[factors])\n",
    "test_y = test[\"V115_reincidencia_2015\"]"
   ]
  },
  {
   "cell_type": "code",
   "execution_count": 50,
   "metadata": {
    "tags": []
   },
   "outputs": [
    {
     "name": "stderr",
     "output_type": "stream",
     "text": [
      "/Users/flaviaferrusmarimon/anaconda3/lib/python3.9/site-packages/sklearn/linear_model/_stochastic_gradient.py:173: FutureWarning: The loss 'log' was deprecated in v1.1 and will be removed in version 1.3. Use `loss='log_loss'` which is equivalent.\n",
      "  warnings.warn(\n"
     ]
    },
    {
     "data": {
      "text/plain": [
       "array(['No', 'Sí'], dtype='<U2')"
      ]
     },
     "execution_count": 50,
     "metadata": {},
     "output_type": "execute_result"
    }
   ],
   "source": [
    "models = [LogisticRegression(solver='liblinear'), SVC(probability=True), \n",
    "          ##KNeighborsClassifier(),\n",
    "          DecisionTreeClassifier(),\n",
    "          RandomForestClassifier(),GaussianProcessClassifier(kernel=Matern()),\n",
    "          AdaBoostClassifier(), GaussianNB(),  SGDClassifier(loss=\"log\")]\n",
    "names = [\"Logistic Regression\", \"Support Vector Machines\",\n",
    "         ##\"K-Neighbors\", \n",
    "         \"Decision Tree\",\n",
    "         \"Random Forest\", \"Gaussian Process\",\n",
    "         \"Ada Boost\", \"Gaussian Naive Bayes\", \"SGD\"]\n",
    "\n",
    "probabilities = {}\n",
    "\n",
    "for model, name in zip(models, names):\n",
    "    model.fit(train_X, train_y)\n",
    "    probabilities[name] = model.predict_proba(test_X)[:,1] #store the probability of recividism\n",
    "    \n",
    "model.classes_\n"
   ]
  },
  {
   "cell_type": "code",
   "execution_count": 54,
   "metadata": {},
   "outputs": [],
   "source": [
    "#probabilities "
   ]
  },
  {
   "cell_type": "code",
   "execution_count": 52,
   "metadata": {},
   "outputs": [
    {
     "data": {
      "image/png": "[encoded data removed]",
      "text/plain": [
       "<Figure size 864x648 with 8 Axes>"
      ]
     },
     "metadata": {
      "needs_background": "light"
     },
     "output_type": "display_data"
    }
   ],
   "source": [
    "plt.figure(figsize=(12,9))\n",
    "for i in range(1,9):\n",
    "    fpr, tpr, thresholds = roc_curve(test_y, probabilities[names[i-1]], pos_label=\"Sí\")\n",
    "    roc_auc = auc(fpr, tpr)\n",
    "    plt.subplot(int(str(33)+str(i)))\n",
    "    lw = 2\n",
    "    plt.plot(fpr, tpr, color='darkorange',\n",
    "             lw=lw, label='ROC curve (AUC = %0.2f)' % roc_auc)\n",
    "    plt.plot([0, 1], [0, 1], color='navy', lw=lw, linestyle='--')\n",
    "    plt.xlim([0.0, 1.0])\n",
    "    plt.ylim([0.0, 1.05])\n",
    "    plt.xlabel('False Positive Rate')\n",
    "    plt.ylabel('True Positive Rate')\n",
    "    plt.title(names[i-1]+\" ROC curve\")\n",
    "    plt.legend(loc=\"lower right\")\n",
    "    plt.tight_layout()\n",
    "plt.show()"
   ]
  },
  {
   "cell_type": "markdown",
   "metadata": {},
   "source": [
    "Hyperparameter selection\n",
    "\n",
    "For each model and fixed test data I tried different hyperparameters. For example:\n",
    "* Gaussian Process- Tried different kernels (RBF, WhiteKernel, DotProduct, Matern, RationalQuadratic). Final selection: Matern.\n",
    "\n",
    "I could have used a cross-validation hyperparameter selection but it took too long in my computer and I achieved quite nice results by manual tunning.\n",
    "The maximum AUC that I obtained was over 0.71-0.72 with Support Vector Machines or Gaussian Process classifier. The final model:"
   ]
  },
  {
   "cell_type": "code",
   "execution_count": 55,
   "metadata": {},
   "outputs": [],
   "source": [
    "model = SVC(probability=True)\n",
    "model.fit(train_X, train_y)\n",
    "test_prob = model.predict_proba(test_X)[:,1] #probability of recividate\n",
    "test_yhat = model.predict(test_X)"
   ]
  },
  {
   "cell_type": "markdown",
   "metadata": {},
   "source": [
    "**2. Check if they satisfy the proposed fairness criteria.**"
   ]
  },
  {
   "cell_type": "markdown",
   "metadata": {},
   "source": [
    "Our fairness criteria is equality of error rates. So, we will inspect the confusion matrix for each of our groups and focus on the cells corresponding to type I errors (false positives) and type II errors (false negatives).\n",
    "\n",
    "Here, we use the default threshold provided by sklearn (0.5) to classify instances into recividists/non-recividists. "
   ]
  },
  {
   "cell_type": "code",
   "execution_count": 163,
   "metadata": {},
   "outputs": [
    {
     "data": {
      "image/png": "[encoded data removed]",
      "text/plain": [
       "<Figure size 1080x432 with 4 Axes>"
      ]
     },
     "metadata": {
      "needs_background": "light"
     },
     "output_type": "display_data"
    }
   ],
   "source": [
    "from sklearn.metrics import confusion_matrix\n",
    "import seaborn as sns\n",
    "\n",
    "\n",
    "#Generate the confusion matrix\n",
    "test_yhat_men =  test_yhat[test_X[\"V1_sexe_Home\"]==1]\n",
    "test_y_men =  test_y[test_X[\"V1_sexe_Home\"]==1]\n",
    "cf_matrix_men = confusion_matrix(test_y_men, test_yhat_men)\n",
    "\n",
    "test_yhat_women =  test_yhat[test_X[\"V1_sexe_Dona\"]==1]\n",
    "test_y_women =  test_y[test_X[\"V1_sexe_Dona\"]==1]\n",
    "cf_matrix_women = confusion_matrix(test_y_women, test_yhat_women)\n",
    "\n",
    "fig, ax = plt.subplots(1,2, figsize=(15, 6))\n",
    "\n",
    "sns.heatmap(cf_matrix_men, annot=True, cmap='Blues', ax = ax[0])\n",
    "\n",
    "ax[0].set_title('Man Confusion Matrix\\n\\n');\n",
    "ax[0].set_xlabel('\\nPredicted Values')\n",
    "ax[0].set_ylabel('Actual Values ');\n",
    "\n",
    "## Ticket labels - List must be in alphabetical order\n",
    "ax[0].xaxis.set_ticklabels(['No','Sí'])\n",
    "ax[0].yaxis.set_ticklabels(['No','Sí'])\n",
    "\n",
    "sns.heatmap(cf_matrix_women, annot=True, cmap='Blues', ax = ax[1])\n",
    "\n",
    "ax[1].set_title('Women Confusion Matrix\\n\\n');\n",
    "ax[1].set_xlabel('\\nPredicted Values')\n",
    "ax[1].set_ylabel('Actual Values ');\n",
    "\n",
    "## Ticket labels - List must be in alphabetical order\n",
    "ax[1].xaxis.set_ticklabels(['No','Sí'])\n",
    "ax[1].yaxis.set_ticklabels(['No','Sí'])\n",
    "\n",
    "## Display the visualization of the Confusion Matrix.\n",
    "plt.show()"
   ]
  },
  {
   "cell_type": "markdown",
   "metadata": {},
   "source": [
    "As the number of samples per group is not balanced, we can take a look at the false positive/negative rates for each of the groups to get a better idea of our fairness criteria."
   ]
  },
  {
   "cell_type": "code",
   "execution_count": 164,
   "metadata": {},
   "outputs": [
    {
     "name": "stdout",
     "output_type": "stream",
     "text": [
      "=================================================================\n",
      "              Fairness Analsis for Logistic Regression              \n",
      "=================================================================\n"
     ]
    },
    {
     "data": {
      "text/html": [
       "<div>\n",
       "<style scoped>\n",
       "    .dataframe tbody tr th:only-of-type {\n",
       "        vertical-align: middle;\n",
       "    }\n",
       "\n",
       "    .dataframe tbody tr th {\n",
       "        vertical-align: top;\n",
       "    }\n",
       "\n",
       "    .dataframe thead th {\n",
       "        text-align: right;\n",
       "    }\n",
       "</style>\n",
       "<table border=\"1\" class=\"dataframe\">\n",
       "  <thead>\n",
       "    <tr style=\"text-align: right;\">\n",
       "      <th></th>\n",
       "      <th>FPR</th>\n",
       "      <th>FNR</th>\n",
       "    </tr>\n",
       "  </thead>\n",
       "  <tbody>\n",
       "    <tr>\n",
       "      <th>Men</th>\n",
       "      <td>0.243243</td>\n",
       "      <td>0.481481</td>\n",
       "    </tr>\n",
       "    <tr>\n",
       "      <th>Women</th>\n",
       "      <td>0.190476</td>\n",
       "      <td>1.000000</td>\n",
       "    </tr>\n",
       "  </tbody>\n",
       "</table>\n",
       "</div>"
      ],
      "text/plain": [
       "            FPR       FNR\n",
       "Men    0.243243  0.481481\n",
       "Women  0.190476  1.000000"
      ]
     },
     "metadata": {},
     "output_type": "display_data"
    },
    {
     "name": "stdout",
     "output_type": "stream",
     "text": [
      "=================================================================\n",
      "              Fairness Analsis for Support Vector Machines              \n",
      "=================================================================\n"
     ]
    },
    {
     "data": {
      "text/html": [
       "<div>\n",
       "<style scoped>\n",
       "    .dataframe tbody tr th:only-of-type {\n",
       "        vertical-align: middle;\n",
       "    }\n",
       "\n",
       "    .dataframe tbody tr th {\n",
       "        vertical-align: top;\n",
       "    }\n",
       "\n",
       "    .dataframe thead th {\n",
       "        text-align: right;\n",
       "    }\n",
       "</style>\n",
       "<table border=\"1\" class=\"dataframe\">\n",
       "  <thead>\n",
       "    <tr style=\"text-align: right;\">\n",
       "      <th></th>\n",
       "      <th>FPR</th>\n",
       "      <th>FNR</th>\n",
       "    </tr>\n",
       "  </thead>\n",
       "  <tbody>\n",
       "    <tr>\n",
       "      <th>Men</th>\n",
       "      <td>0.225225</td>\n",
       "      <td>0.592593</td>\n",
       "    </tr>\n",
       "    <tr>\n",
       "      <th>Women</th>\n",
       "      <td>0.142857</td>\n",
       "      <td>1.000000</td>\n",
       "    </tr>\n",
       "  </tbody>\n",
       "</table>\n",
       "</div>"
      ],
      "text/plain": [
       "            FPR       FNR\n",
       "Men    0.225225  0.592593\n",
       "Women  0.142857  1.000000"
      ]
     },
     "metadata": {},
     "output_type": "display_data"
    },
    {
     "name": "stdout",
     "output_type": "stream",
     "text": [
      "=================================================================\n",
      "              Fairness Analsis for K-Neighbors              \n",
      "=================================================================\n"
     ]
    },
    {
     "data": {
      "text/html": [
       "<div>\n",
       "<style scoped>\n",
       "    .dataframe tbody tr th:only-of-type {\n",
       "        vertical-align: middle;\n",
       "    }\n",
       "\n",
       "    .dataframe tbody tr th {\n",
       "        vertical-align: top;\n",
       "    }\n",
       "\n",
       "    .dataframe thead th {\n",
       "        text-align: right;\n",
       "    }\n",
       "</style>\n",
       "<table border=\"1\" class=\"dataframe\">\n",
       "  <thead>\n",
       "    <tr style=\"text-align: right;\">\n",
       "      <th></th>\n",
       "      <th>FPR</th>\n",
       "      <th>FNR</th>\n",
       "    </tr>\n",
       "  </thead>\n",
       "  <tbody>\n",
       "    <tr>\n",
       "      <th>Men</th>\n",
       "      <td>0.306306</td>\n",
       "      <td>0.54321</td>\n",
       "    </tr>\n",
       "    <tr>\n",
       "      <th>Women</th>\n",
       "      <td>0.285714</td>\n",
       "      <td>1.00000</td>\n",
       "    </tr>\n",
       "  </tbody>\n",
       "</table>\n",
       "</div>"
      ],
      "text/plain": [
       "            FPR      FNR\n",
       "Men    0.306306  0.54321\n",
       "Women  0.285714  1.00000"
      ]
     },
     "metadata": {},
     "output_type": "display_data"
    },
    {
     "name": "stdout",
     "output_type": "stream",
     "text": [
      "=================================================================\n",
      "              Fairness Analsis for Decision Tree              \n",
      "=================================================================\n"
     ]
    },
    {
     "data": {
      "text/html": [
       "<div>\n",
       "<style scoped>\n",
       "    .dataframe tbody tr th:only-of-type {\n",
       "        vertical-align: middle;\n",
       "    }\n",
       "\n",
       "    .dataframe tbody tr th {\n",
       "        vertical-align: top;\n",
       "    }\n",
       "\n",
       "    .dataframe thead th {\n",
       "        text-align: right;\n",
       "    }\n",
       "</style>\n",
       "<table border=\"1\" class=\"dataframe\">\n",
       "  <thead>\n",
       "    <tr style=\"text-align: right;\">\n",
       "      <th></th>\n",
       "      <th>FPR</th>\n",
       "      <th>FNR</th>\n",
       "    </tr>\n",
       "  </thead>\n",
       "  <tbody>\n",
       "    <tr>\n",
       "      <th>Men</th>\n",
       "      <td>0.441441</td>\n",
       "      <td>0.432099</td>\n",
       "    </tr>\n",
       "    <tr>\n",
       "      <th>Women</th>\n",
       "      <td>0.523810</td>\n",
       "      <td>0.500000</td>\n",
       "    </tr>\n",
       "  </tbody>\n",
       "</table>\n",
       "</div>"
      ],
      "text/plain": [
       "            FPR       FNR\n",
       "Men    0.441441  0.432099\n",
       "Women  0.523810  0.500000"
      ]
     },
     "metadata": {},
     "output_type": "display_data"
    },
    {
     "name": "stdout",
     "output_type": "stream",
     "text": [
      "=================================================================\n",
      "              Fairness Analsis for Random Forest              \n",
      "=================================================================\n"
     ]
    },
    {
     "data": {
      "text/html": [
       "<div>\n",
       "<style scoped>\n",
       "    .dataframe tbody tr th:only-of-type {\n",
       "        vertical-align: middle;\n",
       "    }\n",
       "\n",
       "    .dataframe tbody tr th {\n",
       "        vertical-align: top;\n",
       "    }\n",
       "\n",
       "    .dataframe thead th {\n",
       "        text-align: right;\n",
       "    }\n",
       "</style>\n",
       "<table border=\"1\" class=\"dataframe\">\n",
       "  <thead>\n",
       "    <tr style=\"text-align: right;\">\n",
       "      <th></th>\n",
       "      <th>FPR</th>\n",
       "      <th>FNR</th>\n",
       "    </tr>\n",
       "  </thead>\n",
       "  <tbody>\n",
       "    <tr>\n",
       "      <th>Men</th>\n",
       "      <td>0.360360</td>\n",
       "      <td>0.481481</td>\n",
       "    </tr>\n",
       "    <tr>\n",
       "      <th>Women</th>\n",
       "      <td>0.238095</td>\n",
       "      <td>0.500000</td>\n",
       "    </tr>\n",
       "  </tbody>\n",
       "</table>\n",
       "</div>"
      ],
      "text/plain": [
       "            FPR       FNR\n",
       "Men    0.360360  0.481481\n",
       "Women  0.238095  0.500000"
      ]
     },
     "metadata": {},
     "output_type": "display_data"
    },
    {
     "name": "stdout",
     "output_type": "stream",
     "text": [
      "=================================================================\n",
      "              Fairness Analsis for Gaussian Process              \n",
      "=================================================================\n"
     ]
    },
    {
     "data": {
      "text/html": [
       "<div>\n",
       "<style scoped>\n",
       "    .dataframe tbody tr th:only-of-type {\n",
       "        vertical-align: middle;\n",
       "    }\n",
       "\n",
       "    .dataframe tbody tr th {\n",
       "        vertical-align: top;\n",
       "    }\n",
       "\n",
       "    .dataframe thead th {\n",
       "        text-align: right;\n",
       "    }\n",
       "</style>\n",
       "<table border=\"1\" class=\"dataframe\">\n",
       "  <thead>\n",
       "    <tr style=\"text-align: right;\">\n",
       "      <th></th>\n",
       "      <th>FPR</th>\n",
       "      <th>FNR</th>\n",
       "    </tr>\n",
       "  </thead>\n",
       "  <tbody>\n",
       "    <tr>\n",
       "      <th>Men</th>\n",
       "      <td>0.243243</td>\n",
       "      <td>0.580247</td>\n",
       "    </tr>\n",
       "    <tr>\n",
       "      <th>Women</th>\n",
       "      <td>0.190476</td>\n",
       "      <td>1.000000</td>\n",
       "    </tr>\n",
       "  </tbody>\n",
       "</table>\n",
       "</div>"
      ],
      "text/plain": [
       "            FPR       FNR\n",
       "Men    0.243243  0.580247\n",
       "Women  0.190476  1.000000"
      ]
     },
     "metadata": {},
     "output_type": "display_data"
    },
    {
     "name": "stdout",
     "output_type": "stream",
     "text": [
      "=================================================================\n",
      "              Fairness Analsis for Ada Boost              \n",
      "=================================================================\n"
     ]
    },
    {
     "data": {
      "text/html": [
       "<div>\n",
       "<style scoped>\n",
       "    .dataframe tbody tr th:only-of-type {\n",
       "        vertical-align: middle;\n",
       "    }\n",
       "\n",
       "    .dataframe tbody tr th {\n",
       "        vertical-align: top;\n",
       "    }\n",
       "\n",
       "    .dataframe thead th {\n",
       "        text-align: right;\n",
       "    }\n",
       "</style>\n",
       "<table border=\"1\" class=\"dataframe\">\n",
       "  <thead>\n",
       "    <tr style=\"text-align: right;\">\n",
       "      <th></th>\n",
       "      <th>FPR</th>\n",
       "      <th>FNR</th>\n",
       "    </tr>\n",
       "  </thead>\n",
       "  <tbody>\n",
       "    <tr>\n",
       "      <th>Men</th>\n",
       "      <td>0.297297</td>\n",
       "      <td>0.469136</td>\n",
       "    </tr>\n",
       "    <tr>\n",
       "      <th>Women</th>\n",
       "      <td>0.142857</td>\n",
       "      <td>1.000000</td>\n",
       "    </tr>\n",
       "  </tbody>\n",
       "</table>\n",
       "</div>"
      ],
      "text/plain": [
       "            FPR       FNR\n",
       "Men    0.297297  0.469136\n",
       "Women  0.142857  1.000000"
      ]
     },
     "metadata": {},
     "output_type": "display_data"
    },
    {
     "name": "stdout",
     "output_type": "stream",
     "text": [
      "=================================================================\n",
      "              Fairness Analsis for Gaussian Naive Bayes              \n",
      "=================================================================\n"
     ]
    },
    {
     "data": {
      "text/html": [
       "<div>\n",
       "<style scoped>\n",
       "    .dataframe tbody tr th:only-of-type {\n",
       "        vertical-align: middle;\n",
       "    }\n",
       "\n",
       "    .dataframe tbody tr th {\n",
       "        vertical-align: top;\n",
       "    }\n",
       "\n",
       "    .dataframe thead th {\n",
       "        text-align: right;\n",
       "    }\n",
       "</style>\n",
       "<table border=\"1\" class=\"dataframe\">\n",
       "  <thead>\n",
       "    <tr style=\"text-align: right;\">\n",
       "      <th></th>\n",
       "      <th>FPR</th>\n",
       "      <th>FNR</th>\n",
       "    </tr>\n",
       "  </thead>\n",
       "  <tbody>\n",
       "    <tr>\n",
       "      <th>Men</th>\n",
       "      <td>0.342342</td>\n",
       "      <td>0.432099</td>\n",
       "    </tr>\n",
       "    <tr>\n",
       "      <th>Women</th>\n",
       "      <td>0.095238</td>\n",
       "      <td>0.500000</td>\n",
       "    </tr>\n",
       "  </tbody>\n",
       "</table>\n",
       "</div>"
      ],
      "text/plain": [
       "            FPR       FNR\n",
       "Men    0.342342  0.432099\n",
       "Women  0.095238  0.500000"
      ]
     },
     "metadata": {},
     "output_type": "display_data"
    },
    {
     "name": "stdout",
     "output_type": "stream",
     "text": [
      "=================================================================\n",
      "              Fairness Analsis for SGD              \n",
      "=================================================================\n"
     ]
    },
    {
     "data": {
      "text/html": [
       "<div>\n",
       "<style scoped>\n",
       "    .dataframe tbody tr th:only-of-type {\n",
       "        vertical-align: middle;\n",
       "    }\n",
       "\n",
       "    .dataframe tbody tr th {\n",
       "        vertical-align: top;\n",
       "    }\n",
       "\n",
       "    .dataframe thead th {\n",
       "        text-align: right;\n",
       "    }\n",
       "</style>\n",
       "<table border=\"1\" class=\"dataframe\">\n",
       "  <thead>\n",
       "    <tr style=\"text-align: right;\">\n",
       "      <th></th>\n",
       "      <th>FPR</th>\n",
       "      <th>FNR</th>\n",
       "    </tr>\n",
       "  </thead>\n",
       "  <tbody>\n",
       "    <tr>\n",
       "      <th>Men</th>\n",
       "      <td>0.018018</td>\n",
       "      <td>0.91358</td>\n",
       "    </tr>\n",
       "    <tr>\n",
       "      <th>Women</th>\n",
       "      <td>0.000000</td>\n",
       "      <td>1.00000</td>\n",
       "    </tr>\n",
       "  </tbody>\n",
       "</table>\n",
       "</div>"
      ],
      "text/plain": [
       "            FPR      FNR\n",
       "Men    0.018018  0.91358\n",
       "Women  0.000000  1.00000"
      ]
     },
     "metadata": {},
     "output_type": "display_data"
    }
   ],
   "source": [
    "for name, model in zip(names, models):\n",
    "    print(\"=================================================================\")\n",
    "    print(\"              Fairness Analsis for {}              \".format(name))\n",
    "    print(\"=================================================================\")\n",
    "    model.fit(train_X, train_y)\n",
    "    test_prob = model.predict_proba(test_X)[:,1] #probability of recividate\n",
    "    test_yhat = model.predict(test_X)\n",
    "\n",
    "    FP = len(test_yhat[(test_X[\"V1_sexe_Home\"]==1)&(test_y=='No')&(test_yhat=='Sí')])\n",
    "    TP = len(test_yhat[(test_X[\"V1_sexe_Home\"]==1)&(test_y=='Sí')&(test_yhat=='Sí')])\n",
    "    FN = len(test_yhat[(test_X[\"V1_sexe_Home\"]==1)&(test_y=='Sí')&(test_yhat=='No')])\n",
    "    TN = len(test_yhat[(test_X[\"V1_sexe_Home\"]==1)&(test_y=='No')&(test_yhat=='No')])\n",
    "\n",
    "    cf_matrix_1 = np.array([[TN, FP], [FN, TP]]).reshape(2,2)\n",
    "    FPR_man = FP / (FP+TN)\n",
    "    FNR_man = FN / (FN+TP)\n",
    "\n",
    "    FP = len(test_yhat[(test_X[\"V1_sexe_Dona\"]==1)&(test_y=='No')&(test_yhat=='Sí')])\n",
    "    TP = len(test_yhat[(test_X[\"V1_sexe_Dona\"]==1)&(test_y=='Sí')&(test_yhat=='Sí')])\n",
    "    FN = len(test_yhat[(test_X[\"V1_sexe_Dona\"]==1)&(test_y=='Sí')&(test_yhat=='No')])\n",
    "    TN = len(test_yhat[(test_X[\"V1_sexe_Dona\"]==1)&(test_y=='No')&(test_yhat=='No')])\n",
    "\n",
    "    cf_matrix_1 = np.array([[TN, FP], [FN, TP]]).reshape(2,2)\n",
    "    FPR_women = FP / (FP+TN)\n",
    "    FNR_women = FN / (FN+TP)\n",
    "\n",
    "    index = [\"Men\", \"Women\"]\n",
    "    metrics = [\"FPR\", \"FNR\"]\n",
    "    data = [[FPR_man,FNR_man], [FPR_women, FNR_women]]\n",
    "    display(pd.DataFrame(data, index=index, columns = metrics))"
   ]
  },
  {
   "cell_type": "markdown",
   "metadata": {},
   "source": [
    "SVMs and Gaussian Process Classifiers are the best in terms of fairness."
   ]
  },
  {
   "cell_type": "code",
   "execution_count": 165,
   "metadata": {},
   "outputs": [
    {
     "name": "stdout",
     "output_type": "stream",
     "text": [
      "=================================================================\n",
      "              Fairness Analsis for Logistic Regression              \n",
      "=================================================================\n"
     ]
    },
    {
     "data": {
      "text/html": [
       "<div>\n",
       "<style scoped>\n",
       "    .dataframe tbody tr th:only-of-type {\n",
       "        vertical-align: middle;\n",
       "    }\n",
       "\n",
       "    .dataframe tbody tr th {\n",
       "        vertical-align: top;\n",
       "    }\n",
       "\n",
       "    .dataframe thead th {\n",
       "        text-align: right;\n",
       "    }\n",
       "</style>\n",
       "<table border=\"1\" class=\"dataframe\">\n",
       "  <thead>\n",
       "    <tr style=\"text-align: right;\">\n",
       "      <th></th>\n",
       "      <th>FPR</th>\n",
       "      <th>FNR</th>\n",
       "    </tr>\n",
       "  </thead>\n",
       "  <tbody>\n",
       "    <tr>\n",
       "      <th>Spanish</th>\n",
       "      <td>0.144737</td>\n",
       "      <td>0.684211</td>\n",
       "    </tr>\n",
       "    <tr>\n",
       "      <th>Foreigner</th>\n",
       "      <td>0.357143</td>\n",
       "      <td>0.333333</td>\n",
       "    </tr>\n",
       "  </tbody>\n",
       "</table>\n",
       "</div>"
      ],
      "text/plain": [
       "                FPR       FNR\n",
       "Spanish    0.144737  0.684211\n",
       "Foreigner  0.357143  0.333333"
      ]
     },
     "metadata": {},
     "output_type": "display_data"
    },
    {
     "name": "stdout",
     "output_type": "stream",
     "text": [
      "=================================================================\n",
      "              Fairness Analsis for Support Vector Machines              \n",
      "=================================================================\n"
     ]
    },
    {
     "data": {
      "text/html": [
       "<div>\n",
       "<style scoped>\n",
       "    .dataframe tbody tr th:only-of-type {\n",
       "        vertical-align: middle;\n",
       "    }\n",
       "\n",
       "    .dataframe tbody tr th {\n",
       "        vertical-align: top;\n",
       "    }\n",
       "\n",
       "    .dataframe thead th {\n",
       "        text-align: right;\n",
       "    }\n",
       "</style>\n",
       "<table border=\"1\" class=\"dataframe\">\n",
       "  <thead>\n",
       "    <tr style=\"text-align: right;\">\n",
       "      <th></th>\n",
       "      <th>FPR</th>\n",
       "      <th>FNR</th>\n",
       "    </tr>\n",
       "  </thead>\n",
       "  <tbody>\n",
       "    <tr>\n",
       "      <th>Spanish</th>\n",
       "      <td>0.157895</td>\n",
       "      <td>0.736842</td>\n",
       "    </tr>\n",
       "    <tr>\n",
       "      <th>Foreigner</th>\n",
       "      <td>0.285714</td>\n",
       "      <td>0.488889</td>\n",
       "    </tr>\n",
       "  </tbody>\n",
       "</table>\n",
       "</div>"
      ],
      "text/plain": [
       "                FPR       FNR\n",
       "Spanish    0.157895  0.736842\n",
       "Foreigner  0.285714  0.488889"
      ]
     },
     "metadata": {},
     "output_type": "display_data"
    },
    {
     "name": "stdout",
     "output_type": "stream",
     "text": [
      "=================================================================\n",
      "              Fairness Analsis for K-Neighbors              \n",
      "=================================================================\n"
     ]
    },
    {
     "data": {
      "text/html": [
       "<div>\n",
       "<style scoped>\n",
       "    .dataframe tbody tr th:only-of-type {\n",
       "        vertical-align: middle;\n",
       "    }\n",
       "\n",
       "    .dataframe tbody tr th {\n",
       "        vertical-align: top;\n",
       "    }\n",
       "\n",
       "    .dataframe thead th {\n",
       "        text-align: right;\n",
       "    }\n",
       "</style>\n",
       "<table border=\"1\" class=\"dataframe\">\n",
       "  <thead>\n",
       "    <tr style=\"text-align: right;\">\n",
       "      <th></th>\n",
       "      <th>FPR</th>\n",
       "      <th>FNR</th>\n",
       "    </tr>\n",
       "  </thead>\n",
       "  <tbody>\n",
       "    <tr>\n",
       "      <th>Spanish</th>\n",
       "      <td>0.328947</td>\n",
       "      <td>0.684211</td>\n",
       "    </tr>\n",
       "    <tr>\n",
       "      <th>Foreigner</th>\n",
       "      <td>0.267857</td>\n",
       "      <td>0.444444</td>\n",
       "    </tr>\n",
       "  </tbody>\n",
       "</table>\n",
       "</div>"
      ],
      "text/plain": [
       "                FPR       FNR\n",
       "Spanish    0.328947  0.684211\n",
       "Foreigner  0.267857  0.444444"
      ]
     },
     "metadata": {},
     "output_type": "display_data"
    },
    {
     "name": "stdout",
     "output_type": "stream",
     "text": [
      "=================================================================\n",
      "              Fairness Analsis for Decision Tree              \n",
      "=================================================================\n"
     ]
    },
    {
     "data": {
      "text/html": [
       "<div>\n",
       "<style scoped>\n",
       "    .dataframe tbody tr th:only-of-type {\n",
       "        vertical-align: middle;\n",
       "    }\n",
       "\n",
       "    .dataframe tbody tr th {\n",
       "        vertical-align: top;\n",
       "    }\n",
       "\n",
       "    .dataframe thead th {\n",
       "        text-align: right;\n",
       "    }\n",
       "</style>\n",
       "<table border=\"1\" class=\"dataframe\">\n",
       "  <thead>\n",
       "    <tr style=\"text-align: right;\">\n",
       "      <th></th>\n",
       "      <th>FPR</th>\n",
       "      <th>FNR</th>\n",
       "    </tr>\n",
       "  </thead>\n",
       "  <tbody>\n",
       "    <tr>\n",
       "      <th>Spanish</th>\n",
       "      <td>0.315789</td>\n",
       "      <td>0.500000</td>\n",
       "    </tr>\n",
       "    <tr>\n",
       "      <th>Foreigner</th>\n",
       "      <td>0.500000</td>\n",
       "      <td>0.333333</td>\n",
       "    </tr>\n",
       "  </tbody>\n",
       "</table>\n",
       "</div>"
      ],
      "text/plain": [
       "                FPR       FNR\n",
       "Spanish    0.315789  0.500000\n",
       "Foreigner  0.500000  0.333333"
      ]
     },
     "metadata": {},
     "output_type": "display_data"
    },
    {
     "name": "stdout",
     "output_type": "stream",
     "text": [
      "=================================================================\n",
      "              Fairness Analsis for Random Forest              \n",
      "=================================================================\n"
     ]
    },
    {
     "data": {
      "text/html": [
       "<div>\n",
       "<style scoped>\n",
       "    .dataframe tbody tr th:only-of-type {\n",
       "        vertical-align: middle;\n",
       "    }\n",
       "\n",
       "    .dataframe tbody tr th {\n",
       "        vertical-align: top;\n",
       "    }\n",
       "\n",
       "    .dataframe thead th {\n",
       "        text-align: right;\n",
       "    }\n",
       "</style>\n",
       "<table border=\"1\" class=\"dataframe\">\n",
       "  <thead>\n",
       "    <tr style=\"text-align: right;\">\n",
       "      <th></th>\n",
       "      <th>FPR</th>\n",
       "      <th>FNR</th>\n",
       "    </tr>\n",
       "  </thead>\n",
       "  <tbody>\n",
       "    <tr>\n",
       "      <th>Spanish</th>\n",
       "      <td>0.236842</td>\n",
       "      <td>0.684211</td>\n",
       "    </tr>\n",
       "    <tr>\n",
       "      <th>Foreigner</th>\n",
       "      <td>0.410714</td>\n",
       "      <td>0.311111</td>\n",
       "    </tr>\n",
       "  </tbody>\n",
       "</table>\n",
       "</div>"
      ],
      "text/plain": [
       "                FPR       FNR\n",
       "Spanish    0.236842  0.684211\n",
       "Foreigner  0.410714  0.311111"
      ]
     },
     "metadata": {},
     "output_type": "display_data"
    },
    {
     "name": "stdout",
     "output_type": "stream",
     "text": [
      "=================================================================\n",
      "              Fairness Analsis for Gaussian Process              \n",
      "=================================================================\n"
     ]
    },
    {
     "data": {
      "text/html": [
       "<div>\n",
       "<style scoped>\n",
       "    .dataframe tbody tr th:only-of-type {\n",
       "        vertical-align: middle;\n",
       "    }\n",
       "\n",
       "    .dataframe tbody tr th {\n",
       "        vertical-align: top;\n",
       "    }\n",
       "\n",
       "    .dataframe thead th {\n",
       "        text-align: right;\n",
       "    }\n",
       "</style>\n",
       "<table border=\"1\" class=\"dataframe\">\n",
       "  <thead>\n",
       "    <tr style=\"text-align: right;\">\n",
       "      <th></th>\n",
       "      <th>FPR</th>\n",
       "      <th>FNR</th>\n",
       "    </tr>\n",
       "  </thead>\n",
       "  <tbody>\n",
       "    <tr>\n",
       "      <th>Spanish</th>\n",
       "      <td>0.171053</td>\n",
       "      <td>0.736842</td>\n",
       "    </tr>\n",
       "    <tr>\n",
       "      <th>Foreigner</th>\n",
       "      <td>0.321429</td>\n",
       "      <td>0.466667</td>\n",
       "    </tr>\n",
       "  </tbody>\n",
       "</table>\n",
       "</div>"
      ],
      "text/plain": [
       "                FPR       FNR\n",
       "Spanish    0.171053  0.736842\n",
       "Foreigner  0.321429  0.466667"
      ]
     },
     "metadata": {},
     "output_type": "display_data"
    },
    {
     "name": "stdout",
     "output_type": "stream",
     "text": [
      "=================================================================\n",
      "              Fairness Analsis for Ada Boost              \n",
      "=================================================================\n"
     ]
    },
    {
     "data": {
      "text/html": [
       "<div>\n",
       "<style scoped>\n",
       "    .dataframe tbody tr th:only-of-type {\n",
       "        vertical-align: middle;\n",
       "    }\n",
       "\n",
       "    .dataframe tbody tr th {\n",
       "        vertical-align: top;\n",
       "    }\n",
       "\n",
       "    .dataframe thead th {\n",
       "        text-align: right;\n",
       "    }\n",
       "</style>\n",
       "<table border=\"1\" class=\"dataframe\">\n",
       "  <thead>\n",
       "    <tr style=\"text-align: right;\">\n",
       "      <th></th>\n",
       "      <th>FPR</th>\n",
       "      <th>FNR</th>\n",
       "    </tr>\n",
       "  </thead>\n",
       "  <tbody>\n",
       "    <tr>\n",
       "      <th>Spanish</th>\n",
       "      <td>0.223684</td>\n",
       "      <td>0.631579</td>\n",
       "    </tr>\n",
       "    <tr>\n",
       "      <th>Foreigner</th>\n",
       "      <td>0.339286</td>\n",
       "      <td>0.355556</td>\n",
       "    </tr>\n",
       "  </tbody>\n",
       "</table>\n",
       "</div>"
      ],
      "text/plain": [
       "                FPR       FNR\n",
       "Spanish    0.223684  0.631579\n",
       "Foreigner  0.339286  0.355556"
      ]
     },
     "metadata": {},
     "output_type": "display_data"
    },
    {
     "name": "stdout",
     "output_type": "stream",
     "text": [
      "=================================================================\n",
      "              Fairness Analsis for Gaussian Naive Bayes              \n",
      "=================================================================\n"
     ]
    },
    {
     "data": {
      "text/html": [
       "<div>\n",
       "<style scoped>\n",
       "    .dataframe tbody tr th:only-of-type {\n",
       "        vertical-align: middle;\n",
       "    }\n",
       "\n",
       "    .dataframe tbody tr th {\n",
       "        vertical-align: top;\n",
       "    }\n",
       "\n",
       "    .dataframe thead th {\n",
       "        text-align: right;\n",
       "    }\n",
       "</style>\n",
       "<table border=\"1\" class=\"dataframe\">\n",
       "  <thead>\n",
       "    <tr style=\"text-align: right;\">\n",
       "      <th></th>\n",
       "      <th>FPR</th>\n",
       "      <th>FNR</th>\n",
       "    </tr>\n",
       "  </thead>\n",
       "  <tbody>\n",
       "    <tr>\n",
       "      <th>Spanish</th>\n",
       "      <td>0.263158</td>\n",
       "      <td>0.552632</td>\n",
       "    </tr>\n",
       "    <tr>\n",
       "      <th>Foreigner</th>\n",
       "      <td>0.357143</td>\n",
       "      <td>0.333333</td>\n",
       "    </tr>\n",
       "  </tbody>\n",
       "</table>\n",
       "</div>"
      ],
      "text/plain": [
       "                FPR       FNR\n",
       "Spanish    0.263158  0.552632\n",
       "Foreigner  0.357143  0.333333"
      ]
     },
     "metadata": {},
     "output_type": "display_data"
    },
    {
     "name": "stdout",
     "output_type": "stream",
     "text": [
      "=================================================================\n",
      "              Fairness Analsis for SGD              \n",
      "=================================================================\n"
     ]
    },
    {
     "data": {
      "text/html": [
       "<div>\n",
       "<style scoped>\n",
       "    .dataframe tbody tr th:only-of-type {\n",
       "        vertical-align: middle;\n",
       "    }\n",
       "\n",
       "    .dataframe tbody tr th {\n",
       "        vertical-align: top;\n",
       "    }\n",
       "\n",
       "    .dataframe thead th {\n",
       "        text-align: right;\n",
       "    }\n",
       "</style>\n",
       "<table border=\"1\" class=\"dataframe\">\n",
       "  <thead>\n",
       "    <tr style=\"text-align: right;\">\n",
       "      <th></th>\n",
       "      <th>FPR</th>\n",
       "      <th>FNR</th>\n",
       "    </tr>\n",
       "  </thead>\n",
       "  <tbody>\n",
       "    <tr>\n",
       "      <th>Spanish</th>\n",
       "      <td>0.105263</td>\n",
       "      <td>0.842105</td>\n",
       "    </tr>\n",
       "    <tr>\n",
       "      <th>Foreigner</th>\n",
       "      <td>0.232143</td>\n",
       "      <td>0.600000</td>\n",
       "    </tr>\n",
       "  </tbody>\n",
       "</table>\n",
       "</div>"
      ],
      "text/plain": [
       "                FPR       FNR\n",
       "Spanish    0.105263  0.842105\n",
       "Foreigner  0.232143  0.600000"
      ]
     },
     "metadata": {},
     "output_type": "display_data"
    }
   ],
   "source": [
    "for name, model in zip(names, models):\n",
    "    print(\"=================================================================\")\n",
    "    print(\"              Fairness Analsis for {}              \".format(name))\n",
    "    print(\"=================================================================\")\n",
    "    model.fit(train_X, train_y)\n",
    "    test_prob = model.predict_proba(test_X)[:,1] #probability of recividate\n",
    "    test_yhat = model.predict(test_X)\n",
    "    \n",
    "    FP = len(test_yhat[(test_X[\"V2_estranger_Espanyol\"]==1)&(test_y=='No')&(test_yhat=='Sí')])\n",
    "    TP = len(test_yhat[(test_X[\"V2_estranger_Espanyol\"]==1)&(test_y=='Sí')&(test_yhat=='Sí')])\n",
    "    FN = len(test_yhat[(test_X[\"V2_estranger_Espanyol\"]==1)&(test_y=='Sí')&(test_yhat=='No')])\n",
    "    TN = len(test_yhat[(test_X[\"V2_estranger_Espanyol\"]==1)&(test_y=='No')&(test_yhat=='No')])\n",
    "\n",
    "    cf_matrix_1 = np.array([[TN, FP], [FN, TP]]).reshape(2,2)\n",
    "    FPR_spain = FP / (FP+TN)\n",
    "    FNR_spain = FN / (FN+TP)\n",
    "\n",
    "    FP = len(test_yhat[(test_X[\"V2_estranger_Estranger\"]==1)&(test_y=='No')&(test_yhat=='Sí')])\n",
    "    TP = len(test_yhat[(test_X[\"V2_estranger_Estranger\"]==1)&(test_y=='Sí')&(test_yhat=='Sí')])\n",
    "    FN = len(test_yhat[(test_X[\"V2_estranger_Estranger\"]==1)&(test_y=='Sí')&(test_yhat=='No')])\n",
    "    TN = len(test_yhat[(test_X[\"V2_estranger_Estranger\"]==1)&(test_y=='No')&(test_yhat=='No')])\n",
    "\n",
    "    cf_matrix_1 = np.array([[TN, FP], [FN, TP]]).reshape(2,2)\n",
    "    FPR_foreign = FP / (FP+TN)\n",
    "    FNR_foreign = FN / (FN+TP)\n",
    "\n",
    "    index = [\"Spanish\", \"Foreigner\"]\n",
    "    metrics = [\"FPR\", \"FNR\"]\n",
    "    data = [[FPR_spain,FNR_spain], [FPR_foreign, FNR_foreign]]\n",
    "    display(pd.DataFrame(data, index=index, columns = metrics))"
   ]
  },
  {
   "cell_type": "markdown",
   "metadata": {},
   "source": [
    "In most of the protected groups, all the error rates are significantly different, specially the False Positive Rate (non-recividists predicted as recidivists). For gender, the ML model tends to have a higher error rate in men and for nationality the model has a higher FNR a lower FPR for spanish defendants. "
   ]
  },
  {
   "cell_type": "markdown",
   "metadata": {},
   "source": [
    "3. Compare several fairness criteria, such as Demographic Parity, Equal Opportunity, Equalized Odds, and Conditional Demographic Parity."
   ]
  },
  {
   "cell_type": "markdown",
   "metadata": {},
   "source": [
    "For the purpose of simplicity, we disregard the fact that the positive outcome (recividism) is not favorable. We will anaylise the results in the light of the probability of recividating.\n",
    "\n",
    "First, I will compute step by step the metrics for the best AUC model."
   ]
  },
  {
   "cell_type": "code",
   "execution_count": 166,
   "metadata": {},
   "outputs": [],
   "source": [
    "best_model = SVC(probability=True)\n",
    "best_model.fit(train_X, train_y)\n",
    "best_test_prob = model.predict_proba(test_X)[:,1] #probability of recividate\n",
    "best_test_yhat = model.predict(test_X)"
   ]
  },
  {
   "cell_type": "markdown",
   "metadata": {},
   "source": [
    "* Demographic Parity\n",
    "\n",
    "The probabilities of a positive outcome are equal for the two groups. Mathematically:\n",
    "$$P(\\hat{Y}=Yes|X\\in G^+) \\sim P(\\hat{Y}=Yes|X\\in G^-)$$\n",
    "\n",
    "The probability of being predicted as recividist should be similar disregarding gender or origin.\n",
    "\n",
    "Applying Bayes Theorem we have that:\n",
    "$$P(\\hat{Y}=Yes|X\\in G^+) = \\frac{P(\\hat{Y}=Yes \\land X\\in G^+)}{P(X\\in G^+)} = \\frac{P(X\\in G^+|\\hat{Y}=Yes)P(\\hat{Y}=Yes)}{P(X\\in G^+)} $$"
   ]
  },
  {
   "cell_type": "code",
   "execution_count": 167,
   "metadata": {},
   "outputs": [
    {
     "name": "stdout",
     "output_type": "stream",
     "text": [
      "Probability of being predicted recivid given that it is a man: 0.224\n",
      "Probability of being predicted recivid given that it is a woman: 0.08696\n"
     ]
    }
   ],
   "source": [
    "prob_men = len(test_X[test_X[\"V1_sexe_Home\"]==1])/len(test_X)\n",
    "prob_women = len(test_X[test_X[\"V1_sexe_Dona\"]==1])/len(test_X)\n",
    "\n",
    "prob_recid = len(test_X[test_yhat=='Sí'])/len(test_X)\n",
    "prob_nonrecid = len(test_X[test_yhat=='No'])/len(test_X)\n",
    "\n",
    "pred_recid = test_X[test_yhat=='Sí']\n",
    "\n",
    "prob_men_given_pred_recid = len(pred_recid[pred_recid[\"V1_sexe_Home\"]==1])/len(pred_recid)\n",
    "prob_women_given_pred_recid = len(pred_recid[pred_recid[\"V1_sexe_Dona\"]==1])/len(pred_recid)\n",
    "\n",
    "#Applying bayes theorem...\n",
    "prob_pred_recid_given_men = (prob_men_given_pred_recid*prob_recid)/prob_men\n",
    "prob_pred_recid_given_women = (prob_women_given_pred_recid*prob_recid)/prob_women\n",
    "\n",
    "print(\"Probability of being predicted recivid given that it is a man: {:.4}\".format(prob_pred_recid_given_men))\n",
    "print(\"Probability of being predicted recivid given that it is a woman: {:.4}\".format(prob_pred_recid_given_women))\n"
   ]
  },
  {
   "cell_type": "code",
   "execution_count": 168,
   "metadata": {},
   "outputs": [
    {
     "name": "stdout",
     "output_type": "stream",
     "text": [
      "Probability of being predicted recivid given that it is a spanish: 0.1228\n",
      "Probability of being predicted recivid given that it is a foreigner: 0.3069\n"
     ]
    }
   ],
   "source": [
    "prob_spanish = len(test_X[test_X[\"V2_estranger_Espanyol\"]==1])/len(test_X)\n",
    "prob_foreigner = len(test_X[test_X[\"V2_estranger_Estranger\"]==1])/len(test_X)\n",
    "\n",
    "prob_spanish_given_pred_recid = len(pred_recid[pred_recid[\"V2_estranger_Espanyol\"]==1])/len(pred_recid)\n",
    "prob_foreigner_given_pred_recid = len(pred_recid[pred_recid[\"V2_estranger_Estranger\"]==1])/len(pred_recid)\n",
    "\n",
    "#Applying bayes theorem...\n",
    "prob_pred_recid_given_spanish = (prob_spanish_given_pred_recid*prob_recid)/prob_spanish\n",
    "prob_pred_recid_given_foreigner = (prob_foreigner_given_pred_recid*prob_recid)/prob_foreigner\n",
    "\n",
    "print(\"Probability of being predicted recivid given that it is a spanish: {:.4}\".format(prob_pred_recid_given_spanish))\n",
    "print(\"Probability of being predicted recivid given that it is a foreigner: {:.4}\".format(prob_pred_recid_given_foreigner))\n"
   ]
  },
  {
   "cell_type": "markdown",
   "metadata": {},
   "source": [
    "In both protected features, we encounter demographic disparity. There is a higher chance to be predicted as recividist given that you are a men or foreigner."
   ]
  },
  {
   "cell_type": "markdown",
   "metadata": {},
   "source": [
    "* Equal opportunity\n",
    "\n",
    "$$P(\\hat{Y}=Yes|Y=Yes, X\\in G^+) \\sim P(\\hat{Y}=Yes|Y=Yes, X\\in G^-)$$\n",
    "\n",
    "Again, using Bayes Theorem...\n",
    "\n",
    "$$P(\\hat{Y}=Yes|Y=Yes, X\\in G^+) =  \\frac{P(\\hat{Y}=Yes, Y=Yes, X\\in G^+)}{P(Y=Yes, X\\in G^+)}$$"
   ]
  },
  {
   "cell_type": "code",
   "execution_count": 169,
   "metadata": {},
   "outputs": [
    {
     "name": "stdout",
     "output_type": "stream",
     "text": [
      "Probability of being predicted recivid given that it is a true recividist man: 0.2963\n",
      "Probability of being predicted recivid given that it is a true recividist woman: 0.0\n"
     ]
    }
   ],
   "source": [
    "prob_pred_recid_actual_recid_man = len(test_X[(test_y=='Sí')&(test_X[\"V1_sexe_Home\"]==1)&(test_yhat=='Sí')])/len(test_X)\n",
    "prob_actual_recid_man = len(test_X[(test_y=='Sí')&(test_X[\"V1_sexe_Home\"]==1)])/len(test_X)\n",
    "\n",
    "prob_pred_recid_actual_recid_woman = len(test_X[(test_y=='Sí')&(test_X[\"V1_sexe_Dona\"]==1)&(test_yhat=='Sí')])/len(test_X)\n",
    "prob_actual_recid_woman = len(test_X[(test_y=='Sí')&(test_X[\"V1_sexe_Dona\"]==1)])/len(test_X)\n",
    "\n",
    "prob_pred_recid_given_actual_recid_man = prob_pred_recid_actual_recid_man / prob_actual_recid_man\n",
    "prob_pred_recid_given_actual_recid_woman = prob_pred_recid_actual_recid_woman / prob_actual_recid_woman\n",
    "\n",
    "\n",
    "print(\"Probability of being predicted recivid given that it is a true recividist man: {:.4}\".format(prob_pred_recid_given_actual_recid_man))\n",
    "print(\"Probability of being predicted recivid given that it is a true recividist woman: {:.4}\".format(prob_pred_recid_given_actual_recid_woman))\n",
    "\n"
   ]
  },
  {
   "cell_type": "code",
   "execution_count": 170,
   "metadata": {},
   "outputs": [
    {
     "name": "stdout",
     "output_type": "stream",
     "text": [
      "Probability of being predicted recivid given that it is a true recividist spanish: 0.1579\n",
      "Probability of being predicted recivid given that it is a true recividist foreigner: 0.4\n"
     ]
    }
   ],
   "source": [
    "prob_pred_recid_actual_recid_spanish = len(test_X[(test_y=='Sí')&(test_X[\"V2_estranger_Espanyol\"]==1)&(test_yhat=='Sí')])/len(test_X)\n",
    "prob_actual_recid_spanish = len(test_X[(test_y=='Sí')&(test_X[\"V2_estranger_Espanyol\"]==1)])/len(test_X)\n",
    "\n",
    "prob_pred_recid_actual_recid_foreigner = len(test_X[(test_y=='Sí')&(test_X[\"V2_estranger_Estranger\"]==1)&(test_yhat=='Sí')])/len(test_X)\n",
    "prob_actual_recid_foreigner = len(test_X[(test_y=='Sí')&(test_X[\"V2_estranger_Estranger\"]==1)])/len(test_X)\n",
    "\n",
    "prob_pred_recid_given_actual_recid_spanish = prob_pred_recid_actual_recid_spanish / prob_actual_recid_spanish\n",
    "prob_pred_recid_given_actual_recid_foreigner = prob_pred_recid_actual_recid_foreigner / prob_actual_recid_foreigner\n",
    "\n",
    "\n",
    "print(\"Probability of being predicted recivid given that it is a true recividist spanish: {:.4}\".format(prob_pred_recid_given_actual_recid_spanish))\n",
    "print(\"Probability of being predicted recivid given that it is a true recividist foreigner: {:.4}\".format(prob_pred_recid_given_actual_recid_foreigner))\n",
    "\n"
   ]
  },
  {
   "cell_type": "markdown",
   "metadata": {},
   "source": [
    "Again, there is no equal opportunity between groups as the difference between scores is significant."
   ]
  },
  {
   "cell_type": "markdown",
   "metadata": {},
   "source": [
    "* Equalized odds\n",
    "$$P(\\hat{Y}=Yes|Y=Yes, X\\in G^+) \\sim P(\\hat{Y}=Yes|Y=Yes, X\\in G^-)$$\n",
    "$$P(\\hat{Y}=Yes|Y=No, X\\in G^+) \\sim P(\\hat{Y}=Yes|Y=No, X\\in G^-)$$\n",
    "\n",
    "We have already confirmed that there is no equalized odds as the first condition is already violated (no equal opportunity). For completeness, let's compute the second condition:\n",
    "$$P(\\hat{Y}=Yes|Y=No, X\\in G^+) =  \\frac{P(\\hat{Y}=Yes, Y=No, X\\in G^+)}{P(Y=No, X\\in G^+)}$$"
   ]
  },
  {
   "cell_type": "code",
   "execution_count": 171,
   "metadata": {},
   "outputs": [
    {
     "name": "stdout",
     "output_type": "stream",
     "text": [
      "Probability of being predicted recivid given that it is a non-recividist man: 0.1712\n",
      "Probability of being predicted recivid given that it is a non-recividist woman: 0.09524\n"
     ]
    }
   ],
   "source": [
    "prob_pred_recid_actual_notrecid_man = len(test_X[(test_y=='No')&(test_X[\"V1_sexe_Home\"]==1)&(test_yhat=='Sí')])/len(test_X)\n",
    "prob_actual_notrecid_man = len(test_X[(test_y=='No')&(test_X[\"V1_sexe_Home\"]==1)])/len(test_X)\n",
    "\n",
    "prob_pred_recid_actual_notrecid_woman = len(test_X[(test_y=='No')&(test_X[\"V1_sexe_Dona\"]==1)&(test_yhat=='Sí')])/len(test_X)\n",
    "prob_actual_notrecid_woman = len(test_X[(test_y=='No')&(test_X[\"V1_sexe_Dona\"]==1)])/len(test_X)\n",
    "\n",
    "prob_pred_recid_given_actual_notrecid_man = prob_pred_recid_actual_notrecid_man / prob_actual_notrecid_man\n",
    "prob_pred_recid_given_actual_notrecid_woman = prob_pred_recid_actual_notrecid_woman / prob_actual_notrecid_woman\n",
    "\n",
    "\n",
    "print(\"Probability of being predicted recivid given that it is a non-recividist man: {:.4}\".format(prob_pred_recid_given_actual_notrecid_man))\n",
    "print(\"Probability of being predicted recivid given that it is a non-recividist woman: {:.4}\".format(prob_pred_recid_given_actual_notrecid_woman))\n",
    "\n"
   ]
  },
  {
   "cell_type": "code",
   "execution_count": 172,
   "metadata": {},
   "outputs": [
    {
     "name": "stdout",
     "output_type": "stream",
     "text": [
      "Probability of being predicted recivid given that it is a non-recividist spanish: 0.1053\n",
      "Probability of being predicted recivid given that it is a non-recividist foreigner: 0.2321\n"
     ]
    }
   ],
   "source": [
    "prob_pred_recid_actual_notrecid_spanish = len(test_X[(test_y=='No')&(test_X[\"V2_estranger_Espanyol\"]==1)&(test_yhat=='Sí')])/len(test_X)\n",
    "prob_actual_notrecid_spanish = len(test_X[(test_y=='No')&(test_X[\"V2_estranger_Espanyol\"]==1)])/len(test_X)\n",
    "\n",
    "prob_pred_recid_actual_notrecid_foreigner = len(test_X[(test_y=='No')&(test_X[\"V2_estranger_Estranger\"]==1)&(test_yhat=='Sí')])/len(test_X)\n",
    "prob_actual_notrecid_foreigner = len(test_X[(test_y=='No')&(test_X[\"V2_estranger_Estranger\"]==1)])/len(test_X)\n",
    "\n",
    "prob_pred_recid_given_actual_notrecid_spanish = prob_pred_recid_actual_notrecid_spanish / prob_actual_notrecid_spanish\n",
    "prob_pred_recid_given_actual_notrecid_foreigner = prob_pred_recid_actual_notrecid_foreigner / prob_actual_notrecid_foreigner\n",
    "\n",
    "\n",
    "print(\"Probability of being predicted recivid given that it is a non-recividist spanish: {:.4}\".format(prob_pred_recid_given_actual_notrecid_spanish))\n",
    "print(\"Probability of being predicted recivid given that it is a non-recividist foreigner: {:.4}\".format(prob_pred_recid_given_actual_notrecid_foreigner))\n",
    "\n"
   ]
  },
  {
   "cell_type": "markdown",
   "metadata": {},
   "source": [
    "Both conditions are significantly violated, so we assess that the equalized odds constraint is violated."
   ]
  },
  {
   "cell_type": "markdown",
   "metadata": {},
   "source": [
    "* Conditional demographic parity\n",
    "\n",
    "Total number of predicted not recividists:\n",
    "$$\\hat{n}^{\\bar{recid}} = \\hat{n}^\\bar{recid}_{G^+} + \\hat{n}^\\bar{recid}_{G^-}$$ \n",
    "Total number of predicted recividists:\n",
    "$$\\hat{n}^{recid} = \\hat{n}^{recid}_{G^+} + \\hat{n}^{recid}_{G^-}$$ \n",
    "Demographic disparity for group G^+:\n",
    "$$DD_{G^+} = \\frac{\\hat{n}^\\bar{recid}_{G^+}}{\\hat{n}^{\\bar{recid}}} - \\frac{\\hat{n}^{recid}_{G^+}}{\\hat{n}^{recid}}$$\n",
    "Conditional demographic disparity:\n",
    "$$CDD = \\frac{1}{n}*\\sum_i n_i * DD_i$$ where $n$ is the total number of observations and $n_i$ is the number of observations per subgroup i.\n",
    "\n",
    "*The CDD metric gives a single measure for all of the disparities found in the subgroups defined by an attribute of a dataset by averaging them. **Positive values** indicate there is a demographic disparity as facet d or subgroup has a greater proportion of the rejected outcomes in the dataset than of the accepted outcomes. The higher the value the less favored the facet and the greater the disparity. **Negative values** indicate there is not a demographic disparity as facet d or subgroup has a larger proportion of the accepted outcomes in the dataset than of the rejected outcomes. The lower the value the more favored the facet.*\n",
    "\n",
    "Reference: https://docs.aws.amazon.com/sagemaker/latest/dg/clarify-data-bias-metric-cddl.html"
   ]
  },
  {
   "cell_type": "code",
   "execution_count": 173,
   "metadata": {},
   "outputs": [
    {
     "data": {
      "text/plain": [
       "-0.062164462684298566"
      ]
     },
     "execution_count": 173,
     "metadata": {},
     "output_type": "execute_result"
    }
   ],
   "source": [
    "n1 = test_yhat[(test_X[\"V1_sexe_Home\"]==1)&(test_yhat=='No')].shape[0]\n",
    "n2 = test_yhat[(test_X[\"V1_sexe_Home\"]==0)&(test_yhat=='No')].shape[0]\n",
    "n3 = test_yhat[(test_yhat=='No')].shape[0]\n",
    "assert(n1+n2==n3)\n",
    "n4 = test_yhat[(test_X[\"V1_sexe_Home\"]==1)&(test_yhat=='Sí')].shape[0]\n",
    "n5 = test_yhat[(test_X[\"V1_sexe_Home\"]==0)&(test_yhat=='Sí')].shape[0]\n",
    "n6 = test_yhat[(test_yhat=='Sí')].shape[0]\n",
    "assert(n4+n5==n6)\n",
    "DD_men = n1/n3 - n4/n6\n",
    "DD_women = n2/n3 - n5/n6\n",
    "n = len(test_yhat)\n",
    "n_men = len(test_yhat[test_X[\"V1_sexe_Home\"]==1])\n",
    "n_women = len(test_yhat[test_X[\"V1_sexe_Home\"]==0])\n",
    "\n",
    "CDD = (1/n)*(n_men*DD_men + n_women*DD_women)\n",
    "CDD\n"
   ]
  },
  {
   "cell_type": "markdown",
   "metadata": {},
   "source": [
    "There is no demographic disparity, althought the value is quite close to 0."
   ]
  },
  {
   "cell_type": "code",
   "execution_count": 174,
   "metadata": {},
   "outputs": [
    {
     "data": {
      "text/plain": [
       "0.016756345949232414"
      ]
     },
     "execution_count": 174,
     "metadata": {},
     "output_type": "execute_result"
    }
   ],
   "source": [
    "n1 = test_yhat[(test_X[\"V2_estranger_Espanyol\"]==1)&(test_yhat=='No')].shape[0]\n",
    "n2 = test_yhat[(test_X[\"V2_estranger_Espanyol\"]==0)&(test_yhat=='No')].shape[0]\n",
    "n3 = test_yhat[(test_yhat=='No')].shape[0]\n",
    "assert(n1+n2==n3)\n",
    "n4 = test_yhat[(test_X[\"V2_estranger_Espanyol\"]==1)&(test_yhat=='Sí')].shape[0]\n",
    "n5 = test_yhat[(test_X[\"V2_estranger_Espanyol\"]==0)&(test_yhat=='Sí')].shape[0]\n",
    "n6 = test_yhat[(test_yhat=='Sí')].shape[0]\n",
    "assert(n4+n5==n6)\n",
    "DD_spanish = n1/n3 - n4/n6\n",
    "DD_foreign = n2/n3 - n5/n6\n",
    "\n",
    "n = len(test_yhat)\n",
    "n_spanish = len(test_yhat[test_X[\"V2_estranger_Espanyol\"]==1])\n",
    "n_foreign = len(test_yhat[test_X[\"V2_estranger_Espanyol\"]==0])\n",
    "\n",
    "CDD = (1/n)*(n_spanish*DD_spanish + n_foreign*DD_foreign)\n",
    "CDD\n"
   ]
  },
  {
   "cell_type": "markdown",
   "metadata": {},
   "source": [
    "There is demographic disparity, althought the value is quite close to 0."
   ]
  },
  {
   "cell_type": "markdown",
   "metadata": {},
   "source": [
    "**Comparison**\n",
    "\n",
    "In this section, I conduct a fairness analysis for each of the ML models. I selected a threshold of .05 to assess if the proabilities for each of the groups are close enough or significantly different."
   ]
  },
  {
   "cell_type": "code",
   "execution_count": 175,
   "metadata": {},
   "outputs": [],
   "source": [
    "metrics = {name:{} for name in names}\n",
    "LOGS=False\n",
    "fairness_threshold = 0.05\n",
    "for model, name in zip(models, names):\n",
    "#model = SVC(probability=True)\n",
    "    if LOGS: print(\"=================================================================\")\n",
    "    if LOGS: print(\"              Fairness Analsis for {}              \".format(name))\n",
    "    if LOGS: print(\"=================================================================\")\n",
    "    model.fit(train_X, train_y)\n",
    "    test_prob = model.predict_proba(test_X)[:,1] #probability of recividate\n",
    "    test_yhat = model.predict(test_X)\n",
    "\n",
    "    prob_men = len(test_X[test_X[\"V1_sexe_Home\"]==1])/len(test_X)\n",
    "    prob_women = len(test_X[test_X[\"V1_sexe_Dona\"]==1])/len(test_X)\n",
    "\n",
    "    prob_recid = len(test_X[test_yhat=='Sí'])/len(test_X)\n",
    "    prob_nonrecid = len(test_X[test_yhat=='No'])/len(test_X)\n",
    "\n",
    "    pred_recid = test_X[test_yhat=='Sí']\n",
    "\n",
    "    prob_men_given_pred_recid = len(pred_recid[pred_recid[\"V1_sexe_Home\"]==1])/len(pred_recid)\n",
    "    prob_women_given_pred_recid = len(pred_recid[pred_recid[\"V1_sexe_Dona\"]==1])/len(pred_recid)\n",
    "\n",
    "    #Applying bayes theorem...\n",
    "    prob_pred_recid_given_men = (prob_men_given_pred_recid*prob_recid)/prob_men\n",
    "    prob_pred_recid_given_women = (prob_women_given_pred_recid*prob_recid)/prob_women\n",
    "\n",
    "    if LOGS: print(\"Probability of being predicted recivid given that it is a man: {:.4}\".format(prob_pred_recid_given_men))\n",
    "    if LOGS: print(\"Probability of being predicted recivid given that it is a woman: {:.4}\".format(prob_pred_recid_given_women))\n",
    "    demographic_parity_gap = abs(prob_pred_recid_given_men - prob_pred_recid_given_women)\n",
    "    if demographic_parity_gap < fairness_threshold:\n",
    "        if LOGS: print(\"There is demographic parity\")\n",
    "        metrics[name][\"Demographic Parity\"]=True\n",
    "    else: \n",
    "        if LOGS: print(\"There is no demographic parity\")\n",
    "        metrics[name][\"Demographic Parity\"]=False\n",
    "\n",
    "    prob_pred_recid_actual_recid_man = len(test_X[(test_y=='Sí')&(test_X[\"V1_sexe_Home\"]==1)&(test_yhat=='Sí')])/len(test_X)\n",
    "    prob_actual_recid_man = len(test_X[(test_y=='Sí')&(test_X[\"V1_sexe_Home\"]==1)])/len(test_X)\n",
    "\n",
    "    prob_pred_recid_actual_recid_woman = len(test_X[(test_y=='Sí')&(test_X[\"V1_sexe_Dona\"]==1)&(test_yhat=='Sí')])/len(test_X)\n",
    "    prob_actual_recid_woman = len(test_X[(test_y=='Sí')&(test_X[\"V1_sexe_Dona\"]==1)])/len(test_X)\n",
    "\n",
    "    prob_pred_recid_given_actual_recid_man = prob_pred_recid_actual_recid_man / prob_actual_recid_man\n",
    "    prob_pred_recid_given_actual_recid_woman = prob_pred_recid_actual_recid_woman / prob_actual_recid_woman\n",
    "\n",
    "    if LOGS: print()\n",
    "    if LOGS: print(\"Probability of being predicted recivid given that it is a true recividist man: {:.4}\".format(prob_pred_recid_given_actual_recid_man))\n",
    "    if LOGS: print(\"Probability of being predicted recivid given that it is a true recividist woman: {:.4}\".format(prob_pred_recid_given_actual_recid_woman))\n",
    "    equal_opp_gap = abs(prob_pred_recid_given_actual_recid_man - prob_pred_recid_given_actual_recid_woman)\n",
    "    if equal_opp_gap < fairness_threshold:\n",
    "        if LOGS: print(\"There is equal opportunity\")\n",
    "        metrics[name][\"Equal Opportunity\"]=True\n",
    "    else: \n",
    "        if LOGS: print(\"There is no equal opportunity\")\n",
    "        metrics[name][\"Equal Opportunity\"]=False\n",
    "\n",
    "    prob_pred_recid_actual_notrecid_man = len(test_X[(test_y=='No')&(test_X[\"V1_sexe_Home\"]==1)&(test_yhat=='Sí')])/len(test_X)\n",
    "    prob_actual_notrecid_man = len(test_X[(test_y=='No')&(test_X[\"V1_sexe_Home\"]==1)])/len(test_X)\n",
    "\n",
    "    prob_pred_recid_actual_notrecid_woman = len(test_X[(test_y=='No')&(test_X[\"V1_sexe_Dona\"]==1)&(test_yhat=='Sí')])/len(test_X)\n",
    "    prob_actual_notrecid_woman = len(test_X[(test_y=='No')&(test_X[\"V1_sexe_Dona\"]==1)])/len(test_X)\n",
    "\n",
    "    prob_pred_recid_given_actual_notrecid_man = prob_pred_recid_actual_notrecid_man / prob_actual_notrecid_man\n",
    "    prob_pred_recid_given_actual_notrecid_woman = prob_pred_recid_actual_notrecid_woman / prob_actual_notrecid_woman\n",
    "\n",
    "    if LOGS: print()\n",
    "    if LOGS: print(\"Probability of being predicted recivid given that it is a non-recividist man: {:.4}\".format(prob_pred_recid_given_actual_notrecid_man))\n",
    "    if LOGS: print(\"Probability of being predicted recivid given that it is a non-recividist woman: {:.4}\".format(prob_pred_recid_given_actual_notrecid_woman))\n",
    "    nequal_opp_gap = abs(prob_pred_recid_given_actual_notrecid_man - prob_pred_recid_given_actual_notrecid_woman)\n",
    "    if (nequal_opp_gap < fairness_threshold) and (equal_opp_gap<fairness_threshold):\n",
    "        if LOGS: print(\"There is equalized odds\")\n",
    "        metrics[name][\"Equalized Odds\"]=True\n",
    "    else: \n",
    "        if LOGS: print(\"There is no equalized odds\")\n",
    "        metrics[name][\"Equalized Odds\"]=True\n",
    "\n",
    "    n1 = test_yhat[(test_X[\"V1_sexe_Home\"]==1)&(test_yhat=='No')].shape[0]\n",
    "    n2 = test_yhat[(test_X[\"V1_sexe_Home\"]==0)&(test_yhat=='No')].shape[0]\n",
    "    n3 = test_yhat[(test_yhat=='No')].shape[0]\n",
    "    assert(n1+n2==n3)\n",
    "    n4 = test_yhat[(test_X[\"V1_sexe_Home\"]==1)&(test_yhat=='Sí')].shape[0]\n",
    "    n5 = test_yhat[(test_X[\"V1_sexe_Home\"]==0)&(test_yhat=='Sí')].shape[0]\n",
    "    n6 = test_yhat[(test_yhat=='Sí')].shape[0]\n",
    "    assert(n4+n5==n6)\n",
    "    DD_men = n1/n3 - n4/n6\n",
    "    DD_women = n2/n3 - n5/n6\n",
    "    n = len(test_yhat)\n",
    "    n_men = len(test_yhat[test_X[\"V1_sexe_Home\"]==1])\n",
    "    n_women = len(test_yhat[test_X[\"V1_sexe_Home\"]==0])\n",
    "\n",
    "    CDD = (1/n)*(n_men*DD_men + n_women*DD_women)\n",
    "    if LOGS: print()\n",
    "    if CDD < 0:\n",
    "        if LOGS: print(\"There is no conditional demographic disparity\")\n",
    "        metrics[name][\"CDD\"]=True\n",
    "    else:\n",
    "        if LOGS: print(\"There is conditional demographic disparity\")\n",
    "        metrics[name][\"CDD\"]=False\n",
    "    if LOGS: print()\n"
   ]
  },
  {
   "cell_type": "code",
   "execution_count": 176,
   "metadata": {},
   "outputs": [
    {
     "data": {
      "text/html": [
       "<div>\n",
       "<style scoped>\n",
       "    .dataframe tbody tr th:only-of-type {\n",
       "        vertical-align: middle;\n",
       "    }\n",
       "\n",
       "    .dataframe tbody tr th {\n",
       "        vertical-align: top;\n",
       "    }\n",
       "\n",
       "    .dataframe thead th {\n",
       "        text-align: right;\n",
       "    }\n",
       "</style>\n",
       "<table border=\"1\" class=\"dataframe\">\n",
       "  <thead>\n",
       "    <tr style=\"text-align: right;\">\n",
       "      <th></th>\n",
       "      <th>Demographic Parity</th>\n",
       "      <th>Equal Opportunity</th>\n",
       "      <th>Equalized Odds</th>\n",
       "      <th>CDD</th>\n",
       "    </tr>\n",
       "  </thead>\n",
       "  <tbody>\n",
       "    <tr>\n",
       "      <th>Logistic Regression</th>\n",
       "      <td>False</td>\n",
       "      <td>False</td>\n",
       "      <td>True</td>\n",
       "      <td>True</td>\n",
       "    </tr>\n",
       "    <tr>\n",
       "      <th>Support Vector Machines</th>\n",
       "      <td>False</td>\n",
       "      <td>False</td>\n",
       "      <td>True</td>\n",
       "      <td>True</td>\n",
       "    </tr>\n",
       "    <tr>\n",
       "      <th>K-Neighbors</th>\n",
       "      <td>False</td>\n",
       "      <td>False</td>\n",
       "      <td>True</td>\n",
       "      <td>True</td>\n",
       "    </tr>\n",
       "    <tr>\n",
       "      <th>Decision Tree</th>\n",
       "      <td>False</td>\n",
       "      <td>False</td>\n",
       "      <td>True</td>\n",
       "      <td>True</td>\n",
       "    </tr>\n",
       "    <tr>\n",
       "      <th>Random Forest</th>\n",
       "      <td>False</td>\n",
       "      <td>True</td>\n",
       "      <td>True</td>\n",
       "      <td>True</td>\n",
       "    </tr>\n",
       "    <tr>\n",
       "      <th>Gaussian Process</th>\n",
       "      <td>False</td>\n",
       "      <td>False</td>\n",
       "      <td>True</td>\n",
       "      <td>True</td>\n",
       "    </tr>\n",
       "    <tr>\n",
       "      <th>Ada Boost</th>\n",
       "      <td>False</td>\n",
       "      <td>False</td>\n",
       "      <td>True</td>\n",
       "      <td>True</td>\n",
       "    </tr>\n",
       "    <tr>\n",
       "      <th>Gaussian Naive Bayes</th>\n",
       "      <td>False</td>\n",
       "      <td>False</td>\n",
       "      <td>True</td>\n",
       "      <td>True</td>\n",
       "    </tr>\n",
       "    <tr>\n",
       "      <th>SGD</th>\n",
       "      <td>False</td>\n",
       "      <td>False</td>\n",
       "      <td>True</td>\n",
       "      <td>True</td>\n",
       "    </tr>\n",
       "  </tbody>\n",
       "</table>\n",
       "</div>"
      ],
      "text/plain": [
       "                         Demographic Parity  Equal Opportunity  \\\n",
       "Logistic Regression                   False              False   \n",
       "Support Vector Machines               False              False   \n",
       "K-Neighbors                           False              False   \n",
       "Decision Tree                         False              False   \n",
       "Random Forest                         False               True   \n",
       "Gaussian Process                      False              False   \n",
       "Ada Boost                             False              False   \n",
       "Gaussian Naive Bayes                  False              False   \n",
       "SGD                                   False              False   \n",
       "\n",
       "                         Equalized Odds   CDD  \n",
       "Logistic Regression                True  True  \n",
       "Support Vector Machines            True  True  \n",
       "K-Neighbors                        True  True  \n",
       "Decision Tree                      True  True  \n",
       "Random Forest                      True  True  \n",
       "Gaussian Process                   True  True  \n",
       "Ada Boost                          True  True  \n",
       "Gaussian Naive Bayes               True  True  \n",
       "SGD                                True  True  "
      ]
     },
     "execution_count": 176,
     "metadata": {},
     "output_type": "execute_result"
    }
   ],
   "source": [
    "gender_metrics = pd.DataFrame(metrics).T\n",
    "gender_metrics"
   ]
  },
  {
   "cell_type": "code",
   "execution_count": 177,
   "metadata": {},
   "outputs": [],
   "source": [
    "metrics = {name:{} for name in names}\n",
    "LOGS=False\n",
    "fairness_threshold = 0.05\n",
    "for model, name in zip(models, names):\n",
    "#model = SVC(probability=True)\n",
    "    if LOGS: print(\"=================================================================\")\n",
    "    if LOGS: print(\"              Fairness Analsis for {}              \".format(name))\n",
    "    if LOGS: print(\"=================================================================\")\n",
    "    model.fit(train_X, train_y)\n",
    "    test_prob = model.predict_proba(test_X)[:,1] #probability of recividate\n",
    "    test_yhat = model.predict(test_X)\n",
    "\n",
    "    prob_spanish = len(test_X[test_X[\"V2_estranger_Espanyol\"]==1])/len(test_X)\n",
    "    prob_foreigner = len(test_X[test_X[\"V2_estranger_Estranger\"]==1])/len(test_X)\n",
    "\n",
    "    prob_recid = len(test_X[test_yhat=='Sí'])/len(test_X)\n",
    "    prob_nonrecid = len(test_X[test_yhat=='No'])/len(test_X)\n",
    "\n",
    "    pred_recid = test_X[test_yhat=='Sí']\n",
    "\n",
    "    prob_spanish_given_pred_recid = len(pred_recid[pred_recid[\"V2_estranger_Espanyol\"]==1])/len(pred_recid)\n",
    "    prob_foreigner_given_pred_recid = len(pred_recid[pred_recid[\"V2_estranger_Estranger\"]==1])/len(pred_recid)\n",
    "\n",
    "    #Applying bayes theorem...\n",
    "    prob_pred_recid_given_spanish = (prob_spanish_given_pred_recid*prob_recid)/prob_spanish\n",
    "    prob_pred_recid_given_foreigner = (prob_foreigner_given_pred_recid*prob_recid)/prob_foreigner\n",
    "\n",
    "    if LOGS: print(\"Probability of being predicted recivid given that it is a spanish: {:.4}\".format(prob_pred_recid_given_spanish))\n",
    "    if LOGS: print(\"Probability of being predicted recivid given that it is a foreigner: {:.4}\".format(prob_pred_recid_given_foreigner))\n",
    "    demographic_parity_gap = abs(prob_pred_recid_given_spanish - prob_pred_recid_given_foreigner)\n",
    "    if demographic_parity_gap < fairness_threshold:\n",
    "        if LOGS: print(\"There is demographic parity\")\n",
    "        metrics[name][\"Demographic Parity\"]=True\n",
    "    else: \n",
    "        if LOGS: print(\"There is no demographic parity\")\n",
    "        metrics[name][\"Demographic Parity\"]=False\n",
    "\n",
    "    prob_pred_recid_actual_recid_spanish = len(test_X[(test_y=='Sí')&(test_X[\"V2_estranger_Espanyol\"]==1)&(test_yhat=='Sí')])/len(test_X)\n",
    "    prob_actual_recid_spanish = len(test_X[(test_y=='Sí')&(test_X[\"V2_estranger_Espanyol\"]==1)])/len(test_X)\n",
    "\n",
    "    prob_pred_recid_actual_recid_foreigner = len(test_X[(test_y=='Sí')&(test_X[\"V2_estranger_Estranger\"]==1)&(test_yhat=='Sí')])/len(test_X)\n",
    "    prob_actual_recid_foreigner = len(test_X[(test_y=='Sí')&(test_X[\"V2_estranger_Estranger\"]==1)])/len(test_X)\n",
    "\n",
    "    prob_pred_recid_given_actual_recid_spanish = prob_pred_recid_actual_recid_spanish / prob_actual_recid_spanish\n",
    "    prob_pred_recid_given_actual_recid_foreigner = prob_pred_recid_actual_recid_foreigner / prob_actual_recid_foreigner\n",
    "\n",
    "    if LOGS: print()\n",
    "    if LOGS: print(\"Probability of being predicted recivid given that it is a true recividist spanish: {:.4}\".format(prob_pred_recid_given_actual_recid_spanish))\n",
    "    if LOGS: print(\"Probability of being predicted recivid given that it is a true recividist foreigner: {:.4}\".format(prob_pred_recid_given_actual_recid_foreigner))\n",
    "    equal_opp_gap = abs(prob_pred_recid_given_actual_recid_spanish - prob_pred_recid_given_actual_recid_foreigner)\n",
    "    if equal_opp_gap < fairness_threshold:\n",
    "        if LOGS: print(\"There is equal opportunity\")\n",
    "        metrics[name][\"Equal Opportunity\"]=True\n",
    "    else: \n",
    "        if LOGS: print(\"There is no equal opportunity\")\n",
    "        metrics[name][\"Equal Opportunity\"]=False\n",
    "\n",
    "    prob_pred_recid_actual_notrecid_spanish = len(test_X[(test_y=='No')&(test_X[\"V2_estranger_Espanyol\"]==1)&(test_yhat=='Sí')])/len(test_X)\n",
    "    prob_actual_notrecid_spanish = len(test_X[(test_y=='No')&(test_X[\"V2_estranger_Espanyol\"]==1)])/len(test_X)\n",
    "\n",
    "    prob_pred_recid_actual_notrecid_foreigner = len(test_X[(test_y=='No')&(test_X[\"V2_estranger_Estranger\"]==1)&(test_yhat=='Sí')])/len(test_X)\n",
    "    prob_actual_notrecid_foreigner = len(test_X[(test_y=='No')&(test_X[\"V2_estranger_Estranger\"]==1)])/len(test_X)\n",
    "\n",
    "    prob_pred_recid_given_actual_notrecid_spanish = prob_pred_recid_actual_notrecid_spanish / prob_actual_notrecid_spanish\n",
    "    prob_pred_recid_given_actual_notrecid_foreigner = prob_pred_recid_actual_notrecid_foreigner / prob_actual_notrecid_foreigner\n",
    "\n",
    "    if LOGS: print()\n",
    "    if LOGS: print(\"Probability of being predicted recivid given that it is a non-recividist spanish: {:.4}\".format(prob_pred_recid_given_actual_notrecid_spanish))\n",
    "    if LOGS: print(\"Probability of being predicted recivid given that it is a non-recividist foreigner: {:.4}\".format(prob_pred_recid_given_actual_notrecid_foreigner))\n",
    "    nequal_opp_gap = abs(prob_pred_recid_given_actual_notrecid_spanish - prob_pred_recid_given_actual_notrecid_foreigner)\n",
    "    if (nequal_opp_gap < fairness_threshold) and (equal_opp_gap<fairness_threshold):\n",
    "        if LOGS: print(\"There is equalized odds\")\n",
    "        metrics[name][\"Equalized Odds\"]=True\n",
    "    else: \n",
    "        if LOGS: print(\"There is no equalized odds\")\n",
    "        metrics[name][\"Equalized Odds\"]=True\n",
    "\n",
    "    n1 = test_yhat[(test_X[\"V2_estranger_Espanyol\"]==1)&(test_yhat=='No')].shape[0]\n",
    "    n2 = test_yhat[(test_X[\"V2_estranger_Espanyol\"]==0)&(test_yhat=='No')].shape[0]\n",
    "    n3 = test_yhat[(test_yhat=='No')].shape[0]\n",
    "    assert(n1+n2==n3)\n",
    "    n4 = test_yhat[(test_X[\"V2_estranger_Espanyol\"]==1)&(test_yhat=='Sí')].shape[0]\n",
    "    n5 = test_yhat[(test_X[\"V2_estranger_Espanyol\"]==0)&(test_yhat=='Sí')].shape[0]\n",
    "    n6 = test_yhat[(test_yhat=='Sí')].shape[0]\n",
    "    assert(n4+n5==n6)\n",
    "    DD_spanish = n1/n3 - n4/n6\n",
    "    DD_foreigner = n2/n3 - n5/n6\n",
    "    n = len(test_yhat)\n",
    "    n_spanish = len(test_yhat[test_X[\"V2_estranger_Espanyol\"]==1])\n",
    "    n_foreigner = len(test_yhat[test_X[\"V2_estranger_Espanyol\"]==0])\n",
    "\n",
    "    CDD = (1/n)*(n_spanish*DD_spanish + n_foreigner*DD_foreigner)\n",
    "    if LOGS: print()\n",
    "    if CDD < 0:\n",
    "        if LOGS: print(\"There is no conditional demographic disparity\")\n",
    "        metrics[name][\"CDD\"]=True\n",
    "    else:\n",
    "        if LOGS: print(\"There is conditional demographic disparity\")\n",
    "        metrics[name][\"CDD\"]=False\n",
    "    if LOGS: print()\n"
   ]
  },
  {
   "cell_type": "code",
   "execution_count": 178,
   "metadata": {},
   "outputs": [
    {
     "data": {
      "text/html": [
       "<div>\n",
       "<style scoped>\n",
       "    .dataframe tbody tr th:only-of-type {\n",
       "        vertical-align: middle;\n",
       "    }\n",
       "\n",
       "    .dataframe tbody tr th {\n",
       "        vertical-align: top;\n",
       "    }\n",
       "\n",
       "    .dataframe thead th {\n",
       "        text-align: right;\n",
       "    }\n",
       "</style>\n",
       "<table border=\"1\" class=\"dataframe\">\n",
       "  <thead>\n",
       "    <tr style=\"text-align: right;\">\n",
       "      <th></th>\n",
       "      <th>Demographic Parity</th>\n",
       "      <th>Equal Opportunity</th>\n",
       "      <th>Equalized Odds</th>\n",
       "      <th>CDD</th>\n",
       "    </tr>\n",
       "  </thead>\n",
       "  <tbody>\n",
       "    <tr>\n",
       "      <th>Logistic Regression</th>\n",
       "      <td>False</td>\n",
       "      <td>False</td>\n",
       "      <td>True</td>\n",
       "      <td>False</td>\n",
       "    </tr>\n",
       "    <tr>\n",
       "      <th>Support Vector Machines</th>\n",
       "      <td>False</td>\n",
       "      <td>False</td>\n",
       "      <td>True</td>\n",
       "      <td>False</td>\n",
       "    </tr>\n",
       "    <tr>\n",
       "      <th>K-Neighbors</th>\n",
       "      <td>False</td>\n",
       "      <td>False</td>\n",
       "      <td>True</td>\n",
       "      <td>False</td>\n",
       "    </tr>\n",
       "    <tr>\n",
       "      <th>Decision Tree</th>\n",
       "      <td>False</td>\n",
       "      <td>False</td>\n",
       "      <td>True</td>\n",
       "      <td>False</td>\n",
       "    </tr>\n",
       "    <tr>\n",
       "      <th>Random Forest</th>\n",
       "      <td>False</td>\n",
       "      <td>False</td>\n",
       "      <td>True</td>\n",
       "      <td>False</td>\n",
       "    </tr>\n",
       "    <tr>\n",
       "      <th>Gaussian Process</th>\n",
       "      <td>False</td>\n",
       "      <td>False</td>\n",
       "      <td>True</td>\n",
       "      <td>False</td>\n",
       "    </tr>\n",
       "    <tr>\n",
       "      <th>Ada Boost</th>\n",
       "      <td>False</td>\n",
       "      <td>False</td>\n",
       "      <td>True</td>\n",
       "      <td>False</td>\n",
       "    </tr>\n",
       "    <tr>\n",
       "      <th>Gaussian Naive Bayes</th>\n",
       "      <td>False</td>\n",
       "      <td>False</td>\n",
       "      <td>True</td>\n",
       "      <td>False</td>\n",
       "    </tr>\n",
       "    <tr>\n",
       "      <th>SGD</th>\n",
       "      <td>False</td>\n",
       "      <td>False</td>\n",
       "      <td>True</td>\n",
       "      <td>False</td>\n",
       "    </tr>\n",
       "  </tbody>\n",
       "</table>\n",
       "</div>"
      ],
      "text/plain": [
       "                         Demographic Parity  Equal Opportunity  \\\n",
       "Logistic Regression                   False              False   \n",
       "Support Vector Machines               False              False   \n",
       "K-Neighbors                           False              False   \n",
       "Decision Tree                         False              False   \n",
       "Random Forest                         False              False   \n",
       "Gaussian Process                      False              False   \n",
       "Ada Boost                             False              False   \n",
       "Gaussian Naive Bayes                  False              False   \n",
       "SGD                                   False              False   \n",
       "\n",
       "                         Equalized Odds    CDD  \n",
       "Logistic Regression                True  False  \n",
       "Support Vector Machines            True  False  \n",
       "K-Neighbors                        True  False  \n",
       "Decision Tree                      True  False  \n",
       "Random Forest                      True  False  \n",
       "Gaussian Process                   True  False  \n",
       "Ada Boost                          True  False  \n",
       "Gaussian Naive Bayes               True  False  \n",
       "SGD                                True  False  "
      ]
     },
     "execution_count": 178,
     "metadata": {},
     "output_type": "execute_result"
    }
   ],
   "source": [
    "origin_metrics = pd.DataFrame(metrics).T\n",
    "origin_metrics"
   ]
  },
  {
   "cell_type": "markdown",
   "metadata": {},
   "source": [
    "**Questions**\n",
    "1. Is there a method that can achieve better predictive power than human experts?"
   ]
  },
  {
   "cell_type": "markdown",
   "metadata": {},
   "source": [
    "The technical answer to this question does not have a straightforward answer because of one reasons: predictions by humans as presented in the data come in three categories (Baixa, Moderada and Alta) while the output of ML models is a yes/no.\n",
    "To overcome this issue, we can classify instances with 'Alt' risk as predicted recividists, people with 'Baix' risk as non-recividists, and people with 'Moderat' risk randomly into the two categories. This would be a feasible mapping from 3 to 2 categories.\n",
    "\n",
    "In this case, the accuracy of the best ML model (SVM) is similar to the accuracy of human experts. However, the random component in the data splitting, the ML itself and the 2-category human assigment makes it difficult to tell.\n",
    "\n",
    "To sum up, I would say that it can be a case that we find a model that has better predictive power than human experts because it can consider a great amount of data and hidden patterns that humans are unable to identify. However, in this specific problem trained human criteria can generate also good results.\n"
   ]
  },
  {
   "cell_type": "code",
   "execution_count": 179,
   "metadata": {},
   "outputs": [
    {
     "data": {
      "text/plain": [
       "0.627906976744186"
      ]
     },
     "execution_count": 179,
     "metadata": {},
     "output_type": "execute_result"
    }
   ],
   "source": [
    "from sklearn.metrics import accuracy_score\n",
    "accuracy_score(test_y, best_test_yhat)"
   ]
  },
  {
   "cell_type": "code",
   "execution_count": 180,
   "metadata": {},
   "outputs": [
    {
     "data": {
      "text/plain": [
       "0.6186046511627907"
      ]
     },
     "execution_count": 180,
     "metadata": {},
     "output_type": "execute_result"
    }
   ],
   "source": [
    "def human_to_risk(col):\n",
    "    if col=='Alta':\n",
    "        return 'Sí'\n",
    "    if col =='Baixa':\n",
    "        return 'No'\n",
    "    else:\n",
    "        if np.random.uniform() < 0.5:\n",
    "            return 'Sí'\n",
    "        else:\n",
    "            return 'No'\n",
    "        \n",
    "test_y_human = test['V56_@R1_resum_risc_global_reverse'].map(human_to_risk)\n",
    "accuracy_score(test_y, test_y_human)"
   ]
  },
  {
   "cell_type": "markdown",
   "metadata": {},
   "source": [
    "2- Is this method better than human experts in terms of fairness?"
   ]
  },
  {
   "cell_type": "markdown",
   "metadata": {},
   "source": [
    "It could be. In our case, the difference of error rates between groups is nearly the same, so we could say that the ML model is more fair. It is true that ML models are very good in encoding and reproducing data bias that can lead to discrimination, but it also happens that human experts also have their own biases. The main threat of systematically using unfair ML models is the scalability power, i.e., this models can affect more people than if they were just assessed by human experts."
   ]
  },
  {
   "cell_type": "code",
   "execution_count": 181,
   "metadata": {},
   "outputs": [
    {
     "data": {
      "text/html": [
       "<div>\n",
       "<style scoped>\n",
       "    .dataframe tbody tr th:only-of-type {\n",
       "        vertical-align: middle;\n",
       "    }\n",
       "\n",
       "    .dataframe tbody tr th {\n",
       "        vertical-align: top;\n",
       "    }\n",
       "\n",
       "    .dataframe thead th {\n",
       "        text-align: right;\n",
       "    }\n",
       "</style>\n",
       "<table border=\"1\" class=\"dataframe\">\n",
       "  <thead>\n",
       "    <tr style=\"text-align: right;\">\n",
       "      <th></th>\n",
       "      <th>FPR</th>\n",
       "      <th>FNR</th>\n",
       "    </tr>\n",
       "  </thead>\n",
       "  <tbody>\n",
       "    <tr>\n",
       "      <th>Spanish</th>\n",
       "      <td>0.328947</td>\n",
       "      <td>0.526316</td>\n",
       "    </tr>\n",
       "    <tr>\n",
       "      <th>Foreigner</th>\n",
       "      <td>0.410714</td>\n",
       "      <td>0.311111</td>\n",
       "    </tr>\n",
       "  </tbody>\n",
       "</table>\n",
       "</div>"
      ],
      "text/plain": [
       "                FPR       FNR\n",
       "Spanish    0.328947  0.526316\n",
       "Foreigner  0.410714  0.311111"
      ]
     },
     "metadata": {},
     "output_type": "display_data"
    }
   ],
   "source": [
    "#human fairness\n",
    "FP = len(test_y_human[(test_X[\"V2_estranger_Espanyol\"]==1)&(test_y=='No')&(test_y_human=='Sí')])\n",
    "TP = len(test_y_human[(test_X[\"V2_estranger_Espanyol\"]==1)&(test_y=='Sí')&(test_y_human=='Sí')])\n",
    "FN = len(test_y_human[(test_X[\"V2_estranger_Espanyol\"]==1)&(test_y=='Sí')&(test_y_human=='No')])\n",
    "TN = len(test_y_human[(test_X[\"V2_estranger_Espanyol\"]==1)&(test_y=='No')&(test_y_human=='No')])\n",
    "\n",
    "cf_matrix_1 = np.array([[TN, FP], [FN, TP]]).reshape(2,2)\n",
    "FPR_spain = FP / (FP+TN)\n",
    "FNR_spain = FN / (FN+TP)\n",
    "\n",
    "FP = len(test_y_human[(test_X[\"V2_estranger_Estranger\"]==1)&(test_y=='No')&(test_y_human=='Sí')])\n",
    "TP = len(test_y_human[(test_X[\"V2_estranger_Estranger\"]==1)&(test_y=='Sí')&(test_y_human=='Sí')])\n",
    "FN = len(test_y_human[(test_X[\"V2_estranger_Estranger\"]==1)&(test_y=='Sí')&(test_y_human=='No')])\n",
    "TN = len(test_y_human[(test_X[\"V2_estranger_Estranger\"]==1)&(test_y=='No')&(test_y_human=='No')])\n",
    "\n",
    "cf_matrix_1 = np.array([[TN, FP], [FN, TP]]).reshape(2,2)\n",
    "FPR_foreign = FP / (FP+TN)\n",
    "FNR_foreign = FN / (FN+TP)\n",
    "\n",
    "index = [\"Spanish\", \"Foreigner\"]\n",
    "metrics = [\"FPR\", \"FNR\"]\n",
    "data = [[FPR_spain,FNR_spain], [FPR_foreign, FNR_foreign]]\n",
    "display(pd.DataFrame(data, index=index, columns = metrics))"
   ]
  },
  {
   "cell_type": "code",
   "execution_count": 182,
   "metadata": {},
   "outputs": [
    {
     "data": {
      "text/html": [
       "<div>\n",
       "<style scoped>\n",
       "    .dataframe tbody tr th:only-of-type {\n",
       "        vertical-align: middle;\n",
       "    }\n",
       "\n",
       "    .dataframe tbody tr th {\n",
       "        vertical-align: top;\n",
       "    }\n",
       "\n",
       "    .dataframe thead th {\n",
       "        text-align: right;\n",
       "    }\n",
       "</style>\n",
       "<table border=\"1\" class=\"dataframe\">\n",
       "  <thead>\n",
       "    <tr style=\"text-align: right;\">\n",
       "      <th></th>\n",
       "      <th>FPR</th>\n",
       "      <th>FNR</th>\n",
       "    </tr>\n",
       "  </thead>\n",
       "  <tbody>\n",
       "    <tr>\n",
       "      <th>Spanish</th>\n",
       "      <td>0.105263</td>\n",
       "      <td>0.842105</td>\n",
       "    </tr>\n",
       "    <tr>\n",
       "      <th>Foreigner</th>\n",
       "      <td>0.232143</td>\n",
       "      <td>0.600000</td>\n",
       "    </tr>\n",
       "  </tbody>\n",
       "</table>\n",
       "</div>"
      ],
      "text/plain": [
       "                FPR       FNR\n",
       "Spanish    0.105263  0.842105\n",
       "Foreigner  0.232143  0.600000"
      ]
     },
     "metadata": {},
     "output_type": "display_data"
    }
   ],
   "source": [
    "#best predictor fairness\n",
    "FP = len(best_test_yhat[(test_X[\"V2_estranger_Espanyol\"]==1)&(test_y=='No')&(best_test_yhat=='Sí')])\n",
    "TP = len(best_test_yhat[(test_X[\"V2_estranger_Espanyol\"]==1)&(test_y=='Sí')&(best_test_yhat=='Sí')])\n",
    "FN = len(best_test_yhat[(test_X[\"V2_estranger_Espanyol\"]==1)&(test_y=='Sí')&(best_test_yhat=='No')])\n",
    "TN = len(best_test_yhat[(test_X[\"V2_estranger_Espanyol\"]==1)&(test_y=='No')&(best_test_yhat=='No')])\n",
    "\n",
    "cf_matrix_1 = np.array([[TN, FP], [FN, TP]]).reshape(2,2)\n",
    "FPR_spain = FP / (FP+TN)\n",
    "FNR_spain = FN / (FN+TP)\n",
    "\n",
    "FP = len(best_test_yhat[(test_X[\"V2_estranger_Estranger\"]==1)&(test_y=='No')&(best_test_yhat=='Sí')])\n",
    "TP = len(best_test_yhat[(test_X[\"V2_estranger_Estranger\"]==1)&(test_y=='Sí')&(best_test_yhat=='Sí')])\n",
    "FN = len(best_test_yhat[(test_X[\"V2_estranger_Estranger\"]==1)&(test_y=='Sí')&(best_test_yhat=='No')])\n",
    "TN = len(best_test_yhat[(test_X[\"V2_estranger_Estranger\"]==1)&(test_y=='No')&(best_test_yhat=='No')])\n",
    "\n",
    "cf_matrix_1 = np.array([[TN, FP], [FN, TP]]).reshape(2,2)\n",
    "FPR_foreign = FP / (FP+TN)\n",
    "FNR_foreign = FN / (FN+TP)\n",
    "\n",
    "index = [\"Spanish\", \"Foreigner\"]\n",
    "metrics = [\"FPR\", \"FNR\"]\n",
    "data = [[FPR_spain,FNR_spain], [FPR_foreign, FNR_foreign]]\n",
    "display(pd.DataFrame(data, index=index, columns = metrics))"
   ]
  },
  {
   "cell_type": "markdown",
   "metadata": {},
   "source": [
    "3. Which is the most suited fairness criterium for this problem? Why?"
   ]
  },
  {
   "cell_type": "markdown",
   "metadata": {},
   "source": [
    "In this problem we are assessing the probability of recividism, this is, committing a new crime. Before answering this question it is worth thinking about the consequences of each outcome. What happens when a person is predicted as recividist? Will he/she be subject to a higher surveilance in the future? Will he/she spend more time in prison? All this questions are tightly related to the consequences of incorrect predictions:\n",
    "* Predicting a recividist as non recividit (false negative) can lead to freeing a criminal that can potentially steal, kill someone, etc or any crime.\n",
    "* Predicting a non-recividist as recividist (false postive) can lead to a innocent person to have its freedom compromised.\n",
    "\n",
    "I believe that there is no universal fairness criterium that can suit this problem. There are other variables that we should consider before giving more importance to one or other metric. The consecuences of a false positive serial killer is sustantially different than the consecuences of emprisoning a pickpocket. "
   ]
  },
  {
   "cell_type": "markdown",
   "metadata": {},
   "source": [
    "4. What are your conclusion about the use of a ML model to predict recividism?\n",
    "\n",
    "I think that we encounter advantages and disadvantages. ML models can be biased, but also human predictions. The main disadvantage of ML is that it can afect a larger span of people, and with the same systematic bias. However, althought there are many social biases, humans have their own opinion that affects the predictions. Moreover, as seen in this practice, ML does not improve significantly the prediction with respect to human criteria, both in performance and fairness. The main advantage of ML is automatization, but the final result should anyhow be supervised by a human.For this reason, I conclude that ML is not needed in this problem. "
   ]
  },
  {
   "cell_type": "markdown",
   "metadata": {},
   "source": [
    "# Exercise 2\n",
    "\n",
    "We have seen that the bias in the data with respect to the protected features (sex, nationality) yields disparity between groups. To analyze the influence of data bias with respect to the protected features we can perform a comparison of the baseline, unrestricted data settings with one mitigation method that addresses these issues: equalized base rates (EBR). Differences in predictive performance, group fairness and the set of features, which are important for prediction, provide further insights in the role that these conditions play with respect to group fairness.\n",
    "\n",
    "EBR assumes the following stratified oversampling procedure. Considering the input features $x$ and the outcomes $y$, a protected feature $f'$ has $I$ possible values corresponding to different groups: $\\{g_1,…,g_I\\}$, comprising a reference group $g_{ref}$. For each group $g_i$, different to the reference group, we compute the number of positive or negative condition samples $|S_i|$ we need to add to the training data, where $|S_i|$ is the absolute value of $S_i = P(x(f')=g_i)(P(y|x(f')=g_i) - P(y|x(f')=g_{ref}))$. \n",
    "\n",
    "If $S_i$ is negative then we add to the data $|S_i|$ negative condition samples $P(y=0| P(x(f')=g_i)$, while for $S_i$ positive we add $|S_i|$ positive condition samples $P(y=1| P(x(f')=g_i)$ of group $g_i$. This procedure yields equal base rates between the group $g_i$ and the reference group $g_{ref}$, namely $P(x(f')=g_i) = P(x(f')=g_{ref})$.\n",
    "\n",
    "### Questions (justify your answers)\n",
    "\n",
    "1. Is the application of this mitigation method sufficient to guarantee fair outcomes?"
   ]
  },
  {
   "cell_type": "markdown",
   "metadata": {},
   "source": [
    "$$P(y|x(f')=g_i) = \\frac{P(y, x(f')=g_i)}{P(x(f')=g_i)}$$"
   ]
  },
  {
   "cell_type": "markdown",
   "metadata": {},
   "source": [
    "First, I tried to follow the mathematical description provided. However, the quantity $P(y|x(f')=g_i)$ is a probability distribution rather than a value and as a result $|S_i|$ is not a scalar number. So, I decided to fix $y=0$ to obtain a value."
   ]
  },
  {
   "cell_type": "code",
   "execution_count": 183,
   "metadata": {},
   "outputs": [
    {
     "name": "stdout",
     "output_type": "stream",
     "text": [
      "S_i women: -0.0207\n",
      "S_i men: 0.1401\n"
     ]
    }
   ],
   "source": [
    "prob_women = len(train[train['V1_sexe']=='Dona'])/len(train)\n",
    "women_recid = train[(train['V1_sexe']=='Dona') & (train['V115_reincidencia_2015']=='Sí')]\n",
    "prob_women_recid = len(women_recid)/len(train)\n",
    "prob_recid_given_woman = prob_women_recid /  prob_women\n",
    "\n",
    "prob_men = len(train[train['V1_sexe']=='Home'])/len(train)\n",
    "men_recid = train[(train['V1_sexe']=='Home') & (train['V115_reincidencia_2015']=='Sí')]\n",
    "prob_men_recid = len(men_recid)/len(train)\n",
    "prob_recid_given_men = prob_men_recid /  prob_men\n",
    "\n",
    "Si_ref_women = prob_women*(prob_recid_given_woman-prob_recid_given_men)\n",
    "print(\"S_i women: {:.4}\".format(Si_ref_women))\n",
    "Si_ref_men = prob_men*(prob_recid_given_men- prob_recid_given_woman)\n",
    "print(\"S_i men: {:.4}\".format(Si_ref_men))"
   ]
  },
  {
   "cell_type": "markdown",
   "metadata": {},
   "source": [
    "As expected, the result is not an integer number and if rounded, the approximation would be 0. Consequently, the number of positive or negative condition samples that we should add/remove is 0, which is not correct as it does not yield equal base rates. \n",
    "\n",
    "Second, I decided to focus on obtaining $P(x(f')=g_i) = P(x(f')=g_{ref})$ with a regular oversampling procedure. In the end, we just want to obtain the same number of men and women, and the same number of spanish and foreigners.\n"
   ]
  },
  {
   "cell_type": "code",
   "execution_count": 184,
   "metadata": {},
   "outputs": [],
   "source": [
    "#!pip install imblearn"
   ]
  },
  {
   "cell_type": "code",
   "execution_count": 185,
   "metadata": {},
   "outputs": [],
   "source": [
    "train_Xy_2 = pd.get_dummies(train[factors+['V115_reincidencia_2015']])"
   ]
  },
  {
   "cell_type": "code",
   "execution_count": 186,
   "metadata": {},
   "outputs": [
    {
     "name": "stdout",
     "output_type": "stream",
     "text": [
      "Number of women before: 56\n"
     ]
    }
   ],
   "source": [
    "cols_without_gender = train_Xy_2.columns.drop('V1_sexe_Home')\n",
    "cols_without_gender = cols_without_gender.drop('V1_sexe_Dona')\n",
    "cols_without_nationality = train_Xy_2.columns.drop('V2_estranger_Estranger')\n",
    "cols_without_nationality = cols_without_nationality.drop('V2_estranger_Espanyol')\n",
    "\n",
    "print(\"Number of women before: {}\".format(len(train_Xy_2[train_Xy_2['V1_sexe_Home']==0])))"
   ]
  },
  {
   "cell_type": "code",
   "execution_count": 187,
   "metadata": {},
   "outputs": [
    {
     "name": "stdout",
     "output_type": "stream",
     "text": [
      "[(0, 379), (1, 379)]\n",
      "\n",
      "Number of women after: 379\n"
     ]
    }
   ],
   "source": [
    "from imblearn.over_sampling import RandomOverSampler\n",
    "from collections import Counter\n",
    "X_resampled, y_resampled = RandomOverSampler().fit_resample(train_Xy_2[cols_without_gender], train_Xy_2['V1_sexe_Home'])\n",
    "print(sorted(Counter(y_resampled).items()))\n",
    "\n",
    "train_X_3 = X_resampled.copy()\n",
    "a = pd.Series(y_resampled.values, index=train_X_3.index, dtype=bool)\n",
    "train_X_3['V1_sexe_Home'] =a.astype(int)\n",
    "train_X_3['V1_sexe_Dona'] = (~a).astype(int)\n",
    "print()\n",
    "print(\"Number of women after: {}\".format(train_X_3['V1_sexe_Home'].sum()))\n",
    "train_X_4 = train_X_3.drop('V115_reincidencia_2015_Sí', axis=1)\n",
    "train_X_4 = train_X_4.drop('V115_reincidencia_2015_No', axis=1)\n",
    "train_y_4 = train_X_3[\"V115_reincidencia_2015_Sí\"]\n",
    "train_X_4 = train_X_4[test_X.columns]"
   ]
  },
  {
   "cell_type": "markdown",
   "metadata": {},
   "source": [
    "Now, we have the same probability of men and women in our dataset. Let's fit again the SVM and obtain the performance and fairness metrics."
   ]
  },
  {
   "cell_type": "code",
   "execution_count": 188,
   "metadata": {
    "scrolled": true
   },
   "outputs": [],
   "source": [
    "model_EBR = SVC(probability=True)\n",
    "model_EBR.fit(train_X_4, train_y_4)\n",
    "test_prob_EBR = model.predict_proba(test_X)[:,1] #probability of recividate\n",
    "test_yhat_EBR = model.predict(test_X)\n",
    "#test_yhat_EBR = pd.Series(test_yhat_EBR, index=test_y.index).map(lambda x: 'Sí' if x==1 else 'No')\n"
   ]
  },
  {
   "cell_type": "code",
   "execution_count": 189,
   "metadata": {},
   "outputs": [
    {
     "data": {
      "image/png": "[encoded data removed]",
      "text/plain": [
       "<Figure size 720x432 with 1 Axes>"
      ]
     },
     "metadata": {
      "needs_background": "light"
     },
     "output_type": "display_data"
    }
   ],
   "source": [
    "_ = draw_roc_curve(test_y, test_prob_EBR)"
   ]
  },
  {
   "cell_type": "code",
   "execution_count": 190,
   "metadata": {},
   "outputs": [
    {
     "data": {
      "text/html": [
       "<div>\n",
       "<style scoped>\n",
       "    .dataframe tbody tr th:only-of-type {\n",
       "        vertical-align: middle;\n",
       "    }\n",
       "\n",
       "    .dataframe tbody tr th {\n",
       "        vertical-align: top;\n",
       "    }\n",
       "\n",
       "    .dataframe thead th {\n",
       "        text-align: right;\n",
       "    }\n",
       "</style>\n",
       "<table border=\"1\" class=\"dataframe\">\n",
       "  <thead>\n",
       "    <tr style=\"text-align: right;\">\n",
       "      <th></th>\n",
       "      <th>FPR</th>\n",
       "      <th>FNR</th>\n",
       "    </tr>\n",
       "  </thead>\n",
       "  <tbody>\n",
       "    <tr>\n",
       "      <th>Men</th>\n",
       "      <td>0.198198</td>\n",
       "      <td>0.604938</td>\n",
       "    </tr>\n",
       "    <tr>\n",
       "      <th>Women</th>\n",
       "      <td>0.095238</td>\n",
       "      <td>1.000000</td>\n",
       "    </tr>\n",
       "  </tbody>\n",
       "</table>\n",
       "</div>"
      ],
      "text/plain": [
       "            FPR       FNR\n",
       "Men    0.198198  0.604938\n",
       "Women  0.095238  1.000000"
      ]
     },
     "metadata": {},
     "output_type": "display_data"
    }
   ],
   "source": [
    "FP = len(test_yhat_EBR[(test_X[\"V1_sexe_Home\"]==1)&(test_y=='No')&(test_yhat_EBR=='Sí')])\n",
    "TP = len(test_yhat_EBR[(test_X[\"V1_sexe_Home\"]==1)&(test_y=='Sí')&(test_yhat_EBR=='Sí')])\n",
    "FN = len(test_yhat_EBR[(test_X[\"V1_sexe_Home\"]==1)&(test_y=='Sí')&(test_yhat_EBR=='No')])\n",
    "TN = len(test_yhat_EBR[(test_X[\"V1_sexe_Home\"]==1)&(test_y=='No')&(test_yhat_EBR=='No')])\n",
    "\n",
    "cf_matrix_1 = np.array([[TN, FP], [FN, TP]]).reshape(2,2)\n",
    "FPR_man = FP / (FP+TN)\n",
    "FNR_man = FN / (FN+TP)\n",
    "\n",
    "FP = len(test_yhat_EBR[(test_X[\"V1_sexe_Dona\"]==1)&(test_y=='No')&(test_yhat_EBR=='Sí')])\n",
    "TP = len(test_yhat_EBR[(test_X[\"V1_sexe_Dona\"]==1)&(test_y=='Sí')&(test_yhat_EBR=='Sí')])\n",
    "FN = len(test_yhat_EBR[(test_X[\"V1_sexe_Dona\"]==1)&(test_y=='Sí')&(test_yhat_EBR=='No')])\n",
    "TN = len(test_yhat_EBR[(test_X[\"V1_sexe_Dona\"]==1)&(test_y=='No')&(test_yhat_EBR=='No')])\n",
    "\n",
    "cf_matrix_1 = np.array([[TN, FP], [FN, TP]]).reshape(2,2)\n",
    "FPR_women = FP / (FP+TN)\n",
    "FNR_women = FN / (FN+TP)\n",
    "\n",
    "index = [\"Men\", \"Women\"]\n",
    "metrics = [\"FPR\", \"FNR\"]\n",
    "data = [[FPR_man,FNR_man], [FPR_women, FNR_women]]\n",
    "display(pd.DataFrame(data, index=index, columns = metrics))"
   ]
  },
  {
   "cell_type": "markdown",
   "metadata": {},
   "source": [
    "This procedure reduces a bit the gender bias while achieving a quite good performance (lower than before, but still good).\n",
    "\n",
    "1- Is the application of this mitigation method sufficient to guarantee fair outcomes?\n",
    "\n",
    "Not really. This procedure of generating synthetic data produces that some samples have a higher weight in the model, specially when the underrepresented class is very small. EBR can help in some scenarios but as the authors explain, this method can have a negative impact in other features. For this reason, it is not a sufficient solution to guarantee fair outcomes. "
   ]
  },
  {
   "cell_type": "markdown",
   "metadata": {},
   "source": [
    "# Exercise 3\n",
    "\n",
    "In order to see which fearures are important for different predictive models we can use ML explainability models. \n",
    "\n",
    "Apply ML explainability models to the (i) human risk assessment score, (ii) to the SAVRY baseline model, and (iii) to the best ML model (in terms of performance). \n",
    "\n",
    "### Questions\n",
    "\n",
    "1. Which are the top ten most important features of each model?\n",
    "\n",
    "2. Look at the features thar are important for the best ML model after the application of the equalized base rates (EBR) mitigation stratgey. Is there any difference?"
   ]
  },
  {
   "cell_type": "markdown",
   "metadata": {},
   "source": [
    "(i)  human risk assessment score\n",
    "\n",
    "It is not possible to apply explainability techniques as we do not have the scoring function that gives an output for new instances. Most of the python libraries require a prediction function. "
   ]
  },
  {
   "cell_type": "markdown",
   "metadata": {},
   "source": [
    "(ii) to the SAVRY baseline model"
   ]
  },
  {
   "cell_type": "markdown",
   "metadata": {},
   "source": [
    "Similarly as in part (i) we cannot know how predictions are made as we do not have a predict function. The maximum that we can do is to inspect the correlation (that it is not the same as causation) of the SAVRY score and the rest of the predictors."
   ]
  },
  {
   "cell_type": "code",
   "execution_count": 191,
   "metadata": {},
   "outputs": [
    {
     "data": {
      "text/plain": [
       "V9_edat_final_programa         -0.121558\n",
       "V8_edat_fet                    -0.097544\n",
       "V102_edat_reincidencia_2015    -0.085680\n",
       "V29_durada_programa            -0.078111\n",
       "V103_temps_reincidencia_2015   -0.057052\n",
       "V28_temps_inici                -0.047431\n",
       "id                             -0.018654\n",
       "V118_edat_reincidencia_2013     0.021690\n",
       "V116_rein_nombre_fets_2013      0.062838\n",
       "V100_rein_nombre_fets_2015      0.071354\n",
       "Name: V60_SAVRY_total_score, dtype: float64"
      ]
     },
     "execution_count": 191,
     "metadata": {},
     "output_type": "execute_result"
    }
   ],
   "source": [
    "train.corr()['V60_SAVRY_total_score'].sort_values()[:10]"
   ]
  },
  {
   "cell_type": "markdown",
   "metadata": {},
   "source": [
    "(iii) to the best ML model\n",
    "\n",
    "First, I used the permutation importance technique in order to assess feature importance. This technique suffles the data column by column and measures the impact that this randomness has into the prediction. The values with higher value are the most important features, and those towards the bottom matter least. Negative values indicate features that when shuffled increased performance, so they just add noise to the model.\n",
    "\n",
    "Reference: https://www.kaggle.com/code/dansbecker/permutation-importance/tutorial"
   ]
  },
  {
   "cell_type": "code",
   "execution_count": 192,
   "metadata": {},
   "outputs": [],
   "source": [
    "from sklearn.inspection import permutation_importance\n",
    "\n",
    "model = SVC(probability=True)\n",
    "model.fit(train_X, train_y)\n",
    "test_prob = model.predict_proba(test_X)[:,1] #probability of recividate\n",
    "test_yhat = model.predict(test_X)\n",
    "\n",
    "result = permutation_importance(model, test_X, test_y, n_repeats=10, random_state=42, n_jobs=2)\n"
   ]
  },
  {
   "cell_type": "code",
   "execution_count": 193,
   "metadata": {},
   "outputs": [
    {
     "data": {
      "image/png": "[encoded data removed]",
      "text/plain": [
       "<Figure size 864x720 with 1 Axes>"
      ]
     },
     "metadata": {
      "needs_background": "light"
     },
     "output_type": "display_data"
    }
   ],
   "source": [
    "importances = result.importances_mean\n",
    "order = np.argsort(importances)[::-1]\n",
    "sorted_importances = result.importances[order]\n",
    "sorted_features = test_X.columns[order]\n",
    "\n",
    "top_10, top_10_order, top_10_names = sorted_importances[:10], order[:10], sorted_features[:10]\n",
    "plt.figure(figsize=(12,10))\n",
    "plt.subplot()\n",
    "plt.title(\"Top 10 feature importance\")\n",
    "plt.boxplot(top_10.T, vert=False, labels = top_10_names)#, labels=factors[sorted_idx]);\n",
    "plt.show()"
   ]
  },
  {
   "cell_type": "markdown",
   "metadata": {},
   "source": [
    "Here, I inspect the feature importance after EBR."
   ]
  },
  {
   "cell_type": "code",
   "execution_count": 194,
   "metadata": {},
   "outputs": [],
   "source": [
    "from sklearn.inspection import permutation_importance\n",
    "\n",
    "\n",
    "result = permutation_importance(model_EBR, test_X, test_y.map(lambda x: 1 if x=='Sí' else 0), n_repeats=10, random_state=42, n_jobs=2)\n"
   ]
  },
  {
   "cell_type": "code",
   "execution_count": 195,
   "metadata": {},
   "outputs": [
    {
     "data": {
      "image/png": "[encoded data removed]",
      "text/plain": [
       "<Figure size 864x720 with 1 Axes>"
      ]
     },
     "metadata": {
      "needs_background": "light"
     },
     "output_type": "display_data"
    }
   ],
   "source": [
    "importances = result.importances_mean\n",
    "order = np.argsort(importances)[::-1]\n",
    "sorted_importances = result.importances[order]\n",
    "sorted_features = test_X.columns[order]\n",
    "\n",
    "top_10, top_10_order, top_10_names = sorted_importances[:10], order[:10], sorted_features[:10]\n",
    "plt.figure(figsize=(12,10))\n",
    "plt.subplot()\n",
    "plt.title(\"Top 10 feature importance\")\n",
    "plt.boxplot(top_10.T, vert=False, labels = top_10_names)#, labels=factors[sorted_idx]);\n",
    "plt.show()"
   ]
  },
  {
   "cell_type": "markdown",
   "metadata": {},
   "source": [
    "Features differ in both models (no EBR and EBR)."
   ]
  }
 ],
 "metadata": {
  "kernelspec": {
   "display_name": "Python 3 (ipykernel)",
   "language": "python",
   "name": "python3"
  },
  "language_info": {
   "codemirror_mode": {
    "name": "ipython",
    "version": 3
   },
   "file_extension": ".py",
   "mimetype": "text/x-python",
   "name": "python",
   "nbconvert_exporter": "python",
   "pygments_lexer": "ipython3",
   "version": "3.9.7"
  },
  "nteract": {
   "version": "0.28.0"
  }
 },
 "nbformat": 4,
 "nbformat_minor": 4
}
