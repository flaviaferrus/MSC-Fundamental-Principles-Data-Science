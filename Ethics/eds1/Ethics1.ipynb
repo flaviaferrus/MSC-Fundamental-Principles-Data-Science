{
 "cells": [
  {
   "cell_type": "markdown",
   "id": "50a8e331-17a1-443e-a939-012f21cf6586",
   "metadata": {
    "tags": []
   },
   "source": [
    "# ED 0: Introduction"
   ]
  },
  {
   "cell_type": "markdown",
   "id": "ee297822-cfa4-4d9a-a6a2-4182deeb82da",
   "metadata": {},
   "source": [
    "Data science has the potential to be both beneficial and detrimental to individuals and/or the wider public. To help eliminate/mitigate any adverse effects, we must seek to understand the potential impact of our work and consider any opportunities that may deliver benefits for the public\n",
    "\n",
    "While there is no single definition of data science, it can be broadly thought of as scientific, computational and analytical methods used to process and extract information, knowledge, and insights from data to inform decision-making (or to act in an automatic way). Data science is the study of extracting value from data – value in the form of \n",
    "- **insights**: A hypothesis, testable with more data \n",
    "- **conclusions**:\n",
    "    - Prediction of a consequence\n",
    "    - Recommendation of a useful action\n",
    "    - Clustering that groups similar elements\n",
    "    - Classification that labels elements in groupings\n",
    "    - Transformation that converts data to a more useful form\n",
    "    - Optimization that moves a system to a better state\n",
    "\n",
    "Insights and conclusions often arise from **models**, which are abstractions of the real world. \n",
    "- We have: Data in the world - represents -> Model - Yields -> Model conclusion - Corresponds -> World conclusion. Thus, Data in the world - Results in -> World conclusion\n",
    "Models that generate these conclusions may be \n",
    "- **clear box**: model's logic is available for inspection by others \n",
    "- **black box**: model's logic not available \n",
    "- **opaque box**: model whose operation is not comprehensible\n",
    "\n",
    "As data science methods become more common within different fields, there are both opportunities and challenges for individuals working in data science. For example, managing:\n",
    "- privacy, \n",
    "- fairness, and \n",
    "- bias\n",
    "when working with people’s data can be difficult and complex when using algorithmic methods.\n",
    "\n",
    "\n"
   ]
  },
  {
   "cell_type": "markdown",
   "id": "c621f125-05cd-4c59-b6a1-19a86233e221",
   "metadata": {},
   "source": [
    "## Stages of responsible model development, debugging, understanding and deployment:"
   ]
  },
  {
   "cell_type": "markdown",
   "id": "e46ee988-30ac-44df-92f6-f157013a7edb",
   "metadata": {},
   "source": [
    "- **Data**: Consider whether data of sufficient integrity, size, quality, and manageability exists or could be obtained. \n",
    "- **Approach**: Consider whether there is a technical approach grounded in data, such as an analysis, a model, or an interactive visualization, that can achieve the desired result.\n",
    "- **Dependability**: privacy protections, security, \n",
    "- **Understandability**: need to detail the causal chan underlying its conclusions, transparecy, reproducibility\n",
    "- **Focus**: well-specified objectives \n",
    "- **Tolerance**: possible unintended side effects if the objective is not quite right and the possible damage from failing to meet objectives\n",
    "- **ELSI**: application holistically with regard to legality, risk, ethical considerations. Dependability or Clear Objectives. "
   ]
  },
  {
   "cell_type": "markdown",
   "id": "292de840-2cc0-4b1d-964b-88811954177f",
   "metadata": {},
   "source": [
    "### Some examples:"
   ]
  },
  {
   "cell_type": "markdown",
   "id": "99fbb85d-66be-4f50-9c12-b2a1a144c9c8",
   "metadata": {},
   "source": [
    "\n",
    "Some Data Science problems that may have ethical challenges: \n",
    "- Analyzing Speech Recognition: \n",
    "    - there is a **privacy** issua if speech recordings or transcripts are transmitted or stored. Therefore, many applications do speech recognition on-device without retaining recordings.\n",
    "    - Machine-learned speech recognition models may perform poorly for subpopulations. Supporting these subpopulations is beneficial to all, and the balance of effort to do so is a **fairness** issue that must be considered.\n",
    "- Music Recommendation: \n",
    "    - there are many ethical issues relating to the type of recommendations made and their impact on individual listeners, their community, and the creator/ artist whose success may be at the mercy of these algorithms.\n",
    "- Analyzing Protein Folding: \n",
    "    - ELSI issues related to protein folding are minimal, though applying that knowledge (e.g., in diagnosing or treating disease) will result in many challenges.\n",
    "- Analyzing Healthcare Records: \n",
    "    - Health-related data is significantly regulated, as are study designs involving patient health records.\n",
    "- More interesting examples with tables on the ppt!\n"
   ]
  },
  {
   "cell_type": "markdown",
   "id": "75a0b922-3466-47d9-9647-051968fde67a",
   "metadata": {
    "tags": []
   },
   "source": [
    "## The role of technology in society"
   ]
  },
  {
   "cell_type": "markdown",
   "id": "2f71639d-5e45-445e-9e5d-962ae403493a",
   "metadata": {},
   "source": [
    "The course of **human history** can be grouped into three time periods separated by \"revolutions\":\n",
    "- **Cognitive Revolution**: Language was developed by humans\n",
    "- **Agricultural Revolution**: The humanity didn't have the necessity to keep moving around, they could stay, stabilize and create civilizations\n",
    "- **Scientific revolution**: Changed the process of developing things. \n",
    "- **Digital Revolution**: Concepts such as big data, machine learning, artificial intelligence and data science are making possible a new Revolution, the Digital, which can have as much or deeper consequences than the previous ones. The digital revolution will change the way we live, our environment, and will be the most profound revolution of all of these revolutions (that changed things in that moment)\n",
    "\n",
    "A Revolution is associated with a change, often of a technological nature, that causes the human species to change its way of life.\n",
    "\n",
    "**Kranzberg's First Law**: Technology is neither good nor bad: nor is neutral. \n",
    "- By which he means that, “technology’s **interaction** with the social ecology is such that technical developments frequently have environmental, social, and human **consequences that go far beyond the immediate purposes** of the technical devices and practices themselves, and the same technology can have quite **different results** when introduced into **different contexts** or under different circumstances\n",
    "\n",
    "**Technologies are not ethically ‘neutral’**, for they\n",
    "reflect the values that we ‘bake in’ to them with\n",
    "our design choices, as well as the values which\n",
    "guide our distribution and use of them. Technologies both reveal and shape what\n",
    "humans value, what we think is ‘good’ in life and\n",
    "worth seeking. "
   ]
  },
  {
   "cell_type": "markdown",
   "id": "9bacc77b-754a-473b-b01d-63a6f2bb74bf",
   "metadata": {},
   "source": [
    "Not only does technology greatly impact our\n",
    "opportunities for living a **good** life, but its\n",
    "**positive and negative impacts are often\n",
    "distributed unevenly** among individuals and\n",
    "groups. Technologies can create widely disparate\n",
    "impacts, creating **‘winners’ and ‘losers’** in the\n",
    "social lottery or magnifying existing inequalities:\n",
    "- All revolutions have winners and losers, and we cannot change it. However we can mitigate the impact over the losers of a revolution. \n",
    "\n",
    "How do we ensure that access to the\n",
    "enormous benefits promised by new\n",
    "technologies, and exposure to their risks, are\n",
    "distributed in the right way? This is a matter\n",
    "of **ethics**."
   ]
  },
  {
   "cell_type": "markdown",
   "id": "ebd5116d-f3cd-49d6-b838-5c0b359c3394",
   "metadata": {},
   "source": [
    "## The role of Big Tech"
   ]
  },
  {
   "cell_type": "markdown",
   "id": "d3f5c24f-7d40-47bc-8eb8-737295e0da01",
   "metadata": {},
   "source": [
    "The **three main corporate and industry logics** in **Big Tech** are **meritocracy, technological solutionism**, and **market fundamentalism**:\n",
    "- **Meritocracy**: is an ideological framework that **legitimizes unequal distributions of wealth and power as arising from differences in individual abilities**\n",
    "    - This has defined the modern subject: as autonomous and responsible for perpetual self-improvement.\n",
    "    - The tech industry was founded on the myth that it is a **meritocratic segment where talents should be rewarded handsomely**. This meritocratic belief manifests in the idea that engineers are best at solving ethical issues that their products might create. \n",
    "    -  Similarly, meritocratic logics place a strong emphasis on individual ethics rather than regulation and legislation.\n",
    "    - Companies and teams try to come up with their own codes of ethics to drive off legislation\n",
    "- **Technological solutionism**: is the **belief that technology can solve social problems**, which are then reinforced by the financial rewards that the industry has gained for producing technology that they believe solve the problems.\n",
    "    - This logic leads to creation of checklists, procedures or evaluative metrics to ensure the design and implementation of ethical products.\n",
    "    - The authors however point out that this approach is limited, and problematic because it centers ethics in the practices of technologists, and not in the social worlds wherein technical systems are created.\n",
    "- **Market Fundamentalism**: or market logics, refers to the idea that **companies are there to make money, and if ethics initiatives are cut into the bottom line, companies should not do it.**\n",
    "    - There is a belief that ethical initiatives are often costly, and antithetical to corporate profits. Furthermore across the industry, if other companies do not implement similar ethical considerations on their products, one should not do it.\n",
    "    - In the context of the absence of a legal framework, implementing ethics initiatives might be a business problem rather than a solution. In other words, **the works of ethics owners in practice are constrained by what the market can allow**."
   ]
  },
  {
   "cell_type": "markdown",
   "id": "56fb88b2-16b4-4b9e-981f-09bb44405a58",
   "metadata": {},
   "source": [
    "## Ethics and Algorithms"
   ]
  },
  {
   "cell_type": "markdown",
   "id": "0c2aa9a9-dae4-4a75-a9ca-9b1c8a035128",
   "metadata": {},
   "source": [
    "We will consider algorithms that are used to:\n",
    "1. Turn data into evidence for a given outcome, which is used to\n",
    "2. Trigger and motivate an action that may have ethical consequences\n",
    "\n",
    "Actions 1. and 2. may be performed by semi-autonomous algorithms- such as ML- and this complicates the attribution of responsability for the effects of actions that an algorithm may trigger. \n",
    "\n",
    "There are at least 5 types of **ethical concerns**:\n",
    "- Epsitemic factors: relevance of the quality and accuracy of the data for the justifiability of the conclusions that algorithms reach and which may shape morally-loaded decisions affecting individuals, societies and the environment. \n",
    "    1. Inconclusive evidence\n",
    "    2. Inescrutable evidence\n",
    "    3. Misguided evidence\n",
    "- Normative concerns: ethical impact of the algorithmically-driven actions and decisions, including lack of transparency of algorithmic processes, unfair outcomes, and unintended consequences. \n",
    "    4. Unfair outcomes\n",
    "    5. Transformative effects"
   ]
  },
  {
   "cell_type": "markdown",
   "id": "38967a09-dff9-4712-9e72-757393d18ae7",
   "metadata": {},
   "source": [
    "## Applied ethics Problems"
   ]
  },
  {
   "cell_type": "markdown",
   "id": "e1c9a466-3d49-4697-be05-eef775fd4061",
   "metadata": {},
   "source": [
    "DS/AI ethics concerns can be divided in 3 different time frames/areas:\n",
    "- Short-time/organization: What is the impact of [privacy, transparency, fairness] in my application?\n",
    "- Medium-time/society: How the use [military use, medical care, justice, education] of these applications will change the way we are organized as a society?\n",
    "- Long-time/humans: What are the ethical goals of these technologies?"
   ]
  },
  {
   "cell_type": "markdown",
   "id": "5e9534af-6d58-40d5-9020-37c9a48cbf0f",
   "metadata": {
    "jp-MarkdownHeadingCollapsed": true,
    "tags": []
   },
   "source": [
    "# ED1"
   ]
  },
  {
   "cell_type": "markdown",
   "id": "19508eb4-c70a-4041-bd36-3ee01c6be1e0",
   "metadata": {},
   "source": [
    "**Industry self-regulation** is the process whereby members of an industry, trade or sector of the economy monitor their own adherence to legal, ethical, or safety standards, rather than have an outside, independent agency such as a third party entity or governmental regulator monitor and enforce those standards."
   ]
  },
  {
   "cell_type": "markdown",
   "id": "52acde82-d5f9-4d53-bcb2-5da6cb6ddb02",
   "metadata": {},
   "source": [
    "## Data and Ethics"
   ]
  },
  {
   "cell_type": "markdown",
   "id": "d370469e-a857-4d12-bd48-dfcb9e16d28f",
   "metadata": {},
   "source": [
    "The combination of data analytics, a data-saturated and poorly regulated commercial environment, and the absence of widespread, well-designed standards for data practice in industry, university, non-profit, and government sectors has created a ‘perfect storm’ of **ethical risks**.\n",
    "\n",
    "Thus no single set of ethical rules or guidelines will fit all data circumstances; ethical insights in data practice must be adapted to the needs of many kinds of data practitioners operating in different contexts.\n",
    "\n",
    "In the context of data practice, the potential harms and benefits are real and ethically significant. But due to the more complex, abstract, and often widely distributed nature of data practices, as well as the interplay of technical, social, and individual forces in data contexts, the harms and benefits of data can be harder to see and anticipate.\n",
    "\n",
    "In this respect, then, data has a broader ethical sweep than engineering of bridges and airplanes. Data practitioners must confront a far more complex ethical landscape than many other kinds of technical professionals..."
   ]
  },
  {
   "cell_type": "markdown",
   "id": "9221d1ee-f04e-4920-91eb-7386ba089c72",
   "metadata": {},
   "source": [
    "## Ethical benefits of Data Practices:"
   ]
  },
  {
   "cell_type": "markdown",
   "id": "3d0aab5b-9f6e-4fa1-a3c2-a64de787e905",
   "metadata": {},
   "source": [
    "- **Human Understanding**: Because data and its associated practices can uncover previously unrecognized correlations and patterns in the world, **data can greatly enrich our understanding of ethically significant relationships — in nature, society, and our personal lives.**\n",
    "- **Social, institutional, and economic efficiency:** Once we have a more accurate picture of how the world works, **we can design or intervene in its systems to improve their functioning**. This reduces wasted effort and resources and improves the alignment between a social system or institution’s policies/processes and our goals\n",
    "- **Predictive accuracy and personaization**: Not only can good data practices help to make social systems work more efficiently, but they can also be used to more precisely **tailor actions to be effective in achieving good outcomes for specific individuals, groups, and circumstances**, and to be more responsive to user input in (approximately) real time."
   ]
  },
  {
   "cell_type": "markdown",
   "id": "5477a743-574c-4254-9e23-3fd0956b551d",
   "metadata": {},
   "source": [
    "## Ethical HARMS of Data Practices:"
   ]
  },
  {
   "cell_type": "markdown",
   "id": "1e8d0f4a-ed82-4a18-b0bd-204bb11335c9",
   "metadata": {},
   "source": [
    "- **Harms to Privacy and Security**: Thanks to the ocean of personal data that humans are generating today (or, to use a better metaphor, the many different lakes, springs, and rivers of personal data that are pooling and flowing across the digital landscape), most of us do not realize how **exposed our lives are**, or can be, by common data practices.\n",
    "- **Harms to Fairness and Justice**: We all have a **significant interest in being judged and treated fairly**, whether it involves how we are treated by law enforcement and the criminal and civil court systems, how we are evaluated by our employers and teachers, the quality of health care and other services we receive, or how financial institutions and insurers treat us.\n",
    "- **Harms to Transparency and Autonomy**: transparency is the **ability to see how a given social system or institution works**, and to be able to inquire about the basis of life-affecting decisions made within that system or institution. "
   ]
  },
  {
   "cell_type": "markdown",
   "id": "f032a116-300b-454c-b01f-c4373c2fcc5f",
   "metadata": {},
   "source": [
    "### Europe's GDPR: General Data Protection Regulation"
   ]
  },
  {
   "cell_type": "markdown",
   "id": "7a204d4f-00f5-4b50-9a2a-10bdc6e26915",
   "metadata": {},
   "source": [
    "The GDPR can be summarised in the following points:\n",
    "1. It concerns **“Personal Data**”: Name, address, localisation, online identifier, health information, income, cultural profile, ...\n",
    "2. Communication: Who gets the data, why, for how long? (No use for other ‘incompatible’ purposes. Use as long as necessary.)\n",
    "3. Consent: Get clear informed consent\n",
    "4. Access: Provide access to my data.\n",
    "5. Right to be forgotten (not for research).\n",
    "6. Right to explanation for contracts (& right to have a person decide).\n",
    "7. Marketing: Right to opt out.\n",
    "8. Legal: Maintain EU legislation when transferring data out.\n",
    "9. Need for a “data protection officer” in your organisation.\n",
    "10. Impact assessment prior to high-risk processing (new rechnology, personal information, surveillance, sensitive)\n",
    " "
   ]
  },
  {
   "cell_type": "markdown",
   "id": "dd0cc4a9-bc84-4e2f-9a8b-277fca4a63cb",
   "metadata": {},
   "source": [
    "## What is Ethics"
   ]
  },
  {
   "cell_type": "markdown",
   "id": "f3b332ff-3ae9-4d00-b68a-4e30a825fd9b",
   "metadata": {},
   "source": [
    "**Ethics is the process of questioning, discovering and defending your values, principles and purposes in order to be able of deciding what is right and what is wrong.**\n",
    "\n",
    "> Interesting schemes on the diaps 26/27\n",
    "\n",
    "In order to make a good individual decision we take into account:\n",
    "1. **Our knowledge**: our vision of the worlds\n",
    "    - **Society: Moral** (our environment)\n",
    "        - **Morality refers to an informal social framework of values, beliefs, principles, customs and ways of living**\n",
    "        - Moral systems provide a set of answers to general ethical questions.\n",
    "        - Morality is, in most of the cases, inherited (unconsciously) from family, community or culture.\n",
    "            - Exampples: christianity, stoicism, buddhism, ...\n",
    "        - Morality is applied as a matter of habbit, without having to think.\n",
    "    - **Philosophy: Law:**\n",
    "        - Laws are formal rules that govern how we behave as members of a society. \n",
    "        - They specify what we must do, and more frequently, what we must not do.\n",
    "        - They create an enforceable standard of behavior.\n",
    "        - Laws can be just or injust, because they are subject to ethical assessment.\n",
    "    - Science: our knowledge\n",
    "    - Belieafs abour reality\n",
    "2. Our beliefs: necessary ingredients of a good individual decision. The most common approach is to consider that, rather than grounding our beliefs on a solid foundation, we assemble a collection of beliefs that hold together under a mutual (maybe unstable) knowledge attraction.\n",
    "    - Purpose: our reason for being:\n",
    "        - Leaving the worlds better than we found it\n",
    "    - Principles: Lines we'll never cross\n",
    "        - Treat other people the way you would like to be treated\n",
    "    - Values: The things that are good:\n",
    "        - Justice, knwoledge, equality\n",
    "        \n",
    " The role of ethics is not to be a soft version of the\n",
    " law, even if laws are based on ethical principles.\n",
    " The real application of ethics lies in\n",
    " challenging the status quo, seeking its deficits\n",
    " and blind spots.\n",
    " \n",
    "You can take decisions exclusively based on **laws and morality**, but this should not be enough.\n",
    "Ethics is a process of **reflection** that aims to answer this question: What should I do?\n",
    "The answer is based on our **values, principles and purposes** rather than social conventions.\n",
    "An ethical decision is based on conscious, rational reflection."
   ]
  },
  {
   "cell_type": "markdown",
   "id": "36b3faae-2f46-4b66-b5f8-fa568aac8d22",
   "metadata": {
    "tags": []
   },
   "source": [
    "### Traditional Normative Ethics"
   ]
  },
  {
   "cell_type": "markdown",
   "id": "6d178185-3947-4032-a525-2f6696a726ca",
   "metadata": {
    "tags": []
   },
   "source": [
    "\n",
    "\n",
    "\n",
    "Nomative ethics means to understand the regulations and act according to the legal rules. There are three traditional theories of what it means to be ethical:\n",
    "\n",
    "- **Utilitarianism**: (J. Bentham)\n",
    "    - Allows not following the rules depending on the **consequencies** if it is for the society good.\n",
    "    - From an utilitarian point of view you can justify some discrimination of the minority. \n",
    "- **Deontology**: Kant **follows the rules** till the very end, even if it implies doing something that does not benefit the society (e.g. the **Golden Rule: ‘Treat others how you want to be treated’**). It always follows the rules. An action should be based on whether that action itself is right or wrong under a series of rules, rather than based on the consequences of the action. (**beliefs**) Clear rules, i.e. *don't lie*, *don't kill*. \n",
    "- **Virtue ethics**: (Aristotle) Does an action contribute to virtue? (**justice, honesty, responsability, care**, etc)\n",
    "\n",
    "Pragmatic ethics comes when we do not follow one of these ideas strictly, and instead we understand them and combine them depending on the situation. \n",
    "\n",
    "#### Example:\n",
    "\n",
    "I, Robot, defined 3 rules in order to protect the humanity from robots. This follows the **Deontology** rule of ethics. Nevertheless, even when strictly following these rules, robots could hurt humanity. So there is no perfect approach for ethics.\n",
    "\n",
    "1. A robot may not injure a human being or, through inaction, allow a human being to come to harm.\n",
    "2. A robot must obey orders given it by human beings except where such orders would conflict with the First Law.\n",
    "3. A robot must protect its own existence as long as such protection does not conflict with the First or Second Law.\n"
   ]
  },
  {
   "cell_type": "markdown",
   "id": "cf0c9d72-7af5-400d-87c2-b861ffe61c7e",
   "metadata": {},
   "source": [
    "#### Traditional Ethics: Example 2"
   ]
  },
  {
   "cell_type": "markdown",
   "id": "8f55ceca-3a72-4f43-9c3b-744bfd986977",
   "metadata": {},
   "source": [
    "Suppose it is obvious that someone in need should be helped.\n",
    "- A utilitarian will point to the fact that the consequences of doing so will maximize **well-being.**\n",
    "- A deontologist will point to the fact that, in doing so the agent will be acting in accordance with a **moral rule** such as “Do unto others as you would be done by”.\n",
    "- A virtue ethicist will point to the fact that helping the person would be charitable or **benevolent**."
   ]
  },
  {
   "cell_type": "markdown",
   "id": "321cda51-ea30-472d-8337-d0b0ad4acd16",
   "metadata": {},
   "source": [
    "### Political Philosophy"
   ]
  },
  {
   "cell_type": "markdown",
   "id": "f42eb42c-bad7-4dec-ac05-e420674f8c83",
   "metadata": {},
   "source": [
    "There are 4 theories about what is right and what is wrong in society. \n",
    "\n",
    "- John Rawls (**Rawlsians**): when we make a decision we must make it from the point of view of the **ignorance (and not from the personal point of view)**. I.e. this decision could be taken from any unknown person (this is what means from the **point of view of the ignorance**. This comes from the **consequences** of actions: **Utilitarians**!\n",
    "    - The assurance of basic necessities and the opportunity to do better would form the foundation for social and political justice and provide the ability for people to assert themselves.\n",
    "- John Locke (**Libertarians**): individuality at the extreme, individualistic point of view. \n",
    "    -  A man had a right to live for himself and an **individual’s happiness cannot be prescribed by another man or any number of other men**\n",
    "    -  Libertarianism holds that the basic moral concepts are **individual rights** and that the rights to be respected are noninterference rights. These generally fall under the heading of rights to life, to **liberty or to property**.\n",
    "    -  For libertarianism, the only proper limit to one person's enjoyment of these rights is his or her duty to respect the similar rights of others.\n",
    "- John Stuart Mill (**Utilitarians**): you should make decisions always from the point of views of the **greatest good for the greatest number**:\n",
    "    - Utilitarian calculus opens up the possibility that in situations such as a pandemic, some people might justly be sacrificed for the greater good. It would benefit society to accept casualties.\n",
    "- Michael Sandel (**Communitarians**): Everyone derives their identify from the broader community. **Individual rights count, but not more than community norms**. Justice cannot be determined in a vacuum or behind a veil of ignorance, but must be rooted in society (common good). **First community and then the individuals**. \n",
    "- Marx: radical way of thinking about decisions and society. Emancipation is a key concept.\n"
   ]
  },
  {
   "cell_type": "markdown",
   "id": "0c430ac3-fd36-4b6a-a921-94a3255ff732",
   "metadata": {},
   "source": [
    "### Only west-centric values?"
   ]
  },
  {
   "cell_type": "markdown",
   "id": "f5a9169c-af9f-42b7-89cf-ae2af9294880",
   "metadata": {},
   "source": [
    "#### Example: Buddhism"
   ]
  },
  {
   "cell_type": "markdown",
   "id": "0293bf42-f254-4bf7-bdde-8eaabd518cda",
   "metadata": {},
   "source": [
    "Buddhism proposes a way of thinking about ethics based on the assumption that **all sentient beings want to avoid pain**. Thus, the Buddha teaches that an action is good if it leads to **freedom from suffering.**\n",
    "\n",
    "Another key concept in Buddhism is compassion, or the desire and commitment to eliminate suffering in others. \n",
    "\n",
    "> The idea that we can change the world by doing things is an illusion. Buddhism defends that the only effective thing we can do is to be good personally, and then by being a reference or example the other people in the world will also be better: the only way to do good is by the power of the example. \n"
   ]
  },
  {
   "cell_type": "markdown",
   "id": "34da7fd3-505d-4255-9343-fda7da7be4a3",
   "metadata": {},
   "source": [
    "\n",
    "#### Canonical views of AI ethics?"
   ]
  },
  {
   "cell_type": "markdown",
   "id": "3b816334-b949-4ff0-ad81-858f3837921a",
   "metadata": {},
   "source": [
    "Interesting shceme diap 45"
   ]
  },
  {
   "cell_type": "markdown",
   "id": "eb6c4ce3-f5d1-485a-b172-e10b74a30dff",
   "metadata": {},
   "source": [
    "### Ethics approaches"
   ]
  },
  {
   "cell_type": "markdown",
   "id": "64493fa1-7206-4d7d-b1a4-d84c2e9908a3",
   "metadata": {},
   "source": [
    "- The **normative approach to ethics focuses on how the world should be**. \n",
    "- The **positive approach to ethics describes the world as it is**"
   ]
  },
  {
   "cell_type": "markdown",
   "id": "1b2dc0b0-90b3-43e9-b6ad-f7e75b3880ec",
   "metadata": {},
   "source": [
    "### An alternative approach to ethics"
   ]
  },
  {
   "cell_type": "markdown",
   "id": "7409674a-4f93-4def-9741-17e362f493c6",
   "metadata": {},
   "source": [
    "#### Positive approach"
   ]
  },
  {
   "cell_type": "markdown",
   "id": "1d146b97-ff36-40ef-bb9c-92d956022ae9",
   "metadata": {},
   "source": [
    "The **positive approach** to ethics describes the world as it is. It is about **how humans judge situations and decisions in different scenarios**. When we judge decisions, we follow different criteria when considering people and machines:\n",
    "- For instance, empirical work has shown that people exhibit **algorithmic aversion**, a bias where people tend to reject algorithms even when they are more accurate than humans.\n",
    "\n",
    "In recent decades, psychologists have discovered **five moral dimensions** that humans consider when judging situations:\n",
    "- **Harm**, which can be both physical or psychological \n",
    "- **Fairness/liberty**, which is about biases in processes and procedures\n",
    "- **Loyalty**, which ranges from supporting a group to betraying a country\n",
    "- **Authority**, which involves disrespecting elders or superiors, or breaking rules\n",
    "- **Purity**, which involves concepts as varied as the sanctity of religion or personal hygiene.\n",
    "\n",
    "These five dimensions define a space where we, humans, decide what is right and what is wrong.\n",
    "\n",
    "When judging situations we consider these factors. The weight we give to each of them changes depending on whether we are judging a person or a machine. \n",
    "-  Findings suggest that people judge machines based on the observed outcome, but judge humans based on a combination of outcome and intention.\n",
    "- Humans are judged more positively than machines in autonomous driving scenarios\n",
    "- Humans are judged more harshly (plagiarism)\n",
    "\n"
   ]
  },
  {
   "cell_type": "markdown",
   "id": "7e121980-36da-4702-b5ae-6436cd03b20f",
   "metadata": {},
   "source": [
    "# Exam:\n",
    "\n",
    "We should know the general terms: normative, utilitarian, deontological"
   ]
  },
  {
   "cell_type": "markdown",
   "id": "51e694f8-c12d-4275-9fa0-f83b23505823",
   "metadata": {},
   "source": [
    "## Assignment 1\n",
    "\n",
    "Clearly the given dataset is biased. What we would like to have is a dataset. What we do in order to equilibrate class A and class B is to oversample class B in order to get 6-3 additional samples. Sample could be as simple as repeating the samples on the dataset, or reweight the dataset (this is the interesting way to do it). There are several ways to do it implemented on Python (reweighting works better). \n",
    "\n",
    "In order to select the columns we need an expert to know the information provided by each column. \n",
    "\n",
    "This is all regarding statistical methods. "
   ]
  }
 ],
 "metadata": {
  "kernelspec": {
   "display_name": "Python 3 (ipykernel)",
   "language": "python",
   "name": "python3"
  },
  "language_info": {
   "codemirror_mode": {
    "name": "ipython",
    "version": 3
   },
   "file_extension": ".py",
   "mimetype": "text/x-python",
   "name": "python",
   "nbconvert_exporter": "python",
   "pygments_lexer": "ipython3",
   "version": "3.9.7"
  }
 },
 "nbformat": 4,
 "nbformat_minor": 5
}
