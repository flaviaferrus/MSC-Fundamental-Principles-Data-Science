{
 "cells": [
  {
   "cell_type": "markdown",
   "id": "d483a8cc-30d3-4b4f-ba2e-3ba6ee442cc7",
   "metadata": {
    "tags": []
   },
   "source": [
    "# 0. Introduction"
   ]
  },
  {
   "cell_type": "markdown",
   "id": "2fe86b81-5658-48ed-b741-1be42cfb0b4a",
   "metadata": {},
   "source": [
    "## 0.1 Stages of responsible model development, debugging, understanding and deployment:"
   ]
  },
  {
   "cell_type": "markdown",
   "id": "3aeedc08-96ec-45c7-8de2-d134d8205763",
   "metadata": {},
   "source": [
    "- **Data**: Consider whether data of sufficient integrity, size, quality, and manageability exists or could be obtained. \n",
    "- **Approach**: Consider whether there is a technical approach grounded in data, such as an analysis, a model, or an interactive visualization, that can achieve the desired result.\n",
    "- **Dependability**: privacy protections, security, \n",
    "- **Understandability**: need to detail the causal chan underlying its conclusions, transparecy, reproducibility\n",
    "- **Focus**: well-specified objectives \n",
    "- **Tolerance**: possible unintended side effects if the objective is not quite right and the possible damage from failing to meet objectives\n",
    "- **ELSI**: application holistically with regard to legality, risk, ethical considerations. Dependability or Clear Objectives. "
   ]
  },
  {
   "cell_type": "markdown",
   "id": "d893fd0b-bcb2-4b5a-a434-e02297f78931",
   "metadata": {},
   "source": [
    "## 0.2 The role of technology in society"
   ]
  },
  {
   "cell_type": "markdown",
   "id": "c20319e6-af8c-4e80-baf5-54ec663f97ef",
   "metadata": {},
   "source": [
    "- **Cognitive Revolution**: Language was developed by humans\n",
    "- **Agricultural Revolution**: The humanity didn't have the necessity to keep moving around, they could stay, stabilize and create civilizations\n",
    "- **Scientific revolution**: Changed the process of developing things. \n",
    "- **Digital Revolution**: Concepts such as big data, machine learning, artificial intelligence and data science are making possible a new Revolution, the Digital, which can have as much or deeper consequences than the previous ones. The digital revolution will change the way we live, our environment, and will be the most profound revolution of all of these revolutions (that changed things in that moment)\n",
    "\n",
    "A Revolution is associated with a change, often of a technological nature, that causes the human species to change its way of life.\n",
    "\n",
    "**Kranzberg's First Law**: Technology is neither good nor bad: nor is neutral. "
   ]
  },
  {
   "cell_type": "markdown",
   "id": "f1bfd269-012d-40ea-8f6f-76c723cb1c06",
   "metadata": {},
   "source": [
    "## 0.3 The role of Big Tech"
   ]
  },
  {
   "cell_type": "markdown",
   "id": "caf406bd-855f-4b2c-8ec1-1763dcb6887c",
   "metadata": {},
   "source": [
    "The **three main corporate and industry logics** in **Big Tech** are **meritocracy, technological solutionism**, and **market fundamentalism**:\n",
    "- **Meritocracy**: is an ideological framework that **legitimizes unequal distributions of wealth and power as arising from differences in individual abilities**\n",
    "- **Technological solutionism**: is the **belief that technology can solve social problems**, which are then reinforced by the financial rewards that the industry has gained for producing technology that they believe solve the problems.\n",
    "- **Market Fundamentalism**: or market logics, refers to the idea that **companies are there to make money, and if ethics initiatives are cut into the bottom line, companies should not do it.**"
   ]
  },
  {
   "cell_type": "markdown",
   "id": "6e45aa92-7bf0-4791-bb6b-ef2051bb0d54",
   "metadata": {},
   "source": [
    "## 0.4 Ethics and Algorithms"
   ]
  },
  {
   "cell_type": "markdown",
   "id": "58d9fd90-ca69-4325-babc-a93b4c1ef847",
   "metadata": {},
   "source": [
    "There are at least 5 types of **ethical concerns**:\n",
    "- **Epsitemic factors**: relevance of the quality and accuracy of the data for the justifiability of the conclusions that algorithms reach and which may shape morally-loaded decisions affecting individuals, societies and the environment. \n",
    "    1. **Inconclusive evidence**\n",
    "    2. **Inescrutable evidence**\n",
    "    3. **Misguided evidence**\n",
    "- **Normative concerns**: ethical impact of the algorithmically-driven actions and decisions, including lack of transparency of algorithmic processes, unfair outcomes, and unintended consequences. \n",
    "    4. **Unfair outcomes**\n",
    "    5. **Transformative effects**"
   ]
  },
  {
   "cell_type": "code",
   "execution_count": null,
   "id": "23d80e82-5b98-4cbd-ac2a-4c9fbb88dac9",
   "metadata": {},
   "outputs": [],
   "source": []
  }
 ],
 "metadata": {
  "kernelspec": {
   "display_name": "Python 3 (ipykernel)",
   "language": "python",
   "name": "python3"
  },
  "language_info": {
   "codemirror_mode": {
    "name": "ipython",
    "version": 3
   },
   "file_extension": ".py",
   "mimetype": "text/x-python",
   "name": "python",
   "nbconvert_exporter": "python",
   "pygments_lexer": "ipython3",
   "version": "3.9.7"
  }
 },
 "nbformat": 4,
 "nbformat_minor": 5
}
