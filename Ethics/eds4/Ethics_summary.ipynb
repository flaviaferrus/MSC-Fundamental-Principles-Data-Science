{
 "cells": [
  {
   "cell_type": "markdown",
   "id": "e4cbea9b-1455-4ef3-8ddb-f72a8f6cc657",
   "metadata": {},
   "source": [
    "# How can the company ensure that the use of LLM is ethical and responsible?\n",
    "\n",
    "REPSOL company: fuel company, note that any kind of missleading decisions would have a high impact on the environment and on the society. \n",
    "\n",
    "RESPONSIBLE!\n",
    "- Security \n",
    "- Privacy\n",
    "- Bias \n",
    "\n",
    "Are we using AI in **responsible** ways?\n",
    "- Possible implementation: \n",
    "    - Prepare travelling routes:\n",
    "        - Do we respect our **privacy** on the route setting?\n",
    "            - Taking into account that information and rout is used or not for further training and recommanations on future route setting. This is basic for ensuring the privacy of the users. Maybe double check. \n",
    "            - Explainability: we have to make sure to provide the information on how the model and information would be used \n",
    "        - Do we keep the model from having some **biases**? \n",
    "            - We have to avoid biases and discrimination against protected groups: gender, ecnomic status, race,...\n",
    "            - We have a possible car bias, that may depend on the income of the user. In order to avoid this we could have options on the route such as\n",
    "                - Route type: mountain, road,..\n",
    "                - Car consume.. \n",
    "            - Instead of setting the car type. Giving the car type will directly generate an input bias. We have to try to reduce these biases. But we need introduce it, since this model would have to take into account the stopping points in order to respect the security regulations. \n",
    "            - Ensure we have a diverse input data. \n",
    "            - Validate using metrics in order to measure and regularize the bias\n",
    "        - Are we taking into account **security regulations** of the users: this is, we have to keep in mind stopping each X hours. Provide security routes, within the speed limits, within the  \n",
    "\n",
    "\n",
    "We should ensure that the model \n",
    "\n",
    "\n",
    "### General point of view\n",
    "\n",
    "We do need to conduct an internal analysis of the model or maybe try to make an internal copy \n",
    "\n",
    "Departments:\n",
    "- Marketing\n",
    "- IT\n",
    "- HR\n",
    "- Management\n",
    "- Sales: here is the major risk\n",
    "\n",
    "We could call this and isntall a local tool LLM, in order to stop this openAI to leak information form the company. \n",
    "\n"
   ]
  },
  {
   "cell_type": "markdown",
   "id": "9f1f2cab-6985-48a2-9084-c1a39a71d292",
   "metadata": {},
   "source": [
    "## QUESTION 1\n",
    "\n",
    "People at this moment is used to a certain kind of software. And for sure there is something different. We are talking about something that is completely different, and we have to make sure our boss is aware that we are not talking about a usual or regular app. This is different, new, and our boss has to be aware. \n",
    "\n",
    "Analogy of stochastic parrot, it does not know about what it is talking but it talks very well. \n",
    "\n",
    "Another analogy: Stochastic camaleon depending on the contexts it says some things or others. \n",
    "\n",
    "Our boss has to be interested on this, because it is new and it can change a lot of things. This may be a closer step to a bigger DIGITAL REVOLUTION. This could even have more impact on the sociaty, since we are generating a artifitial INTELLIGENCE. \n",
    "\n",
    "\n",
    "Pros or biggest positive impacts:\n",
    "- Speed up processes\n",
    "- Availability 24/7\n",
    "\n",
    "Limitations:\n",
    "- Dependent on external source\n",
    "- Dependent on having access to the internet or technology to use it: ecomonic bias!! \n",
    "- Creativity can decrease! \n",
    "\n",
    "We have to change ways of working and managing the company:\n",
    "- It can change the professional background needed for a task. Some professional or academic background may be not neede any more. \n"
   ]
  },
  {
   "cell_type": "markdown",
   "id": "0d828639-b680-463c-86d1-9c79248b8fa5",
   "metadata": {},
   "source": [
    "## QUSTION 2\n",
    "\n",
    "### BENEFITS\n",
    "\n",
    "- Customer relations or customer service: this can be really focused on being available \n",
    "- New product ideas: using it as a creative tool for innovation. Create more personalized adds. "
   ]
  },
  {
   "cell_type": "markdown",
   "id": "eebafe10-63e4-461b-83e0-86c490961369",
   "metadata": {},
   "source": [
    "## QUESTION 3\n",
    "\n",
    "### ETHICAL IMPLICATIONS\n",
    "\n",
    "- Responsibility in case of damage\n",
    "- We can have biases on the data since we do not know the training data used. \n",
    "- There is no legislation on these things! It may be forbidden or really restricted in some months. "
   ]
  },
  {
   "cell_type": "markdown",
   "id": "2975ad28-30da-4960-a856-0d9153347e0e",
   "metadata": {},
   "source": [
    "1. Utiliratism\n",
    "2. Ethical implications ML in healthcare/criminal problems\n",
    "3. Group fairness\n",
    "4. Individual fairness\n",
    "5. "
   ]
  }
 ],
 "metadata": {
  "kernelspec": {
   "display_name": "Python 3 (ipykernel)",
   "language": "python",
   "name": "python3"
  },
  "language_info": {
   "codemirror_mode": {
    "name": "ipython",
    "version": 3
   },
   "file_extension": ".py",
   "mimetype": "text/x-python",
   "name": "python",
   "nbconvert_exporter": "python",
   "pygments_lexer": "ipython3",
   "version": "3.9.7"
  }
 },
 "nbformat": 4,
 "nbformat_minor": 5
}
