{
 "cells": [
  {
   "cell_type": "code",
   "execution_count": 1,
   "metadata": {
    "id": "pzG4lURtARh9"
   },
   "outputs": [],
   "source": [
    "import numpy as np\n",
    "import math\n",
    "import matplotlib.pyplot as plt"
   ]
  },
  {
   "cell_type": "markdown",
   "metadata": {
    "id": "MkmwXUtJOI6V"
   },
   "source": [
    "Flàvia Ferrús and David Rosado"
   ]
  },
  {
   "cell_type": "markdown",
   "metadata": {
    "id": "0I3S7hSRBXSS"
   },
   "source": [
    "# Robust linear regression"
   ]
  },
  {
   "cell_type": "markdown",
   "metadata": {
    "id": "nCLx_s3TBhYJ"
   },
   "source": [
    "## 1.Introduction"
   ]
  },
  {
   "cell_type": "markdown",
   "metadata": {
    "id": "pbL-2X9OBlVP"
   },
   "source": [
    "### 1.Implement the method proposed with gradient descent and backtracking (or a small constant $\\alpha$ value)."
   ]
  },
  {
   "cell_type": "code",
   "execution_count": 2,
   "metadata": {
    "colab": {
     "base_uri": "https://localhost:8080/",
     "height": 283
    },
    "id": "CnwTdGPHBmue",
    "outputId": "c5aa93eb-2489-40e3-dfcf-bbd1eeba41d8"
   },
   "outputs": [
    {
     "data": {
      "text/plain": [
       "<matplotlib.collections.PathCollection at 0x7fa3fa2abcd0>"
      ]
     },
     "execution_count": 2,
     "metadata": {},
     "output_type": "execute_result"
    },
    {
     "data": {
      "image/png": "[encoded data removed]",
      "text/plain": [
       "<Figure size 432x288 with 1 Axes>"
      ]
     },
     "metadata": {
      "needs_background": "light"
     },
     "output_type": "display_data"
    }
   ],
   "source": [
    "#Randomly generated set of points\n",
    "m = [0.,0.]\n",
    "angle = 45*math.pi/180\n",
    "rot = np.array([[math.cos(angle), -math.sin(angle)], [math.sin(angle),\n",
    "math.cos(angle)]])\n",
    "lamb = np.array([[100,0],[0,1]])\n",
    "s = np.matmul(rot, np.matmul(lamb, rot.transpose()))\n",
    "points = np.random.multivariate_normal(m,s,100)\n",
    "plt.scatter(points[:,0],points[:,1])"
   ]
  },
  {
   "cell_type": "markdown",
   "metadata": {
    "id": "R_KQraYtEakm"
   },
   "source": [
    "Let us define the function and its gradient"
   ]
  },
  {
   "cell_type": "code",
   "execution_count": 3,
   "metadata": {
    "id": "gHVlD19JEftd"
   },
   "outputs": [],
   "source": [
    "def Q(w0, w1):\n",
    "    return (1/2) * np.sum((w0 * points[:,0] + w1 - points[:,1])**2)\n",
    "\n",
    "def grad_Q(w0, w1):\n",
    "    return np.array([np.sum((w0 * points[:,0] + w1 - points[:,1]) * points[:,0]), np.sum(w0 * points[:,0] + w1 - points[:,1])])"
   ]
  },
  {
   "cell_type": "markdown",
   "metadata": {
    "id": "mqtRSAH5FggH"
   },
   "source": [
    "Let us compute the gradient descent with backtracking"
   ]
  },
  {
   "cell_type": "code",
   "execution_count": 4,
   "metadata": {
    "id": "gXP071pbGGMc"
   },
   "outputs": [],
   "source": [
    "def gradient_descent(w0,w1,thres):\n",
    "  x_0=np.zeros(2)\n",
    "  x_0[0]=w0\n",
    "  x_0[1]=w1\n",
    "  while True:\n",
    "      alpha=1\n",
    "      x_k=x_0-alpha*grad_Q(x_0[0],x_0[1])\n",
    "      while Q(x_k[0],x_k[1])>=Q(x_0[0],x_0[1]):\n",
    "        alpha=alpha/2\n",
    "        x_k=x_0-alpha*grad_Q(x_0[0],x_0[1])\n",
    "      if abs(Q(x_k[0],x_k[1]) - Q(x_0[0],x_0[1])) < thres:\n",
    "        return x_k\n",
    "      else:\n",
    "        x_0=x_k\n",
    "        \n",
    "  return x_k"
   ]
  },
  {
   "cell_type": "markdown",
   "metadata": {
    "id": "wWvCWwqjJwcX"
   },
   "source": [
    "Let us apply the gradient descent to get the optimal parameters and plot the points and the line regressor"
   ]
  },
  {
   "cell_type": "code",
   "execution_count": 5,
   "metadata": {
    "colab": {
     "base_uri": "https://localhost:8080/",
     "height": 302
    },
    "id": "n5q78_lAJ1hh",
    "outputId": "a0f16bc9-922a-409c-ae57-2cedee00db95"
   },
   "outputs": [
    {
     "name": "stdout",
     "output_type": "stream",
     "text": [
      "The optimal parameters we obtained are: [ 0.98175504 -0.04160543]\n"
     ]
    },
    {
     "data": {
      "text/plain": [
       "[<matplotlib.lines.Line2D at 0x7fa3fa3c9340>]"
      ]
     },
     "execution_count": 5,
     "metadata": {},
     "output_type": "execute_result"
    },
    {
     "data": {
      "image/png": "[encoded data removed]",
      "text/plain": [
       "<Figure size 432x288 with 1 Axes>"
      ]
     },
     "metadata": {
      "needs_background": "light"
     },
     "output_type": "display_data"
    }
   ],
   "source": [
    "w0=np.random.rand(1)\n",
    "w1=np.random.rand(1)\n",
    "w_opt = gradient_descent(w0,w1,1e-3)\n",
    "print(\"The optimal parameters we obtained are:\", w_opt)\n",
    "x = np.linspace(-20,20,40)\n",
    "y_hat= w_opt[0]*x+w_opt[1]\n",
    "plt.scatter(points[:,0],points[:,1])\n",
    "plt.plot(x,y_hat,'r')"
   ]
  },
  {
   "cell_type": "markdown",
   "metadata": {
    "id": "27KcndYcPXMJ"
   },
   "source": [
    "### 2. Let us now check the sensitivity of the method to outliers. Change the value of one point to a value “far away” from the set of points, for instance points[1] = [-40,20]."
   ]
  },
  {
   "cell_type": "code",
   "execution_count": 6,
   "metadata": {
    "colab": {
     "base_uri": "https://localhost:8080/",
     "height": 302
    },
    "id": "vRQUuFMPPyfq",
    "outputId": "cbcfbe8b-216f-4d6e-9a8e-317bc4ba81f1"
   },
   "outputs": [
    {
     "name": "stdout",
     "output_type": "stream",
     "text": [
      "The optimal parameters we obtained are: [0.69407296 0.02266712]\n"
     ]
    },
    {
     "data": {
      "text/plain": [
       "[<matplotlib.lines.Line2D at 0x7fa3fa60bcd0>]"
      ]
     },
     "execution_count": 6,
     "metadata": {},
     "output_type": "execute_result"
    },
    {
     "data": {
      "image/png": "[encoded data removed]",
      "text/plain": [
       "<Figure size 432x288 with 1 Axes>"
      ]
     },
     "metadata": {
      "needs_background": "light"
     },
     "output_type": "display_data"
    }
   ],
   "source": [
    "#We add the outlier\n",
    "#Let us apply the gradient descent to get the optimal parameters and plot the points and the line regressor\n",
    "points[1]=[-40,20]\n",
    "w0=np.random.rand(1)\n",
    "w1=np.random.rand(1)\n",
    "w_opt = gradient_descent(w0,w1,1e-3)\n",
    "print(\"The optimal parameters we obtained are:\", w_opt)\n",
    "x = np.linspace(-40,40,80)\n",
    "y_hat= w_opt[0]*x+w_opt[1]\n",
    "plt.scatter(points[:,0],points[:,1])\n",
    "plt.plot(x,y_hat,'r')"
   ]
  },
  {
   "cell_type": "markdown",
   "metadata": {
    "id": "wn7Fqn77RKw-"
   },
   "source": [
    "We can see that adding one outlier, our linear regressor degenerates a bit. Let us see what happen if we put more outliers, for example five"
   ]
  },
  {
   "cell_type": "code",
   "execution_count": 7,
   "metadata": {
    "colab": {
     "base_uri": "https://localhost:8080/",
     "height": 302
    },
    "id": "ohO3j67MR-xK",
    "outputId": "8ef41c60-d135-4711-c497-f47b79db40eb"
   },
   "outputs": [
    {
     "name": "stdout",
     "output_type": "stream",
     "text": [
      "The optimal parameters we obtained are: [0.41977939 0.02357454]\n"
     ]
    },
    {
     "data": {
      "text/plain": [
       "[<matplotlib.lines.Line2D at 0x7fa3fa697520>]"
      ]
     },
     "execution_count": 7,
     "metadata": {},
     "output_type": "execute_result"
    },
    {
     "data": {
      "image/png": "[encoded data removed]",
      "text/plain": [
       "<Figure size 432x288 with 1 Axes>"
      ]
     },
     "metadata": {
      "needs_background": "light"
     },
     "output_type": "display_data"
    }
   ],
   "source": [
    "for i in (np.random.rand(5)*100).astype(int):\n",
    "    points[i] = (np.random.rand(2) - 0.5) * 80\n",
    "w0=np.random.rand(1)\n",
    "w1=np.random.rand(1)\n",
    "w_opt = gradient_descent(w0,w1,1e-3)\n",
    "print(\"The optimal parameters we obtained are:\", w_opt)\n",
    "x = np.linspace(-40,40,80)\n",
    "y_hat= w_opt[0]*x+w_opt[1]\n",
    "plt.scatter(points[:,0],points[:,1])\n",
    "plt.plot(x,y_hat,'r')"
   ]
  },
  {
   "cell_type": "markdown",
   "metadata": {
    "id": "RbCD6S8YStGH"
   },
   "source": [
    "Notice that the linear regressor is strongly influenced by the outliers presence on the data sample."
   ]
  },
  {
   "cell_type": "markdown",
   "metadata": {
    "id": "JcKUAs0wTWzt"
   },
   "source": [
    "## 2. Robust functions\n",
    "\n",
    "As we have seen previously, the least squares method (LSM) is hardly sensitive to outliers, i.e. samples that do not particularly contribute to fit the model.\n",
    "\n",
    "Let us consider a modification of the least squares error function, which will be given as follows:\n",
    "$$\n",
    "Q_C = \\sum_{i=1}^m \\rho(e_i), \n",
    "$$\n",
    "where $\\rho(u)$ represents the Cauchy functions\n",
    "$$\n",
    "\\rho(u) = \\frac{c^2}{2} \\text{ log } \\Big[ 1+ \\Big(\\frac{u}{c} \\Big)^2 \\Big],\n",
    "$$\n",
    "with $c \\in \\mathbb{R}$. \n",
    "\n",
    "For the sake of simplicity, in the subsequent study we may consider $c =1$.\n",
    "\n",
    "### 2.1 Plot the least squares function and compare it with the Couchy function:"
   ]
  },
  {
   "cell_type": "code",
   "execution_count": 8,
   "metadata": {
    "id": "kmlt2jqjTetI"
   },
   "outputs": [],
   "source": [
    "def ls_f(u):\n",
    "    return 1/2 * u**2\n",
    "\n",
    "def cauchy_f(u, c=1):\n",
    "    return c**2/2 * np.log(1 + (u/c)**2)\n"
   ]
  },
  {
   "cell_type": "code",
   "execution_count": 9,
   "metadata": {},
   "outputs": [
    {
     "data": {
      "text/plain": [
       "[<matplotlib.lines.Line2D at 0x7fa3fa915b80>]"
      ]
     },
     "execution_count": 9,
     "metadata": {},
     "output_type": "execute_result"
    },
    {
     "data": {
      "image/png": "[encoded data removed]",
      "text/plain": [
       "<Figure size 432x288 with 1 Axes>"
      ]
     },
     "metadata": {
      "needs_background": "light"
     },
     "output_type": "display_data"
    }
   ],
   "source": [
    "x=np.arange(-10,10, 0.1)\n",
    "y_ls = ls_f(x)\n",
    "y_c = cauchy_f(x)\n",
    "\n",
    "plt.plot(x, y_ls, 'r')\n",
    "plt.plot(x, y_c, 'b')"
   ]
  },
  {
   "cell_type": "markdown",
   "metadata": {},
   "source": [
    "Note that we are considering the corresponding error function to represent the error given between each data sample and the corresponding prediction point using the model. Therefore, it is clear that the least squares initial (in red) function penalizes hardly the points that are actually further from the prediction, i.e. the outliers. Thus, intuitivelly it is direct to see that by considering the Cauchy function (in blue) as the error function may help the model adapt better in presence of outliers. Let's see a deepest study on this topic. \n",
    "\n",
    "### 2. Implement the algorithm that allows to compute the parameters $w_0, w_1$ using the Cauchy function\n",
    "\n",
    "We may consider the backtracking gradient descent method as previously, using the least squares error function:\n",
    "$$\n",
    "Q_c = \\sum_{i=1}^m \\rho(e_i) = \\frac{c^2}{2}  \\sum_{i=1}^m \\text{ log } \\Big[ 1 + \\Big( \\frac{\\hat{y}_i - y_i}{c} \\Big)^2 \\Big],\n",
    "$$\n",
    "where clearly $\\hat{y}_i = w_0 x_i - w_1$."
   ]
  },
  {
   "cell_type": "code",
   "execution_count": 10,
   "metadata": {},
   "outputs": [
    {
     "data": {
      "text/plain": [
       "<matplotlib.collections.PathCollection at 0x7fa3fa65ffd0>"
      ]
     },
     "execution_count": 10,
     "metadata": {},
     "output_type": "execute_result"
    },
    {
     "data": {
      "image/png": "[encoded data removed]",
      "text/plain": [
       "<Figure size 432x288 with 1 Axes>"
      ]
     },
     "metadata": {
      "needs_background": "light"
     },
     "output_type": "display_data"
    }
   ],
   "source": [
    "#Randomly generated set of points\n",
    "m = [0.,0.]\n",
    "angle = 45*math.pi/180\n",
    "rot = np.array([[math.cos(angle), -math.sin(angle)], [math.sin(angle),\n",
    "math.cos(angle)]])\n",
    "lamb = np.array([[100,0],[0,1]])\n",
    "s = np.matmul(rot, np.matmul(lamb, rot.transpose()))\n",
    "points = np.random.multivariate_normal(m,s,100)\n",
    "plt.scatter(points[:,0],points[:,1])"
   ]
  },
  {
   "cell_type": "code",
   "execution_count": 11,
   "metadata": {},
   "outputs": [],
   "source": [
    "def Q_c(w0, w1, c=1):\n",
    "    return (c**2/2) * np.sum( np.log(1 + ((w0 * points[:,0] + w1 - points[:,1])/c )**2))\n",
    "\n",
    "def grad_Q_c(w0, w1, c=1):\n",
    "    der_w0 = c**2 * np.sum( (1 +((w0 * points[:,0] + w1 - points[:,1])/c )**2 )**(-1)*(w0 * points[:,0] + w1 - points[:,1])/c  * points[:,0] )\n",
    "    der_w1 = c**2 * np.sum( (1 +((w0 * points[:,0] + w1 - points[:,1])/c )**2 )**(-1) )\n",
    "    return np.array([der_w0, der_w1])\n",
    "                             "
   ]
  },
  {
   "cell_type": "code",
   "execution_count": 15,
   "metadata": {},
   "outputs": [],
   "source": [
    "def gradient_descent_c(w0,w1,thres,c=1):\n",
    "    x_0=np.zeros(2)\n",
    "    x_0[0]=w0\n",
    "    x_0[1]=w1\n",
    "    while True:\n",
    "        alpha=1\n",
    "        x_k=x_0-alpha*grad_Q_c(x_0[0],x_0[1], c)\n",
    "        while Q_c(x_k[0],x_k[1], c)>=Q_c(x_0[0],x_0[1], c):\n",
    "            alpha=alpha/2\n",
    "            x_k=x_0-alpha*grad_Q_c(x_0[0],x_0[1], c)\n",
    "        if abs(Q_c(x_k[0],x_k[1], c) - Q_c(x_0[0],x_0[1], c)) < thres:\n",
    "            return x_k\n",
    "        else:\n",
    "            x_0=x_k\n",
    "\n",
    "    return x_k"
   ]
  },
  {
   "cell_type": "code",
   "execution_count": 16,
   "metadata": {},
   "outputs": [],
   "source": [
    "def plot_prediction(gradient_descent, points):\n",
    "    w0=np.random.rand(1)\n",
    "    w1=np.random.rand(1)\n",
    "    w_opt = gradient_descent(w0,w1,1e-3)\n",
    "    print(\"The optimal parameters we obtained are:\", w_opt)\n",
    "    x = np.linspace(-20,20,40)\n",
    "    y_hat= w_opt[0]*x+w_opt[1]\n",
    "    plt.scatter(points[:,0],points[:,1])\n",
    "    plt.plot(x,y_hat,'r')\n",
    "    #return y_hat"
   ]
  },
  {
   "cell_type": "code",
   "execution_count": 17,
   "metadata": {},
   "outputs": [
    {
     "name": "stdout",
     "output_type": "stream",
     "text": [
      "The optimal parameters we obtained are: [ 0.9707563  -0.12229867]\n"
     ]
    },
    {
     "data": {
      "image/png": "[encoded data removed]",
      "text/plain": [
       "<Figure size 432x288 with 1 Axes>"
      ]
     },
     "metadata": {
      "needs_background": "light"
     },
     "output_type": "display_data"
    }
   ],
   "source": [
    "#y_ls= plot_prediction(gradient_descent_c, points)\n",
    "plot_prediction(gradient_descent_c, points)"
   ]
  },
  {
   "cell_type": "markdown",
   "metadata": {},
   "source": [
    "### 3. Compare the results obtained with the least squares function and with the Cauchy function, assuming that there are no outliers in the dataset."
   ]
  },
  {
   "cell_type": "code",
   "execution_count": 18,
   "metadata": {},
   "outputs": [
    {
     "name": "stdout",
     "output_type": "stream",
     "text": [
      "The optimal parameters we obtained are: [0.98386732 0.05719144]\n"
     ]
    },
    {
     "data": {
      "image/png": "[encoded data removed]",
      "text/plain": [
       "<Figure size 432x288 with 1 Axes>"
      ]
     },
     "metadata": {
      "needs_background": "light"
     },
     "output_type": "display_data"
    }
   ],
   "source": [
    "#y_c= plot_prediction(gradient_descent, points)\n",
    "plot_prediction(gradient_descent, points)"
   ]
  },
  {
   "cell_type": "code",
   "execution_count": 19,
   "metadata": {},
   "outputs": [],
   "source": [
    "def compare_plots(grad1, grad2, points):\n",
    "    w0=np.random.rand(1)\n",
    "    w1=np.random.rand(1)\n",
    "    w_opt1 = grad1(w0,w1,1e-3)\n",
    "    w_opt2 = grad2(w0,w1,1e-3)\n",
    "    print(\"The optimal parameters we obtained with the least squares function are:\", w_opt1)\n",
    "    print(\"The optimal parameters we obtained with the Cauchy function are:\", w_opt2)\n",
    "    x = np.linspace(-20,20,40)\n",
    "    y_hat1= w_opt1[0]*x+w_opt1[1]\n",
    "    y_hat2= w_opt2[0]*x+w_opt2[1]\n",
    "    plt.scatter(points[:,0],points[:,1])\n",
    "    plt.plot(x,y_hat1,'r')\n",
    "    plt.plot(x, y_hat2, 'g')"
   ]
  },
  {
   "cell_type": "code",
   "execution_count": 20,
   "metadata": {},
   "outputs": [
    {
     "name": "stdout",
     "output_type": "stream",
     "text": [
      "The optimal parameters we obtained with the least squares function are: [0.97714634 0.20899267]\n",
      "The optimal parameters we obtained with the Cauchy function are: [ 0.97539473 -0.10325242]\n"
     ]
    },
    {
     "data": {
      "image/png": "[encoded data removed]",
      "text/plain": [
       "<Figure size 432x288 with 1 Axes>"
      ]
     },
     "metadata": {
      "needs_background": "light"
     },
     "output_type": "display_data"
    }
   ],
   "source": [
    "compare_plots(gradient_descent, gradient_descent_c, points)"
   ]
  },
  {
   "cell_type": "markdown",
   "metadata": {},
   "source": [
    "In absence of outliers, boths methods give really close predictions of the regression fitting line obteined. Let's consider cases with some outliers on the data samples. "
   ]
  },
  {
   "cell_type": "markdown",
   "metadata": {},
   "source": [
    "### 4. Compare now the results with only one outlier."
   ]
  },
  {
   "cell_type": "code",
   "execution_count": 25,
   "metadata": {},
   "outputs": [],
   "source": [
    "#We add the outlier\n",
    "#Let us apply the gradient descent to get the optimal parameters and plot the points and the line regressor\n",
    "points[1]=[-40,20]"
   ]
  },
  {
   "cell_type": "code",
   "execution_count": 26,
   "metadata": {},
   "outputs": [
    {
     "name": "stdout",
     "output_type": "stream",
     "text": [
      "The optimal parameters we obtained are: [ 0.97065214 -0.09576094]\n"
     ]
    },
    {
     "data": {
      "image/png": "[encoded data removed]",
      "text/plain": [
       "<Figure size 432x288 with 1 Axes>"
      ]
     },
     "metadata": {
      "needs_background": "light"
     },
     "output_type": "display_data"
    }
   ],
   "source": [
    "plot_prediction(gradient_descent_c, points)"
   ]
  },
  {
   "cell_type": "code",
   "execution_count": 27,
   "metadata": {},
   "outputs": [
    {
     "name": "stdout",
     "output_type": "stream",
     "text": [
      "The optimal parameters we obtained are: [0.62514641 0.21232816]\n"
     ]
    },
    {
     "data": {
      "image/png": "[encoded data removed]",
      "text/plain": [
       "<Figure size 432x288 with 1 Axes>"
      ]
     },
     "metadata": {
      "needs_background": "light"
     },
     "output_type": "display_data"
    }
   ],
   "source": [
    "plot_prediction(gradient_descent, points)"
   ]
  },
  {
   "cell_type": "code",
   "execution_count": 29,
   "metadata": {},
   "outputs": [],
   "source": [
    "#compare_plots(gradient_descent, gradient_descent_c, points)"
   ]
  },
  {
   "cell_type": "markdown",
   "metadata": {},
   "source": [
    "It is clear that the gradient descent method using the Cauchy functions is less influenciable by the outliers' presence in the data samples. "
   ]
  },
  {
   "cell_type": "markdown",
   "metadata": {},
   "source": [
    "### 5. Check the results obtained with $c=1, c=100, c=1/100, c=1/1000$. "
   ]
  },
  {
   "cell_type": "code",
   "execution_count": 37,
   "metadata": {},
   "outputs": [],
   "source": [
    "import seaborn as sns\n",
    "\n",
    "def compare_cValues(c_array, points):\n",
    "    w0=np.random.rand(1)\n",
    "    w1=np.random.rand(1)\n",
    "    #w_opt=[]\n",
    "    x = np.linspace(-20,20,40)\n",
    "    y_hat = np.zeros((len(c_array), len(x)))\n",
    "    w_opt= np.zeros((1, len(c_array)))\n",
    "    for i in range(0, len(c_array)):\n",
    "        print('c value:', c_array[i])\n",
    "        #w_nova = grad1(w0,w1,1e-3, c=c)\n",
    "        w_opt[i] = gradient_descent_c(w0,w1,1e-3, c=c_array[i])\n",
    "        print(\"The optimal parameters we obtained with the least squares function are:\", w_opt[i])\n",
    "        y_hat[i]= w_opt[i,0]*x+w_opt1[i,1]\n",
    "    \n",
    "    \n",
    "    colors = sns.color_palette(\"hls\", len(c_array))\n",
    "    #fig = plt.figure()\n",
    "    #ax1 = fig.add_subplot(211)\n",
    "    plt.set_prop_cycle('color', colors)\n",
    "    plt.scatter(points[:,0],points[:,1])\n",
    "    for i in range(0, len(c_array)):\n",
    "        plt.plot(x, y_hat[i])\n",
    "    #plt.plot(x,y_hat1,'r')\n",
    "    #plt.plot(x, y_hat2, 'g')"
   ]
  },
  {
   "cell_type": "code",
   "execution_count": 38,
   "metadata": {},
   "outputs": [
    {
     "name": "stdout",
     "output_type": "stream",
     "text": [
      "c value: 1.0\n"
     ]
    },
    {
     "ename": "KeyboardInterrupt",
     "evalue": "",
     "output_type": "error",
     "traceback": [
      "\u001b[0;31m---------------------------------------------------------------------------\u001b[0m",
      "\u001b[0;31mKeyboardInterrupt\u001b[0m                         Traceback (most recent call last)",
      "\u001b[0;32m/var/folders/df/4599m83s2vj4j1_h__gx7kqw0000gn/T/ipykernel_2938/619108751.py\u001b[0m in \u001b[0;36m<module>\u001b[0;34m\u001b[0m\n\u001b[1;32m      1\u001b[0m \u001b[0mc_array\u001b[0m\u001b[0;34m=\u001b[0m\u001b[0mnp\u001b[0m\u001b[0;34m.\u001b[0m\u001b[0marray\u001b[0m\u001b[0;34m(\u001b[0m\u001b[0;34m[\u001b[0m\u001b[0;36m1\u001b[0m\u001b[0;34m,\u001b[0m \u001b[0;36m100\u001b[0m\u001b[0;34m,\u001b[0m \u001b[0;36m1\u001b[0m\u001b[0;34m/\u001b[0m\u001b[0;36m100\u001b[0m\u001b[0;34m,\u001b[0m \u001b[0;36m1\u001b[0m\u001b[0;34m/\u001b[0m\u001b[0;36m1000\u001b[0m\u001b[0;34m]\u001b[0m\u001b[0;34m)\u001b[0m\u001b[0;34m\u001b[0m\u001b[0;34m\u001b[0m\u001b[0m\n\u001b[0;32m----> 2\u001b[0;31m \u001b[0mcompare_cValues\u001b[0m\u001b[0;34m(\u001b[0m\u001b[0mc_array\u001b[0m\u001b[0;34m,\u001b[0m \u001b[0mpoints\u001b[0m\u001b[0;34m)\u001b[0m\u001b[0;34m\u001b[0m\u001b[0;34m\u001b[0m\u001b[0m\n\u001b[0m",
      "\u001b[0;32m/var/folders/df/4599m83s2vj4j1_h__gx7kqw0000gn/T/ipykernel_2938/3868181065.py\u001b[0m in \u001b[0;36mcompare_cValues\u001b[0;34m(c_array, points)\u001b[0m\n\u001b[1;32m     11\u001b[0m         \u001b[0mprint\u001b[0m\u001b[0;34m(\u001b[0m\u001b[0;34m'c value:'\u001b[0m\u001b[0;34m,\u001b[0m \u001b[0mc_array\u001b[0m\u001b[0;34m[\u001b[0m\u001b[0mi\u001b[0m\u001b[0;34m]\u001b[0m\u001b[0;34m)\u001b[0m\u001b[0;34m\u001b[0m\u001b[0;34m\u001b[0m\u001b[0m\n\u001b[1;32m     12\u001b[0m         \u001b[0;31m#w_nova = grad1(w0,w1,1e-3, c=c)\u001b[0m\u001b[0;34m\u001b[0m\u001b[0;34m\u001b[0m\u001b[0m\n\u001b[0;32m---> 13\u001b[0;31m         \u001b[0mw_opt\u001b[0m\u001b[0;34m[\u001b[0m\u001b[0mi\u001b[0m\u001b[0;34m]\u001b[0m \u001b[0;34m=\u001b[0m \u001b[0mgradient_descent_c\u001b[0m\u001b[0;34m(\u001b[0m\u001b[0mw0\u001b[0m\u001b[0;34m,\u001b[0m\u001b[0mw1\u001b[0m\u001b[0;34m,\u001b[0m\u001b[0;36m1e-3\u001b[0m\u001b[0;34m,\u001b[0m \u001b[0mc\u001b[0m\u001b[0;34m=\u001b[0m\u001b[0mc_array\u001b[0m\u001b[0;34m[\u001b[0m\u001b[0mi\u001b[0m\u001b[0;34m]\u001b[0m\u001b[0;34m)\u001b[0m\u001b[0;34m\u001b[0m\u001b[0;34m\u001b[0m\u001b[0m\n\u001b[0m\u001b[1;32m     14\u001b[0m         \u001b[0mprint\u001b[0m\u001b[0;34m(\u001b[0m\u001b[0;34m\"The optimal parameters we obtained with the least squares function are:\"\u001b[0m\u001b[0;34m,\u001b[0m \u001b[0mw_opt\u001b[0m\u001b[0;34m[\u001b[0m\u001b[0mi\u001b[0m\u001b[0;34m]\u001b[0m\u001b[0;34m)\u001b[0m\u001b[0;34m\u001b[0m\u001b[0;34m\u001b[0m\u001b[0m\n\u001b[1;32m     15\u001b[0m         \u001b[0my_hat\u001b[0m\u001b[0;34m[\u001b[0m\u001b[0mi\u001b[0m\u001b[0;34m]\u001b[0m\u001b[0;34m=\u001b[0m \u001b[0mw_opt\u001b[0m\u001b[0;34m[\u001b[0m\u001b[0mi\u001b[0m\u001b[0;34m,\u001b[0m\u001b[0;36m0\u001b[0m\u001b[0;34m]\u001b[0m\u001b[0;34m*\u001b[0m\u001b[0mx\u001b[0m\u001b[0;34m+\u001b[0m\u001b[0mw_opt1\u001b[0m\u001b[0;34m[\u001b[0m\u001b[0mi\u001b[0m\u001b[0;34m,\u001b[0m\u001b[0;36m1\u001b[0m\u001b[0;34m]\u001b[0m\u001b[0;34m\u001b[0m\u001b[0;34m\u001b[0m\u001b[0m\n",
      "\u001b[0;32m/var/folders/df/4599m83s2vj4j1_h__gx7kqw0000gn/T/ipykernel_2938/1112279596.py\u001b[0m in \u001b[0;36mgradient_descent_c\u001b[0;34m(w0, w1, thres, c)\u001b[0m\n\u001b[1;32m      6\u001b[0m         \u001b[0malpha\u001b[0m\u001b[0;34m=\u001b[0m\u001b[0;36m1\u001b[0m\u001b[0;34m\u001b[0m\u001b[0;34m\u001b[0m\u001b[0m\n\u001b[1;32m      7\u001b[0m         \u001b[0mx_k\u001b[0m\u001b[0;34m=\u001b[0m\u001b[0mx_0\u001b[0m\u001b[0;34m-\u001b[0m\u001b[0malpha\u001b[0m\u001b[0;34m*\u001b[0m\u001b[0mgrad_Q_c\u001b[0m\u001b[0;34m(\u001b[0m\u001b[0mx_0\u001b[0m\u001b[0;34m[\u001b[0m\u001b[0;36m0\u001b[0m\u001b[0;34m]\u001b[0m\u001b[0;34m,\u001b[0m\u001b[0mx_0\u001b[0m\u001b[0;34m[\u001b[0m\u001b[0;36m1\u001b[0m\u001b[0;34m]\u001b[0m\u001b[0;34m,\u001b[0m \u001b[0mc\u001b[0m\u001b[0;34m)\u001b[0m\u001b[0;34m\u001b[0m\u001b[0;34m\u001b[0m\u001b[0m\n\u001b[0;32m----> 8\u001b[0;31m         \u001b[0;32mwhile\u001b[0m \u001b[0mQ_c\u001b[0m\u001b[0;34m(\u001b[0m\u001b[0mx_k\u001b[0m\u001b[0;34m[\u001b[0m\u001b[0;36m0\u001b[0m\u001b[0;34m]\u001b[0m\u001b[0;34m,\u001b[0m\u001b[0mx_k\u001b[0m\u001b[0;34m[\u001b[0m\u001b[0;36m1\u001b[0m\u001b[0;34m]\u001b[0m\u001b[0;34m,\u001b[0m \u001b[0mc\u001b[0m\u001b[0;34m)\u001b[0m\u001b[0;34m>=\u001b[0m\u001b[0mQ_c\u001b[0m\u001b[0;34m(\u001b[0m\u001b[0mx_0\u001b[0m\u001b[0;34m[\u001b[0m\u001b[0;36m0\u001b[0m\u001b[0;34m]\u001b[0m\u001b[0;34m,\u001b[0m\u001b[0mx_0\u001b[0m\u001b[0;34m[\u001b[0m\u001b[0;36m1\u001b[0m\u001b[0;34m]\u001b[0m\u001b[0;34m,\u001b[0m \u001b[0mc\u001b[0m\u001b[0;34m)\u001b[0m\u001b[0;34m:\u001b[0m\u001b[0;34m\u001b[0m\u001b[0;34m\u001b[0m\u001b[0m\n\u001b[0m\u001b[1;32m      9\u001b[0m             \u001b[0malpha\u001b[0m\u001b[0;34m=\u001b[0m\u001b[0malpha\u001b[0m\u001b[0;34m/\u001b[0m\u001b[0;36m2\u001b[0m\u001b[0;34m\u001b[0m\u001b[0;34m\u001b[0m\u001b[0m\n\u001b[1;32m     10\u001b[0m             \u001b[0mx_k\u001b[0m\u001b[0;34m=\u001b[0m\u001b[0mx_0\u001b[0m\u001b[0;34m-\u001b[0m\u001b[0malpha\u001b[0m\u001b[0;34m*\u001b[0m\u001b[0mgrad_Q_c\u001b[0m\u001b[0;34m(\u001b[0m\u001b[0mx_0\u001b[0m\u001b[0;34m[\u001b[0m\u001b[0;36m0\u001b[0m\u001b[0;34m]\u001b[0m\u001b[0;34m,\u001b[0m\u001b[0mx_0\u001b[0m\u001b[0;34m[\u001b[0m\u001b[0;36m1\u001b[0m\u001b[0;34m]\u001b[0m\u001b[0;34m,\u001b[0m \u001b[0mc\u001b[0m\u001b[0;34m)\u001b[0m\u001b[0;34m\u001b[0m\u001b[0;34m\u001b[0m\u001b[0m\n",
      "\u001b[0;32m/var/folders/df/4599m83s2vj4j1_h__gx7kqw0000gn/T/ipykernel_2938/2495557008.py\u001b[0m in \u001b[0;36mQ_c\u001b[0;34m(w0, w1, c)\u001b[0m\n\u001b[1;32m      1\u001b[0m \u001b[0;32mdef\u001b[0m \u001b[0mQ_c\u001b[0m\u001b[0;34m(\u001b[0m\u001b[0mw0\u001b[0m\u001b[0;34m,\u001b[0m \u001b[0mw1\u001b[0m\u001b[0;34m,\u001b[0m \u001b[0mc\u001b[0m\u001b[0;34m=\u001b[0m\u001b[0;36m1\u001b[0m\u001b[0;34m)\u001b[0m\u001b[0;34m:\u001b[0m\u001b[0;34m\u001b[0m\u001b[0;34m\u001b[0m\u001b[0m\n\u001b[0;32m----> 2\u001b[0;31m     \u001b[0;32mreturn\u001b[0m \u001b[0;34m(\u001b[0m\u001b[0mc\u001b[0m\u001b[0;34m**\u001b[0m\u001b[0;36m2\u001b[0m\u001b[0;34m/\u001b[0m\u001b[0;36m2\u001b[0m\u001b[0;34m)\u001b[0m \u001b[0;34m*\u001b[0m \u001b[0mnp\u001b[0m\u001b[0;34m.\u001b[0m\u001b[0msum\u001b[0m\u001b[0;34m(\u001b[0m \u001b[0mnp\u001b[0m\u001b[0;34m.\u001b[0m\u001b[0mlog\u001b[0m\u001b[0;34m(\u001b[0m\u001b[0;36m1\u001b[0m \u001b[0;34m+\u001b[0m \u001b[0;34m(\u001b[0m\u001b[0;34m(\u001b[0m\u001b[0mw0\u001b[0m \u001b[0;34m*\u001b[0m \u001b[0mpoints\u001b[0m\u001b[0;34m[\u001b[0m\u001b[0;34m:\u001b[0m\u001b[0;34m,\u001b[0m\u001b[0;36m0\u001b[0m\u001b[0;34m]\u001b[0m \u001b[0;34m+\u001b[0m \u001b[0mw1\u001b[0m \u001b[0;34m-\u001b[0m \u001b[0mpoints\u001b[0m\u001b[0;34m[\u001b[0m\u001b[0;34m:\u001b[0m\u001b[0;34m,\u001b[0m\u001b[0;36m1\u001b[0m\u001b[0;34m]\u001b[0m\u001b[0;34m)\u001b[0m\u001b[0;34m/\u001b[0m\u001b[0mc\u001b[0m \u001b[0;34m)\u001b[0m\u001b[0;34m**\u001b[0m\u001b[0;36m2\u001b[0m\u001b[0;34m)\u001b[0m\u001b[0;34m)\u001b[0m\u001b[0;34m\u001b[0m\u001b[0;34m\u001b[0m\u001b[0m\n\u001b[0m\u001b[1;32m      3\u001b[0m \u001b[0;34m\u001b[0m\u001b[0m\n\u001b[1;32m      4\u001b[0m \u001b[0;32mdef\u001b[0m \u001b[0mgrad_Q_c\u001b[0m\u001b[0;34m(\u001b[0m\u001b[0mw0\u001b[0m\u001b[0;34m,\u001b[0m \u001b[0mw1\u001b[0m\u001b[0;34m,\u001b[0m \u001b[0mc\u001b[0m\u001b[0;34m=\u001b[0m\u001b[0;36m1\u001b[0m\u001b[0;34m)\u001b[0m\u001b[0;34m:\u001b[0m\u001b[0;34m\u001b[0m\u001b[0;34m\u001b[0m\u001b[0m\n\u001b[1;32m      5\u001b[0m     \u001b[0mder_w0\u001b[0m \u001b[0;34m=\u001b[0m \u001b[0mc\u001b[0m\u001b[0;34m**\u001b[0m\u001b[0;36m2\u001b[0m \u001b[0;34m*\u001b[0m \u001b[0mnp\u001b[0m\u001b[0;34m.\u001b[0m\u001b[0msum\u001b[0m\u001b[0;34m(\u001b[0m \u001b[0;34m(\u001b[0m\u001b[0;36m1\u001b[0m \u001b[0;34m+\u001b[0m\u001b[0;34m(\u001b[0m\u001b[0;34m(\u001b[0m\u001b[0mw0\u001b[0m \u001b[0;34m*\u001b[0m \u001b[0mpoints\u001b[0m\u001b[0;34m[\u001b[0m\u001b[0;34m:\u001b[0m\u001b[0;34m,\u001b[0m\u001b[0;36m0\u001b[0m\u001b[0;34m]\u001b[0m \u001b[0;34m+\u001b[0m \u001b[0mw1\u001b[0m \u001b[0;34m-\u001b[0m \u001b[0mpoints\u001b[0m\u001b[0;34m[\u001b[0m\u001b[0;34m:\u001b[0m\u001b[0;34m,\u001b[0m\u001b[0;36m1\u001b[0m\u001b[0;34m]\u001b[0m\u001b[0;34m)\u001b[0m\u001b[0;34m/\u001b[0m\u001b[0mc\u001b[0m \u001b[0;34m)\u001b[0m\u001b[0;34m**\u001b[0m\u001b[0;36m2\u001b[0m \u001b[0;34m)\u001b[0m\u001b[0;34m**\u001b[0m\u001b[0;34m(\u001b[0m\u001b[0;34m-\u001b[0m\u001b[0;36m1\u001b[0m\u001b[0;34m)\u001b[0m\u001b[0;34m*\u001b[0m\u001b[0;34m(\u001b[0m\u001b[0mw0\u001b[0m \u001b[0;34m*\u001b[0m \u001b[0mpoints\u001b[0m\u001b[0;34m[\u001b[0m\u001b[0;34m:\u001b[0m\u001b[0;34m,\u001b[0m\u001b[0;36m0\u001b[0m\u001b[0;34m]\u001b[0m \u001b[0;34m+\u001b[0m \u001b[0mw1\u001b[0m \u001b[0;34m-\u001b[0m \u001b[0mpoints\u001b[0m\u001b[0;34m[\u001b[0m\u001b[0;34m:\u001b[0m\u001b[0;34m,\u001b[0m\u001b[0;36m1\u001b[0m\u001b[0;34m]\u001b[0m\u001b[0;34m)\u001b[0m\u001b[0;34m/\u001b[0m\u001b[0mc\u001b[0m  \u001b[0;34m*\u001b[0m \u001b[0mpoints\u001b[0m\u001b[0;34m[\u001b[0m\u001b[0;34m:\u001b[0m\u001b[0;34m,\u001b[0m\u001b[0;36m0\u001b[0m\u001b[0;34m]\u001b[0m \u001b[0;34m)\u001b[0m\u001b[0;34m\u001b[0m\u001b[0;34m\u001b[0m\u001b[0m\n",
      "\u001b[0;31mKeyboardInterrupt\u001b[0m: "
     ]
    }
   ],
   "source": [
    "c_array=np.array([1, 100, 1/100, 1/1000])\n",
    "#compare_cValues(c_array, points)\n",
    "\n",
    "##Em va molt lent a la pròxima provo més"
   ]
  },
  {
   "cell_type": "code",
   "execution_count": null,
   "metadata": {},
   "outputs": [],
   "source": []
  },
  {
   "cell_type": "code",
   "execution_count": null,
   "metadata": {},
   "outputs": [],
   "source": []
  }
 ],
 "metadata": {
  "colab": {
   "provenance": []
  },
  "kernelspec": {
   "display_name": "Python 3 (ipykernel)",
   "language": "python",
   "name": "python3"
  },
  "language_info": {
   "codemirror_mode": {
    "name": "ipython",
    "version": 3
   },
   "file_extension": ".py",
   "mimetype": "text/x-python",
   "name": "python",
   "nbconvert_exporter": "python",
   "pygments_lexer": "ipython3",
   "version": "3.9.7"
  }
 },
 "nbformat": 4,
 "nbformat_minor": 1
}
