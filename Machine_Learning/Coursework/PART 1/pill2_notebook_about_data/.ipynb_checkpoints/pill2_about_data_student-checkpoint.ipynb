{
 "cells": [
  {
   "cell_type": "markdown",
   "metadata": {},
   "source": [
    "# pill 2: About data\n",
    "\n",
    "## 1. Exploring some data\n",
    "\n",
    "In order to motivate this topic let us first explore a couple of datasets. The first one comes from Eurostat, I have downloaded for you data from Gross domestic expenditure on R&D (GERD) by source of funds (tsc00031), but you can take any other file. Let us look at the file:"
   ]
  },
  {
   "cell_type": "code",
   "execution_count": null,
   "metadata": {},
   "outputs": [],
   "source": [
    "# %load './files/tsc00031.tsv'\n",
    "sectfund,unit,geo\\time\t2003 \t2004 \t2005 \t2006 \t2007 \t2008 \t2009 \t2010 \t2011 \t2012 \t2013 \t2014 \n",
    "ABR,PC_TOT,AT\t20 e\t19.4 \t18 e\t18.4 \t17.9 \t16.4 e\t16.8 \t16.1 e\t16.9 \t15.7 e\t16.6 \t15.2 ep\n",
    "ABR,PC_TOT,BA\t: \t: \t: \t: \t: \t: \t: \t: \t: \t48.7 \t53.9 \t: \n",
    "ABR,PC_TOT,BE\t12.9 \t12.3 \t12.4 \t13.3 \t13 \t12.3 \t12.1 \t13.3 \t13 \t13 \t13.2 \t: \n",
    "ABR,PC_TOT,BG\t5.8 \t5.5 \t7.6 \t6.5 \t7.6 \t6.8 \t8.4 \t39.6 \t43.9 \t46.3 \t48.3 \t: \n",
    "ABR,PC_TOT,CH\t: \t5.2 \t: \t: \t: \t6 \t: \t: \t: \t12.1 \t: \t: \n",
    "ABR,PC_TOT,CN_X_HK\t1.9 \t1.3 \t0.9 \t1.6 \t1.3 \t1.2 \t1.3 b\t1.3 \t1.3 \t1 \t0.9 \t: \n",
    "ABR,PC_TOT,CY\t13.9 \t11.5 \t10.9 \t12.1 \t14.5 \t14.7 \t12.1 \t15 \t14.1 \t17.5 \t19.6 \t: \n",
    "ABR,PC_TOT,CZ\t4.6 \t3.7 \t5.4 \t4.8 \t7.3 \t8.9 \t11.3 \t13.9 \t19.7 \t25.9 \t27.2 \t30.5 p\n",
    "ABR,PC_TOT,DE\t2.3 \t2.5 \t3.7 \t3.8 \t4 \t4 \t3.8 \t3.9 \t4.2 \t4.3 \t5.2 \t: \n",
    "ABR,PC_TOT,DK\t10.3 \t: \t10.1 \t: \t9.5 b\t: \t8.6 \t7.2 \t7.1 \t7.2 \t7.4 \t7.4 ep\n",
    "ABR,PC_TOT,EA19\t6.3 e\t6.6 e\t7 \t7 e\t7.4 e\t7.2 e\t7 \t7.3 e\t7.5 \t7.8 \t8.4 \t: \n",
    "ABR,PC_TOT,EE\t15.2 \t17 \t17.1 \t16.3 \t11.7 \t9.4 \t11.3 \t11.4 \t11.9 \t10 \t10.3 \t12.5 \n",
    "ABR,PC_TOT,EL\t21.6 \t: \t19 \t: \t: \t5.7 be\t8.7 e\t11.9 e\t14.8 \t15.8 \t14 \t13.2 \n",
    "ABR,PC_TOT,ES\t5.7 \t6.2 \t5.7 \t5.9 \t7 \t5.7 \t5.5 \t5.7 \t6.7 \t6.6 \t7.4 \t7.4 \n",
    "ABR,PC_TOT,EU28\t8.6 e\t8.4 e\t9.1 \t8.8 e\t9.2 e\t8.8 e\t8.4 \t8.9 e\t9.2 \t9.7 e\t9.9 \t: \n",
    "ABR,PC_TOT,FI\t3.1 \t3.2 \t6.3 b\t7.1 \t6.5 \t6.6 \t6.6 \t6.9 \t6.5 \t8.8 \t11.5 \t17.3 \n",
    "ABR,PC_TOT,FR\t8.4 \t8.8 b\t7.5 \t7 \t7.5 \t8 \t7 \t7.5 b\t7.7 \t7.6 \t8 \t: \n",
    "ABR,PC_TOT,HR\t2.2 \t2.6 \t2.6 \t6.8 \t10.9 \t7.9 \t7 \t9.9 \t11.6 \t14.4 \t15.5 \t12.8 \n",
    "ABR,PC_TOT,HU\t10.7 d\t10.4 d\t10.7 d\t11.3 \t11.1 \t9.3 \t10.9 \t12.4 \t13.5 \t15.4 \t16.6 \t17.5 \n",
    "ABR,PC_TOT,IE\t8.3 \t8.6 \t8.6 \t12.9 \t15.8 \t15.6 \t16.5 e\t17 e\t20.3 e\t21 e\t19.3 e\t19.3 e\n",
    "ABR,PC_TOT,IS\t14.5 \t: \t11.2 \t10.6 \t10 \t10 \t11.4 \t: \t8.2 b\t: \t20.1 b\t: \n",
    "ABR,PC_TOT,IT\t: \t: \t8 \t8.3 \t9.5 \t7.9 \t9.4 \t9.8 \t9.1 \t9.5 \t9.7 \t: \n",
    "ABR,PC_TOT,JP\t0.3 \t0.3 \t0.3 \t0.4 \t0.3 \t0.4 b\t0.4 \t0.4 \t0.5 \t0.4 \t0.5 \t: \n",
    "ABR,PC_TOT,KR\t0.4 d\t0.5 d\t0.7 d\t0.3 d\t0.2 b\t0.3 \t0.2 \t0.2 \t0.2 \t0.3 \t0.3 \t: \n",
    "ABR,PC_TOT,LT\t13.8 \t10.7 \t10.5 \t14.3 \t19.6 \t15.5 \t13 \t19.9 \t28.4 \t33.2 \t37.1 \t34.3 p\n",
    "ABR,PC_TOT,LU\t8.3 \t: \t3.6 \t: \t5.7 \t: \t5.4 \t20.6 \t19.5 \t34.4 \t32.3 \t: \n",
    "ABR,PC_TOT,LV\t20.4 \t22.5 \t18.5 \t7.5 \t12.7 \t23.1 \t15.4 \t33.4 \t51 \t50.4 \t51.6 \t44.2 p\n",
    "ABR,PC_TOT,ME\t: \t: \t: \t: \t: \t: \t: \t: \t19.7 \t: \t22.5 \t20.7 \n",
    "ABR,PC_TOT,MT\t: \t: \t26.9 \t27.5 \t22.4 \t16 \t18.4 \t11.7 \t17.8 \t21 \t21.4 \t21.5 p\n",
    "ABR,PC_TOT,NL\t10.4 \t: \t12 \t: \t10.7 \t: \t10.8 \t: \t11.3 b\t12.5 \t12.2 \t12.5 p\n",
    "ABR,PC_TOT,NO\t7.4 \t: \t8.1 \t: \t8.5 \t: \t8.2 \t: \t7.8 \t: \t9.5 \t: \n",
    "ABR,PC_TOT,PL\t4.6 \t5.2 \t5.7 \t7 \t6.7 \t5.4 \t5.5 \t11.8 \t13.4 \t13.3 \t13.1 \t13.4 \n",
    "ABR,PC_TOT,PT\t5 \t4.8 e\t4.7 \t5.2 e\t5.4 \t3 b\t4.1 \t3.2 \t6 \t5.2 \t6.1 \t: \n",
    "ABR,PC_TOT,RO\t5.5 \t5.5 \t5.3 \t4.1 \t4.5 \t4 \t8.3 \t11.1 \t12.1 b\t14.4 \t15.5 \t17 \n",
    "ABR,PC_TOT,RS\t: \t: \t: \t: \t: \t: \t7.2 \t3.6 \t5.5 \t9.2 \t7.8 \t12.5 \n",
    "ABR,PC_TOT,RU\t9 \t7.6 \t7.6 \t9.4 \t7.2 \t5.9 \t6.5 \t3.5 \t4.3 \t4 \t3 \t2.5 \n",
    "ABR,PC_TOT,SE\t7.3 e\t: \t8.1 b\t: \t9.6 \t: \t10.3 \t: \t11 \t: \t6.7 e\t: \n",
    "ABR,PC_TOT,SI\t9.9 \t11.1 \t7.3 \t5.8 \t5.8 \t5.6 b\t6 \t6 \t7 b\t8.6 \t8.9 \t9.3 \n",
    "ABR,PC_TOT,SK\t3.3 \t4.3 \t6 \t9.1 \t10.2 \t12.3 \t12.8 \t14.7 \t14.2 \t18.7 \t18 \t23.7 \n",
    "ABR,PC_TOT,TR\t1.6 \t0.4 \t0.8 \t0.5 \t0.5 \t1.3 \t1.1 \t0.8 \t0.7 \t0.6 \t0.8 \t1.1 \n",
    "ABR,PC_TOT,UK\t20.3 \t17.1 \t19.3 \t17 \t17.3 \t17.7 e\t16.6 e\t17.6 e\t17.8 \t19.8 e\t18.7 \t18.9 ep\n",
    "ABR,PC_TOT,US\t: d\t: d\t: d\t: d\t: d\t: d\t: d\t3.7 d\t3.8 d\t3.8 d\t: \t: \n",
    "BES,PC_TOT,AT\t45.1 e\t47.2 \t45.6 e\t48.4 \t48.7 \t46.1 e\t47.1 \t45.1 e\t46.2 \t45.5 e\t48.7 \t46.6 ep\n",
    "BES,PC_TOT,BA\t: \t: \t: \t: \t: \t: \t: \t: \t: \t17.1 \t16.4 \t: \n",
    "BES,PC_TOT,BE\t60.3 \t60.2 \t59.7 \t61 \t61.4 \t61 \t58.7 \t57.6 \t60.2 \t57 \t56.9 \t: \n",
    "BES,PC_TOT,BG\t26.8 \t28.2 \t27.8 \t30.6 \t34.2 \t30.6 \t30.2 \t16.7 \t16.9 \t20.8 \t19.5 \t: \n",
    "BES,PC_TOT,CH\t: \t69.7 \t: \t: \t: \t68.2 \t: \t: \t: \t60.8 \t: \t: \n",
    "BES,PC_TOT,CN_X_HK\t60.1 \t65.7 \t67 \t69.1 \t70.4 \t71.7 \t71.7 b\t71.7 \t73.9 \t74 \t74.6 \t: \n",
    "BES,PC_TOT,CY\t19.9 \t18.9 \t16.8 \t15.9 \t16.4 \t17.8 \t15.7 \t12.7 \t11 \t10.9 \t12.1 \t: \n",
    "BES,PC_TOT,CZ\t51.4 \t52.8 \t48.2 \t49.1 \t47.2 \t45 \t39.8 \t40.8 \t37.7 \t36.4 \t37.6 \t35.9 p\n",
    "BES,PC_TOT,DE\t66.3 \t66.6 \t67.6 \t68.3 \t68.1 \t67.3 \t66.1 \t65.6 \t65.6 \t66.1 \t65.4 \t: \n",
    "BES,PC_TOT,DK\t59.9 \t: \t59.5 \t: \t61 b\t: \t62.1 \t61.1 \t61.2 \t59.9 \t57.9 \t57.9 ep\n",
    "BES,PC_TOT,EA19\t55.6 e\t55.7 e\t56.2 \t56.7 e\t56.6 e\t56.3 e\t55.6 \t55.5 e\t56.8 \t56.9 \t56.7 \t: \n",
    "BES,PC_TOT,EE\t32.9 \t36.5 \t38.5 \t38.1 \t41.6 \t39.8 \t38.5 \t43.6 \t55 \t51.3 \t42.1 \t37.1 \n",
    "BES,PC_TOT,EL\t28.2 \t: \t31.1 \t: \t: \t29.2 be\t33.5 e\t36.5 e\t32.7 \t31 \t30.3 \t29.8 \n",
    "BES,PC_TOT,ES\t48.4 \t48 \t46.3 \t47.1 \t45.5 \t45 \t43.4 \t43 \t44.3 \t45.6 \t46.3 \t46.4 \n",
    "BES,PC_TOT,EU28\t53.9 e\t54.2 e\t54.1 \t55 e\t54.9 e\t54.8 e\t54.1 \t53.8 e\t55 \t55 e\t55 \t: \n",
    "BES,PC_TOT,FI\t70 \t69.3 \t66.9 \t66.6 \t68.2 \t70.3 \t68.1 \t66.1 \t67 \t63.1 \t60.8 \t53.5 \n",
    "BES,PC_TOT,FR\t50.8 \t50.7 b\t51.9 \t52.3 \t52.3 \t50.8 \t52.3 \t53.5 b\t55 \t55.3 \t55 \t: \n",
    "BES,PC_TOT,HR\t42 \t43 \t34.3 \t34.6 \t35.5 \t40.8 \t39.8 \t38.8 \t38.2 \t38.2 \t42.8 \t42.9 \n",
    "BES,PC_TOT,HU\t30.7 d\t37.1 d\t39.4 d\t43.3 \t43.9 \t48.3 \t46.4 \t47.4 \t47.5 \t46.9 \t46.8 \t48.3 \n",
    "BES,PC_TOT,IE\t60.3 \t58.6 \t57.4 \t53.4 \t49.5 \t48.8 \t52.1 e\t52.2 e\t48.9 e\t50.2 e\t53.6 e\t53.6 e\n",
    "BES,PC_TOT,IS\t43.9 \t: \t48 \t49.3 \t50.4 \t50.4 \t47.8 \t: \t49.8 b\t: \t39.2 b\t: \n",
    "BES,PC_TOT,IT\t: \t: \t39.7 \t40.4 \t42 \t45.9 \t44.2 \t44.7 \t45.1 \t44.3 \t45.2 \t: \n",
    "BES,PC_TOT,JP\t74.6 \t74.8 \t76.1 \t77.1 \t77.7 \t78.2 b\t75.3 \t75.9 \t76.5 \t76.1 \t75.5 \t: \n",
    "BES,PC_TOT,KR\t74 d\t75 d\t75 d\t75.4 d\t73.7 b\t72.9 \t71.1 \t71.8 \t73.7 \t74.7 \t75.7 \t: \n",
    "BES,PC_TOT,LT\t16.7 \t19.9 \t20.8 \t26.2 \t32.8 \t29.3 \t30.8 \t32.4 \t28.2 \t26.5 \t27.5 \t31.7 p\n",
    "BES,PC_TOT,LU\t80.4 \t: \t79.7 \t: \t76 \t: \t70.3 \t43.5 \t45.3 \t18.1 \t16.5 \t: \n",
    "BES,PC_TOT,LV\t33.2 \t46.3 \t34.3 \t52.7 \t36.4 \t27 \t36.9 \t38.8 \t24.8 \t23.7 \t21.8 \t27.8 p\n",
    "BES,PC_TOT,ME\t: \t: \t: \t: \t: \t: \t: \t: \t34 \t: \t42.3 \t28.5 \n",
    "BES,PC_TOT,MT\t: \t: \t46.8 \t45.7 \t51.9 \t56.5 \t51.6 \t53.6 \t51.5 \t45.4 \t44.6 \t50 p\n",
    "BES,PC_TOT,NL\t47 \t: \t46.3 \t: \t48.8 \t: \t45.1 \t: \t51.1 b\t51.6 \t51.1 \t51.5 p\n",
    "BES,PC_TOT,NO\t50.5 \t: \t46.8 \t: \t45 \t: \t43.6 \t: \t44.2 \t: \t43.1 \t: \n",
    "BES,PC_TOT,PL\t30.3 \t30.5 \t33.4 \t33.1 \t34.3 \t30.5 \t27.1 \t24.4 \t28.1 \t32.3 \t37.3 \t39 \n",
    "BES,PC_TOT,PT\t31.7 \t34.2 e\t36.3 \t43 e\t47 \t48.1 b\t43.9 \t43.9 \t44.7 \t46 \t42.3 \t: \n",
    "BES,PC_TOT,RO\t45.4 \t44 \t37.2 \t30.4 \t26.9 \t23.3 \t34.8 \t32.3 \t37.4 b\t34.4 \t31 \t32.9 \n",
    "BES,PC_TOT,RS\t: \t: \t: \t: \t: \t: \t8.3 \t8.6 \t9.1 \t5.8 \t7.5 \t8.2 \n",
    "BES,PC_TOT,RU\t30.8 \t31.4 \t30 \t28.8 \t29.4 \t28.7 \t26.6 \t25.5 \t27.7 \t27.2 \t28.2 \t27.1 \n",
    "BES,PC_TOT,SE\t65.1 e\t: \t63.9 b\t: \t62.8 \t: \t59.5 \t: \t57.6 \t: \t61 e\t: \n",
    "BES,PC_TOT,SI\t52.2 \t58.5 \t54.8 \t59.3 \t58.3 \t62.8 b\t58 \t58.4 \t61.2 b\t62.2 \t63.8 \t68.4 \n",
    "BES,PC_TOT,SK\t45.1 \t38.3 \t36.6 \t35 \t35.6 \t34.7 \t35.1 \t35.1 \t33.9 \t37.7 \t40.2 \t32.2 \n",
    "BES,PC_TOT,TR\t36.2 \t37.9 \t43.3 d\t46 d\t48.4 d\t47.3 b\t41 \t45.1 \t45.8 \t46.8 \t48.9 \t50.9 \n",
    "BES,PC_TOT,UK\t42.2 \t44.1 \t42.1 \t45.2 \t46 \t45.4 e\t44.5 e\t44 e\t45.9 \t45.6 e\t46.2 \t46.5 ep\n",
    "BES,PC_TOT,US\t63.3 bd\t62.6 d\t63.3 d\t64.3 d\t64.9 d\t63.5 d\t60.9 d\t57.2 bd\t58.6 d\t59.1 dp\t: \t: \n",
    "GOV,PC_TOT,AT\t34.4 e\t32.6 \t35.9 e\t32.3 \t32.3 \t37 de\t34.9 \t38.3 de\t35.8 \t38.3 de\t33.6 \t37.7 dep\n",
    "GOV,PC_TOT,BA\t: \t: \t: \t: \t: \t: \t: \t: \t: \t26.8 \t25.9 \t: \n",
    "GOV,PC_TOT,BE\t23.5 \t24.4 \t24.7 \t22.4 \t22.2 \t23.2 \t25.3 \t25.4 \t23.4 \t28.6 \t28.5 \t: \n",
    "GOV,PC_TOT,BG\t66.9 \t65.8 \t63.9 \t61.9 \t56.7 \t61.2 \t60.5 \t43.2 \t38.8 \t31.5 \t31.6 \t: \n",
    "GOV,PC_TOT,CH\t: \t22.7 \t: \t: \t: \t22.8 \t: \t: \t: \t25.4 \t: \t: \n",
    "GOV,PC_TOT,CN_X_HK\t29.9 \t26.6 \t26.3 \t24.7 \t24.6 \t23.6 \t23.4 b\t24 \t21.7 \t21.6 \t21.1 \t: \n",
    "GOV,PC_TOT,CY\t60.1 \t64.1 \t67 \t66.5 \t64.6 \t64.1 \t69 \t68.3 \t70.6 \t66.4 \t62.1 \t: \n",
    "GOV,PC_TOT,CZ\t41.8 \t41.9 \t45.2 \t44.9 \t44.7 \t44.8 \t47.8 \t44.4 \t41.7 \t36.8 \t34.7 \t32.9 p\n",
    "GOV,PC_TOT,DE\t31.2 \t30.5 \t28.4 \t27.5 \t27.5 \t28.4 \t29.8 \t30.3 \t29.8 \t29.2 \t29.1 \t: \n",
    "GOV,PC_TOT,DK\t27.1 \t: \t27.6 \t: \t25.9 bd\t: \t26.1 \t28.2 \t28.2 \t29.2 \t30.4 \t30.4 ep\n",
    "GOV,PC_TOT,EA19\t36.7 e\t36.3 e\t35.2 \t34.3 e\t34 e\t34.6 e\t35.5 \t35.3 e\t33.7 \t33.5 \t33.3 \t: \n",
    "GOV,PC_TOT,EE\t48.6 \t44.1 \t43.5 \t44.6 \t45.6 \t50 \t48.8 \t44.1 \t32.8 \t38.3 \t47.2 \t49.5 \n",
    "GOV,PC_TOT,EL\t46.4 \t: \t46.8 \t: \t: \t62.2 be\t54.7 e\t48.3 e\t49.2 \t50.4 \t52.3 \t53.3 \n",
    "GOV,PC_TOT,ES\t40.1 \t41 \t43 \t42.5 \t43.7 \t45.6 \t47.1 \t46.6 \t44.5 \t43.1 \t41.6 \t41.4 \n",
    "GOV,PC_TOT,EU28\t35.3 e\t35.2 e\t34.4 \t33.6 e\t33.3 e\t33.8 e\t34.9 \t34.8 e\t33.3 \t32.9 e\t32.7 \t: \n",
    "GOV,PC_TOT,FI\t25.7 \t26.3 \t25.7 \t25.1 \t24.1 \t21.8 \t24 \t25.7 \t25 b\t26.7 \t26 \t27.5 \n",
    "GOV,PC_TOT,FR\t39 \t38.7 b\t38.6 \t38.5 \t38.1 \t38.9 \t38.7 \t37.1 b\t35.1 \t35.4 \t35.2 \t: \n",
    "GOV,PC_TOT,HR\t55.9 \t46.6 \t58.1 \t55.8 \t50.4 \t49.3 \t51.2 \t49.2 \t48.2 \t45.5 \t39.7 \t41.7 \n",
    "GOV,PC_TOT,HU\t58 d\t51.8 bd\t49.4 d\t44.8 \t44.4 \t41.8 \t42 \t39.3 \t38.1 \t36.9 \t35.9 \t33.5 \n",
    "GOV,PC_TOT,IE\t29.8 \t31.1 \t32 \t31.9 \t32.4 \t33.7 \t29.8 e\t29.4 e\t29.4 e\t27.5 e\t25.9 e\t25.9 e\n",
    "GOV,PC_TOT,IS\t40.1 \t: \t40.5 \t39.6 \t38.8 \t38.8 \t40.2 \t: \t40 b\t: \t35 b\t: \n",
    "GOV,PC_TOT,IT\t: \t: \t50.7 \t47 \t44.3 \t42 \t42.1 \t41.6 \t41.9 \t42.5 \t41.4 \t: \n",
    "GOV,PC_TOT,JP\t18 d\t18.1 d\t16.8 d\t16.2 d\t15.6 d\t15.6 bd\t17.7 d\t17.2 d\t16.4 d\t16.8 d\t17.3 d\t: \n",
    "GOV,PC_TOT,KR\t23.9 d\t23.1 d\t23 d\t23.1 d\t24.8 b\t25.4 \t27.4 \t26.7 \t24.9 \t23.8 \t22.8 \t: \n",
    "GOV,PC_TOT,LT\t64.6 \t63.1 \t62.7 \t53.6 \t46.9 \t54.6 \t52.7 \t46 \t42.2 \t39.7 \t34.5 \t33.7 p\n",
    "GOV,PC_TOT,LU\t11.2 \t: \t16.6 \t: \t18.2 \t: \t24.3 \t35.1 \t33.5 \t45.1 \t48.4 \t: \n",
    "GOV,PC_TOT,LV\t46.4 \t31.2 \t46 \t38.2 \t49.9 \t47.3 \t44.7 \t26.4 \t22.5 \t23.9 \t23.9 \t25.6 p\n",
    "GOV,PC_TOT,ME\t: \t: \t: \t: \t: \t: \t: \t: \t46.3 \t: \t31.7 \t46.6 \n",
    "GOV,PC_TOT,MT\t: \t: \t25.9 \t26.8 \t25.7 \t27.4 \t30 \t33.3 \t28.4 \t32 \t32.5 \t27.2 p\n",
    "GOV,PC_TOT,NL\t40.3 \t: \t38.8 \t: \t38 \t: \t40.9 \t: \t33.9 b\t32.4 \t33.3 \t32.7 p\n",
    "GOV,PC_TOT,NO\t40.6 \t: \t43.6 \t: \t44.9 \t: \t46.8 \t: \t46.5 \t: \t45.8 \t: \n",
    "GOV,PC_TOT,PL\t62.7 \t61.7 \t57.7 \t57.5 \t58.6 \t59.8 \t60.4 \t60.9 \t55.8 \t51.3 \t47.2 \t45.2 \n",
    "GOV,PC_TOT,PT\t60.1 \t57.5 e\t55.2 \t48.6 e\t44.6 \t43.7 b\t45.5 \t45.1 \t41.8 \t43.1 \t46.4 \t: \n",
    "GOV,PC_TOT,RO\t47.6 \t49 \t53.5 \t64.1 \t67.1 \t70.1 \t54.9 \t54.4 \t49.1 b\t49.9 \t52.3 \t48.5 \n",
    "GOV,PC_TOT,RS\t: \t: \t: \t: \t: \t: \t62.9 \t59.4 \t63.4 \t51.3 \t59.5 \t53.5 \n",
    "GOV,PC_TOT,RU\t59.6 \t60.6 \t61.9 \t61.1 \t62.6 \t64.7 \t66.5 \t70.3 \t67.1 \t67.8 \t67.6 \t69.2 \n",
    "GOV,PC_TOT,SE\t24.3 e\t: \t24.4 b\t: \t24.6 \t: \t27 \t: \t27.5 \t: \t28.3 e\t: \n",
    "GOV,PC_TOT,SI\t37.5 \t30 \t37.2 \t34.4 \t35.6 \t31.3 b\t35.7 \t35.3 \t31.5 b\t28.7 \t26.9 \t21.8 \n",
    "GOV,PC_TOT,SK\t50.8 e\t57.1 e\t57 e\t55.6 e\t53.9 e\t52.3 e\t50.6 e\t49.6 e\t49.8 e\t41.6 e\t38.9 e\t41.4 e\n",
    "GOV,PC_TOT,TR\t57 \t57 \t50.1 d\t48.6 d\t47.1 d\t31.6 b\t34 \t30.8 \t29.2 \t28.2 \t26.6 \t26.3 \n",
    "GOV,PC_TOT,UK\t31.7 \t32.9 \t32.7 \t31.9 \t30.9 \t30.7 \t32.6 \t32.3 \t30.5 \t28.7 e\t29.1 \t28.8 ep\n",
    "GOV,PC_TOT,US\t30.7 bd\t31.6 d\t30.8 d\t29.9 d\t29.2 d\t30.4 d\t32.6 d\t32.6 d\t31.2 d\t30.8 dp\t: \t: \n",
    "HES,PC_TOT,AT\t: \t0.4 \t: \t0.5 \t0.6 \t: d\t0.7 \t: d\t0.7 \t: d\t0.6 \t: d\n",
    "HES,PC_TOT,BA\t: \t: \t: \t: \t: \t: \t: \t: \t: \t7.4 \t3.7 \t: \n",
    "HES,PC_TOT,BE\t2.7 \t2.6 \t2.6 \t2.5 \t2.8 \t2.9 \t3.2 \t3.1 \t2.9 \t1 \t1 \t: \n",
    "HES,PC_TOT,BG\t0.4 \t0.3 \t0.4 \t0.7 \t1 \t0.4 \t0.7 \t0.5 \t0.2 \t0.2 \t0.1 \t: \n",
    "HES,PC_TOT,CH\t: \t1.5 \t: \t: \t: \t2.3 \t: \t: \t: \t1.2 \t: \t: \n",
    "HES,PC_TOT,CY\t3.8 \t3.9 \t4.2 \t4.1 \t2.8 \t2.7 \t2.8 \t3.5 \t3.9 \t4.6 \t5.6 \t: \n",
    "HES,PC_TOT,CZ\t1.2 \t1.5 \t1.2 \t1.2 \t0.8 \t1.3 \t1.2 \t0.9 \t0.9 \t0.9 \t0.5 \t0.6 p\n",
    "HES,PC_TOT,DK\t: d\t: \t: d\t: \t: d\t: \t: d\t: d\t: d\t: d\t: d\t: d\n",
    "HES,PC_TOT,EA19\t0.7 e\t0.7 e\t0.7 e\t0.9 e\t0.9 e\t0.9 e\t0.9 e\t0.9 e\t0.9 e\t0.7 e\t0.8 e\t: \n",
    "HES,PC_TOT,EE\t2.9 \t1.7 \t0.8 \t0.9 \t0.9 \t0.5 \t0.7 \t0.6 \t0.3 \t0.3 \t0.3 \t0.9 \n",
    "HES,PC_TOT,EL\t2.6 \t: \t1.7 \t: \t: \t2 be\t2.1 e\t2.3 e\t2.3 \t2 \t2.6 \t2.8 \n",
    "HES,PC_TOT,ES\t5.4 \t4.1 \t4.1 \t3.9 \t3.3 \t3.2 \t3.5 \t3.9 \t4 \t3.9 \t4.1 \t4.1 \n",
    "HES,PC_TOT,EU28\t0.7 e\t0.7 e\t0.8 e\t1 e\t0.9 e\t1 e\t1 e\t0.9 e\t0.9 e\t0.8 e\t0.8 e\t: \n",
    "HES,PC_TOT,FI\t0.2 \t0.2 \t0.2 \t0.3 \t0.3 \t0.2 \t0.1 \t0.2 \t0.1 \t0.2 \t0.2 \t0.2 \n",
    "HES,PC_TOT,FR\t0.9 \t0.9 b\t1 \t1.3 \t1.3 \t1.2 \t1.2 \t1 b\t1.3 \t0.9 \t1 \t: \n",
    "HES,PC_TOT,HR\t: \t7.9 \t4.9 \t2.5 \t3 \t1.9 \t1.9 \t2 \t1.7 \t1.7 \t1.7 \t2.1 \n",
    "HES,PC_TOT,IE\t1.6 \t1.7 \t1.7 \t0.3 \t1.7 \t1.4 \t1.1 e\t0.9 e\t0.7 e\t0.7 e\t0.6 e\t0.6 e\n",
    "HES,PC_TOT,IS\t0 \t: \t0 \t0 \t0 \t0 \t0 \t: \t1.4 b\t: \t5.7 b\t: \n",
    "HES,PC_TOT,IT\t: \t: \t0.1 \t1.4 \t1.3 \t1.3 \t1.3 \t0.9 \t0.9 \t0.9 \t1 \t: \n",
    "HES,PC_TOT,JP\t6.3 d\t6.1 d\t6.1 d\t5.7 d\t5.6 d\t5.1 bd\t5.9 d\t5.7 d\t5.8 d\t5.8 d\t5.9 d\t: \n",
    "HES,PC_TOT,KR\t1.3 d\t1 d\t0.9 d\t0.8 d\t1 b\t1 \t0.9 \t0.9 \t0.7 \t0.6 \t0.7 \t: \n",
    "HES,PC_TOT,LT\t4.8 \t6 \t5.7 \t5.3 \t0.2 \t0.3 \t3.2 \t1.5 \t1 \t0.5 \t0.1 \t0.2 p\n",
    "HES,PC_TOT,LU\t0 \t: \t0 \t: \t0 e\t: \t0 \t0.6 \t0.5 \t0.9 \t1.7 \t: \n",
    "HES,PC_TOT,LV\t: \t: \t1.2 \t1.5 \t0.9 \t2.5 \t3 \t1.4 \t1.6 \t2 \t2.7 \t2.3 p\n",
    "HES,PC_TOT,ME\t: \t: \t: \t: \t: \t: \t: \t: \t0 \t: \t3.5 \t4.2 \n",
    "HES,PC_TOT,MT\t: \t: \t0.4 \t0 \t0 \t0 \t0 \t1.2 \t2.1 \t1.3 \t1.3 \t1.1 p\n",
    "HES,PC_TOT,NL\t0.2 \t: \t0.3 \t: \t0.2 \t: \t0.3 \t: \t0.3 b\t0.4 \t0.3 \t0.2 p\n",
    "HES,PC_TOT,NO\t0.6 \t: \t0.7 \t: \t0.6 \t: \t0.4 \t: \t0.4 \t: \t0.5 \t: \n",
    "HES,PC_TOT,PL\t2.1 \t2.4 \t2.9 \t2.2 \t0.2 \t4.1 \t6.7 \t2.5 \t2.4 \t2.6 \t2.1 \t2.2 \n",
    "HES,PC_TOT,PT\t1.3 \t1.1 e\t1 \t0.8 e\t0.7 \t3.6 b\t2.8 \t3.2 \t5.4 \t3.6 \t3.9 \t: \n",
    "HES,PC_TOT,RO\t1.5 \t1.5 \t4 \t1.2 \t1.4 \t2.6 \t1.9 \t2.2 \t1.2 b\t1 \t1.1 \t1.4 \n",
    "HES,PC_TOT,RS\t: \t: \t: \t: \t: \t: \t20.9 \t28.4 \t21.8 \t33.7 \t25.1 \t25.9 \n",
    "HES,PC_TOT,RU\t0.5 \t0.4 \t0.4 \t0.6 \t0.6 \t0.5 \t0.4 \t0.5 \t0.8 \t0.8 \t1 \t1.1 \n",
    "HES,PC_TOT,SE\t0.1 e\t: \t0.7 b\t: \t0.8 \t: \t0.6 \t: \t0.9 \t: \t1 e\t: \n",
    "HES,PC_TOT,SI\t0.4 \t0.3 \t0.7 \t0.3 \t0.4 \t0.3 b\t0.3 \t0.3 \t0.2 b\t0.4 \t0.3 \t0.5 \n",
    "HES,PC_TOT,SK\t0.3 \t0.3 \t0.3 \t0.3 \t0.2 \t0.3 \t0.6 \t0.4 \t1.8 \t1.7 \t2.7 \t2.2 \n",
    "HES,PC_TOT,TR\t: d\t: d\t: d\t0 d\t0 d\t16.2 b\t20.3 \t19.6 \t20.8 \t21.1 \t20.4 \t18.4 \n",
    "HES,PC_TOT,UK\t1.1 \t1.1 \t1.2 \t1.3 \t1.2 \t1.2 e\t1.3 e\t1.2 e\t1.2 \t1.1 e\t1.3 \t1.3 ep\n",
    "HES,PC_TOT,US\t2.8 bd\t2.8 d\t2.8 d\t2.9 d\t2.8 d\t2.9 d\t2.9 d\t3 d\t3 d\t3 dp\t: \t: \n",
    "PNP,PC_TOT,AT\t0.4 e\t0.5 \t0.4 e\t0.4 \t0.5 \t0.4 e\t0.6 \t0.5 e\t0.5 \t0.4 e\t0.5 \t0.4 ep\n",
    "PNP,PC_TOT,BA\t: \t: \t: \t: \t: \t: \t: \t: \t: \t0.1 \t0 \t: \n",
    "PNP,PC_TOT,BE\t0.5 \t0.5 \t0.6 \t0.7 \t0.7 \t0.6 \t0.7 \t0.6 \t0.6 \t0.4 \t0.4 \t: \n",
    "PNP,PC_TOT,BG\t0.2 \t0.2 \t0.3 \t0.4 \t0.5 \t0.9 \t0.2 \t0.1 \t0.2 \t1.3 \t0.5 \t: \n",
    "PNP,PC_TOT,CH\t: \t0.8 \t: \t: \t: \t0.7 \t: \t: \t: \t0.6 \t: \t: \n",
    "PNP,PC_TOT,CY\t2.3 \t1.6 \t1.2 \t1.3 \t1.7 \t0.7 \t0.5 \t0.5 \t0.5 \t0.7 \t0.6 \t: \n",
    "PNP,PC_TOT,CZ\t1 \t0.1 \t0 \t0 \t0 \t0 \t0 \t0 \t0 \t0 \t0.1 \t0.1 p\n",
    "PNP,PC_TOT,DE\t0.3 \t0.4 \t0.3 \t0.4 \t0.4 \t0.3 \t0.3 \t0.2 \t0.3 \t0.4 \t0.3 \t: \n",
    "PNP,PC_TOT,DK\t2.7 \t: \t2.8 \t: \t3.5 b\t: \t3.1 \t3.5 \t3.6 \t3.8 \t4.3 \t4.3 ep\n",
    "PNP,PC_TOT,EA19\t0.7 e\t0.8 e\t0.8 e\t1 e\t1 e\t1 e\t1 e\t1 e\t1 e\t1 e\t0.9 e\t: \n",
    "PNP,PC_TOT,EE\t0.4 \t0.6 \t0.2 \t0.1 \t0.2 \t0.3 \t0.7 \t0.2 \t0.1 \t0.1 \t0.1 \t0.1 \n",
    "PNP,PC_TOT,EL\t1.2 \t: \t1.5 \t: \t: \t0.9 be\t0.9 e\t1 e\t1 \t0.9 \t0.9 \t0.9 \n",
    "PNP,PC_TOT,ES\t0.5 \t0.7 \t0.9 \t0.6 \t0.5 \t0.6 \t0.6 \t0.7 \t0.6 \t0.6 \t0.6 \t0.7 \n",
    "PNP,PC_TOT,EU28\t1.5 e\t1.6 e\t1.6 e\t1.7 e\t1.7 e\t1.6 e\t1.6 e\t1.6 e\t1.6 e\t1.6 e\t1.6 e\t: \n",
    "PNP,PC_TOT,FI\t0.9 \t1 \t1 \t1 \t1 \t1 \t1.1 \t1.1 \t1.3 \t1.3 \t1.4 \t1.4 \n",
    "PNP,PC_TOT,FR\t0.9 \t0.9 b\t0.9 \t0.8 \t0.8 \t1.1 \t0.8 \t0.8 b\t0.8 \t0.8 \t0.8 \t: \n",
    "PNP,PC_TOT,HR\t: \t: \t0 \t0.2 \t0.2 \t0.2 \t0.1 \t0.2 \t0.2 \t0.3 \t0.3 \t0.5 \n",
    "PNP,PC_TOT,HU\t0.4 d\t0.6 d\t0.3 d\t0.6 \t0.6 \t0.6 \t0.7 \t0.9 \t1 \t0.9 \t0.8 \t0.7 \n",
    "PNP,PC_TOT,IE\t0 \t0 \t0.2 \t1.5 \t0.6 \t0.5 \t0.5 e\t0.5 e\t0.6 e\t0.6 e\t0.6 e\t0.6 e\n",
    "PNP,PC_TOT,IS\t1.5 \t: \t0.3 \t0.6 \t0.8 \t0.8 \t0.6 \t: \t0.6 b\t: \t0.1 b\t: \n",
    "PNP,PC_TOT,IT\t: \t: \t1.6 \t2.9 \t2.9 \t2.8 \t3 \t3.1 \t3.1 \t2.8 \t2.7 \t: \n",
    "PNP,PC_TOT,JP\t0.8 \t0.7 \t0.7 \t0.7 \t0.7 \t0.7 b\t0.7 \t0.8 \t0.8 \t0.8 \t0.8 \t: \n",
    "PNP,PC_TOT,KR\t0.4 d\t0.4 d\t0.4 d\t0.3 d\t0.3 b\t0.4 \t0.4 \t0.4 \t0.4 \t0.5 \t0.5 \t: \n",
    "PNP,PC_TOT,LT\t0.1 \t0.3 \t0.2 \t0.6 \t0.5 \t0.3 \t0.3 \t0.2 \t0.2 \t0.2 \t0.7 \t0.2 p\n",
    "PNP,PC_TOT,LU\t0.1 \t: \t0.1 \t: \t0.1 \t: \t0.1 \t0.1 \t1.2 \t1.4 \t1 \t: \n",
    "PNP,PC_TOT,ME\t: \t: \t: \t: \t: \t: \t: \t: \t0 \t: \t0 \t0 \n",
    "PNP,PC_TOT,MT\t: \t: \t0.1 \t0 \t0 \t0.1 \t0.1 \t0.1 \t0.3 \t0.3 \t0.2 \t0.2 p\n",
    "PNP,PC_TOT,NL\t2.1 \t: \t2.6 \t: \t2.3 \t: \t2.8 \t: \t3.3 b\t3.1 \t3.1 \t3.1 p\n",
    "PNP,PC_TOT,NO\t0.8 \t: \t0.9 \t: \t1 \t: \t1 \t: \t1.1 \t: \t1 \t: \n",
    "PNP,PC_TOT,PL\t0.3 \t0.3 \t0.3 \t0.3 \t0.2 \t0.2 \t0.3 \t0.3 \t0.2 \t0.4 \t0.2 \t0.2 \n",
    "PNP,PC_TOT,PT\t1.9 \t2.4 e\t2.8 \t2.5 e\t2.3 \t1.7 b\t3.7 \t4.6 \t2.1 \t2.1 \t1.3 \t: \n",
    "PNP,PC_TOT,RO\t0 \t0 \t0 \t0.2 \t0 \t0 \t0.1 \t0 \t0.2 b\t0.2 \t0 \t0.1 \n",
    "PNP,PC_TOT,RS\t: \t: \t: \t: \t: \t: \t0.8 \t0 \t0.1 \t0.1 \t0 \t0 \n",
    "PNP,PC_TOT,RU\t0.2 \t0.1 \t0 \t0.1 \t0.1 \t0.2 \t0.1 \t0.1 \t0.2 \t0.1 \t0.1 \t0.2 \n",
    "PNP,PC_TOT,SE\t3.2 e\t: \t2.9 b\t: \t2.2 \t: \t2.6 \t: \t3 \t: \t3.1 e\t: \n",
    "PNP,PC_TOT,SI\t0.1 \t0.1 \t0 \t0.2 \t0 \t0 b\t0 \t0.1 \t0 b\t0.1 \t0 \t0 \n",
    "PNP,PC_TOT,SK\t0.4 \t0 \t0 \t0.1 \t0.1 \t0.4 \t1 \t0.3 \t0.4 \t0.3 \t0.2 \t0.5 \n",
    "PNP,PC_TOT,TR\t5.2 d\t4.8 d\t5.8 d\t4.8 d\t4 d\t3.6 b\t3.7 \t3.7 \t3.4 \t3.4 \t3.3 \t3.4 \n",
    "PNP,PC_TOT,UK\t4.7 \t4.7 \t4.7 \t4.6 \t4.6 \t4.9 e\t5 e\t4.8 e\t4.8 \t4.7 e\t4.7 \t4.6 ep\n",
    "PNP,PC_TOT,US\t3.1 bd\t3 d\t3.1 d\t3 d\t3.1 d\t3.2 d\t3.5 d\t3.5 d\t3.4 d\t3.3 dp\t: \t: \n"
   ]
  },
  {
   "cell_type": "markdown",
   "metadata": {},
   "source": [
    "<div class = \"alert alert-info\" style =\"border-radius:10px;border-width:3px\" ><b>QUESTION:</b> What do we find in this data? What about the data format? How is missing data represented? Are all data features numerical?</div>"
   ]
  },
  {
   "cell_type": "markdown",
   "metadata": {},
   "source": [
    "Note that we have some missing data. There are some values with different formats, there are some letters in the data set. We need to transform this in a standard data set. "
   ]
  },
  {
   "cell_type": "markdown",
   "metadata": {},
   "source": [
    "Let us check another example. This time this is a file from a telecom, and our goal is to predict *churn*. Let us have a look at the data."
   ]
  },
  {
   "cell_type": "code",
   "execution_count": null,
   "metadata": {},
   "outputs": [],
   "source": [
    "%load './files/churn_small.csv'"
   ]
  },
  {
   "cell_type": "markdown",
   "metadata": {},
   "source": [
    "<div class = \"alert alert-info\" style =\"border-radius:10px;border-width:3px\"><b>QUESTION:</b> What do we find in this data? Look for categorical features? Are all features interesting? Do you believe the phone number to be predictive of churn?</div>"
   ]
  },
  {
   "cell_type": "markdown",
   "metadata": {},
   "source": [
    "What we have found so far:\n",
    "\n",
    "+ Heterogeneous data\n",
    "+ Missing data\n",
    "+ Categorical data\n",
    "+ Large dimensionality\n",
    "+ Outliers\n",
    "\n",
    "What to do with all these pathologies?\n",
    "\n",
    "\n",
    "\n",
    "Goals of this session:\n",
    "\n",
    "+ Pandas exists\n",
    "+ Feature extraction\n",
    "+ Dealing with categorical data\n",
    "    + One-hot encoding\n",
    "    + Hashing trick\n",
    "+ Dealing with missing data\n",
    "+ Dealing with outliers\n",
    "+ The curse of dimensionality"
   ]
  },
  {
   "cell_type": "markdown",
   "metadata": {},
   "source": [
    "## 1. Pandas exists"
   ]
  },
  {
   "cell_type": "markdown",
   "metadata": {},
   "source": [
    "pandas is a Python package providing fast, flexible, and expressive data structures designed to work with relational or labeled data both. It is a fundamental high-level building block for doing practical, real world data analysis in Python.\n",
    "\n",
    "pandas is well suited for:\n",
    "\n",
    "+ Tabular data with heterogeneously-typed columns, as in an SQL table or Excel spreadsheet\n",
    "+ Ordered and unordered (not necessarily fixed-frequency) time series data.\n",
    "+ Arbitrary matrix data (homogeneously typed or heterogeneous) with row and column labels."
   ]
  },
  {
   "cell_type": "code",
   "execution_count": null,
   "metadata": {},
   "outputs": [],
   "source": [
    "import pandas as pd\n"
   ]
  },
  {
   "cell_type": "markdown",
   "metadata": {},
   "source": [
    "### DataFrames \n",
    "DataFrames are designed to store heterogeneous multivarite data, where for every index there are multiple fields or columns of data, often of different data type.\n",
    "\n",
    "A `DataFrame` os a tabular data structure, encapsulating multiple series like columns in a spreadsheet. Data are stored interally as a 2-dimensional object, but the `DataFrame` allows us to represent and manipulate higher-dimensional data."
   ]
  },
  {
   "cell_type": "markdown",
   "metadata": {},
   "source": [
    "#### Reading tabular data\n",
    "\n",
    "The ‘pandas’ Python library provides several operators, <code>read_csv(), read_table(), \n",
    "read_excel() ...</code> that allows you to access data ﬁles in tabular format on your computer as well as data stored in web repositories.\n",
    "\n",
    "Reading in a data table is simply a matter of knowing the name (and location) of the data set."
   ]
  },
  {
   "cell_type": "code",
   "execution_count": null,
   "metadata": {},
   "outputs": [],
   "source": [
    "from __future__ import division\n",
    "import pandas as pd\n",
    "import numpy as np\n",
    "\n",
    "df = pd.read_csv('./files/churn.csv')\n"
   ]
  },
  {
   "cell_type": "code",
   "execution_count": null,
   "metadata": {},
   "outputs": [],
   "source": [
    "df.shape "
   ]
  },
  {
   "cell_type": "code",
   "execution_count": null,
   "metadata": {},
   "outputs": [],
   "source": [
    "type(df)"
   ]
  },
  {
   "cell_type": "markdown",
   "metadata": {},
   "source": [
    "We can check the first or last rows of the data frame using `head` or  `tail`."
   ]
  },
  {
   "cell_type": "code",
   "execution_count": null,
   "metadata": {},
   "outputs": [],
   "source": [
    "df.head()"
   ]
  },
  {
   "cell_type": "code",
   "execution_count": null,
   "metadata": {},
   "outputs": [],
   "source": [
    "df.tail()"
   ]
  },
  {
   "cell_type": "markdown",
   "metadata": {},
   "source": [
    "<div class=\"alert alert-warning\">Let us describe a little bit what we are seeing.</div>"
   ]
  },
  {
   "cell_type": "markdown",
   "metadata": {},
   "source": [
    "Data in CSV and databases are often organized in what is called *stacked* or *record* formats. In this case for each record we have 21 different attributes or columns."
   ]
  },
  {
   "cell_type": "code",
   "execution_count": null,
   "metadata": {},
   "outputs": [],
   "source": [
    "df.columns"
   ]
  },
  {
   "cell_type": "code",
   "execution_count": null,
   "metadata": {},
   "outputs": [],
   "source": [
    "col_names = df.columns.tolist()\n",
    "\n",
    "print(\"Column names:\")\n",
    "print(col_names)\n",
    "\n",
    "to_show = col_names[:6] + col_names[-6:]\n",
    "\n",
    "print (\"\\nSample data:\")\n",
    "df[to_show].head(6)"
   ]
  },
  {
   "cell_type": "markdown",
   "metadata": {},
   "source": [
    "The values of the indexes can be retrieved using:"
   ]
  },
  {
   "cell_type": "code",
   "execution_count": null,
   "metadata": {},
   "outputs": [],
   "source": [
    "list(df.index)"
   ]
  },
  {
   "cell_type": "markdown",
   "metadata": {},
   "source": [
    "We can return the values as a numpy array:"
   ]
  },
  {
   "cell_type": "code",
   "execution_count": null,
   "metadata": {},
   "outputs": [],
   "source": [
    "X = df.values"
   ]
  },
  {
   "cell_type": "code",
   "execution_count": null,
   "metadata": {},
   "outputs": [],
   "source": [
    "X"
   ]
  },
  {
   "cell_type": "code",
   "execution_count": null,
   "metadata": {},
   "outputs": [],
   "source": [
    "X[:,0]"
   ]
  },
  {
   "cell_type": "markdown",
   "metadata": {},
   "source": [
    "We can retrieve the values of a column indexing by its name"
   ]
  },
  {
   "cell_type": "code",
   "execution_count": null,
   "metadata": {},
   "outputs": [],
   "source": [
    "df['Area Code']"
   ]
  },
  {
   "cell_type": "markdown",
   "metadata": {},
   "source": [
    "If we slice then we are retrieving rows:"
   ]
  },
  {
   "cell_type": "code",
   "execution_count": null,
   "metadata": {},
   "outputs": [],
   "source": [
    "df[3:10]"
   ]
  },
  {
   "cell_type": "markdown",
   "metadata": {},
   "source": [
    "You can work the same way you do in numpy using `.ix`"
   ]
  },
  {
   "cell_type": "code",
   "execution_count": null,
   "metadata": {},
   "outputs": [],
   "source": [
    "df.loc[0:3,['Area Code', 'Phone']]"
   ]
  },
  {
   "cell_type": "markdown",
   "metadata": {},
   "source": [
    "Pandas is useful for joining, slicing, selecting and cleaning data. There is much much more, but we will basically use numpy so, sufices to know the very basics."
   ]
  },
  {
   "cell_type": "markdown",
   "metadata": {},
   "source": [
    "## Example: Cleaning Eurostat"
   ]
  },
  {
   "cell_type": "markdown",
   "metadata": {},
   "source": [
    "We have seen that the Eurostat file is a mixed file, we can read it according to the specific TAB defined format and the work out the rest."
   ]
  },
  {
   "cell_type": "code",
   "execution_count": null,
   "metadata": {
    "scrolled": true
   },
   "outputs": [],
   "source": [
    "%reset -f\n",
    "import pandas as pd\n",
    "\n",
    "df = pd.read_csv('./files/tsc00031.tsv', sep='\\t',encoding=\"utf-8-sig\")\n",
    "df.head()"
   ]
  },
  {
   "cell_type": "markdown",
   "metadata": {},
   "source": [
    "We can split the cells using the commas, and create as many columns as elements according to the splitting."
   ]
  },
  {
   "cell_type": "code",
   "execution_count": null,
   "metadata": {
    "scrolled": true
   },
   "outputs": [],
   "source": [
    "cols = 'sectfund,unit,geo\\\\time'.split(',')\n",
    "df[cols] = df['sectfund,unit,geo\\\\time'].str.split(',', expand=True)\n",
    "df.head()"
   ]
  },
  {
   "cell_type": "markdown",
   "metadata": {},
   "source": [
    "And now we can drop the first column"
   ]
  },
  {
   "cell_type": "code",
   "execution_count": null,
   "metadata": {
    "scrolled": true
   },
   "outputs": [],
   "source": [
    "df = df.drop(labels=['sectfund,unit,geo\\\\time'], axis=1)\n",
    "\n",
    "df.head()"
   ]
  },
  {
   "cell_type": "markdown",
   "metadata": {},
   "source": [
    "<div class = \"alert alert-success\" style=\"border-radius:10px;border-width:3px\">Let us try to clean a little bit this file.\n",
    "<ol>\n",
    "<li> Change all ':' for 'NaN'</li>\n",
    "<li> Remove the letters in the numerical valued columns</li>\n",
    "</ol>\n",
    "</div>"
   ]
  },
  {
   "cell_type": "code",
   "execution_count": null,
   "metadata": {
    "scrolled": true
   },
   "outputs": [],
   "source": [
    "import numpy as np\n",
    "df = df.replace(': ',np.nan)\n",
    "df.head()"
   ]
  },
  {
   "cell_type": "code",
   "execution_count": null,
   "metadata": {},
   "outputs": [],
   "source": [
    "data_columns = df.columns"
   ]
  },
  {
   "cell_type": "code",
   "execution_count": null,
   "metadata": {
    "scrolled": true
   },
   "outputs": [],
   "source": [
    "# Delete everything that i not a number or a point from the numerical columns\n",
    "\n",
    "df[data_columns[:-3]]=df[data_columns[:-3]].replace(r'[^0-9\\.]','', regex=True)"
   ]
  },
  {
   "cell_type": "code",
   "execution_count": null,
   "metadata": {},
   "outputs": [],
   "source": [
    "# Change to NAN elements without information\n",
    "\n",
    "df[data_columns[:-3]]=df[data_columns[:-3]].replace(r'',np.nan, regex=True)"
   ]
  },
  {
   "cell_type": "code",
   "execution_count": null,
   "metadata": {
    "scrolled": true
   },
   "outputs": [],
   "source": [
    "df[data_columns[:-3]]=df[data_columns[:-3]].astype(np.float)\n",
    "df.head()"
   ]
  },
  {
   "cell_type": "code",
   "execution_count": null,
   "metadata": {},
   "outputs": [],
   "source": [
    "df = df.drop(labels = ['unit'],axis=1)\n",
    "df.head()"
   ]
  },
  {
   "cell_type": "code",
   "execution_count": null,
   "metadata": {},
   "outputs": [],
   "source": [
    "df.values"
   ]
  },
  {
   "cell_type": "markdown",
   "metadata": {
    "collapsed": true
   },
   "source": [
    "## 2. Handling Missing data"
   ]
  },
  {
   "cell_type": "markdown",
   "metadata": {},
   "source": [
    "There are different casuistics for dealing with missing data. The following diagram shows some examples of how to deal with it. "
   ]
  },
  {
   "cell_type": "markdown",
   "metadata": {},
   "source": [
    "<img src='./files/missing_data.jpg' width=600px>"
   ]
  },
  {
   "cell_type": "markdown",
   "metadata": {},
   "source": [
    "The process of replacing missing data with another value is called **inputing**.\n",
    "\n",
    "There are basicaly three ways of dealing with missing data:\n",
    "\n",
    "+ Deletion:\n",
    "\n",
    "    + Completely remove data sample. This can be dangerous if the data set size is small. \n",
    "    + Pair-wise deletion. If we are making different analysis each involving different subsets of attributes, then for each specific analysis we could just remove the samples affected by missing data for that specific analysis instead of doing that for the complete data set first and then proceed with the analysis. In this sense we keep all possible data. This, however, does not necessary allow to fairly compare different analysis since they may involve different amount of data.\n",
    "    \n",
    "+ Single substitution:\n",
    "\n",
    "    + Replace missing data with mean/mode/median. \n",
    "    + Create a *dummy variable*, a new variable, indicating the value is missing and inpute missing data to a single value such as mean/median.\n",
    "    + Regression inputation. Use regression on available data to inpute the value.\n",
    "    \n",
    "+ Model-based methods\n",
    "    + Multiple imputation: The idea is to sample the inputed value from a distribution (it can be the empirical distribution) and create a set of inputed datasets (each dataset is created by sampling the values independently). The analysis is done over all of them and results are aggregated."
   ]
  },
  {
   "cell_type": "code",
   "execution_count": null,
   "metadata": {},
   "outputs": [],
   "source": [
    "df.head()"
   ]
  },
  {
   "cell_type": "code",
   "execution_count": null,
   "metadata": {},
   "outputs": [],
   "source": [
    "np.unique(df['sectfund'])"
   ]
  },
  {
   "cell_type": "markdown",
   "metadata": {},
   "source": [
    "<div class = \"alert alert-info\" style =\"border-radius:10px;border-width:3px\"><b>QUESTION:</b> What should we do with this data?</div>"
   ]
  },
  {
   "cell_type": "markdown",
   "metadata": {},
   "source": [
    "Let us check the amount of `NaN`, both column-wise and row-wise."
   ]
  },
  {
   "cell_type": "code",
   "execution_count": null,
   "metadata": {},
   "outputs": [],
   "source": [
    "%matplotlib inline\n",
    "import matplotlib.pyplot as plt\n",
    "v=np.array(df.values[:,:-2],dtype=np.float)\n",
    "\n",
    "fig = plt.figure()\n",
    "sf1 = plt.subplot(1,2,1)\n",
    "year_nan = np.sum(np.where(np.isnan(v),1.,0.),axis=0)\n",
    "plt.bar(np.array(range(year_nan.shape[0])),year_nan)\n",
    "plt.subplot(1,2,2)\n",
    "concept_nan = np.sum(np.where(np.isnan(v),1.,0.),axis=1)\n",
    "plt.bar(np.array(range(concept_nan.shape[0])),concept_nan)\n",
    "\n",
    "fig.set_size_inches((12,4))"
   ]
  },
  {
   "cell_type": "markdown",
   "metadata": {},
   "source": [
    "<div class = \"alert alert-info\" style =\"border-radius:10px;border-width:3px\"><b>QUESTION:</b> What should we do with this data?</div>"
   ]
  },
  {
   "cell_type": "markdown",
   "metadata": {},
   "source": [
    "Actually, we could work with this data set to understand EU country policies with respect to research. We could ask what are the countries that have a similar profile of expediture in research.\n",
    "\n",
    "In order to answer this question we could work just with data from one year. Let us take 2012, for example."
   ]
  },
  {
   "cell_type": "code",
   "execution_count": null,
   "metadata": {},
   "outputs": [],
   "source": [
    "df[['2012 ','sectfund','geo\\\\time']]"
   ]
  },
  {
   "cell_type": "markdown",
   "metadata": {},
   "source": [
    "We can represent each country according to the differnt kind of expeditures. To do this we will use pivoting."
   ]
  },
  {
   "cell_type": "code",
   "execution_count": null,
   "metadata": {},
   "outputs": [],
   "source": [
    "df_2012 = df.pivot(index='geo\\\\time',columns='sectfund',values = '2012 ')\n",
    "df_2012.head()"
   ]
  },
  {
   "cell_type": "markdown",
   "metadata": {},
   "source": [
    "<div class = \"alert alert-success\" style =\"border-radius:10px;border-width:3px\"><b>EXERCISE:</b> We want to know what countries have more similar policies to each other. In order to do this, follow these steps:\n",
    "\n",
    "<ul>\n",
    "<li>Inpute missing values.</li>\n",
    "<li>We will be using unsupervised learning techniques. In particular k-means. You can import `k-means` form the module `sklearn.cluster`. Supose that we want to find three different clusters. Train the clustering technique and report the countries more similar to the Spanish research policy.</li>\n",
    "</ul>\n",
    "</div>"
   ]
  },
  {
   "cell_type": "code",
   "execution_count": null,
   "metadata": {},
   "outputs": [],
   "source": [
    "# Your code here\n",
    "\n",
    "#Imputation\n",
    "df_inputed= ...........\n",
    "\n",
    "#Clustering\n",
    "clf = kmeans(...........)\n",
    "\n",
    "idx = np.argsort(clf).astype(np.int)\n",
    "\n",
    "countries = np.array(df_inputed.index.tolist())\n",
    "\n",
    "plt.plot(clf[idx],'ro')\n",
    "plt.xticks(idx, countries, rotation='vertical')\n",
    "plt.gcf().set_size_inches((12,6))"
   ]
  },
  {
   "cell_type": "markdown",
   "metadata": {},
   "source": [
    "### 2.1 A toy problem"
   ]
  },
  {
   "cell_type": "markdown",
   "metadata": {},
   "source": [
    "Consider the following two dimensional problem with missing values."
   ]
  },
  {
   "cell_type": "code",
   "execution_count": null,
   "metadata": {},
   "outputs": [],
   "source": [
    "%reset -f \n",
    "import numpy as np\n",
    "\n",
    "x = np.linspace(0,3,1000)\n",
    "y = x + 0.5 + 0.5*np.random.normal(size=x.shape[0])\n",
    "\n",
    "import matplotlib.pyplot as plt\n",
    "plt.plot(x,y,'ro')"
   ]
  },
  {
   "cell_type": "markdown",
   "metadata": {},
   "source": [
    "Let us apply a simple linear regressor (`linear_model`) from `sklearn`."
   ]
  },
  {
   "cell_type": "code",
   "execution_count": null,
   "metadata": {},
   "outputs": [],
   "source": [
    "from sklearn import linear_model\n",
    "\n",
    "clf = linear_model.LinearRegression()\n",
    "clf = clf.fit(x[:,np.newaxis],y[:,np.newaxis])\n",
    "yhat=clf.predict(x[:,np.newaxis])\n",
    "\n",
    "plt.plot(x,y,'ro',alpha=0.25)\n",
    "plt.plot(x,yhat,'b-',linewidth=3)"
   ]
  },
  {
   "cell_type": "markdown",
   "metadata": {},
   "source": [
    "Let us add some missing data."
   ]
  },
  {
   "cell_type": "code",
   "execution_count": null,
   "metadata": {},
   "outputs": [],
   "source": [
    "y_missing_rand = y[:]\n",
    "y_missing_rand = np.where(np.random.rand(x.shape[0])>0.5,np.nan,y)\n",
    "print(y_missing_rand)"
   ]
  },
  {
   "cell_type": "markdown",
   "metadata": {},
   "source": [
    "<div class = \"alert alert-success\" style =\"border-radius:10px;border-width:3px\"><b>EXERCISE:</b> Inpute missing values using the mean of the data and plot the data set.\n",
    "</div>"
   ]
  },
  {
   "cell_type": "code",
   "execution_count": null,
   "metadata": {},
   "outputs": [],
   "source": [
    "#Your code here"
   ]
  },
  {
   "cell_type": "code",
   "execution_count": null,
   "metadata": {},
   "outputs": [],
   "source": [
    "from sklearn import linear_model\n",
    "\n",
    "clf = linear_model.LinearRegression()\n",
    "clf = clf.fit(x[:,np.newaxis],y_inputed[:,np.newaxis])\n",
    "yhat_missing=clf.predict(x[:,np.newaxis])\n",
    "plt.plot(x,y,'ro',alpha=0.25)\n",
    "plt.plot(x,yhat,'b-',linewidth=3)\n",
    "plt.plot(x,yhat_missing,'y-',linewidth=4)\n"
   ]
  },
  {
   "cell_type": "markdown",
   "metadata": {},
   "source": [
    "<div class = \"alert alert-info\" style =\"border-radius:10px;border-width:3px\"><b>QUESTION:</b> What can we do to correct this issue?</div>"
   ]
  },
  {
   "cell_type": "markdown",
   "metadata": {},
   "source": [
    "## 3. Some intuitions about the feature space and feature extraction."
   ]
  },
  {
   "cell_type": "markdown",
   "metadata": {},
   "source": [
    "Let us build our intuition about the feature extraction process. Cosider a classic problem of handwritten digits recognition. Let us load the data set."
   ]
  },
  {
   "cell_type": "code",
   "execution_count": null,
   "metadata": {},
   "outputs": [],
   "source": [
    "#Load data set.\n",
    "from sklearn import datasets\n",
    "digits = datasets.load_digits()"
   ]
  },
  {
   "cell_type": "markdown",
   "metadata": {},
   "source": [
    "Now, check the data just loaded."
   ]
  },
  {
   "cell_type": "code",
   "execution_count": null,
   "metadata": {},
   "outputs": [],
   "source": [
    "#Check the data format.\n",
    "X, y = digits.data, digits.target\n",
    "\n",
    "print(X.shape)\n",
    "print(y.shape)\n"
   ]
  },
  {
   "cell_type": "code",
   "execution_count": null,
   "metadata": {
    "scrolled": true
   },
   "outputs": [],
   "source": [
    "import numpy as np\n",
    "print(np.min(X),np.max(X))\n",
    "\n",
    "X = X/np.max(X)"
   ]
  },
  {
   "cell_type": "markdown",
   "metadata": {},
   "source": [
    "<div class = \"alert alert-info\" style =\"border-radius:10px;border-width:3px\"><b>QUESTION:</b> What do the values of the attributes mean in this data set?</div>"
   ]
  },
  {
   "cell_type": "code",
   "execution_count": null,
   "metadata": {},
   "outputs": [],
   "source": [
    "%matplotlib inline\n",
    "import matplotlib.pyplot as plt\n",
    "\n",
    "plt.imshow(X[4].reshape((8,8)),cmap='gray',interpolation='nearest')"
   ]
  },
  {
   "cell_type": "markdown",
   "metadata": {},
   "source": [
    "<div class = \"alert alert-info\" style = \"border-radius:10px;border-width:3px\">\n",
    "**QUESTION:** Consider the following two problems:\n",
    "\n",
    "<ul>\n",
    "<li> We are asked to develop a product for analyzing the text in a website. The goal is to TAG the site according to its content. </li>\n",
    "<li> We are asked to develop a product similar to Shazzam(tm). This is, recognize the name of a song given a small sample of the music.</li>\n",
    "<p>\n",
    "Discuss and describe a posible feature vector for this problem with your partner.\n",
    "</div>"
   ]
  },
  {
   "cell_type": "markdown",
   "metadata": {},
   "source": [
    "<div class = \"alert alert-danger\" style = \"border-radius:10px\">\n",
    "**EXERCISE/QUIZ:**\n",
    "Train a K-nearest neighbor classifier (module ``neighbors``, class ``KNeighborsClassifier``) with $K=10$ on the digits data and check the classification accuracy score on a test set. Use a train_test split of 50% of data for training and 50% for testing purposes and seed value ``random_state=42``. Report the classification accuracy.\n",
    "</div>"
   ]
  },
  {
   "cell_type": "code",
   "execution_count": null,
   "metadata": {},
   "outputs": [],
   "source": [
    "# Your code"
   ]
  },
  {
   "cell_type": "markdown",
   "metadata": {},
   "source": [
    "### 3.1 Adding expert knowledge"
   ]
  },
  {
   "cell_type": "markdown",
   "metadata": {},
   "source": [
    "<div class = \"alert alert-success\" style = \"border-radius:10px\">\n",
    "**EXERCISE:**\n",
    "Using the same settings as before try to enrich the training set. For exaple, we could use symmetry or amount of pixels. Train a K-nearest neighbor classifier (module ``neighbors``, class ``KNeighborsClassifier``) with $K=10$ on the digits data using the same settings as before using the training set enriched with new data and check the classification accuracy score.\n",
    "</div>"
   ]
  },
  {
   "cell_type": "code",
   "execution_count": null,
   "metadata": {},
   "outputs": [],
   "source": [
    "# Your code"
   ]
  },
  {
   "cell_type": "markdown",
   "metadata": {},
   "source": [
    "### 3.2 Feature extraction: Adding interaction variables\n",
    "\n",
    "Interaction variables try to make explicit the correlation of the attributes. In order to do so, we can just consider the product of pairs, triples, ... of atributes. Consider the following problem:"
   ]
  },
  {
   "cell_type": "code",
   "execution_count": null,
   "metadata": {},
   "outputs": [],
   "source": [
    "%matplotlib inline\n",
    "%reset -f\n",
    "import numpy as np\n",
    "x_test = np.linspace(0,10,50)\n",
    "x = 10*np.random.uniform(size=50)\n",
    "y_original = x*x + 10*np.sin (3*x)\n",
    "y_observed = y_original+12*np.random.normal(size=len(x))\n",
    "y_test = x*x + 10*np.sin (3*x) + 12*np.random.normal(size=len(x))\n",
    "import matplotlib.pyplot as plt\n",
    "plt.figure()\n",
    "plt.subplot(121)\n",
    "plt.scatter(x,y_original)\n",
    "plt.subplot(122)\n",
    "plt.scatter(x,y_observed)\n",
    "plt.gcf().set_size_inches((12,4))\n"
   ]
  },
  {
   "cell_type": "markdown",
   "metadata": {},
   "source": [
    "We want are forced to use a linear classifier to solve this problem. How can we model the non-linear behavior of this data set? We can, for example, add powers of the input features, i.e. $\\{x,x^2,x^3,x^4\\}$, and solve the linear regression problem. Let us show this:"
   ]
  },
  {
   "cell_type": "code",
   "execution_count": null,
   "metadata": {},
   "outputs": [],
   "source": [
    "x_extended = np.c_[x,x*x,x*x*x,x*x*x*x]\n",
    "\n",
    "from sklearn import linear_model\n",
    "\n",
    "clf = linear_model.LinearRegression()\n",
    "clf.fit(x.reshape(-1,1),y_observed)\n",
    "xp = np.linspace(0,10,100)\n",
    "yhat = clf.predict(xp.reshape(-1,1))\n",
    "\n",
    "plt.figure()\n",
    "plt.scatter(x,y_observed)\n",
    "plt.plot(np.linspace(0,10,100),yhat)\n",
    "\n",
    "\n",
    "\n",
    "clf = linear_model.LinearRegression()\n",
    "clf.fit(x_extended,y_observed)\n",
    "xp = np.linspace(0,10,100)\n",
    "xp = np.c_[xp,xp*xp,xp*xp*xp,xp*xp*xp*xp]\n",
    "yhat = clf.predict(xp)\n",
    "\n",
    "plt.figure()\n",
    "plt.scatter(x,y_observed)\n",
    "plt.plot(np.linspace(0,10,100),yhat)\n",
    "\n"
   ]
  },
  {
   "cell_type": "markdown",
   "metadata": {},
   "source": [
    "# 4. Another example."
   ]
  },
  {
   "cell_type": "markdown",
   "metadata": {},
   "source": [
    "Modeling churn means to understand what keeps the customer engaged to our product. Its analysis goal is to predict or describe the **churn rate** i.e. the rate at which customer leave or cease the subscription to a service. Its value lies in the fact that engaging new customers is often more costly than retaining existing ones. For that reason subscription business-based companies usually have proactive policies towards customer retention.\n",
    "\n",
    "In this case study, we aim at building a machine learning based model for customer churn prediction on data from a Telecom company. Each row on the dataset represents a subscribing telephone customer. Each column contains customer attributes such as phone number, call minutes used during different times of day, charges incurred for services, lifetime account duration, and whether or not the customer is still a customer.\n",
    "\n",
    "This case is partially inspired in Eric Chiang's analysis of churn rate. Data is available from the University of California Irvine machine learning repositories data set."
   ]
  },
  {
   "cell_type": "markdown",
   "metadata": {
    "collapsed": true
   },
   "source": [
    "The complete set of attributes is the following:\n",
    "\n",
    "+ State: categorical, for the 50 states and the District of Columbia\n",
    "+ Account length: integer-valued, how long an account has been active \n",
    "+ Area code: categorical\n",
    "+ Phone number: customer ID\n",
    "+ International Plan: binary feature, yes or no\n",
    "+ VoiceMail Plan: binary feature, yes or no\n",
    "+ Number of voice mail messages: integer-valued\n",
    "+ Total day minutes: continuous, minutes customer used service during the day\n",
    "+ Total day calls: integer-valued\n",
    "+ Total day charge: continuous\n",
    "+ Total evening minutes: continuous, minutes customer used service during the evening\n",
    "+ Total evening calls: integer-valued\n",
    "+ Total evening charge: continuous\n",
    "+ Total night minutes: continuous, minutes customer used service during the night\n",
    "+ Total night calls: integer-valued\n",
    "+ Total night charge: continuous\n",
    "+ Total international minutes: continuous, minutes customer used service to make international calls\n",
    "+ Total international calls: integer-valued\n",
    "+ Total international charge: continuous\n",
    "+ Number of calls to customer service: integer-valued"
   ]
  },
  {
   "cell_type": "code",
   "execution_count": null,
   "metadata": {},
   "outputs": [],
   "source": [
    "from __future__ import division\n",
    "import pandas as pd\n",
    "import numpy as np\n",
    "\n",
    "churn_df = pd.read_csv('./files/churn.csv')\n",
    "col_names = churn_df.columns.tolist()\n",
    "\n",
    "print (\"Column names:\")\n",
    "print (col_names)\n",
    "\n",
    "to_show = col_names[:6] + col_names[-6:]\n",
    "\n",
    "print (\"\\nSample data:\")\n",
    "churn_df[to_show].head(6)"
   ]
  },
  {
   "cell_type": "markdown",
   "metadata": {},
   "source": [
    "<div class=\"alert alert-info\" style = \"border-radius:10px\">\n",
    "**QUESTION:** What shoulg we do with this dataset?\n",
    "</div>"
   ]
  },
  {
   "cell_type": "markdown",
   "metadata": {},
   "source": [
    "Getting some baseline value by removing all **weird** variables."
   ]
  },
  {
   "cell_type": "code",
   "execution_count": null,
   "metadata": {},
   "outputs": [],
   "source": [
    "data=churn_df.values"
   ]
  },
  {
   "cell_type": "code",
   "execution_count": null,
   "metadata": {},
   "outputs": [],
   "source": [
    "print (col_names)\n",
    "\n",
    "to_drop = np.array(['State','Phone',\"Int'l Plan\",\"VMail Plan\",'Churn?'])\n",
    "\n",
    "idx_to_drop = np.array([np.where(np.array(col_names) == tmp)[0] for tmp in to_drop])\n",
    "\n",
    "fancy_index =  np.setdiff1d(np.arange(20),idx_to_drop)\n",
    "\n",
    "data_removed = data[:,fancy_index]\n",
    "\n",
    "print (data_removed)"
   ]
  },
  {
   "cell_type": "code",
   "execution_count": null,
   "metadata": {},
   "outputs": [],
   "source": [
    "# Isolate target data\n",
    "churn_result = churn_df['Churn?']\n",
    "y = np.where(churn_result == 'True.',1,0)\n",
    "\n",
    "# We don't need these columns\n",
    "to_drop = ['State','Phone',\"Int'l Plan\",\"VMail Plan\",'Churn?']\n",
    "churn_feat_space = churn_df.drop(to_drop,axis=1)\n",
    "\n",
    "# Pull out features for future use\n",
    "features = churn_feat_space.columns\n",
    "\n",
    "X_removed = churn_feat_space.as_matrix().astype(np.float)\n",
    "\n",
    "print (\"Feature space holds %d observations and %d features\" % X_removed.shape)\n",
    "print (\"Unique target labels:\", np.unique(y))"
   ]
  },
  {
   "cell_type": "code",
   "execution_count": null,
   "metadata": {},
   "outputs": [],
   "source": [
    "X_removed"
   ]
  },
  {
   "cell_type": "code",
   "execution_count": null,
   "metadata": {},
   "outputs": [],
   "source": [
    "#Train a classifier using .fit()\n",
    "from sklearn import neighbors\n",
    "from sklearn import model_selection\n",
    "knn = neighbors.KNeighborsClassifier(n_neighbors=1)\n",
    "\n",
    "X_train,X_test,y_train,y_test = model_selection.train_test_split(X_removed,y,train_size=0.5,random_state=42)\n",
    "\n",
    "knn.fit(X_train,y_train) \n",
    "print(knn.score(X_train,y_train))\n",
    "print(knn.score(X_test,y_test))"
   ]
  },
  {
   "cell_type": "code",
   "execution_count": null,
   "metadata": {},
   "outputs": [],
   "source": [
    "from sklearn.preprocessing import StandardScaler\n",
    "\n",
    "\n",
    "#Train a classifier using .fit()\n",
    "from sklearn import neighbors\n",
    "from sklearn import model_selection\n",
    "knn = neighbors.KNeighborsClassifier(n_neighbors=1)\n",
    "scaler = StandardScaler()\n",
    "\n",
    "X_train,X_test,y_train,y_test = model_selection.train_test_split(X_removed,y,train_size=0.5,random_state=42)\n",
    "\n",
    "X_scaled = scaler.fit_transform(X_train)\n",
    "knn.fit(X_scaled,y_train) \n",
    "X_test_scaled = scaler.transform(X_test)\n",
    "\n",
    "print (knn.score(X_scaled,y_train))\n",
    "print (knn.score(X_test_scaled,y_test))"
   ]
  },
  {
   "cell_type": "markdown",
   "metadata": {},
   "source": [
    "### 4.1 Dealing with categorical data\n",
    "\n"
   ]
  },
  {
   "cell_type": "markdown",
   "metadata": {},
   "source": [
    "### One-hot encoding aka Dummy variables\n",
    "\n",
    "Dummy variables recode one feature into $K-1$ new features, where $K$ is the amount of values the original feature has. So for exemple, feature ``color`` has three values {red,blue,green}. We can replace this by $K-1 = 2$ new features, i.e. ``is_green?`` and ``is_blue?``. These new features have now two values, either $1$ if the question is true, or $0$ otherwise.\n"
   ]
  },
  {
   "cell_type": "code",
   "execution_count": null,
   "metadata": {},
   "outputs": [],
   "source": [
    "import pandas as pd \n",
    "\n",
    "print ('There are ' +str(np.unique(churn_df[\"Int'l Plan\"]).shape[0]) +' unique values for this feature.')\n",
    "dummies = pd.get_dummies(churn_df[\"Int'l Plan\"])\n",
    "dummies_py = [1. if x=='yes' else  0. for x in churn_df[\"Int'l Plan\"]]\n",
    "dummies_numpy = np.where(churn_df[\"Int'l Plan\"]=='yes',1.,0.)\n",
    "\n",
    "print(len(dummies_py))\n",
    "print(dummies_numpy.shape)"
   ]
  },
  {
   "cell_type": "markdown",
   "metadata": {},
   "source": [
    "Oh! well pandas literally takes the word 'dummy' !!"
   ]
  },
  {
   "cell_type": "markdown",
   "metadata": {},
   "source": [
    "We can add this feature back"
   ]
  },
  {
   "cell_type": "code",
   "execution_count": null,
   "metadata": {},
   "outputs": [],
   "source": [
    "churn_df['IntYes'] = dummies_numpy"
   ]
  },
  {
   "cell_type": "code",
   "execution_count": null,
   "metadata": {},
   "outputs": [],
   "source": [
    "churn_df.head()"
   ]
  },
  {
   "cell_type": "markdown",
   "metadata": {},
   "source": [
    "and drop the international plan."
   ]
  },
  {
   "cell_type": "code",
   "execution_count": null,
   "metadata": {},
   "outputs": [],
   "source": [
    "churn_df.drop([\"Int'l Plan\"],axis=1)"
   ]
  },
  {
   "cell_type": "markdown",
   "metadata": {},
   "source": [
    "<div class =  \"alert alert-success\" style= \"border-radius:10px\"> **EXERCISE**\n",
    "Replace adequate variables with the corresponding dummies. This is `state`, `Int'l Plan`, and `VMail Plan`. Replace also `Churn?` if you have not alredy done that.\n",
    "</div>"
   ]
  },
  {
   "cell_type": "code",
   "execution_count": null,
   "metadata": {},
   "outputs": [],
   "source": [
    "#Your code"
   ]
  },
  {
   "cell_type": "code",
   "execution_count": null,
   "metadata": {},
   "outputs": [],
   "source": [
    "#Train a classifier using .fit()\n",
    "from sklearn import neighbors\n",
    "from sklearn import model_selection\n",
    "knn = neighbors.KNeighborsClassifier(n_neighbors=1)\n",
    "\n",
    "X_train,X_test,y_train,y_test = model_selection.train_test_split(X_dummies,y,train_size=0.5,random_state=42)\n",
    "\n",
    "knn.fit(X_train,y_train) \n",
    "print (knn.score(X_train,y_train))\n",
    "print (knn.score(X_test,y_test))"
   ]
  },
  {
   "cell_type": "code",
   "execution_count": null,
   "metadata": {},
   "outputs": [],
   "source": [
    "from sklearn.preprocessing import StandardScaler\n",
    "\n",
    "\n",
    "#Train a classifier using .fit()\n",
    "from sklearn import neighbors\n",
    "from sklearn import model_selection\n",
    "knn = neighbors.KNeighborsClassifier(n_neighbors=1)\n",
    "scaler = StandardScaler()\n",
    "\n",
    "X_train,X_test,y_train,y_test = model_selection.train_test_split(X_dummies,y,train_size=0.5,random_state=42)\n",
    "\n",
    "X_scaled = scaler.fit_transform(X_train)\n",
    "knn.fit(X_scaled,y_train) \n",
    "X_test_scaled = scaler.transform(X_test)\n",
    "\n",
    "print (knn.score(X_scaled,y_train))\n",
    "print (knn.score(X_test_scaled,y_test))"
   ]
  },
  {
   "cell_type": "code",
   "execution_count": null,
   "metadata": {},
   "outputs": [],
   "source": [
    "print (X_test_scaled[3])"
   ]
  },
  {
   "cell_type": "markdown",
   "metadata": {},
   "source": [
    "### 4.2 Numerical data preprocessing - normalization techniques"
   ]
  },
  {
   "cell_type": "markdown",
   "metadata": {},
   "source": [
    "We have seen that numerical data in different ranges hinder the distance computation. Standarization solves this problem. Let us recap what standarization is about.\n",
    "\n",
    "Standarization corresponds to apply the following transformation to each coordinate:\n",
    "\n",
    "$$ \\tilde{x} = \\frac{x-\\mu_x}{\\sigma_x}$$"
   ]
  },
  {
   "cell_type": "markdown",
   "metadata": {},
   "source": [
    "Let us code it."
   ]
  },
  {
   "cell_type": "code",
   "execution_count": null,
   "metadata": {},
   "outputs": [],
   "source": [
    "\n",
    "def myStandardScaler(X, mux=None, stx=None):\n",
    "    if mux is None:\n",
    "        mux = np.mean(X,axis = 0)\n",
    "    if stx is None:\n",
    "        stx = np.std(X,axis = 0)\n",
    "    return (X - np.tile(mux,(X.shape[0],1)))/np.tile(stx,(X.shape[0],1)), mux, stx\n",
    "\n"
   ]
  },
  {
   "cell_type": "markdown",
   "metadata": {},
   "source": [
    "Apply it now to the problem at hand considering the proper rules for training testing."
   ]
  },
  {
   "cell_type": "code",
   "execution_count": null,
   "metadata": {},
   "outputs": [],
   "source": [
    "from sklearn import neighbors\n",
    "from sklearn import model_selection\n",
    "\n",
    "knn = neighbors.KNeighborsClassifier(n_neighbors=1)\n",
    "\n",
    "X_train,X_test,y_train,y_test = model_selection.train_test_split(X_dummies,y,train_size=0.5,random_state=42)\n",
    "\n",
    "X_scaled,mux,stx = myStandardScaler(X_train)\n",
    "knn.fit(X_scaled,y_train) \n",
    "X_test_scaled = myStandardScaler(X_test,mux=mux,stx = stx)[0]\n",
    "\n",
    "print (knn.score(X_scaled,y_train))\n",
    "print (knn.score(X_test_scaled,y_test))"
   ]
  },
  {
   "cell_type": "markdown",
   "metadata": {},
   "source": [
    "Another way of comparing variables in different scale ranges is the following normalization:\n",
    "    \n",
    "$$\\tilde{x} = \\frac{x-\\min(x)}{\\max(x)-\\min(x)}$$\n",
    "\n",
    "Let us try this:"
   ]
  },
  {
   "cell_type": "code",
   "execution_count": null,
   "metadata": {},
   "outputs": [],
   "source": [
    "def myMinMaxScaler(X, mi=None, mx=None):\n",
    "    if mi is None:\n",
    "        mi = np.min(X,axis = 0)\n",
    "    if mx is None:\n",
    "        mx = np.max(X,axis = 0)\n",
    "\n",
    "    return (X - np.tile(mi,(X.shape[0],1)))/np.tile(mx-mi,(X.shape[0],1)), mi, mx\n",
    "\n"
   ]
  },
  {
   "cell_type": "code",
   "execution_count": null,
   "metadata": {},
   "outputs": [],
   "source": [
    "from sklearn import neighbors\n",
    "from sklearn import model_selection\n",
    "\n",
    "knn = neighbors.KNeighborsClassifier(n_neighbors=1)\n",
    "\n",
    "X_train,X_test,y_train,y_test = model_selection.train_test_split(X_dummies,y,train_size=0.5,random_state=42)\n",
    "\n",
    "X_scaled,mi,mx = myMinMaxScaler(X_train)\n",
    "knn.fit(X_scaled,y_train) \n",
    "X_test_scaled = myMinMaxScaler(X_test,mi=mi ,mx = mx)[0]\n",
    "\n",
    "print (knn.score(X_scaled,y_train))\n",
    "print (knn.score(X_test_scaled,y_test))"
   ]
  },
  {
   "cell_type": "markdown",
   "metadata": {},
   "source": [
    "Observe though that all normalization techniques are heavily influenced by **outliers**. It is a good practice to detect outliers and potentially remove them."
   ]
  },
  {
   "cell_type": "markdown",
   "metadata": {},
   "source": [
    "### 4.3 Outliers"
   ]
  },
  {
   "cell_type": "markdown",
   "metadata": {},
   "source": [
    "In order to really apply this technique we have to remove **outliers**. These are values that are far away from the rest. Outliers can be due to the inner dynamics of the measurement process (for example if it belongs to a heavy-tail distribution) or can be just an error. Let me just start saying that the notion of outliers is highly subjective. In words of Hawkins, 1980:\n",
    "\n",
    ">\"An outlier is an observation which deviates so much from the other\n",
    "observations as to arouse suspicions that it was generated by a different\n",
    "mechanism”\n",
    "\n",
    "\n",
    "When we look for outliers we could consider different approaches:\n",
    "\n",
    "+ Statistical description approaches: Consider that data is generated by some distribution. Infer the parameters of the distribution and score points accordingly. Outliers are those points with very small probability of belonging to the model.\n",
    "+ Geometric considerations: Outliers are those points located at the external boundary of the data set. This can be modelled using the notion of *convex hulls*.\n",
    "+ Distance based approaches: We can use the distance to the neighbors (we can use k-NN) to check if a point is an outlier. \n"
   ]
  },
  {
   "cell_type": "markdown",
   "metadata": {},
   "source": [
    "The most simple approach to outlier removal and normalization is to consider a percentile, $prc$, of the data as outliers and normalize according to those values. \n",
    "\n",
    "$$\\tilde{x}=\\frac{x-prc(x,\\theta)}{prc(x,100-\\theta)-prc(x,\\theta)}$$\n",
    "\n",
    "where $\\theta$ is the percentile we consider as outliers."
   ]
  },
  {
   "cell_type": "code",
   "execution_count": null,
   "metadata": {},
   "outputs": [],
   "source": [
    "def myPrcScaler(X, mi=None, mx=None, theta=1.):\n",
    "    if mi is None:\n",
    "        mi = np.percentile(X,theta,axis=0)\n",
    "    if mx is None:\n",
    "        mx = np.percentile(X,100-theta,axis=0)\n",
    "\n",
    "    return (X - np.tile(mi,(X.shape[0],1)))/(np.tile(mx-mi,(X.shape[0],1))+1e-16), mi, mx"
   ]
  },
  {
   "cell_type": "code",
   "execution_count": null,
   "metadata": {},
   "outputs": [],
   "source": [
    "from sklearn import neighbors\n",
    "from sklearn import model_selection\n",
    "\n",
    "knn = neighbors.KNeighborsClassifier(n_neighbors=1)\n",
    "\n",
    "X_train,X_test,y_train,y_test = model_selection.train_test_split(X_dummies,y,train_size=0.5,random_state=42)\n",
    "\n",
    "X_scaled,mi,mx = myPrcScaler(X_train, theta=2.)\n",
    "knn.fit(X_scaled,y_train) \n",
    "X_test_scaled = myPrcScaler(X_test,mi=mi ,mx = mx)[0]\n",
    "\n",
    "print (knn.score(X_scaled,y_train))\n",
    "print (knn.score(X_test_scaled,y_test))"
   ]
  },
  {
   "cell_type": "markdown",
   "metadata": {},
   "source": [
    "### 4.4 Feature Hashing\n",
    "\n",
    "Feature Hashing is like the encoding we saw before. However we use a hashing function that given the input category returns the value of the index where the one is located. This trick allows to "
   ]
  },
  {
   "cell_type": "markdown",
   "metadata": {},
   "source": [
    "Let's suppose we are interested in searching for a value $a$ in a long list. \n",
    "\n",
    "+ If it is an ordered list, there are really fast algorithms ($O(\\mbox{log }n)$) to implement the search.\n",
    "+ If it is not an ordered list, looking for a value needs the full reading of the list ($O(n)$).\n",
    "\n",
    "Is it possible to do it better?"
   ]
  },
  {
   "cell_type": "markdown",
   "metadata": {},
   "source": [
    "Let's suppose we have a list $L$ with an associated *magic function* that answer this kind of questions: \n",
    "\n",
    "> If $a$ would be stored in the list, in which position would be located?\n",
    "\n",
    "The function will always return an index $i$. Then, if $a$ is present in $L[i]$, we have solved the problem. If not, we conclude that $a$ was not in the list.\n",
    "\n",
    "**This kind of functions exists and they are called $hash$ functions.**"
   ]
  },
  {
   "cell_type": "markdown",
   "metadata": {},
   "source": [
    "If we want to store a set of elements $\\{ a_i \\}$ in a list with this magic function, this function must have the following properties:\n",
    "\n",
    "+ It must be **random**: it randomly distributes data among all possible indexes.\n",
    "+ It must be **consistent**: the assignation rule must be constant and well defined."
   ]
  },
  {
   "cell_type": "markdown",
   "metadata": {},
   "source": [
    "When designing a hash function for a problem, we must take into account the data distribution.\n",
    "\n",
    "If incoming data is represented by integer values with uniform distribution, we can use a random assignment rule, where the input parameter is data and the output parameter an index) and that's all!\n",
    "\n",
    "+ If our data is $ a \\in [0,N-1]$, and we have a list $L$ with N positions, the hash value can be $a$. If the list has n < N positions, the hash value can be $a \\% n$.\n",
    "\n",
    "If data is not uniformly distributed, we must design a function that generates uniformly distributed indexes from data values.\n",
    "\n",
    "*Note*: When two different samples are assigned to the same position we have a **collision**. We can deal with this problem in easy ways."
   ]
  },
  {
   "cell_type": "markdown",
   "metadata": {},
   "source": [
    "### Hash functions.\n",
    "\n",
    "When the data values are long (or variable-length) character strings—such as personal names, web page addresses, or mail messages—their distribution is usually very uneven, with complicated dependencies. \n",
    "\n",
    "For such data, it is prudent to use a hash function that depends on all characters of the string—and depends on each character in a different way.\n",
    "\n",
    "In general, the scheme for hashing such data is to break the input into a sequence of small units (bits, bytes, words, etc.) and combine all the units $b[1], b[2], ..., b[m]$ sequentially."
   ]
  },
  {
   "cell_type": "code",
   "execution_count": null,
   "metadata": {},
   "outputs": [],
   "source": [
    "def StringHash(a, m=257, C=1024):\n",
    "    \n",
    "# m represents the estimated cardinality of the items set\n",
    "# C represents a number that is larger that ord(c)\n",
    "    hash=0\n",
    "    for i in range(len(a)):\n",
    "        hash = (hash * C + ord(a[i])) % m\n",
    "    return hash\n",
    "\n",
    "print (StringHash('hola'), StringHash('adios'))"
   ]
  },
  {
   "cell_type": "markdown",
   "metadata": {},
   "source": [
    "There are more complex hashing techniques such as MurMur, SHA, etc.\n",
    "\n",
    "The hashing trick in the end avoids the fact of having to build the complete set of features since given the raw input returns the column index where the one is located. The hashing trick can work as the former technique or we may parse/process more complex data similar to bag of words.\n",
    "\n"
   ]
  },
  {
   "cell_type": "markdown",
   "metadata": {},
   "source": [
    "Let us check the intuition of what goes on when one applies the Hashing Trick. "
   ]
  },
  {
   "cell_type": "code",
   "execution_count": null,
   "metadata": {},
   "outputs": [],
   "source": [
    "dat = np.random.normal(size=300)\n",
    "plt.figure()\n",
    "plt.subplot(121)\n",
    "plt.hist(dat)\n",
    "plt.subplot(122)\n",
    "ndat=[StringHash(str(item)) for item in dat]\n",
    "plt.hist(ndat)\n",
    "plt.gcf().set_size_inches((12,4))"
   ]
  },
  {
   "cell_type": "markdown",
   "metadata": {},
   "source": [
    "Now lets check some value distances in both the original domain and the hashed domain."
   ]
  },
  {
   "cell_type": "code",
   "execution_count": null,
   "metadata": {},
   "outputs": [],
   "source": [
    "a = 1.0000000\n",
    "b = 1.0000001\n",
    "c = 109000.00\n",
    "\n",
    "print ('Value of \"a\" : '+ str(a))\n",
    "print ('Value of \"b\" : '+ str(b))\n",
    "print ('Value of \"c\" : '+ str(c))\n",
    "print ('Distance between a and b in the original space: ' + str(np.sqrt((b-a)*(b-a))))\n",
    "print ('Distance between a and c in the original space: ' + str(np.sqrt((c-a)*(c-a))))\n",
    "\n",
    "ha = StringHash(str(a))\n",
    "hb = StringHash(str(b))\n",
    "hc = StringHash(str(c))\n",
    "\n",
    "print ('Distance between a and b in the hashed space: ' + str(np.sqrt((hb-ha)*(hb-ha))))\n",
    "print ('Distance between a and c in the hashed space: ' + str(np.sqrt((hc-ha)*(hc-ha))))\n",
    "\n"
   ]
  },
  {
   "cell_type": "markdown",
   "metadata": {},
   "source": [
    "#### Hashing trick intuitive idea"
   ]
  },
  {
   "cell_type": "markdown",
   "metadata": {},
   "source": [
    "A text example: \n",
    "We can use a similar idea to the bag of words, i.e. to count the number of times each word appears in a text. In the bag of words scenario we have to define the set of words composing the dictionary beforehand. This implies checking all available words or define a very large feature space. By using the `hashing trick` we can define the dimensionality of the embedding beforehand without actually define the dictionary. This will come at the price of finding collisions.\n",
    "\n",
    "Consider that we want to embed the following text using the hashing function $h$ with 6 bins (The representation vector is of dimension 6):\n",
    "\n",
    "`My friend lives nearby.`\n",
    "\n",
    "A sensible way of doing so is defining a partition of this text. The obvious partition is word-based. Thus we are going to compute the hashing function of each of the words composing the sentence. This is h(My), h(friend), h('lives'), h('nearby.').\n",
    "\n",
    "Let us do so!"
   ]
  },
  {
   "cell_type": "code",
   "execution_count": null,
   "metadata": {},
   "outputs": [],
   "source": [
    "sentence = 'My friend lives nearby.'\n",
    "\n",
    "bins = [StringHash(item,m=6, C=8) for item in sentence.split(' ')]\n",
    "print ('Hash values: ' + str(bins))\n",
    "\n",
    "representation = np.zeros((6,1))\n",
    "for idx in bins:\n",
    "    representation[idx]+=1\n",
    "    \n",
    "print ('Representation vector: \\n' + str(representation))"
   ]
  },
  {
   "cell_type": "markdown",
   "metadata": {},
   "source": [
    "**ADVANTAGES**\n",
    "+ The vectors will usually be very sparse. We can store them efficiently.\n",
    "+ We can increase the complexity of the hashing function to prevent collisions. For example, using **bloom filters**. Or we could use another hashing function with two values +,- that encodes if we have to add 1 to that position or substract 1.\n",
    "+ We don't need to prepare dictionaries or structures. This makes this approach real time and online friendly.\n",
    "+ Distribution of the hashed data tends to the uniform distribution.\n",
    "\n",
    "**DISADVANTAGES**\n",
    "+ Metric notion in the original space disappears in the hashed space. There are metric sensitive hashing techniques such as **Locality Sensitive Hashing**.\n",
    "+ One has to set in advance the dimensionality of the embedding space.\n",
    "\n"
   ]
  },
  {
   "cell_type": "markdown",
   "metadata": {},
   "source": [
    "<div class = \"alert alert-success\" style = \"border-radius:10px\">\n",
    "<b>EXERCISE:</b> \n",
    "\n",
    "We want to check if the variable `State` from the `churn.csv` data set conveys discriminant information. In order to do so we will encode this variable using one-hot encoding and feature hashing and check the prediction accuracy of on the `Churn?` target.\n",
    "<p>\n",
    "\n",
    "<b>TO DO:</b>\n",
    "<ol>\n",
    "<li>Create a data set with the one-hot encoding of the `State` variable.</li>\n",
    "<li>Create a data set with the hashing encoding of the `State` variable.</li>\n",
    "<li>Use a 3-Nearest neighbor classifier and report the average accuracy in both datasets in a test set of size 30% of the full data set; use `random_state=42`.</li>\n",
    "</ol>\n",
    "\n",
    "</div>"
   ]
  },
  {
   "cell_type": "code",
   "execution_count": null,
   "metadata": {},
   "outputs": [],
   "source": [
    "#Your code"
   ]
  },
  {
   "cell_type": "markdown",
   "metadata": {},
   "source": [
    "<div class = \"alert alert-danger\" style = \"border-radius:10px\">**QUIZ:** What of the following sentences is true,\n",
    "\n",
    "<ol>\n",
    "  <li> The feature is useful for the classifier using one-hot encoding.</li>\n",
    "  <li> The feature is useful for the classifier using the hashing trick.</li>\n",
    "</div>"
   ]
  },
  {
   "cell_type": "markdown",
   "metadata": {},
   "source": [
    "## 5. Curse of dimensionality\n",
    "\n",
    "<small>Based on the discussion of Pedro Domingo's \"A Few Useful Things to Know About Machine Learning\".</small>"
   ]
  },
  {
   "cell_type": "markdown",
   "metadata": {},
   "source": [
    "So, does this means that we can add features at will? In principle yes, as long as they are informative. Let us check what happen when we add random data to our data set.\n",
    "\n",
    "\n",
    ">The expression of *Curse of dimensionality* was coined by Bellman in 1961 to refer to the fact that many algo- rithms that work fine in low dimensions become intractable when the input is high-dimensional. But in machine learning it refers that generalizing correctly becomes exponentially harder as the dimensionality (number of features) of the examples grows, because a fixed-size training set covers a dwindling fraction of the input space. -- Pedro Domingo's \"A Few Useful Things to Know About Machine Learning\""
   ]
  },
  {
   "cell_type": "markdown",
   "metadata": {},
   "source": [
    "### 5.1 Nearest neighbor in front of increasing dimensions\n",
    "\n",
    "Similarity-based reasoning that machine learning algorithms depend on (explicitly or implicitly) breaks down in high dimensions. Consider a nearest neighbor classifier with Hamming distance as the similarity measure, and suppose the class is just x1 ∧ x2. If there are no other features, this is an easy problem. But if there are 98 irrelevant features x3,...,x100, the noise from them completely swamps the signal in x1 and x2, and nearest neighbor effectively makes random predictions."
   ]
  },
  {
   "cell_type": "code",
   "execution_count": null,
   "metadata": {},
   "outputs": [],
   "source": [
    "from sklearn.datasets import load_digits\n",
    "\n",
    "data = load_digits()\n",
    "X=data.data/16.\n",
    "y=data.target"
   ]
  },
  {
   "cell_type": "code",
   "execution_count": null,
   "metadata": {},
   "outputs": [],
   "source": [
    "import numpy as np\n",
    "\n",
    "fake_dims = 1000\n",
    "X_fake = np.random.randn(X.shape[0],fake_dims)\n",
    "\n",
    "X_new = np.c_[X,X_fake]\n",
    "\n",
    "#Train a classifier using .fit()\n",
    "from sklearn import neighbors\n",
    "from sklearn import model_selection\n",
    "knn = neighbors.KNeighborsClassifier(n_neighbors=10)\n",
    "\n",
    "X_train,X_test,y_train,y_test = model_selection.train_test_split(X_new,y,train_size=0.5,random_state=42)\n",
    "\n",
    "knn.fit(X_train,y_train) \n",
    "print ('Train accuracy ' + str(knn.score(X_train,y_train)) + '// Test accuracy ' + str(knn.score(X_test,y_test)))"
   ]
  },
  {
   "cell_type": "markdown",
   "metadata": {},
   "source": [
    "### 5.2 The grid effect and the number of neighbors\n",
    "\n",
    "Even more disturbing is that nearest neighbor still has a problem even if all 100 features are relevant! This is because in high dimensions all examples look alike. Suppose, for instance, that examples are laid out on a regular grid, and consider a test example xt. If the grid is d-dimensional, xt’s 2d nearest examples are all at the same distance from it. So as the dimensionality increases, more and more examples become nearest neighbors of xt, until the choice of nearest neighbor (and therefore of class) is effectively random."
   ]
  },
  {
   "cell_type": "markdown",
   "metadata": {},
   "source": [
    "### 5.3 Our intuition on Gaussian distributions and the hyper-orange peel."
   ]
  },
  {
   "cell_type": "markdown",
   "metadata": {},
   "source": [
    "This is only one instance of a more general problem with high dimensions: our intuitions, which come from a three- dimensional world, often do not apply in high-dimensional ones. In high dimensions, most of the mass of a multivariate Gaussian distribution is not near the mean, but in an increasingly distant “shell” around it; and most of the volume of a high-dimensional orange is in the skin, not the pulp. If a constant number of examples is distributed uniformly in a high-dimensional hypercube, beyond some dimensionality most examples are closer to a face of the hypercube than to their nearest neighbor. And if we approximate a hyper-sphere by inscribing it in a hypercube, in high dimensions almost all the volume of the hypercube is outside the hyper- sphere. This is bad news for machine learning, where shapes of one type are often approximated by shapes of another.\n"
   ]
  },
  {
   "cell_type": "markdown",
   "metadata": {},
   "source": [
    "<div class = \"alert alert-success\">\n",
    "**QUESTION:** Consider a $d$ dimensional Gaussian distribution with zero mean and identity covariance matrix. Do you think that drawing a sample at random will be close to the mean with high probability?\n",
    "</div>"
   ]
  },
  {
   "cell_type": "code",
   "execution_count": null,
   "metadata": {},
   "outputs": [],
   "source": [
    "import numpy as np\n",
    "import matplotlib.pyplot as plt\n",
    "%matplotlib inline\n",
    "\n",
    "d=100\n",
    "N=1000000\n",
    "X=np.random.multivariate_normal(np.zeros(d,),np.eye(d,),N)\n",
    "d = np.linalg.norm(X,axis=1)\n",
    "plt.hist(d,bins=30)\n",
    "plt.xlabel('Distance to the mean')"
   ]
  },
  {
   "cell_type": "markdown",
   "metadata": {},
   "source": [
    "**Considerations on large dimensional spaces.** CHECK MACKAY; MURPHY"
   ]
  },
  {
   "cell_type": "markdown",
   "metadata": {},
   "source": [
    "### 5.4 Benefits of the curse of dimensionality\n",
    "\n",
    "Building a classifier in two or three dimensions is easy; we\n",
    "Test-Set Accuracy (%)\n",
    "can find a reasonable frontier between examples of different classes just by visual inspection. (It’s even been said that if people could see in high dimensions machine learning would not be necessary.) But in high dimensions it’s hard to understand what is happening. This in turn makes it difficult to design a good classifier. Naively, one might think that gathering more features never hurts, since at worst they provide no new information about the class. But in fact their benefits may be outweighed by the curse of dimensionality.\n",
    "Fortunately, there is an effect that partly counteracts the curse, which might be called the “blessing of non-uniformity.” In most applications examples are not spread uniformly throughout the instance space, but are concentrated on or near a lower-dimensional manifold. For example, k-nearest neighbor works quite well for handwritten digit recognition even though images of digits have one dimension per pixel, because the space of digit images is much smaller than the space of all possible images. Learners can implicitly take advantage of this lower effective dimension, or algorithms for explicitly reducing the dimensionality can be used."
   ]
  },
  {
   "cell_type": "code",
   "execution_count": null,
   "metadata": {},
   "outputs": [],
   "source": []
  },
  {
   "cell_type": "code",
   "execution_count": null,
   "metadata": {},
   "outputs": [],
   "source": []
  }
 ],
 "metadata": {
  "kernelspec": {
   "display_name": "Python 3 (ipykernel)",
   "language": "python",
   "name": "python3"
  },
  "language_info": {
   "codemirror_mode": {
    "name": "ipython",
    "version": 3
   },
   "file_extension": ".py",
   "mimetype": "text/x-python",
   "name": "python",
   "nbconvert_exporter": "python",
   "pygments_lexer": "ipython3",
   "version": "3.9.7"
  }
 },
 "nbformat": 4,
 "nbformat_minor": 1
}
