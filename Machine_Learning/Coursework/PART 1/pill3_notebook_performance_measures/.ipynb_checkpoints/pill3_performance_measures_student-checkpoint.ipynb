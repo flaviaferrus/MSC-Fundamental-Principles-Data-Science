{
 "cells": [
  {
   "cell_type": "markdown",
   "metadata": {},
   "source": [
    "# pill 3: About performance\n",
    "\n",
    "**Outline**\n",
    "\n",
    "+ Accuracy metrics\n",
    "    + Error and accuracy\n",
    "    + Receiver operating curve\n",
    "    + Area under the curve\n",
    "    \n",
    "+ Model selection II. Crossvalidation.\n",
    "\n",
    "+ The unbalanced problem.\n",
    "\n",
    "+ Confusion matrix and partial performance measurements.\n",
    "\n",
    "\n",
    "\n",
    "\n",
    "## 1. More about the 'Churn' problem and accuracy metrics.\n",
    "\n"
   ]
  },
  {
   "cell_type": "markdown",
   "metadata": {},
   "source": [
    "Modeling churn means to understand what keeps the customer engaged to our product. Its analysis goal is to predict or describe the **churn rate** i.e. the rate at which customer leave or cease the subscription to a service. Its value lies in the fact that engaging new customers is often more costly than retaining existing ones. For that reason subscription business-based companies usually have proactive policies towards customer retention.\n",
    "\n",
    "In this case study, we aim at building a machine learning based model for customer churn prediction on data from a Telecom company. Each row on the dataset represents a subscribing telephone customer. Each column contains customer attributes such as phone number, call minutes used during different times of day, charges incurred for services, lifetime account duration, and whether or not the customer is still a customer.\n",
    "\n",
    "This case is partially inspired in Eric Chiang's analysis of churn rate. Data is available from the University of California Irvine machine learning repositories data set."
   ]
  },
  {
   "cell_type": "markdown",
   "metadata": {
    "collapsed": true
   },
   "source": [
    "The complete set of attributes is the following:\n",
    "\n",
    "+ State: categorical, for the 50 states and the District of Columbia\n",
    "+ Account length: integer-valued, how long an account has been active \n",
    "+ Area code: categorical\n",
    "+ Phone number: customer ID\n",
    "+ International Plan: binary feature, yes or no\n",
    "+ VoiceMail Plan: binary feature, yes or no\n",
    "+ Number of voice mail messages: integer-valued\n",
    "+ Total day minutes: continuous, minutes customer used service during the day\n",
    "+ Total day calls: integer-valued\n",
    "+ Total day charge: continuous\n",
    "+ Total evening minutes: continuous, minutes customer used service during the evening\n",
    "+ Total evening calls: integer-valued\n",
    "+ Total evening charge: continuous\n",
    "+ Total night minutes: continuous, minutes customer used service during the night\n",
    "+ Total night calls: integer-valued\n",
    "+ Total night charge: continuous\n",
    "+ Total international minutes: continuous, minutes customer used service to make international calls\n",
    "+ Total international calls: integer-valued\n",
    "+ Total international charge: continuous\n",
    "+ Number of calls to customer service: integer-valued"
   ]
  },
  {
   "cell_type": "code",
   "execution_count": 1,
   "metadata": {},
   "outputs": [
    {
     "name": "stdout",
     "output_type": "stream",
     "text": [
      "Column names:\n",
      "['State', 'Account Length', 'Area Code', 'Phone', \"Int'l Plan\", 'VMail Plan', 'VMail Message', 'Day Mins', 'Day Calls', 'Day Charge', 'Eve Mins', 'Eve Calls', 'Eve Charge', 'Night Mins', 'Night Calls', 'Night Charge', 'Intl Mins', 'Intl Calls', 'Intl Charge', 'CustServ Calls', 'Churn?']\n",
      "\n",
      "Sample data:\n"
     ]
    },
    {
     "data": {
      "text/html": [
       "<div>\n",
       "<style scoped>\n",
       "    .dataframe tbody tr th:only-of-type {\n",
       "        vertical-align: middle;\n",
       "    }\n",
       "\n",
       "    .dataframe tbody tr th {\n",
       "        vertical-align: top;\n",
       "    }\n",
       "\n",
       "    .dataframe thead th {\n",
       "        text-align: right;\n",
       "    }\n",
       "</style>\n",
       "<table border=\"1\" class=\"dataframe\">\n",
       "  <thead>\n",
       "    <tr style=\"text-align: right;\">\n",
       "      <th></th>\n",
       "      <th>State</th>\n",
       "      <th>Account Length</th>\n",
       "      <th>Area Code</th>\n",
       "      <th>Phone</th>\n",
       "      <th>Int'l Plan</th>\n",
       "      <th>VMail Plan</th>\n",
       "      <th>Night Charge</th>\n",
       "      <th>Intl Mins</th>\n",
       "      <th>Intl Calls</th>\n",
       "      <th>Intl Charge</th>\n",
       "      <th>CustServ Calls</th>\n",
       "      <th>Churn?</th>\n",
       "    </tr>\n",
       "  </thead>\n",
       "  <tbody>\n",
       "    <tr>\n",
       "      <th>0</th>\n",
       "      <td>KS</td>\n",
       "      <td>128</td>\n",
       "      <td>415</td>\n",
       "      <td>382-4657</td>\n",
       "      <td>no</td>\n",
       "      <td>yes</td>\n",
       "      <td>11.01</td>\n",
       "      <td>10.0</td>\n",
       "      <td>3</td>\n",
       "      <td>2.70</td>\n",
       "      <td>1</td>\n",
       "      <td>False.</td>\n",
       "    </tr>\n",
       "    <tr>\n",
       "      <th>1</th>\n",
       "      <td>OH</td>\n",
       "      <td>107</td>\n",
       "      <td>415</td>\n",
       "      <td>371-7191</td>\n",
       "      <td>no</td>\n",
       "      <td>yes</td>\n",
       "      <td>11.45</td>\n",
       "      <td>13.7</td>\n",
       "      <td>3</td>\n",
       "      <td>3.70</td>\n",
       "      <td>1</td>\n",
       "      <td>False.</td>\n",
       "    </tr>\n",
       "    <tr>\n",
       "      <th>2</th>\n",
       "      <td>NJ</td>\n",
       "      <td>137</td>\n",
       "      <td>415</td>\n",
       "      <td>358-1921</td>\n",
       "      <td>no</td>\n",
       "      <td>no</td>\n",
       "      <td>7.32</td>\n",
       "      <td>12.2</td>\n",
       "      <td>5</td>\n",
       "      <td>3.29</td>\n",
       "      <td>0</td>\n",
       "      <td>False.</td>\n",
       "    </tr>\n",
       "    <tr>\n",
       "      <th>3</th>\n",
       "      <td>OH</td>\n",
       "      <td>84</td>\n",
       "      <td>408</td>\n",
       "      <td>375-9999</td>\n",
       "      <td>yes</td>\n",
       "      <td>no</td>\n",
       "      <td>8.86</td>\n",
       "      <td>6.6</td>\n",
       "      <td>7</td>\n",
       "      <td>1.78</td>\n",
       "      <td>2</td>\n",
       "      <td>False.</td>\n",
       "    </tr>\n",
       "    <tr>\n",
       "      <th>4</th>\n",
       "      <td>OK</td>\n",
       "      <td>75</td>\n",
       "      <td>415</td>\n",
       "      <td>330-6626</td>\n",
       "      <td>yes</td>\n",
       "      <td>no</td>\n",
       "      <td>8.41</td>\n",
       "      <td>10.1</td>\n",
       "      <td>3</td>\n",
       "      <td>2.73</td>\n",
       "      <td>3</td>\n",
       "      <td>False.</td>\n",
       "    </tr>\n",
       "    <tr>\n",
       "      <th>5</th>\n",
       "      <td>AL</td>\n",
       "      <td>118</td>\n",
       "      <td>510</td>\n",
       "      <td>391-8027</td>\n",
       "      <td>yes</td>\n",
       "      <td>no</td>\n",
       "      <td>9.18</td>\n",
       "      <td>6.3</td>\n",
       "      <td>6</td>\n",
       "      <td>1.70</td>\n",
       "      <td>0</td>\n",
       "      <td>False.</td>\n",
       "    </tr>\n",
       "  </tbody>\n",
       "</table>\n",
       "</div>"
      ],
      "text/plain": [
       "  State  Account Length  Area Code     Phone Int'l Plan VMail Plan  \\\n",
       "0    KS             128        415  382-4657         no        yes   \n",
       "1    OH             107        415  371-7191         no        yes   \n",
       "2    NJ             137        415  358-1921         no         no   \n",
       "3    OH              84        408  375-9999        yes         no   \n",
       "4    OK              75        415  330-6626        yes         no   \n",
       "5    AL             118        510  391-8027        yes         no   \n",
       "\n",
       "   Night Charge  Intl Mins  Intl Calls  Intl Charge  CustServ Calls  Churn?  \n",
       "0         11.01       10.0           3         2.70               1  False.  \n",
       "1         11.45       13.7           3         3.70               1  False.  \n",
       "2          7.32       12.2           5         3.29               0  False.  \n",
       "3          8.86        6.6           7         1.78               2  False.  \n",
       "4          8.41       10.1           3         2.73               3  False.  \n",
       "5          9.18        6.3           6         1.70               0  False.  "
      ]
     },
     "execution_count": 1,
     "metadata": {},
     "output_type": "execute_result"
    }
   ],
   "source": [
    "from __future__ import division\n",
    "import pandas as pd\n",
    "import numpy as np\n",
    "\n",
    "churn_df = pd.read_csv('./files/churn.csv')\n",
    "col_names = churn_df.columns.tolist()\n",
    "\n",
    "print (\"Column names:\")\n",
    "print (col_names)\n",
    "\n",
    "to_show = col_names[:6] + col_names[-6:]\n",
    "\n",
    "print (\"\\nSample data:\")\n",
    "churn_df[to_show].head(6)"
   ]
  },
  {
   "cell_type": "code",
   "execution_count": 2,
   "metadata": {},
   "outputs": [
    {
     "name": "stdout",
     "output_type": "stream",
     "text": [
      "Feature space holds 3333 observations and 18 features\n",
      "Unique target labels: [0 1]\n"
     ]
    }
   ],
   "source": [
    "# Isolate target data\n",
    "churn_result = churn_df['Churn?']\n",
    "y = np.where(churn_result == 'True.',1,0)\n",
    "\n",
    "# We don't need these columns\n",
    "to_drop = ['State','Phone','Churn?']\n",
    "churn_feat_space = churn_df.drop(to_drop,axis=1)\n",
    "\n",
    "# 'yes'/'no' has to be converted to boolean values\n",
    "# NumPy converts these from boolean to 1. and 0. later\n",
    "yes_no_cols = [\"Int'l Plan\",\"VMail Plan\"]\n",
    "churn_feat_space[yes_no_cols] = churn_feat_space[yes_no_cols] == 'yes'\n",
    "\n",
    "# Pull out features for future use\n",
    "features = churn_feat_space.columns\n",
    "\n",
    "X = churn_feat_space.values.astype(np.float)\n",
    "\n",
    "print (\"Feature space holds %d observations and %d features\" % X.shape)\n",
    "print (\"Unique target labels:\", np.unique(y))"
   ]
  },
  {
   "cell_type": "markdown",
   "metadata": {},
   "source": [
    "### 1.1 More about model selection: Cross-validation\n",
    "\n",
    "We saw in former pills that a nice way of assessing performance or comparing models is simulating the exploitation stage. Remember that this was done splitting the data set in training, validation and test sets. Because this splitting process has a randomness involved the resulting performance metric is also a random varible and the instantaneous value of the variable is heavily affected by the split. It can be the case that the split is very favorable and we get awesome performance metric values, or the other way around. We suggested the posibility of doing this same proces many times to get a good picture of the real behavior of the classifier. This is a perfectly correct way for assessing the performance. However one could argue that some points can be never chosen for testing, or that some points can be shared accross the different training splits. These could bias the result.\n",
    "\n",
    "Another well founded approach in order to circumvent the former problem is what we call **cross-validation**. The idea behind this process is that each point will be used for testing purposes. The most well known cross-validation techniques are:\n",
    "\n",
    "+ **Leave one out (LOO)**: Leave one out is as follows,\n",
    "    + Take one sample of the data set $x_i$.\n",
    "    + Train the classfier with all the data set except for the data selected $X_{train} = \\{X\\}\\setminus x_i$.\n",
    "    + Test the classifier on $x_i$ and store the result.\n",
    "    + Repeat the process for all samples of the data set.\n",
    "    + At the end of the process you should have an array with all the results ready for the computation of a performance metric.\n",
    "    \n",
    "Leave-one-out is computationally intensive, because it requires training a classifier as many times as examples in the data set we have. In order to alleviate this computational burden we can define the following process \n",
    "\n",
    "+ **K-fold cross-validation**: \n",
    "\n",
    "    + Split the data set in K disjoint subsets with the same cardinality, i.e. $\\{X\\} = S_1 \\cup S_2 \\dots \\cup S_k$ where $S_i \\subset \\{X\\}$, $S_i \\cap S_j = \\emptyset,  i\\neq j$, and $|S_i|\\approx |S_j|,  \\forall i, j$.\n",
    "    + Select one of the subsets $S_i$. This will be used as test set.\n",
    "    + Train the classfier in all except that subset, i.e. $X_{train} = \\{X\\} \\setminus S_i$.\n",
    "    + Test the trained classifier with $S_i$ and store the individual results for each sample in the subset (we can also consider the partial performance statistics in the subset for other hint on performance)\n",
    "    + Repeat for each subset\n",
    "    + At the end of the process you should have an array with all individual results ready for the computation of a performance metric. \n",
    "    \n",
    "This second approach is subject to some variability in the splitting process. Thus the resulting performance metric is again a random variable. One can repeat this process several times to estimate statistics such as the mean and variance of the classifier. Sometimes you will see partial performance statistics of each fold aggregated as simple way for approximating the process statistics.\n",
    "\n",
    "Leave one out can be seen as a particular instance of K-fold cross validation with K equal to the cardinality of the data set."
   ]
  },
  {
   "cell_type": "markdown",
   "metadata": {},
   "source": [
    "Let us practice this with the churn problem."
   ]
  },
  {
   "cell_type": "code",
   "execution_count": 3,
   "metadata": {},
   "outputs": [],
   "source": [
    "from sklearn import model_selection\n",
    "from sklearn.ensemble import RandomForestClassifier\n",
    "from sklearn.preprocessing import StandardScaler\n",
    "\n",
    "cv = model_selection.KFold(n_splits = 3 ,shuffle=True ,random_state=42)\n",
    "cv.get_n_splits(X)\n",
    "\n",
    "yhat = np.zeros((X.shape[0],1))\n",
    "for train_idx, test_idx in cv.split(X):\n",
    "    X_train,y_train = X[train_idx,:],y[train_idx]\n",
    "    X_test,y_test = X[test_idx,:],y[test_idx]\n",
    "    \n",
    "    scaler = StandardScaler()\n",
    "    X_train_scaled=scaler.fit_transform(X_train)\n",
    "    \n",
    "    clf = RandomForestClassifier(n_estimators = 11)\n",
    "    clf.fit(X_train_scaled,y_train)\n",
    "    \n",
    "    X_test_scaled = scaler.transform(X_test)\n",
    "    \n",
    "    yhat[test_idx] = clf.predict(X_test_scaled).reshape(-1,1)\n",
    "    "
   ]
  },
  {
   "cell_type": "code",
   "execution_count": 4,
   "metadata": {},
   "outputs": [
    {
     "name": "stdout",
     "output_type": "stream",
     "text": [
      "Accuracy score: 0.9441944194419442\n"
     ]
    }
   ],
   "source": [
    "from sklearn import metrics\n",
    "\n",
    "print ('Accuracy score: ' + str(metrics.accuracy_score(yhat,y)))"
   ]
  },
  {
   "cell_type": "markdown",
   "metadata": {},
   "source": [
    "<div class = \"alert alert-success\" style = \"border-radius:10px\"><b>EXERCISE:</b> Let us check the performance for different values of `K = {2,3,5,10,20}`. In order to assess the variance of the process let us repeat each cross-validation `50` times. Show a box plot comparing the performances of the three methods.\n",
    "</div>"
   ]
  },
  {
   "cell_type": "code",
   "execution_count": 12,
   "metadata": {},
   "outputs": [],
   "source": [
    "#Your code\n",
    "arrayK = np.array([2,3,5,10,20])\n",
    "acc=np.zeros((len(arrayK), 50))\n",
    "iterationK = 0\n",
    "for k in arrayK:\n",
    "    for i in range(0,50):\n",
    "        X = churn_feat_space.values.astype(np.float)\n",
    "        cv = model_selection.KFold(n_splits = k ,shuffle=True ,random_state=42)\n",
    "        cv.get_n_splits(X)\n",
    "        yhat = np.zeros((X.shape[0],1))\n",
    "        for train_idx, test_idx in cv.split(X):\n",
    "            X_train,y_train = X[train_idx,:],y[train_idx]\n",
    "            X_test,y_test = X[test_idx,:],y[test_idx]\n",
    "    \n",
    "            scaler = StandardScaler()\n",
    "            X_train_scaled=scaler.fit_transform(X_train)\n",
    "    \n",
    "            clf = RandomForestClassifier(n_estimators = 11)\n",
    "            clf.fit(X_train_scaled,y_train)\n",
    "    \n",
    "            X_test_scaled = scaler.transform(X_test)\n",
    "    \n",
    "            yhat[test_idx] = clf.predict(X_test_scaled).reshape(-1,1)\n",
    "        acc[iterationK, i] = metrics.accuracy_score(yhat,y)\n",
    "    iterationK +=1"
   ]
  },
  {
   "cell_type": "code",
   "execution_count": 15,
   "metadata": {},
   "outputs": [
    {
     "data": {
      "text/plain": [
       "(50, 5)"
      ]
     },
     "execution_count": 15,
     "metadata": {},
     "output_type": "execute_result"
    }
   ],
   "source": [
    "acc.shape\n",
    "acc.T.shape"
   ]
  },
  {
   "cell_type": "code",
   "execution_count": 16,
   "metadata": {
    "scrolled": false
   },
   "outputs": [
    {
     "ename": "NameError",
     "evalue": "name 'partial_acc' is not defined",
     "output_type": "error",
     "traceback": [
      "\u001b[0;31m---------------------------------------------------------------------------\u001b[0m",
      "\u001b[0;31mNameError\u001b[0m                                 Traceback (most recent call last)",
      "\u001b[0;32m/var/folders/df/4599m83s2vj4j1_h__gx7kqw0000gn/T/ipykernel_1086/64927679.py\u001b[0m in \u001b[0;36m<module>\u001b[0;34m\u001b[0m\n\u001b[1;32m      7\u001b[0m \u001b[0mplt\u001b[0m\u001b[0;34m.\u001b[0m\u001b[0mtitle\u001b[0m\u001b[0;34m(\u001b[0m\u001b[0;34m'Using the full set statistic'\u001b[0m\u001b[0;34m)\u001b[0m\u001b[0;34m\u001b[0m\u001b[0;34m\u001b[0m\u001b[0m\n\u001b[1;32m      8\u001b[0m \u001b[0mplt\u001b[0m\u001b[0;34m.\u001b[0m\u001b[0msubplot\u001b[0m\u001b[0;34m(\u001b[0m\u001b[0;36m122\u001b[0m\u001b[0;34m)\u001b[0m\u001b[0;34m\u001b[0m\u001b[0;34m\u001b[0m\u001b[0m\n\u001b[0;32m----> 9\u001b[0;31m \u001b[0mplt\u001b[0m\u001b[0;34m.\u001b[0m\u001b[0mboxplot\u001b[0m\u001b[0;34m(\u001b[0m\u001b[0mpartial_acc\u001b[0m\u001b[0;34m)\u001b[0m\u001b[0;34m\u001b[0m\u001b[0;34m\u001b[0m\u001b[0m\n\u001b[0m\u001b[1;32m     10\u001b[0m \u001b[0mplt\u001b[0m\u001b[0;34m.\u001b[0m\u001b[0mtitle\u001b[0m\u001b[0;34m(\u001b[0m\u001b[0;34m'Using partial statistics'\u001b[0m\u001b[0;34m)\u001b[0m\u001b[0;34m\u001b[0m\u001b[0;34m\u001b[0m\u001b[0m\n\u001b[1;32m     11\u001b[0m \u001b[0mplt\u001b[0m\u001b[0;34m.\u001b[0m\u001b[0mgca\u001b[0m\u001b[0;34m(\u001b[0m\u001b[0;34m)\u001b[0m\u001b[0;34m.\u001b[0m\u001b[0mset_ylim\u001b[0m\u001b[0;34m(\u001b[0m\u001b[0;34m[\u001b[0m\u001b[0;36m0.92\u001b[0m\u001b[0;34m,\u001b[0m\u001b[0;36m0.98\u001b[0m\u001b[0;34m]\u001b[0m\u001b[0;34m)\u001b[0m\u001b[0;34m\u001b[0m\u001b[0;34m\u001b[0m\u001b[0m\n",
      "\u001b[0;31mNameError\u001b[0m: name 'partial_acc' is not defined"
     ]
    },
    {
     "data": {
      "image/png": "[encoded data removed]",
      "text/plain": [
       "<Figure size 432x288 with 2 Axes>"
      ]
     },
     "metadata": {
      "needs_background": "light"
     },
     "output_type": "display_data"
    }
   ],
   "source": [
    "%matplotlib inline\n",
    "import matplotlib.pyplot as plt\n",
    "plt.figure()\n",
    "plt.subplot(121)\n",
    "plt.boxplot(acc.T)\n",
    "plt.gca().set_ylim([0.92,0.98])\n",
    "plt.title('Using the full set statistic')\n",
    "plt.subplot(122)\n",
    "plt.boxplot(partial_acc)\n",
    "plt.title('Using partial statistics')\n",
    "plt.gca().set_ylim([0.92,0.98])\n",
    "plt.gcf().set_size_inches(14,4)"
   ]
  },
  {
   "cell_type": "markdown",
   "metadata": {},
   "source": [
    "**Question**: I don't know what the partial accuracy is supposed to be. Is it partial fit?"
   ]
  },
  {
   "cell_type": "code",
   "execution_count": 14,
   "metadata": {},
   "outputs": [
    {
     "ename": "NameError",
     "evalue": "name 'partial_acc' is not defined",
     "output_type": "error",
     "traceback": [
      "\u001b[0;31m---------------------------------------------------------------------------\u001b[0m",
      "\u001b[0;31mNameError\u001b[0m                                 Traceback (most recent call last)",
      "\u001b[0;32m/var/folders/df/4599m83s2vj4j1_h__gx7kqw0000gn/T/ipykernel_1086/2326061858.py\u001b[0m in \u001b[0;36m<module>\u001b[0;34m\u001b[0m\n\u001b[1;32m      7\u001b[0m \u001b[0mplt\u001b[0m\u001b[0;34m.\u001b[0m\u001b[0mtitle\u001b[0m\u001b[0;34m(\u001b[0m\u001b[0;34m'Using the full set statistic'\u001b[0m\u001b[0;34m)\u001b[0m\u001b[0;34m\u001b[0m\u001b[0;34m\u001b[0m\u001b[0m\n\u001b[1;32m      8\u001b[0m \u001b[0mplt\u001b[0m\u001b[0;34m.\u001b[0m\u001b[0msubplot\u001b[0m\u001b[0;34m(\u001b[0m\u001b[0;36m122\u001b[0m\u001b[0;34m)\u001b[0m\u001b[0;34m\u001b[0m\u001b[0;34m\u001b[0m\u001b[0m\n\u001b[0;32m----> 9\u001b[0;31m \u001b[0mplt\u001b[0m\u001b[0;34m.\u001b[0m\u001b[0mboxplot\u001b[0m\u001b[0;34m(\u001b[0m\u001b[0mpartial_acc\u001b[0m\u001b[0;34m)\u001b[0m\u001b[0;34m\u001b[0m\u001b[0;34m\u001b[0m\u001b[0m\n\u001b[0m\u001b[1;32m     10\u001b[0m \u001b[0mplt\u001b[0m\u001b[0;34m.\u001b[0m\u001b[0mtitle\u001b[0m\u001b[0;34m(\u001b[0m\u001b[0;34m'Using partial statistics'\u001b[0m\u001b[0;34m)\u001b[0m\u001b[0;34m\u001b[0m\u001b[0;34m\u001b[0m\u001b[0m\n\u001b[1;32m     11\u001b[0m \u001b[0mplt\u001b[0m\u001b[0;34m.\u001b[0m\u001b[0mgca\u001b[0m\u001b[0;34m(\u001b[0m\u001b[0;34m)\u001b[0m\u001b[0;34m.\u001b[0m\u001b[0mset_ylim\u001b[0m\u001b[0;34m(\u001b[0m\u001b[0;34m[\u001b[0m\u001b[0;36m0.92\u001b[0m\u001b[0;34m,\u001b[0m\u001b[0;36m0.98\u001b[0m\u001b[0;34m]\u001b[0m\u001b[0;34m)\u001b[0m\u001b[0;34m\u001b[0m\u001b[0;34m\u001b[0m\u001b[0m\n",
      "\u001b[0;31mNameError\u001b[0m: name 'partial_acc' is not defined"
     ]
    },
    {
     "data": {
      "image/png": "[encoded data removed]",
      "text/plain": [
       "<Figure size 432x288 with 2 Axes>"
      ]
     },
     "metadata": {
      "needs_background": "light"
     },
     "output_type": "display_data"
    }
   ],
   "source": [
    "%matplotlib inline\n",
    "import matplotlib.pyplot as plt\n",
    "plt.figure()\n",
    "plt.subplot(121)\n",
    "plt.boxplot(acc)\n",
    "plt.gca().set_ylim([0.92,0.98])\n",
    "plt.title('Using the full set statistic')\n",
    "plt.subplot(122)\n",
    "plt.boxplot(partial_acc)\n",
    "plt.title('Using partial statistics')\n",
    "plt.gca().set_ylim([0.92,0.98])\n",
    "plt.gcf().set_size_inches(14,4)"
   ]
  },
  {
   "cell_type": "markdown",
   "metadata": {},
   "source": [
    "## 2.  Unbalanced datasets and the need for other kind of performance metrics."
   ]
  },
  {
   "cell_type": "code",
   "execution_count": 17,
   "metadata": {},
   "outputs": [
    {
     "data": {
      "image/png": "[encoded data removed]",
      "text/plain": [
       "<Figure size 432x432 with 1 Axes>"
      ]
     },
     "metadata": {},
     "output_type": "display_data"
    }
   ],
   "source": [
    "%matplotlib inline\n",
    "import matplotlib.pyplot as plt\n",
    "plt.pie(np.c_[len(y)-np.sum(y),np.sum(y)][0],labels=['No Churn','Churn'],colors=['r','g'],shadow=True,autopct ='%.2f' )\n",
    "fig = plt.gcf()\n",
    "fig.set_size_inches(6,6)"
   ]
  },
  {
   "cell_type": "markdown",
   "metadata": {},
   "source": [
    "<div class = \"alert alert-info\">\n",
    "**Unbalanced datasets**\n",
    "<p>\n",
    "The unbalanced term describes the condition of the data where the ratio between the sizes of the positive and negative is a small value. In those scenarios, always predicting the majority class usually yields good accuracy performance, though it is ill informative. This kind of problems is very common when we want to model unusual events such as rare diseases, the occurrence of a failure in machinery, credit card fraud operations, etc. In those scenarios gathering data from usual events is very easy but collecting data from unusual events is difficult and results in a comparatively small size data set. In order to measure the performance on those data sets one has to use other performance metrics, such as specificity or positive predictive value on the minority class. In the end, the value of a misclassification of a sample depends on the application and the user. For example, in cancer detection because the cost of missing one patient in a trial is very large, we want the predictor to have very large sensitivity (we do not accept false negatives) though it means accepting more false positives. These false positives can be discarded in subsequent tests. \n",
    "</div>"
   ]
  },
  {
   "cell_type": "markdown",
   "metadata": {},
   "source": [
    "### 2.1 The confusion matrix\n"
   ]
  },
  {
   "cell_type": "markdown",
   "metadata": {},
   "source": [
    "Although accuracy is the most normal metric for evaluating classifiers, there are cases when the business value of correctly predicting elements from one class is different from the value for the prediction of elements of another class. In those cases, accuracy is not a good performance metric and more detailed analysis is needed. The **confusion matrix** enables us to define different metrics considering such scenarios. The confusion matrix considers the concepts of the classifier outcome and the actual ground truth or gold standard. In a binary problem, there are four possible cases: \n",
    "\n",
    "\n",
    "+ *True positives (TP):* When the classifier predicts a sample as positive and it really is positive.\n",
    "+ *False positives (FP):* When the classifier predicts a sample as positive but in fact it is negative.\n",
    "+ *True negatives (TN):* When the classifier predicts a sample as negative and it really is negative.\n",
    "+ *False negatives (FN):* When the classifier predicts a sample as negative but in fact it is positive.\n",
    "\n",
    "\n",
    "We can summarize this information in a matrix, namely the confusion matrix, as follows:\n",
    "<img src = \"./files/confmat.png\" width = 800px>\n",
    "The combination of these elements allows us to define several performance metrics:\n",
    "\n",
    "\n",
    "+ *Accuracy:*\n",
    "$$\\text{accuracy}=\\frac{\\text{TP}+\\text{TN}}{\\text{TP}+\\text{TN}+\\text{FP}+\\text{FN}}$$\n",
    "\n",
    "+ Column-wise we find these two partial performance metrics:\n",
    " + *Sensitivity or Recall:*\n",
    "$$\\text{sensitivity}=\\frac{\\text{TP}}{\\text{Real Positives}}=\\frac{\\text{TP}}{\\text{TP}+\\text{FN}}$$\n",
    " + *Specificity:*\n",
    "$$\\text{specificity}=\\frac{\\text{TN}}{\\text{Real Negatives}}=\\frac{\\text{TN}}{\\text{TN}+\\text{FP}}$$\n",
    "\n",
    "+ Row-wise we find these two partial performance metrics:}\n",
    "    + *Precision or Positive Predictive Value:*\n",
    "$$\\text{precision}=\\frac{\\text{TP}}{\\text{Predicted Positives}}=\\frac{\\text{TP}}{\\text{TP}+\\text{FP}}$$\n",
    "    + *Negative predictive value:*\n",
    "$$\\text{NPV}=\\frac{\\text{TN}}{\\text{Predicted Negative}}=\\frac{\\text{TN}}{\\text{TN}+\\text{FN}}$$\n"
   ]
  },
  {
   "cell_type": "markdown",
   "metadata": {},
   "source": [
    "<div class= \"alert alert-danger\" style = \"border-radius:10px\"> **QUIZ:** Consider the following questions and answer accordingly.\n",
    "\n",
    "</div>"
   ]
  },
  {
   "cell_type": "markdown",
   "metadata": {},
   "source": [
    "Let us code the confusion matrix and the different metrics for the churn problem:"
   ]
  },
  {
   "cell_type": "code",
   "execution_count": 18,
   "metadata": {},
   "outputs": [],
   "source": [
    "from sklearn import neighbors\n",
    "from sklearn import model_selection\n",
    "\n",
    "clf = neighbors.KNeighborsClassifier(n_neighbors=3)\n",
    "X_train,X_test,y_train,y_test = model_selection.train_test_split(X,y,test_size=0.3,random_state=42)\n",
    "clf.fit(X_train,y_train)\n",
    "yhat = clf.predict(X_test)\n",
    "\n"
   ]
  },
  {
   "cell_type": "code",
   "execution_count": 19,
   "metadata": {},
   "outputs": [
    {
     "name": "stdout",
     "output_type": "stream",
     "text": [
      "34 43\n",
      "109 814\n"
     ]
    }
   ],
   "source": [
    "TP = np.sum(np.logical_and(yhat==y_test,yhat==1))\n",
    "TN = np.sum(np.logical_and(yhat==y_test,yhat==0))\n",
    "FP = np.sum(np.logical_and(yhat!=y_test,yhat==1))\n",
    "FN = np.sum(np.logical_and(yhat!=y_test,yhat==0))\n",
    "\n",
    "print (TP,FP)\n",
    "print (FN,TN)"
   ]
  },
  {
   "cell_type": "code",
   "execution_count": 20,
   "metadata": {},
   "outputs": [
    {
     "name": "stdout",
     "output_type": "stream",
     "text": [
      "[[814 109]\n",
      " [ 43  34]]\n"
     ]
    }
   ],
   "source": [
    "from sklearn import metrics\n",
    "#I use wikipedia notation, thus we have to swap predictions and groundtruth\n",
    "print (metrics.confusion_matrix(yhat,y_test))"
   ]
  },
  {
   "cell_type": "code",
   "execution_count": 21,
   "metadata": {},
   "outputs": [
    {
     "name": "stdout",
     "output_type": "stream",
     "text": [
      "              precision    recall  f1-score   support\n",
      "\n",
      "           0       0.88      0.95      0.91       857\n",
      "           1       0.44      0.24      0.31       143\n",
      "\n",
      "    accuracy                           0.85      1000\n",
      "   macro avg       0.66      0.59      0.61      1000\n",
      "weighted avg       0.82      0.85      0.83      1000\n",
      "\n"
     ]
    }
   ],
   "source": [
    "print (metrics.classification_report(y_test,yhat))"
   ]
  },
  {
   "cell_type": "markdown",
   "metadata": {
    "collapsed": true
   },
   "source": [
    "Another interesting metric is *F1-score*. This is defined as follows,\n",
    "\n",
    "$\\text{F1-score} = 2\\cdot \\frac{\\text{precision} \\cdot \\text{recall}}{\\text{precision}+\\text{recall}} = 2\\frac{\\frac{TP}{TP+FP}\\frac{TP}{TP+FN}}{\\frac{TP}{TP+FP}+\\frac{TP}{TP+FN}} = \\frac{2 TP}{TP+FN+TP+FP} $"
   ]
  },
  {
   "cell_type": "markdown",
   "metadata": {},
   "source": [
    "<div class = \"alert alert-info\" style= \"border-radius:10px\">**QUESTION:** Why `classification_report` only reports precission and recall?</div>"
   ]
  },
  {
   "cell_type": "markdown",
   "metadata": {},
   "source": [
    "**Solution:** Precission indicates the proportion of true positives detected among the real amount of positives. Similarly Recall indicates the proportion of the true positive among all the positives detected (or predicted). Note that we are interested on how well the model predicts the positive samples, we are interested in detecting well the poisitive cases, we are focusing on reducing the false negatives, and in exchange we pay the price to allow more false negative. "
   ]
  },
  {
   "cell_type": "markdown",
   "metadata": {},
   "source": [
    "### 2.2 Operating point, ROC, and Area under the curve"
   ]
  },
  {
   "cell_type": "markdown",
   "metadata": {},
   "source": [
    "Many classifiers can be considered as thresholded regressors. This means that the actual classifier actually reports some score that has to be further thresholded to finally decide the class. Consider, as an example, a binary classifier that scores the probability of belonging to class 'A', i.e. $P(x \\in 'A')$. Obviously, $1 - P(x \\in 'A')$ is the probability of belonging to class 'B'. The decision of belonging to class 'A' is given by $P(x \\in 'A')>thr$. We usually will use $thr = 0.5$ but we could change this threshold. "
   ]
  },
  {
   "cell_type": "markdown",
   "metadata": {},
   "source": [
    "<div class = \"alert alert-info\" style = \"border-radius:10px\">**QUESTION:** What is the effect of lowering the value of the threshold in the four partial performance metrics? Consider what happens to the positive samples ('A') and to the negative samples ('B')</div>"
   ]
  },
  {
   "cell_type": "markdown",
   "metadata": {},
   "source": [
    "**Solution:** If we lower the threshold, the decision of belonging to class A (positive) is given with lower probability than initially, i.e. we may consider a sample to be positive easily, then we will have more FALSE POSITIVE. Similarly, we are increasing the value from which we consider a sample to be of class B (negative) then we may have less FALSE NEGATIVE:\n",
    "- Precision: true positive among the real positives: may be greater (we may have more positives all in all, so the predicted positives will be more than before, while the number of real positives is fixed)\n",
    "- Recall: true positive among the predicted positives: may be lower (we will have more positives at the end, and maybe more false negatives, decreasing the proportio)\n",
    "- Specificity: true negatives among the real negatives: lower\n",
    "- Negative predictive value: true negative among the predicted negative: greater"
   ]
  },
  {
   "cell_type": "markdown",
   "metadata": {},
   "source": [
    "This means that we can control the amount of true positive and the amount of false positives.This gives rise to the concept of the **operating point**. The operating point is the precise threshold we select for an specific application by controlling the true positive rate (recall) vs the false positive rate (1- specificity = FP / (FP+TN)). We can plot all the operating points by varying the threshold value and ploting the precission versus the recall. This curve is called **Receiver Operating Characteristic**. It shows how the true positive rate changes when the false positive rate change.\n",
    "\n"
   ]
  },
  {
   "cell_type": "markdown",
   "metadata": {},
   "source": [
    " It also means that we can control precision and recall by modifying this threshold. \n",
    " This also allow us to define the **Precision-Recall curve**."
   ]
  },
  {
   "cell_type": "markdown",
   "metadata": {},
   "source": [
    "#### 2.2.1 The perfect curve"
   ]
  },
  {
   "cell_type": "markdown",
   "metadata": {},
   "source": [
    "The ROC curve tells us about the behavior of the positive class, displaying how the true positive rate changes as we change the false positive rate. Note that the curve depends on all the terms of the confusion matrix:\n",
    "\n",
    "\n",
    "$$TPR = sensitivity \\;(recall) = \\frac{TP}{TP+FN}$$\n",
    "\n",
    "$$FPR = 1-specificity = \\frac{FP}{TN+FP}$$"
   ]
  },
  {
   "cell_type": "markdown",
   "metadata": {},
   "source": [
    "<div class = \"alert alert-danger\" style=\"border-radius:10px\"> **QUIZ** In the case of a perfect classification, what are the values of TPR and FRP ?</div>"
   ]
  },
  {
   "cell_type": "markdown",
   "metadata": {},
   "source": [
    "**Solution:** Perfect classification means there are no false positive nor false negatives. Then $FN=0=FP$, and we have $TPR=1$, and $FPR=0$."
   ]
  },
  {
   "cell_type": "markdown",
   "metadata": {},
   "source": [
    "#### 2.2.2 Computing the curve\n",
    "\n",
    "Let us compute the curve. In order to do so we need the score from a classifier. Some classifiers in sklearn have the method `predict_proba` that returns the \"confidence\" of the classification. Let us do this,"
   ]
  },
  {
   "cell_type": "code",
   "execution_count": 22,
   "metadata": {},
   "outputs": [],
   "source": [
    "from sklearn import neighbors\n",
    "from sklearn import model_selection\n",
    "\n",
    "clf = neighbors.KNeighborsClassifier(n_neighbors=21)\n",
    "X_train,X_test,y_train,y_test = model_selection.train_test_split(X,y,test_size=0.3,random_state=42)\n",
    "clf.fit(X_train,y_train)\n",
    "yhat = clf.predict(X_test)"
   ]
  },
  {
   "cell_type": "code",
   "execution_count": 23,
   "metadata": {},
   "outputs": [],
   "source": [
    "score = clf.predict_proba(X_test)\n"
   ]
  },
  {
   "cell_type": "code",
   "execution_count": 24,
   "metadata": {},
   "outputs": [
    {
     "data": {
      "text/plain": [
       "array([[0.85714286, 0.14285714],\n",
       "       [0.85714286, 0.14285714],\n",
       "       [0.9047619 , 0.0952381 ],\n",
       "       ...,\n",
       "       [0.80952381, 0.19047619],\n",
       "       [0.95238095, 0.04761905],\n",
       "       [0.85714286, 0.14285714]])"
      ]
     },
     "execution_count": 24,
     "metadata": {},
     "output_type": "execute_result"
    }
   ],
   "source": [
    "score"
   ]
  },
  {
   "cell_type": "code",
   "execution_count": 25,
   "metadata": {},
   "outputs": [],
   "source": [
    "TP = np.sum(np.logical_and(yhat==y_test,yhat==1))\n",
    "TN = np.sum(np.logical_and(yhat==y_test,yhat==0))\n",
    "FP = np.sum(np.logical_and(yhat!=y_test,yhat==1))\n",
    "FN = np.sum(np.logical_and(yhat!=y_test,yhat==0))\n",
    "\n",
    "TPR = TP /(TP+FN)\n",
    "FPR = FP /(FP+TN)"
   ]
  },
  {
   "cell_type": "code",
   "execution_count": 26,
   "metadata": {},
   "outputs": [
    {
     "data": {
      "text/plain": [
       "(0.16783216783216784, 0.007001166861143524)"
      ]
     },
     "execution_count": 26,
     "metadata": {},
     "output_type": "execute_result"
    }
   ],
   "source": [
    "np.sum(TPR),np.sum(FPR)\n"
   ]
  },
  {
   "cell_type": "code",
   "execution_count": 27,
   "metadata": {},
   "outputs": [],
   "source": [
    "idx=np.argsort(score[:,1])\n",
    "\n",
    "TPR = []\n",
    "FPR = []\n",
    "for i in idx:\n",
    "    yhat = np.where(score[:,1]>score[i,1],1.0,0.0)\n",
    "    TP = np.sum(np.logical_and(yhat==y_test,yhat==1.))\n",
    "    TN = np.sum(np.logical_and(yhat==y_test,yhat==0.))\n",
    "    FP = np.sum(np.logical_and(yhat!=y_test,yhat==1.))\n",
    "    FN = np.sum(np.logical_and(yhat!=y_test,yhat==0.))\n",
    "\n",
    "    TPR.append( TP /(TP+FN) )\n",
    "    FPR.append( FP /(FP+TN) )"
   ]
  },
  {
   "cell_type": "code",
   "execution_count": 28,
   "metadata": {},
   "outputs": [
    {
     "data": {
      "text/plain": [
       "[<matplotlib.lines.Line2D at 0x7f8f19835460>]"
      ]
     },
     "execution_count": 28,
     "metadata": {},
     "output_type": "execute_result"
    },
    {
     "data": {
      "image/png": "[encoded data removed]",
      "text/plain": [
       "<Figure size 432x288 with 1 Axes>"
      ]
     },
     "metadata": {
      "needs_background": "light"
     },
     "output_type": "display_data"
    }
   ],
   "source": [
    "idx = np.argsort(FPR)\n",
    "\n",
    "%matplotlib inline\n",
    "import matplotlib.pyplot as plt\n",
    "plt.plot(np.array(FPR)[idx],np.array(TPR)[idx])"
   ]
  },
  {
   "cell_type": "code",
   "execution_count": 29,
   "metadata": {},
   "outputs": [
    {
     "data": {
      "text/plain": [
       "[<matplotlib.lines.Line2D at 0x7f8f196960d0>]"
      ]
     },
     "execution_count": 29,
     "metadata": {},
     "output_type": "execute_result"
    },
    {
     "data": {
      "image/png": "[encoded data removed]",
      "text/plain": [
       "<Figure size 432x288 with 1 Axes>"
      ]
     },
     "metadata": {
      "needs_background": "light"
     },
     "output_type": "display_data"
    }
   ],
   "source": [
    "from sklearn import metrics\n",
    "fpr, tpr,_ = metrics.roc_curve(y_test,score[:,1])\n",
    "fig = plt.figure()\n",
    "plt.plot(fpr,tpr)\n",
    "plt.plot(np.array(FPR)[idx],np.array(TPR)[idx],'r')"
   ]
  },
  {
   "cell_type": "markdown",
   "metadata": {},
   "source": [
    "He,he! The same result as sklearn ;-)"
   ]
  },
  {
   "cell_type": "markdown",
   "metadata": {},
   "source": [
    "<div class = \"alert alert-info\" style = \"border-radius:10px\">**QUESTION:** What is the operating point?</div>"
   ]
  },
  {
   "cell_type": "markdown",
   "metadata": {},
   "source": [
    "#### 2.2.3 Area under the curve\n",
    "\n",
    "The area under the curve is a good value for summarizing the ROC behavior. Although not perfect it gives a good idea for comparing classifiers. Let us compute the Area under the curve using the trapezoid method:"
   ]
  },
  {
   "cell_type": "code",
   "execution_count": 30,
   "metadata": {},
   "outputs": [],
   "source": [
    "def linear_AUC(tpr,fpr):\n",
    "    val,idx = np.unique(fpr,return_index = True)\n",
    "    auc = 0\n",
    "    N = len(idx)-1 \n",
    "    for i in range(N):\n",
    "        auc  = auc + tpr[idx[i]]*(fpr[idx[i+1]]-fpr[idx[i]]) + (tpr[idx[i+1]]-tpr[idx[i]])*(fpr[idx[i+1]]-fpr[idx[i]])/2\n",
    "    auc = auc + tpr[idx[i+1]]*(1.-fpr[idx[i+1]]) + (1.-tpr[idx[i+1]])*(1.-fpr[idx[i+1]])/2\n",
    "    return auc"
   ]
  },
  {
   "cell_type": "code",
   "execution_count": 31,
   "metadata": {},
   "outputs": [
    {
     "data": {
      "text/plain": [
       "0.7439229382053185"
      ]
     },
     "execution_count": 31,
     "metadata": {},
     "output_type": "execute_result"
    }
   ],
   "source": [
    "linear_AUC(tpr,fpr)"
   ]
  },
  {
   "cell_type": "code",
   "execution_count": 32,
   "metadata": {},
   "outputs": [
    {
     "data": {
      "text/plain": [
       "0.7439555776778648"
      ]
     },
     "execution_count": 32,
     "metadata": {},
     "output_type": "execute_result"
    }
   ],
   "source": [
    "from sklearn import metrics\n",
    "metrics.auc(fpr,tpr)"
   ]
  },
  {
   "cell_type": "markdown",
   "metadata": {},
   "source": [
    "Oh!!!! Awesome, nearly the same ;-)"
   ]
  },
  {
   "cell_type": "markdown",
   "metadata": {},
   "source": [
    "#### 2.2.4 Comparing classifiers"
   ]
  },
  {
   "cell_type": "markdown",
   "metadata": {},
   "source": [
    "Let us compare some classifiers in the problem of `Churn?` and check which one works better."
   ]
  },
  {
   "cell_type": "markdown",
   "metadata": {},
   "source": [
    "<div class = \"alert alert-success\" style = \"border-radius:10px\">**EXERCISE: ** Compare a linear support vector machine, random forest, `11`-nearest neighbor, and logistic regression in the problem of Churn. \n",
    "<ol>\n",
    "<li>Split data in training and test, `test_size = 0.3`, `random_state = 0`.</li>\n",
    "<li>Draw in a single plot the four curves.</li>\n",
    "<li>Compute the area under the curve.</li>\n",
    "</ol>\n",
    "\n",
    "**HINT: ** In order to get the confidence/margin in the SVM use the method `decision_function`.\n",
    "</div>"
   ]
  },
  {
   "cell_type": "code",
   "execution_count": 39,
   "metadata": {},
   "outputs": [
    {
     "name": "stderr",
     "output_type": "stream",
     "text": [
      "/Users/flaviaferrusmarimon/anaconda3/lib/python3.9/site-packages/sklearn/linear_model/_logistic.py:444: ConvergenceWarning: lbfgs failed to converge (status=1):\n",
      "STOP: TOTAL NO. of ITERATIONS REACHED LIMIT.\n",
      "\n",
      "Increase the number of iterations (max_iter) or scale the data as shown in:\n",
      "    https://scikit-learn.org/stable/modules/preprocessing.html\n",
      "Please also refer to the documentation for alternative solver options:\n",
      "    https://scikit-learn.org/stable/modules/linear_model.html#logistic-regression\n",
      "  n_iter_i = _check_optimize_result(\n"
     ]
    }
   ],
   "source": [
    "#Your code\n",
    "from sklearn import svm\n",
    "from sklearn import neighbors\n",
    "from sklearn import model_selection\n",
    "from sklearn import tree\n",
    "from sklearn.linear_model import LogisticRegression\n",
    "\n",
    "from sklearn.preprocessing import StandardScaler\n",
    "\n",
    "\n",
    "model2= tree.DecisionTreeClassifier()\n",
    "model1 = svm.SVC(C=100.0,gamma = 1e-5,random_state=42)\n",
    "model3 = neighbors.KNeighborsClassifier(n_neighbors=11)\n",
    "model4 = LogisticRegression(random_state=0)\n",
    "X_train,X_test,y_train,y_test = model_selection.train_test_split(X,y,test_size=0.3,random_state=0)\n",
    "\n",
    "model1.fit(X_train,y_train)\n",
    "model2.fit(X_train,y_train)\n",
    "model3.fit(X_train,y_train)\n",
    "model4.fit(X_train,y_train)\n",
    "\n",
    "\n",
    "yhat1 = model1.predict(X_test)\n",
    "yhat2 = model2.predict(X_test)\n",
    "yhat3 = model3.predict(X_test)\n",
    "yhat4 = model4.predict(X_test)"
   ]
  },
  {
   "cell_type": "code",
   "execution_count": 44,
   "metadata": {},
   "outputs": [
    {
     "name": "stdout",
     "output_type": "stream",
     "text": [
      "[-8.57590696e-01 -8.97841079e-01 -1.03594989e+00 -1.77112367e+00\n",
      "  4.09809229e+00 -8.84137031e-01 -1.36855624e+00 -1.70951207e+00\n",
      " -1.46138460e+00 -5.92454626e-01 -1.21458909e+00 -1.38502150e+00\n",
      " -1.24085417e+00 -1.71878743e+00  3.82496673e-01 -6.85057359e-01\n",
      " -1.22238154e+00 -6.60461655e-01 -1.13486265e+00 -1.37768394e+00\n",
      " -1.68659573e+00 -1.67737523e+00 -1.86567562e+00 -9.67703503e-01\n",
      " -1.46648937e+00 -1.81399528e+00 -1.07846197e+00 -1.04671965e+00\n",
      " -1.11261917e+00 -1.35802855e+00 -1.77015528e+00 -1.85597453e+00\n",
      " -2.24509966e+00 -1.04547712e+00 -1.21076728e+00 -1.20701452e+00\n",
      "  1.11927747e+00 -1.38118024e+00 -1.29905487e+00  7.65205558e-02\n",
      " -1.48388498e+00  8.02738997e-01  1.86396985e+00 -7.08121232e-01\n",
      " -1.53653272e+00 -8.34074657e-01 -2.15264867e+00 -1.85806925e+00\n",
      " -8.68368302e-01 -8.07669339e-01 -1.36343677e+00 -1.29573336e+00\n",
      " -7.77530770e-01 -1.66419167e+00 -1.35809603e+00 -1.50039184e+00\n",
      " -1.67136124e+00 -9.11983690e-01 -1.51233858e+00 -4.72997635e-02\n",
      "  1.79746233e+00 -1.48726451e+00 -9.52872324e-01 -2.50805477e+00\n",
      " -1.02647866e+00 -2.06474161e+00 -1.23629942e+00 -4.88688594e-01\n",
      " -1.24798730e+00 -1.22831441e+00 -1.32114991e+00 -9.31680573e-01\n",
      " -1.29852288e+00  1.91557186e-01 -7.80855375e-01 -9.25109497e-01\n",
      " -8.21741128e-01 -1.33709977e+00 -1.16769463e+00 -8.40268197e-01\n",
      " -1.52095642e+00 -1.38095040e+00 -1.21686335e+00 -1.53301099e+00\n",
      " -1.22108849e+00 -1.51540131e+00 -1.41704207e+00 -1.49892700e+00\n",
      "  4.04188488e-01 -9.66653988e-01 -2.23688537e+00 -9.45654433e-01\n",
      " -1.95246090e+00 -1.43811633e+00 -1.07827245e+00 -8.90948930e-01\n",
      " -1.62998029e+00 -1.39750110e+00 -1.67915300e+00 -1.32612104e+00\n",
      " -1.97548961e+00 -1.96305639e+00 -1.00010381e+00 -1.23549253e+00\n",
      " -9.71330304e-01 -1.18671291e+00 -1.59834951e+00 -1.43909538e+00\n",
      " -9.17431275e-01 -1.57965358e+00 -1.27077361e+00 -8.31785229e-01\n",
      " -1.34467585e+00 -1.80652391e+00 -1.14801252e+00 -1.16595070e+00\n",
      " -1.31729398e+00 -1.49012006e+00 -1.22226616e+00 -1.33476699e+00\n",
      " -1.65295578e+00 -1.14209248e+00 -1.65503964e+00 -8.87098107e-01\n",
      " -6.84171181e-01 -1.12231833e+00 -1.45754896e+00 -1.19855563e+00\n",
      " -1.61290293e+00 -8.33207662e-01 -1.15319318e+00 -9.24068418e-01\n",
      " -1.43005106e+00 -1.55104475e+00 -9.46970054e-01 -1.12993890e+00\n",
      " -1.61949165e+00 -8.81002266e-01 -8.77306696e-01 -2.29356355e+00\n",
      " -1.64517255e+00 -1.55322483e+00  6.56387037e-01 -1.10480589e+00\n",
      " -1.81941008e+00 -9.97219106e-01 -1.34158333e+00 -1.67603795e+00\n",
      " -1.50968163e+00 -1.46466224e+00 -8.48530426e-01 -1.29654695e+00\n",
      " -9.65465034e-01 -1.49179989e+00 -1.13955179e+00 -1.06275622e+00\n",
      " -1.30633108e+00 -1.41947635e+00 -3.70326006e-01 -2.02487217e+00\n",
      " -1.40680894e+00 -1.45375902e+00 -6.36664145e-01 -9.42739770e-01\n",
      "  1.07659164e-01 -9.47913484e-01  3.23262877e+00 -9.48849851e-01\n",
      " -9.30514241e-01  2.43715835e-02 -1.07640815e+00 -1.10161808e+00\n",
      " -1.16762032e+00 -1.19098188e+00 -1.55404964e+00 -5.48409403e-01\n",
      " -7.08619897e-01 -9.54358126e-01 -7.15503959e-01 -1.18537214e+00\n",
      " -5.64101705e-01 -9.50644194e-01 -9.08386206e-01 -1.39043699e+00\n",
      " -9.92700290e-01 -7.07045830e-01 -7.90686255e-01 -1.44299838e+00\n",
      " -1.42400352e+00  6.44915596e+00 -1.22053124e+00 -1.64015516e+00\n",
      " -1.63703381e+00 -1.24689683e+00 -9.66924284e-01 -1.40071235e+00\n",
      " -1.33030094e+00 -1.58212413e+00 -1.37482986e+00 -1.50733527e+00\n",
      " -1.45001247e+00 -1.23506422e+00 -1.19562298e+00 -1.33390487e+00\n",
      " -1.53220477e+00 -1.77180891e+00 -1.29885549e+00 -1.63998809e+00\n",
      " -1.49059431e+00 -5.98364132e-01 -1.56060752e+00 -1.78898679e+00\n",
      "  5.04798336e-01 -1.07448241e+00 -1.47017434e+00 -1.00909646e+00\n",
      " -1.12210685e+00 -8.40364386e-01 -1.41927526e+00 -1.94638266e+00\n",
      " -1.26172775e+00  1.10777537e+00 -1.61103704e+00 -1.82394694e+00\n",
      " -1.10626064e+00 -1.63217393e+00 -8.26277278e-01 -1.14785718e+00\n",
      " -1.41968793e+00 -9.49363967e-01 -1.23773603e+00 -1.07608138e+00\n",
      " -1.60911897e+00 -1.81334513e+00 -1.48792764e+00 -8.03254598e-01\n",
      "  1.17074431e+00 -1.74782954e+00 -6.60734455e-01 -1.36476534e+00\n",
      " -9.67874161e-01 -1.37600635e+00 -1.11782136e+00 -1.78768921e+00\n",
      " -1.58650078e+00 -7.66264377e-01 -9.73434993e-01 -1.26445912e+00\n",
      " -2.01141016e+00 -4.69008349e-01 -6.35088699e-01 -1.70399710e+00\n",
      " -1.53967385e+00 -1.29295799e+00 -1.55281839e+00 -1.32105617e+00\n",
      " -3.93031752e-01 -1.06396539e+00 -1.56931391e+00 -1.30181578e+00\n",
      " -1.34649400e+00 -1.36516117e+00 -9.17503676e-01 -1.65000145e+00\n",
      " -1.07529355e+00 -1.72839583e+00 -1.37837848e+00 -1.22946637e+00\n",
      " -1.35357077e+00 -1.33332802e+00 -1.69587502e+00 -1.06197447e+00\n",
      " -1.22434746e+00 -1.03895254e+00  2.22739422e+00 -1.32712422e+00\n",
      " -1.81111927e+00 -1.52786710e+00 -1.74952344e+00 -1.42277287e+00\n",
      " -1.66128180e+00 -1.19279950e+00 -1.99625646e+00 -1.52186243e+00\n",
      " -2.19360070e+00 -1.94750124e+00 -3.24038326e-01 -9.94858976e-01\n",
      " -1.25725056e+00 -2.08434583e+00 -1.91244061e+00 -9.77866970e-01\n",
      " -1.43916053e+00 -1.04460320e+00 -1.13619841e+00 -2.20397758e-01\n",
      " -1.85626174e+00 -5.19888055e-01 -1.25708759e+00 -1.20290198e+00\n",
      " -1.13869533e+00 -1.11486713e+00 -1.00940116e+00 -1.37059530e+00\n",
      " -1.38243612e+00 -1.28328697e+00 -1.05652653e+00 -1.23105552e+00\n",
      " -1.32564373e+00  3.45566480e+00 -1.75432793e+00 -1.37831311e+00\n",
      " -9.63923947e-01 -1.49508165e+00 -1.59371573e+00 -1.21628138e+00\n",
      " -1.06495677e+00 -1.39164021e+00 -1.37735412e+00 -1.71226333e+00\n",
      " -1.32573969e+00 -1.32322148e+00 -1.43352340e+00 -2.00557430e+00\n",
      " -3.19817448e-01 -1.08713641e+00 -8.47599252e-01 -1.81063183e+00\n",
      " -7.43903324e-01 -1.21205535e+00 -1.17109066e+00 -2.09497799e+00\n",
      "  8.88377164e-01 -2.01063314e+00 -9.62295179e-01 -1.64598681e+00\n",
      " -1.03724222e+00 -1.18782788e+00 -1.27491056e+00 -8.33167470e-01\n",
      " -1.34639625e+00 -1.46808435e+00 -1.36281929e+00 -8.45725260e-01\n",
      " -8.10089519e-01 -1.59391213e+00 -1.29321306e+00 -1.51854672e+00\n",
      " -2.24432775e+00 -1.13400461e+00 -1.19870963e+00 -1.27714380e+00\n",
      " -1.47412975e+00 -1.69886000e+00 -5.66691044e-01 -1.81737840e+00\n",
      " -9.70002040e-01 -1.14304565e+00 -1.54149201e+00 -1.02187136e+00\n",
      " -9.38267813e-01 -8.15239083e-01 -1.59564299e+00 -1.33101678e+00\n",
      " -1.11434097e+00 -1.11195503e+00 -1.38460698e+00 -6.47392653e-01\n",
      " -1.58888482e+00 -1.50551193e+00 -1.31120793e+00 -1.47215758e+00\n",
      " -1.75125803e+00 -8.26845126e-01 -1.19513961e+00 -1.23072004e+00\n",
      " -1.16837168e+00 -1.50579895e+00 -1.64484229e+00 -9.81734700e-01\n",
      " -1.23857618e+00 -1.53524401e+00 -9.56491150e-01 -1.53948025e+00\n",
      " -1.70772342e+00 -1.59151765e+00 -1.10774100e+00 -1.10037405e+00\n",
      " -1.86707999e+00 -1.35815317e+00 -1.15008051e-01 -1.62843434e+00\n",
      " -1.25403851e+00 -1.73967062e+00 -3.34003726e-01 -9.25886980e-01\n",
      " -1.09707210e+00 -1.73460200e-01 -1.12305659e+00 -2.09459737e+00\n",
      " -1.28822860e+00 -1.17460075e+00 -1.48443269e+00 -1.30662483e+00\n",
      " -1.21880800e+00 -1.37736219e+00 -9.84285783e-01 -1.20243051e+00\n",
      " -1.38190923e+00 -1.34077155e+00 -3.84831934e-01 -1.96629178e+00\n",
      " -9.53446191e-01 -1.25957846e+00 -7.35621949e-01 -1.48133514e+00\n",
      " -2.02738140e+00 -1.57276094e+00 -8.01786364e-01 -1.65313075e+00\n",
      " -2.08959496e+00 -1.01311106e+00 -1.20285743e+00 -1.44839160e+00\n",
      " -1.13564851e+00  9.24587134e-03 -8.01141529e-01 -1.22348224e+00\n",
      " -1.23309031e+00 -1.10865073e+00 -1.43970873e+00 -1.14682173e+00\n",
      " -1.31278055e+00 -2.02927626e+00 -1.52238893e+00 -1.45490794e+00\n",
      " -1.43494426e+00 -1.44815956e+00 -1.99532132e+00 -1.68471637e+00\n",
      " -1.03399894e+00 -1.20029897e+00 -1.26876533e+00 -1.03704348e+00\n",
      "  5.79984209e-02 -1.51773716e+00  4.72082382e+00 -1.32383908e+00\n",
      " -1.00365100e+00  4.57032334e-01 -1.26490392e+00 -1.20325595e+00\n",
      " -1.40704184e+00 -9.97603931e-01 -1.14864717e+00  1.14152267e+00\n",
      " -1.15405621e+00 -1.01621585e+00  1.53718300e-01 -1.41173453e+00\n",
      " -1.57486699e+00 -1.74668960e+00 -9.19589143e-01 -4.71487058e-01\n",
      " -9.87947557e-01 -9.64850080e-01 -9.73531443e-01  1.75872805e+00\n",
      " -1.28667418e+00 -1.64496475e+00 -9.79375160e-01 -1.58395634e-01\n",
      " -1.11771121e+00 -1.32557618e+00 -1.30137832e+00 -1.34281434e+00\n",
      " -1.72017385e+00 -8.92721211e-01 -1.03164648e+00 -1.47770039e+00\n",
      " -1.17631692e+00 -1.00517916e+00 -1.97781741e+00 -1.34089978e+00\n",
      " -2.08157128e+00 -1.11227648e+00 -7.76210656e-01 -1.51667638e+00\n",
      "  4.52631816e-01 -1.17209965e+00 -9.79783586e-02 -1.20598672e+00\n",
      " -1.26617469e+00 -1.60558074e+00 -1.26770387e+00 -2.17652756e+00\n",
      " -2.38216938e+00 -9.91619759e-01 -9.39652852e-01 -1.27277144e+00\n",
      " -9.69098306e-01 -1.46707014e+00 -1.00455648e+00 -7.04881018e-01\n",
      " -1.75276170e+00 -1.28790871e+00 -5.01118118e-01 -1.35041984e+00\n",
      " -9.07657116e-01 -1.32644572e+00 -1.36463701e+00 -9.78683030e-01\n",
      " -1.25984041e+00 -2.34902216e+00 -1.05051291e+00 -1.12108909e+00\n",
      " -1.53351955e+00 -1.79806895e+00 -9.96858535e-01 -1.37541079e+00\n",
      " -1.28972115e+00 -1.06390128e+00 -1.16376789e+00 -8.59663564e-01\n",
      " -8.70981019e-01 -1.24316518e+00 -1.56162309e+00 -1.29079982e+00\n",
      " -4.03507394e-01 -1.58254034e+00 -1.01186686e+00 -1.96436261e+00\n",
      " -9.84529581e-01 -1.52047180e+00 -1.15312669e+00 -1.84055685e+00\n",
      " -1.17985095e+00 -1.48184730e+00 -1.16842341e+00 -9.03797616e-01\n",
      " -1.06050755e+00 -6.52553689e-01 -6.85068788e-01 -1.90764229e+00\n",
      " -1.45387811e+00 -1.66839945e+00 -2.42074085e+00 -5.17293026e-01\n",
      " -1.44255275e+00 -7.40812312e-01 -7.50912794e-01 -2.13238355e+00\n",
      "  9.87268731e-02 -1.14009529e+00 -1.50565928e+00 -1.63085587e+00\n",
      " -1.52145937e+00  5.26637369e-01 -9.34747053e-01 -9.25277732e-01\n",
      " -1.57234282e+00  1.19224068e+00 -1.00403868e+00 -1.12622173e+00\n",
      " -9.23027427e-01 -1.41569303e+00 -9.44347082e-02 -3.69529163e-01\n",
      " -9.78203821e-01 -1.08259059e+00 -9.78914705e-01 -1.19051971e+00\n",
      " -1.44164053e+00 -1.03644916e+00 -8.57009262e-01 -1.57860166e+00\n",
      " -1.72441709e+00 -1.01115422e+00  2.58206450e+00 -1.35902811e+00\n",
      " -1.30541949e+00 -1.55241685e+00 -1.40941642e+00 -1.29272676e+00\n",
      " -1.37835526e+00 -1.68390502e+00 -1.44175473e+00 -8.22194769e-01\n",
      " -1.77560832e+00 -1.25353944e+00 -1.30889057e+00 -8.76303451e-01\n",
      " -9.73016220e-01 -1.61460649e+00 -1.23043815e+00 -1.19026986e+00\n",
      " -1.24725297e+00 -1.43667776e+00 -1.62511154e+00 -1.88189372e+00\n",
      " -8.68530827e-01 -9.68484247e-01 -1.83046809e+00 -1.71708191e+00\n",
      " -1.53096699e+00 -1.40558608e+00 -6.40790867e-01 -1.02365544e+00\n",
      " -8.28256686e-01 -1.11148234e+00 -1.15168456e+00  3.20409588e+00\n",
      " -1.10072941e+00 -1.13768645e+00  6.83262616e-01 -1.32052849e+00\n",
      " -1.57020624e+00 -1.18932881e+00  7.67788440e-01 -1.66583132e+00\n",
      " -1.30865284e+00 -1.04022340e+00 -9.68296776e-01 -1.09211472e+00\n",
      " -2.11646204e+00 -1.37265000e+00 -1.60686834e+00 -1.24704965e+00\n",
      " -2.99692995e-01 -1.28389040e+00 -1.67931292e+00 -1.25256217e+00\n",
      " -1.10489041e+00 -8.96151565e-01 -1.51221598e+00 -1.51276788e+00\n",
      " -8.04114920e-01 -6.59363875e-01 -4.32775465e-01 -8.79267542e-01\n",
      " -1.37235103e+00 -1.11270523e+00 -1.80628814e+00 -9.09855606e-01\n",
      " -1.51718026e+00 -7.67586221e-01 -1.55032509e+00 -1.02017631e+00\n",
      " -1.47297666e+00 -1.29108927e+00 -1.32994950e+00 -9.68378878e-01\n",
      " -1.07854291e+00 -9.53228904e-01 -1.36888041e+00 -5.94925715e-01\n",
      " -1.07340792e+00 -1.49899278e+00 -1.44111244e+00 -1.82156579e+00\n",
      " -1.71612295e+00 -1.43639621e+00 -1.25525561e+00 -7.13496015e-01\n",
      " -1.38585233e+00 -1.54851850e+00 -1.35871380e+00 -8.58899716e-01\n",
      " -1.05225483e+00 -1.26486406e+00 -1.32267502e+00 -1.76980934e+00\n",
      " -8.60699139e-01 -6.37861370e-01 -1.24543252e+00 -1.17991760e+00\n",
      " -2.12633683e+00  1.19345205e+00 -1.35137944e+00 -1.64221627e+00\n",
      " -1.51086762e+00  2.46518341e-01 -1.72347840e+00 -1.16197620e+00\n",
      " -9.06060187e-01 -1.34847349e+00 -2.14051249e+00 -1.20431738e+00\n",
      " -2.05495818e-01 -1.16704299e+00 -2.06997470e+00 -1.24904816e+00\n",
      " -7.69479756e-01 -2.23238889e+00 -5.10006080e-01 -2.06493055e+00\n",
      " -1.48375376e+00 -1.58376986e+00 -1.62016662e+00 -8.11458014e-01\n",
      " -1.66638205e+00 -1.35974328e+00 -1.66055954e+00 -1.93003295e+00\n",
      " -1.23753552e+00 -3.53254461e-01 -1.43032539e+00 -1.39437103e+00\n",
      " -1.25601580e+00 -2.44433391e-01 -1.46659269e+00 -7.66584406e-01\n",
      " -1.47965828e+00 -1.20169242e+00 -1.90179226e+00  1.63267888e+00\n",
      " -1.24484489e+00 -1.55860276e+00 -1.38900975e+00 -1.05090409e+00\n",
      " -1.70614405e+00 -1.52505358e+00 -1.01189803e+00 -7.90815270e-01\n",
      " -1.47658421e+00 -1.73669664e+00 -1.10703103e+00  5.56824127e-01\n",
      " -1.35501985e+00 -1.36159274e+00 -1.21270660e+00  2.37919552e-01\n",
      " -1.44080751e+00 -1.05512219e+00  1.76234860e+00 -1.16602670e+00\n",
      " -2.16021978e-02 -1.35392095e+00 -1.59918867e+00 -1.27583511e+00\n",
      " -1.18045389e+00 -9.48319017e-01 -9.01103708e-01 -1.66172944e+00\n",
      " -1.17089338e+00 -1.27576619e+00 -1.54198463e+00 -1.45205554e+00\n",
      " -1.68580595e+00 -8.77747843e-01 -1.34575882e+00 -1.65123776e+00\n",
      " -9.78047441e-01 -1.06090359e+00 -1.74790691e+00 -1.51535485e+00\n",
      " -1.55008213e+00 -4.66779280e-01 -1.20365532e+00 -1.46344553e+00\n",
      " -2.07801703e+00 -1.46752899e+00 -9.03248022e-01 -1.21887909e+00\n",
      " -1.37959162e+00 -1.31408239e+00  6.82513878e-02 -2.29286459e+00\n",
      " -6.03960811e-01 -1.34200325e+00 -1.31125993e+00 -1.36451568e+00\n",
      " -6.67470986e-01 -9.56618412e-01 -1.32134728e+00 -1.50143841e+00\n",
      " -4.91691426e-01 -1.80731489e+00 -1.25443992e+00 -1.72552505e+00\n",
      " -4.59836343e-01 -1.80331738e+00 -1.58772173e+00 -1.08696322e+00\n",
      " -1.30029820e+00 -7.95161217e-01 -1.11442360e+00 -1.09103811e+00\n",
      " -1.58582339e+00 -1.41832348e+00 -1.03055393e+00 -1.41403705e+00\n",
      " -1.44983845e+00 -1.41089173e+00 -3.25981658e-01 -1.43830670e+00\n",
      " -1.08968891e+00 -1.09648860e+00 -6.08467693e-01 -1.42123695e+00\n",
      " -1.42283806e+00 -1.34802555e+00 -8.43830585e-01 -1.16955794e+00\n",
      " -9.94583514e-01 -1.39056719e+00 -8.61960712e-01 -8.89643640e-01\n",
      " -1.64362874e+00 -1.30487818e+00 -1.19270404e+00 -9.51220272e-01\n",
      " -1.45240277e+00 -1.21682374e+00 -1.25051371e+00 -1.30992731e+00\n",
      " -1.35122525e+00 -1.75557918e+00 -1.07846753e+00 -1.22714761e+00\n",
      " -1.53451276e+00  3.26166496e-01 -1.71802512e+00 -1.25581916e+00\n",
      " -1.34946018e+00 -1.04097413e+00 -3.97002080e-01  3.98236608e+00\n",
      " -1.20345219e+00 -2.00217190e+00 -1.37994387e+00 -4.06069758e-01\n",
      " -1.94344890e+00 -1.42619285e+00 -9.34521213e-01 -1.36239851e+00\n",
      " -1.23393404e+00 -1.49551779e+00 -1.35082200e+00 -1.00301517e+00\n",
      " -1.19883807e+00  6.52553810e-01 -4.98014488e-03 -2.31865212e+00\n",
      " -1.46874224e+00  3.46508255e+00 -1.19154856e+00 -3.28803329e-01\n",
      " -1.61288847e+00 -1.20270288e+00 -1.01703353e+00 -1.15824115e+00\n",
      " -1.68351483e+00 -1.49141930e+00 -1.52471915e+00 -1.21318709e+00\n",
      " -1.46556696e+00 -1.22953976e+00 -1.88303802e+00 -1.08575143e+00\n",
      " -1.58452740e+00 -9.49087939e-01 -1.75085648e+00 -1.66882091e+00\n",
      " -1.34971965e+00 -1.35898902e+00 -1.40108817e+00 -1.09068864e+00\n",
      " -7.80567676e-01 -8.65732563e-01 -8.33311808e-01 -1.09910100e+00\n",
      " -1.46123053e+00 -1.29656857e+00 -1.19617935e+00 -1.22701209e+00\n",
      " -9.96789334e-01 -1.33702147e+00 -1.05611582e+00 -1.01141750e+00\n",
      " -1.44683038e+00 -1.33997716e+00 -8.22985100e-01 -1.15934765e+00\n",
      " -1.27008562e+00 -1.48985031e+00 -1.26446124e+00 -1.56624796e+00\n",
      " -1.10586564e+00 -1.18052388e+00 -7.31500979e-01 -1.21002461e+00\n",
      "  2.47161535e+00 -1.33030063e+00 -1.16161155e+00 -1.20849136e+00\n",
      "  4.54081181e-02 -1.32574023e+00 -1.07224182e+00 -1.41650472e+00\n",
      " -1.34502055e+00 -1.02774770e+00 -2.68651968e-01 -1.47019751e+00\n",
      " -1.45546048e+00 -9.65655639e-01 -1.61871333e-02 -1.26595984e+00\n",
      " -1.24158678e+00 -1.06236063e+00 -1.22778948e+00 -1.83638332e+00\n",
      " -1.30498966e+00 -1.84592525e+00 -1.45636464e+00 -1.36329639e+00\n",
      " -1.41531814e+00  1.92304391e+00 -1.29543172e+00 -1.24139271e+00\n",
      " -1.55871608e+00 -8.93571870e-01 -1.39885675e+00 -1.15922561e+00\n",
      " -1.23232536e+00 -1.83523676e+00 -1.51510921e+00 -1.37160761e+00\n",
      " -1.71453920e+00 -1.02062939e+00 -1.48235230e+00 -1.44664566e+00\n",
      " -1.18858929e+00 -1.29963035e+00 -1.06079602e+00 -1.30536219e+00\n",
      " -1.02412115e+00 -1.46545900e+00 -9.26635967e-01 -1.06940676e+00\n",
      " -1.27042318e+00 -1.65137678e+00 -1.47012616e+00 -1.50982738e+00\n",
      " -1.65923610e+00 -8.53371518e-01 -1.77682273e+00 -1.02528009e+00\n",
      " -5.92034020e-01 -7.50138582e-01 -1.55842252e+00 -1.71755608e+00\n",
      " -1.61978094e+00 -1.05404572e+00 -1.15506591e+00 -9.62243760e-01\n",
      " -1.09284642e+00 -1.22670792e+00 -1.11727036e+00 -1.73204090e-02\n",
      " -2.08114869e+00 -1.20704309e+00 -9.79266396e-01 -6.94307559e-01\n",
      " -1.13428990e+00 -1.31354686e+00 -1.30835930e+00 -1.68166893e+00\n",
      " -1.36698511e+00 -1.28859546e+00 -1.51283119e+00 -1.31993508e+00\n",
      " -1.78903630e+00 -1.36547675e+00 -1.34453407e+00 -9.79126189e-01\n",
      "  1.97393124e+00  3.28020823e-01  1.46409970e+00 -1.90370000e+00\n",
      " -1.59346194e+00 -1.88803948e+00 -1.19742208e+00 -1.22739363e+00\n",
      " -1.25991551e+00 -1.39543029e+00 -5.57128094e-01 -1.66166801e+00\n",
      "  2.39846380e+00 -1.24265187e+00 -1.86322438e+00 -2.15211206e+00\n",
      " -1.42092311e+00 -1.09213557e+00 -1.62376021e+00 -1.27789817e+00\n",
      " -1.69721681e+00 -1.58908693e+00 -1.50367519e+00 -1.73752651e+00]\n",
      "[0 0 0 0 1 0 0 0 0 0 0 0 0 0 1 0 0 0 0 0 0 0 0 0 0 0 0 0 0 0 0 0 0 0 0 0 1\n",
      " 0 0 1 0 1 1 0 0 0 0 0 0 0 0 0 0 0 0 0 0 0 0 0 1 0 0 0 0 0 0 0 0 0 0 0 0 1\n",
      " 0 0 0 0 0 0 0 0 0 0 0 0 0 0 1 0 0 0 0 0 0 0 0 0 0 0 0 0 0 0 0 0 0 0 0 0 0\n",
      " 0 0 0 0 0 0 0 0 0 0 0 0 0 0 0 0 0 0 0 0 0 0 0 0 0 0 0 0 0 0 0 1 0 0 0 0 0\n",
      " 0 0 0 0 0 0 0 0 0 0 0 0 0 0 0 0 1 0 1 0 0 1 0 0 0 0 0 0 0 0 0 0 0 0 0 0 0\n",
      " 0 0 0 0 1 0 0 0 0 0 0 0 0 0 0 0 0 0 0 0 0 0 0 0 0 0 0 1 0 0 0 0 0 0 0 0 1\n",
      " 0 0 0 0 0 0 0 0 0 0 0 0 0 0 1 0 0 0 0 0 0 0 0 0 0 0 0 0 0 0 0 0 0 0 0 0 0\n",
      " 0 0 0 0 0 0 0 0 0 0 0 0 0 0 0 1 0 0 0 0 0 0 0 0 0 0 0 0 0 0 0 0 0 0 0 0 0\n",
      " 0 0 0 0 0 0 0 0 0 0 0 0 0 1 0 0 0 0 0 0 0 0 0 0 0 0 0 0 0 0 0 0 0 0 0 0 1\n",
      " 0 0 0 0 0 0 0 0 0 0 0 0 0 0 0 0 0 0 0 0 0 0 0 0 0 0 0 0 0 0 0 0 0 0 0 0 0\n",
      " 0 0 0 0 0 0 0 0 0 0 0 0 0 0 0 0 0 0 0 0 0 0 0 0 0 0 0 0 0 0 0 0 0 0 0 0 0\n",
      " 0 0 0 0 0 0 0 0 0 0 0 0 0 0 0 0 0 0 1 0 0 0 0 0 0 0 0 0 0 0 0 0 0 0 0 0 0\n",
      " 1 0 1 0 0 1 0 0 0 0 0 1 0 0 1 0 0 0 0 0 0 0 0 1 0 0 0 0 0 0 0 0 0 0 0 0 0\n",
      " 0 0 0 0 0 0 0 1 0 0 0 0 0 0 0 0 0 0 0 0 0 0 0 0 0 0 0 0 0 0 0 0 0 0 0 0 0\n",
      " 0 0 0 0 0 0 0 0 0 0 0 0 0 0 0 0 0 0 0 0 0 0 0 0 0 0 0 0 0 0 0 0 0 0 1 0 0\n",
      " 0 0 1 0 0 0 1 0 0 0 0 0 0 0 0 0 0 0 0 0 0 0 0 1 0 0 0 0 0 0 0 0 0 0 0 0 0\n",
      " 0 0 0 0 0 0 0 0 0 0 0 0 0 0 0 0 0 0 0 1 0 0 1 0 0 0 1 0 0 0 0 0 0 0 0 0 0\n",
      " 0 0 0 0 0 0 0 0 0 0 0 0 0 0 0 0 0 0 0 0 0 0 0 0 0 0 0 0 0 0 0 0 0 0 0 0 0\n",
      " 0 0 0 0 0 0 0 0 0 0 0 1 0 0 0 1 0 0 0 0 0 0 0 0 0 0 0 0 0 0 0 0 0 0 0 0 0\n",
      " 0 0 0 0 0 0 0 0 0 0 0 0 1 0 0 0 0 0 0 0 0 0 0 0 1 0 0 0 1 0 0 1 0 0 0 0 0\n",
      " 0 0 0 0 0 0 0 0 0 0 0 0 0 0 0 0 0 0 0 0 0 0 0 0 0 0 1 0 0 0 0 0 0 0 0 0 0\n",
      " 0 0 0 0 0 0 0 0 0 0 0 0 0 0 0 0 0 0 0 0 0 0 0 0 0 0 0 0 0 0 0 0 0 0 0 0 0\n",
      " 0 0 0 0 0 0 0 1 0 0 0 0 0 1 0 0 0 0 0 0 0 0 0 0 0 0 0 1 0 0 0 1 0 0 0 0 0\n",
      " 0 0 0 0 0 0 0 0 0 0 0 0 0 0 0 0 0 0 0 0 0 0 0 0 0 0 0 0 0 0 0 0 0 0 0 0 0\n",
      " 0 0 0 0 1 0 0 0 1 0 0 0 0 0 0 0 0 0 0 0 0 0 0 0 0 0 0 0 0 1 0 0 0 0 0 0 0\n",
      " 0 0 0 0 0 0 0 0 0 0 0 0 0 0 0 0 0 0 0 0 0 0 0 0 0 0 0 0 0 0 0 0 0 0 0 0 0\n",
      " 0 0 0 0 0 0 0 0 0 0 0 0 0 0 1 1 1 0 0 0 0 0 0 0 0 0 1 0 0 0 0 0 0 0 0 0 0\n",
      " 0]\n"
     ]
    }
   ],
   "source": [
    "score1 = model1.decision_function(X_test)\n",
    "print(score1)\n",
    "print(yhat1)"
   ]
  },
  {
   "cell_type": "markdown",
   "metadata": {},
   "source": [
    "We can conclude that the decision function output represents whether a predicted sample for x_test by the classifier lies to the right side or left side of hyperplane and also how far from it. It also tells us how confidently each value predicted for x_test by the classifier is Positive ( large-magnitude Positive value ) or Negative ( large-magnitude Negative value)"
   ]
  },
  {
   "cell_type": "code",
   "execution_count": 49,
   "metadata": {},
   "outputs": [
    {
     "name": "stdout",
     "output_type": "stream",
     "text": [
      "[[1. 0.]\n",
      " [1. 0.]\n",
      " [1. 0.]\n",
      " [0. 1.]\n",
      " [0. 1.]\n",
      " [0. 1.]]\n",
      "[0 0 0 0 1 1 1 0 0 0 0 0 0 0 1 0 0 0 0 0 0 0 1 0 0 0 0 0 0 0 0 0 0 0 0 0 0\n",
      " 0 1 1 0 1 1 1 0 1 0 0 0 0 0 0 0 0 0 0 0 0 0 0 1 0 0 0 0 0 0 0 0 0 0 0 0 0\n",
      " 0 1 0 0 1 0 1 0 0 0 0 0 1 0 1 0 0 0 0 0 0 0 0 0 0 0 0 0 0 0 0 0 0 0 1 0 0\n",
      " 0 0 0 0 0 0 0 0 0 1 0 0 0 1 1 0 0 0 0 0 0 0 0 0 0 0 0 1 0 0 0 1 0 0 0 0 0\n",
      " 0 0 0 0 0 0 0 1 0 0 1 0 0 0 1 0 0 0 1 0 1 0 0 0 0 0 0 1 1 0 0 0 0 1 0 1 0\n",
      " 1 0 0 0 1 0 0 0 0 0 0 0 0 0 0 0 0 0 0 0 0 0 0 0 1 0 0 1 0 0 0 0 0 0 0 0 1\n",
      " 0 0 0 0 0 0 0 0 0 0 0 0 0 0 1 0 1 0 0 0 1 0 0 1 1 0 1 0 0 0 0 0 0 0 0 0 0\n",
      " 0 0 0 1 0 0 0 0 0 1 1 0 0 0 0 1 0 0 0 0 0 0 0 0 0 0 0 0 0 0 0 0 0 0 0 0 0\n",
      " 0 1 0 1 0 0 0 0 0 0 1 0 0 1 0 0 0 1 0 1 0 1 1 0 0 0 0 0 0 0 0 0 0 0 0 0 1\n",
      " 0 1 0 0 0 0 1 1 0 0 1 0 0 0 0 0 0 1 0 0 0 0 0 0 0 0 1 0 0 0 0 0 0 0 0 0 1\n",
      " 0 0 0 1 0 0 0 0 0 0 0 0 0 0 0 0 0 0 0 0 1 0 1 0 0 1 1 0 1 0 0 0 0 0 0 0 1\n",
      " 0 0 0 1 0 0 0 0 0 0 0 0 0 0 0 0 0 0 0 0 0 0 1 0 0 0 0 0 0 0 0 1 0 0 0 0 0\n",
      " 0 0 1 0 0 1 0 0 0 0 0 0 0 0 1 0 0 0 0 0 0 0 0 1 0 1 0 0 0 0 0 0 0 0 0 0 0\n",
      " 0 0 0 0 0 0 0 0 0 0 0 0 0 0 0 0 0 0 0 0 0 0 0 0 0 1 0 1 0 0 0 0 0 1 0 0 0\n",
      " 0 0 0 0 1 1 0 0 0 0 0 0 0 1 0 0 0 0 0 0 0 0 0 0 1 0 0 0 0 1 0 0 0 1 1 0 0\n",
      " 1 0 1 0 0 0 0 0 0 0 0 0 1 0 1 0 0 0 0 0 0 1 0 1 0 0 0 0 0 0 0 0 0 0 0 0 0\n",
      " 0 0 0 0 0 0 0 0 0 1 0 1 0 0 1 0 0 0 0 1 1 0 1 0 0 0 1 0 0 0 0 0 1 0 1 0 0\n",
      " 0 0 1 0 0 0 0 1 1 0 0 0 0 0 0 0 1 0 0 0 0 0 0 0 1 0 0 0 1 0 0 0 0 0 1 0 1\n",
      " 1 0 0 0 0 0 1 1 0 0 0 1 0 0 0 0 0 0 0 0 0 0 0 0 0 0 1 0 1 0 1 0 0 1 0 0 0\n",
      " 0 0 1 1 0 0 0 0 0 0 0 0 1 0 0 0 1 0 0 0 0 0 0 0 1 0 0 0 1 0 0 1 1 0 0 0 0\n",
      " 0 0 0 0 0 0 1 0 0 0 0 0 0 0 0 1 0 0 0 0 0 0 0 1 0 0 0 0 1 0 1 1 0 0 0 0 1\n",
      " 0 0 1 1 0 0 0 0 0 0 0 0 0 0 0 0 0 1 0 0 0 1 0 0 0 1 0 0 0 0 0 0 0 1 0 0 0\n",
      " 0 1 0 1 0 0 0 1 0 0 0 0 0 1 0 0 0 1 0 0 0 0 0 0 0 0 0 1 1 0 0 1 0 1 0 0 0\n",
      " 0 1 0 1 0 0 0 1 0 0 0 0 0 0 0 0 0 1 0 0 0 0 0 0 0 0 0 0 0 0 0 0 0 0 0 0 0\n",
      " 0 0 0 0 1 0 0 0 1 0 0 0 1 0 1 0 0 0 1 0 0 1 0 0 0 0 0 0 0 1 1 0 0 0 0 0 0\n",
      " 0 0 0 0 0 0 0 0 0 1 0 0 0 0 1 0 0 0 0 0 0 0 0 1 0 0 0 1 0 0 0 0 0 0 1 0 0\n",
      " 0 0 0 0 0 0 0 0 0 0 0 0 1 0 1 1 1 0 0 0 0 0 0 0 0 0 0 0 0 0 0 0 0 0 0 0 0\n",
      " 0]\n"
     ]
    }
   ],
   "source": [
    "score2 = model2.predict_proba(X_test)\n",
    "print(score2[1:7])\n",
    "print(yhat2)"
   ]
  },
  {
   "cell_type": "code",
   "execution_count": 50,
   "metadata": {},
   "outputs": [
    {
     "name": "stdout",
     "output_type": "stream",
     "text": [
      "[[0.90909091 0.09090909]\n",
      " [1.         0.        ]\n",
      " [0.81818182 0.18181818]\n",
      " [0.27272727 0.72727273]\n",
      " [0.90909091 0.09090909]\n",
      " [1.         0.        ]]\n",
      "[0 0 0 0 1 0 0 0 0 0 0 0 0 0 1 1 0 0 0 0 0 0 0 0 0 0 0 0 0 0 0 0 0 0 0 0 0\n",
      " 0 0 1 0 0 1 0 0 0 0 0 0 0 0 0 0 0 0 0 0 0 0 0 1 0 0 0 0 0 0 0 0 0 0 0 0 0\n",
      " 0 0 0 0 0 0 0 0 0 0 0 0 0 0 0 0 0 0 0 0 0 0 0 0 0 0 0 0 0 0 0 0 0 0 0 0 0\n",
      " 0 0 0 0 0 0 0 0 0 0 0 0 0 0 0 0 0 0 0 0 0 0 0 0 0 0 0 0 0 0 0 0 0 0 0 0 0\n",
      " 0 0 0 0 0 0 0 0 0 0 0 0 0 0 0 0 1 0 1 0 0 0 0 0 0 0 0 0 0 0 0 0 0 0 0 0 0\n",
      " 0 0 0 0 1 0 0 0 0 0 0 0 0 0 0 0 0 0 0 0 0 0 0 0 0 0 0 0 0 0 0 0 0 0 0 0 1\n",
      " 0 0 1 0 0 0 0 0 0 0 0 0 0 0 1 0 0 0 0 0 0 0 0 0 0 0 0 0 0 0 0 0 0 0 0 0 0\n",
      " 0 0 0 0 0 0 0 0 0 0 0 0 0 0 0 0 0 0 0 0 0 0 0 0 0 0 0 0 0 0 0 0 0 0 0 0 0\n",
      " 0 0 0 0 0 0 0 0 0 0 0 0 0 1 0 0 0 0 0 0 0 0 0 0 0 0 0 0 0 0 0 0 1 0 0 0 0\n",
      " 0 0 0 0 0 0 0 0 0 0 0 0 0 0 0 0 0 0 0 0 0 0 0 0 0 0 0 0 0 0 0 0 0 0 0 0 0\n",
      " 0 0 0 0 0 0 0 0 0 0 0 0 0 0 0 0 0 0 0 0 1 0 0 0 0 0 0 0 0 0 0 0 0 0 0 0 0\n",
      " 0 0 0 0 0 0 0 0 0 0 0 0 0 0 0 0 0 0 0 0 0 0 0 0 0 0 0 0 0 0 0 0 0 0 0 0 0\n",
      " 0 0 1 0 0 1 0 0 0 0 0 1 0 0 0 0 0 0 0 0 0 0 0 1 0 0 0 1 0 0 0 0 0 0 0 0 0\n",
      " 0 0 0 0 0 0 0 0 0 0 0 0 0 0 0 0 0 0 0 0 0 0 0 0 0 1 0 0 0 0 0 0 0 0 0 0 0\n",
      " 0 0 0 0 0 0 0 0 0 0 0 0 0 0 0 0 0 0 0 0 0 0 0 0 0 0 0 0 0 0 0 0 0 0 1 0 0\n",
      " 0 0 1 0 0 0 0 0 0 0 0 0 0 0 0 0 0 0 0 0 0 0 0 1 0 0 0 0 0 0 0 0 0 0 0 0 0\n",
      " 0 0 0 0 0 0 0 0 0 0 0 0 0 0 0 0 0 0 0 1 0 0 0 0 0 0 1 0 0 0 0 0 0 0 0 0 0\n",
      " 0 0 0 0 0 0 0 0 0 1 0 0 0 0 0 0 0 0 0 0 0 0 0 0 0 0 0 0 0 0 0 0 0 0 0 0 0\n",
      " 0 0 0 0 0 0 0 0 0 0 0 1 0 0 0 0 0 0 0 0 0 0 0 0 0 0 0 0 0 0 0 0 0 0 0 0 0\n",
      " 0 0 0 0 0 0 0 0 0 0 0 0 1 0 0 0 0 0 0 0 0 0 0 0 0 0 0 0 0 0 0 1 0 0 0 0 0\n",
      " 0 0 0 0 0 0 0 0 0 0 0 0 0 0 0 0 0 0 0 0 0 0 0 0 0 0 0 0 0 0 0 0 0 0 0 0 0\n",
      " 0 0 0 0 0 0 0 0 0 0 0 0 0 0 0 0 0 0 0 0 0 0 0 0 0 0 0 0 0 0 0 0 0 0 0 0 0\n",
      " 0 0 0 0 0 0 0 0 0 0 0 0 0 1 0 0 0 0 0 0 0 0 0 0 0 0 0 1 1 0 0 1 0 0 0 0 0\n",
      " 0 0 0 0 0 0 0 0 0 0 0 0 0 0 0 0 0 0 0 0 0 0 0 0 0 0 0 0 0 0 0 0 0 0 0 0 0\n",
      " 0 0 0 0 1 0 0 0 0 0 0 0 0 0 0 0 0 0 0 0 0 0 0 0 0 0 0 0 0 1 0 0 0 0 0 0 0\n",
      " 0 0 0 0 0 0 0 0 0 0 0 0 0 0 0 0 0 0 0 0 0 0 0 0 0 0 0 0 0 0 0 0 0 0 0 0 0\n",
      " 0 0 0 0 0 0 0 0 0 0 0 0 0 0 1 0 1 0 0 0 0 0 0 0 0 0 1 0 0 0 0 0 0 0 0 0 0\n",
      " 0]\n"
     ]
    }
   ],
   "source": [
    "score3 = model3.predict_proba(X_test)\n",
    "print(score3[1:7])\n",
    "print(yhat3)"
   ]
  },
  {
   "cell_type": "code",
   "execution_count": 51,
   "metadata": {},
   "outputs": [
    {
     "name": "stdout",
     "output_type": "stream",
     "text": [
      "[[0.9777936  0.0222064 ]\n",
      " [0.79377345 0.20622655]\n",
      " [0.8463381  0.1536619 ]\n",
      " [0.7456534  0.2543466 ]\n",
      " [0.70816326 0.29183674]\n",
      " [0.84299633 0.15700367]]\n",
      "[0 0 0 0 0 0 0 0 0 0 0 0 0 0 0 0 0 0 0 0 0 0 0 0 0 0 0 0 0 0 0 0 0 0 0 0 0\n",
      " 0 0 0 0 0 0 0 0 0 0 0 0 0 0 0 0 0 0 0 0 0 0 1 0 0 0 0 0 0 0 0 0 0 0 0 0 1\n",
      " 0 1 0 0 0 0 0 0 0 0 0 0 0 0 0 0 0 0 0 0 0 1 0 0 0 0 0 0 0 0 0 0 0 0 0 0 0\n",
      " 0 0 0 0 0 0 0 0 0 0 0 0 0 0 0 0 0 0 0 0 0 0 0 0 0 0 0 0 0 0 0 0 0 0 0 0 0\n",
      " 0 0 0 0 0 0 0 0 0 0 1 0 0 0 0 0 0 0 0 0 0 0 0 0 0 0 0 0 0 0 0 0 0 0 0 0 0\n",
      " 0 0 0 0 1 0 0 0 0 0 0 0 0 0 0 0 0 0 0 0 0 0 0 0 0 0 0 0 0 0 0 0 0 0 0 0 0\n",
      " 0 0 0 0 0 0 0 0 0 0 0 0 0 0 0 0 0 0 0 0 0 0 0 0 1 0 0 0 0 0 0 0 0 0 0 0 0\n",
      " 0 0 0 0 0 0 0 0 0 0 0 0 0 0 0 0 0 0 0 0 0 0 0 0 0 0 0 0 0 0 0 0 0 0 0 0 0\n",
      " 0 1 0 0 0 0 0 0 0 0 0 0 0 0 0 0 0 0 0 0 0 0 0 0 0 0 0 0 0 0 0 0 0 0 0 0 0\n",
      " 0 0 0 0 0 0 0 0 0 0 0 0 0 0 0 0 0 0 0 0 0 0 0 0 1 0 0 0 0 0 0 0 0 0 0 0 0\n",
      " 0 0 0 0 0 0 0 0 0 0 0 0 0 0 0 0 0 0 0 0 0 0 0 0 0 0 0 0 0 0 0 0 0 0 0 0 0\n",
      " 0 0 0 1 0 0 0 0 0 0 0 0 0 0 0 0 0 0 0 0 0 0 0 0 0 0 0 0 0 0 0 0 0 0 0 0 0\n",
      " 1 0 0 0 0 0 0 0 0 0 0 0 0 0 1 0 0 0 0 1 0 0 0 0 0 0 0 0 0 0 0 0 0 0 0 0 0\n",
      " 0 0 0 0 0 0 0 0 0 0 0 0 0 0 0 0 0 1 0 0 0 0 0 0 0 0 0 0 0 0 0 0 0 0 0 0 0\n",
      " 0 0 0 0 0 0 0 0 0 0 0 0 0 0 0 0 0 0 0 0 0 0 0 0 0 0 0 0 0 0 0 0 0 0 1 0 0\n",
      " 0 0 0 0 0 0 0 0 0 0 0 0 1 0 0 0 0 0 0 0 0 0 0 0 0 0 0 0 0 0 0 0 0 0 0 0 0\n",
      " 0 0 0 0 0 0 0 0 0 0 0 0 0 0 0 0 0 0 0 0 0 0 0 0 0 0 0 0 0 0 0 0 0 0 0 0 1\n",
      " 0 0 0 0 1 0 0 0 0 1 0 0 0 0 0 0 0 0 0 0 0 0 0 0 0 0 0 0 0 0 0 0 0 0 0 0 0\n",
      " 0 0 0 0 0 0 0 0 0 0 0 0 0 0 0 0 0 0 0 0 0 0 0 0 0 0 0 0 0 0 0 0 0 0 0 0 0\n",
      " 0 0 0 0 0 0 0 0 0 0 0 0 0 0 0 0 0 0 0 0 0 0 0 0 0 0 0 0 0 0 0 0 0 0 0 0 0\n",
      " 0 0 0 0 0 0 0 0 0 1 0 0 0 0 0 0 0 0 0 0 0 0 0 0 0 0 0 0 0 0 0 0 0 0 0 0 0\n",
      " 0 0 0 1 0 0 0 0 0 0 0 0 0 0 0 0 0 0 0 0 0 0 0 0 0 0 0 0 0 0 0 0 0 0 0 0 0\n",
      " 0 0 0 0 0 0 0 0 0 0 0 0 0 0 0 0 0 0 0 0 0 0 0 0 0 0 0 0 0 0 0 0 0 0 0 0 0\n",
      " 0 0 0 0 0 0 0 0 0 0 0 0 0 0 0 0 0 0 0 0 0 0 0 0 0 0 0 0 0 0 0 0 0 0 0 0 0\n",
      " 0 0 0 0 0 0 0 0 0 0 0 0 0 0 0 0 0 0 0 0 0 0 0 0 0 0 0 0 0 0 0 0 0 0 0 0 0\n",
      " 0 0 0 0 0 0 0 0 0 0 0 0 0 0 0 0 0 0 0 0 0 0 0 0 0 0 0 0 0 0 0 0 0 0 0 0 0\n",
      " 0 0 0 0 0 0 0 0 0 0 0 0 0 0 0 0 0 0 0 0 0 0 0 0 0 0 0 0 0 0 0 0 0 0 0 0 0\n",
      " 0]\n"
     ]
    }
   ],
   "source": [
    "score4 = model4.predict_proba(X_test)\n",
    "print(score4[1:7])\n",
    "print(yhat4)"
   ]
  },
  {
   "cell_type": "code",
   "execution_count": 43,
   "metadata": {},
   "outputs": [
    {
     "name": "stdout",
     "output_type": "stream",
     "text": [
      "[0 0 0 0 1 0 0 0 0 0 0 0 0 0 1 0 0 0 0 0 0 0 0 0 0 0 0 0 0 0 0 0 0 0 0 0 1\n",
      " 0 0 1 0 1 1 0 0 0 0 0 0 0 0 0 0 0 0 0 0 0 0 0 1 0 0 0 0 0 0 0 0 0 0 0 0 1\n",
      " 0 0 0 0 0 0 0 0 0 0 0 0 0 0 1 0 0 0 0 0 0 0 0 0 0 0 0 0 0 0 0 0 0 0 0 0 0\n",
      " 0 0 0 0 0 0 0 0 0 0 0 0 0 0 0 0 0 0 0 0 0 0 0 0 0 0 0 0 0 0 0 1 0 0 0 0 0\n",
      " 0 0 0 0 0 0 0 0 0 0 0 0 0 0 0 0 1 0 1 0 0 1 0 0 0 0 0 0 0 0 0 0 0 0 0 0 0\n",
      " 0 0 0 0 1 0 0 0 0 0 0 0 0 0 0 0 0 0 0 0 0 0 0 0 0 0 0 1 0 0 0 0 0 0 0 0 1\n",
      " 0 0 0 0 0 0 0 0 0 0 0 0 0 0 1 0 0 0 0 0 0 0 0 0 0 0 0 0 0 0 0 0 0 0 0 0 0\n",
      " 0 0 0 0 0 0 0 0 0 0 0 0 0 0 0 1 0 0 0 0 0 0 0 0 0 0 0 0 0 0 0 0 0 0 0 0 0\n",
      " 0 0 0 0 0 0 0 0 0 0 0 0 0 1 0 0 0 0 0 0 0 0 0 0 0 0 0 0 0 0 0 0 0 0 0 0 1\n",
      " 0 0 0 0 0 0 0 0 0 0 0 0 0 0 0 0 0 0 0 0 0 0 0 0 0 0 0 0 0 0 0 0 0 0 0 0 0\n",
      " 0 0 0 0 0 0 0 0 0 0 0 0 0 0 0 0 0 0 0 0 0 0 0 0 0 0 0 0 0 0 0 0 0 0 0 0 0\n",
      " 0 0 0 0 0 0 0 0 0 0 0 0 0 0 0 0 0 0 1 0 0 0 0 0 0 0 0 0 0 0 0 0 0 0 0 0 0\n",
      " 1 0 1 0 0 1 0 0 0 0 0 1 0 0 1 0 0 0 0 0 0 0 0 1 0 0 0 0 0 0 0 0 0 0 0 0 0\n",
      " 0 0 0 0 0 0 0 1 0 0 0 0 0 0 0 0 0 0 0 0 0 0 0 0 0 0 0 0 0 0 0 0 0 0 0 0 0\n",
      " 0 0 0 0 0 0 0 0 0 0 0 0 0 0 0 0 0 0 0 0 0 0 0 0 0 0 0 0 0 0 0 0 0 0 1 0 0\n",
      " 0 0 1 0 0 0 1 0 0 0 0 0 0 0 0 0 0 0 0 0 0 0 0 1 0 0 0 0 0 0 0 0 0 0 0 0 0\n",
      " 0 0 0 0 0 0 0 0 0 0 0 0 0 0 0 0 0 0 0 1 0 0 1 0 0 0 1 0 0 0 0 0 0 0 0 0 0\n",
      " 0 0 0 0 0 0 0 0 0 0 0 0 0 0 0 0 0 0 0 0 0 0 0 0 0 0 0 0 0 0 0 0 0 0 0 0 0\n",
      " 0 0 0 0 0 0 0 0 0 0 0 1 0 0 0 1 0 0 0 0 0 0 0 0 0 0 0 0 0 0 0 0 0 0 0 0 0\n",
      " 0 0 0 0 0 0 0 0 0 0 0 0 1 0 0 0 0 0 0 0 0 0 0 0 1 0 0 0 1 0 0 1 0 0 0 0 0\n",
      " 0 0 0 0 0 0 0 0 0 0 0 0 0 0 0 0 0 0 0 0 0 0 0 0 0 0 1 0 0 0 0 0 0 0 0 0 0\n",
      " 0 0 0 0 0 0 0 0 0 0 0 0 0 0 0 0 0 0 0 0 0 0 0 0 0 0 0 0 0 0 0 0 0 0 0 0 0\n",
      " 0 0 0 0 0 0 0 1 0 0 0 0 0 1 0 0 0 0 0 0 0 0 0 0 0 0 0 1 0 0 0 1 0 0 0 0 0\n",
      " 0 0 0 0 0 0 0 0 0 0 0 0 0 0 0 0 0 0 0 0 0 0 0 0 0 0 0 0 0 0 0 0 0 0 0 0 0\n",
      " 0 0 0 0 1 0 0 0 1 0 0 0 0 0 0 0 0 0 0 0 0 0 0 0 0 0 0 0 0 1 0 0 0 0 0 0 0\n",
      " 0 0 0 0 0 0 0 0 0 0 0 0 0 0 0 0 0 0 0 0 0 0 0 0 0 0 0 0 0 0 0 0 0 0 0 0 0\n",
      " 0 0 0 0 0 0 0 0 0 0 0 0 0 0 1 1 1 0 0 0 0 0 0 0 0 0 1 0 0 0 0 0 0 0 0 0 0\n",
      " 0]\n",
      "[0 0 0 0 1 1 1 0 0 0 0 0 0 0 1 0 0 0 0 0 0 0 1 0 0 0 0 0 0 0 0 0 0 0 0 0 0\n",
      " 0 1 1 0 1 1 1 0 1 0 0 0 0 0 0 0 0 0 0 0 0 0 0 1 0 0 0 0 0 0 0 0 0 0 0 0 0\n",
      " 0 1 0 0 1 0 1 0 0 0 0 0 1 0 1 0 0 0 0 0 0 0 0 0 0 0 0 0 0 0 0 0 0 0 1 0 0\n",
      " 0 0 0 0 0 0 0 0 0 1 0 0 0 1 1 0 0 0 0 0 0 0 0 0 0 0 0 1 0 0 0 1 0 0 0 0 0\n",
      " 0 0 0 0 0 0 0 1 0 0 1 0 0 0 1 0 0 0 1 0 1 0 0 0 0 0 0 1 1 0 0 0 0 1 0 1 0\n",
      " 1 0 0 0 1 0 0 0 0 0 0 0 0 0 0 0 0 0 0 0 0 0 0 0 1 0 0 1 0 0 0 0 0 0 0 0 1\n",
      " 0 0 0 0 0 0 0 0 0 0 0 0 0 0 1 0 1 0 0 0 1 0 0 1 1 0 1 0 0 0 0 0 0 0 0 0 0\n",
      " 0 0 0 1 0 0 0 0 0 1 1 0 0 0 0 1 0 0 0 0 0 0 0 0 0 0 0 0 0 0 0 0 0 0 0 0 0\n",
      " 0 1 0 1 0 0 0 0 0 0 1 0 0 1 0 0 0 1 0 1 0 1 1 0 0 0 0 0 0 0 0 0 0 0 0 0 1\n",
      " 0 1 0 0 0 0 1 1 0 0 1 0 0 0 0 0 0 1 0 0 0 0 0 0 0 0 1 0 0 0 0 0 0 0 0 0 1\n",
      " 0 0 0 1 0 0 0 0 0 0 0 0 0 0 0 0 0 0 0 0 1 0 1 0 0 1 1 0 1 0 0 0 0 0 0 0 1\n",
      " 0 0 0 1 0 0 0 0 0 0 0 0 0 0 0 0 0 0 0 0 0 0 1 0 0 0 0 0 0 0 0 1 0 0 0 0 0\n",
      " 0 0 1 0 0 1 0 0 0 0 0 0 0 0 1 0 0 0 0 0 0 0 0 1 0 1 0 0 0 0 0 0 0 0 0 0 0\n",
      " 0 0 0 0 0 0 0 0 0 0 0 0 0 0 0 0 0 0 0 0 0 0 0 0 0 1 0 1 0 0 0 0 0 1 0 0 0\n",
      " 0 0 0 0 1 1 0 0 0 0 0 0 0 1 0 0 0 0 0 0 0 0 0 0 1 0 0 0 0 1 0 0 0 1 1 0 0\n",
      " 1 0 1 0 0 0 0 0 0 0 0 0 1 0 1 0 0 0 0 0 0 1 0 1 0 0 0 0 0 0 0 0 0 0 0 0 0\n",
      " 0 0 0 0 0 0 0 0 0 1 0 1 0 0 1 0 0 0 0 1 1 0 1 0 0 0 1 0 0 0 0 0 1 0 1 0 0\n",
      " 0 0 1 0 0 0 0 1 1 0 0 0 0 0 0 0 1 0 0 0 0 0 0 0 1 0 0 0 1 0 0 0 0 0 1 0 1\n",
      " 1 0 0 0 0 0 1 1 0 0 0 1 0 0 0 0 0 0 0 0 0 0 0 0 0 0 1 0 1 0 1 0 0 1 0 0 0\n",
      " 0 0 1 1 0 0 0 0 0 0 0 0 1 0 0 0 1 0 0 0 0 0 0 0 1 0 0 0 1 0 0 1 1 0 0 0 0\n",
      " 0 0 0 0 0 0 1 0 0 0 0 0 0 0 0 1 0 0 0 0 0 0 0 1 0 0 0 0 1 0 1 1 0 0 0 0 1\n",
      " 0 0 1 1 0 0 0 0 0 0 0 0 0 0 0 0 0 1 0 0 0 1 0 0 0 1 0 0 0 0 0 0 0 1 0 0 0\n",
      " 0 1 0 1 0 0 0 1 0 0 0 0 0 1 0 0 0 1 0 0 0 0 0 0 0 0 0 1 1 0 0 1 0 1 0 0 0\n",
      " 0 1 0 1 0 0 0 1 0 0 0 0 0 0 0 0 0 1 0 0 0 0 0 0 0 0 0 0 0 0 0 0 0 0 0 0 0\n",
      " 0 0 0 0 1 0 0 0 1 0 0 0 1 0 1 0 0 0 1 0 0 1 0 0 0 0 0 0 0 1 1 0 0 0 0 0 0\n",
      " 0 0 0 0 0 0 0 0 0 1 0 0 0 0 1 0 0 0 0 0 0 0 0 1 0 0 0 1 0 0 0 0 0 0 1 0 0\n",
      " 0 0 0 0 0 0 0 0 0 0 0 0 1 0 1 1 1 0 0 0 0 0 0 0 0 0 0 0 0 0 0 0 0 0 0 0 0\n",
      " 0]\n",
      "[0 0 0 0 1 0 0 0 0 0 0 0 0 0 1 1 0 0 0 0 0 0 0 0 0 0 0 0 0 0 0 0 0 0 0 0 0\n",
      " 0 0 1 0 0 1 0 0 0 0 0 0 0 0 0 0 0 0 0 0 0 0 0 1 0 0 0 0 0 0 0 0 0 0 0 0 0\n",
      " 0 0 0 0 0 0 0 0 0 0 0 0 0 0 0 0 0 0 0 0 0 0 0 0 0 0 0 0 0 0 0 0 0 0 0 0 0\n",
      " 0 0 0 0 0 0 0 0 0 0 0 0 0 0 0 0 0 0 0 0 0 0 0 0 0 0 0 0 0 0 0 0 0 0 0 0 0\n",
      " 0 0 0 0 0 0 0 0 0 0 0 0 0 0 0 0 1 0 1 0 0 0 0 0 0 0 0 0 0 0 0 0 0 0 0 0 0\n",
      " 0 0 0 0 1 0 0 0 0 0 0 0 0 0 0 0 0 0 0 0 0 0 0 0 0 0 0 0 0 0 0 0 0 0 0 0 1\n",
      " 0 0 1 0 0 0 0 0 0 0 0 0 0 0 1 0 0 0 0 0 0 0 0 0 0 0 0 0 0 0 0 0 0 0 0 0 0\n",
      " 0 0 0 0 0 0 0 0 0 0 0 0 0 0 0 0 0 0 0 0 0 0 0 0 0 0 0 0 0 0 0 0 0 0 0 0 0\n",
      " 0 0 0 0 0 0 0 0 0 0 0 0 0 1 0 0 0 0 0 0 0 0 0 0 0 0 0 0 0 0 0 0 1 0 0 0 0\n",
      " 0 0 0 0 0 0 0 0 0 0 0 0 0 0 0 0 0 0 0 0 0 0 0 0 0 0 0 0 0 0 0 0 0 0 0 0 0\n",
      " 0 0 0 0 0 0 0 0 0 0 0 0 0 0 0 0 0 0 0 0 1 0 0 0 0 0 0 0 0 0 0 0 0 0 0 0 0\n",
      " 0 0 0 0 0 0 0 0 0 0 0 0 0 0 0 0 0 0 0 0 0 0 0 0 0 0 0 0 0 0 0 0 0 0 0 0 0\n",
      " 0 0 1 0 0 1 0 0 0 0 0 1 0 0 0 0 0 0 0 0 0 0 0 1 0 0 0 1 0 0 0 0 0 0 0 0 0\n",
      " 0 0 0 0 0 0 0 0 0 0 0 0 0 0 0 0 0 0 0 0 0 0 0 0 0 1 0 0 0 0 0 0 0 0 0 0 0\n",
      " 0 0 0 0 0 0 0 0 0 0 0 0 0 0 0 0 0 0 0 0 0 0 0 0 0 0 0 0 0 0 0 0 0 0 1 0 0\n",
      " 0 0 1 0 0 0 0 0 0 0 0 0 0 0 0 0 0 0 0 0 0 0 0 1 0 0 0 0 0 0 0 0 0 0 0 0 0\n",
      " 0 0 0 0 0 0 0 0 0 0 0 0 0 0 0 0 0 0 0 1 0 0 0 0 0 0 1 0 0 0 0 0 0 0 0 0 0\n",
      " 0 0 0 0 0 0 0 0 0 1 0 0 0 0 0 0 0 0 0 0 0 0 0 0 0 0 0 0 0 0 0 0 0 0 0 0 0\n",
      " 0 0 0 0 0 0 0 0 0 0 0 1 0 0 0 0 0 0 0 0 0 0 0 0 0 0 0 0 0 0 0 0 0 0 0 0 0\n",
      " 0 0 0 0 0 0 0 0 0 0 0 0 1 0 0 0 0 0 0 0 0 0 0 0 0 0 0 0 0 0 0 1 0 0 0 0 0\n",
      " 0 0 0 0 0 0 0 0 0 0 0 0 0 0 0 0 0 0 0 0 0 0 0 0 0 0 0 0 0 0 0 0 0 0 0 0 0\n",
      " 0 0 0 0 0 0 0 0 0 0 0 0 0 0 0 0 0 0 0 0 0 0 0 0 0 0 0 0 0 0 0 0 0 0 0 0 0\n",
      " 0 0 0 0 0 0 0 0 0 0 0 0 0 1 0 0 0 0 0 0 0 0 0 0 0 0 0 1 1 0 0 1 0 0 0 0 0\n",
      " 0 0 0 0 0 0 0 0 0 0 0 0 0 0 0 0 0 0 0 0 0 0 0 0 0 0 0 0 0 0 0 0 0 0 0 0 0\n",
      " 0 0 0 0 1 0 0 0 0 0 0 0 0 0 0 0 0 0 0 0 0 0 0 0 0 0 0 0 0 1 0 0 0 0 0 0 0\n",
      " 0 0 0 0 0 0 0 0 0 0 0 0 0 0 0 0 0 0 0 0 0 0 0 0 0 0 0 0 0 0 0 0 0 0 0 0 0\n",
      " 0 0 0 0 0 0 0 0 0 0 0 0 0 0 1 0 1 0 0 0 0 0 0 0 0 0 1 0 0 0 0 0 0 0 0 0 0\n",
      " 0]\n",
      "[0 0 0 0 0 0 0 0 0 0 0 0 0 0 0 0 0 0 0 0 0 0 0 0 0 0 0 0 0 0 0 0 0 0 0 0 0\n",
      " 0 0 0 0 0 0 0 0 0 0 0 0 0 0 0 0 0 0 0 0 0 0 1 0 0 0 0 0 0 0 0 0 0 0 0 0 1\n",
      " 0 1 0 0 0 0 0 0 0 0 0 0 0 0 0 0 0 0 0 0 0 1 0 0 0 0 0 0 0 0 0 0 0 0 0 0 0\n",
      " 0 0 0 0 0 0 0 0 0 0 0 0 0 0 0 0 0 0 0 0 0 0 0 0 0 0 0 0 0 0 0 0 0 0 0 0 0\n",
      " 0 0 0 0 0 0 0 0 0 0 1 0 0 0 0 0 0 0 0 0 0 0 0 0 0 0 0 0 0 0 0 0 0 0 0 0 0\n",
      " 0 0 0 0 1 0 0 0 0 0 0 0 0 0 0 0 0 0 0 0 0 0 0 0 0 0 0 0 0 0 0 0 0 0 0 0 0\n",
      " 0 0 0 0 0 0 0 0 0 0 0 0 0 0 0 0 0 0 0 0 0 0 0 0 1 0 0 0 0 0 0 0 0 0 0 0 0\n",
      " 0 0 0 0 0 0 0 0 0 0 0 0 0 0 0 0 0 0 0 0 0 0 0 0 0 0 0 0 0 0 0 0 0 0 0 0 0\n",
      " 0 1 0 0 0 0 0 0 0 0 0 0 0 0 0 0 0 0 0 0 0 0 0 0 0 0 0 0 0 0 0 0 0 0 0 0 0\n",
      " 0 0 0 0 0 0 0 0 0 0 0 0 0 0 0 0 0 0 0 0 0 0 0 0 1 0 0 0 0 0 0 0 0 0 0 0 0\n",
      " 0 0 0 0 0 0 0 0 0 0 0 0 0 0 0 0 0 0 0 0 0 0 0 0 0 0 0 0 0 0 0 0 0 0 0 0 0\n",
      " 0 0 0 1 0 0 0 0 0 0 0 0 0 0 0 0 0 0 0 0 0 0 0 0 0 0 0 0 0 0 0 0 0 0 0 0 0\n",
      " 1 0 0 0 0 0 0 0 0 0 0 0 0 0 1 0 0 0 0 1 0 0 0 0 0 0 0 0 0 0 0 0 0 0 0 0 0\n",
      " 0 0 0 0 0 0 0 0 0 0 0 0 0 0 0 0 0 1 0 0 0 0 0 0 0 0 0 0 0 0 0 0 0 0 0 0 0\n",
      " 0 0 0 0 0 0 0 0 0 0 0 0 0 0 0 0 0 0 0 0 0 0 0 0 0 0 0 0 0 0 0 0 0 0 1 0 0\n",
      " 0 0 0 0 0 0 0 0 0 0 0 0 1 0 0 0 0 0 0 0 0 0 0 0 0 0 0 0 0 0 0 0 0 0 0 0 0\n",
      " 0 0 0 0 0 0 0 0 0 0 0 0 0 0 0 0 0 0 0 0 0 0 0 0 0 0 0 0 0 0 0 0 0 0 0 0 1\n",
      " 0 0 0 0 1 0 0 0 0 1 0 0 0 0 0 0 0 0 0 0 0 0 0 0 0 0 0 0 0 0 0 0 0 0 0 0 0\n",
      " 0 0 0 0 0 0 0 0 0 0 0 0 0 0 0 0 0 0 0 0 0 0 0 0 0 0 0 0 0 0 0 0 0 0 0 0 0\n",
      " 0 0 0 0 0 0 0 0 0 0 0 0 0 0 0 0 0 0 0 0 0 0 0 0 0 0 0 0 0 0 0 0 0 0 0 0 0\n",
      " 0 0 0 0 0 0 0 0 0 1 0 0 0 0 0 0 0 0 0 0 0 0 0 0 0 0 0 0 0 0 0 0 0 0 0 0 0\n",
      " 0 0 0 1 0 0 0 0 0 0 0 0 0 0 0 0 0 0 0 0 0 0 0 0 0 0 0 0 0 0 0 0 0 0 0 0 0\n",
      " 0 0 0 0 0 0 0 0 0 0 0 0 0 0 0 0 0 0 0 0 0 0 0 0 0 0 0 0 0 0 0 0 0 0 0 0 0\n",
      " 0 0 0 0 0 0 0 0 0 0 0 0 0 0 0 0 0 0 0 0 0 0 0 0 0 0 0 0 0 0 0 0 0 0 0 0 0\n",
      " 0 0 0 0 0 0 0 0 0 0 0 0 0 0 0 0 0 0 0 0 0 0 0 0 0 0 0 0 0 0 0 0 0 0 0 0 0\n",
      " 0 0 0 0 0 0 0 0 0 0 0 0 0 0 0 0 0 0 0 0 0 0 0 0 0 0 0 0 0 0 0 0 0 0 0 0 0\n",
      " 0 0 0 0 0 0 0 0 0 0 0 0 0 0 0 0 0 0 0 0 0 0 0 0 0 0 0 0 0 0 0 0 0 0 0 0 0\n",
      " 0]\n"
     ]
    }
   ],
   "source": [
    "\n",
    "print(yhat2)\n",
    "print(yhat3)\n",
    "print(yhat4)"
   ]
  },
  {
   "cell_type": "code",
   "execution_count": 34,
   "metadata": {},
   "outputs": [],
   "source": [
    "from sklearn.preprocessing import StandardScaler\n",
    "\n",
    "scaler = StandardScaler()\n",
    "X_train_scaled=scaler.fit_transform(X_train)\n",
    "    \n",
    "model1.fit(X_train_scaled,y_train)\n",
    "model2.fit(X_train_scaled,y_train)\n",
    "model3.fit(X_train_scaled,y_train)\n",
    "model4.fit(X_train_scaled,y_train)\n",
    "\n",
    "\n",
    "yhat1_scaled = model1.predict(X_test)\n",
    "yhat2_scaled = model2.predict(X_test)\n",
    "yhat3_scaled = model3.predict(X_test)\n",
    "yhat4_scaled = model4.predict(X_test)"
   ]
  },
  {
   "cell_type": "code",
   "execution_count": 38,
   "metadata": {},
   "outputs": [
    {
     "name": "stdout",
     "output_type": "stream",
     "text": [
      "[-0.89224136 -0.91577423 -0.91491795 -0.89169013 -0.91364272 -0.8892205\n",
      " -0.89520461 -0.90058941 -0.90825035 -0.89043498 -0.90097654 -0.91003674\n",
      " -0.89899292 -0.90246921 -0.8879494  -0.89556277 -0.91053972 -0.90814373\n",
      " -0.89609825 -0.89646431 -0.9068256  -0.89391089 -0.9146675  -0.89755143\n",
      " -0.91312525 -0.90817982 -0.91427544 -0.89802062 -0.91216677 -0.90255245\n",
      " -0.89919875 -0.91740344 -0.88482489 -0.90864051 -0.91407689 -0.89022035\n",
      " -0.89711842 -0.91470425 -0.92274111 -0.89323594 -0.9083724  -0.90309252\n",
      " -0.89849584 -0.90330058 -0.91053419 -0.91355282 -0.89000878 -0.88893196\n",
      " -0.90511324 -0.90021074 -0.90731765 -0.89490916 -0.89998831 -0.91220888\n",
      " -0.90129129 -0.90946252 -0.9115186  -0.91713352 -0.89864703 -0.89624955\n",
      " -0.90217107 -0.920149   -0.91342662 -0.90289675 -0.90190787 -0.89852118\n",
      " -0.91091098 -0.90130655 -0.91598317 -0.89816157 -0.91594411 -0.91771131\n",
      " -0.90330813 -0.9025104  -0.90888999 -0.89787739 -0.89598311 -0.90769448\n",
      " -0.906494   -0.91664477 -0.89634589 -0.90081016 -0.89350329 -0.89107894\n",
      " -0.89337549 -0.89354294 -0.9072605  -0.89461535 -0.91414968 -0.90980002\n",
      " -0.90988339 -0.9033638  -0.91330804 -0.90452181 -0.90118339 -0.90346997\n",
      " -0.9152634  -0.89433463 -0.89653169 -0.90938343 -0.90097776 -0.89863978\n",
      " -0.90322488 -0.89777014 -0.91225366 -0.91317798 -0.89100122 -0.89242936\n",
      " -0.89793137 -0.90846389 -0.91254431 -0.91747511 -0.89172882 -0.91267973\n",
      " -0.91247054 -0.91285945 -0.91363744 -0.913942   -0.91364189 -0.88911867\n",
      " -0.90235211 -0.90898808 -0.90409486 -0.90682419 -0.90173367 -0.91674049\n",
      " -0.9207543  -0.89992514 -0.91830051 -0.90022444 -0.9115268  -0.9113811\n",
      " -0.8988495  -0.88664364 -0.90535122 -0.89982244 -0.88692382 -0.90514659\n",
      " -0.90234442 -0.88659327 -0.90808485 -0.89904306 -0.89470812 -0.89539812\n",
      " -0.89663556 -0.90450485 -0.90763252 -0.90915637 -0.90962866 -0.90073034\n",
      " -0.89538233 -0.90262247 -0.9045315  -0.88911191 -0.90391884 -0.90103108\n",
      " -0.88747926 -0.91071015 -0.90539805 -0.91732725 -0.90530113 -0.91631094\n",
      " -0.90508991 -0.90067256 -0.89790125 -0.91708944 -0.89951569 -0.91312107\n",
      " -0.8963397  -0.90634917 -0.90091043 -0.90689945 -0.89237063 -0.92024954\n",
      " -0.91373166 -0.91063531 -0.89968805 -0.90109203 -0.8996471  -0.89777165\n",
      " -0.89811825 -0.91830129 -0.90885956 -0.9113729  -0.91750476 -0.91000676\n",
      " -0.91004991 -0.9108389  -0.90922897 -0.9064503  -0.90423296 -0.90364839\n",
      " -0.90574342 -0.9089769  -0.9165235  -0.89795319 -0.91563167 -0.91826452\n",
      " -0.89431096 -0.90488112 -0.90104497 -0.90125225 -0.91933983 -0.91980275\n",
      " -0.913198   -0.91371359 -0.90596085 -0.89240584 -0.91156038 -0.90494823\n",
      " -0.9091908  -0.90704909 -0.89901954 -0.90378295 -0.90618576 -0.89612467\n",
      " -0.90522738 -0.91371266 -0.90783764 -0.91540609 -0.89340654 -0.89871941\n",
      " -0.90392378 -0.91168322 -0.91292293 -0.90312061 -0.91333426 -0.89618382\n",
      " -0.90743562 -0.91637472 -0.91633437 -0.89986873 -0.91114619 -0.90973297\n",
      " -0.89543083 -0.91034355 -0.90332828 -0.89305048 -0.9026604  -0.91604016\n",
      " -0.90482716 -0.90719392 -0.91490045 -0.9081394  -0.9134338  -0.89637585\n",
      " -0.88875182 -0.90965426 -0.88289144 -0.9126455  -0.91869913 -0.91003118\n",
      " -0.91413261 -0.90236376 -0.91732853 -0.91781269 -0.91519943 -0.89353709\n",
      " -0.90777096 -0.91480357 -0.89490361 -0.91432235 -0.90764431 -0.91849603\n",
      " -0.91846568 -0.90994122 -0.89647303 -0.90445632 -0.89800399 -0.91570325\n",
      " -0.89637462 -0.91433327 -0.91418763 -0.89645243 -0.91335073 -0.91554045\n",
      " -0.91406846 -0.90173616 -0.88512938 -0.89348008 -0.91829685 -0.90189538\n",
      " -0.90742659 -0.90986266 -0.91630163 -0.88289085 -0.91889726 -0.92432054\n",
      " -0.89678353 -0.89649825 -0.90931015 -0.91424971 -0.89930253 -0.9112923\n",
      " -0.89788583 -0.89241676 -0.88273365 -0.91317365 -0.91529547 -0.9146017\n",
      " -0.89127849 -0.90408015 -0.90717467 -0.91416189 -0.91383356 -0.91819594\n",
      " -0.91730849 -0.90820622 -0.91844761 -0.89574489 -0.89590299 -0.89564758\n",
      " -0.91666113 -0.89916781 -0.91730355 -0.89165465 -0.89993328 -0.91225525\n",
      " -0.90813188 -0.92180574 -0.91198481 -0.90803341 -0.90560673 -0.89605115\n",
      " -0.90634289 -0.90202808 -0.91357989 -0.90643983 -0.9078791  -0.91493919\n",
      " -0.89502318 -0.91714494 -0.90377947 -0.91622386 -0.89998358 -0.92344633\n",
      " -0.90717311 -0.91673935 -0.90993886 -0.90627304 -0.91428219 -0.89916373\n",
      " -0.8947028  -0.90457119 -0.91508755 -0.91588329 -0.90098163 -0.91140405\n",
      " -0.90590148 -0.9152061  -0.9080651  -0.9026888  -0.89023708 -0.90692571\n",
      " -0.89428094 -0.89718996 -0.91230083 -0.89164558 -0.90610437 -0.91699228\n",
      " -0.89901081 -0.91103471 -0.89205426 -0.8977048  -0.90449097 -0.90678923\n",
      " -0.88257029 -0.90521397 -0.90342353 -0.91395313 -0.9138796  -0.89884287\n",
      " -0.89782174 -0.91542169 -0.90437994 -0.90186823 -0.90267455 -0.91218065\n",
      " -0.90758608 -0.89451736 -0.89196168 -0.89915718 -0.89644955 -0.90804155\n",
      " -0.91554968 -0.90262798 -0.91512501 -0.91328673 -0.90125283 -0.91869435\n",
      " -0.91274563 -0.90251023 -0.9120514  -0.9099147  -0.89298954 -0.90799517\n",
      " -0.90967213 -0.90344488 -0.9183999  -0.891416   -0.90996061 -0.8934394\n",
      " -0.89395027 -0.90255802 -0.9092799  -0.90466732 -0.89365407 -0.89355834\n",
      " -0.90553788 -0.89952496 -0.89675876 -0.89936717 -0.90841527 -0.91686051\n",
      " -0.88786788 -0.91722462 -0.90772882 -0.90176684 -0.89885315 -0.89240068\n",
      " -0.89466943 -0.91435682 -0.90440998 -0.89958676 -0.91003677 -0.92570987\n",
      " -0.9153781  -0.89106138 -0.9136888  -0.90387268 -0.89869307 -0.90866905\n",
      " -0.89294082 -0.91789307 -0.90567693 -0.90374928 -0.90288048 -0.89585604\n",
      " -0.89973574 -0.90892983 -0.91489274 -0.89922261 -0.87925648 -0.90388994\n",
      " -0.89801445 -0.90359554 -0.91752494 -0.9017916  -0.90057504 -0.89966163\n",
      " -0.89982504 -0.89531025 -0.89636566 -0.90066448 -0.90967873 -0.91345654\n",
      " -0.9187232  -0.90397161 -0.89842026 -0.90326005 -0.89847922 -0.91069729\n",
      " -0.90567713 -0.9063124  -0.91272738 -0.89202002 -0.89965076 -0.8970987\n",
      " -0.89946608 -0.92227373 -0.92192993 -0.90316256 -0.90023969 -0.89357061\n",
      " -0.91002155 -0.90423385 -0.91583669 -0.90240773 -0.90896453 -0.89197294\n",
      " -0.89580247 -0.91540202 -0.9168341  -0.91130131 -0.90211542 -0.92030006\n",
      " -0.91269412 -0.9167747  -0.90576192 -0.91324513 -0.91328226 -0.89038438\n",
      " -0.89949317 -0.90770947 -0.91625241 -0.91505558 -0.90086396 -0.89900774\n",
      " -0.90749851 -0.89291805 -0.90651769 -0.90650343 -0.9003446  -0.90105811\n",
      " -0.90738206 -0.89418213 -0.89244789 -0.8867292  -0.89930059 -0.90288771\n",
      " -0.91453521 -0.90632552 -0.90715496 -0.90387962 -0.90162696 -0.90475422\n",
      " -0.89963869 -0.90231984 -0.90389074 -0.89367307 -0.89705124 -0.9097829\n",
      " -0.90192927 -0.91352683 -0.90164516 -0.9008772  -0.88843524 -0.91670011\n",
      " -0.89835941 -0.89618264 -0.918067   -0.90388683 -0.91873519 -0.88556282\n",
      " -0.90028517 -0.8931806  -0.90808689 -0.8960702  -0.90800607 -0.91671522\n",
      " -0.91521853 -0.89901289 -0.90553839 -0.90841487 -0.89119984 -0.90192127\n",
      " -0.90460738 -0.90776491 -0.89977613 -0.9056604  -0.90095894 -0.92526475\n",
      " -0.89979221 -0.90203495 -0.91169635 -0.91045778 -0.89977033 -0.89917534\n",
      " -0.89860521 -0.9134578  -0.91410778 -0.89818229 -0.90003959 -0.90442573\n",
      " -0.90833427 -0.90404009 -0.91987994 -0.89995531 -0.91928201 -0.89196387\n",
      " -0.91310577 -0.91206636 -0.88841398 -0.91226964 -0.89281482 -0.90907332\n",
      " -0.89903814 -0.91696878 -0.91655862 -0.8928869  -0.88808491 -0.89721778\n",
      " -0.90171386 -0.91747375 -0.90002845 -0.91029282 -0.91387647 -0.91442034\n",
      " -0.89109451 -0.90885555 -0.90357065 -0.89335455 -0.90039974 -0.88286017\n",
      " -0.88843718 -0.90497575 -0.90196799 -0.88988966 -0.88882301 -0.91780061\n",
      " -0.9029913  -0.9047628  -0.91506023 -0.91233677 -0.90076863 -0.90317431\n",
      " -0.89769985 -0.90284488 -0.91265023 -0.89242124 -0.91322288 -0.90519097\n",
      " -0.91943878 -0.90872351 -0.91091638 -0.90389028 -0.9016644  -0.90830302\n",
      " -0.89124229 -0.91237288 -0.89436972 -0.8929156  -0.90465531 -0.8981162\n",
      " -0.8869597  -0.89446153 -0.9060265  -0.90268621 -0.90056083 -0.90444568\n",
      " -0.91719191 -0.91715058 -0.90305617 -0.88758205 -0.90599397 -0.91380116\n",
      " -0.91241039 -0.91233096 -0.89201014 -0.89914569 -0.88932944 -0.9146769\n",
      " -0.89809058 -0.91427846 -0.91229112 -0.91580652 -0.89133171 -0.91300174\n",
      " -0.89572313 -0.90830269 -0.91195538 -0.91463667 -0.89165942 -0.91226167\n",
      " -0.91423563 -0.8979551  -0.91468324 -0.88513836 -0.8958293  -0.90483296\n",
      " -0.90364363 -0.90154993 -0.90266194 -0.90377213 -0.90407123 -0.91163008\n",
      " -0.88532883 -0.89224266 -0.89379597 -0.890549   -0.89248163 -0.91383561\n",
      " -0.89601786 -0.91478546 -0.89967994 -0.89755113 -0.91140664 -0.88454131\n",
      " -0.90341362 -0.90784531 -0.90085511 -0.91224713 -0.89607607 -0.91319887\n",
      " -0.88625074 -0.8988052  -0.89407541 -0.89845159 -0.89406206 -0.91164851\n",
      " -0.90692529 -0.89977582 -0.90283979 -0.89028115 -0.89823028 -0.90393045\n",
      " -0.90848206 -0.90800532 -0.90725972 -0.91591735 -0.9170755  -0.90958296\n",
      " -0.89806521 -0.89659608 -0.90942019 -0.91430973 -0.88780674 -0.91136837\n",
      " -0.8933193  -0.90498771 -0.891042   -0.90212093 -0.89102903 -0.90820609\n",
      " -0.89965838 -0.90020889 -0.89540242 -0.92358449 -0.91603351 -0.91600495\n",
      " -0.89667115 -0.89538279 -0.9173803  -0.89394644 -0.90368166 -0.89552709\n",
      " -0.91341078 -0.90641461 -0.90995479 -0.89876822 -0.90431273 -0.9072982\n",
      " -0.90124413 -0.91253755 -0.90043645 -0.91432781 -0.90684821 -0.90236988\n",
      " -0.90052623 -0.90850315 -0.90600524 -0.90496948 -0.90852449 -0.91488649\n",
      " -0.91641174 -0.89489908 -0.88694042 -0.90762758 -0.89358751 -0.88973706\n",
      " -0.89242648 -0.90246487 -0.90535316 -0.90151954 -0.90701468 -0.91982341\n",
      " -0.9101569  -0.915575   -0.90154676 -0.89426751 -0.88817893 -0.91074837\n",
      " -0.91990581 -0.89812653 -0.89239245 -0.8947605  -0.91241204 -0.89970483\n",
      " -0.92012618 -0.8894581  -0.89290261 -0.9169242  -0.91188813 -0.91148397\n",
      " -0.91403754 -0.89807351 -0.90364227 -0.89155149 -0.91378826 -0.9166984\n",
      " -0.90389945 -0.91333344 -0.91778479 -0.90287636 -0.90732139 -0.91057685\n",
      " -0.91977872 -0.90080763 -0.89782389 -0.91522514 -0.89708938 -0.90699111\n",
      " -0.90832811 -0.90975595 -0.89919286 -0.89430576 -0.89279047 -0.89547777\n",
      " -0.9145479  -0.89579945 -0.91343854 -0.90166144 -0.89943477 -0.91543768\n",
      " -0.89573118 -0.91196881 -0.91569889 -0.90352054 -0.91415429 -0.90099156\n",
      " -0.90695831 -0.92083052 -0.9128322  -0.89533735 -0.89078171 -0.89364562\n",
      " -0.90111666 -0.89608367 -0.90375155 -0.91752125 -0.91479233 -0.89139484\n",
      " -0.90075631 -0.91439971 -0.91981149 -0.90647117 -0.89418606 -0.91833421\n",
      " -0.90354725 -0.90326119 -0.90118735 -0.91415544 -0.88828959 -0.91072572\n",
      " -0.91100397 -0.91579369 -0.91932367 -0.90519808 -0.90859724 -0.89966023\n",
      " -0.89964336 -0.91475785 -0.90076464 -0.90679549 -0.89975548 -0.90273656\n",
      " -0.89916691 -0.91067086 -0.90244599 -0.90404605 -0.91324028 -0.90537042\n",
      " -0.91789262 -0.90181983 -0.89921501 -0.91101248 -0.92103673 -0.89221022\n",
      " -0.88386988 -0.89940831 -0.9047374  -0.90246024 -0.91745102 -0.9074264\n",
      " -0.918385   -0.90442993 -0.89223175 -0.91100422 -0.91491615 -0.9145053\n",
      " -0.90177023 -0.89666489 -0.88188593 -0.9059072  -0.91376583 -0.9072132\n",
      " -0.89837224 -0.89727895 -0.91178198 -0.91270684 -0.90626904 -0.90145114\n",
      " -0.91646456 -0.89159164 -0.89448988 -0.88947271 -0.89571915 -0.90734987\n",
      " -0.91479131 -0.91665464 -0.91655796 -0.91188886 -0.9146001  -0.90016786\n",
      " -0.90452281 -0.913335   -0.91431715 -0.89803663 -0.91089882 -0.91374407\n",
      " -0.90076274 -0.90609674 -0.89379398 -0.90572339 -0.88339131 -0.91412213\n",
      " -0.91132168 -0.90368206 -0.91361617 -0.89991056 -0.91666266 -0.89499232\n",
      " -0.89798226 -0.90630559 -0.91202056 -0.89568017 -0.89679949 -0.89174455\n",
      " -0.91432401 -0.91414614 -0.90634088 -0.91527804 -0.91684447 -0.90407453\n",
      " -0.91205499 -0.89900932 -0.89893477 -0.90759149 -0.91303607 -0.89700228\n",
      " -0.91131353 -0.89846418 -0.90460036 -0.91031722 -0.91333022 -0.9138961\n",
      " -0.90329908 -0.90076744 -0.88828205 -0.8998354  -0.90739617 -0.91981886\n",
      " -0.90939458 -0.89675626 -0.91606933 -0.88947518 -0.91595764 -0.90759027\n",
      " -0.9101504  -0.90369107 -0.91953315 -0.89992115 -0.8988071  -0.90640533\n",
      " -0.91654185 -0.89624001 -0.90010913 -0.90138915 -0.90122359 -0.89478181\n",
      " -0.90411585 -0.90900451 -0.90419598 -0.89179539 -0.9172212  -0.90614827\n",
      " -0.89641278 -0.91675481 -0.91332335 -0.9004666  -0.90557742 -0.9162036\n",
      " -0.9158635  -0.92122425 -0.92153297 -0.89625844 -0.89424223 -0.90132144\n",
      " -0.9009138  -0.91170582 -0.89878988 -0.88850076 -0.91208026 -0.91879751\n",
      " -0.91450713 -0.8926377  -0.90529851 -0.9050571  -0.90622435 -0.9092275\n",
      " -0.92170559 -0.90679046 -0.90637298 -0.90292392 -0.89094912 -0.91588913\n",
      " -0.9171263  -0.91476652 -0.90923555 -0.90076862]\n",
      "[0 0 0 0 0 0 0 0 0 0 0 0 0 0 0 0 0 0 0 0 0 0 0 0 0 0 0 0 0 0 0 0 0 0 0 0 0\n",
      " 0 0 0 0 0 0 0 0 0 0 0 0 0 0 0 0 0 0 0 0 0 0 0 0 0 0 0 0 0 0 0 0 0 0 0 0 0\n",
      " 0 0 0 0 0 0 0 0 0 0 0 0 0 0 0 0 0 0 0 0 0 0 0 0 0 0 0 0 0 0 0 0 0 0 0 0 0\n",
      " 0 0 0 0 0 0 0 0 0 0 0 0 0 0 0 0 0 0 0 0 0 0 0 0 0 0 0 0 0 0 0 0 0 0 0 0 0\n",
      " 0 0 0 0 0 0 0 0 0 0 0 0 0 0 0 0 0 0 0 0 0 0 0 0 0 0 0 0 0 0 0 0 0 0 0 0 0\n",
      " 0 0 0 0 0 0 0 0 0 0 0 0 0 0 0 0 0 0 0 0 0 0 0 0 0 0 0 0 0 0 0 0 0 0 0 0 0\n",
      " 0 0 0 0 0 0 0 0 0 0 0 0 0 0 0 0 0 0 0 0 0 0 0 0 0 0 0 0 0 0 0 0 0 0 0 0 0\n",
      " 0 0 0 0 0 0 0 0 0 0 0 0 0 0 0 0 0 0 0 0 0 0 0 0 0 0 0 0 0 0 0 0 0 0 0 0 0\n",
      " 0 0 0 0 0 0 0 0 0 0 0 0 0 0 0 0 0 0 0 0 0 0 0 0 0 0 0 0 0 0 0 0 0 0 0 0 0\n",
      " 0 0 0 0 0 0 0 0 0 0 0 0 0 0 0 0 0 0 0 0 0 0 0 0 0 0 0 0 0 0 0 0 0 0 0 0 0\n",
      " 0 0 0 0 0 0 0 0 0 0 0 0 0 0 0 0 0 0 0 0 0 0 0 0 0 0 0 0 0 0 0 0 0 0 0 0 0\n",
      " 0 0 0 0 0 0 0 0 0 0 0 0 0 0 0 0 0 0 0 0 0 0 0 0 0 0 0 0 0 0 0 0 0 0 0 0 0\n",
      " 0 0 0 0 0 0 0 0 0 0 0 0 0 0 0 0 0 0 0 0 0 0 0 0 0 0 0 0 0 0 0 0 0 0 0 0 0\n",
      " 0 0 0 0 0 0 0 0 0 0 0 0 0 0 0 0 0 0 0 0 0 0 0 0 0 0 0 0 0 0 0 0 0 0 0 0 0\n",
      " 0 0 0 0 0 0 0 0 0 0 0 0 0 0 0 0 0 0 0 0 0 0 0 0 0 0 0 0 0 0 0 0 0 0 0 0 0\n",
      " 0 0 0 0 0 0 0 0 0 0 0 0 0 0 0 0 0 0 0 0 0 0 0 0 0 0 0 0 0 0 0 0 0 0 0 0 0\n",
      " 0 0 0 0 0 0 0 0 0 0 0 0 0 0 0 0 0 0 0 0 0 0 0 0 0 0 0 0 0 0 0 0 0 0 0 0 0\n",
      " 0 0 0 0 0 0 0 0 0 0 0 0 0 0 0 0 0 0 0 0 0 0 0 0 0 0 0 0 0 0 0 0 0 0 0 0 0\n",
      " 0 0 0 0 0 0 0 0 0 0 0 0 0 0 0 0 0 0 0 0 0 0 0 0 0 0 0 0 0 0 0 0 0 0 0 0 0\n",
      " 0 0 0 0 0 0 0 0 0 0 0 0 0 0 0 0 0 0 0 0 0 0 0 0 0 0 0 0 0 0 0 0 0 0 0 0 0\n",
      " 0 0 0 0 0 0 0 0 0 0 0 0 0 0 0 0 0 0 0 0 0 0 0 0 0 0 0 0 0 0 0 0 0 0 0 0 0\n",
      " 0 0 0 0 0 0 0 0 0 0 0 0 0 0 0 0 0 0 0 0 0 0 0 0 0 0 0 0 0 0 0 0 0 0 0 0 0\n",
      " 0 0 0 0 0 0 0 0 0 0 0 0 0 0 0 0 0 0 0 0 0 0 0 0 0 0 0 0 0 0 0 0 0 0 0 0 0\n",
      " 0 0 0 0 0 0 0 0 0 0 0 0 0 0 0 0 0 0 0 0 0 0 0 0 0 0 0 0 0 0 0 0 0 0 0 0 0\n",
      " 0 0 0 0 0 0 0 0 0 0 0 0 0 0 0 0 0 0 0 0 0 0 0 0 0 0 0 0 0 0 0 0 0 0 0 0 0\n",
      " 0 0 0 0 0 0 0 0 0 0 0 0 0 0 0 0 0 0 0 0 0 0 0 0 0 0 0 0 0 0 0 0 0 0 0 0 0\n",
      " 0 0 0 0 0 0 0 0 0 0 0 0 0 0 0 0 0 0 0 0 0 0 0 0 0 0 0 0 0 0 0 0 0 0 0 0 0\n",
      " 0]\n"
     ]
    }
   ],
   "source": [
    "from sklearn import metrics\n",
    "score1 = model1.decision_function(X_test)\n",
    "print(score1)\n",
    "print(yhat1_scaled)\n",
    "\n",
    "#score1 = model1.predict_proba(X_test)\n",
    "\n",
    "##decision_function\n",
    "\n",
    "#fpr1, tpr1,_ = metrics.roc_curve(y_test,score1[:,1])\n",
    "#fig = plt.figure()\n",
    "#plt.plot(fpr1,tpr1)\n",
    "#plt.plot(np.array(FPR)[idx],np.array(TPR)[idx],'r')"
   ]
  },
  {
   "cell_type": "markdown",
   "metadata": {},
   "source": [
    "## 3. The price of confusion matrix"
   ]
  },
  {
   "cell_type": "markdown",
   "metadata": {},
   "source": [
    "Let us work out a little more the problem of `Churn?`, once again. Consider the following simple business case:\n",
    "\n",
    "We want to lauch a retention marketing campaing:\n",
    "\n",
    "+ Each member in the subscription service gives us a profit of $100$ units.\n",
    "+ The cost of the campaign is $\\alpha=10$ units per advertisement.\n",
    "+ Supose that we only recover $\\beta = 10\\%$ of the people that received the campaign and were going to churn.\n",
    "+ We are going to use a classifier to select the targets of the campaign.\n",
    "\n",
    "\n"
   ]
  },
  {
   "cell_type": "markdown",
   "metadata": {},
   "source": [
    "\n",
    "<div class = \"alert alert-success\" style = \"border-radius:10px\">\n",
    "**EXERCISE/QUESTION:** Model the former problem in terms of the elements of the confusion matrix. \n",
    "</div>"
   ]
  },
  {
   "cell_type": "markdown",
   "metadata": {},
   "source": [
    "\n",
    "<div class = \"alert alert-success\" style = \"border-radius:10px\">\n",
    "**EXERCISE:** Train a `LogisticRegressor` and check if the campaign is profitable. Use `test_size = 0.3` and `random_state = 31`.\n",
    "</div>"
   ]
  },
  {
   "cell_type": "code",
   "execution_count": null,
   "metadata": {},
   "outputs": [],
   "source": [
    "#Your code"
   ]
  },
  {
   "cell_type": "code",
   "execution_count": null,
   "metadata": {},
   "outputs": [],
   "source": [
    "TP = c[1,1]\n",
    "FP = c[1,0]\n",
    "TN = c[0,0]\n",
    "FN = c[0,1]"
   ]
  },
  {
   "cell_type": "code",
   "execution_count": null,
   "metadata": {},
   "outputs": [],
   "source": [
    "FN_hand = np.sum(np.logical_and(yhat!=y_test,yhat==0.))\n",
    "\n",
    "print (FN,FN_hand)"
   ]
  },
  {
   "cell_type": "code",
   "execution_count": null,
   "metadata": {},
   "outputs": [],
   "source": [
    "alpha = 10\n",
    "beta = 0.1\n",
    "balance=-alpha*(TP+FP)+beta*TP*100\n",
    "print (balance)"
   ]
  },
  {
   "cell_type": "markdown",
   "metadata": {},
   "source": [
    "The campaign is not sustainable as it is."
   ]
  },
  {
   "cell_type": "markdown",
   "metadata": {},
   "source": [
    "Let us choose an operating point, so that we maximize the validation profit."
   ]
  },
  {
   "cell_type": "code",
   "execution_count": null,
   "metadata": {},
   "outputs": [],
   "source": [
    "score = lr.predict_proba(X_test)\n",
    "\n",
    "idx=np.argsort(score[:,1])\n",
    "\n",
    "balance_old = -1e10 \n",
    "max_idx  = 0\n",
    "b = []\n",
    "for i in idx:\n",
    "    yhat = np.where(score[:,1]>score[i,1],1.0,0.0)\n",
    "    TP = np.sum(np.logical_and(yhat==y_test,yhat==1.))\n",
    "    TN = np.sum(np.logical_and(yhat==y_test,yhat==0.))\n",
    "    FP = np.sum(np.logical_and(yhat!=y_test,yhat==1.))\n",
    "    FN = np.sum(np.logical_and(yhat!=y_test,yhat==0.))\n",
    "    alpha = 10\n",
    "    beta = 0.1\n",
    "    balance=-alpha*(TP+FP)+beta*TP*100\n",
    "    \n",
    "    b.append(balance)\n",
    "    \n",
    "    if balance > balance_old:\n",
    "        max_idx = i\n",
    "        balance_old = balance\n",
    "    \n",
    "plt.plot(np.array(b))\n",
    "score[max_idx,1]\n",
    "yhat = np.where(score[:,1]>score[max_idx,1],1.0,0.0)\n",
    "print (metrics.confusion_matrix(yhat,y_test))"
   ]
  },
  {
   "cell_type": "markdown",
   "metadata": {},
   "source": [
    "The operating point indicates it is not worthwhile to consider a campaign with this kind of classifier. But can we do better?"
   ]
  },
  {
   "cell_type": "markdown",
   "metadata": {},
   "source": [
    "## 4. Dealing with unbalanced datasets\n",
    "\n",
    "The greatest problem we are facing is due to the fact we are dealing with unbalanced datasets and the original boundary just depends on that. We can try different things to balance the data set:\n",
    "\n",
    "+ Under sample the majority class.\n",
    "+ Over sample the minority class using some kind of data interpolator, for example SMOTE.\n",
    "+ Use class weights, this is also called cost-sensitive classification.\n",
    "+ Change the performance metric.\n",
    "+ Split the majority class in subclasses, then train as many classifiers as subclasses. Each involving one subclasses and the minority class. Then use an aggregation technique.\n",
    "\n"
   ]
  },
  {
   "cell_type": "markdown",
   "metadata": {},
   "source": [
    "Let us proceed checking some of these techniques. Let us start with resampling the majority class."
   ]
  },
  {
   "cell_type": "code",
   "execution_count": null,
   "metadata": {},
   "outputs": [],
   "source": [
    "np.sum(y_train)/len(y_train)"
   ]
  },
  {
   "cell_type": "code",
   "execution_count": null,
   "metadata": {},
   "outputs": [],
   "source": [
    "pidx = np.where(y_train == 1)[0]\n",
    "nidx = np.where(y_train == 0)[0]\n",
    "\n",
    "print (np.sum(y_train))"
   ]
  },
  {
   "cell_type": "code",
   "execution_count": null,
   "metadata": {},
   "outputs": [],
   "source": [
    "sidx=np.random.randint(0,len(nidx),size=np.sum(y_train))"
   ]
  },
  {
   "cell_type": "code",
   "execution_count": null,
   "metadata": {},
   "outputs": [],
   "source": [
    "sidx.shape"
   ]
  },
  {
   "cell_type": "code",
   "execution_count": null,
   "metadata": {},
   "outputs": [],
   "source": [
    "resampled_idx =[]\n",
    "resampled_idx=np.r_[pidx,sidx]\n",
    "X_resampled=X_train[resampled_idx,:]\n",
    "y_resampled=y_train[resampled_idx]"
   ]
  },
  {
   "cell_type": "code",
   "execution_count": null,
   "metadata": {},
   "outputs": [],
   "source": [
    "resampled_idx"
   ]
  },
  {
   "cell_type": "code",
   "execution_count": null,
   "metadata": {},
   "outputs": [],
   "source": [
    "X_resampled.shape"
   ]
  },
  {
   "cell_type": "code",
   "execution_count": null,
   "metadata": {},
   "outputs": [],
   "source": [
    "from sklearn import linear_model\n",
    "from sklearn import model_selection\n",
    "lr = linear_model.LogisticRegression()\n",
    "\n",
    "lr.fit(X_resampled,y_resampled)\n",
    "\n",
    "yhat = lr.predict(X_test)\n",
    "\n",
    "from sklearn import metrics\n",
    "\n",
    "c = metrics.confusion_matrix(yhat,y_test)\n",
    "\n",
    "\n",
    "print (c)"
   ]
  },
  {
   "cell_type": "code",
   "execution_count": null,
   "metadata": {},
   "outputs": [],
   "source": [
    "score = lr.predict_proba(X_test)\n",
    "\n",
    "idx=np.argsort(score[:,1])\n",
    "\n",
    "balance_old = -1e10 \n",
    "max_idx  = 0\n",
    "b = []\n",
    "for i in idx:\n",
    "    yhat = np.where(score[:,1]>score[i,1],1.0,0.0)\n",
    "    TP = np.sum(np.logical_and(yhat==y_test,yhat==1.))\n",
    "    TN = np.sum(np.logical_and(yhat==y_test,yhat==0.))\n",
    "    FP = np.sum(np.logical_and(yhat!=y_test,yhat==1.))\n",
    "    FN = np.sum(np.logical_and(yhat!=y_test,yhat==0.))\n",
    "    alpha = 10\n",
    "    beta = 0.1\n",
    "    balance=-alpha*(TP+FP)+beta*TP*100\n",
    "    \n",
    "    b.append(balance)\n",
    "    \n",
    "    if balance > balance_old:\n",
    "        max_idx = i\n",
    "        balance_old = balance\n",
    "    \n",
    "plt.plot(np.array(b))\n",
    "score[max_idx,1]\n",
    "yhat = np.where(score[:,1]>score[max_idx,1],1.0,0.0)\n",
    "print (metrics.confusion_matrix(yhat,y_test))"
   ]
  },
  {
   "cell_type": "markdown",
   "metadata": {},
   "source": [
    "Another way of addressing this problem is by assigning weights to the classes. Let us check it."
   ]
  },
  {
   "cell_type": "code",
   "execution_count": null,
   "metadata": {},
   "outputs": [],
   "source": [
    "from sklearn import linear_model\n",
    "lr = linear_model.LogisticRegression(class_weight={1:0.0001})\n",
    "\n",
    "lr.fit(X_train,y_train)\n",
    "\n",
    "yhat = lr.predict(X_test)\n",
    "\n",
    "from sklearn import metrics\n",
    "\n",
    "c = metrics.confusion_matrix(yhat,y_test)\n",
    "\n",
    "\n",
    "print (c)"
   ]
  },
  {
   "cell_type": "code",
   "execution_count": null,
   "metadata": {},
   "outputs": [],
   "source": [
    "score = lr.predict_proba(X_test)\n",
    "\n",
    "idx=np.argsort(score[:,1])\n",
    "\n",
    "balance_old = -1e10 \n",
    "max_idx  = 0\n",
    "b = []\n",
    "for i in idx:\n",
    "    yhat = np.where(score[:,1]>score[i,1],1.0,0.0)\n",
    "    TP = np.sum(np.logical_and(yhat==y_test,yhat==1.))\n",
    "    TN = np.sum(np.logical_and(yhat==y_test,yhat==0.))\n",
    "    FP = np.sum(np.logical_and(yhat!=y_test,yhat==1.))\n",
    "    FN = np.sum(np.logical_and(yhat!=y_test,yhat==0.))\n",
    "    alpha = 10\n",
    "    beta = 0.1\n",
    "    balance=-alpha*(TP+FP)+beta*TP*100\n",
    "    \n",
    "    b.append(balance)\n",
    "    \n",
    "    if balance > balance_old:\n",
    "        max_idx = i\n",
    "        balance_old = balance\n",
    "    \n",
    "plt.plot(np.array(b))\n",
    "score[max_idx,1]\n",
    "yhat = np.where(score[:,1]>score[max_idx,1],1.0,0.0)\n",
    "print (metrics.confusion_matrix(yhat,y_test))"
   ]
  },
  {
   "cell_type": "markdown",
   "metadata": {},
   "source": [
    "Selecting the best weight and model can be troublesome. Let us introduce our last methodology. We may use model selection checking for the parameters. There are different ways for doing so. The most well known is grid search on the parameters."
   ]
  },
  {
   "cell_type": "code",
   "execution_count": null,
   "metadata": {},
   "outputs": [],
   "source": [
    "from sklearn import svm\n",
    "from sklearn import model_selection\n",
    "from sklearn.preprocessing import StandardScaler\n",
    "\n",
    "parameters = {'class_weight' : [{1:0.01},{1:0.1},{1:1},{1:10},{1:100}], 'C':[0.01,0.1,1.,10.,100.]}\n",
    "\n",
    "kf=model_selection.KFold(n_splits=5, shuffle=False, random_state=0)\n",
    "kf.get_n_splits(X)\n",
    "acc = np.zeros((5,))\n",
    "i=0\n",
    "yhat = y.copy()\n",
    "for train_index, test_index in kf.split(X):\n",
    "    X_train, X_test = X[train_index], X[test_index]\n",
    "    y_train, y_test = y[train_index], y[test_index]\n",
    "    scaler = StandardScaler()\n",
    "    X_train = scaler.fit_transform(X_train)\n",
    "    #Standard parameters\n",
    "    clf = svm.LinearSVC()\n",
    "    # We can change the scoring \"average_precision\", \"recall\", \"f1\"\n",
    "    clf = model_selection.GridSearchCV(clf, parameters, scoring='precision_macro')\n",
    "    clf.fit(X_train,y_train.ravel())\n",
    "    X_test = scaler.transform(X_test)\n",
    "    yhat[test_index] = clf.predict(X_test)\n",
    "    #recall, f1, precision\n",
    "    acc[i] = metrics.accuracy_score(yhat[test_index], y_test)\n",
    "    print (str(clf.best_params_))\n",
    "    i=i+1\n",
    "print ('Mean accuracy: '+ str(np.mean(acc)))"
   ]
  },
  {
   "cell_type": "code",
   "execution_count": null,
   "metadata": {},
   "outputs": [],
   "source": [
    "metrics.confusion_matrix(yhat,y)"
   ]
  },
  {
   "cell_type": "code",
   "execution_count": null,
   "metadata": {},
   "outputs": [],
   "source": [
    "print (metrics.classification_report(y,yhat))"
   ]
  },
  {
   "cell_type": "markdown",
   "metadata": {},
   "source": [
    "<div class = \"alert alert-danger\" style = \"border-radius:10px\">**DELIVERABLE: ** Next day we will work on the problem of `Churn?`. Report the best classifier found and their metrics.\n",
    "<p>\n",
    "Some hints\n",
    "<ol>\n",
    "<li>Select one or two classifiers. Some of the most powerful classifiers are `Random Forests`, `SVM with RBF kernel`, and `extreme Gradient Boosting`.</li>\n",
    "<li>Find out what parameters to validate. </li>\n",
    "<li>Grid search and cross validate the problem.</li>\n",
    "</ol>\n",
    "</div>"
   ]
  }
 ],
 "metadata": {
  "kernelspec": {
   "display_name": "Python 3 (ipykernel)",
   "language": "python",
   "name": "python3"
  },
  "language_info": {
   "codemirror_mode": {
    "name": "ipython",
    "version": 3
   },
   "file_extension": ".py",
   "mimetype": "text/x-python",
   "name": "python",
   "nbconvert_exporter": "python",
   "pygments_lexer": "ipython3",
   "version": "3.9.7"
  }
 },
 "nbformat": 4,
 "nbformat_minor": 1
}
