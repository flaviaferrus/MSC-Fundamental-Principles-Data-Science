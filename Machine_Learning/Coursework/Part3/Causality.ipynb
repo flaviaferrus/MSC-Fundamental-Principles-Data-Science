{
 "cells": [
  {
   "cell_type": "markdown",
   "id": "3d4d3b16-e3c2-4b56-a573-0e8450707e82",
   "metadata": {},
   "source": [
    "## Class of 20/12/22\n",
    "\n",
    "We are talking about causality. We are intervining in a model, noting that when we intervene everything becomes independent of the work time. \n",
    "\n",
    "Forks: We are considering \n",
    "\n",
    "Dating example, if we intervine on date in this model, two variables that are initially independent, become correlated, on this case they become in fact negatively correlated. If we have two variables, and then we condition on a middle variable, we are creating a path. Intervining looks like conditioning on another variables, providing a new relation of dependency over the initial variables. \n",
    "\n",
    "In the notebook we can find linear gaussian models too: causal effect and linear models. Consider the graph on the notebook. We want to create a valid adjustment set from C to Y. We have a **causal graph**. We fit a linear regression. From all teh variables we have on the causal graph we could condition on all of them. We choose to condition on the variable $Y$. When we have linear gaussian models, when we condition on linear regression, then tha value of the coefficient on the conditional variable is the causal effect. \n",
    "\n",
    "## Counterfactuals:\n",
    "\n",
    "What woudl have happened if we had $P(y |_{y = stuck, x'= highway, x=river})$. The idea is that given a causal problem we have seen that interventions allow us to compute thinds at population level. What would have happened if we treated things different from the beggining. Counterfactuals are allaws individual, and not population level treatment, like the causal interventions.\n",
    "\n",
    "Consider a Treatment $T$ and the recovery rate $R$. Consider the cse in which when we get the treatment, the patient recovers 90% of the times $N_R$, noise variables, taht singles each the individuals up. This means, sometimes an individual may take the treatment but not recover, and this is given by this noise. We have $\\boxed{T} \\rightarrow \\boxed{R}$, we have $T=1$ gives $R=\\rho$ which is a fact, and then the counterfact $T=0\\rightarrow R_2$, considering the noises $N_t, N_r$. Then we have $R=T \\cdot N_R + (1- T)(1- N_R)$, if we take the errors to 0: $R=(1-T)$, so if we take the treatment then we recover.\n",
    "\n",
    "Usually, we have to see the facts, adjust the distributions and find the noises for each variable. We look for the distributions of the noise that are compatible with the data set. So then we can study the distribution and situation we would have if the data was different. We can create then causal compatible data from the distributions.\n",
    "\n",
    "Counterfactuals allows us to know if the individuals are being discriminated, while causality give us whether the institution is discriminating. \n",
    "\n",
    "We are not making assumptions over"
   ]
  },
  {
   "cell_type": "code",
   "execution_count": null,
   "id": "9def8fb2-0dce-4b68-a02b-a16a225dbd1f",
   "metadata": {},
   "outputs": [],
   "source": []
  }
 ],
 "metadata": {
  "kernelspec": {
   "display_name": "Python 3 (ipykernel)",
   "language": "python",
   "name": "python3"
  },
  "language_info": {
   "codemirror_mode": {
    "name": "ipython",
    "version": 3
   },
   "file_extension": ".py",
   "mimetype": "text/x-python",
   "name": "python",
   "nbconvert_exporter": "python",
   "pygments_lexer": "ipython3",
   "version": "3.9.7"
  }
 },
 "nbformat": 4,
 "nbformat_minor": 5
}
