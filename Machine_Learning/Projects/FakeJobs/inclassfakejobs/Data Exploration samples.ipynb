{
 "cells": [
  {
   "cell_type": "code",
   "execution_count": null,
   "id": "ebdf399f",
   "metadata": {},
   "outputs": [],
   "source": [
    "dl_tr=pd.read_csv('./train.csv',header=None)\n",
    "data = np.asarray(dl_tr)\n",
    "X = data[:,:-1]\n",
    "y = data[:,-1]\n",
    "\n",
    "numeric = pd.concat([dl_train['telecommuting'], dl_train['has_company_logo'], dl_train['has_questions'], dl_train['required_doughnuts_comsumption']], axis=1)\n",
    "numeric_matrix = np.asmatrix(numeric)\n",
    "print(numeric_matrix)\n",
    "\n",
    "clf = tree.DecisionTreeClassifier()\n",
    "Y2 = y[1:len(y)]\n",
    "clf.fit(numeric_matrix, Y2)\n",
    "yhat = clf.predict(numeric_matrix,-1)\n",
    "print(yhat)\n",
    "\n",
    "numeric_te = pd.concat([dl_test['telecommuting'], dl_test['has_company_logo'], dl_test['has_questions'], dl_test['doughnuts_comsumption']], axis=1)\n",
    "numeric_matrix_te = np.asmatrix(numeric_te)\n",
    "print(numeric_matrix_te)\n",
    "\n",
    "yhat_te = clf.predict(numeric_matrix_te,-1)\n",
    "print(yhat_te)\n",
    "\n",
    "example = dl_ex['Category']\n",
    "print(example)\n",
    "print(yhat_te.astype(np.float))\n",
    "metrics.accuracy_score(example,yhat_te.astype(np.float))"
   ]
  },
  {
   "cell_type": "code",
   "execution_count": 2,
   "id": "927ba66e",
   "metadata": {},
   "outputs": [
    {
     "name": "stdout",
     "output_type": "stream",
     "text": [
      "Private\n"
     ]
    }
   ],
   "source": [
    "class Tutorial:\n",
    "    def __init__(self, message: str = 'hello') -> None:\n",
    "        self.dummy_integer: int = 0\n",
    "        self.attribute_2: str = message\n",
    "        self._variable = 'Private'\n",
    "\n",
    "    def print(self) -> int:\n",
    "        print(self.attribute_2, \"world!\")\n",
    "        return 1\n",
    "\n",
    "\n",
    "class_object: Tutorial = Tutorial('Hi')\n",
    "\n",
    "# print(class_object.dummy_integer)\n",
    "# print(\"Attribute 2:\", class_object.attribute_2)\n",
    "# a: float = 1.0\n",
    "# a = class_object.print()\n",
    "print(class_object._variable)"
   ]
  },
  {
   "cell_type": "code",
   "execution_count": null,
   "id": "84070875",
   "metadata": {},
   "outputs": [],
   "source": []
  }
 ],
 "metadata": {
  "kernelspec": {
   "display_name": "Python 3 (ipykernel)",
   "language": "python",
   "name": "python3"
  },
  "language_info": {
   "codemirror_mode": {
    "name": "ipython",
    "version": 3
   },
   "file_extension": ".py",
   "mimetype": "text/x-python",
   "name": "python",
   "nbconvert_exporter": "python",
   "pygments_lexer": "ipython3",
   "version": "3.9.7"
  }
 },
 "nbformat": 4,
 "nbformat_minor": 5
}
